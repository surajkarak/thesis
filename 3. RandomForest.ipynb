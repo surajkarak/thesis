{
 "cells": [
  {
   "cell_type": "code",
   "execution_count": 91,
   "metadata": {},
   "outputs": [],
   "source": [
    "#Importing libraries\n",
    "import warnings\n",
    "warnings.simplefilter(action='ignore', category=FutureWarning)\n",
    "import numpy as np\n",
    "import pandas as pd\n",
    "from numpy import asarray\n",
    "from sklearn.metrics import mean_absolute_error\n",
    "from sklearn.metrics import mean_squared_error\n",
    "import matplotlib.pyplot as plt\n",
    "import seaborn as sns\n",
    "import matplotlib.pyplot as plt\n",
    "import plotly.express as px\n",
    "import plotly.graph_objects as go\n",
    "from plotly.subplots import make_subplots\n",
    "import datetime\n",
    "from statsmodels.tsa.tsatools import lagmat\n",
    "from statsmodels.tsa.arima.model import ARIMA\n",
    "from pandas import concat\n"
   ]
  },
  {
   "attachments": {},
   "cell_type": "markdown",
   "metadata": {},
   "source": [
    "# Data Import and Cleaning"
   ]
  },
  {
   "cell_type": "code",
   "execution_count": 92,
   "metadata": {},
   "outputs": [],
   "source": [
    "df = pd.read_excel(\"/Users/surajkwork/Documents/Thesis/thesis/df.xlsx\")"
   ]
  },
  {
   "attachments": {},
   "cell_type": "markdown",
   "metadata": {},
   "source": [
    "The date variable is not in datetime format so it has to be converted."
   ]
  },
  {
   "cell_type": "code",
   "execution_count": 93,
   "metadata": {},
   "outputs": [],
   "source": [
    "df['date']= pd.to_datetime(df['date'])\n",
    "df.index = df['date']\n",
    "df.sort_index(inplace=True)"
   ]
  },
  {
   "attachments": {},
   "cell_type": "markdown",
   "metadata": {},
   "source": [
    "Extracting one cluster from the dataset for analysis."
   ]
  },
  {
   "cell_type": "code",
   "execution_count": 94,
   "metadata": {},
   "outputs": [],
   "source": [
    "TS1 = df[(df['Plz'] == \"['25', '24']\")]"
   ]
  },
  {
   "attachments": {},
   "cell_type": "markdown",
   "metadata": {},
   "source": [
    "And from this cluster, extracting one category for analysis."
   ]
  },
  {
   "cell_type": "code",
   "execution_count": 95,
   "metadata": {},
   "outputs": [],
   "source": [
    "TS1_A2 = TS1[TS1['full'] == 'A2 -  geschreddert']"
   ]
  },
  {
   "cell_type": "code",
   "execution_count": 96,
   "metadata": {},
   "outputs": [],
   "source": [
    "TS1_A1A2 = TS1[TS1['full'] == 'A1 & A2 -  geschreddert']\n",
    "TS1_A2A3 = TS1[TS1['full'] == 'A2 & A3 -  geschreddert']"
   ]
  },
  {
   "attachments": {},
   "cell_type": "markdown",
   "metadata": {},
   "source": [
    "# Modelling - Train, test split"
   ]
  },
  {
   "attachments": {},
   "cell_type": "markdown",
   "metadata": {},
   "source": [
    "# Random Forest"
   ]
  },
  {
   "cell_type": "code",
   "execution_count": 97,
   "metadata": {},
   "outputs": [],
   "source": [
    "# transform a time series dataset into a supervised learning dataset\n",
    "def series_to_supervised(data, n_in=1, n_out=1, dropnan=True):\n",
    " n_vars = 1 if type(data) is list else data.shape[1]\n",
    " df = pd.DataFrame(data)\n",
    " cols = list()\n",
    " # input sequence (t-n, ... t-1)\n",
    " for i in range(n_in, 0, -1):\n",
    "    cols.append(df.shift(i))\n",
    " # forecast sequence (t, t+1, ... t+n)\n",
    " for i in range(0, n_out):\n",
    "    cols.append(df.shift(-i))\n",
    "    # put it all together\n",
    "    agg = concat(cols, axis=1)\n",
    "# drop rows with NaN values\n",
    " if dropnan:\n",
    "    agg.dropna(inplace=True)\n",
    " return agg.values"
   ]
  },
  {
   "cell_type": "code",
   "execution_count": 98,
   "metadata": {},
   "outputs": [],
   "source": [
    "X = TS1_A1A2[\"wPreis\"].values.reshape(-1, 1)\n"
   ]
  },
  {
   "cell_type": "code",
   "execution_count": 99,
   "metadata": {},
   "outputs": [],
   "source": [
    "rf_data = series_to_supervised(X, n_in=4)"
   ]
  },
  {
   "cell_type": "code",
   "execution_count": 100,
   "metadata": {},
   "outputs": [],
   "source": [
    "\n",
    "# split a univariate dataset into train/test sets\n",
    "def train_test_split(data, n_test):\n",
    " return data[:-n_test, :], data[-n_test:, :]"
   ]
  },
  {
   "attachments": {},
   "cell_type": "markdown",
   "metadata": {},
   "source": [
    "### Walk-forward validation"
   ]
  },
  {
   "cell_type": "code",
   "execution_count": 101,
   "metadata": {},
   "outputs": [],
   "source": [
    "from sklearn.ensemble import RandomForestRegressor"
   ]
  },
  {
   "cell_type": "code",
   "execution_count": 102,
   "metadata": {},
   "outputs": [],
   "source": [
    "# walk-forward validation for univariate data\n",
    "def rf_walk_forward_validation(data, n_test):\n",
    " predictions = list()\n",
    " direction_accuracies = list() \n",
    " # split dataset\n",
    " train, test = train_test_split(data, n_test)\n",
    " # seed history with training dataset\n",
    " history = [x for x in train]\n",
    " # step over each time-step in the test set\n",
    " for i in range(len(test)):\n",
    "    # split test row into input and output columns\n",
    "    testX, testy = test[i, :-1], test[i, -1]\n",
    "    # fit model on history and make a prediction\n",
    "    yhat = random_forest_forecast(history, testX)\n",
    "    # store forecast in list of predictions\n",
    "    predictions.append(yhat)\n",
    "    if i > 0:  # Direction accuracy is not applicable for the first prediction\n",
    "            forecast_diff = yhat - predictions[-2]\n",
    "            actual_diff = testy - test[i - 1, -1]\n",
    "            direction_accuracy = int(np.sign(forecast_diff) == np.sign(actual_diff))\n",
    "            direction_accuracies.append(direction_accuracy)\n",
    "    # add actual observation to history for the next loop\n",
    "    history.append(test[i])\n",
    "    # summarize progress\n",
    "    print('>expected=%.1f, predicted=%.1f' % (testy, yhat))\n",
    " # estimate prediction error\n",
    " error = mean_absolute_error(test[:, -1], predictions)\n",
    " me = np.mean(predictions - test[:, -1])  # Mean Error\n",
    " rmse = mean_squared_error(test[:, -1], predictions, squared=False)\n",
    " overall_direction_accuracy = np.mean(direction_accuracies)\n",
    "\n",
    " return error, me, rmse ,test[:, -1], predictions, overall_direction_accuracy "
   ]
  },
  {
   "cell_type": "code",
   "execution_count": 103,
   "metadata": {},
   "outputs": [],
   "source": [
    "# fit an random forest model and make a one step prediction\n",
    "def random_forest_forecast(train, testX):\n",
    " # transform list into array\n",
    " train = asarray(train)\n",
    " # split into input and output columns\n",
    " trainX, trainy = train[:, :-1], train[:, -1]\n",
    " # fit model\n",
    " model = RandomForestRegressor(n_estimators=1000, random_state=42)\n",
    " model.fit(trainX, trainy)\n",
    " # make a one-step prediction\n",
    " yhat = model.predict([testX])\n",
    " return yhat[0]"
   ]
  },
  {
   "cell_type": "code",
   "execution_count": 104,
   "metadata": {},
   "outputs": [
    {
     "name": "stdout",
     "output_type": "stream",
     "text": [
      ">expected=7.5, predicted=15.2\n",
      ">expected=7.8, predicted=8.6\n"
     ]
    },
    {
     "name": "stdout",
     "output_type": "stream",
     "text": [
      ">expected=3.5, predicted=10.4\n",
      ">expected=3.9, predicted=7.3\n",
      ">expected=6.8, predicted=6.6\n",
      ">expected=2.1, predicted=6.7\n",
      "MAE: 3.947\n",
      "ME: 3.900\n",
      "RMSE: 4.866\n",
      "Direction Accuracy: 0.000\n"
     ]
    },
    {
     "data": {
      "image/png": "[encoded data removed]",
      "text/plain": [
       "<Figure size 640x480 with 1 Axes>"
      ]
     },
     "metadata": {},
     "output_type": "display_data"
    }
   ],
   "source": [
    "# evaluate\n",
    "mae, me, rmse, y, yhat, direction_accuracy = rf_walk_forward_validation(rf_data, 6)\n",
    "print('MAE: %.3f' % mae)\n",
    "print('ME: %.3f' % me)\n",
    "print('RMSE: %.3f' % rmse)\n",
    "print('Direction Accuracy: %.3f' % direction_accuracy)\n",
    "# plot expected vs preducted\n",
    "plt.plot(y, label='Expected')\n",
    "plt.plot(yhat, label='Predicted')\n",
    "plt.legend()\n",
    "plt.show()"
   ]
  },
  {
   "attachments": {},
   "cell_type": "markdown",
   "metadata": {},
   "source": [
    "### Rolling forecast for Random Forest  "
   ]
  },
  {
   "cell_type": "markdown",
   "metadata": {},
   "source": [
    "Since this method uses 4 lagged values as input for predicting the next step, we are exposing the test data set in every iteration. So essentially this is a forecast with a window of \"input\" moving along the test set, predicting one step at a time, but having been trained on the original training set only once."
   ]
  },
  {
   "cell_type": "code",
   "execution_count": 105,
   "metadata": {},
   "outputs": [],
   "source": [
    "train, test = train_test_split(rf_data, 6)\n"
   ]
  },
  {
   "cell_type": "code",
   "execution_count": 106,
   "metadata": {},
   "outputs": [
    {
     "data": {
      "text/plain": [
       "array([[18.51417816, 28.98555411, 16.84723416,  4.06330439,  7.45821383],\n",
       "       [28.98555411, 16.84723416,  4.06330439,  7.45821383,  7.83274999],\n",
       "       [16.84723416,  4.06330439,  7.45821383,  7.83274999,  3.52511322],\n",
       "       [ 4.06330439,  7.45821383,  7.83274999,  3.52511322,  3.89640241],\n",
       "       [ 7.45821383,  7.83274999,  3.52511322,  3.89640241,  6.75448265],\n",
       "       [ 7.83274999,  3.52511322,  3.89640241,  6.75448265,  2.0532646 ]])"
      ]
     },
     "execution_count": 106,
     "metadata": {},
     "output_type": "execute_result"
    }
   ],
   "source": [
    "test"
   ]
  },
  {
   "cell_type": "code",
   "execution_count": 107,
   "metadata": {},
   "outputs": [],
   "source": [
    "train = asarray(train)"
   ]
  },
  {
   "cell_type": "code",
   "execution_count": 108,
   "metadata": {},
   "outputs": [],
   "source": [
    "trainX, trainy = train[:, :-1], train[:, -1]\n"
   ]
  },
  {
   "cell_type": "code",
   "execution_count": 109,
   "metadata": {},
   "outputs": [
    {
     "data": {
      "text/html": [
       "<style>#sk-container-id-4 {color: black;background-color: white;}#sk-container-id-4 pre{padding: 0;}#sk-container-id-4 div.sk-toggleable {background-color: white;}#sk-container-id-4 label.sk-toggleable__label {cursor: pointer;display: block;width: 100%;margin-bottom: 0;padding: 0.3em;box-sizing: border-box;text-align: center;}#sk-container-id-4 label.sk-toggleable__label-arrow:before {content: \"▸\";float: left;margin-right: 0.25em;color: #696969;}#sk-container-id-4 label.sk-toggleable__label-arrow:hover:before {color: black;}#sk-container-id-4 div.sk-estimator:hover label.sk-toggleable__label-arrow:before {color: black;}#sk-container-id-4 div.sk-toggleable__content {max-height: 0;max-width: 0;overflow: hidden;text-align: left;background-color: #f0f8ff;}#sk-container-id-4 div.sk-toggleable__content pre {margin: 0.2em;color: black;border-radius: 0.25em;background-color: #f0f8ff;}#sk-container-id-4 input.sk-toggleable__control:checked~div.sk-toggleable__content {max-height: 200px;max-width: 100%;overflow: auto;}#sk-container-id-4 input.sk-toggleable__control:checked~label.sk-toggleable__label-arrow:before {content: \"▾\";}#sk-container-id-4 div.sk-estimator input.sk-toggleable__control:checked~label.sk-toggleable__label {background-color: #d4ebff;}#sk-container-id-4 div.sk-label input.sk-toggleable__control:checked~label.sk-toggleable__label {background-color: #d4ebff;}#sk-container-id-4 input.sk-hidden--visually {border: 0;clip: rect(1px 1px 1px 1px);clip: rect(1px, 1px, 1px, 1px);height: 1px;margin: -1px;overflow: hidden;padding: 0;position: absolute;width: 1px;}#sk-container-id-4 div.sk-estimator {font-family: monospace;background-color: #f0f8ff;border: 1px dotted black;border-radius: 0.25em;box-sizing: border-box;margin-bottom: 0.5em;}#sk-container-id-4 div.sk-estimator:hover {background-color: #d4ebff;}#sk-container-id-4 div.sk-parallel-item::after {content: \"\";width: 100%;border-bottom: 1px solid gray;flex-grow: 1;}#sk-container-id-4 div.sk-label:hover label.sk-toggleable__label {background-color: #d4ebff;}#sk-container-id-4 div.sk-serial::before {content: \"\";position: absolute;border-left: 1px solid gray;box-sizing: border-box;top: 0;bottom: 0;left: 50%;z-index: 0;}#sk-container-id-4 div.sk-serial {display: flex;flex-direction: column;align-items: center;background-color: white;padding-right: 0.2em;padding-left: 0.2em;position: relative;}#sk-container-id-4 div.sk-item {position: relative;z-index: 1;}#sk-container-id-4 div.sk-parallel {display: flex;align-items: stretch;justify-content: center;background-color: white;position: relative;}#sk-container-id-4 div.sk-item::before, #sk-container-id-4 div.sk-parallel-item::before {content: \"\";position: absolute;border-left: 1px solid gray;box-sizing: border-box;top: 0;bottom: 0;left: 50%;z-index: -1;}#sk-container-id-4 div.sk-parallel-item {display: flex;flex-direction: column;z-index: 1;position: relative;background-color: white;}#sk-container-id-4 div.sk-parallel-item:first-child::after {align-self: flex-end;width: 50%;}#sk-container-id-4 div.sk-parallel-item:last-child::after {align-self: flex-start;width: 50%;}#sk-container-id-4 div.sk-parallel-item:only-child::after {width: 0;}#sk-container-id-4 div.sk-dashed-wrapped {border: 1px dashed gray;margin: 0 0.4em 0.5em 0.4em;box-sizing: border-box;padding-bottom: 0.4em;background-color: white;}#sk-container-id-4 div.sk-label label {font-family: monospace;font-weight: bold;display: inline-block;line-height: 1.2em;}#sk-container-id-4 div.sk-label-container {text-align: center;}#sk-container-id-4 div.sk-container {/* jupyter's `normalize.less` sets `[hidden] { display: none; }` but bootstrap.min.css set `[hidden] { display: none !important; }` so we also need the `!important` here to be able to override the default hidden behavior on the sphinx rendered scikit-learn.org. See: https://github.com/scikit-learn/scikit-learn/issues/21755 */display: inline-block !important;position: relative;}#sk-container-id-4 div.sk-text-repr-fallback {display: none;}</style><div id=\"sk-container-id-4\" class=\"sk-top-container\"><div class=\"sk-text-repr-fallback\"><pre>RandomForestRegressor(n_estimators=1000, random_state=42)</pre><b>In a Jupyter environment, please rerun this cell to show the HTML representation or trust the notebook. <br />On GitHub, the HTML representation is unable to render, please try loading this page with nbviewer.org.</b></div><div class=\"sk-container\" hidden><div class=\"sk-item\"><div class=\"sk-estimator sk-toggleable\"><input class=\"sk-toggleable__control sk-hidden--visually\" id=\"sk-estimator-id-4\" type=\"checkbox\" checked><label for=\"sk-estimator-id-4\" class=\"sk-toggleable__label sk-toggleable__label-arrow\">RandomForestRegressor</label><div class=\"sk-toggleable__content\"><pre>RandomForestRegressor(n_estimators=1000, random_state=42)</pre></div></div></div></div></div>"
      ],
      "text/plain": [
       "RandomForestRegressor(n_estimators=1000, random_state=42)"
      ]
     },
     "execution_count": 109,
     "metadata": {},
     "output_type": "execute_result"
    }
   ],
   "source": [
    "model_rf_rolling = RandomForestRegressor(n_estimators=1000, random_state=42)\n",
    "model_rf_rolling.fit(trainX, trainy)"
   ]
  },
  {
   "cell_type": "code",
   "execution_count": 110,
   "metadata": {},
   "outputs": [],
   "source": [
    "predictions = list()\n",
    "direction_accuracies = list() "
   ]
  },
  {
   "cell_type": "code",
   "execution_count": 111,
   "metadata": {},
   "outputs": [
    {
     "name": "stdout",
     "output_type": "stream",
     "text": [
      "[18.51417816 28.98555411 16.84723416  4.06330439]\n",
      "[28.98555411 16.84723416  4.06330439  7.45821383]\n",
      "[16.84723416  4.06330439  7.45821383  7.83274999]\n",
      "[4.06330439 7.45821383 7.83274999 3.52511322]\n",
      "[7.45821383 7.83274999 3.52511322 3.89640241]\n",
      "[7.83274999 3.52511322 3.89640241 6.75448265]\n"
     ]
    }
   ],
   "source": [
    "for i in range(len(test)):\n",
    "    print(test[i, :-1])"
   ]
  },
  {
   "cell_type": "code",
   "execution_count": 112,
   "metadata": {},
   "outputs": [
    {
     "data": {
      "text/plain": [
       "array([[18.51417816, 28.98555411, 16.84723416,  4.06330439,  7.45821383],\n",
       "       [28.98555411, 16.84723416,  4.06330439,  7.45821383,  7.83274999],\n",
       "       [16.84723416,  4.06330439,  7.45821383,  7.83274999,  3.52511322],\n",
       "       [ 4.06330439,  7.45821383,  7.83274999,  3.52511322,  3.89640241],\n",
       "       [ 7.45821383,  7.83274999,  3.52511322,  3.89640241,  6.75448265],\n",
       "       [ 7.83274999,  3.52511322,  3.89640241,  6.75448265,  2.0532646 ]])"
      ]
     },
     "execution_count": 112,
     "metadata": {},
     "output_type": "execute_result"
    }
   ],
   "source": [
    "test"
   ]
  },
  {
   "cell_type": "code",
   "execution_count": 113,
   "metadata": {},
   "outputs": [
    {
     "name": "stdout",
     "output_type": "stream",
     "text": [
      "[18.51417816 28.98555411 16.84723416  4.06330439]\n",
      ">expected=7.5, predicted=15.2\n",
      "[28.98555411 16.84723416  4.06330439  7.45821383]\n",
      ">expected=7.8, predicted=8.1\n",
      "[16.84723416  4.06330439  7.45821383  7.83274999]\n",
      ">expected=3.5, predicted=11.2\n",
      "[4.06330439 7.45821383 7.83274999 3.52511322]\n",
      ">expected=3.9, predicted=6.5\n",
      "[7.45821383 7.83274999 3.52511322 3.89640241]\n",
      ">expected=6.8, predicted=6.6\n",
      "[7.83274999 3.52511322 3.89640241 6.75448265]\n",
      ">expected=2.1, predicted=5.0\n"
     ]
    }
   ],
   "source": [
    "for i in range(len(test)):\n",
    "    # split test row into input and output columns\n",
    "    testX, testy = test[i, :-1], test[i, -1]\n",
    "    # ONLY MAKE ONE-STEP PREDICTIONS BASED ON MODEL TRAINED ONCE \n",
    "    print(testX)\n",
    "    yhat = model_rf_rolling.predict([testX])\n",
    "    # store forecast in list of predictions\n",
    "    predictions.append(yhat)\n",
    "    if i > 0:  # Direction accuracy is not applicable for the first prediction\n",
    "            forecast_diff = yhat - predictions[-2]\n",
    "            actual_diff = testy - test[i - 1, -1]\n",
    "            direction_accuracy = int(np.sign(forecast_diff) == np.sign(actual_diff))\n",
    "            direction_accuracies.append(direction_accuracy)\n",
    "    # summarize progress\n",
    "    print('>expected=%.1f, predicted=%.1f' % (testy, yhat))\n"
   ]
  },
  {
   "cell_type": "code",
   "execution_count": 114,
   "metadata": {},
   "outputs": [
    {
     "data": {
      "text/plain": [
       "array([4.97428635])"
      ]
     },
     "execution_count": 114,
     "metadata": {},
     "output_type": "execute_result"
    }
   ],
   "source": [
    "yhat"
   ]
  },
  {
   "cell_type": "code",
   "execution_count": 115,
   "metadata": {},
   "outputs": [
    {
     "data": {
      "text/plain": [
       "[array([15.23229585]),\n",
       " array([8.05535681]),\n",
       " array([11.2197097]),\n",
       " array([6.50977701]),\n",
       " array([6.62761812]),\n",
       " array([4.97428635])]"
      ]
     },
     "execution_count": 115,
     "metadata": {},
     "output_type": "execute_result"
    }
   ],
   "source": [
    "predictions"
   ]
  },
  {
   "cell_type": "code",
   "execution_count": 116,
   "metadata": {},
   "outputs": [],
   "source": [
    "error = mean_absolute_error(test[:, -1], predictions)\n",
    "me = np.mean(predictions - test[:, -1])  # Mean Error\n",
    "rmse = mean_squared_error(test[:, -1], predictions, squared=False)\n",
    "overall_direction_accuracy = np.mean(direction_accuracies)\n",
    "\n",
    "#return error, me, rmse ,test[:, -1], predictions, overall_direction_accuracy "
   ]
  },
  {
   "cell_type": "code",
   "execution_count": 118,
   "metadata": {},
   "outputs": [
    {
     "name": "stdout",
     "output_type": "stream",
     "text": [
      "Forecast accuracy for Rolling Forecast with Random Forest\n",
      "MAE: 3.559\n",
      "ME: 3.516\n",
      "RMSE: 4.745\n",
      "Direction Accuracy: 0.400\n"
     ]
    },
    {
     "data": {
      "image/png": "[encoded data removed]",
      "text/plain": [
       "<Figure size 640x480 with 1 Axes>"
      ]
     },
     "metadata": {},
     "output_type": "display_data"
    }
   ],
   "source": [
    "#print('MAE: %.3f' % mae)\n",
    "print('Forecast accuracy for Rolling Forecast with Random Forest')\n",
    "print('MAE: %.3f' % error)\n",
    "print('ME: %.3f' % me)\n",
    "print('RMSE: %.3f' % rmse)\n",
    "print('Direction Accuracy: %.3f' % overall_direction_accuracy)\n",
    "# plot expected vs preducted\n",
    "plt.plot(y, label='Expected')\n",
    "plt.plot(predictions, label='Predicted')\n",
    "plt.legend()\n",
    "plt.show()"
   ]
  },
  {
   "cell_type": "markdown",
   "metadata": {},
   "source": [
    "## Static (Multi-step) Forecast\n",
    "\n",
    "Since the above methods use the 4-week lagged values as inputs, it is not possible to use the same method to do static (multi-step) forecasting. For this, we will need to train the model on the original training dataset, not expose it to the test data set and ask it to predict for 6 steps ahead. \n",
    "\n",
    "This can be achieved using the ForecasterAutoreg class from the SKforecast package. This class turns any regressor compatible with the scikit-learn API into a\n",
    "recursive autoregressive (multi-step) forecaster."
   ]
  },
  {
   "cell_type": "code",
   "execution_count": 35,
   "metadata": {},
   "outputs": [],
   "source": [
    "from skforecast.ForecasterAutoreg import ForecasterAutoreg"
   ]
  },
  {
   "cell_type": "code",
   "execution_count": 36,
   "metadata": {},
   "outputs": [],
   "source": [
    "forecaster_rf = ForecasterAutoreg(\n",
    "                    regressor = RandomForestRegressor(random_state=963),\n",
    "                    lags      = 4\n",
    "                )"
   ]
  },
  {
   "cell_type": "code",
   "execution_count": 37,
   "metadata": {},
   "outputs": [],
   "source": [
    " y_train = df_train['wPreis']"
   ]
  },
  {
   "cell_type": "code",
   "execution_count": 38,
   "metadata": {},
   "outputs": [
    {
     "name": "stderr",
     "output_type": "stream",
     "text": [
      "/Library/Frameworks/Python.framework/Versions/3.11/lib/python3.11/site-packages/skforecast/utils/utils.py:805: UserWarning: `y` has DatetimeIndex index but no frequency. Index is overwritten with a RangeIndex of step 1.\n",
      "  warnings.warn(\n",
      "/Library/Frameworks/Python.framework/Versions/3.11/lib/python3.11/site-packages/skforecast/utils/utils.py:805: UserWarning: `y` has DatetimeIndex index but no frequency. Index is overwritten with a RangeIndex of step 1.\n",
      "  warnings.warn(\n"
     ]
    }
   ],
   "source": [
    "# Now you can pass y_train to forecaster.fit()\n",
    "forecaster_rf.fit(y=y_train)"
   ]
  },
  {
   "cell_type": "code",
   "execution_count": 39,
   "metadata": {},
   "outputs": [
    {
     "name": "stderr",
     "output_type": "stream",
     "text": [
      "/Library/Frameworks/Python.framework/Versions/3.11/lib/python3.11/site-packages/skforecast/utils/utils.py:867: UserWarning: `last_window` has DatetimeIndex index but no frequency. Index is overwritten with a RangeIndex of step 1.\n",
      "  warnings.warn(\n"
     ]
    }
   ],
   "source": [
    "predicted_test = forecaster_rf.predict(steps = len(df_test))"
   ]
  },
  {
   "cell_type": "code",
   "execution_count": 40,
   "metadata": {},
   "outputs": [],
   "source": [
    "def forecast_accuracy(forecast, actual):\n",
    "      me = np.mean(forecast - actual)             # ME\n",
    "      rmse = np.mean((forecast - actual)**2)**.5  # RMSE\n",
    "      # Direction accuracy\n",
    "      forecast_diff = np.diff(forecast)\n",
    "      actual_diff = np.diff(actual)\n",
    "      direction_accuracy = np.mean(np.sign(forecast_diff) == np.sign(actual_diff))\n",
    "    \n",
    "      return {'me': me, 'rmse': rmse, 'direction_accuracy': direction_accuracy}\n"
   ]
  },
  {
   "cell_type": "code",
   "execution_count": 41,
   "metadata": {},
   "outputs": [],
   "source": [
    "predicted_test.index = df_test.index\n"
   ]
  },
  {
   "cell_type": "code",
   "execution_count": 42,
   "metadata": {},
   "outputs": [
    {
     "name": "stdout",
     "output_type": "stream",
     "text": [
      "Random Forest Static Forecast Accuracy of: wPreis\n",
      "me     :  9.2806\n",
      "rmse   :  9.6618\n",
      "direction_accuracy :  0.4\n"
     ]
    }
   ],
   "source": [
    "def adjust(val, length= 6): return str(val).ljust(length) # length\n",
    "print('Random Forest Static Forecast Accuracy of: wPreis')\n",
    "accuracy_prod = forecast_accuracy(predicted_test, df_test['wPreis'])\n",
    "for k, v in accuracy_prod.items():\n",
    "    print(adjust(k), ': ', round(v,4))\n",
    "\n",
    "\n"
   ]
  },
  {
   "cell_type": "code",
   "execution_count": 43,
   "metadata": {},
   "outputs": [
    {
     "data": {
      "image/png": "[encoded data removed]",
      "text/plain": [
       "<Figure size 640x480 with 1 Axes>"
      ]
     },
     "metadata": {},
     "output_type": "display_data"
    }
   ],
   "source": [
    "# plot expected vs preducted\n",
    "plt.plot(df_test['wPreis'], label='Expected')\n",
    "plt.plot(predicted_test, label='Predicted')\n",
    "plt.legend()\n",
    "plt.show()"
   ]
  },
  {
   "cell_type": "markdown",
   "metadata": {},
   "source": []
  },
  {
   "cell_type": "markdown",
   "metadata": {},
   "source": []
  },
  {
   "cell_type": "markdown",
   "metadata": {},
   "source": []
  }
 ],
 "metadata": {
  "kernelspec": {
   "display_name": "Python 3",
   "language": "python",
   "name": "python3"
  },
  "language_info": {
   "codemirror_mode": {
    "name": "ipython",
    "version": 3
   },
   "file_extension": ".py",
   "mimetype": "text/x-python",
   "name": "python",
   "nbconvert_exporter": "python",
   "pygments_lexer": "ipython3",
   "version": "3.11.2"
  },
  "orig_nbformat": 4
 },
 "nbformat": 4,
 "nbformat_minor": 2
}
