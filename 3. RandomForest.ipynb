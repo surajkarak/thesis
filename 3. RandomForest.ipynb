{
 "cells": [
  {
   "cell_type": "code",
   "execution_count": 1,
   "metadata": {},
   "outputs": [],
   "source": [
    "#Importing libraries\n",
    "import warnings\n",
    "warnings.simplefilter(action='ignore', category=FutureWarning)\n",
    "import numpy as np\n",
    "import pandas as pd\n",
    "from numpy import asarray\n",
    "from sklearn.metrics import mean_absolute_error\n",
    "from sklearn.metrics import mean_squared_error\n",
    "import matplotlib.pyplot as plt\n",
    "import seaborn as sns\n",
    "import matplotlib.pyplot as plt\n",
    "import plotly.express as px\n",
    "import plotly.graph_objects as go\n",
    "from plotly.subplots import make_subplots\n",
    "import datetime\n",
    "from statsmodels.tsa.tsatools import lagmat\n",
    "from statsmodels.tsa.arima.model import ARIMA\n",
    "from pandas import concat\n"
   ]
  },
  {
   "attachments": {},
   "cell_type": "markdown",
   "metadata": {},
   "source": [
    "# Data Import and Cleaning"
   ]
  },
  {
   "cell_type": "code",
   "execution_count": 2,
   "metadata": {},
   "outputs": [],
   "source": [
    "df = pd.read_excel(\"/Users/surajkwork/Documents/Thesis/thesis/df.xlsx\")"
   ]
  },
  {
   "attachments": {},
   "cell_type": "markdown",
   "metadata": {},
   "source": [
    "The date variable is not in datetime format so it has to be converted."
   ]
  },
  {
   "cell_type": "code",
   "execution_count": 3,
   "metadata": {},
   "outputs": [],
   "source": [
    "df['date']= pd.to_datetime(df['date'])\n",
    "df.index = df['date']\n",
    "df.sort_index(inplace=True)"
   ]
  },
  {
   "attachments": {},
   "cell_type": "markdown",
   "metadata": {},
   "source": [
    "Extracting one cluster from the dataset for analysis."
   ]
  },
  {
   "cell_type": "code",
   "execution_count": 4,
   "metadata": {},
   "outputs": [],
   "source": [
    "TS1 = df[(df['Plz'] == \"['25', '24']\")]"
   ]
  },
  {
   "attachments": {},
   "cell_type": "markdown",
   "metadata": {},
   "source": [
    "And from this cluster, extracting one category for analysis."
   ]
  },
  {
   "cell_type": "code",
   "execution_count": 5,
   "metadata": {},
   "outputs": [],
   "source": [
    "TS1_A2 = TS1[TS1['full'] == 'A2 -  geschreddert']"
   ]
  },
  {
   "cell_type": "code",
   "execution_count": 6,
   "metadata": {},
   "outputs": [],
   "source": [
    "TS1_A1A2 = TS1[TS1['full'] == 'A1 & A2 -  geschreddert']\n",
    "TS1_A2A3 = TS1[TS1['full'] == 'A2 & A3 -  geschreddert']"
   ]
  },
  {
   "attachments": {},
   "cell_type": "markdown",
   "metadata": {},
   "source": [
    "# Modelling - Train, test split"
   ]
  },
  {
   "cell_type": "code",
   "execution_count": 7,
   "metadata": {},
   "outputs": [],
   "source": [
    "nobs = 6\n",
    "df_train, df_test = TS1_A1A2[0:-nobs], TS1_A1A2[-nobs:]"
   ]
  },
  {
   "attachments": {},
   "cell_type": "markdown",
   "metadata": {},
   "source": [
    "# Random Forest"
   ]
  },
  {
   "cell_type": "code",
   "execution_count": 12,
   "metadata": {},
   "outputs": [],
   "source": [
    "# transform a time series dataset into a supervised learning dataset\n",
    "def series_to_supervised(data, n_in=1, n_out=1, dropnan=True):\n",
    " n_vars = 1 if type(data) is list else data.shape[1]\n",
    " df = pd.DataFrame(data)\n",
    " cols = list()\n",
    " # input sequence (t-n, ... t-1)\n",
    " for i in range(n_in, 0, -1):\n",
    "    cols.append(df.shift(i))\n",
    " # forecast sequence (t, t+1, ... t+n)\n",
    " for i in range(0, n_out):\n",
    "    cols.append(df.shift(-i))\n",
    "    # put it all together\n",
    "    agg = concat(cols, axis=1)\n",
    "# drop rows with NaN values\n",
    " if dropnan:\n",
    "    agg.dropna(inplace=True)\n",
    " return agg.values"
   ]
  },
  {
   "cell_type": "code",
   "execution_count": 21,
   "metadata": {},
   "outputs": [],
   "source": [
    "\n",
    "# split a univariate dataset into train/test sets\n",
    "def train_test_split(data, n_test):\n",
    " return data[:-n_test, :], data[-n_test:, :]"
   ]
  },
  {
   "attachments": {},
   "cell_type": "markdown",
   "metadata": {},
   "source": [
    "### Walk-forward validation"
   ]
  },
  {
   "cell_type": "code",
   "execution_count": 8,
   "metadata": {},
   "outputs": [],
   "source": [
    "# walk-forward validation for univariate data\n",
    "def rf_walk_forward_validation(data, n_test):\n",
    " predictions = list()\n",
    " direction_accuracies = list() \n",
    " # split dataset\n",
    " train, test = train_test_split(data, n_test)\n",
    " # seed history with training dataset\n",
    " history = [x for x in train]\n",
    " # step over each time-step in the test set\n",
    " for i in range(len(test)):\n",
    "    # split test row into input and output columns\n",
    "    testX, testy = test[i, :-1], test[i, -1]\n",
    "    # fit model on history and make a prediction\n",
    "    yhat = random_forest_forecast(history, testX)\n",
    "    # store forecast in list of predictions\n",
    "    predictions.append(yhat)\n",
    "    if i > 0:  # Direction accuracy is not applicable for the first prediction\n",
    "            forecast_diff = yhat - predictions[-2]\n",
    "            actual_diff = testy - test[i - 1, -1]\n",
    "            direction_accuracy = int(np.sign(forecast_diff) == np.sign(actual_diff))\n",
    "            direction_accuracies.append(direction_accuracy)\n",
    "    # add actual observation to history for the next loop\n",
    "    history.append(test[i])\n",
    "    # summarize progress\n",
    "    print('>expected=%.1f, predicted=%.1f' % (testy, yhat))\n",
    " # estimate prediction error\n",
    " error = mean_absolute_error(test[:, -1], predictions)\n",
    " me = np.mean(predictions - test[:, -1])  # Mean Error\n",
    " rmse = mean_squared_error(test[:, -1], predictions, squared=False)\n",
    " overall_direction_accuracy = np.mean(direction_accuracies)\n",
    "\n",
    " return error, me, rmse ,test[:, -1], predictions, overall_direction_accuracy "
   ]
  },
  {
   "cell_type": "code",
   "execution_count": 9,
   "metadata": {},
   "outputs": [],
   "source": [
    "from sklearn.ensemble import RandomForestRegressor"
   ]
  },
  {
   "cell_type": "code",
   "execution_count": 10,
   "metadata": {},
   "outputs": [],
   "source": [
    "# fit an random forest model and make a one step prediction\n",
    "def random_forest_forecast(train, testX):\n",
    " # transform list into array\n",
    " train = asarray(train)\n",
    " # split into input and output columns\n",
    " trainX, trainy = train[:, :-1], train[:, -1]\n",
    " # fit model\n",
    " model = RandomForestRegressor(n_estimators=1000)\n",
    " model.fit(trainX, trainy)\n",
    " # make a one-step prediction\n",
    " yhat = model.predict([testX])\n",
    " return yhat[0]"
   ]
  },
  {
   "cell_type": "code",
   "execution_count": 14,
   "metadata": {},
   "outputs": [],
   "source": [
    "X = TS1_A1A2[\"wPreis\"].values.reshape(-1, 1)\n"
   ]
  },
  {
   "cell_type": "code",
   "execution_count": 15,
   "metadata": {},
   "outputs": [
    {
     "data": {
      "text/plain": [
       "array([[-37.51931788],\n",
       "       [-28.69009585],\n",
       "       [-29.68807862],\n",
       "       [-25.6304334 ],\n",
       "       [-29.07379398],\n",
       "       [-24.93642602],\n",
       "       [-35.26209517],\n",
       "       [-28.06563229],\n",
       "       [-27.35874871],\n",
       "       [-28.21685813],\n",
       "       [-29.18520815],\n",
       "       [-32.36064526],\n",
       "       [-20.27214677],\n",
       "       [-18.80845203],\n",
       "       [-35.43666563],\n",
       "       [-23.58340467],\n",
       "       [-23.06625847],\n",
       "       [-22.99784234],\n",
       "       [-31.41962306],\n",
       "       [-25.46027349],\n",
       "       [-23.68194297],\n",
       "       [-21.47771259],\n",
       "       [-27.02904785],\n",
       "       [-24.82276444],\n",
       "       [-23.25520954],\n",
       "       [-25.32197924],\n",
       "       [-22.30413021],\n",
       "       [-23.38024324],\n",
       "       [-25.17015002],\n",
       "       [-20.85821571],\n",
       "       [-23.60348981],\n",
       "       [-24.86044273],\n",
       "       [-23.64540855],\n",
       "       [-25.72826243],\n",
       "       [-20.17778383],\n",
       "       [-26.36851112],\n",
       "       [-21.90534062],\n",
       "       [-23.64226891],\n",
       "       [-25.04513087],\n",
       "       [-24.65590187],\n",
       "       [-21.77319638],\n",
       "       [-24.9461431 ],\n",
       "       [-23.90837982],\n",
       "       [-25.23754357],\n",
       "       [-19.73324755],\n",
       "       [-24.54094226],\n",
       "       [-24.73818078],\n",
       "       [-22.97021231],\n",
       "       [-19.21154856],\n",
       "       [-16.66741517],\n",
       "       [-26.54786465],\n",
       "       [-22.45099313],\n",
       "       [-22.93310518],\n",
       "       [-23.38212367],\n",
       "       [-23.28028169],\n",
       "       [-26.65816299],\n",
       "       [-22.07703349],\n",
       "       [-17.78619097],\n",
       "       [-18.98931101],\n",
       "       [ -7.41127285],\n",
       "       [ -6.21131882],\n",
       "       [ -1.98035287],\n",
       "       [  1.61215148],\n",
       "       [  0.480841  ],\n",
       "       [  1.99070234],\n",
       "       [  5.50021781],\n",
       "       [ 10.84846928],\n",
       "       [ -5.71454615],\n",
       "       [ -2.60008135],\n",
       "       [ -0.30741325],\n",
       "       [  8.00688895],\n",
       "       [  7.29352445],\n",
       "       [ 11.90659032],\n",
       "       [ 11.88464344],\n",
       "       [ 14.97326405],\n",
       "       [ 14.46308047],\n",
       "       [ 12.99276544],\n",
       "       [ 15.5556141 ],\n",
       "       [ 17.64510072],\n",
       "       [ 12.42782904],\n",
       "       [ 17.67161689],\n",
       "       [ 18.16843231],\n",
       "       [ 13.76791371],\n",
       "       [ 11.49227657],\n",
       "       [ 21.43183754],\n",
       "       [ 19.05758114],\n",
       "       [ 19.05638567],\n",
       "       [ 14.24464252],\n",
       "       [ 14.73305223],\n",
       "       [ 11.89313843],\n",
       "       [ 20.35194191],\n",
       "       [ 17.20689191],\n",
       "       [ 23.50967079],\n",
       "       [ 29.8436271 ],\n",
       "       [ 33.8662963 ],\n",
       "       [ 33.07728873],\n",
       "       [ 40.82938591],\n",
       "       [ 30.46845159],\n",
       "       [ 34.17840321],\n",
       "       [ 32.93534806],\n",
       "       [ 39.7987606 ],\n",
       "       [ 40.11320504],\n",
       "       [ 50.3912752 ],\n",
       "       [ 56.23903155],\n",
       "       [ 54.01274875],\n",
       "       [ 55.8415234 ],\n",
       "       [ 54.63306048],\n",
       "       [ 64.31113949],\n",
       "       [ 56.73685274],\n",
       "       [ 54.01633463],\n",
       "       [ 56.26605181],\n",
       "       [ 60.67509344],\n",
       "       [ 54.88947804],\n",
       "       [ 54.9047283 ],\n",
       "       [ 59.0337707 ],\n",
       "       [ 49.48603152],\n",
       "       [ 60.4287912 ],\n",
       "       [ 63.33244357],\n",
       "       [ 56.47094205],\n",
       "       [ 53.84036452],\n",
       "       [ 60.88049388],\n",
       "       [ 61.03731794],\n",
       "       [ 59.19415193],\n",
       "       [ 58.59646779],\n",
       "       [ 64.03122334],\n",
       "       [ 51.53310596],\n",
       "       [ 50.49505391],\n",
       "       [ 52.36150974],\n",
       "       [ 42.26412038],\n",
       "       [ 41.08861284],\n",
       "       [ 38.87791513],\n",
       "       [ 35.20653001],\n",
       "       [ 34.09275024],\n",
       "       [ 28.94868896],\n",
       "       [ 31.31003406],\n",
       "       [ 24.10657194],\n",
       "       [ 24.47332582],\n",
       "       [ 26.67494885],\n",
       "       [ 27.48701354],\n",
       "       [ 34.47253848],\n",
       "       [ 34.0031881 ],\n",
       "       [ 27.24864539],\n",
       "       [ 25.67309831],\n",
       "       [ 22.50169059],\n",
       "       [ 18.51417816],\n",
       "       [ 28.98555411],\n",
       "       [ 16.84723416],\n",
       "       [  4.06330439],\n",
       "       [  7.45821383],\n",
       "       [  7.83274999],\n",
       "       [  3.52511322],\n",
       "       [  3.89640241],\n",
       "       [  6.75448265],\n",
       "       [  2.0532646 ]])"
      ]
     },
     "execution_count": 15,
     "metadata": {},
     "output_type": "execute_result"
    }
   ],
   "source": [
    "X"
   ]
  },
  {
   "cell_type": "code",
   "execution_count": 18,
   "metadata": {},
   "outputs": [],
   "source": [
    "rf_data = series_to_supervised(X, n_in=4)"
   ]
  },
  {
   "cell_type": "code",
   "execution_count": 24,
   "metadata": {},
   "outputs": [
    {
     "name": "stdout",
     "output_type": "stream",
     "text": [
      ">expected=7.5, predicted=14.8\n",
      ">expected=7.8, predicted=8.3\n",
      ">expected=3.5, predicted=10.5\n",
      ">expected=3.9, predicted=7.2\n",
      ">expected=6.8, predicted=6.5\n",
      ">expected=2.1, predicted=6.6\n",
      "MAE: 3.828\n",
      "ME: 3.730\n",
      "RMSE: 4.735\n",
      "Direction Accuracy: 0.000\n"
     ]
    },
    {
     "data": {
      "image/png": "[encoded data removed]",
      "text/plain": [
       "<Figure size 640x480 with 1 Axes>"
      ]
     },
     "metadata": {},
     "output_type": "display_data"
    }
   ],
   "source": [
    "# evaluate\n",
    "mae, me, rmse, y, yhat, direction_accuracy = rf_walk_forward_validation(rf_data, 6)\n",
    "print('MAE: %.3f' % mae)\n",
    "print('ME: %.3f' % me)\n",
    "print('RMSE: %.3f' % rmse)\n",
    "print('Direction Accuracy: %.3f' % direction_accuracy)\n",
    "# plot expected vs preducted\n",
    "plt.plot(y, label='Expected')\n",
    "plt.plot(yhat, label='Predicted')\n",
    "plt.legend()\n",
    "plt.show()"
   ]
  },
  {
   "attachments": {},
   "cell_type": "markdown",
   "metadata": {},
   "source": [
    "### Static forecast for Random Forest (should be ROLLING WINDOW)"
   ]
  },
  {
   "cell_type": "code",
   "execution_count": 25,
   "metadata": {},
   "outputs": [
    {
     "ename": "NameError",
     "evalue": "name 'train' is not defined",
     "output_type": "error",
     "traceback": [
      "\u001b[0;31m---------------------------------------------------------------------------\u001b[0m",
      "\u001b[0;31mNameError\u001b[0m                                 Traceback (most recent call last)",
      "Cell \u001b[0;32mIn[25], line 4\u001b[0m\n\u001b[1;32m      1\u001b[0m \u001b[38;5;66;03m# fit an random forest model and make a one step prediction\u001b[39;00m\n\u001b[1;32m      2\u001b[0m \u001b[38;5;66;03m# def random_forest_static_forecast(train, testX):\u001b[39;00m\n\u001b[1;32m      3\u001b[0m  \u001b[38;5;66;03m# transform list into array\u001b[39;00m\n\u001b[0;32m----> 4\u001b[0m train \u001b[38;5;241m=\u001b[39m asarray(\u001b[43mtrain\u001b[49m)\n\u001b[1;32m      5\u001b[0m  \u001b[38;5;66;03m# split into input and output columns\u001b[39;00m\n\u001b[1;32m      6\u001b[0m trainX, trainy \u001b[38;5;241m=\u001b[39m train[:, :\u001b[38;5;241m-\u001b[39m\u001b[38;5;241m1\u001b[39m], train[:, \u001b[38;5;241m-\u001b[39m\u001b[38;5;241m1\u001b[39m]\n",
      "\u001b[0;31mNameError\u001b[0m: name 'train' is not defined"
     ]
    }
   ],
   "source": [
    "# fit an random forest model and make a one step prediction\n",
    "# def random_forest_static_forecast(train, testX):\n",
    " # transform list into array\n",
    "train = asarray(train)\n",
    " # split into input and output columns\n",
    "trainX, trainy = train[:, :-1], train[:, -1]\n",
    " # fit model\n",
    "model_rf_static = RandomForestRegressor(n_estimators=1000)\n",
    "model_rf_static.fit(trainX, trainy)\n",
    " # make a one-step prediction"
   ]
  },
  {
   "cell_type": "code",
   "execution_count": 177,
   "metadata": {},
   "outputs": [],
   "source": [
    "# \n",
    "def rf_staticforecast(data, n_test):\n",
    " predictions = list()\n",
    " direction_accuracies = list() \n",
    " # split dataset\n",
    " train, test = train_test_split(data, n_test)\n",
    " # seed history with training dataset\n",
    " history = [x for x in train]\n",
    " # step over each time-step in the test set\n",
    " for i in range(len(test)):\n",
    "    # split test row into input and output columns\n",
    "    testX, testy = test[i, :-1], test[i, -1]\n",
    "    # fit model on history and make a prediction\n",
    "    yhat = model_rf_static.predict([testX])\n",
    "    # store forecast in list of predictions\n",
    "    predictions.append(yhat)\n",
    "    if i > 0:  # Direction accuracy is not applicable for the first prediction\n",
    "            forecast_diff = yhat - predictions[-2]\n",
    "            actual_diff = testy - test[i - 1, -1]\n",
    "            direction_accuracy = int(np.sign(forecast_diff) == np.sign(actual_diff))\n",
    "            direction_accuracies.append(direction_accuracy)\n",
    "    # add actual observation to history for the next loop\n",
    "    history.append(test[i])\n",
    "    # summarize progress\n",
    "    print('>expected=%.1f, predicted=%.1f' % (testy, yhat))\n",
    " # estimate prediction error\n",
    " error = mean_absolute_error(test[:, -1], predictions)\n",
    " me = np.mean(predictions - test[:, -1])  # Mean Error\n",
    " rmse = mean_squared_error(test[:, -1], predictions, squared=False)\n",
    " overall_direction_accuracy = np.mean(direction_accuracies)\n",
    "\n",
    " return error, me, rmse ,test[:, -1], predictions, overall_direction_accuracy "
   ]
  },
  {
   "cell_type": "code",
   "execution_count": 178,
   "metadata": {},
   "outputs": [],
   "source": [
    "rf_static_data = series_to_supervised(X, n_in=4)"
   ]
  },
  {
   "cell_type": "code",
   "execution_count": 179,
   "metadata": {},
   "outputs": [
    {
     "name": "stdout",
     "output_type": "stream",
     "text": [
      ">expected=7.5, predicted=15.6\n",
      ">expected=7.8, predicted=8.3\n",
      ">expected=3.5, predicted=11.5\n",
      ">expected=3.9, predicted=7.0\n",
      ">expected=6.8, predicted=6.7\n",
      ">expected=2.1, predicted=5.3\n",
      "Forecast accuracy for Static Forecast with Random Forest\n",
      "ME: 3.811\n",
      "RMSE: 5.001\n",
      "Direction Accuracy: 0.200\n"
     ]
    },
    {
     "data": {
      "image/png": "[encoded data removed]",
      "text/plain": [
       "<Figure size 640x480 with 1 Axes>"
      ]
     },
     "metadata": {},
     "output_type": "display_data"
    }
   ],
   "source": [
    "# evaluate\n",
    "mae, me, rmse, y, yhat, direction_accuracy = rf_staticforecast(rf_static_data, 6)\n",
    "#print('MAE: %.3f' % mae)\n",
    "print('Forecast accuracy for Static Forecast with Random Forest')\n",
    "print('ME: %.3f' % me)\n",
    "print('RMSE: %.3f' % rmse)\n",
    "print('Direction Accuracy: %.3f' % direction_accuracy)\n",
    "# plot expected vs preducted\n",
    "plt.plot(y, label='Expected')\n",
    "plt.plot(yhat, label='Predicted')\n",
    "plt.legend()\n",
    "plt.show()"
   ]
  },
  {
   "attachments": {},
   "cell_type": "markdown",
   "metadata": {},
   "source": [
    "Can recommend models based on what is needed - metrics or accuracy. "
   ]
  },
  {
   "attachments": {},
   "cell_type": "markdown",
   "metadata": {},
   "source": [
    "## Decision Tree"
   ]
  },
  {
   "cell_type": "code",
   "execution_count": 304,
   "metadata": {},
   "outputs": [],
   "source": [
    "from sklearn.tree import DecisionTreeRegressor"
   ]
  },
  {
   "cell_type": "code",
   "execution_count": 305,
   "metadata": {},
   "outputs": [],
   "source": [
    "n_lags = 4"
   ]
  },
  {
   "cell_type": "code",
   "execution_count": 306,
   "metadata": {},
   "outputs": [],
   "source": [
    "y_train = df_train['wPreis'].values\n"
   ]
  },
  {
   "cell_type": "code",
   "execution_count": 183,
   "metadata": {},
   "outputs": [
    {
     "data": {
      "text/plain": [
       "array([-37.51931788, -28.69009585, -29.68807862, -25.6304334 ,\n",
       "       -29.07379398, -24.93642602, -35.26209517, -28.06563229,\n",
       "       -27.35874871, -28.21685813, -29.18520815, -32.36064526,\n",
       "       -20.27214677, -18.80845203, -35.43666563, -23.58340467,\n",
       "       -23.06625847, -22.99784234, -31.41962306, -25.46027349,\n",
       "       -23.68194297, -21.47771259, -27.02904785, -24.82276444,\n",
       "       -23.25520954, -25.32197924, -22.30413021, -23.38024324,\n",
       "       -25.17015002, -20.85821571, -23.60348981, -24.86044273,\n",
       "       -23.64540855, -25.72826243, -20.17778383, -26.36851112,\n",
       "       -21.90534062, -23.64226891, -25.04513087, -24.65590187,\n",
       "       -21.77319638, -24.9461431 , -23.90837982, -25.23754357,\n",
       "       -19.73324755, -24.54094226, -24.73818078, -22.97021231,\n",
       "       -19.21154856, -16.66741517, -26.54786465, -22.45099313,\n",
       "       -22.93310518, -23.38212367, -23.28028169, -26.65816299,\n",
       "       -22.07703349, -17.78619097, -18.98931101,  -7.41127285,\n",
       "        -6.21131882,  -1.98035287,   1.61215148,   0.480841  ,\n",
       "         1.99070234,   5.50021781,  10.84846928,  -5.71454615,\n",
       "        -2.60008135,  -0.30741325,   8.00688895,   7.29352445,\n",
       "        11.90659032,  11.88464344,  14.97326405,  14.46308047,\n",
       "        12.99276544,  15.5556141 ,  17.64510072,  12.42782904,\n",
       "        17.67161689,  18.16843231,  13.76791371,  11.49227657,\n",
       "        21.43183754,  19.05758114,  19.05638567,  14.24464252,\n",
       "        14.73305223,  11.89313843,  20.35194191,  17.20689191,\n",
       "        23.50967079,  29.8436271 ,  33.8662963 ,  33.07728873,\n",
       "        40.82938591,  30.46845159,  34.17840321,  32.93534806,\n",
       "        39.7987606 ,  40.11320504,  50.3912752 ,  56.23903155,\n",
       "        54.01274875,  55.8415234 ,  54.63306048,  64.31113949,\n",
       "        56.73685274,  54.01633463,  56.26605181,  60.67509344,\n",
       "        54.88947804,  54.9047283 ,  59.0337707 ,  49.48603152,\n",
       "        60.4287912 ,  63.33244357,  56.47094205,  53.84036452,\n",
       "        60.88049388,  61.03731794,  59.19415193,  58.59646779,\n",
       "        64.03122334,  51.53310596,  50.49505391,  52.36150974,\n",
       "        42.26412038,  41.08861284,  38.87791513,  35.20653001,\n",
       "        34.09275024,  28.94868896,  31.31003406,  24.10657194,\n",
       "        24.47332582,  26.67494885,  27.48701354,  34.47253848,\n",
       "        34.0031881 ,  27.24864539,  25.67309831,  22.50169059,\n",
       "        18.51417816,  28.98555411,  16.84723416,   4.06330439])"
      ]
     },
     "execution_count": 183,
     "metadata": {},
     "output_type": "execute_result"
    }
   ],
   "source": [
    "y_train"
   ]
  },
  {
   "cell_type": "code",
   "execution_count": 307,
   "metadata": {},
   "outputs": [],
   "source": [
    "df_y_train = pd.DataFrame(y_train)\n"
   ]
  },
  {
   "cell_type": "code",
   "execution_count": 185,
   "metadata": {},
   "outputs": [
    {
     "data": {
      "text/plain": [
       "[             0\n",
       " 0          NaN\n",
       " 1   -37.519318\n",
       " 2   -28.690096\n",
       " 3   -29.688079\n",
       " 4   -25.630433\n",
       " ..         ...\n",
       " 143  25.673098\n",
       " 144  22.501691\n",
       " 145  18.514178\n",
       " 146  28.985554\n",
       " 147  16.847234\n",
       " \n",
       " [148 rows x 1 columns],\n",
       "              0\n",
       " 0          NaN\n",
       " 1          NaN\n",
       " 2   -37.519318\n",
       " 3   -28.690096\n",
       " 4   -29.688079\n",
       " ..         ...\n",
       " 143  27.248645\n",
       " 144  25.673098\n",
       " 145  22.501691\n",
       " 146  18.514178\n",
       " 147  28.985554\n",
       " \n",
       " [148 rows x 1 columns],\n",
       "              0\n",
       " 0          NaN\n",
       " 1          NaN\n",
       " 2          NaN\n",
       " 3   -37.519318\n",
       " 4   -28.690096\n",
       " ..         ...\n",
       " 143  34.003188\n",
       " 144  27.248645\n",
       " 145  25.673098\n",
       " 146  22.501691\n",
       " 147  18.514178\n",
       " \n",
       " [148 rows x 1 columns]]"
      ]
     },
     "execution_count": 185,
     "metadata": {},
     "output_type": "execute_result"
    }
   ],
   "source": [
    "shifted_dfs = [df_y_train.shift(t) for t in range(1, n_lags)]\n",
    "shifted_dfs"
   ]
  },
  {
   "cell_type": "code",
   "execution_count": 186,
   "metadata": {},
   "outputs": [
    {
     "name": "stdout",
     "output_type": "stream",
     "text": [
      "(148, 1)\n",
      "(148, 1)\n",
      "(148, 1)\n"
     ]
    }
   ],
   "source": [
    "for df in shifted_dfs:\n",
    "    print(df.shape)"
   ]
  },
  {
   "cell_type": "code",
   "execution_count": 308,
   "metadata": {},
   "outputs": [],
   "source": [
    "concatenated_df = pd.concat(shifted_dfs, axis=1)\n"
   ]
  },
  {
   "cell_type": "code",
   "execution_count": 309,
   "metadata": {},
   "outputs": [
    {
     "data": {
      "text/html": [
       "<div>\n",
       "<style scoped>\n",
       "    .dataframe tbody tr th:only-of-type {\n",
       "        vertical-align: middle;\n",
       "    }\n",
       "\n",
       "    .dataframe tbody tr th {\n",
       "        vertical-align: top;\n",
       "    }\n",
       "\n",
       "    .dataframe thead th {\n",
       "        text-align: right;\n",
       "    }\n",
       "</style>\n",
       "<table border=\"1\" class=\"dataframe\">\n",
       "  <thead>\n",
       "    <tr style=\"text-align: right;\">\n",
       "      <th></th>\n",
       "      <th>0</th>\n",
       "      <th>0</th>\n",
       "      <th>0</th>\n",
       "    </tr>\n",
       "  </thead>\n",
       "  <tbody>\n",
       "    <tr>\n",
       "      <th>0</th>\n",
       "      <td>NaN</td>\n",
       "      <td>NaN</td>\n",
       "      <td>NaN</td>\n",
       "    </tr>\n",
       "    <tr>\n",
       "      <th>1</th>\n",
       "      <td>NaN</td>\n",
       "      <td>NaN</td>\n",
       "      <td>NaN</td>\n",
       "    </tr>\n",
       "    <tr>\n",
       "      <th>2</th>\n",
       "      <td>8.829222</td>\n",
       "      <td>NaN</td>\n",
       "      <td>NaN</td>\n",
       "    </tr>\n",
       "    <tr>\n",
       "      <th>3</th>\n",
       "      <td>-0.997983</td>\n",
       "      <td>8.829222</td>\n",
       "      <td>NaN</td>\n",
       "    </tr>\n",
       "    <tr>\n",
       "      <th>4</th>\n",
       "      <td>4.057645</td>\n",
       "      <td>-0.997983</td>\n",
       "      <td>8.829222</td>\n",
       "    </tr>\n",
       "    <tr>\n",
       "      <th>...</th>\n",
       "      <td>...</td>\n",
       "      <td>...</td>\n",
       "      <td>...</td>\n",
       "    </tr>\n",
       "    <tr>\n",
       "      <th>143</th>\n",
       "      <td>-1.575547</td>\n",
       "      <td>-6.754543</td>\n",
       "      <td>-0.469350</td>\n",
       "    </tr>\n",
       "    <tr>\n",
       "      <th>144</th>\n",
       "      <td>-3.171408</td>\n",
       "      <td>-1.575547</td>\n",
       "      <td>-6.754543</td>\n",
       "    </tr>\n",
       "    <tr>\n",
       "      <th>145</th>\n",
       "      <td>-3.987512</td>\n",
       "      <td>-3.171408</td>\n",
       "      <td>-1.575547</td>\n",
       "    </tr>\n",
       "    <tr>\n",
       "      <th>146</th>\n",
       "      <td>10.471376</td>\n",
       "      <td>-3.987512</td>\n",
       "      <td>-3.171408</td>\n",
       "    </tr>\n",
       "    <tr>\n",
       "      <th>147</th>\n",
       "      <td>-12.138320</td>\n",
       "      <td>10.471376</td>\n",
       "      <td>-3.987512</td>\n",
       "    </tr>\n",
       "  </tbody>\n",
       "</table>\n",
       "<p>148 rows × 3 columns</p>\n",
       "</div>"
      ],
      "text/plain": [
       "             0          0         0\n",
       "0          NaN        NaN       NaN\n",
       "1          NaN        NaN       NaN\n",
       "2     8.829222        NaN       NaN\n",
       "3    -0.997983   8.829222       NaN\n",
       "4     4.057645  -0.997983  8.829222\n",
       "..         ...        ...       ...\n",
       "143  -1.575547  -6.754543 -0.469350\n",
       "144  -3.171408  -1.575547 -6.754543\n",
       "145  -3.987512  -3.171408 -1.575547\n",
       "146  10.471376  -3.987512 -3.171408\n",
       "147 -12.138320  10.471376 -3.987512\n",
       "\n",
       "[148 rows x 3 columns]"
      ]
     },
     "execution_count": 309,
     "metadata": {},
     "output_type": "execute_result"
    }
   ],
   "source": [
    "diff_df = concatenated_df.diff()\n",
    "diff_df"
   ]
  },
  {
   "cell_type": "code",
   "execution_count": 310,
   "metadata": {},
   "outputs": [
    {
     "data": {
      "text/plain": [
       "array([[ 4.05764522e+00, -9.97982775e-01,  8.82922203e+00],\n",
       "       [-3.44336058e+00,  4.05764522e+00, -9.97982775e-01],\n",
       "       [ 4.13736796e+00, -3.44336058e+00,  4.05764522e+00],\n",
       "       [-1.03256692e+01,  4.13736796e+00, -3.44336058e+00],\n",
       "       [ 7.19646288e+00, -1.03256692e+01,  4.13736796e+00],\n",
       "       [ 7.06883583e-01,  7.19646288e+00, -1.03256692e+01],\n",
       "       [-8.58109420e-01,  7.06883583e-01,  7.19646288e+00],\n",
       "       [-9.68350023e-01, -8.58109420e-01,  7.06883583e-01],\n",
       "       [-3.17543711e+00, -9.68350023e-01, -8.58109420e-01],\n",
       "       [ 1.20884985e+01, -3.17543711e+00, -9.68350023e-01],\n",
       "       [ 1.46369474e+00,  1.20884985e+01, -3.17543711e+00],\n",
       "       [-1.66282136e+01,  1.46369474e+00,  1.20884985e+01],\n",
       "       [ 1.18532610e+01, -1.66282136e+01,  1.46369474e+00],\n",
       "       [ 5.17146191e-01,  1.18532610e+01, -1.66282136e+01],\n",
       "       [ 6.84161372e-02,  5.17146191e-01,  1.18532610e+01],\n",
       "       [-8.42178072e+00,  6.84161372e-02,  5.17146191e-01],\n",
       "       [ 5.95934957e+00, -8.42178072e+00,  6.84161372e-02],\n",
       "       [ 1.77833052e+00,  5.95934957e+00, -8.42178072e+00],\n",
       "       [ 2.20423038e+00,  1.77833052e+00,  5.95934957e+00],\n",
       "       [-5.55133526e+00,  2.20423038e+00,  1.77833052e+00],\n",
       "       [ 2.20628340e+00, -5.55133526e+00,  2.20423038e+00],\n",
       "       [ 1.56755490e+00,  2.20628340e+00, -5.55133526e+00],\n",
       "       [-2.06676970e+00,  1.56755490e+00,  2.20628340e+00],\n",
       "       [ 3.01784903e+00, -2.06676970e+00,  1.56755490e+00],\n",
       "       [-1.07611304e+00,  3.01784903e+00, -2.06676970e+00],\n",
       "       [-1.78990678e+00, -1.07611304e+00,  3.01784903e+00],\n",
       "       [ 4.31193431e+00, -1.78990678e+00, -1.07611304e+00],\n",
       "       [-2.74527410e+00,  4.31193431e+00, -1.78990678e+00],\n",
       "       [-1.25695292e+00, -2.74527410e+00,  4.31193431e+00],\n",
       "       [ 1.21503418e+00, -1.25695292e+00, -2.74527410e+00],\n",
       "       [-2.08285388e+00,  1.21503418e+00, -1.25695292e+00],\n",
       "       [ 5.55047860e+00, -2.08285388e+00,  1.21503418e+00],\n",
       "       [-6.19072730e+00,  5.55047860e+00, -2.08285388e+00],\n",
       "       [ 4.46317050e+00, -6.19072730e+00,  5.55047860e+00],\n",
       "       [-1.73692829e+00,  4.46317050e+00, -6.19072730e+00],\n",
       "       [-1.40286196e+00, -1.73692829e+00,  4.46317050e+00],\n",
       "       [ 3.89229000e-01, -1.40286196e+00, -1.73692829e+00],\n",
       "       [ 2.88270548e+00,  3.89229000e-01, -1.40286196e+00],\n",
       "       [-3.17294672e+00,  2.88270548e+00,  3.89229000e-01],\n",
       "       [ 1.03776328e+00, -3.17294672e+00,  2.88270548e+00],\n",
       "       [-1.32916375e+00,  1.03776328e+00, -3.17294672e+00],\n",
       "       [ 5.50429602e+00, -1.32916375e+00,  1.03776328e+00],\n",
       "       [-4.80769471e+00,  5.50429602e+00, -1.32916375e+00],\n",
       "       [-1.97238521e-01, -4.80769471e+00,  5.50429602e+00],\n",
       "       [ 1.76796847e+00, -1.97238521e-01, -4.80769471e+00],\n",
       "       [ 3.75866376e+00,  1.76796847e+00, -1.97238521e-01],\n",
       "       [ 2.54413339e+00,  3.75866376e+00,  1.76796847e+00],\n",
       "       [-9.88044948e+00,  2.54413339e+00,  3.75866376e+00],\n",
       "       [ 4.09687152e+00, -9.88044948e+00,  2.54413339e+00],\n",
       "       [-4.82112052e-01,  4.09687152e+00, -9.88044948e+00],\n",
       "       [-4.49018496e-01, -4.82112052e-01,  4.09687152e+00],\n",
       "       [ 1.01841983e-01, -4.49018496e-01, -4.82112052e-01],\n",
       "       [-3.37788130e+00,  1.01841983e-01, -4.49018496e-01],\n",
       "       [ 4.58112950e+00, -3.37788130e+00,  1.01841983e-01],\n",
       "       [ 4.29084253e+00,  4.58112950e+00, -3.37788130e+00],\n",
       "       [-1.20312005e+00,  4.29084253e+00,  4.58112950e+00],\n",
       "       [ 1.15780382e+01, -1.20312005e+00,  4.29084253e+00],\n",
       "       [ 1.19995402e+00,  1.15780382e+01, -1.20312005e+00],\n",
       "       [ 4.23096595e+00,  1.19995402e+00,  1.15780382e+01],\n",
       "       [ 3.59250435e+00,  4.23096595e+00,  1.19995402e+00],\n",
       "       [-1.13131049e+00,  3.59250435e+00,  4.23096595e+00],\n",
       "       [ 1.50986134e+00, -1.13131049e+00,  3.59250435e+00],\n",
       "       [ 3.50951547e+00,  1.50986134e+00, -1.13131049e+00],\n",
       "       [ 5.34825146e+00,  3.50951547e+00,  1.50986134e+00],\n",
       "       [-1.65630154e+01,  5.34825146e+00,  3.50951547e+00],\n",
       "       [ 3.11446480e+00, -1.65630154e+01,  5.34825146e+00],\n",
       "       [ 2.29266810e+00,  3.11446480e+00, -1.65630154e+01],\n",
       "       [ 8.31430220e+00,  2.29266810e+00,  3.11446480e+00],\n",
       "       [-7.13364493e-01,  8.31430220e+00,  2.29266810e+00],\n",
       "       [ 4.61306587e+00, -7.13364493e-01,  8.31430220e+00],\n",
       "       [-2.19468831e-02,  4.61306587e+00, -7.13364493e-01],\n",
       "       [ 3.08862062e+00, -2.19468831e-02,  4.61306587e+00],\n",
       "       [-5.10183581e-01,  3.08862062e+00, -2.19468831e-02],\n",
       "       [-1.47031503e+00, -5.10183581e-01,  3.08862062e+00],\n",
       "       [ 2.56284866e+00, -1.47031503e+00, -5.10183581e-01],\n",
       "       [ 2.08948661e+00,  2.56284866e+00, -1.47031503e+00],\n",
       "       [-5.21727168e+00,  2.08948661e+00,  2.56284866e+00],\n",
       "       [ 5.24378786e+00, -5.21727168e+00,  2.08948661e+00],\n",
       "       [ 4.96815421e-01,  5.24378786e+00, -5.21727168e+00],\n",
       "       [-4.40051861e+00,  4.96815421e-01,  5.24378786e+00],\n",
       "       [-2.27563714e+00, -4.40051861e+00,  4.96815421e-01],\n",
       "       [ 9.93956097e+00, -2.27563714e+00, -4.40051861e+00],\n",
       "       [-2.37425640e+00,  9.93956097e+00, -2.27563714e+00],\n",
       "       [-1.19546681e-03, -2.37425640e+00,  9.93956097e+00],\n",
       "       [-4.81174315e+00, -1.19546681e-03, -2.37425640e+00],\n",
       "       [ 4.88409715e-01, -4.81174315e+00, -1.19546681e-03],\n",
       "       [-2.83991380e+00,  4.88409715e-01, -4.81174315e+00],\n",
       "       [ 8.45880347e+00, -2.83991380e+00,  4.88409715e-01],\n",
       "       [-3.14504999e+00,  8.45880347e+00, -2.83991380e+00],\n",
       "       [ 6.30277887e+00, -3.14504999e+00,  8.45880347e+00],\n",
       "       [ 6.33395631e+00,  6.30277887e+00, -3.14504999e+00],\n",
       "       [ 4.02266921e+00,  6.33395631e+00,  6.30277887e+00],\n",
       "       [-7.89007577e-01,  4.02266921e+00,  6.33395631e+00],\n",
       "       [ 7.75209719e+00, -7.89007577e-01,  4.02266921e+00],\n",
       "       [-1.03609343e+01,  7.75209719e+00, -7.89007577e-01],\n",
       "       [ 3.70995162e+00, -1.03609343e+01,  7.75209719e+00],\n",
       "       [-1.24305515e+00,  3.70995162e+00, -1.03609343e+01],\n",
       "       [ 6.86341254e+00, -1.24305515e+00,  3.70995162e+00],\n",
       "       [ 3.14444436e-01,  6.86341254e+00, -1.24305515e+00],\n",
       "       [ 1.02780702e+01,  3.14444436e-01,  6.86341254e+00],\n",
       "       [ 5.84775635e+00,  1.02780702e+01,  3.14444436e-01],\n",
       "       [-2.22628280e+00,  5.84775635e+00,  1.02780702e+01],\n",
       "       [ 1.82877465e+00, -2.22628280e+00,  5.84775635e+00],\n",
       "       [-1.20846292e+00,  1.82877465e+00, -2.22628280e+00],\n",
       "       [ 9.67807902e+00, -1.20846292e+00,  1.82877465e+00],\n",
       "       [-7.57428675e+00,  9.67807902e+00, -1.20846292e+00],\n",
       "       [-2.72051811e+00, -7.57428675e+00,  9.67807902e+00],\n",
       "       [ 2.24971717e+00, -2.72051811e+00, -7.57428675e+00],\n",
       "       [ 4.40904163e+00,  2.24971717e+00, -2.72051811e+00],\n",
       "       [-5.78561539e+00,  4.40904163e+00,  2.24971717e+00],\n",
       "       [ 1.52502545e-02, -5.78561539e+00,  4.40904163e+00],\n",
       "       [ 4.12904240e+00,  1.52502545e-02, -5.78561539e+00],\n",
       "       [-9.54773918e+00,  4.12904240e+00,  1.52502545e-02],\n",
       "       [ 1.09427597e+01, -9.54773918e+00,  4.12904240e+00],\n",
       "       [ 2.90365237e+00,  1.09427597e+01, -9.54773918e+00],\n",
       "       [-6.86150152e+00,  2.90365237e+00,  1.09427597e+01],\n",
       "       [-2.63057753e+00, -6.86150152e+00,  2.90365237e+00],\n",
       "       [ 7.04012937e+00, -2.63057753e+00, -6.86150152e+00],\n",
       "       [ 1.56824058e-01,  7.04012937e+00, -2.63057753e+00],\n",
       "       [-1.84316601e+00,  1.56824058e-01,  7.04012937e+00],\n",
       "       [-5.97684137e-01, -1.84316601e+00,  1.56824058e-01],\n",
       "       [ 5.43475554e+00, -5.97684137e-01, -1.84316601e+00],\n",
       "       [-1.24981174e+01,  5.43475554e+00, -5.97684137e-01],\n",
       "       [-1.03805205e+00, -1.24981174e+01,  5.43475554e+00],\n",
       "       [ 1.86645584e+00, -1.03805205e+00, -1.24981174e+01],\n",
       "       [-1.00973894e+01,  1.86645584e+00, -1.03805205e+00],\n",
       "       [-1.17550755e+00, -1.00973894e+01,  1.86645584e+00],\n",
       "       [-2.21069771e+00, -1.17550755e+00, -1.00973894e+01],\n",
       "       [-3.67138511e+00, -2.21069771e+00, -1.17550755e+00],\n",
       "       [-1.11377977e+00, -3.67138511e+00, -2.21069771e+00],\n",
       "       [-5.14406128e+00, -1.11377977e+00, -3.67138511e+00],\n",
       "       [ 2.36134510e+00, -5.14406128e+00, -1.11377977e+00],\n",
       "       [-7.20346213e+00,  2.36134510e+00, -5.14406128e+00],\n",
       "       [ 3.66753883e-01, -7.20346213e+00,  2.36134510e+00],\n",
       "       [ 2.20162303e+00,  3.66753883e-01, -7.20346213e+00],\n",
       "       [ 8.12064695e-01,  2.20162303e+00,  3.66753883e-01],\n",
       "       [ 6.98552494e+00,  8.12064695e-01,  2.20162303e+00],\n",
       "       [-4.69350385e-01,  6.98552494e+00,  8.12064695e-01],\n",
       "       [-6.75454270e+00, -4.69350385e-01,  6.98552494e+00],\n",
       "       [-1.57554708e+00, -6.75454270e+00, -4.69350385e-01],\n",
       "       [-3.17140772e+00, -1.57554708e+00, -6.75454270e+00],\n",
       "       [-3.98751243e+00, -3.17140772e+00, -1.57554708e+00],\n",
       "       [ 1.04713760e+01, -3.98751243e+00, -3.17140772e+00],\n",
       "       [-1.21383199e+01,  1.04713760e+01, -3.98751243e+00]])"
      ]
     },
     "execution_count": 310,
     "metadata": {},
     "output_type": "execute_result"
    }
   ],
   "source": [
    "diff_values = diff_df.values\n",
    "\n",
    "# Step 6: Slice the numpy array to exclude the first n_lags rows\n",
    "sliced_values = diff_values[n_lags:, :]\n",
    "sliced_values"
   ]
  },
  {
   "cell_type": "code",
   "execution_count": 191,
   "metadata": {},
   "outputs": [],
   "source": [
    "for t in range(1,n_lags):\n",
    "    test = pd.DataFrame(y_train).shift(t)"
   ]
  },
  {
   "cell_type": "code",
   "execution_count": 311,
   "metadata": {},
   "outputs": [],
   "source": [
    "X_train_shift = pd.concat([pd.DataFrame(y_train).shift(t) for t in range(1,n_lags)],1).diff().values[n_lags:,:]\n",
    "y_train_shift = np.diff(y_train)[n_lags-1:]"
   ]
  },
  {
   "cell_type": "code",
   "execution_count": 314,
   "metadata": {},
   "outputs": [],
   "source": [
    "y_test = df_test['wPreis'].values\n"
   ]
  },
  {
   "cell_type": "code",
   "execution_count": 315,
   "metadata": {},
   "outputs": [
    {
     "data": {
      "text/html": [
       "<style>#sk-container-id-5 {color: black;background-color: white;}#sk-container-id-5 pre{padding: 0;}#sk-container-id-5 div.sk-toggleable {background-color: white;}#sk-container-id-5 label.sk-toggleable__label {cursor: pointer;display: block;width: 100%;margin-bottom: 0;padding: 0.3em;box-sizing: border-box;text-align: center;}#sk-container-id-5 label.sk-toggleable__label-arrow:before {content: \"▸\";float: left;margin-right: 0.25em;color: #696969;}#sk-container-id-5 label.sk-toggleable__label-arrow:hover:before {color: black;}#sk-container-id-5 div.sk-estimator:hover label.sk-toggleable__label-arrow:before {color: black;}#sk-container-id-5 div.sk-toggleable__content {max-height: 0;max-width: 0;overflow: hidden;text-align: left;background-color: #f0f8ff;}#sk-container-id-5 div.sk-toggleable__content pre {margin: 0.2em;color: black;border-radius: 0.25em;background-color: #f0f8ff;}#sk-container-id-5 input.sk-toggleable__control:checked~div.sk-toggleable__content {max-height: 200px;max-width: 100%;overflow: auto;}#sk-container-id-5 input.sk-toggleable__control:checked~label.sk-toggleable__label-arrow:before {content: \"▾\";}#sk-container-id-5 div.sk-estimator input.sk-toggleable__control:checked~label.sk-toggleable__label {background-color: #d4ebff;}#sk-container-id-5 div.sk-label input.sk-toggleable__control:checked~label.sk-toggleable__label {background-color: #d4ebff;}#sk-container-id-5 input.sk-hidden--visually {border: 0;clip: rect(1px 1px 1px 1px);clip: rect(1px, 1px, 1px, 1px);height: 1px;margin: -1px;overflow: hidden;padding: 0;position: absolute;width: 1px;}#sk-container-id-5 div.sk-estimator {font-family: monospace;background-color: #f0f8ff;border: 1px dotted black;border-radius: 0.25em;box-sizing: border-box;margin-bottom: 0.5em;}#sk-container-id-5 div.sk-estimator:hover {background-color: #d4ebff;}#sk-container-id-5 div.sk-parallel-item::after {content: \"\";width: 100%;border-bottom: 1px solid gray;flex-grow: 1;}#sk-container-id-5 div.sk-label:hover label.sk-toggleable__label {background-color: #d4ebff;}#sk-container-id-5 div.sk-serial::before {content: \"\";position: absolute;border-left: 1px solid gray;box-sizing: border-box;top: 0;bottom: 0;left: 50%;z-index: 0;}#sk-container-id-5 div.sk-serial {display: flex;flex-direction: column;align-items: center;background-color: white;padding-right: 0.2em;padding-left: 0.2em;position: relative;}#sk-container-id-5 div.sk-item {position: relative;z-index: 1;}#sk-container-id-5 div.sk-parallel {display: flex;align-items: stretch;justify-content: center;background-color: white;position: relative;}#sk-container-id-5 div.sk-item::before, #sk-container-id-5 div.sk-parallel-item::before {content: \"\";position: absolute;border-left: 1px solid gray;box-sizing: border-box;top: 0;bottom: 0;left: 50%;z-index: -1;}#sk-container-id-5 div.sk-parallel-item {display: flex;flex-direction: column;z-index: 1;position: relative;background-color: white;}#sk-container-id-5 div.sk-parallel-item:first-child::after {align-self: flex-end;width: 50%;}#sk-container-id-5 div.sk-parallel-item:last-child::after {align-self: flex-start;width: 50%;}#sk-container-id-5 div.sk-parallel-item:only-child::after {width: 0;}#sk-container-id-5 div.sk-dashed-wrapped {border: 1px dashed gray;margin: 0 0.4em 0.5em 0.4em;box-sizing: border-box;padding-bottom: 0.4em;background-color: white;}#sk-container-id-5 div.sk-label label {font-family: monospace;font-weight: bold;display: inline-block;line-height: 1.2em;}#sk-container-id-5 div.sk-label-container {text-align: center;}#sk-container-id-5 div.sk-container {/* jupyter's `normalize.less` sets `[hidden] { display: none; }` but bootstrap.min.css set `[hidden] { display: none !important; }` so we also need the `!important` here to be able to override the default hidden behavior on the sphinx rendered scikit-learn.org. See: https://github.com/scikit-learn/scikit-learn/issues/21755 */display: inline-block !important;position: relative;}#sk-container-id-5 div.sk-text-repr-fallback {display: none;}</style><div id=\"sk-container-id-5\" class=\"sk-top-container\"><div class=\"sk-text-repr-fallback\"><pre>DecisionTreeRegressor(max_depth=2)</pre><b>In a Jupyter environment, please rerun this cell to show the HTML representation or trust the notebook. <br />On GitHub, the HTML representation is unable to render, please try loading this page with nbviewer.org.</b></div><div class=\"sk-container\" hidden><div class=\"sk-item\"><div class=\"sk-estimator sk-toggleable\"><input class=\"sk-toggleable__control sk-hidden--visually\" id=\"sk-estimator-id-5\" type=\"checkbox\" checked><label for=\"sk-estimator-id-5\" class=\"sk-toggleable__label sk-toggleable__label-arrow\">DecisionTreeRegressor</label><div class=\"sk-toggleable__content\"><pre>DecisionTreeRegressor(max_depth=2)</pre></div></div></div></div></div>"
      ],
      "text/plain": [
       "DecisionTreeRegressor(max_depth=2)"
      ]
     },
     "execution_count": 315,
     "metadata": {},
     "output_type": "execute_result"
    }
   ],
   "source": [
    "tree = DecisionTreeRegressor(max_depth = 2)\n",
    "tree.fit(X_train_shift, y_train_shift)\n"
   ]
  },
  {
   "cell_type": "code",
   "execution_count": 318,
   "metadata": {},
   "outputs": [],
   "source": [
    "y_pred_train = tree.predict(X_train_shift).reshape(-1)"
   ]
  },
  {
   "cell_type": "code",
   "execution_count": 319,
   "metadata": {},
   "outputs": [],
   "source": [
    "Xt = np.concatenate([X_train_shift[-1,1:].reshape(1,-1),np.array(y_train_shift[-1]).reshape(1,1)],1)\n"
   ]
  },
  {
   "cell_type": "code",
   "execution_count": 320,
   "metadata": {},
   "outputs": [],
   "source": [
    "predictions_test = []\n",
    "for t in range(len(y_test)):\n",
    "    pred = tree.predict(Xt)\n",
    "    predictions_test.append(pred[0])\n",
    "    Xt = np.concatenate([np.array(pred).reshape(1,1),Xt[-1,1:].reshape(1,-1)],1)"
   ]
  },
  {
   "cell_type": "code",
   "execution_count": 321,
   "metadata": {},
   "outputs": [],
   "source": [
    "y_pred_test = np.array(predictions_test)\n",
    "y_pred_train = y_train[n_lags-2]+np.cumsum(y_pred_train)\n",
    "y_pred_test = y_train[-1]+np.cumsum(y_pred_test)"
   ]
  },
  {
   "cell_type": "code",
   "execution_count": 322,
   "metadata": {},
   "outputs": [
    {
     "name": "stdout",
     "output_type": "stream",
     "text": [
      "Decision Tree Forecast Accuracy of: wPreis\n",
      "me     :  0.3503\n",
      "rmse   :  3.6113\n",
      "direction_accuracy :  0.6\n"
     ]
    }
   ],
   "source": [
    "def adjust(val, length= 6): return str(val).ljust(length) # length\n",
    "print('Decision Tree Forecast Accuracy of: wPreis')\n",
    "accuracy_prod = forecast_accuracy(y_pred_test, df_test['wPreis'])\n",
    "for k, v in accuracy_prod.items():\n",
    "    print(adjust(k), ': ', round(v,4))"
   ]
  },
  {
   "attachments": {},
   "cell_type": "markdown",
   "metadata": {},
   "source": [
    " "
   ]
  }
 ],
 "metadata": {
  "kernelspec": {
   "display_name": "Python 3",
   "language": "python",
   "name": "python3"
  },
  "language_info": {
   "codemirror_mode": {
    "name": "ipython",
    "version": 3
   },
   "file_extension": ".py",
   "mimetype": "text/x-python",
   "name": "python",
   "nbconvert_exporter": "python",
   "pygments_lexer": "ipython3",
   "version": "3.11.2"
  },
  "orig_nbformat": 4
 },
 "nbformat": 4,
 "nbformat_minor": 2
}
