{
 "cells": [
  {
   "cell_type": "code",
   "execution_count": 1,
   "metadata": {},
   "outputs": [],
   "source": [
    "#Importing libraries\n",
    "import warnings\n",
    "warnings.simplefilter(action='ignore', category=FutureWarning)\n",
    "import numpy as np\n",
    "import pandas as pd\n",
    "from numpy import asarray\n",
    "from sklearn.metrics import mean_absolute_error\n",
    "import matplotlib.pyplot as plt\n",
    "import seaborn as sns\n",
    "import matplotlib.pyplot as plt\n",
    "import plotly.express as px\n",
    "import plotly.graph_objects as go\n",
    "from plotly.subplots import make_subplots\n",
    "import datetime\n",
    "from statsmodels.tsa.tsatools import lagmat\n",
    "from statsmodels.tsa.arima.model import ARIMA"
   ]
  },
  {
   "attachments": {},
   "cell_type": "markdown",
   "metadata": {},
   "source": [
    "# Data Import and Cleaning"
   ]
  },
  {
   "cell_type": "code",
   "execution_count": 2,
   "metadata": {},
   "outputs": [],
   "source": [
    "df = pd.read_excel(\"/Users/surajkwork/Documents/Thesis/thesis/df.xlsx\")"
   ]
  },
  {
   "attachments": {},
   "cell_type": "markdown",
   "metadata": {},
   "source": [
    "The date variable is not in datetime format so it has to be converted."
   ]
  },
  {
   "cell_type": "code",
   "execution_count": 3,
   "metadata": {},
   "outputs": [],
   "source": [
    "df['date']= pd.to_datetime(df['date'])\n",
    "df.index = df['date']\n",
    "df.sort_index(inplace=True)"
   ]
  },
  {
   "attachments": {},
   "cell_type": "markdown",
   "metadata": {},
   "source": [
    "Extracting one cluster from the dataset for analysis."
   ]
  },
  {
   "cell_type": "code",
   "execution_count": 4,
   "metadata": {},
   "outputs": [],
   "source": [
    "TS1 = df[(df['Plz'] == \"['25', '24']\")]"
   ]
  },
  {
   "attachments": {},
   "cell_type": "markdown",
   "metadata": {},
   "source": [
    "And from this cluster, extracting one category for analysis."
   ]
  },
  {
   "cell_type": "code",
   "execution_count": 5,
   "metadata": {},
   "outputs": [],
   "source": [
    "TS1_A2 = TS1[TS1['full'] == 'A2 -  geschreddert']\n",
    "TS1_A1A2 = TS1[TS1['full'] == 'A1 & A2 -  geschreddert']\n",
    "TS1_A2A3 = TS1[TS1['full'] == 'A2 & A3 -  geschreddert']"
   ]
  },
  {
   "attachments": {},
   "cell_type": "markdown",
   "metadata": {},
   "source": [
    "# Modelling - Train, test split"
   ]
  },
  {
   "cell_type": "code",
   "execution_count": 6,
   "metadata": {},
   "outputs": [],
   "source": [
    "nobs = 6\n",
    "df_train, df_test = TS1_A1A2[0:-nobs], TS1_A1A2[-nobs:]"
   ]
  },
  {
   "cell_type": "code",
   "execution_count": 7,
   "metadata": {},
   "outputs": [],
   "source": [
    "# df_train"
   ]
  },
  {
   "attachments": {},
   "cell_type": "markdown",
   "metadata": {},
   "source": [
    "## Prophet"
   ]
  },
  {
   "cell_type": "code",
   "execution_count": 8,
   "metadata": {},
   "outputs": [],
   "source": [
    "import prophet"
   ]
  },
  {
   "cell_type": "code",
   "execution_count": 9,
   "metadata": {},
   "outputs": [],
   "source": [
    "from prophet import Prophet"
   ]
  },
  {
   "attachments": {},
   "cell_type": "markdown",
   "metadata": {},
   "source": [
    "Prophet model expects the dataset to be named a specific way. We will rename our dataframe columns before feeding it into the model.\n",
    "- Datetime column named: ds\n",
    "- target : y"
   ]
  },
  {
   "cell_type": "code",
   "execution_count": 10,
   "metadata": {},
   "outputs": [],
   "source": [
    "#pjme_train_prophet = df_train.reset_index() \n",
    "pjme_train_prophet = df_train.rename(columns={'date':'ds',\n",
    "                     'wPreis':'y'})\n",
    "pjme_train_prophet = pjme_train_prophet[['ds', 'y']]"
   ]
  },
  {
   "cell_type": "code",
   "execution_count": 41,
   "metadata": {},
   "outputs": [
    {
     "data": {
      "text/html": [
       "<div>\n",
       "<style scoped>\n",
       "    .dataframe tbody tr th:only-of-type {\n",
       "        vertical-align: middle;\n",
       "    }\n",
       "\n",
       "    .dataframe tbody tr th {\n",
       "        vertical-align: top;\n",
       "    }\n",
       "\n",
       "    .dataframe thead th {\n",
       "        text-align: right;\n",
       "    }\n",
       "</style>\n",
       "<table border=\"1\" class=\"dataframe\">\n",
       "  <thead>\n",
       "    <tr style=\"text-align: right;\">\n",
       "      <th></th>\n",
       "      <th>ds</th>\n",
       "      <th>y</th>\n",
       "    </tr>\n",
       "    <tr>\n",
       "      <th>date</th>\n",
       "      <th></th>\n",
       "      <th></th>\n",
       "    </tr>\n",
       "  </thead>\n",
       "  <tbody>\n",
       "    <tr>\n",
       "      <th>2020-09-14</th>\n",
       "      <td>2020-09-14</td>\n",
       "      <td>-37.519318</td>\n",
       "    </tr>\n",
       "    <tr>\n",
       "      <th>2020-09-28</th>\n",
       "      <td>2020-09-28</td>\n",
       "      <td>-28.690096</td>\n",
       "    </tr>\n",
       "    <tr>\n",
       "      <th>2020-10-12</th>\n",
       "      <td>2020-10-12</td>\n",
       "      <td>-29.688079</td>\n",
       "    </tr>\n",
       "    <tr>\n",
       "      <th>2020-10-19</th>\n",
       "      <td>2020-10-19</td>\n",
       "      <td>-25.630433</td>\n",
       "    </tr>\n",
       "    <tr>\n",
       "      <th>2020-10-26</th>\n",
       "      <td>2020-10-26</td>\n",
       "      <td>-29.073794</td>\n",
       "    </tr>\n",
       "    <tr>\n",
       "      <th>...</th>\n",
       "      <td>...</td>\n",
       "      <td>...</td>\n",
       "    </tr>\n",
       "    <tr>\n",
       "      <th>2023-06-26</th>\n",
       "      <td>2023-06-26</td>\n",
       "      <td>22.501691</td>\n",
       "    </tr>\n",
       "    <tr>\n",
       "      <th>2023-07-03</th>\n",
       "      <td>2023-07-03</td>\n",
       "      <td>18.514178</td>\n",
       "    </tr>\n",
       "    <tr>\n",
       "      <th>2023-07-10</th>\n",
       "      <td>2023-07-10</td>\n",
       "      <td>28.985554</td>\n",
       "    </tr>\n",
       "    <tr>\n",
       "      <th>2023-07-17</th>\n",
       "      <td>2023-07-17</td>\n",
       "      <td>16.847234</td>\n",
       "    </tr>\n",
       "    <tr>\n",
       "      <th>2023-07-24</th>\n",
       "      <td>2023-07-24</td>\n",
       "      <td>4.063304</td>\n",
       "    </tr>\n",
       "  </tbody>\n",
       "</table>\n",
       "<p>148 rows × 2 columns</p>\n",
       "</div>"
      ],
      "text/plain": [
       "                   ds          y\n",
       "date                            \n",
       "2020-09-14 2020-09-14 -37.519318\n",
       "2020-09-28 2020-09-28 -28.690096\n",
       "2020-10-12 2020-10-12 -29.688079\n",
       "2020-10-19 2020-10-19 -25.630433\n",
       "2020-10-26 2020-10-26 -29.073794\n",
       "...               ...        ...\n",
       "2023-06-26 2023-06-26  22.501691\n",
       "2023-07-03 2023-07-03  18.514178\n",
       "2023-07-10 2023-07-10  28.985554\n",
       "2023-07-17 2023-07-17  16.847234\n",
       "2023-07-24 2023-07-24   4.063304\n",
       "\n",
       "[148 rows x 2 columns]"
      ]
     },
     "execution_count": 41,
     "metadata": {},
     "output_type": "execute_result"
    }
   ],
   "source": [
    "# pjme_train_prophet"
   ]
  },
  {
   "cell_type": "code",
   "execution_count": 40,
   "metadata": {},
   "outputs": [
    {
     "data": {
      "text/plain": [
       "(148, 2)"
      ]
     },
     "execution_count": 40,
     "metadata": {},
     "output_type": "execute_result"
    }
   ],
   "source": [
    "# pjme_train_prophet.shape"
   ]
  },
  {
   "cell_type": "code",
   "execution_count": 11,
   "metadata": {},
   "outputs": [],
   "source": [
    "model = Prophet()"
   ]
  },
  {
   "attachments": {},
   "cell_type": "markdown",
   "metadata": {},
   "source": [
    "Prophet does a static prediction by default. \n",
    "There does not seem to be an option to do a rolling window as the model simply outputs the predictions for the number of steps specified after taking in a set input.\n",
    "\n",
    "So that leaves only walk-forward validation as the only option to compare.\n",
    "In this, we can train the prophet model to predict just one step ahead and retrain at every step using the appended new observation. "
   ]
  },
  {
   "cell_type": "markdown",
   "metadata": {},
   "source": [
    "## Static Forecasting\n",
    "For the first approach, we fit the model to the entire training dataset once."
   ]
  },
  {
   "cell_type": "code",
   "execution_count": 12,
   "metadata": {},
   "outputs": [
    {
     "name": "stderr",
     "output_type": "stream",
     "text": [
      "11:45:04 - cmdstanpy - INFO - Chain [1] start processing\n",
      "11:45:04 - cmdstanpy - INFO - Chain [1] done processing\n"
     ]
    },
    {
     "data": {
      "text/plain": [
       "<prophet.forecaster.Prophet at 0x305f323d0>"
      ]
     },
     "execution_count": 12,
     "metadata": {},
     "output_type": "execute_result"
    }
   ],
   "source": [
    "model.fit(pjme_train_prophet)"
   ]
  },
  {
   "cell_type": "code",
   "execution_count": 13,
   "metadata": {},
   "outputs": [],
   "source": [
    "#pjme_train_prophet = df_train.reset_index() \n",
    "pjme_test_prophet = df_test.rename(columns={'date':'ds',\n",
    "                     'wPreis':'y'})\n",
    "\n",
    "pjme_test_prophet = pjme_test_prophet[['ds', 'y']]"
   ]
  },
  {
   "cell_type": "markdown",
   "metadata": {},
   "source": [
    "The recommended approach with Prophet is to create a new dataframe using \"make_future_dataframe\" method with the number of periods specified (which we will specify as 6, for getting the predictions to compare with the length of the test data set).\n",
    "To get the exact dates matching with that of the test data set, I had to specify the frequency as weekly, with a start of Monday."
   ]
  },
  {
   "cell_type": "code",
   "execution_count": 14,
   "metadata": {},
   "outputs": [],
   "source": [
    "future = model.make_future_dataframe(periods=6, freq='W-MON')\n"
   ]
  },
  {
   "cell_type": "code",
   "execution_count": 15,
   "metadata": {},
   "outputs": [],
   "source": [
    "pjme_test_fcst_future = model.predict(future)\n",
    "# pjme_test_fcst_future"
   ]
  },
  {
   "cell_type": "markdown",
   "metadata": {},
   "source": [
    "Predicting on the newly created dataframe outputs a standard Prophet dataframe with various metrics for the prediction. The important one is yhat, which is the actual prediction value for the period steps."
   ]
  },
  {
   "cell_type": "code",
   "execution_count": 42,
   "metadata": {},
   "outputs": [
    {
     "data": {
      "text/html": [
       "<div>\n",
       "<style scoped>\n",
       "    .dataframe tbody tr th:only-of-type {\n",
       "        vertical-align: middle;\n",
       "    }\n",
       "\n",
       "    .dataframe tbody tr th {\n",
       "        vertical-align: top;\n",
       "    }\n",
       "\n",
       "    .dataframe thead th {\n",
       "        text-align: right;\n",
       "    }\n",
       "</style>\n",
       "<table border=\"1\" class=\"dataframe\">\n",
       "  <thead>\n",
       "    <tr style=\"text-align: right;\">\n",
       "      <th></th>\n",
       "      <th>ds</th>\n",
       "      <th>trend</th>\n",
       "      <th>yhat_lower</th>\n",
       "      <th>yhat_upper</th>\n",
       "      <th>trend_lower</th>\n",
       "      <th>trend_upper</th>\n",
       "      <th>additive_terms</th>\n",
       "      <th>additive_terms_lower</th>\n",
       "      <th>additive_terms_upper</th>\n",
       "      <th>yearly</th>\n",
       "      <th>yearly_lower</th>\n",
       "      <th>yearly_upper</th>\n",
       "      <th>multiplicative_terms</th>\n",
       "      <th>multiplicative_terms_lower</th>\n",
       "      <th>multiplicative_terms_upper</th>\n",
       "      <th>yhat</th>\n",
       "    </tr>\n",
       "  </thead>\n",
       "  <tbody>\n",
       "    <tr>\n",
       "      <th>143</th>\n",
       "      <td>2023-07-03</td>\n",
       "      <td>54.701547</td>\n",
       "      <td>25.636892</td>\n",
       "      <td>57.039335</td>\n",
       "      <td>54.701547</td>\n",
       "      <td>54.701547</td>\n",
       "      <td>-12.333115</td>\n",
       "      <td>-12.333115</td>\n",
       "      <td>-12.333115</td>\n",
       "      <td>-12.333115</td>\n",
       "      <td>-12.333115</td>\n",
       "      <td>-12.333115</td>\n",
       "      <td>0.0</td>\n",
       "      <td>0.0</td>\n",
       "      <td>0.0</td>\n",
       "      <td>42.368431</td>\n",
       "    </tr>\n",
       "    <tr>\n",
       "      <th>144</th>\n",
       "      <td>2023-07-10</td>\n",
       "      <td>55.287603</td>\n",
       "      <td>25.110225</td>\n",
       "      <td>57.279826</td>\n",
       "      <td>55.287603</td>\n",
       "      <td>55.287603</td>\n",
       "      <td>-13.125164</td>\n",
       "      <td>-13.125164</td>\n",
       "      <td>-13.125164</td>\n",
       "      <td>-13.125164</td>\n",
       "      <td>-13.125164</td>\n",
       "      <td>-13.125164</td>\n",
       "      <td>0.0</td>\n",
       "      <td>0.0</td>\n",
       "      <td>0.0</td>\n",
       "      <td>42.162439</td>\n",
       "    </tr>\n",
       "    <tr>\n",
       "      <th>145</th>\n",
       "      <td>2023-07-17</td>\n",
       "      <td>55.873659</td>\n",
       "      <td>27.234004</td>\n",
       "      <td>58.983766</td>\n",
       "      <td>55.873659</td>\n",
       "      <td>55.873659</td>\n",
       "      <td>-13.109015</td>\n",
       "      <td>-13.109015</td>\n",
       "      <td>-13.109015</td>\n",
       "      <td>-13.109015</td>\n",
       "      <td>-13.109015</td>\n",
       "      <td>-13.109015</td>\n",
       "      <td>0.0</td>\n",
       "      <td>0.0</td>\n",
       "      <td>0.0</td>\n",
       "      <td>42.764644</td>\n",
       "    </tr>\n",
       "    <tr>\n",
       "      <th>146</th>\n",
       "      <td>2023-07-24</td>\n",
       "      <td>56.459715</td>\n",
       "      <td>31.113788</td>\n",
       "      <td>60.611462</td>\n",
       "      <td>56.459715</td>\n",
       "      <td>56.459715</td>\n",
       "      <td>-11.181765</td>\n",
       "      <td>-11.181765</td>\n",
       "      <td>-11.181765</td>\n",
       "      <td>-11.181765</td>\n",
       "      <td>-11.181765</td>\n",
       "      <td>-11.181765</td>\n",
       "      <td>0.0</td>\n",
       "      <td>0.0</td>\n",
       "      <td>0.0</td>\n",
       "      <td>45.277950</td>\n",
       "    </tr>\n",
       "    <tr>\n",
       "      <th>147</th>\n",
       "      <td>2023-07-31</td>\n",
       "      <td>57.045772</td>\n",
       "      <td>33.704578</td>\n",
       "      <td>65.021994</td>\n",
       "      <td>57.045772</td>\n",
       "      <td>57.045772</td>\n",
       "      <td>-7.745965</td>\n",
       "      <td>-7.745965</td>\n",
       "      <td>-7.745965</td>\n",
       "      <td>-7.745965</td>\n",
       "      <td>-7.745965</td>\n",
       "      <td>-7.745965</td>\n",
       "      <td>0.0</td>\n",
       "      <td>0.0</td>\n",
       "      <td>0.0</td>\n",
       "      <td>49.299807</td>\n",
       "    </tr>\n",
       "    <tr>\n",
       "      <th>148</th>\n",
       "      <td>2023-08-07</td>\n",
       "      <td>57.631828</td>\n",
       "      <td>37.331656</td>\n",
       "      <td>69.812066</td>\n",
       "      <td>57.630952</td>\n",
       "      <td>57.633974</td>\n",
       "      <td>-4.252795</td>\n",
       "      <td>-4.252795</td>\n",
       "      <td>-4.252795</td>\n",
       "      <td>-4.252795</td>\n",
       "      <td>-4.252795</td>\n",
       "      <td>-4.252795</td>\n",
       "      <td>0.0</td>\n",
       "      <td>0.0</td>\n",
       "      <td>0.0</td>\n",
       "      <td>53.379034</td>\n",
       "    </tr>\n",
       "    <tr>\n",
       "      <th>149</th>\n",
       "      <td>2023-08-14</td>\n",
       "      <td>58.217884</td>\n",
       "      <td>40.321993</td>\n",
       "      <td>73.298652</td>\n",
       "      <td>58.214722</td>\n",
       "      <td>58.223469</td>\n",
       "      <td>-1.755968</td>\n",
       "      <td>-1.755968</td>\n",
       "      <td>-1.755968</td>\n",
       "      <td>-1.755968</td>\n",
       "      <td>-1.755968</td>\n",
       "      <td>-1.755968</td>\n",
       "      <td>0.0</td>\n",
       "      <td>0.0</td>\n",
       "      <td>0.0</td>\n",
       "      <td>56.461917</td>\n",
       "    </tr>\n",
       "    <tr>\n",
       "      <th>150</th>\n",
       "      <td>2023-08-21</td>\n",
       "      <td>58.803941</td>\n",
       "      <td>43.960178</td>\n",
       "      <td>74.150284</td>\n",
       "      <td>58.797608</td>\n",
       "      <td>58.813606</td>\n",
       "      <td>-0.152457</td>\n",
       "      <td>-0.152457</td>\n",
       "      <td>-0.152457</td>\n",
       "      <td>-0.152457</td>\n",
       "      <td>-0.152457</td>\n",
       "      <td>-0.152457</td>\n",
       "      <td>0.0</td>\n",
       "      <td>0.0</td>\n",
       "      <td>0.0</td>\n",
       "      <td>58.651484</td>\n",
       "    </tr>\n",
       "    <tr>\n",
       "      <th>151</th>\n",
       "      <td>2023-08-28</td>\n",
       "      <td>59.389997</td>\n",
       "      <td>44.232839</td>\n",
       "      <td>77.049922</td>\n",
       "      <td>59.379800</td>\n",
       "      <td>59.406163</td>\n",
       "      <td>1.240705</td>\n",
       "      <td>1.240705</td>\n",
       "      <td>1.240705</td>\n",
       "      <td>1.240705</td>\n",
       "      <td>1.240705</td>\n",
       "      <td>1.240705</td>\n",
       "      <td>0.0</td>\n",
       "      <td>0.0</td>\n",
       "      <td>0.0</td>\n",
       "      <td>60.630702</td>\n",
       "    </tr>\n",
       "    <tr>\n",
       "      <th>152</th>\n",
       "      <td>2023-09-04</td>\n",
       "      <td>59.976053</td>\n",
       "      <td>46.684863</td>\n",
       "      <td>78.906363</td>\n",
       "      <td>59.960912</td>\n",
       "      <td>60.000603</td>\n",
       "      <td>2.720408</td>\n",
       "      <td>2.720408</td>\n",
       "      <td>2.720408</td>\n",
       "      <td>2.720408</td>\n",
       "      <td>2.720408</td>\n",
       "      <td>2.720408</td>\n",
       "      <td>0.0</td>\n",
       "      <td>0.0</td>\n",
       "      <td>0.0</td>\n",
       "      <td>62.696461</td>\n",
       "    </tr>\n",
       "  </tbody>\n",
       "</table>\n",
       "</div>"
      ],
      "text/plain": [
       "            ds      trend  yhat_lower  yhat_upper  trend_lower  trend_upper  \\\n",
       "143 2023-07-03  54.701547   25.636892   57.039335    54.701547    54.701547   \n",
       "144 2023-07-10  55.287603   25.110225   57.279826    55.287603    55.287603   \n",
       "145 2023-07-17  55.873659   27.234004   58.983766    55.873659    55.873659   \n",
       "146 2023-07-24  56.459715   31.113788   60.611462    56.459715    56.459715   \n",
       "147 2023-07-31  57.045772   33.704578   65.021994    57.045772    57.045772   \n",
       "148 2023-08-07  57.631828   37.331656   69.812066    57.630952    57.633974   \n",
       "149 2023-08-14  58.217884   40.321993   73.298652    58.214722    58.223469   \n",
       "150 2023-08-21  58.803941   43.960178   74.150284    58.797608    58.813606   \n",
       "151 2023-08-28  59.389997   44.232839   77.049922    59.379800    59.406163   \n",
       "152 2023-09-04  59.976053   46.684863   78.906363    59.960912    60.000603   \n",
       "\n",
       "     additive_terms  additive_terms_lower  additive_terms_upper     yearly  \\\n",
       "143      -12.333115            -12.333115            -12.333115 -12.333115   \n",
       "144      -13.125164            -13.125164            -13.125164 -13.125164   \n",
       "145      -13.109015            -13.109015            -13.109015 -13.109015   \n",
       "146      -11.181765            -11.181765            -11.181765 -11.181765   \n",
       "147       -7.745965             -7.745965             -7.745965  -7.745965   \n",
       "148       -4.252795             -4.252795             -4.252795  -4.252795   \n",
       "149       -1.755968             -1.755968             -1.755968  -1.755968   \n",
       "150       -0.152457             -0.152457             -0.152457  -0.152457   \n",
       "151        1.240705              1.240705              1.240705   1.240705   \n",
       "152        2.720408              2.720408              2.720408   2.720408   \n",
       "\n",
       "     yearly_lower  yearly_upper  multiplicative_terms  \\\n",
       "143    -12.333115    -12.333115                   0.0   \n",
       "144    -13.125164    -13.125164                   0.0   \n",
       "145    -13.109015    -13.109015                   0.0   \n",
       "146    -11.181765    -11.181765                   0.0   \n",
       "147     -7.745965     -7.745965                   0.0   \n",
       "148     -4.252795     -4.252795                   0.0   \n",
       "149     -1.755968     -1.755968                   0.0   \n",
       "150     -0.152457     -0.152457                   0.0   \n",
       "151      1.240705      1.240705                   0.0   \n",
       "152      2.720408      2.720408                   0.0   \n",
       "\n",
       "     multiplicative_terms_lower  multiplicative_terms_upper       yhat  \n",
       "143                         0.0                         0.0  42.368431  \n",
       "144                         0.0                         0.0  42.162439  \n",
       "145                         0.0                         0.0  42.764644  \n",
       "146                         0.0                         0.0  45.277950  \n",
       "147                         0.0                         0.0  49.299807  \n",
       "148                         0.0                         0.0  53.379034  \n",
       "149                         0.0                         0.0  56.461917  \n",
       "150                         0.0                         0.0  58.651484  \n",
       "151                         0.0                         0.0  60.630702  \n",
       "152                         0.0                         0.0  62.696461  "
      ]
     },
     "execution_count": 42,
     "metadata": {},
     "output_type": "execute_result"
    }
   ],
   "source": [
    "# pjme_test_fcst_future.tail(10)"
   ]
  },
  {
   "cell_type": "code",
   "execution_count": 16,
   "metadata": {},
   "outputs": [
    {
     "data": {
      "text/plain": [
       "147    49.299807\n",
       "148    53.379034\n",
       "149    56.461917\n",
       "150    58.651484\n",
       "151    60.630702\n",
       "152    62.696461\n",
       "Name: yhat, dtype: float64"
      ]
     },
     "execution_count": 16,
     "metadata": {},
     "output_type": "execute_result"
    }
   ],
   "source": [
    "future_yhat = pjme_test_fcst_future['yhat'].iloc[-6:]\n",
    "future_yhat"
   ]
  },
  {
   "cell_type": "markdown",
   "metadata": {},
   "source": [
    "The predictions seem quite way off the mark, as seen in the plot as well."
   ]
  },
  {
   "cell_type": "code",
   "execution_count": 17,
   "metadata": {},
   "outputs": [
    {
     "data": {
      "image/png": "[encoded data removed]",
      "text/plain": [
       "<Figure size 1000x500 with 1 Axes>"
      ]
     },
     "metadata": {},
     "output_type": "display_data"
    }
   ],
   "source": [
    "fig, ax = plt.subplots(figsize=(10, 5))\n",
    "fig = model.plot(pjme_test_fcst_future, ax=ax)\n",
    "ax.set_title('Prophet Forecast')\n",
    "plt.show()"
   ]
  },
  {
   "cell_type": "code",
   "execution_count": 18,
   "metadata": {},
   "outputs": [],
   "source": [
    "def forecast_accuracy(forecast, actual):\n",
    "      me = np.mean(forecast - actual)             # ME\n",
    "      rmse = np.mean((forecast - actual)**2)**.5  # RMSE\n",
    "      # Direction accuracy\n",
    "      forecast_diff = np.diff(forecast)\n",
    "      actual_diff = np.diff(actual)\n",
    "      direction_accuracy = np.mean(np.sign(forecast_diff) == np.sign(actual_diff))\n",
    "    \n",
    "      return {'me': me, 'rmse': rmse, 'direction_accuracy': direction_accuracy}\n"
   ]
  },
  {
   "cell_type": "code",
   "execution_count": 19,
   "metadata": {},
   "outputs": [
    {
     "name": "stdout",
     "output_type": "stream",
     "text": [
      "Prophet Forecast Accuracy of: wPreis\n",
      "me     :  51.5999\n",
      "rmse   :  51.9709\n",
      "direction_accuracy :  0.6\n"
     ]
    }
   ],
   "source": [
    "def adjust(val, length= 6): return str(val).ljust(length) # length\n",
    "print('Prophet Forecast Accuracy of: wPreis')\n",
    "accuracy_prod = forecast_accuracy(pjme_test_fcst_future['yhat'].iloc[-6:].values, df_test['wPreis'])\n",
    "for k, v in accuracy_prod.items():\n",
    "    print(adjust(k), ': ', round(v,4))"
   ]
  },
  {
   "cell_type": "code",
   "execution_count": 20,
   "metadata": {},
   "outputs": [],
   "source": [
    "future_yhat.index = df_test.index\n"
   ]
  },
  {
   "cell_type": "code",
   "execution_count": 21,
   "metadata": {},
   "outputs": [
    {
     "data": {
      "image/png": "[encoded data removed]",
      "text/plain": [
       "<Figure size 640x480 with 1 Axes>"
      ]
     },
     "metadata": {},
     "output_type": "display_data"
    }
   ],
   "source": [
    "# plot expected vs preducted\n",
    "plt.plot(df_test['wPreis'], label='Expected')\n",
    "plt.plot(future_yhat, label='Predicted')\n",
    "plt.legend()\n",
    "plt.show()"
   ]
  },
  {
   "attachments": {},
   "cell_type": "markdown",
   "metadata": {},
   "source": [
    "## Walk-forward validation"
   ]
  },
  {
   "cell_type": "markdown",
   "metadata": {},
   "source": [
    "For walk-forward validation, just as before we train the model at every step of a loop where we append the training dataset with the newest step from the test data set and predict corresponding one-step at each stage to get a prediction list."
   ]
  },
  {
   "cell_type": "code",
   "execution_count": 22,
   "metadata": {},
   "outputs": [],
   "source": [
    "predictions = {}"
   ]
  },
  {
   "cell_type": "code",
   "execution_count": 27,
   "metadata": {},
   "outputs": [
    {
     "name": "stdout",
     "output_type": "stream",
     "text": [
      "0\n",
      "1\n",
      "2\n",
      "3\n",
      "4\n",
      "5\n"
     ]
    }
   ],
   "source": [
    "for t in range(0,len(pjme_test_prophet)):\n",
    "    print(t)"
   ]
  },
  {
   "cell_type": "code",
   "execution_count": 23,
   "metadata": {},
   "outputs": [
    {
     "name": "stderr",
     "output_type": "stream",
     "text": [
      "11:46:26 - cmdstanpy - INFO - Chain [1] start processing\n"
     ]
    },
    {
     "name": "stderr",
     "output_type": "stream",
     "text": [
      "11:46:26 - cmdstanpy - INFO - Chain [1] done processing\n",
      "11:46:26 - cmdstanpy - INFO - Chain [1] start processing\n",
      "11:46:26 - cmdstanpy - INFO - Chain [1] done processing\n",
      "11:46:26 - cmdstanpy - INFO - Chain [1] start processing\n",
      "11:46:26 - cmdstanpy - INFO - Chain [1] done processing\n",
      "11:46:26 - cmdstanpy - INFO - Chain [1] start processing\n",
      "11:46:26 - cmdstanpy - INFO - Chain [1] done processing\n",
      "11:46:26 - cmdstanpy - INFO - Chain [1] start processing\n",
      "11:46:26 - cmdstanpy - INFO - Chain [1] done processing\n",
      "11:46:26 - cmdstanpy - INFO - Chain [1] start processing\n",
      "11:46:26 - cmdstanpy - INFO - Chain [1] done processing\n"
     ]
    }
   ],
   "source": [
    "input = pjme_train_prophet #starting input as the original training dataset\n",
    "for t in range(0,len(pjme_test_prophet)):\n",
    "    model = Prophet() #Prophet requires an initialisation every time before fit\n",
    "    model.fit(input) \n",
    "    future = model.make_future_dataframe(periods=1, freq='W-MON') # we only make the future dataframe for 1 step at a time now\n",
    "    pred_step = model.predict(future) # and get the prediction \"row\" for that one step\n",
    "    # print(pred_step.iloc[-1:]['yhat']) \n",
    "    predictions = pred_step[-1:]['yhat'] # adding the yhat value of the last, newest row in the predicted dataframe \n",
    "    new_obs = pjme_test_prophet.iloc[t] # getting the next row from the test dataframe\n",
    "    # print(new_obs['y']) \n",
    "    input = input.append(new_obs, ignore_index=True) # appending the new row from the test dataframe to the input at every step\n"
   ]
  },
  {
   "cell_type": "code",
   "execution_count": 37,
   "metadata": {},
   "outputs": [
    {
     "data": {
      "text/html": [
       "<div>\n",
       "<style scoped>\n",
       "    .dataframe tbody tr th:only-of-type {\n",
       "        vertical-align: middle;\n",
       "    }\n",
       "\n",
       "    .dataframe tbody tr th {\n",
       "        vertical-align: top;\n",
       "    }\n",
       "\n",
       "    .dataframe thead th {\n",
       "        text-align: right;\n",
       "    }\n",
       "</style>\n",
       "<table border=\"1\" class=\"dataframe\">\n",
       "  <thead>\n",
       "    <tr style=\"text-align: right;\">\n",
       "      <th></th>\n",
       "      <th>ds</th>\n",
       "      <th>trend</th>\n",
       "      <th>yhat_lower</th>\n",
       "      <th>yhat_upper</th>\n",
       "      <th>trend_lower</th>\n",
       "      <th>trend_upper</th>\n",
       "      <th>additive_terms</th>\n",
       "      <th>additive_terms_lower</th>\n",
       "      <th>additive_terms_upper</th>\n",
       "      <th>yearly</th>\n",
       "      <th>yearly_lower</th>\n",
       "      <th>yearly_upper</th>\n",
       "      <th>multiplicative_terms</th>\n",
       "      <th>multiplicative_terms_lower</th>\n",
       "      <th>multiplicative_terms_upper</th>\n",
       "      <th>yhat</th>\n",
       "    </tr>\n",
       "  </thead>\n",
       "  <tbody>\n",
       "    <tr>\n",
       "      <th>0</th>\n",
       "      <td>2020-09-14</td>\n",
       "      <td>-46.236301</td>\n",
       "      <td>-57.295670</td>\n",
       "      <td>-26.135470</td>\n",
       "      <td>-46.236301</td>\n",
       "      <td>-46.236301</td>\n",
       "      <td>4.862986</td>\n",
       "      <td>4.862986</td>\n",
       "      <td>4.862986</td>\n",
       "      <td>4.862986</td>\n",
       "      <td>4.862986</td>\n",
       "      <td>4.862986</td>\n",
       "      <td>0.0</td>\n",
       "      <td>0.0</td>\n",
       "      <td>0.0</td>\n",
       "      <td>-41.373315</td>\n",
       "    </tr>\n",
       "    <tr>\n",
       "      <th>1</th>\n",
       "      <td>2020-09-28</td>\n",
       "      <td>-44.721030</td>\n",
       "      <td>-55.309072</td>\n",
       "      <td>-23.915877</td>\n",
       "      <td>-44.721030</td>\n",
       "      <td>-44.721030</td>\n",
       "      <td>5.329993</td>\n",
       "      <td>5.329993</td>\n",
       "      <td>5.329993</td>\n",
       "      <td>5.329993</td>\n",
       "      <td>5.329993</td>\n",
       "      <td>5.329993</td>\n",
       "      <td>0.0</td>\n",
       "      <td>0.0</td>\n",
       "      <td>0.0</td>\n",
       "      <td>-39.391038</td>\n",
       "    </tr>\n",
       "    <tr>\n",
       "      <th>2</th>\n",
       "      <td>2020-10-12</td>\n",
       "      <td>-43.205759</td>\n",
       "      <td>-52.929989</td>\n",
       "      <td>-22.632771</td>\n",
       "      <td>-43.205759</td>\n",
       "      <td>-43.205759</td>\n",
       "      <td>5.617522</td>\n",
       "      <td>5.617522</td>\n",
       "      <td>5.617522</td>\n",
       "      <td>5.617522</td>\n",
       "      <td>5.617522</td>\n",
       "      <td>5.617522</td>\n",
       "      <td>0.0</td>\n",
       "      <td>0.0</td>\n",
       "      <td>0.0</td>\n",
       "      <td>-37.588237</td>\n",
       "    </tr>\n",
       "    <tr>\n",
       "      <th>3</th>\n",
       "      <td>2020-10-19</td>\n",
       "      <td>-42.448124</td>\n",
       "      <td>-52.115099</td>\n",
       "      <td>-21.570009</td>\n",
       "      <td>-42.448124</td>\n",
       "      <td>-42.448124</td>\n",
       "      <td>6.083340</td>\n",
       "      <td>6.083340</td>\n",
       "      <td>6.083340</td>\n",
       "      <td>6.083340</td>\n",
       "      <td>6.083340</td>\n",
       "      <td>6.083340</td>\n",
       "      <td>0.0</td>\n",
       "      <td>0.0</td>\n",
       "      <td>0.0</td>\n",
       "      <td>-36.364784</td>\n",
       "    </tr>\n",
       "    <tr>\n",
       "      <th>4</th>\n",
       "      <td>2020-10-26</td>\n",
       "      <td>-41.690489</td>\n",
       "      <td>-49.583764</td>\n",
       "      <td>-19.354945</td>\n",
       "      <td>-41.690489</td>\n",
       "      <td>-41.690489</td>\n",
       "      <td>6.511988</td>\n",
       "      <td>6.511988</td>\n",
       "      <td>6.511988</td>\n",
       "      <td>6.511988</td>\n",
       "      <td>6.511988</td>\n",
       "      <td>6.511988</td>\n",
       "      <td>0.0</td>\n",
       "      <td>0.0</td>\n",
       "      <td>0.0</td>\n",
       "      <td>-35.178501</td>\n",
       "    </tr>\n",
       "    <tr>\n",
       "      <th>5</th>\n",
       "      <td>2020-11-02</td>\n",
       "      <td>-40.932853</td>\n",
       "      <td>-48.726077</td>\n",
       "      <td>-18.322105</td>\n",
       "      <td>-40.932853</td>\n",
       "      <td>-40.932853</td>\n",
       "      <td>7.175649</td>\n",
       "      <td>7.175649</td>\n",
       "      <td>7.175649</td>\n",
       "      <td>7.175649</td>\n",
       "      <td>7.175649</td>\n",
       "      <td>7.175649</td>\n",
       "      <td>0.0</td>\n",
       "      <td>0.0</td>\n",
       "      <td>0.0</td>\n",
       "      <td>-33.757204</td>\n",
       "    </tr>\n",
       "    <tr>\n",
       "      <th>6</th>\n",
       "      <td>2020-11-09</td>\n",
       "      <td>-40.175218</td>\n",
       "      <td>-48.233062</td>\n",
       "      <td>-17.044288</td>\n",
       "      <td>-40.175218</td>\n",
       "      <td>-40.175218</td>\n",
       "      <td>8.066565</td>\n",
       "      <td>8.066565</td>\n",
       "      <td>8.066565</td>\n",
       "      <td>8.066565</td>\n",
       "      <td>8.066565</td>\n",
       "      <td>8.066565</td>\n",
       "      <td>0.0</td>\n",
       "      <td>0.0</td>\n",
       "      <td>0.0</td>\n",
       "      <td>-32.108654</td>\n",
       "    </tr>\n",
       "    <tr>\n",
       "      <th>7</th>\n",
       "      <td>2020-11-16</td>\n",
       "      <td>-39.417583</td>\n",
       "      <td>-46.721336</td>\n",
       "      <td>-14.331214</td>\n",
       "      <td>-39.417583</td>\n",
       "      <td>-39.417583</td>\n",
       "      <td>8.690802</td>\n",
       "      <td>8.690802</td>\n",
       "      <td>8.690802</td>\n",
       "      <td>8.690802</td>\n",
       "      <td>8.690802</td>\n",
       "      <td>8.690802</td>\n",
       "      <td>0.0</td>\n",
       "      <td>0.0</td>\n",
       "      <td>0.0</td>\n",
       "      <td>-30.726781</td>\n",
       "    </tr>\n",
       "    <tr>\n",
       "      <th>8</th>\n",
       "      <td>2020-11-23</td>\n",
       "      <td>-38.659947</td>\n",
       "      <td>-45.057267</td>\n",
       "      <td>-15.301939</td>\n",
       "      <td>-38.659947</td>\n",
       "      <td>-38.659947</td>\n",
       "      <td>8.756613</td>\n",
       "      <td>8.756613</td>\n",
       "      <td>8.756613</td>\n",
       "      <td>8.756613</td>\n",
       "      <td>8.756613</td>\n",
       "      <td>8.756613</td>\n",
       "      <td>0.0</td>\n",
       "      <td>0.0</td>\n",
       "      <td>0.0</td>\n",
       "      <td>-29.903334</td>\n",
       "    </tr>\n",
       "    <tr>\n",
       "      <th>9</th>\n",
       "      <td>2020-11-30</td>\n",
       "      <td>-37.902312</td>\n",
       "      <td>-44.622834</td>\n",
       "      <td>-13.238101</td>\n",
       "      <td>-37.902312</td>\n",
       "      <td>-37.902312</td>\n",
       "      <td>8.768075</td>\n",
       "      <td>8.768075</td>\n",
       "      <td>8.768075</td>\n",
       "      <td>8.768075</td>\n",
       "      <td>8.768075</td>\n",
       "      <td>8.768075</td>\n",
       "      <td>0.0</td>\n",
       "      <td>0.0</td>\n",
       "      <td>0.0</td>\n",
       "      <td>-29.134238</td>\n",
       "    </tr>\n",
       "    <tr>\n",
       "      <th>10</th>\n",
       "      <td>2020-12-07</td>\n",
       "      <td>-37.144677</td>\n",
       "      <td>-42.596646</td>\n",
       "      <td>-11.488831</td>\n",
       "      <td>-37.144677</td>\n",
       "      <td>-37.144677</td>\n",
       "      <td>9.496500</td>\n",
       "      <td>9.496500</td>\n",
       "      <td>9.496500</td>\n",
       "      <td>9.496500</td>\n",
       "      <td>9.496500</td>\n",
       "      <td>9.496500</td>\n",
       "      <td>0.0</td>\n",
       "      <td>0.0</td>\n",
       "      <td>0.0</td>\n",
       "      <td>-27.648176</td>\n",
       "    </tr>\n",
       "    <tr>\n",
       "      <th>11</th>\n",
       "      <td>2020-12-14</td>\n",
       "      <td>-36.387041</td>\n",
       "      <td>-41.345509</td>\n",
       "      <td>-9.841694</td>\n",
       "      <td>-36.387041</td>\n",
       "      <td>-36.387041</td>\n",
       "      <td>10.823095</td>\n",
       "      <td>10.823095</td>\n",
       "      <td>10.823095</td>\n",
       "      <td>10.823095</td>\n",
       "      <td>10.823095</td>\n",
       "      <td>10.823095</td>\n",
       "      <td>0.0</td>\n",
       "      <td>0.0</td>\n",
       "      <td>0.0</td>\n",
       "      <td>-25.563946</td>\n",
       "    </tr>\n",
       "    <tr>\n",
       "      <th>12</th>\n",
       "      <td>2020-12-21</td>\n",
       "      <td>-35.629406</td>\n",
       "      <td>-39.261385</td>\n",
       "      <td>-7.537178</td>\n",
       "      <td>-35.629406</td>\n",
       "      <td>-35.629406</td>\n",
       "      <td>11.504477</td>\n",
       "      <td>11.504477</td>\n",
       "      <td>11.504477</td>\n",
       "      <td>11.504477</td>\n",
       "      <td>11.504477</td>\n",
       "      <td>11.504477</td>\n",
       "      <td>0.0</td>\n",
       "      <td>0.0</td>\n",
       "      <td>0.0</td>\n",
       "      <td>-24.124929</td>\n",
       "    </tr>\n",
       "    <tr>\n",
       "      <th>13</th>\n",
       "      <td>2020-12-28</td>\n",
       "      <td>-34.871771</td>\n",
       "      <td>-40.441357</td>\n",
       "      <td>-9.672181</td>\n",
       "      <td>-34.871771</td>\n",
       "      <td>-34.871771</td>\n",
       "      <td>10.444057</td>\n",
       "      <td>10.444057</td>\n",
       "      <td>10.444057</td>\n",
       "      <td>10.444057</td>\n",
       "      <td>10.444057</td>\n",
       "      <td>10.444057</td>\n",
       "      <td>0.0</td>\n",
       "      <td>0.0</td>\n",
       "      <td>0.0</td>\n",
       "      <td>-24.427714</td>\n",
       "    </tr>\n",
       "    <tr>\n",
       "      <th>14</th>\n",
       "      <td>2021-01-04</td>\n",
       "      <td>-34.114135</td>\n",
       "      <td>-41.784566</td>\n",
       "      <td>-9.760287</td>\n",
       "      <td>-34.114135</td>\n",
       "      <td>-34.114135</td>\n",
       "      <td>8.118855</td>\n",
       "      <td>8.118855</td>\n",
       "      <td>8.118855</td>\n",
       "      <td>8.118855</td>\n",
       "      <td>8.118855</td>\n",
       "      <td>8.118855</td>\n",
       "      <td>0.0</td>\n",
       "      <td>0.0</td>\n",
       "      <td>0.0</td>\n",
       "      <td>-25.995281</td>\n",
       "    </tr>\n",
       "  </tbody>\n",
       "</table>\n",
       "</div>"
      ],
      "text/plain": [
       "           ds      trend  yhat_lower  yhat_upper  trend_lower  trend_upper  \\\n",
       "0  2020-09-14 -46.236301  -57.295670  -26.135470   -46.236301   -46.236301   \n",
       "1  2020-09-28 -44.721030  -55.309072  -23.915877   -44.721030   -44.721030   \n",
       "2  2020-10-12 -43.205759  -52.929989  -22.632771   -43.205759   -43.205759   \n",
       "3  2020-10-19 -42.448124  -52.115099  -21.570009   -42.448124   -42.448124   \n",
       "4  2020-10-26 -41.690489  -49.583764  -19.354945   -41.690489   -41.690489   \n",
       "5  2020-11-02 -40.932853  -48.726077  -18.322105   -40.932853   -40.932853   \n",
       "6  2020-11-09 -40.175218  -48.233062  -17.044288   -40.175218   -40.175218   \n",
       "7  2020-11-16 -39.417583  -46.721336  -14.331214   -39.417583   -39.417583   \n",
       "8  2020-11-23 -38.659947  -45.057267  -15.301939   -38.659947   -38.659947   \n",
       "9  2020-11-30 -37.902312  -44.622834  -13.238101   -37.902312   -37.902312   \n",
       "10 2020-12-07 -37.144677  -42.596646  -11.488831   -37.144677   -37.144677   \n",
       "11 2020-12-14 -36.387041  -41.345509   -9.841694   -36.387041   -36.387041   \n",
       "12 2020-12-21 -35.629406  -39.261385   -7.537178   -35.629406   -35.629406   \n",
       "13 2020-12-28 -34.871771  -40.441357   -9.672181   -34.871771   -34.871771   \n",
       "14 2021-01-04 -34.114135  -41.784566   -9.760287   -34.114135   -34.114135   \n",
       "\n",
       "    additive_terms  additive_terms_lower  additive_terms_upper     yearly  \\\n",
       "0         4.862986              4.862986              4.862986   4.862986   \n",
       "1         5.329993              5.329993              5.329993   5.329993   \n",
       "2         5.617522              5.617522              5.617522   5.617522   \n",
       "3         6.083340              6.083340              6.083340   6.083340   \n",
       "4         6.511988              6.511988              6.511988   6.511988   \n",
       "5         7.175649              7.175649              7.175649   7.175649   \n",
       "6         8.066565              8.066565              8.066565   8.066565   \n",
       "7         8.690802              8.690802              8.690802   8.690802   \n",
       "8         8.756613              8.756613              8.756613   8.756613   \n",
       "9         8.768075              8.768075              8.768075   8.768075   \n",
       "10        9.496500              9.496500              9.496500   9.496500   \n",
       "11       10.823095             10.823095             10.823095  10.823095   \n",
       "12       11.504477             11.504477             11.504477  11.504477   \n",
       "13       10.444057             10.444057             10.444057  10.444057   \n",
       "14        8.118855              8.118855              8.118855   8.118855   \n",
       "\n",
       "    yearly_lower  yearly_upper  multiplicative_terms  \\\n",
       "0       4.862986      4.862986                   0.0   \n",
       "1       5.329993      5.329993                   0.0   \n",
       "2       5.617522      5.617522                   0.0   \n",
       "3       6.083340      6.083340                   0.0   \n",
       "4       6.511988      6.511988                   0.0   \n",
       "5       7.175649      7.175649                   0.0   \n",
       "6       8.066565      8.066565                   0.0   \n",
       "7       8.690802      8.690802                   0.0   \n",
       "8       8.756613      8.756613                   0.0   \n",
       "9       8.768075      8.768075                   0.0   \n",
       "10      9.496500      9.496500                   0.0   \n",
       "11     10.823095     10.823095                   0.0   \n",
       "12     11.504477     11.504477                   0.0   \n",
       "13     10.444057     10.444057                   0.0   \n",
       "14      8.118855      8.118855                   0.0   \n",
       "\n",
       "    multiplicative_terms_lower  multiplicative_terms_upper       yhat  \n",
       "0                          0.0                         0.0 -41.373315  \n",
       "1                          0.0                         0.0 -39.391038  \n",
       "2                          0.0                         0.0 -37.588237  \n",
       "3                          0.0                         0.0 -36.364784  \n",
       "4                          0.0                         0.0 -35.178501  \n",
       "5                          0.0                         0.0 -33.757204  \n",
       "6                          0.0                         0.0 -32.108654  \n",
       "7                          0.0                         0.0 -30.726781  \n",
       "8                          0.0                         0.0 -29.903334  \n",
       "9                          0.0                         0.0 -29.134238  \n",
       "10                         0.0                         0.0 -27.648176  \n",
       "11                         0.0                         0.0 -25.563946  \n",
       "12                         0.0                         0.0 -24.124929  \n",
       "13                         0.0                         0.0 -24.427714  \n",
       "14                         0.0                         0.0 -25.995281  "
      ]
     },
     "execution_count": 37,
     "metadata": {},
     "output_type": "execute_result"
    }
   ],
   "source": [
    "# pred_step.head(15)"
   ]
  },
  {
   "cell_type": "code",
   "execution_count": 24,
   "metadata": {},
   "outputs": [],
   "source": [
    "predictions = pred_step[-6:]['yhat']"
   ]
  },
  {
   "cell_type": "code",
   "execution_count": 25,
   "metadata": {},
   "outputs": [
    {
     "data": {
      "text/plain": [
       "date\n",
       "2023-07-31    31.059974\n",
       "2023-08-07    28.487436\n",
       "2023-08-14    27.659631\n",
       "2023-08-21    30.430859\n",
       "2023-08-28    36.706402\n",
       "2023-09-04    44.092295\n",
       "Name: yhat, dtype: float64"
      ]
     },
     "execution_count": 25,
     "metadata": {},
     "output_type": "execute_result"
    }
   ],
   "source": [
    "predictions.index = pjme_test_prophet.index\n",
    "# predictions"
   ]
  },
  {
   "cell_type": "code",
   "execution_count": 49,
   "metadata": {},
   "outputs": [
    {
     "data": {
      "text/html": [
       "<div>\n",
       "<style scoped>\n",
       "    .dataframe tbody tr th:only-of-type {\n",
       "        vertical-align: middle;\n",
       "    }\n",
       "\n",
       "    .dataframe tbody tr th {\n",
       "        vertical-align: top;\n",
       "    }\n",
       "\n",
       "    .dataframe thead th {\n",
       "        text-align: right;\n",
       "    }\n",
       "</style>\n",
       "<table border=\"1\" class=\"dataframe\">\n",
       "  <thead>\n",
       "    <tr style=\"text-align: right;\">\n",
       "      <th></th>\n",
       "      <th>ds</th>\n",
       "      <th>y</th>\n",
       "    </tr>\n",
       "    <tr>\n",
       "      <th>date</th>\n",
       "      <th></th>\n",
       "      <th></th>\n",
       "    </tr>\n",
       "  </thead>\n",
       "  <tbody>\n",
       "    <tr>\n",
       "      <th>2023-07-31</th>\n",
       "      <td>2023-07-31</td>\n",
       "      <td>7.458214</td>\n",
       "    </tr>\n",
       "    <tr>\n",
       "      <th>2023-08-07</th>\n",
       "      <td>2023-08-07</td>\n",
       "      <td>7.832750</td>\n",
       "    </tr>\n",
       "    <tr>\n",
       "      <th>2023-08-14</th>\n",
       "      <td>2023-08-14</td>\n",
       "      <td>3.525113</td>\n",
       "    </tr>\n",
       "    <tr>\n",
       "      <th>2023-08-21</th>\n",
       "      <td>2023-08-21</td>\n",
       "      <td>3.896402</td>\n",
       "    </tr>\n",
       "    <tr>\n",
       "      <th>2023-08-28</th>\n",
       "      <td>2023-08-28</td>\n",
       "      <td>6.754483</td>\n",
       "    </tr>\n",
       "    <tr>\n",
       "      <th>2023-09-04</th>\n",
       "      <td>2023-09-04</td>\n",
       "      <td>2.053265</td>\n",
       "    </tr>\n",
       "  </tbody>\n",
       "</table>\n",
       "</div>"
      ],
      "text/plain": [
       "                   ds         y\n",
       "date                           \n",
       "2023-07-31 2023-07-31  7.458214\n",
       "2023-08-07 2023-08-07  7.832750\n",
       "2023-08-14 2023-08-14  3.525113\n",
       "2023-08-21 2023-08-21  3.896402\n",
       "2023-08-28 2023-08-28  6.754483\n",
       "2023-09-04 2023-09-04  2.053265"
      ]
     },
     "execution_count": 49,
     "metadata": {},
     "output_type": "execute_result"
    }
   ],
   "source": [
    "# pjme_test_prophet"
   ]
  },
  {
   "cell_type": "code",
   "execution_count": 26,
   "metadata": {},
   "outputs": [
    {
     "name": "stdout",
     "output_type": "stream",
     "text": [
      "Prophet Forecast Accuracy of: wPreis\n",
      "me     :  27.8194\n",
      "rmse   :  28.6781\n",
      "direction_accuracy :  0.6\n"
     ]
    }
   ],
   "source": [
    "def adjust(val, length= 6): return str(val).ljust(length) # length\n",
    "print('Prophet Forecast Accuracy of: wPreis')\n",
    "accuracy_prod = forecast_accuracy(predictions, pjme_test_prophet['y'])\n",
    "for k, v in accuracy_prod.items():\n",
    "    print(adjust(k), ': ', round(v,4))"
   ]
  },
  {
   "cell_type": "code",
   "execution_count": 27,
   "metadata": {},
   "outputs": [
    {
     "data": {
      "image/png": "[encoded data removed]",
      "text/plain": [
       "<Figure size 640x480 with 1 Axes>"
      ]
     },
     "metadata": {},
     "output_type": "display_data"
    }
   ],
   "source": [
    "# plot expected vs preducted\n",
    "plt.plot(pjme_test_prophet['y'], label='Expected')\n",
    "plt.plot(predictions, label='Predicted')\n",
    "plt.legend()\n",
    "plt.show()"
   ]
  }
 ],
 "metadata": {
  "kernelspec": {
   "display_name": "Python 3",
   "language": "python",
   "name": "python3"
  },
  "language_info": {
   "codemirror_mode": {
    "name": "ipython",
    "version": 3
   },
   "file_extension": ".py",
   "mimetype": "text/x-python",
   "name": "python",
   "nbconvert_exporter": "python",
   "pygments_lexer": "ipython3",
   "version": "3.11.2"
  },
  "orig_nbformat": 4
 },
 "nbformat": 4,
 "nbformat_minor": 2
}
