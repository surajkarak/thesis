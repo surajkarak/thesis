{
 "cells": [
  {
   "cell_type": "code",
   "execution_count": 74,
   "metadata": {},
   "outputs": [],
   "source": [
    "#Importing libraries\n",
    "import warnings\n",
    "warnings.simplefilter(action='ignore', category=FutureWarning)\n",
    "import numpy as np\n",
    "import pandas as pd\n",
    "from numpy import asarray\n",
    "from sklearn.metrics import mean_absolute_error\n",
    "import matplotlib.pyplot as plt\n",
    "plt.style.use('fivethirtyeight')\n",
    "import seaborn as sns\n",
    "import matplotlib.pyplot as plt\n",
    "import plotly.express as px\n",
    "import plotly.graph_objects as go\n",
    "from plotly.subplots import make_subplots\n",
    "import datetime\n",
    "from statsmodels.tsa.tsatools import lagmat\n",
    "from statsmodels.tsa.arima.model import ARIMA"
   ]
  },
  {
   "attachments": {},
   "cell_type": "markdown",
   "metadata": {},
   "source": [
    "# Data Import and Cleaning"
   ]
  },
  {
   "cell_type": "code",
   "execution_count": 75,
   "metadata": {},
   "outputs": [],
   "source": [
    "%store -r df_cleaned"
   ]
  },
  {
   "cell_type": "code",
   "execution_count": 76,
   "metadata": {},
   "outputs": [
    {
     "data": {
      "text/html": [
       "<div>\n",
       "<style scoped>\n",
       "    .dataframe tbody tr th:only-of-type {\n",
       "        vertical-align: middle;\n",
       "    }\n",
       "\n",
       "    .dataframe tbody tr th {\n",
       "        vertical-align: top;\n",
       "    }\n",
       "\n",
       "    .dataframe thead th {\n",
       "        text-align: right;\n",
       "    }\n",
       "</style>\n",
       "<table border=\"1\" class=\"dataframe\">\n",
       "  <thead>\n",
       "    <tr style=\"text-align: right;\">\n",
       "      <th></th>\n",
       "      <th>week</th>\n",
       "      <th>wPreis</th>\n",
       "      <th>Plz</th>\n",
       "      <th>full</th>\n",
       "      <th>date</th>\n",
       "    </tr>\n",
       "    <tr>\n",
       "      <th>date</th>\n",
       "      <th></th>\n",
       "      <th></th>\n",
       "      <th></th>\n",
       "      <th></th>\n",
       "      <th></th>\n",
       "    </tr>\n",
       "  </thead>\n",
       "  <tbody>\n",
       "    <tr>\n",
       "      <th>2020-09-14</th>\n",
       "      <td>2020-37</td>\n",
       "      <td>-37.519318</td>\n",
       "      <td>['25', '24']</td>\n",
       "      <td>A2 -  geschreddert</td>\n",
       "      <td>2020-09-14</td>\n",
       "    </tr>\n",
       "    <tr>\n",
       "      <th>2020-09-14</th>\n",
       "      <td>2020-37</td>\n",
       "      <td>-37.519318</td>\n",
       "      <td>['25', '24']</td>\n",
       "      <td>A1 &amp; A2 -  geschreddert</td>\n",
       "      <td>2020-09-14</td>\n",
       "    </tr>\n",
       "    <tr>\n",
       "      <th>2020-09-14</th>\n",
       "      <td>2020-37</td>\n",
       "      <td>-23.445068</td>\n",
       "      <td>['80', '81', '82', '83', '84', '85', '93', '94']</td>\n",
       "      <td>A3 -  geschreddert</td>\n",
       "      <td>2020-09-14</td>\n",
       "    </tr>\n",
       "    <tr>\n",
       "      <th>2020-09-14</th>\n",
       "      <td>2020-37</td>\n",
       "      <td>-36.379163</td>\n",
       "      <td>['70', '71', '73', '74', '75', '76']</td>\n",
       "      <td>A2 &amp; A3 -  geschreddert</td>\n",
       "      <td>2020-09-14</td>\n",
       "    </tr>\n",
       "    <tr>\n",
       "      <th>2020-09-14</th>\n",
       "      <td>2020-37</td>\n",
       "      <td>-27.983877</td>\n",
       "      <td>['25', '24']</td>\n",
       "      <td>A2 &amp; A3 -  geschreddert</td>\n",
       "      <td>2020-09-14</td>\n",
       "    </tr>\n",
       "    <tr>\n",
       "      <th>...</th>\n",
       "      <td>...</td>\n",
       "      <td>...</td>\n",
       "      <td>...</td>\n",
       "      <td>...</td>\n",
       "      <td>...</td>\n",
       "    </tr>\n",
       "    <tr>\n",
       "      <th>2024-04-22</th>\n",
       "      <td>2024-17</td>\n",
       "      <td>7.216049</td>\n",
       "      <td>['50', '51', '52', '53']</td>\n",
       "      <td>A2 &amp; A3 -  geschreddert</td>\n",
       "      <td>2024-04-22</td>\n",
       "    </tr>\n",
       "    <tr>\n",
       "      <th>2024-04-22</th>\n",
       "      <td>2024-17</td>\n",
       "      <td>33.349057</td>\n",
       "      <td>['70', '71', '73', '74', '75', '76']</td>\n",
       "      <td>A2 &amp; A3 -  geschreddert</td>\n",
       "      <td>2024-04-22</td>\n",
       "    </tr>\n",
       "    <tr>\n",
       "      <th>2024-04-22</th>\n",
       "      <td>2024-17</td>\n",
       "      <td>2.409250</td>\n",
       "      <td>['25', '24']</td>\n",
       "      <td>A2 -  geschreddert</td>\n",
       "      <td>2024-04-22</td>\n",
       "    </tr>\n",
       "    <tr>\n",
       "      <th>2024-04-22</th>\n",
       "      <td>2024-17</td>\n",
       "      <td>10.850000</td>\n",
       "      <td>['26', '27', '28']</td>\n",
       "      <td>A3 -  geschreddert</td>\n",
       "      <td>2024-04-22</td>\n",
       "    </tr>\n",
       "    <tr>\n",
       "      <th>2024-04-22</th>\n",
       "      <td>2024-17</td>\n",
       "      <td>40.367961</td>\n",
       "      <td>['80', '81', '82', '83', '84', '85', '93', '94']</td>\n",
       "      <td>A2 &amp; A3 -  geschreddert</td>\n",
       "      <td>2024-04-22</td>\n",
       "    </tr>\n",
       "  </tbody>\n",
       "</table>\n",
       "<p>5773 rows × 5 columns</p>\n",
       "</div>"
      ],
      "text/plain": [
       "               week     wPreis  \\\n",
       "date                             \n",
       "2020-09-14  2020-37 -37.519318   \n",
       "2020-09-14  2020-37 -37.519318   \n",
       "2020-09-14  2020-37 -23.445068   \n",
       "2020-09-14  2020-37 -36.379163   \n",
       "2020-09-14  2020-37 -27.983877   \n",
       "...             ...        ...   \n",
       "2024-04-22  2024-17   7.216049   \n",
       "2024-04-22  2024-17  33.349057   \n",
       "2024-04-22  2024-17   2.409250   \n",
       "2024-04-22  2024-17  10.850000   \n",
       "2024-04-22  2024-17  40.367961   \n",
       "\n",
       "                                                         Plz  \\\n",
       "date                                                           \n",
       "2020-09-14                                      ['25', '24']   \n",
       "2020-09-14                                      ['25', '24']   \n",
       "2020-09-14  ['80', '81', '82', '83', '84', '85', '93', '94']   \n",
       "2020-09-14              ['70', '71', '73', '74', '75', '76']   \n",
       "2020-09-14                                      ['25', '24']   \n",
       "...                                                      ...   \n",
       "2024-04-22                          ['50', '51', '52', '53']   \n",
       "2024-04-22              ['70', '71', '73', '74', '75', '76']   \n",
       "2024-04-22                                      ['25', '24']   \n",
       "2024-04-22                                ['26', '27', '28']   \n",
       "2024-04-22  ['80', '81', '82', '83', '84', '85', '93', '94']   \n",
       "\n",
       "                               full       date  \n",
       "date                                            \n",
       "2020-09-14       A2 -  geschreddert 2020-09-14  \n",
       "2020-09-14  A1 & A2 -  geschreddert 2020-09-14  \n",
       "2020-09-14       A3 -  geschreddert 2020-09-14  \n",
       "2020-09-14  A2 & A3 -  geschreddert 2020-09-14  \n",
       "2020-09-14  A2 & A3 -  geschreddert 2020-09-14  \n",
       "...                             ...        ...  \n",
       "2024-04-22  A2 & A3 -  geschreddert 2024-04-22  \n",
       "2024-04-22  A2 & A3 -  geschreddert 2024-04-22  \n",
       "2024-04-22       A2 -  geschreddert 2024-04-22  \n",
       "2024-04-22       A3 -  geschreddert 2024-04-22  \n",
       "2024-04-22  A2 & A3 -  geschreddert 2024-04-22  \n",
       "\n",
       "[5773 rows x 5 columns]"
      ]
     },
     "execution_count": 76,
     "metadata": {},
     "output_type": "execute_result"
    }
   ],
   "source": [
    "df_cleaned"
   ]
  },
  {
   "cell_type": "code",
   "execution_count": 77,
   "metadata": {},
   "outputs": [],
   "source": [
    "df = df_cleaned  "
   ]
  },
  {
   "attachments": {},
   "cell_type": "markdown",
   "metadata": {},
   "source": [
    "Extracting one cluster from the dataset for analysis."
   ]
  },
  {
   "cell_type": "code",
   "execution_count": 78,
   "metadata": {},
   "outputs": [],
   "source": [
    "TS1 = df[(df['Plz'] == \"['25', '24']\")]"
   ]
  },
  {
   "attachments": {},
   "cell_type": "markdown",
   "metadata": {},
   "source": [
    "And from this cluster, extracting one category for analysis."
   ]
  },
  {
   "cell_type": "code",
   "execution_count": 79,
   "metadata": {},
   "outputs": [],
   "source": [
    "TS1_A2 = TS1[TS1['full'] == 'A2 -  geschreddert']\n",
    "TS1_A1A2 = TS1[TS1['full'] == 'A1 & A2 -  geschreddert']\n",
    "TS1_A2A3 = TS1[TS1['full'] == 'A2 & A3 -  geschreddert']\n",
    "datasets = [TS1_A2, TS1_A1A2, TS1_A2A3]"
   ]
  },
  {
   "attachments": {},
   "cell_type": "markdown",
   "metadata": {},
   "source": [
    "# Modelling - Train, test split"
   ]
  },
  {
   "cell_type": "code",
   "execution_count": 80,
   "metadata": {},
   "outputs": [
    {
     "data": {
      "text/plain": [
       "187"
      ]
     },
     "execution_count": 80,
     "metadata": {},
     "output_type": "execute_result"
    }
   ],
   "source": [
    "len(TS1_A1A2)"
   ]
  },
  {
   "cell_type": "code",
   "execution_count": 81,
   "metadata": {},
   "outputs": [],
   "source": [
    "nobs = 6\n",
    "df_train, df_test = TS1_A1A2[0:-nobs], TS1_A1A2[-nobs:]"
   ]
  },
  {
   "attachments": {},
   "cell_type": "markdown",
   "metadata": {},
   "source": [
    "## ARIMA Model\n"
   ]
  },
  {
   "attachments": {},
   "cell_type": "markdown",
   "metadata": {},
   "source": [
    "### Static forecast using ARIMA\n"
   ]
  },
  {
   "attachments": {},
   "cell_type": "markdown",
   "metadata": {},
   "source": [
    "No retraining. We just use the best ARIMA model to forecast for the test set and evaluate.\n",
    "We use the once-trained best ARIMA model to forecast for the 6 \"steps\" in one go. "
   ]
  },
  {
   "cell_type": "code",
   "execution_count": 82,
   "metadata": {},
   "outputs": [],
   "source": [
    "model = ARIMA(df_train['wPreis'], order=(4, 1, 0))\n",
    "static_ARIMA = model.fit()"
   ]
  },
  {
   "cell_type": "code",
   "execution_count": 83,
   "metadata": {},
   "outputs": [
    {
     "data": {
      "text/plain": [
       "181    9.286463\n",
       "182    9.123604\n",
       "183    7.039256\n",
       "184    6.442182\n",
       "185    7.395429\n",
       "186    7.041302\n",
       "Name: predicted_mean, dtype: float64"
      ]
     },
     "execution_count": 83,
     "metadata": {},
     "output_type": "execute_result"
    }
   ],
   "source": [
    "static_ARIMA.forecast(steps=nobs) "
   ]
  },
  {
   "attachments": {},
   "cell_type": "markdown",
   "metadata": {},
   "source": [
    "The ARIMA forecast function does not require an \"input\" other than the steps, so either\n",
    "- we can do a static forecast (train once on the entire training dataset) and test the predictions for the required steps to compare with the test dataset or\n",
    "- train in a walk-forward validation where we retrain the model with every step of the test dataset on the new training set which includes the new observation"
   ]
  },
  {
   "cell_type": "code",
   "execution_count": 84,
   "metadata": {},
   "outputs": [],
   "source": [
    "fc = static_ARIMA.forecast(steps=nobs) \n",
    "a = np.array(fc)\n",
    "df_forecast = pd.DataFrame(a, index=df_test.index[-nobs:], columns=['Predicted_wPreis'])\n"
   ]
  },
  {
   "cell_type": "code",
   "execution_count": 85,
   "metadata": {},
   "outputs": [
    {
     "data": {
      "image/png": "[encoded data removed]",
      "text/plain": [
       "<Figure size 1500x700 with 1 Axes>"
      ]
     },
     "metadata": {},
     "output_type": "display_data"
    }
   ],
   "source": [
    "# Plot actual vs predicted values\n",
    "plt.figure(figsize=(15, 7))\n",
    "plt.plot(df_test[\"wPreis\"], color='black', label='Actual wPreis')\n",
    "plt.plot(df_forecast, color='red', label='Predicted wPreis')\n",
    "plt.xlabel(\"Timestamp\")\n",
    "plt.grid(True)\n",
    "plt.legend(loc='upper left')\n",
    "plt.title('Predicted vs Actual wPreis for ARIMA static')\n",
    "plt.show()"
   ]
  },
  {
   "attachments": {},
   "cell_type": "markdown",
   "metadata": {},
   "source": [
    "We will define a forecast accuracyy function that will calculate the mean error, RMSE and also the direction accuracy. "
   ]
  },
  {
   "cell_type": "code",
   "execution_count": 86,
   "metadata": {},
   "outputs": [],
   "source": [
    "def forecast_accuracy(forecast, actual):\n",
    "      mae = mean_absolute_error(actual, forecast)\n",
    "      me = np.mean(forecast - actual)             # ME\n",
    "      rmse = np.mean((forecast - actual)**2)**.5  # RMSE\n",
    "      # Direction accuracy\n",
    "      forecast_diff = np.diff(forecast)\n",
    "      actual_diff = np.diff(actual)\n",
    "      direction_accuracy = np.mean(np.sign(forecast_diff) == np.sign(actual_diff))\n",
    "    \n",
    "      return {'mae':mae, 'me': me, 'rmse': rmse, 'direction_accuracy': direction_accuracy}\n"
   ]
  },
  {
   "cell_type": "code",
   "execution_count": 87,
   "metadata": {},
   "outputs": [
    {
     "name": "stdout",
     "output_type": "stream",
     "text": [
      "ARIMA static forecast Accuracy of: wPreis\n",
      "mae    :  6.0017\n",
      "me     :  0.5297\n",
      "rmse   :  7.0418\n",
      "direction_accuracy :  0.6\n"
     ]
    }
   ],
   "source": [
    "def adjust(val, length= 6): return str(val).ljust(length) # length\n",
    "print('ARIMA static forecast Accuracy of: wPreis')\n",
    "stat_accuracy_prod = forecast_accuracy(df_forecast['Predicted_wPreis'].values, df_test['wPreis'])\n",
    "for k, v in stat_accuracy_prod.items():\n",
    "    print(adjust(k), ': ', round(v,4))"
   ]
  },
  {
   "cell_type": "code",
   "execution_count": null,
   "metadata": {},
   "outputs": [],
   "source": [
    " \n"
   ]
  },
  {
   "attachments": {},
   "cell_type": "markdown",
   "metadata": {},
   "source": [
    "# Walk forward validation using ARIMA model\n",
    "\n",
    "Training the whole model at each iteration including the new observation (for the next day)  "
   ]
  },
  {
   "cell_type": "code",
   "execution_count": 88,
   "metadata": {},
   "outputs": [],
   "source": [
    "X = df_train[\"wPreis\"].values"
   ]
  },
  {
   "attachments": {},
   "cell_type": "markdown",
   "metadata": {},
   "source": [
    "Take 148 observations for training and 6 for testing."
   ]
  },
  {
   "cell_type": "code",
   "execution_count": 89,
   "metadata": {},
   "outputs": [],
   "source": [
    "train, test = df_train[\"wPreis\"].values, df_test[\"wPreis\"].values"
   ]
  },
  {
   "cell_type": "code",
   "execution_count": 90,
   "metadata": {},
   "outputs": [],
   "source": [
    "history = [x for x in df_train['wPreis'].values]  \n",
    "expect=[]"
   ]
  },
  {
   "cell_type": "code",
   "execution_count": 91,
   "metadata": {},
   "outputs": [],
   "source": [
    "predictions = list()\n",
    "for t in range(len(test)): # iterate over length of test dataset\n",
    "    model = ARIMA(history, order=(4,1,0))  \n",
    "    model_fit = model.fit()\n",
    "    output = model_fit.forecast()\n",
    "    yhat = output[0]\n",
    "    predictions.append(yhat)\n",
    "    obs = df_test['wPreis'][t]\n",
    "    history.append(obs) # append the real observation at each loop\n",
    "    expect.append(obs)\n"
   ]
  },
  {
   "cell_type": "code",
   "execution_count": 92,
   "metadata": {},
   "outputs": [],
   "source": [
    "df_wPreis = pd.DataFrame(\n",
    "    {'observations': expect,\n",
    "     'forecast': predictions, \n",
    "    })\n"
   ]
  },
  {
   "cell_type": "code",
   "execution_count": 93,
   "metadata": {},
   "outputs": [
    {
     "name": "stdout",
     "output_type": "stream",
     "text": [
      "Walk-forward Validation Forecast Accuracy of wPreis\n",
      "mae        :  8.0967\n",
      "me         :  -0.6224\n",
      "rmse       :  9.4342\n",
      "direction_accuracy :  0.4\n"
     ]
    }
   ],
   "source": [
    "def adjust(val, length= 10): return str(val).ljust(length) # 10\n",
    "print('Walk-forward Validation Forecast Accuracy of wPreis')\n",
    "wf_accuracy_prod = forecast_accuracy(df_wPreis['forecast'].values, df_wPreis['observations'].values)\n",
    "for k, v in wf_accuracy_prod.items():\n",
    "    print(adjust(k), ': ', round(v,4))"
   ]
  },
  {
   "attachments": {},
   "cell_type": "markdown",
   "metadata": {},
   "source": [
    "Here, the me and rmse has improved but the direction_accuracy has decreased even further!"
   ]
  },
  {
   "cell_type": "code",
   "execution_count": 94,
   "metadata": {},
   "outputs": [
    {
     "data": {
      "image/png": "[encoded data removed]",
      "text/plain": [
       "<Figure size 1500x700 with 2 Axes>"
      ]
     },
     "metadata": {},
     "output_type": "display_data"
    }
   ],
   "source": [
    "plt.figure(figsize= (15,7))\n",
    "plt.xlabel(\"Timestamp\")\n",
    "\n",
    "ax1 = df_wPreis.observations.plot(color = 'black', grid = True, label = 'Actual wPreis')\n",
    "ax2 = df_wPreis.forecast.plot(color = 'red', grid = True, secondary_y = True, label = 'Predicted wPreis')\n",
    "\n",
    "ax1.legend(loc=1)\n",
    "ax2.legend(loc=2)\n",
    "plt.title('Predicted Vs Actual wPreis (Walk-forward)')\n",
    "plt.show()"
   ]
  },
  {
   "cell_type": "code",
   "execution_count": 95,
   "metadata": {},
   "outputs": [],
   "source": [
    "ARIMA_static = pd.DataFrame([stat_accuracy_prod])\n",
    "ARIMA_walk_forward = pd.DataFrame([wf_accuracy_prod])"
   ]
  },
  {
   "cell_type": "code",
   "execution_count": 96,
   "metadata": {},
   "outputs": [
    {
     "data": {
      "text/html": [
       "<div>\n",
       "<style scoped>\n",
       "    .dataframe tbody tr th:only-of-type {\n",
       "        vertical-align: middle;\n",
       "    }\n",
       "\n",
       "    .dataframe tbody tr th {\n",
       "        vertical-align: top;\n",
       "    }\n",
       "\n",
       "    .dataframe thead th {\n",
       "        text-align: right;\n",
       "    }\n",
       "</style>\n",
       "<table border=\"1\" class=\"dataframe\">\n",
       "  <thead>\n",
       "    <tr style=\"text-align: right;\">\n",
       "      <th></th>\n",
       "      <th>mae</th>\n",
       "      <th>me</th>\n",
       "      <th>rmse</th>\n",
       "      <th>direction_accuracy</th>\n",
       "    </tr>\n",
       "  </thead>\n",
       "  <tbody>\n",
       "    <tr>\n",
       "      <th>0</th>\n",
       "      <td>6.001718</td>\n",
       "      <td>0.529747</td>\n",
       "      <td>7.041768</td>\n",
       "      <td>0.6</td>\n",
       "    </tr>\n",
       "  </tbody>\n",
       "</table>\n",
       "</div>"
      ],
      "text/plain": [
       "        mae        me      rmse  direction_accuracy\n",
       "0  6.001718  0.529747  7.041768                 0.6"
      ]
     },
     "execution_count": 96,
     "metadata": {},
     "output_type": "execute_result"
    }
   ],
   "source": [
    "ARIMA_static"
   ]
  },
  {
   "cell_type": "code",
   "execution_count": 104,
   "metadata": {},
   "outputs": [
    {
     "name": "stdout",
     "output_type": "stream",
     "text": [
      "Stored 'ARIMA_static' (DataFrame)\n",
      "Stored 'ARIMA_walk_forward' (DataFrame)\n"
     ]
    }
   ],
   "source": [
    "%store ARIMA_static\n",
    "%store ARIMA_walk_forward\n"
   ]
  },
  {
   "cell_type": "markdown",
   "metadata": {},
   "source": [
    "## All other clusters and categories"
   ]
  },
  {
   "cell_type": "code",
   "execution_count": 136,
   "metadata": {},
   "outputs": [],
   "source": [
    "def forecast_accuracy(forecast, actual):\n",
    "    mae = mean_absolute_error(actual, forecast)\n",
    "    me = np.mean(forecast - actual)             # ME\n",
    "    rmse = np.mean((forecast - actual)**2)**.5  # RMSE\n",
    "    # Direction accuracy\n",
    "    forecast_diff = np.diff(forecast)\n",
    "    actual_diff = np.diff(actual)\n",
    "    direction_accuracy = np.mean(np.sign(forecast_diff) == np.sign(actual_diff))\n",
    "\n",
    "    return {'mae':mae, 'me': me, 'rmse': rmse, 'direction_accuracy': direction_accuracy}"
   ]
  },
  {
   "cell_type": "code",
   "execution_count": 137,
   "metadata": {},
   "outputs": [],
   "source": [
    "# For each dataset data\n",
    "def static_forecast(data):\n",
    "    category = data['full'].unique()\n",
    "    cluster = data['Plz'].unique()\n",
    "    splitratio = 0.05\n",
    "    nobs = round(len(data)*splitratio)\n",
    "\n",
    "    df_train, df_test = data[0:-nobs], data[-nobs:]\n",
    "\n",
    "    # Static forecast\n",
    "    model = ARIMA(df_train['wPreis'], order=(4, 1, 0))\n",
    "    static_ARIMA = model.fit()\n",
    "    static_ARIMA.forecast(steps=nobs) \n",
    "    fc = static_ARIMA.forecast(steps=nobs) \n",
    "    a = np.array(fc)\n",
    "    df_forecast = pd.DataFrame(a, index=df_test.index[-nobs:], columns=['Predicted_wPreis'])\n",
    "\n",
    "    # def adjust(val, length= 6): return str(val).ljust(length) # length\n",
    "    # print(f'ARIMA static forecast Accuracy of: wPreis in {cluster} for {category}')\n",
    "    return forecast_accuracy(df_forecast['Predicted_wPreis'].values, df_test['wPreis'])\n",
    "    # for k, v in stat_accuracy_prod.items():\n",
    "    #     print(adjust(k), ': ', round(v,4))\n",
    "\n",
    "\n"
   ]
  },
  {
   "cell_type": "code",
   "execution_count": 138,
   "metadata": {},
   "outputs": [],
   "source": [
    "def wf_forecast(data):\n",
    "    category = data['full'].unique()\n",
    "    cluster = data['Plz'].unique()\n",
    "    splitratio = 0.05\n",
    "    nobs = round(len(data)*splitratio)\n",
    "\n",
    "    df_train, df_test = data[0:-nobs], data[-nobs:]\n",
    "    \n",
    "    history = [x for x in df_train['wPreis'].values] # \"list comprehensions\". \n",
    "    expect=[]\n",
    "\n",
    "    predictions = list()\n",
    "    for t in range(len(test)): # 6 times reiterate\n",
    "        model = ARIMA(history, order=(4,1,0))  \n",
    "        model_fit = model.fit()\n",
    "        output = model_fit.forecast()\n",
    "        yhat = output[0]\n",
    "        predictions.append(yhat)\n",
    "        obs = df_test['wPreis'][t]\n",
    "        history.append(obs) # appends the real observation at each loop! \n",
    "        expect.append(obs)\n",
    "\n",
    "    df_wPreis = pd.DataFrame(\n",
    "    {'observations': expect,\n",
    "     'forecast': predictions, \n",
    "    })\n",
    "\n",
    "    # def adjust(val, length= 10): return str(val).ljust(length) # 10\n",
    "    # print(f'Walk-forward Validation Forecast Accuracy of wPreis in {cluster} for {category}')\n",
    "    return forecast_accuracy(df_wPreis['forecast'].values, df_wPreis['observations'].values)\n",
    "    # for k, v in wf_accuracy_prod.items():\n",
    "    #     print(adjust(k), ': ', round(v,4))\n",
    "\n",
    "\n",
    "    \n",
    " \n"
   ]
  },
  {
   "cell_type": "code",
   "execution_count": 139,
   "metadata": {},
   "outputs": [],
   "source": [
    "clusters = df['Plz'].unique() \n",
    "datasets = []\n",
    "for cluster in clusters:\n",
    "    ds = df[(df['Plz'] == cluster)]\n",
    "    categories = ds['full'].unique()\n",
    "    for category in categories:\n",
    "        datasets.append(ds[ds['full'] == category])\n",
    "\n",
    "\n",
    "\n"
   ]
  },
  {
   "cell_type": "markdown",
   "metadata": {},
   "source": []
  },
  {
   "cell_type": "code",
   "execution_count": 140,
   "metadata": {},
   "outputs": [],
   "source": [
    "import warnings\n",
    "\n",
    "# Filter out the specific warning\n",
    "warnings.filterwarnings('ignore') #, message=\"A date index has been provided, but it has no associated frequency information\")"
   ]
  },
  {
   "cell_type": "code",
   "execution_count": 141,
   "metadata": {},
   "outputs": [],
   "source": [
    "# datasets = [TS1_A2, TS1_A1A2, TS1_A2A3]\n",
    "# # Loop through each category\n",
    "# for dataset in datasets:\n",
    "#     static_results = static_forecast(dataset)\n",
    "    \n",
    "#     # Perform walk-forward forecast\n",
    "#     wf_results = wf_forecast(dataset)\n"
   ]
  },
  {
   "cell_type": "code",
   "execution_count": 142,
   "metadata": {},
   "outputs": [],
   "source": [
    "# static_results.items"
   ]
  },
  {
   "cell_type": "code",
   "execution_count": 143,
   "metadata": {},
   "outputs": [
    {
     "data": {
      "text/html": [
       "<div>\n",
       "<style scoped>\n",
       "    .dataframe tbody tr th:only-of-type {\n",
       "        vertical-align: middle;\n",
       "    }\n",
       "\n",
       "    .dataframe tbody tr th {\n",
       "        vertical-align: top;\n",
       "    }\n",
       "\n",
       "    .dataframe thead th {\n",
       "        text-align: right;\n",
       "    }\n",
       "</style>\n",
       "<table border=\"1\" class=\"dataframe\">\n",
       "  <thead>\n",
       "    <tr style=\"text-align: right;\">\n",
       "      <th></th>\n",
       "      <th>Cluster</th>\n",
       "      <th>ARIMA_static_mae</th>\n",
       "      <th>ARIMA_static_me</th>\n",
       "      <th>ARIMA_static_rmse</th>\n",
       "      <th>ARIMA_static_direction_accuracy</th>\n",
       "      <th>ARIMA_wf_mae</th>\n",
       "      <th>ARIMA_wf_me</th>\n",
       "      <th>ARIMA_wf_rmse</th>\n",
       "      <th>ARIMA_wf_direction_accuracy</th>\n",
       "    </tr>\n",
       "  </thead>\n",
       "  <tbody>\n",
       "    <tr>\n",
       "      <th>0</th>\n",
       "      <td>['25', '24']</td>\n",
       "      <td>13.710353</td>\n",
       "      <td>13.070121</td>\n",
       "      <td>15.671413</td>\n",
       "      <td>0.625000</td>\n",
       "      <td>8.208188</td>\n",
       "      <td>4.526967</td>\n",
       "      <td>9.054520</td>\n",
       "      <td>0.4</td>\n",
       "    </tr>\n",
       "    <tr>\n",
       "      <th>1</th>\n",
       "      <td>['25', '24']</td>\n",
       "      <td>10.898830</td>\n",
       "      <td>9.406799</td>\n",
       "      <td>12.497071</td>\n",
       "      <td>0.250000</td>\n",
       "      <td>9.503268</td>\n",
       "      <td>3.998164</td>\n",
       "      <td>9.987840</td>\n",
       "      <td>0.4</td>\n",
       "    </tr>\n",
       "    <tr>\n",
       "      <th>2</th>\n",
       "      <td>['25', '24']</td>\n",
       "      <td>16.550875</td>\n",
       "      <td>15.825097</td>\n",
       "      <td>18.154686</td>\n",
       "      <td>0.625000</td>\n",
       "      <td>6.935741</td>\n",
       "      <td>4.376392</td>\n",
       "      <td>8.744273</td>\n",
       "      <td>0.4</td>\n",
       "    </tr>\n",
       "    <tr>\n",
       "      <th>3</th>\n",
       "      <td>['80', '81', '82', '83', '84', '85', '93', '94']</td>\n",
       "      <td>1.450125</td>\n",
       "      <td>-0.554263</td>\n",
       "      <td>1.701125</td>\n",
       "      <td>0.500000</td>\n",
       "      <td>1.701839</td>\n",
       "      <td>0.190010</td>\n",
       "      <td>2.100440</td>\n",
       "      <td>0.0</td>\n",
       "    </tr>\n",
       "    <tr>\n",
       "      <th>4</th>\n",
       "      <td>['80', '81', '82', '83', '84', '85', '93', '94']</td>\n",
       "      <td>3.177720</td>\n",
       "      <td>2.157347</td>\n",
       "      <td>4.786437</td>\n",
       "      <td>0.142857</td>\n",
       "      <td>3.752788</td>\n",
       "      <td>0.985058</td>\n",
       "      <td>6.177495</td>\n",
       "      <td>0.4</td>\n",
       "    </tr>\n",
       "    <tr>\n",
       "      <th>5</th>\n",
       "      <td>['80', '81', '82', '83', '84', '85', '93', '94']</td>\n",
       "      <td>1.280965</td>\n",
       "      <td>0.370120</td>\n",
       "      <td>1.989573</td>\n",
       "      <td>0.250000</td>\n",
       "      <td>2.018296</td>\n",
       "      <td>0.795091</td>\n",
       "      <td>2.883985</td>\n",
       "      <td>0.2</td>\n",
       "    </tr>\n",
       "    <tr>\n",
       "      <th>6</th>\n",
       "      <td>['70', '71', '73', '74', '75', '76']</td>\n",
       "      <td>3.821613</td>\n",
       "      <td>-0.605828</td>\n",
       "      <td>4.329758</td>\n",
       "      <td>0.428571</td>\n",
       "      <td>3.359322</td>\n",
       "      <td>0.495782</td>\n",
       "      <td>4.091115</td>\n",
       "      <td>0.2</td>\n",
       "    </tr>\n",
       "    <tr>\n",
       "      <th>7</th>\n",
       "      <td>['50', '51', '52', '53']</td>\n",
       "      <td>2.244561</td>\n",
       "      <td>-1.133470</td>\n",
       "      <td>2.515196</td>\n",
       "      <td>0.375000</td>\n",
       "      <td>2.791294</td>\n",
       "      <td>0.450733</td>\n",
       "      <td>3.395786</td>\n",
       "      <td>0.0</td>\n",
       "    </tr>\n",
       "    <tr>\n",
       "      <th>8</th>\n",
       "      <td>['50', '51', '52', '53']</td>\n",
       "      <td>3.775857</td>\n",
       "      <td>-3.666827</td>\n",
       "      <td>4.475294</td>\n",
       "      <td>0.250000</td>\n",
       "      <td>2.975704</td>\n",
       "      <td>-0.339039</td>\n",
       "      <td>3.836110</td>\n",
       "      <td>0.0</td>\n",
       "    </tr>\n",
       "    <tr>\n",
       "      <th>9</th>\n",
       "      <td>['40', '41', '42', '44', '45', '46', '47']</td>\n",
       "      <td>2.431086</td>\n",
       "      <td>1.669243</td>\n",
       "      <td>2.747398</td>\n",
       "      <td>0.125000</td>\n",
       "      <td>2.272749</td>\n",
       "      <td>0.330465</td>\n",
       "      <td>2.677193</td>\n",
       "      <td>0.0</td>\n",
       "    </tr>\n",
       "    <tr>\n",
       "      <th>10</th>\n",
       "      <td>['40', '41', '42', '44', '45', '46', '47']</td>\n",
       "      <td>6.359216</td>\n",
       "      <td>2.460068</td>\n",
       "      <td>7.052179</td>\n",
       "      <td>0.714286</td>\n",
       "      <td>2.974071</td>\n",
       "      <td>1.296896</td>\n",
       "      <td>4.312469</td>\n",
       "      <td>0.2</td>\n",
       "    </tr>\n",
       "    <tr>\n",
       "      <th>11</th>\n",
       "      <td>['40', '41', '42', '44', '45', '46', '47']</td>\n",
       "      <td>3.592439</td>\n",
       "      <td>-3.471488</td>\n",
       "      <td>5.201679</td>\n",
       "      <td>0.500000</td>\n",
       "      <td>2.772841</td>\n",
       "      <td>-0.447210</td>\n",
       "      <td>2.993559</td>\n",
       "      <td>0.4</td>\n",
       "    </tr>\n",
       "    <tr>\n",
       "      <th>12</th>\n",
       "      <td>['40', '41', '42', '44', '45', '46', '47']</td>\n",
       "      <td>3.063537</td>\n",
       "      <td>0.738495</td>\n",
       "      <td>3.766301</td>\n",
       "      <td>0.625000</td>\n",
       "      <td>2.454367</td>\n",
       "      <td>0.646667</td>\n",
       "      <td>3.180555</td>\n",
       "      <td>0.4</td>\n",
       "    </tr>\n",
       "    <tr>\n",
       "      <th>13</th>\n",
       "      <td>['40', '41', '42', '44', '45', '46', '47']</td>\n",
       "      <td>8.046755</td>\n",
       "      <td>-7.625308</td>\n",
       "      <td>9.056311</td>\n",
       "      <td>0.375000</td>\n",
       "      <td>5.907422</td>\n",
       "      <td>-2.623283</td>\n",
       "      <td>7.467241</td>\n",
       "      <td>0.4</td>\n",
       "    </tr>\n",
       "    <tr>\n",
       "      <th>14</th>\n",
       "      <td>['40', '41', '42', '44', '45', '46', '47']</td>\n",
       "      <td>8.076801</td>\n",
       "      <td>-6.625405</td>\n",
       "      <td>9.823312</td>\n",
       "      <td>0.857143</td>\n",
       "      <td>4.458655</td>\n",
       "      <td>-3.230223</td>\n",
       "      <td>5.935184</td>\n",
       "      <td>0.6</td>\n",
       "    </tr>\n",
       "    <tr>\n",
       "      <th>15</th>\n",
       "      <td>['26', '27', '28']</td>\n",
       "      <td>3.908770</td>\n",
       "      <td>0.291128</td>\n",
       "      <td>4.398424</td>\n",
       "      <td>0.833333</td>\n",
       "      <td>4.873125</td>\n",
       "      <td>-0.803525</td>\n",
       "      <td>5.828988</td>\n",
       "      <td>0.4</td>\n",
       "    </tr>\n",
       "    <tr>\n",
       "      <th>16</th>\n",
       "      <td>['26', '27', '28']</td>\n",
       "      <td>2.143404</td>\n",
       "      <td>0.482692</td>\n",
       "      <td>2.701314</td>\n",
       "      <td>0.500000</td>\n",
       "      <td>1.437839</td>\n",
       "      <td>0.079169</td>\n",
       "      <td>1.766182</td>\n",
       "      <td>0.2</td>\n",
       "    </tr>\n",
       "    <tr>\n",
       "      <th>17</th>\n",
       "      <td>['26', '27', '28']</td>\n",
       "      <td>4.420274</td>\n",
       "      <td>-3.078111</td>\n",
       "      <td>5.133720</td>\n",
       "      <td>0.571429</td>\n",
       "      <td>4.214127</td>\n",
       "      <td>-0.761715</td>\n",
       "      <td>4.989180</td>\n",
       "      <td>0.2</td>\n",
       "    </tr>\n",
       "    <tr>\n",
       "      <th>18</th>\n",
       "      <td>['26', '27', '28']</td>\n",
       "      <td>3.430535</td>\n",
       "      <td>-3.343701</td>\n",
       "      <td>4.267024</td>\n",
       "      <td>0.375000</td>\n",
       "      <td>1.561101</td>\n",
       "      <td>-0.107063</td>\n",
       "      <td>1.832054</td>\n",
       "      <td>0.6</td>\n",
       "    </tr>\n",
       "    <tr>\n",
       "      <th>19</th>\n",
       "      <td>['48', '49']</td>\n",
       "      <td>3.081594</td>\n",
       "      <td>-3.081594</td>\n",
       "      <td>3.667258</td>\n",
       "      <td>0.285714</td>\n",
       "      <td>1.762780</td>\n",
       "      <td>-0.913220</td>\n",
       "      <td>2.300636</td>\n",
       "      <td>0.6</td>\n",
       "    </tr>\n",
       "    <tr>\n",
       "      <th>20</th>\n",
       "      <td>['48', '49']</td>\n",
       "      <td>4.000871</td>\n",
       "      <td>-4.000871</td>\n",
       "      <td>4.319791</td>\n",
       "      <td>0.142857</td>\n",
       "      <td>1.811770</td>\n",
       "      <td>-0.970148</td>\n",
       "      <td>2.082971</td>\n",
       "      <td>0.6</td>\n",
       "    </tr>\n",
       "    <tr>\n",
       "      <th>21</th>\n",
       "      <td>['48', '49']</td>\n",
       "      <td>5.757465</td>\n",
       "      <td>-1.268628</td>\n",
       "      <td>7.449791</td>\n",
       "      <td>0.500000</td>\n",
       "      <td>6.363326</td>\n",
       "      <td>-0.288567</td>\n",
       "      <td>7.687889</td>\n",
       "      <td>0.4</td>\n",
       "    </tr>\n",
       "    <tr>\n",
       "      <th>22</th>\n",
       "      <td>['48', '49']</td>\n",
       "      <td>5.947219</td>\n",
       "      <td>-3.055860</td>\n",
       "      <td>7.107805</td>\n",
       "      <td>0.833333</td>\n",
       "      <td>5.489063</td>\n",
       "      <td>0.461820</td>\n",
       "      <td>7.305655</td>\n",
       "      <td>0.4</td>\n",
       "    </tr>\n",
       "    <tr>\n",
       "      <th>23</th>\n",
       "      <td>['48', '49']</td>\n",
       "      <td>8.382463</td>\n",
       "      <td>-6.101530</td>\n",
       "      <td>10.950394</td>\n",
       "      <td>0.375000</td>\n",
       "      <td>9.098592</td>\n",
       "      <td>-0.736000</td>\n",
       "      <td>10.297677</td>\n",
       "      <td>0.2</td>\n",
       "    </tr>\n",
       "    <tr>\n",
       "      <th>24</th>\n",
       "      <td>['20', '21', '22', '23']</td>\n",
       "      <td>2.497174</td>\n",
       "      <td>-0.772584</td>\n",
       "      <td>2.911748</td>\n",
       "      <td>0.625000</td>\n",
       "      <td>1.995530</td>\n",
       "      <td>0.302643</td>\n",
       "      <td>2.838189</td>\n",
       "      <td>0.2</td>\n",
       "    </tr>\n",
       "    <tr>\n",
       "      <th>25</th>\n",
       "      <td>['20', '21', '22', '23']</td>\n",
       "      <td>3.085510</td>\n",
       "      <td>-2.092399</td>\n",
       "      <td>3.463936</td>\n",
       "      <td>0.375000</td>\n",
       "      <td>1.892497</td>\n",
       "      <td>-0.316621</td>\n",
       "      <td>2.388554</td>\n",
       "      <td>0.4</td>\n",
       "    </tr>\n",
       "    <tr>\n",
       "      <th>26</th>\n",
       "      <td>['20', '21', '22', '23']</td>\n",
       "      <td>2.589776</td>\n",
       "      <td>-0.516927</td>\n",
       "      <td>2.913995</td>\n",
       "      <td>0.375000</td>\n",
       "      <td>1.948716</td>\n",
       "      <td>0.357123</td>\n",
       "      <td>2.805364</td>\n",
       "      <td>0.2</td>\n",
       "    </tr>\n",
       "    <tr>\n",
       "      <th>27</th>\n",
       "      <td>['10', '11', '12', '13', '14', '15', '16']</td>\n",
       "      <td>11.043805</td>\n",
       "      <td>8.560523</td>\n",
       "      <td>13.963417</td>\n",
       "      <td>0.428571</td>\n",
       "      <td>5.227966</td>\n",
       "      <td>2.512549</td>\n",
       "      <td>6.650062</td>\n",
       "      <td>0.4</td>\n",
       "    </tr>\n",
       "    <tr>\n",
       "      <th>28</th>\n",
       "      <td>['10', '11', '12', '13', '14', '15', '16']</td>\n",
       "      <td>8.280326</td>\n",
       "      <td>4.532316</td>\n",
       "      <td>10.444280</td>\n",
       "      <td>0.500000</td>\n",
       "      <td>4.259062</td>\n",
       "      <td>0.790953</td>\n",
       "      <td>4.520190</td>\n",
       "      <td>0.8</td>\n",
       "    </tr>\n",
       "    <tr>\n",
       "      <th>29</th>\n",
       "      <td>['10', '11', '12', '13', '14', '15', '16']</td>\n",
       "      <td>9.558409</td>\n",
       "      <td>8.183796</td>\n",
       "      <td>12.145669</td>\n",
       "      <td>0.571429</td>\n",
       "      <td>4.893085</td>\n",
       "      <td>3.273947</td>\n",
       "      <td>5.582631</td>\n",
       "      <td>0.8</td>\n",
       "    </tr>\n",
       "    <tr>\n",
       "      <th>30</th>\n",
       "      <td>['29', '30', '31', '38', '39']</td>\n",
       "      <td>6.527548</td>\n",
       "      <td>4.368689</td>\n",
       "      <td>7.265426</td>\n",
       "      <td>0.375000</td>\n",
       "      <td>4.691858</td>\n",
       "      <td>1.776235</td>\n",
       "      <td>5.839167</td>\n",
       "      <td>0.4</td>\n",
       "    </tr>\n",
       "    <tr>\n",
       "      <th>31</th>\n",
       "      <td>['29', '30', '31', '38', '39']</td>\n",
       "      <td>6.085016</td>\n",
       "      <td>4.235019</td>\n",
       "      <td>7.401045</td>\n",
       "      <td>0.250000</td>\n",
       "      <td>4.105842</td>\n",
       "      <td>0.916676</td>\n",
       "      <td>4.800401</td>\n",
       "      <td>0.2</td>\n",
       "    </tr>\n",
       "    <tr>\n",
       "      <th>32</th>\n",
       "      <td>['29', '30', '31', '38', '39']</td>\n",
       "      <td>7.631480</td>\n",
       "      <td>6.591254</td>\n",
       "      <td>8.839063</td>\n",
       "      <td>0.500000</td>\n",
       "      <td>4.557141</td>\n",
       "      <td>2.379831</td>\n",
       "      <td>5.435435</td>\n",
       "      <td>0.4</td>\n",
       "    </tr>\n",
       "  </tbody>\n",
       "</table>\n",
       "</div>"
      ],
      "text/plain": [
       "                                             Cluster  ARIMA_static_mae  \\\n",
       "0                                       ['25', '24']         13.710353   \n",
       "1                                       ['25', '24']         10.898830   \n",
       "2                                       ['25', '24']         16.550875   \n",
       "3   ['80', '81', '82', '83', '84', '85', '93', '94']          1.450125   \n",
       "4   ['80', '81', '82', '83', '84', '85', '93', '94']          3.177720   \n",
       "5   ['80', '81', '82', '83', '84', '85', '93', '94']          1.280965   \n",
       "6               ['70', '71', '73', '74', '75', '76']          3.821613   \n",
       "7                           ['50', '51', '52', '53']          2.244561   \n",
       "8                           ['50', '51', '52', '53']          3.775857   \n",
       "9         ['40', '41', '42', '44', '45', '46', '47']          2.431086   \n",
       "10        ['40', '41', '42', '44', '45', '46', '47']          6.359216   \n",
       "11        ['40', '41', '42', '44', '45', '46', '47']          3.592439   \n",
       "12        ['40', '41', '42', '44', '45', '46', '47']          3.063537   \n",
       "13        ['40', '41', '42', '44', '45', '46', '47']          8.046755   \n",
       "14        ['40', '41', '42', '44', '45', '46', '47']          8.076801   \n",
       "15                                ['26', '27', '28']          3.908770   \n",
       "16                                ['26', '27', '28']          2.143404   \n",
       "17                                ['26', '27', '28']          4.420274   \n",
       "18                                ['26', '27', '28']          3.430535   \n",
       "19                                      ['48', '49']          3.081594   \n",
       "20                                      ['48', '49']          4.000871   \n",
       "21                                      ['48', '49']          5.757465   \n",
       "22                                      ['48', '49']          5.947219   \n",
       "23                                      ['48', '49']          8.382463   \n",
       "24                          ['20', '21', '22', '23']          2.497174   \n",
       "25                          ['20', '21', '22', '23']          3.085510   \n",
       "26                          ['20', '21', '22', '23']          2.589776   \n",
       "27        ['10', '11', '12', '13', '14', '15', '16']         11.043805   \n",
       "28        ['10', '11', '12', '13', '14', '15', '16']          8.280326   \n",
       "29        ['10', '11', '12', '13', '14', '15', '16']          9.558409   \n",
       "30                    ['29', '30', '31', '38', '39']          6.527548   \n",
       "31                    ['29', '30', '31', '38', '39']          6.085016   \n",
       "32                    ['29', '30', '31', '38', '39']          7.631480   \n",
       "\n",
       "    ARIMA_static_me  ARIMA_static_rmse  ARIMA_static_direction_accuracy  \\\n",
       "0         13.070121          15.671413                         0.625000   \n",
       "1          9.406799          12.497071                         0.250000   \n",
       "2         15.825097          18.154686                         0.625000   \n",
       "3         -0.554263           1.701125                         0.500000   \n",
       "4          2.157347           4.786437                         0.142857   \n",
       "5          0.370120           1.989573                         0.250000   \n",
       "6         -0.605828           4.329758                         0.428571   \n",
       "7         -1.133470           2.515196                         0.375000   \n",
       "8         -3.666827           4.475294                         0.250000   \n",
       "9          1.669243           2.747398                         0.125000   \n",
       "10         2.460068           7.052179                         0.714286   \n",
       "11        -3.471488           5.201679                         0.500000   \n",
       "12         0.738495           3.766301                         0.625000   \n",
       "13        -7.625308           9.056311                         0.375000   \n",
       "14        -6.625405           9.823312                         0.857143   \n",
       "15         0.291128           4.398424                         0.833333   \n",
       "16         0.482692           2.701314                         0.500000   \n",
       "17        -3.078111           5.133720                         0.571429   \n",
       "18        -3.343701           4.267024                         0.375000   \n",
       "19        -3.081594           3.667258                         0.285714   \n",
       "20        -4.000871           4.319791                         0.142857   \n",
       "21        -1.268628           7.449791                         0.500000   \n",
       "22        -3.055860           7.107805                         0.833333   \n",
       "23        -6.101530          10.950394                         0.375000   \n",
       "24        -0.772584           2.911748                         0.625000   \n",
       "25        -2.092399           3.463936                         0.375000   \n",
       "26        -0.516927           2.913995                         0.375000   \n",
       "27         8.560523          13.963417                         0.428571   \n",
       "28         4.532316          10.444280                         0.500000   \n",
       "29         8.183796          12.145669                         0.571429   \n",
       "30         4.368689           7.265426                         0.375000   \n",
       "31         4.235019           7.401045                         0.250000   \n",
       "32         6.591254           8.839063                         0.500000   \n",
       "\n",
       "    ARIMA_wf_mae  ARIMA_wf_me  ARIMA_wf_rmse  ARIMA_wf_direction_accuracy  \n",
       "0       8.208188     4.526967       9.054520                          0.4  \n",
       "1       9.503268     3.998164       9.987840                          0.4  \n",
       "2       6.935741     4.376392       8.744273                          0.4  \n",
       "3       1.701839     0.190010       2.100440                          0.0  \n",
       "4       3.752788     0.985058       6.177495                          0.4  \n",
       "5       2.018296     0.795091       2.883985                          0.2  \n",
       "6       3.359322     0.495782       4.091115                          0.2  \n",
       "7       2.791294     0.450733       3.395786                          0.0  \n",
       "8       2.975704    -0.339039       3.836110                          0.0  \n",
       "9       2.272749     0.330465       2.677193                          0.0  \n",
       "10      2.974071     1.296896       4.312469                          0.2  \n",
       "11      2.772841    -0.447210       2.993559                          0.4  \n",
       "12      2.454367     0.646667       3.180555                          0.4  \n",
       "13      5.907422    -2.623283       7.467241                          0.4  \n",
       "14      4.458655    -3.230223       5.935184                          0.6  \n",
       "15      4.873125    -0.803525       5.828988                          0.4  \n",
       "16      1.437839     0.079169       1.766182                          0.2  \n",
       "17      4.214127    -0.761715       4.989180                          0.2  \n",
       "18      1.561101    -0.107063       1.832054                          0.6  \n",
       "19      1.762780    -0.913220       2.300636                          0.6  \n",
       "20      1.811770    -0.970148       2.082971                          0.6  \n",
       "21      6.363326    -0.288567       7.687889                          0.4  \n",
       "22      5.489063     0.461820       7.305655                          0.4  \n",
       "23      9.098592    -0.736000      10.297677                          0.2  \n",
       "24      1.995530     0.302643       2.838189                          0.2  \n",
       "25      1.892497    -0.316621       2.388554                          0.4  \n",
       "26      1.948716     0.357123       2.805364                          0.2  \n",
       "27      5.227966     2.512549       6.650062                          0.4  \n",
       "28      4.259062     0.790953       4.520190                          0.8  \n",
       "29      4.893085     3.273947       5.582631                          0.8  \n",
       "30      4.691858     1.776235       5.839167                          0.4  \n",
       "31      4.105842     0.916676       4.800401                          0.2  \n",
       "32      4.557141     2.379831       5.435435                          0.4  "
      ]
     },
     "execution_count": 143,
     "metadata": {},
     "output_type": "execute_result"
    }
   ],
   "source": [
    "# Create an empty list to store dictionaries\n",
    "data = []\n",
    "\n",
    "# Loop through each category\n",
    "for dataset in datasets:\n",
    "    # Perform static forecast\n",
    "    static_results = static_forecast(dataset)\n",
    "    \n",
    "    # Perform walk-forward forecast\n",
    "    wf_results = wf_forecast(dataset)\n",
    "    \n",
    "    # Create a dictionary to store the results\n",
    "    results_dict = {\n",
    "        'Cluster': dataset['Plz'].iloc[0],  # Assuming 'Plz' is the column representing clusters\n",
    "        'ARIMA_static_mae': static_results['mae'],\n",
    "        'ARIMA_static_me': static_results['me'],\n",
    "        'ARIMA_static_rmse': static_results['rmse'],\n",
    "        'ARIMA_static_direction_accuracy': static_results['direction_accuracy'],\n",
    "        'ARIMA_wf_mae': wf_results['mae'],\n",
    "        'ARIMA_wf_me': wf_results['me'],\n",
    "        'ARIMA_wf_rmse': wf_results['rmse'],\n",
    "        'ARIMA_wf_direction_accuracy': wf_results['direction_accuracy']\n",
    "    }\n",
    "    \n",
    "    # Append the dictionary to the list\n",
    "    data.append(results_dict)\n",
    "\n",
    "# Create a DataFrame from the list of dictionaries\n",
    "df_results = pd.DataFrame(data)\n",
    "\n",
    "# Print the DataFrame\n",
    "df_results"
   ]
  },
  {
   "cell_type": "code",
   "execution_count": 146,
   "metadata": {},
   "outputs": [
    {
     "data": {
      "application/vnd.plotly.v1+json": {
       "config": {
        "plotlyServerURL": "https://plot.ly"
       },
       "data": [
        {
         "name": "ARIMA_static_mae",
         "orientation": "h",
         "type": "bar",
         "x": [
          13.710353475622604,
          10.898830064033142,
          16.55087474826774,
          1.4501245642260276,
          3.1777202001502776,
          1.280965107484433,
          3.821613055682368,
          2.2445613035471372,
          3.775856552998914,
          2.4310855680004173,
          6.3592158722650876,
          3.592438687246943,
          3.0635367604327137,
          8.04675463488335,
          8.076801071021613,
          3.9087698032048976,
          2.143403781618823,
          4.420273667741447,
          3.4305351334745278,
          3.0815941709058974,
          4.000870779448373,
          5.757464668836004,
          5.947218974287755,
          8.382463059386184,
          2.497173768057658,
          3.0855096873877375,
          2.589775946131603,
          11.043804997821836,
          8.280326141771381,
          9.558408590657088,
          6.527548399935131,
          6.085015761098496,
          7.631479947851208
         ],
         "y": [
          "['25', '24']",
          "['25', '24']",
          "['25', '24']",
          "['80', '81', '82', '83', '84', '85', '93', '94']",
          "['80', '81', '82', '83', '84', '85', '93', '94']",
          "['80', '81', '82', '83', '84', '85', '93', '94']",
          "['70', '71', '73', '74', '75', '76']",
          "['50', '51', '52', '53']",
          "['50', '51', '52', '53']",
          "['40', '41', '42', '44', '45', '46', '47']",
          "['40', '41', '42', '44', '45', '46', '47']",
          "['40', '41', '42', '44', '45', '46', '47']",
          "['40', '41', '42', '44', '45', '46', '47']",
          "['40', '41', '42', '44', '45', '46', '47']",
          "['40', '41', '42', '44', '45', '46', '47']",
          "['26', '27', '28']",
          "['26', '27', '28']",
          "['26', '27', '28']",
          "['26', '27', '28']",
          "['48', '49']",
          "['48', '49']",
          "['48', '49']",
          "['48', '49']",
          "['48', '49']",
          "['20', '21', '22', '23']",
          "['20', '21', '22', '23']",
          "['20', '21', '22', '23']",
          "['10', '11', '12', '13', '14', '15', '16']",
          "['10', '11', '12', '13', '14', '15', '16']",
          "['10', '11', '12', '13', '14', '15', '16']",
          "['29', '30', '31', '38', '39']",
          "['29', '30', '31', '38', '39']",
          "['29', '30', '31', '38', '39']"
         ]
        },
        {
         "name": "ARIMA_static_me",
         "orientation": "h",
         "type": "bar",
         "x": [
          13.070120804578893,
          9.406798823996784,
          15.825097139577716,
          -0.5542628080712978,
          2.1573474643923163,
          0.3701204141112405,
          -0.6058275005570604,
          -1.1334696626684808,
          -3.666826808079703,
          1.6692432129199766,
          2.4600677489458658,
          -3.471487816771189,
          0.7384949341829169,
          -7.625308199433483,
          -6.625404721999692,
          0.2911278807568292,
          0.4826919268094356,
          -3.078111379581662,
          -3.343700884421912,
          -3.0815941709058974,
          -4.000870779448373,
          -1.26862752035154,
          -3.0558602188778425,
          -6.101530357792185,
          -0.7725840795677521,
          -2.092399281024439,
          -0.5169272654144041,
          8.560522628803719,
          4.532315557617206,
          8.183795517492886,
          4.368688537636329,
          4.235019186912324,
          6.591254301371909
         ],
         "y": [
          "['25', '24']",
          "['25', '24']",
          "['25', '24']",
          "['80', '81', '82', '83', '84', '85', '93', '94']",
          "['80', '81', '82', '83', '84', '85', '93', '94']",
          "['80', '81', '82', '83', '84', '85', '93', '94']",
          "['70', '71', '73', '74', '75', '76']",
          "['50', '51', '52', '53']",
          "['50', '51', '52', '53']",
          "['40', '41', '42', '44', '45', '46', '47']",
          "['40', '41', '42', '44', '45', '46', '47']",
          "['40', '41', '42', '44', '45', '46', '47']",
          "['40', '41', '42', '44', '45', '46', '47']",
          "['40', '41', '42', '44', '45', '46', '47']",
          "['40', '41', '42', '44', '45', '46', '47']",
          "['26', '27', '28']",
          "['26', '27', '28']",
          "['26', '27', '28']",
          "['26', '27', '28']",
          "['48', '49']",
          "['48', '49']",
          "['48', '49']",
          "['48', '49']",
          "['48', '49']",
          "['20', '21', '22', '23']",
          "['20', '21', '22', '23']",
          "['20', '21', '22', '23']",
          "['10', '11', '12', '13', '14', '15', '16']",
          "['10', '11', '12', '13', '14', '15', '16']",
          "['10', '11', '12', '13', '14', '15', '16']",
          "['29', '30', '31', '38', '39']",
          "['29', '30', '31', '38', '39']",
          "['29', '30', '31', '38', '39']"
         ]
        },
        {
         "name": "ARIMA_static_rmse",
         "orientation": "h",
         "type": "bar",
         "x": [
          15.671413305117373,
          12.49707069316371,
          18.154686027352835,
          1.7011251172979074,
          4.78643655183274,
          1.989572862525103,
          4.329758095264165,
          2.5151960147731907,
          4.475294021472273,
          2.747397620178819,
          7.052178989006,
          5.2016792151115645,
          3.7663011266824977,
          9.056310765407847,
          9.823311589606176,
          4.398423892554928,
          2.70131429758582,
          5.1337198045355725,
          4.267023686428225,
          3.6672577418327226,
          4.319791207201732,
          7.4497906869839055,
          7.107804784466737,
          10.950394249128658,
          2.911747928746602,
          3.463935511488815,
          2.913995188035627,
          13.963416507877774,
          10.444279691272522,
          12.145669132561904,
          7.265426322001627,
          7.401045348991145,
          8.839063007647855
         ],
         "y": [
          "['25', '24']",
          "['25', '24']",
          "['25', '24']",
          "['80', '81', '82', '83', '84', '85', '93', '94']",
          "['80', '81', '82', '83', '84', '85', '93', '94']",
          "['80', '81', '82', '83', '84', '85', '93', '94']",
          "['70', '71', '73', '74', '75', '76']",
          "['50', '51', '52', '53']",
          "['50', '51', '52', '53']",
          "['40', '41', '42', '44', '45', '46', '47']",
          "['40', '41', '42', '44', '45', '46', '47']",
          "['40', '41', '42', '44', '45', '46', '47']",
          "['40', '41', '42', '44', '45', '46', '47']",
          "['40', '41', '42', '44', '45', '46', '47']",
          "['40', '41', '42', '44', '45', '46', '47']",
          "['26', '27', '28']",
          "['26', '27', '28']",
          "['26', '27', '28']",
          "['26', '27', '28']",
          "['48', '49']",
          "['48', '49']",
          "['48', '49']",
          "['48', '49']",
          "['48', '49']",
          "['20', '21', '22', '23']",
          "['20', '21', '22', '23']",
          "['20', '21', '22', '23']",
          "['10', '11', '12', '13', '14', '15', '16']",
          "['10', '11', '12', '13', '14', '15', '16']",
          "['10', '11', '12', '13', '14', '15', '16']",
          "['29', '30', '31', '38', '39']",
          "['29', '30', '31', '38', '39']",
          "['29', '30', '31', '38', '39']"
         ]
        },
        {
         "name": "ARIMA_static_direction_accuracy",
         "orientation": "h",
         "type": "bar",
         "x": [
          0.625,
          0.25,
          0.625,
          0.5,
          0.14285714285714285,
          0.25,
          0.42857142857142855,
          0.375,
          0.25,
          0.125,
          0.7142857142857143,
          0.5,
          0.625,
          0.375,
          0.8571428571428571,
          0.8333333333333334,
          0.5,
          0.5714285714285714,
          0.375,
          0.2857142857142857,
          0.14285714285714285,
          0.5,
          0.8333333333333334,
          0.375,
          0.625,
          0.375,
          0.375,
          0.42857142857142855,
          0.5,
          0.5714285714285714,
          0.375,
          0.25,
          0.5
         ],
         "y": [
          "['25', '24']",
          "['25', '24']",
          "['25', '24']",
          "['80', '81', '82', '83', '84', '85', '93', '94']",
          "['80', '81', '82', '83', '84', '85', '93', '94']",
          "['80', '81', '82', '83', '84', '85', '93', '94']",
          "['70', '71', '73', '74', '75', '76']",
          "['50', '51', '52', '53']",
          "['50', '51', '52', '53']",
          "['40', '41', '42', '44', '45', '46', '47']",
          "['40', '41', '42', '44', '45', '46', '47']",
          "['40', '41', '42', '44', '45', '46', '47']",
          "['40', '41', '42', '44', '45', '46', '47']",
          "['40', '41', '42', '44', '45', '46', '47']",
          "['40', '41', '42', '44', '45', '46', '47']",
          "['26', '27', '28']",
          "['26', '27', '28']",
          "['26', '27', '28']",
          "['26', '27', '28']",
          "['48', '49']",
          "['48', '49']",
          "['48', '49']",
          "['48', '49']",
          "['48', '49']",
          "['20', '21', '22', '23']",
          "['20', '21', '22', '23']",
          "['20', '21', '22', '23']",
          "['10', '11', '12', '13', '14', '15', '16']",
          "['10', '11', '12', '13', '14', '15', '16']",
          "['10', '11', '12', '13', '14', '15', '16']",
          "['29', '30', '31', '38', '39']",
          "['29', '30', '31', '38', '39']",
          "['29', '30', '31', '38', '39']"
         ]
        },
        {
         "name": "ARIMA_wf_mae",
         "orientation": "h",
         "type": "bar",
         "x": [
          8.208188346724919,
          9.503267974802203,
          6.935741259400051,
          1.701839420705883,
          3.752787982818571,
          2.0182962470179433,
          3.3593216161488684,
          2.7912936694107757,
          2.9757037786615044,
          2.272748598070012,
          2.974070706114372,
          2.772840866594578,
          2.4543667006222285,
          5.907421892827915,
          4.458655365808663,
          4.873125313081096,
          1.437838505763362,
          4.214126740247768,
          1.5611010931019738,
          1.76278026888591,
          1.8117697535914432,
          6.36332638614694,
          5.489063124698319,
          9.098591533890348,
          1.9955301808042663,
          1.8924973562517762,
          1.9487158295667832,
          5.2279655627422885,
          4.2590615450943305,
          4.893084879234755,
          4.691857644133999,
          4.105841955005022,
          4.557141237137606
         ],
         "y": [
          "['25', '24']",
          "['25', '24']",
          "['25', '24']",
          "['80', '81', '82', '83', '84', '85', '93', '94']",
          "['80', '81', '82', '83', '84', '85', '93', '94']",
          "['80', '81', '82', '83', '84', '85', '93', '94']",
          "['70', '71', '73', '74', '75', '76']",
          "['50', '51', '52', '53']",
          "['50', '51', '52', '53']",
          "['40', '41', '42', '44', '45', '46', '47']",
          "['40', '41', '42', '44', '45', '46', '47']",
          "['40', '41', '42', '44', '45', '46', '47']",
          "['40', '41', '42', '44', '45', '46', '47']",
          "['40', '41', '42', '44', '45', '46', '47']",
          "['40', '41', '42', '44', '45', '46', '47']",
          "['26', '27', '28']",
          "['26', '27', '28']",
          "['26', '27', '28']",
          "['26', '27', '28']",
          "['48', '49']",
          "['48', '49']",
          "['48', '49']",
          "['48', '49']",
          "['48', '49']",
          "['20', '21', '22', '23']",
          "['20', '21', '22', '23']",
          "['20', '21', '22', '23']",
          "['10', '11', '12', '13', '14', '15', '16']",
          "['10', '11', '12', '13', '14', '15', '16']",
          "['10', '11', '12', '13', '14', '15', '16']",
          "['29', '30', '31', '38', '39']",
          "['29', '30', '31', '38', '39']",
          "['29', '30', '31', '38', '39']"
         ]
        },
        {
         "name": "ARIMA_wf_me",
         "orientation": "h",
         "type": "bar",
         "x": [
          4.526967458674743,
          3.9981644518166886,
          4.376392403106534,
          0.19000974871141807,
          0.9850584030125127,
          0.7950908901167537,
          0.49578197701875837,
          0.4507332279689605,
          -0.3390393297454189,
          0.3304652654350102,
          1.2968959546406211,
          -0.44720983634272465,
          0.6466665272443293,
          -2.623283070799334,
          -3.2302231929812493,
          -0.8035253304959493,
          0.07916866918507977,
          -0.7617148118467786,
          -0.10706330175264848,
          -0.9132198083088024,
          -0.9701483350951863,
          -0.2885670229122071,
          0.46181974432939804,
          -0.7360001186360418,
          0.30264279402710575,
          -0.3166205171864709,
          0.3571232272200929,
          2.5125494447641157,
          0.7909532663830904,
          3.2739468493074977,
          1.7762352271633066,
          0.9166762644240828,
          2.3798313094315744
         ],
         "y": [
          "['25', '24']",
          "['25', '24']",
          "['25', '24']",
          "['80', '81', '82', '83', '84', '85', '93', '94']",
          "['80', '81', '82', '83', '84', '85', '93', '94']",
          "['80', '81', '82', '83', '84', '85', '93', '94']",
          "['70', '71', '73', '74', '75', '76']",
          "['50', '51', '52', '53']",
          "['50', '51', '52', '53']",
          "['40', '41', '42', '44', '45', '46', '47']",
          "['40', '41', '42', '44', '45', '46', '47']",
          "['40', '41', '42', '44', '45', '46', '47']",
          "['40', '41', '42', '44', '45', '46', '47']",
          "['40', '41', '42', '44', '45', '46', '47']",
          "['40', '41', '42', '44', '45', '46', '47']",
          "['26', '27', '28']",
          "['26', '27', '28']",
          "['26', '27', '28']",
          "['26', '27', '28']",
          "['48', '49']",
          "['48', '49']",
          "['48', '49']",
          "['48', '49']",
          "['48', '49']",
          "['20', '21', '22', '23']",
          "['20', '21', '22', '23']",
          "['20', '21', '22', '23']",
          "['10', '11', '12', '13', '14', '15', '16']",
          "['10', '11', '12', '13', '14', '15', '16']",
          "['10', '11', '12', '13', '14', '15', '16']",
          "['29', '30', '31', '38', '39']",
          "['29', '30', '31', '38', '39']",
          "['29', '30', '31', '38', '39']"
         ]
        },
        {
         "name": "ARIMA_wf_rmse",
         "orientation": "h",
         "type": "bar",
         "x": [
          9.054519669251674,
          9.987839536876267,
          8.7442726777972,
          2.100439894251544,
          6.177494959918026,
          2.8839849405693863,
          4.091115426614581,
          3.3957863659118925,
          3.8361095099691207,
          2.67719287907377,
          4.31246926542563,
          2.9935593094787696,
          3.1805550180014848,
          7.467241073127488,
          5.935184035512406,
          5.828988053908777,
          1.7661819997164852,
          4.989180246178869,
          1.832053569432941,
          2.3006361535537168,
          2.0829714747030286,
          7.687888537229441,
          7.305654705648533,
          10.297677377440513,
          2.838189245204778,
          2.388554022363253,
          2.805364333231059,
          6.650062030091569,
          4.520190042636996,
          5.582631242498523,
          5.8391674695651155,
          4.800401090942427,
          5.435434658339142
         ],
         "y": [
          "['25', '24']",
          "['25', '24']",
          "['25', '24']",
          "['80', '81', '82', '83', '84', '85', '93', '94']",
          "['80', '81', '82', '83', '84', '85', '93', '94']",
          "['80', '81', '82', '83', '84', '85', '93', '94']",
          "['70', '71', '73', '74', '75', '76']",
          "['50', '51', '52', '53']",
          "['50', '51', '52', '53']",
          "['40', '41', '42', '44', '45', '46', '47']",
          "['40', '41', '42', '44', '45', '46', '47']",
          "['40', '41', '42', '44', '45', '46', '47']",
          "['40', '41', '42', '44', '45', '46', '47']",
          "['40', '41', '42', '44', '45', '46', '47']",
          "['40', '41', '42', '44', '45', '46', '47']",
          "['26', '27', '28']",
          "['26', '27', '28']",
          "['26', '27', '28']",
          "['26', '27', '28']",
          "['48', '49']",
          "['48', '49']",
          "['48', '49']",
          "['48', '49']",
          "['48', '49']",
          "['20', '21', '22', '23']",
          "['20', '21', '22', '23']",
          "['20', '21', '22', '23']",
          "['10', '11', '12', '13', '14', '15', '16']",
          "['10', '11', '12', '13', '14', '15', '16']",
          "['10', '11', '12', '13', '14', '15', '16']",
          "['29', '30', '31', '38', '39']",
          "['29', '30', '31', '38', '39']",
          "['29', '30', '31', '38', '39']"
         ]
        },
        {
         "name": "ARIMA_wf_direction_accuracy",
         "orientation": "h",
         "type": "bar",
         "x": [
          0.4,
          0.4,
          0.4,
          0,
          0.4,
          0.2,
          0.2,
          0,
          0,
          0,
          0.2,
          0.4,
          0.4,
          0.4,
          0.6,
          0.4,
          0.2,
          0.2,
          0.6,
          0.6,
          0.6,
          0.4,
          0.4,
          0.2,
          0.2,
          0.4,
          0.2,
          0.4,
          0.8,
          0.8,
          0.4,
          0.2,
          0.4
         ],
         "y": [
          "['25', '24']",
          "['25', '24']",
          "['25', '24']",
          "['80', '81', '82', '83', '84', '85', '93', '94']",
          "['80', '81', '82', '83', '84', '85', '93', '94']",
          "['80', '81', '82', '83', '84', '85', '93', '94']",
          "['70', '71', '73', '74', '75', '76']",
          "['50', '51', '52', '53']",
          "['50', '51', '52', '53']",
          "['40', '41', '42', '44', '45', '46', '47']",
          "['40', '41', '42', '44', '45', '46', '47']",
          "['40', '41', '42', '44', '45', '46', '47']",
          "['40', '41', '42', '44', '45', '46', '47']",
          "['40', '41', '42', '44', '45', '46', '47']",
          "['40', '41', '42', '44', '45', '46', '47']",
          "['26', '27', '28']",
          "['26', '27', '28']",
          "['26', '27', '28']",
          "['26', '27', '28']",
          "['48', '49']",
          "['48', '49']",
          "['48', '49']",
          "['48', '49']",
          "['48', '49']",
          "['20', '21', '22', '23']",
          "['20', '21', '22', '23']",
          "['20', '21', '22', '23']",
          "['10', '11', '12', '13', '14', '15', '16']",
          "['10', '11', '12', '13', '14', '15', '16']",
          "['10', '11', '12', '13', '14', '15', '16']",
          "['29', '30', '31', '38', '39']",
          "['29', '30', '31', '38', '39']",
          "['29', '30', '31', '38', '39']"
         ]
        }
       ],
       "layout": {
        "barmode": "group",
        "template": {
         "data": {
          "bar": [
           {
            "error_x": {
             "color": "#2a3f5f"
            },
            "error_y": {
             "color": "#2a3f5f"
            },
            "marker": {
             "line": {
              "color": "#E5ECF6",
              "width": 0.5
             },
             "pattern": {
              "fillmode": "overlay",
              "size": 10,
              "solidity": 0.2
             }
            },
            "type": "bar"
           }
          ],
          "barpolar": [
           {
            "marker": {
             "line": {
              "color": "#E5ECF6",
              "width": 0.5
             },
             "pattern": {
              "fillmode": "overlay",
              "size": 10,
              "solidity": 0.2
             }
            },
            "type": "barpolar"
           }
          ],
          "carpet": [
           {
            "aaxis": {
             "endlinecolor": "#2a3f5f",
             "gridcolor": "white",
             "linecolor": "white",
             "minorgridcolor": "white",
             "startlinecolor": "#2a3f5f"
            },
            "baxis": {
             "endlinecolor": "#2a3f5f",
             "gridcolor": "white",
             "linecolor": "white",
             "minorgridcolor": "white",
             "startlinecolor": "#2a3f5f"
            },
            "type": "carpet"
           }
          ],
          "choropleth": [
           {
            "colorbar": {
             "outlinewidth": 0,
             "ticks": ""
            },
            "type": "choropleth"
           }
          ],
          "contour": [
           {
            "colorbar": {
             "outlinewidth": 0,
             "ticks": ""
            },
            "colorscale": [
             [
              0,
              "#0d0887"
             ],
             [
              0.1111111111111111,
              "#46039f"
             ],
             [
              0.2222222222222222,
              "#7201a8"
             ],
             [
              0.3333333333333333,
              "#9c179e"
             ],
             [
              0.4444444444444444,
              "#bd3786"
             ],
             [
              0.5555555555555556,
              "#d8576b"
             ],
             [
              0.6666666666666666,
              "#ed7953"
             ],
             [
              0.7777777777777778,
              "#fb9f3a"
             ],
             [
              0.8888888888888888,
              "#fdca26"
             ],
             [
              1,
              "#f0f921"
             ]
            ],
            "type": "contour"
           }
          ],
          "contourcarpet": [
           {
            "colorbar": {
             "outlinewidth": 0,
             "ticks": ""
            },
            "type": "contourcarpet"
           }
          ],
          "heatmap": [
           {
            "colorbar": {
             "outlinewidth": 0,
             "ticks": ""
            },
            "colorscale": [
             [
              0,
              "#0d0887"
             ],
             [
              0.1111111111111111,
              "#46039f"
             ],
             [
              0.2222222222222222,
              "#7201a8"
             ],
             [
              0.3333333333333333,
              "#9c179e"
             ],
             [
              0.4444444444444444,
              "#bd3786"
             ],
             [
              0.5555555555555556,
              "#d8576b"
             ],
             [
              0.6666666666666666,
              "#ed7953"
             ],
             [
              0.7777777777777778,
              "#fb9f3a"
             ],
             [
              0.8888888888888888,
              "#fdca26"
             ],
             [
              1,
              "#f0f921"
             ]
            ],
            "type": "heatmap"
           }
          ],
          "heatmapgl": [
           {
            "colorbar": {
             "outlinewidth": 0,
             "ticks": ""
            },
            "colorscale": [
             [
              0,
              "#0d0887"
             ],
             [
              0.1111111111111111,
              "#46039f"
             ],
             [
              0.2222222222222222,
              "#7201a8"
             ],
             [
              0.3333333333333333,
              "#9c179e"
             ],
             [
              0.4444444444444444,
              "#bd3786"
             ],
             [
              0.5555555555555556,
              "#d8576b"
             ],
             [
              0.6666666666666666,
              "#ed7953"
             ],
             [
              0.7777777777777778,
              "#fb9f3a"
             ],
             [
              0.8888888888888888,
              "#fdca26"
             ],
             [
              1,
              "#f0f921"
             ]
            ],
            "type": "heatmapgl"
           }
          ],
          "histogram": [
           {
            "marker": {
             "pattern": {
              "fillmode": "overlay",
              "size": 10,
              "solidity": 0.2
             }
            },
            "type": "histogram"
           }
          ],
          "histogram2d": [
           {
            "colorbar": {
             "outlinewidth": 0,
             "ticks": ""
            },
            "colorscale": [
             [
              0,
              "#0d0887"
             ],
             [
              0.1111111111111111,
              "#46039f"
             ],
             [
              0.2222222222222222,
              "#7201a8"
             ],
             [
              0.3333333333333333,
              "#9c179e"
             ],
             [
              0.4444444444444444,
              "#bd3786"
             ],
             [
              0.5555555555555556,
              "#d8576b"
             ],
             [
              0.6666666666666666,
              "#ed7953"
             ],
             [
              0.7777777777777778,
              "#fb9f3a"
             ],
             [
              0.8888888888888888,
              "#fdca26"
             ],
             [
              1,
              "#f0f921"
             ]
            ],
            "type": "histogram2d"
           }
          ],
          "histogram2dcontour": [
           {
            "colorbar": {
             "outlinewidth": 0,
             "ticks": ""
            },
            "colorscale": [
             [
              0,
              "#0d0887"
             ],
             [
              0.1111111111111111,
              "#46039f"
             ],
             [
              0.2222222222222222,
              "#7201a8"
             ],
             [
              0.3333333333333333,
              "#9c179e"
             ],
             [
              0.4444444444444444,
              "#bd3786"
             ],
             [
              0.5555555555555556,
              "#d8576b"
             ],
             [
              0.6666666666666666,
              "#ed7953"
             ],
             [
              0.7777777777777778,
              "#fb9f3a"
             ],
             [
              0.8888888888888888,
              "#fdca26"
             ],
             [
              1,
              "#f0f921"
             ]
            ],
            "type": "histogram2dcontour"
           }
          ],
          "mesh3d": [
           {
            "colorbar": {
             "outlinewidth": 0,
             "ticks": ""
            },
            "type": "mesh3d"
           }
          ],
          "parcoords": [
           {
            "line": {
             "colorbar": {
              "outlinewidth": 0,
              "ticks": ""
             }
            },
            "type": "parcoords"
           }
          ],
          "pie": [
           {
            "automargin": true,
            "type": "pie"
           }
          ],
          "scatter": [
           {
            "fillpattern": {
             "fillmode": "overlay",
             "size": 10,
             "solidity": 0.2
            },
            "type": "scatter"
           }
          ],
          "scatter3d": [
           {
            "line": {
             "colorbar": {
              "outlinewidth": 0,
              "ticks": ""
             }
            },
            "marker": {
             "colorbar": {
              "outlinewidth": 0,
              "ticks": ""
             }
            },
            "type": "scatter3d"
           }
          ],
          "scattercarpet": [
           {
            "marker": {
             "colorbar": {
              "outlinewidth": 0,
              "ticks": ""
             }
            },
            "type": "scattercarpet"
           }
          ],
          "scattergeo": [
           {
            "marker": {
             "colorbar": {
              "outlinewidth": 0,
              "ticks": ""
             }
            },
            "type": "scattergeo"
           }
          ],
          "scattergl": [
           {
            "marker": {
             "colorbar": {
              "outlinewidth": 0,
              "ticks": ""
             }
            },
            "type": "scattergl"
           }
          ],
          "scattermapbox": [
           {
            "marker": {
             "colorbar": {
              "outlinewidth": 0,
              "ticks": ""
             }
            },
            "type": "scattermapbox"
           }
          ],
          "scatterpolar": [
           {
            "marker": {
             "colorbar": {
              "outlinewidth": 0,
              "ticks": ""
             }
            },
            "type": "scatterpolar"
           }
          ],
          "scatterpolargl": [
           {
            "marker": {
             "colorbar": {
              "outlinewidth": 0,
              "ticks": ""
             }
            },
            "type": "scatterpolargl"
           }
          ],
          "scatterternary": [
           {
            "marker": {
             "colorbar": {
              "outlinewidth": 0,
              "ticks": ""
             }
            },
            "type": "scatterternary"
           }
          ],
          "surface": [
           {
            "colorbar": {
             "outlinewidth": 0,
             "ticks": ""
            },
            "colorscale": [
             [
              0,
              "#0d0887"
             ],
             [
              0.1111111111111111,
              "#46039f"
             ],
             [
              0.2222222222222222,
              "#7201a8"
             ],
             [
              0.3333333333333333,
              "#9c179e"
             ],
             [
              0.4444444444444444,
              "#bd3786"
             ],
             [
              0.5555555555555556,
              "#d8576b"
             ],
             [
              0.6666666666666666,
              "#ed7953"
             ],
             [
              0.7777777777777778,
              "#fb9f3a"
             ],
             [
              0.8888888888888888,
              "#fdca26"
             ],
             [
              1,
              "#f0f921"
             ]
            ],
            "type": "surface"
           }
          ],
          "table": [
           {
            "cells": {
             "fill": {
              "color": "#EBF0F8"
             },
             "line": {
              "color": "white"
             }
            },
            "header": {
             "fill": {
              "color": "#C8D4E3"
             },
             "line": {
              "color": "white"
             }
            },
            "type": "table"
           }
          ]
         },
         "layout": {
          "annotationdefaults": {
           "arrowcolor": "#2a3f5f",
           "arrowhead": 0,
           "arrowwidth": 1
          },
          "autotypenumbers": "strict",
          "coloraxis": {
           "colorbar": {
            "outlinewidth": 0,
            "ticks": ""
           }
          },
          "colorscale": {
           "diverging": [
            [
             0,
             "#8e0152"
            ],
            [
             0.1,
             "#c51b7d"
            ],
            [
             0.2,
             "#de77ae"
            ],
            [
             0.3,
             "#f1b6da"
            ],
            [
             0.4,
             "#fde0ef"
            ],
            [
             0.5,
             "#f7f7f7"
            ],
            [
             0.6,
             "#e6f5d0"
            ],
            [
             0.7,
             "#b8e186"
            ],
            [
             0.8,
             "#7fbc41"
            ],
            [
             0.9,
             "#4d9221"
            ],
            [
             1,
             "#276419"
            ]
           ],
           "sequential": [
            [
             0,
             "#0d0887"
            ],
            [
             0.1111111111111111,
             "#46039f"
            ],
            [
             0.2222222222222222,
             "#7201a8"
            ],
            [
             0.3333333333333333,
             "#9c179e"
            ],
            [
             0.4444444444444444,
             "#bd3786"
            ],
            [
             0.5555555555555556,
             "#d8576b"
            ],
            [
             0.6666666666666666,
             "#ed7953"
            ],
            [
             0.7777777777777778,
             "#fb9f3a"
            ],
            [
             0.8888888888888888,
             "#fdca26"
            ],
            [
             1,
             "#f0f921"
            ]
           ],
           "sequentialminus": [
            [
             0,
             "#0d0887"
            ],
            [
             0.1111111111111111,
             "#46039f"
            ],
            [
             0.2222222222222222,
             "#7201a8"
            ],
            [
             0.3333333333333333,
             "#9c179e"
            ],
            [
             0.4444444444444444,
             "#bd3786"
            ],
            [
             0.5555555555555556,
             "#d8576b"
            ],
            [
             0.6666666666666666,
             "#ed7953"
            ],
            [
             0.7777777777777778,
             "#fb9f3a"
            ],
            [
             0.8888888888888888,
             "#fdca26"
            ],
            [
             1,
             "#f0f921"
            ]
           ]
          },
          "colorway": [
           "#636efa",
           "#EF553B",
           "#00cc96",
           "#ab63fa",
           "#FFA15A",
           "#19d3f3",
           "#FF6692",
           "#B6E880",
           "#FF97FF",
           "#FECB52"
          ],
          "font": {
           "color": "#2a3f5f"
          },
          "geo": {
           "bgcolor": "white",
           "lakecolor": "white",
           "landcolor": "#E5ECF6",
           "showlakes": true,
           "showland": true,
           "subunitcolor": "white"
          },
          "hoverlabel": {
           "align": "left"
          },
          "hovermode": "closest",
          "mapbox": {
           "style": "light"
          },
          "paper_bgcolor": "white",
          "plot_bgcolor": "#E5ECF6",
          "polar": {
           "angularaxis": {
            "gridcolor": "white",
            "linecolor": "white",
            "ticks": ""
           },
           "bgcolor": "#E5ECF6",
           "radialaxis": {
            "gridcolor": "white",
            "linecolor": "white",
            "ticks": ""
           }
          },
          "scene": {
           "xaxis": {
            "backgroundcolor": "#E5ECF6",
            "gridcolor": "white",
            "gridwidth": 2,
            "linecolor": "white",
            "showbackground": true,
            "ticks": "",
            "zerolinecolor": "white"
           },
           "yaxis": {
            "backgroundcolor": "#E5ECF6",
            "gridcolor": "white",
            "gridwidth": 2,
            "linecolor": "white",
            "showbackground": true,
            "ticks": "",
            "zerolinecolor": "white"
           },
           "zaxis": {
            "backgroundcolor": "#E5ECF6",
            "gridcolor": "white",
            "gridwidth": 2,
            "linecolor": "white",
            "showbackground": true,
            "ticks": "",
            "zerolinecolor": "white"
           }
          },
          "shapedefaults": {
           "line": {
            "color": "#2a3f5f"
           }
          },
          "ternary": {
           "aaxis": {
            "gridcolor": "white",
            "linecolor": "white",
            "ticks": ""
           },
           "baxis": {
            "gridcolor": "white",
            "linecolor": "white",
            "ticks": ""
           },
           "bgcolor": "#E5ECF6",
           "caxis": {
            "gridcolor": "white",
            "linecolor": "white",
            "ticks": ""
           }
          },
          "title": {
           "x": 0.05
          },
          "xaxis": {
           "automargin": true,
           "gridcolor": "white",
           "linecolor": "white",
           "ticks": "",
           "title": {
            "standoff": 15
           },
           "zerolinecolor": "white",
           "zerolinewidth": 2
          },
          "yaxis": {
           "automargin": true,
           "gridcolor": "white",
           "linecolor": "white",
           "ticks": "",
           "title": {
            "standoff": 15
           },
           "zerolinecolor": "white",
           "zerolinewidth": 2
          }
         }
        },
        "title": {
         "text": "Metrics Distribution Across Clusters"
        },
        "xaxis": {
         "title": {
          "text": "Value"
         }
        },
        "yaxis": {
         "title": {
          "text": "Cluster"
         }
        }
       }
      }
     },
     "metadata": {},
     "output_type": "display_data"
    }
   ],
   "source": [
    "import plotly.graph_objs as go\n",
    "\n",
    "# Define the metrics\n",
    "metrics = ['ARIMA_static_mae', 'ARIMA_static_me', 'ARIMA_static_rmse', 'ARIMA_static_direction_accuracy', \n",
    "           'ARIMA_wf_mae', 'ARIMA_wf_me', 'ARIMA_wf_rmse', 'ARIMA_wf_direction_accuracy']\n",
    "\n",
    "# Create a list to hold bar traces\n",
    "traces = []\n",
    "\n",
    "# Create bar trace for each metric\n",
    "for metric in metrics:\n",
    "    trace = go.Bar(\n",
    "        y=[result['Cluster'] for result in data],\n",
    "        x=[result[metric] for result in data],\n",
    "        name=metric,\n",
    "        orientation='h'\n",
    "    )\n",
    "    traces.append(trace)\n",
    "\n",
    "# Define layout\n",
    "layout = go.Layout(\n",
    "    barmode='group',\n",
    "    title='Metrics distribution across clusters',\n",
    "    xaxis=dict(title='Value'),\n",
    "    yaxis=dict(title='Cluster')\n",
    ")\n",
    "\n",
    "# Create figure\n",
    "fig = go.Figure(data=traces, layout=layout)\n",
    "\n",
    "# Show figure\n",
    "fig.show()"
   ]
  }
 ],
 "metadata": {
  "kernelspec": {
   "display_name": "Python 3",
   "language": "python",
   "name": "python3"
  },
  "language_info": {
   "codemirror_mode": {
    "name": "ipython",
    "version": 3
   },
   "file_extension": ".py",
   "mimetype": "text/x-python",
   "name": "python",
   "nbconvert_exporter": "python",
   "pygments_lexer": "ipython3",
   "version": "3.11.2"
  },
  "orig_nbformat": 4
 },
 "nbformat": 4,
 "nbformat_minor": 2
}
