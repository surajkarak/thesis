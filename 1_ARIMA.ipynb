{
 "cells": [
  {
   "cell_type": "code",
   "execution_count": 153,
   "metadata": {},
   "outputs": [],
   "source": [
    "#Importing libraries\n",
    "import warnings\n",
    "warnings.simplefilter(action='ignore', category=FutureWarning)\n",
    "import numpy as np\n",
    "import pandas as pd\n",
    "from numpy import asarray\n",
    "from sklearn.metrics import mean_absolute_error\n",
    "import matplotlib.pyplot as plt\n",
    "import seaborn as sns\n",
    "import matplotlib.pyplot as plt\n",
    "import plotly.express as px\n",
    "import plotly.graph_objects as go\n",
    "from plotly.subplots import make_subplots\n",
    "import datetime\n",
    "from statsmodels.tsa.tsatools import lagmat\n",
    "from statsmodels.tsa.arima.model import ARIMA"
   ]
  },
  {
   "attachments": {},
   "cell_type": "markdown",
   "metadata": {},
   "source": [
    "# Data Import and Cleaning"
   ]
  },
  {
   "cell_type": "code",
   "execution_count": 154,
   "metadata": {},
   "outputs": [],
   "source": [
    "%store -r df_cleaned"
   ]
  },
  {
   "cell_type": "code",
   "execution_count": 155,
   "metadata": {},
   "outputs": [
    {
     "data": {
      "text/html": [
       "<div>\n",
       "<style scoped>\n",
       "    .dataframe tbody tr th:only-of-type {\n",
       "        vertical-align: middle;\n",
       "    }\n",
       "\n",
       "    .dataframe tbody tr th {\n",
       "        vertical-align: top;\n",
       "    }\n",
       "\n",
       "    .dataframe thead th {\n",
       "        text-align: right;\n",
       "    }\n",
       "</style>\n",
       "<table border=\"1\" class=\"dataframe\">\n",
       "  <thead>\n",
       "    <tr style=\"text-align: right;\">\n",
       "      <th></th>\n",
       "      <th>week</th>\n",
       "      <th>wPreis</th>\n",
       "      <th>Plz</th>\n",
       "      <th>full</th>\n",
       "      <th>date</th>\n",
       "    </tr>\n",
       "    <tr>\n",
       "      <th>date</th>\n",
       "      <th></th>\n",
       "      <th></th>\n",
       "      <th></th>\n",
       "      <th></th>\n",
       "      <th></th>\n",
       "    </tr>\n",
       "  </thead>\n",
       "  <tbody>\n",
       "    <tr>\n",
       "      <th>2020-09-14</th>\n",
       "      <td>2020-37</td>\n",
       "      <td>-37.519318</td>\n",
       "      <td>['25', '24']</td>\n",
       "      <td>A2 -  geschreddert</td>\n",
       "      <td>2020-09-14</td>\n",
       "    </tr>\n",
       "    <tr>\n",
       "      <th>2020-09-14</th>\n",
       "      <td>2020-37</td>\n",
       "      <td>-37.519318</td>\n",
       "      <td>['25', '24']</td>\n",
       "      <td>A1 &amp; A2 -  geschreddert</td>\n",
       "      <td>2020-09-14</td>\n",
       "    </tr>\n",
       "    <tr>\n",
       "      <th>2020-09-14</th>\n",
       "      <td>2020-37</td>\n",
       "      <td>-23.445068</td>\n",
       "      <td>['80', '81', '82', '83', '84', '85', '93', '94']</td>\n",
       "      <td>A3 -  geschreddert</td>\n",
       "      <td>2020-09-14</td>\n",
       "    </tr>\n",
       "    <tr>\n",
       "      <th>2020-09-14</th>\n",
       "      <td>2020-37</td>\n",
       "      <td>-36.379163</td>\n",
       "      <td>['70', '71', '73', '74', '75', '76']</td>\n",
       "      <td>A2 &amp; A3 -  geschreddert</td>\n",
       "      <td>2020-09-14</td>\n",
       "    </tr>\n",
       "    <tr>\n",
       "      <th>2020-09-14</th>\n",
       "      <td>2020-37</td>\n",
       "      <td>-27.983877</td>\n",
       "      <td>['25', '24']</td>\n",
       "      <td>A2 &amp; A3 -  geschreddert</td>\n",
       "      <td>2020-09-14</td>\n",
       "    </tr>\n",
       "    <tr>\n",
       "      <th>...</th>\n",
       "      <td>...</td>\n",
       "      <td>...</td>\n",
       "      <td>...</td>\n",
       "      <td>...</td>\n",
       "      <td>...</td>\n",
       "    </tr>\n",
       "    <tr>\n",
       "      <th>2024-04-22</th>\n",
       "      <td>2024-17</td>\n",
       "      <td>7.216049</td>\n",
       "      <td>['50', '51', '52', '53']</td>\n",
       "      <td>A2 &amp; A3 -  geschreddert</td>\n",
       "      <td>2024-04-22</td>\n",
       "    </tr>\n",
       "    <tr>\n",
       "      <th>2024-04-22</th>\n",
       "      <td>2024-17</td>\n",
       "      <td>33.349057</td>\n",
       "      <td>['70', '71', '73', '74', '75', '76']</td>\n",
       "      <td>A2 &amp; A3 -  geschreddert</td>\n",
       "      <td>2024-04-22</td>\n",
       "    </tr>\n",
       "    <tr>\n",
       "      <th>2024-04-22</th>\n",
       "      <td>2024-17</td>\n",
       "      <td>2.409250</td>\n",
       "      <td>['25', '24']</td>\n",
       "      <td>A2 -  geschreddert</td>\n",
       "      <td>2024-04-22</td>\n",
       "    </tr>\n",
       "    <tr>\n",
       "      <th>2024-04-22</th>\n",
       "      <td>2024-17</td>\n",
       "      <td>10.850000</td>\n",
       "      <td>['26', '27', '28']</td>\n",
       "      <td>A3 -  geschreddert</td>\n",
       "      <td>2024-04-22</td>\n",
       "    </tr>\n",
       "    <tr>\n",
       "      <th>2024-04-22</th>\n",
       "      <td>2024-17</td>\n",
       "      <td>40.367961</td>\n",
       "      <td>['80', '81', '82', '83', '84', '85', '93', '94']</td>\n",
       "      <td>A2 &amp; A3 -  geschreddert</td>\n",
       "      <td>2024-04-22</td>\n",
       "    </tr>\n",
       "  </tbody>\n",
       "</table>\n",
       "<p>5773 rows × 5 columns</p>\n",
       "</div>"
      ],
      "text/plain": [
       "               week     wPreis  \\\n",
       "date                             \n",
       "2020-09-14  2020-37 -37.519318   \n",
       "2020-09-14  2020-37 -37.519318   \n",
       "2020-09-14  2020-37 -23.445068   \n",
       "2020-09-14  2020-37 -36.379163   \n",
       "2020-09-14  2020-37 -27.983877   \n",
       "...             ...        ...   \n",
       "2024-04-22  2024-17   7.216049   \n",
       "2024-04-22  2024-17  33.349057   \n",
       "2024-04-22  2024-17   2.409250   \n",
       "2024-04-22  2024-17  10.850000   \n",
       "2024-04-22  2024-17  40.367961   \n",
       "\n",
       "                                                         Plz  \\\n",
       "date                                                           \n",
       "2020-09-14                                      ['25', '24']   \n",
       "2020-09-14                                      ['25', '24']   \n",
       "2020-09-14  ['80', '81', '82', '83', '84', '85', '93', '94']   \n",
       "2020-09-14              ['70', '71', '73', '74', '75', '76']   \n",
       "2020-09-14                                      ['25', '24']   \n",
       "...                                                      ...   \n",
       "2024-04-22                          ['50', '51', '52', '53']   \n",
       "2024-04-22              ['70', '71', '73', '74', '75', '76']   \n",
       "2024-04-22                                      ['25', '24']   \n",
       "2024-04-22                                ['26', '27', '28']   \n",
       "2024-04-22  ['80', '81', '82', '83', '84', '85', '93', '94']   \n",
       "\n",
       "                               full       date  \n",
       "date                                            \n",
       "2020-09-14       A2 -  geschreddert 2020-09-14  \n",
       "2020-09-14  A1 & A2 -  geschreddert 2020-09-14  \n",
       "2020-09-14       A3 -  geschreddert 2020-09-14  \n",
       "2020-09-14  A2 & A3 -  geschreddert 2020-09-14  \n",
       "2020-09-14  A2 & A3 -  geschreddert 2020-09-14  \n",
       "...                             ...        ...  \n",
       "2024-04-22  A2 & A3 -  geschreddert 2024-04-22  \n",
       "2024-04-22  A2 & A3 -  geschreddert 2024-04-22  \n",
       "2024-04-22       A2 -  geschreddert 2024-04-22  \n",
       "2024-04-22       A3 -  geschreddert 2024-04-22  \n",
       "2024-04-22  A2 & A3 -  geschreddert 2024-04-22  \n",
       "\n",
       "[5773 rows x 5 columns]"
      ]
     },
     "execution_count": 155,
     "metadata": {},
     "output_type": "execute_result"
    }
   ],
   "source": [
    "df_cleaned"
   ]
  },
  {
   "cell_type": "code",
   "execution_count": 156,
   "metadata": {},
   "outputs": [],
   "source": [
    "df = df_cleaned # pd.read_excel(\"/Users/surajkwork/Documents/Thesis/thesis/df.xlsx\")"
   ]
  },
  {
   "attachments": {},
   "cell_type": "markdown",
   "metadata": {},
   "source": [
    "The date variable is not in datetime format so it has to be converted."
   ]
  },
  {
   "cell_type": "code",
   "execution_count": 157,
   "metadata": {},
   "outputs": [],
   "source": [
    "# df['date']= pd.to_datetime(df['date'])\n",
    "# df.index = df['date']\n",
    "# df.sort_index(inplace=True)"
   ]
  },
  {
   "attachments": {},
   "cell_type": "markdown",
   "metadata": {},
   "source": [
    "Extracting one cluster from the dataset for analysis."
   ]
  },
  {
   "cell_type": "code",
   "execution_count": 158,
   "metadata": {},
   "outputs": [],
   "source": [
    "TS1 = df[(df['Plz'] == \"['25', '24']\")]"
   ]
  },
  {
   "attachments": {},
   "cell_type": "markdown",
   "metadata": {},
   "source": [
    "And from this cluster, extracting one category for analysis."
   ]
  },
  {
   "cell_type": "code",
   "execution_count": 159,
   "metadata": {},
   "outputs": [],
   "source": [
    "TS1_A2 = TS1[TS1['full'] == 'A2 -  geschreddert']"
   ]
  },
  {
   "cell_type": "code",
   "execution_count": 160,
   "metadata": {},
   "outputs": [],
   "source": [
    "TS1_A1A2 = TS1[TS1['full'] == 'A1 & A2 -  geschreddert']\n",
    "TS1_A2A3 = TS1[TS1['full'] == 'A2 & A3 -  geschreddert']"
   ]
  },
  {
   "cell_type": "code",
   "execution_count": 161,
   "metadata": {},
   "outputs": [],
   "source": [
    "datasets = [TS1_A2, TS1_A1A2, TS1_A2A3]"
   ]
  },
  {
   "attachments": {},
   "cell_type": "markdown",
   "metadata": {},
   "source": [
    "# Modelling - Train, test split"
   ]
  },
  {
   "cell_type": "code",
   "execution_count": 162,
   "metadata": {},
   "outputs": [
    {
     "data": {
      "text/plain": [
       "187"
      ]
     },
     "execution_count": 162,
     "metadata": {},
     "output_type": "execute_result"
    }
   ],
   "source": [
    "len(TS1_A1A2)"
   ]
  },
  {
   "cell_type": "code",
   "execution_count": 163,
   "metadata": {},
   "outputs": [],
   "source": [
    "nobs = 6\n",
    "df_train, df_test = TS1_A1A2[0:-nobs], TS1_A1A2[-nobs:]"
   ]
  },
  {
   "attachments": {},
   "cell_type": "markdown",
   "metadata": {},
   "source": [
    "## ARIMA Model\n"
   ]
  },
  {
   "attachments": {},
   "cell_type": "markdown",
   "metadata": {},
   "source": [
    "### Static forecast using ARIMA\n"
   ]
  },
  {
   "attachments": {},
   "cell_type": "markdown",
   "metadata": {},
   "source": [
    "No retraining. We just use the best ARIMA model to forecast for the test set and evaluate.\n",
    "We use the once-trained best ARIMA model to forecast for the 6 \"steps\" in one go. "
   ]
  },
  {
   "cell_type": "code",
   "execution_count": 164,
   "metadata": {},
   "outputs": [
    {
     "name": "stderr",
     "output_type": "stream",
     "text": [
      "/Library/Frameworks/Python.framework/Versions/3.11/lib/python3.11/site-packages/statsmodels/tsa/base/tsa_model.py:471: ValueWarning: A date index has been provided, but it has no associated frequency information and so will be ignored when e.g. forecasting.\n",
      "  self._init_dates(dates, freq)\n",
      "/Library/Frameworks/Python.framework/Versions/3.11/lib/python3.11/site-packages/statsmodels/tsa/base/tsa_model.py:471: ValueWarning: A date index has been provided, but it has no associated frequency information and so will be ignored when e.g. forecasting.\n",
      "  self._init_dates(dates, freq)\n",
      "/Library/Frameworks/Python.framework/Versions/3.11/lib/python3.11/site-packages/statsmodels/tsa/base/tsa_model.py:471: ValueWarning: A date index has been provided, but it has no associated frequency information and so will be ignored when e.g. forecasting.\n",
      "  self._init_dates(dates, freq)\n"
     ]
    }
   ],
   "source": [
    "model = ARIMA(df_train['wPreis'], order=(4, 1, 0))\n",
    "static_ARIMA = model.fit()"
   ]
  },
  {
   "cell_type": "code",
   "execution_count": 165,
   "metadata": {},
   "outputs": [
    {
     "name": "stderr",
     "output_type": "stream",
     "text": [
      "/Library/Frameworks/Python.framework/Versions/3.11/lib/python3.11/site-packages/statsmodels/tsa/base/tsa_model.py:834: ValueWarning: No supported index is available. Prediction results will be given with an integer index beginning at `start`.\n",
      "  return get_prediction_index(\n"
     ]
    },
    {
     "data": {
      "text/plain": [
       "181    9.286463\n",
       "182    9.123604\n",
       "183    7.039256\n",
       "184    6.442182\n",
       "185    7.395429\n",
       "186    7.041302\n",
       "Name: predicted_mean, dtype: float64"
      ]
     },
     "execution_count": 165,
     "metadata": {},
     "output_type": "execute_result"
    }
   ],
   "source": [
    "static_ARIMA.forecast(steps=nobs) "
   ]
  },
  {
   "attachments": {},
   "cell_type": "markdown",
   "metadata": {},
   "source": [
    "The ARIMA forecast function does not require an \"input\" other than the steps, so either\n",
    "- we can do a static forecast (train once on the entire training dataset) and test the predictions for the required steps to compare with the test dataset or\n",
    "- train in a walk-forward validation where we retrain the model with every step of the test dataset on the new training set which includes the new observation"
   ]
  },
  {
   "cell_type": "code",
   "execution_count": 166,
   "metadata": {},
   "outputs": [
    {
     "name": "stderr",
     "output_type": "stream",
     "text": [
      "/Library/Frameworks/Python.framework/Versions/3.11/lib/python3.11/site-packages/statsmodels/tsa/base/tsa_model.py:834: ValueWarning: No supported index is available. Prediction results will be given with an integer index beginning at `start`.\n",
      "  return get_prediction_index(\n"
     ]
    }
   ],
   "source": [
    "fc = static_ARIMA.forecast(steps=nobs) \n",
    "a = np.array(fc)\n",
    "df_forecast = pd.DataFrame(a, index=df_test.index[-nobs:], columns=['Predicted_wPreis'])\n"
   ]
  },
  {
   "cell_type": "code",
   "execution_count": 167,
   "metadata": {},
   "outputs": [
    {
     "data": {
      "image/png": "[encoded data removed]",
      "text/plain": [
       "<Figure size 1500x700 with 1 Axes>"
      ]
     },
     "metadata": {},
     "output_type": "display_data"
    }
   ],
   "source": [
    "# Plot actual vs predicted values\n",
    "plt.figure(figsize=(15, 7))\n",
    "plt.plot(df_test[\"wPreis\"], color='black', label='Actual wPreis')\n",
    "plt.plot(df_forecast, color='red', label='Predicted wPreis')\n",
    "plt.xlabel(\"Timestamp\")\n",
    "plt.grid(True)\n",
    "plt.legend(loc='upper left')\n",
    "plt.title('Predicted vs Actual wPreis for ARIMA static')\n",
    "plt.show()"
   ]
  },
  {
   "attachments": {},
   "cell_type": "markdown",
   "metadata": {},
   "source": [
    "We will define a forecast accuracyy function that will calculate the mean error, RMSE and also the direction accuracy. "
   ]
  },
  {
   "cell_type": "code",
   "execution_count": 168,
   "metadata": {},
   "outputs": [],
   "source": [
    "def forecast_accuracy(forecast, actual):\n",
    "      mae = mean_absolute_error(actual, forecast)\n",
    "      me = np.mean(forecast - actual)             # ME\n",
    "      rmse = np.mean((forecast - actual)**2)**.5  # RMSE\n",
    "      # Direction accuracy\n",
    "      forecast_diff = np.diff(forecast)\n",
    "      actual_diff = np.diff(actual)\n",
    "      direction_accuracy = np.mean(np.sign(forecast_diff) == np.sign(actual_diff))\n",
    "    \n",
    "      return {'mae':mae, 'me': me, 'rmse': rmse, 'direction_accuracy': direction_accuracy}\n"
   ]
  },
  {
   "cell_type": "code",
   "execution_count": 169,
   "metadata": {},
   "outputs": [
    {
     "name": "stdout",
     "output_type": "stream",
     "text": [
      "ARIMA static forecast Accuracy of: wPreis\n",
      "mae    :  6.0017\n",
      "me     :  0.5297\n",
      "rmse   :  7.0418\n",
      "direction_accuracy :  0.6\n"
     ]
    }
   ],
   "source": [
    "def adjust(val, length= 6): return str(val).ljust(length) # length\n",
    "print('ARIMA static forecast Accuracy of: wPreis')\n",
    "stat_accuracy_prod = forecast_accuracy(df_forecast['Predicted_wPreis'].values, df_test['wPreis'])\n",
    "for k, v in stat_accuracy_prod.items():\n",
    "    print(adjust(k), ': ', round(v,4))"
   ]
  },
  {
   "cell_type": "code",
   "execution_count": null,
   "metadata": {},
   "outputs": [],
   "source": [
    " \n"
   ]
  },
  {
   "attachments": {},
   "cell_type": "markdown",
   "metadata": {},
   "source": [
    "# Walk forward validation using ARIMA model\n",
    "\n",
    "Training the whole model at each iteration including the new observation (for the next day)  "
   ]
  },
  {
   "cell_type": "code",
   "execution_count": 170,
   "metadata": {},
   "outputs": [],
   "source": [
    "X = df_train[\"wPreis\"].values"
   ]
  },
  {
   "attachments": {},
   "cell_type": "markdown",
   "metadata": {},
   "source": [
    "Take 148 observations for training and 6 for testing."
   ]
  },
  {
   "cell_type": "code",
   "execution_count": 171,
   "metadata": {},
   "outputs": [],
   "source": [
    "train, test = df_train[\"wPreis\"].values, df_test[\"wPreis\"].values"
   ]
  },
  {
   "cell_type": "code",
   "execution_count": 172,
   "metadata": {},
   "outputs": [
    {
     "data": {
      "text/plain": [
       "array([-37.51931788, -28.69009585, -29.68807862, -25.6304334 ,\n",
       "       -29.07379398, -24.93642602, -35.26209517, -28.06563229,\n",
       "       -28.47266599, -28.21685813, -29.18520815, -32.36064526,\n",
       "       -20.27214677, -18.80845203, -23.58340467, -35.43666563,\n",
       "       -23.06625847, -22.99784234, -31.41962306, -25.46027349,\n",
       "       -23.68194297, -21.47771259, -27.02904785, -24.82276444,\n",
       "       -23.25520954, -25.32197924, -22.30413021, -23.38024324,\n",
       "       -25.17015002, -20.85821571, -23.60348981, -24.86044273,\n",
       "       -23.64540855, -25.72826243, -20.17778383, -26.36851112,\n",
       "       -21.90534062, -23.64226891, -25.04513087, -24.65590187,\n",
       "       -21.77319638, -24.9461431 , -23.90837982, -25.23754357,\n",
       "       -19.73324755, -24.54094226, -24.73818078, -22.97021231,\n",
       "       -19.21154856, -16.66741517, -26.54786465, -22.45099313,\n",
       "       -22.93310518, -23.38212367, -23.28028169, -26.65816299,\n",
       "       -22.07703349, -17.78619097, -18.98931101,  -7.41127285,\n",
       "        -6.21131882,  -1.98035287,   1.61215148,   0.480841  ,\n",
       "         1.99070234,   5.50021781,  10.84846928,  -5.71454615,\n",
       "        -2.60008135,  -0.30741325,   8.00688895,   7.29352445,\n",
       "        11.6844277 ,  11.88464344,  14.97326405,  14.46308047,\n",
       "        12.99276544,  15.5556141 ,  17.64510072,  12.42782904,\n",
       "        17.67161689,  18.16843231,  13.76791371,  11.49227657,\n",
       "        21.43183754,  19.05758114,  19.05638567,  14.24464252,\n",
       "        14.73305223,  11.89313843,  20.35194191,  17.20689191,\n",
       "        23.50967079,  29.8436271 ,  33.8662963 ,  33.07728873,\n",
       "        40.82938591,  30.46845159,  34.17840321,  32.93534806,\n",
       "        39.7987606 ,  40.11320504,  50.3912752 ,  56.23903155,\n",
       "        54.01274875,  55.8415234 ,  54.63306048,  64.31113949,\n",
       "        56.73685274,  54.33210721,  56.26605181,  60.67509344,\n",
       "        54.88947804,  54.9047283 ,  59.0337707 ,  49.48603152,\n",
       "        60.4287912 ,  63.33244357,  56.47094205,  53.84036452,\n",
       "        60.88049388,  61.03731794,  59.19415193,  58.59646779,\n",
       "        64.03122334,  51.53310596,  50.49505391,  52.36150974,\n",
       "        42.26412038,  41.08861284,  38.87791513,  35.20653001,\n",
       "        34.09275024,  28.94868896,  31.31003406,  24.10657194,\n",
       "        24.47332582,  26.67494885,  27.48701354,  34.47253848,\n",
       "        34.0031881 ,  27.24864539,  25.67309831,  22.50169059,\n",
       "        18.64519357,  29.452064  ,  16.84723416,   4.06330439,\n",
       "         7.45821383,   8.54359533,   3.56492075,   3.71600625,\n",
       "         6.84544489,   3.91265784,   2.66880395,   0.58459228,\n",
       "         9.24780129,   6.28884741,  14.87142046,  13.15630473,\n",
       "         8.46970231,   7.54805347,   3.85634123,   4.72124139,\n",
       "         5.17834848,   8.15175559,   8.30039787,   8.04631141,\n",
       "         6.45071994,   8.00034686,   8.17586026,  15.22992722,\n",
       "        13.62098326,  15.22453355,  14.94494128,  13.7571362 ,\n",
       "        17.34321268,  19.08385688,  22.15590367,  14.05657364,\n",
       "         5.70419682])"
      ]
     },
     "execution_count": 172,
     "metadata": {},
     "output_type": "execute_result"
    }
   ],
   "source": [
    "train"
   ]
  },
  {
   "cell_type": "code",
   "execution_count": 173,
   "metadata": {},
   "outputs": [],
   "source": [
    "history = [x for x in df_train['wPreis'].values] # \"list comprehensions\". \n",
    "expect=[]"
   ]
  },
  {
   "cell_type": "code",
   "execution_count": 174,
   "metadata": {},
   "outputs": [],
   "source": [
    "predictions = list()\n",
    "for t in range(len(test)): # 6 times reiterate\n",
    "    model = ARIMA(history, order=(4,1,0))  \n",
    "    model_fit = model.fit()\n",
    "    output = model_fit.forecast()\n",
    "    yhat = output[0]\n",
    "    predictions.append(yhat)\n",
    "    obs = df_test['wPreis'][t]\n",
    "    history.append(obs) # appends the real observation at each loop! \n",
    "    expect.append(obs)\n",
    "\n",
    "    \n",
    "# print(expect)\n",
    "# print(predictions)"
   ]
  },
  {
   "cell_type": "code",
   "execution_count": 175,
   "metadata": {},
   "outputs": [],
   "source": [
    "df_wPreis = pd.DataFrame(\n",
    "    {'observations': expect,\n",
    "     'forecast': predictions, \n",
    "    })\n"
   ]
  },
  {
   "cell_type": "code",
   "execution_count": 176,
   "metadata": {},
   "outputs": [
    {
     "name": "stdout",
     "output_type": "stream",
     "text": [
      "Walk-forward Validation Forecast Accuracy of wPreis\n",
      "mae        :  8.0967\n",
      "me         :  -0.6224\n",
      "rmse       :  9.4342\n",
      "direction_accuracy :  0.4\n"
     ]
    }
   ],
   "source": [
    "def adjust(val, length= 10): return str(val).ljust(length) # 10\n",
    "print('Walk-forward Validation Forecast Accuracy of wPreis')\n",
    "wf_accuracy_prod = forecast_accuracy(df_wPreis['forecast'].values, df_wPreis['observations'].values)\n",
    "for k, v in wf_accuracy_prod.items():\n",
    "    print(adjust(k), ': ', round(v,4))"
   ]
  },
  {
   "attachments": {},
   "cell_type": "markdown",
   "metadata": {},
   "source": [
    "Here, the me and rmse has improved but the direction_accuracy has decreased even further!"
   ]
  },
  {
   "cell_type": "code",
   "execution_count": 177,
   "metadata": {},
   "outputs": [
    {
     "data": {
      "image/png": "[encoded data removed]",
      "text/plain": [
       "<Figure size 1500x700 with 2 Axes>"
      ]
     },
     "metadata": {},
     "output_type": "display_data"
    }
   ],
   "source": [
    "plt.figure(figsize= (15,7))\n",
    "plt.xlabel(\"Timestamp\")\n",
    "\n",
    "ax1 = df_wPreis.observations.plot(color = 'black', grid = True, label = 'Actual wPreis')\n",
    "ax2 = df_wPreis.forecast.plot(color = 'red', grid = True, secondary_y = True, label = 'Predicted wPreis')\n",
    "\n",
    "ax1.legend(loc=1)\n",
    "ax2.legend(loc=2)\n",
    "plt.title('Predicted Vs Actual wPreis (Walk-forward)')\n",
    "plt.show()"
   ]
  },
  {
   "cell_type": "code",
   "execution_count": 178,
   "metadata": {},
   "outputs": [],
   "source": [
    "ARIMA_static = pd.DataFrame([stat_accuracy_prod])\n",
    "ARIMA_walk_forward = pd.DataFrame([wf_accuracy_prod])"
   ]
  },
  {
   "cell_type": "code",
   "execution_count": 179,
   "metadata": {},
   "outputs": [
    {
     "data": {
      "text/html": [
       "<div>\n",
       "<style scoped>\n",
       "    .dataframe tbody tr th:only-of-type {\n",
       "        vertical-align: middle;\n",
       "    }\n",
       "\n",
       "    .dataframe tbody tr th {\n",
       "        vertical-align: top;\n",
       "    }\n",
       "\n",
       "    .dataframe thead th {\n",
       "        text-align: right;\n",
       "    }\n",
       "</style>\n",
       "<table border=\"1\" class=\"dataframe\">\n",
       "  <thead>\n",
       "    <tr style=\"text-align: right;\">\n",
       "      <th></th>\n",
       "      <th>mae</th>\n",
       "      <th>me</th>\n",
       "      <th>rmse</th>\n",
       "      <th>direction_accuracy</th>\n",
       "    </tr>\n",
       "  </thead>\n",
       "  <tbody>\n",
       "    <tr>\n",
       "      <th>0</th>\n",
       "      <td>6.001718</td>\n",
       "      <td>0.529747</td>\n",
       "      <td>7.041768</td>\n",
       "      <td>0.6</td>\n",
       "    </tr>\n",
       "  </tbody>\n",
       "</table>\n",
       "</div>"
      ],
      "text/plain": [
       "        mae        me      rmse  direction_accuracy\n",
       "0  6.001718  0.529747  7.041768                 0.6"
      ]
     },
     "execution_count": 179,
     "metadata": {},
     "output_type": "execute_result"
    }
   ],
   "source": [
    "ARIMA_static"
   ]
  },
  {
   "cell_type": "code",
   "execution_count": 180,
   "metadata": {},
   "outputs": [
    {
     "name": "stdout",
     "output_type": "stream",
     "text": [
      "Stored 'ARIMA_static' (DataFrame)\n",
      "Stored 'ARIMA_walk_forward' (DataFrame)\n"
     ]
    }
   ],
   "source": [
    "%store ARIMA_static\n",
    "%store ARIMA_walk_forward\n"
   ]
  },
  {
   "cell_type": "markdown",
   "metadata": {},
   "source": [
    "## All other clusters and categories"
   ]
  },
  {
   "cell_type": "code",
   "execution_count": 191,
   "metadata": {},
   "outputs": [],
   "source": [
    "# For each dataset data\n",
    "def static_forecast(data):\n",
    "    category = data['full'].unique()\n",
    "    cluster = data['Plz'].unique()\n",
    "    splitratio = 0.05\n",
    "    nobs = round(len(data)*splitratio)\n",
    "\n",
    "    df_train, df_test = data[0:-nobs], data[-nobs:]\n",
    "\n",
    "    # Static forecast\n",
    "    model = ARIMA(df_train['wPreis'], order=(4, 1, 0))\n",
    "    static_ARIMA = model.fit()\n",
    "    static_ARIMA.forecast(steps=nobs) \n",
    "    fc = static_ARIMA.forecast(steps=nobs) \n",
    "    a = np.array(fc)\n",
    "    df_forecast = pd.DataFrame(a, index=df_test.index[-nobs:], columns=['Predicted_wPreis'])\n",
    "\n",
    "    def forecast_accuracy(forecast, actual):\n",
    "      mae = mean_absolute_error(actual, forecast)\n",
    "      me = np.mean(forecast - actual)             # ME\n",
    "      rmse = np.mean((forecast - actual)**2)**.5  # RMSE\n",
    "      # Direction accuracy\n",
    "      forecast_diff = np.diff(forecast)\n",
    "      actual_diff = np.diff(actual)\n",
    "      direction_accuracy = np.mean(np.sign(forecast_diff) == np.sign(actual_diff))\n",
    "    \n",
    "      return {'mae':mae, 'me': me, 'rmse': rmse, 'direction_accuracy': direction_accuracy}\n",
    "\n",
    "    def adjust(val, length= 6): return str(val).ljust(length) # length\n",
    "    print(f'ARIMA static forecast Accuracy of: wPreis in {cluster} for {category}')\n",
    "    stat_accuracy_prod = forecast_accuracy(df_forecast['Predicted_wPreis'].values, df_test['wPreis'])\n",
    "    for k, v in stat_accuracy_prod.items():\n",
    "        print(adjust(k), ': ', round(v,4))\n",
    "\n",
    "\n"
   ]
  },
  {
   "cell_type": "code",
   "execution_count": 192,
   "metadata": {},
   "outputs": [],
   "source": [
    "def wf_forecast(data):\n",
    "    category = data['full'].unique()\n",
    "    cluster = data['Plz'].unique()\n",
    "    splitratio = 0.05\n",
    "    nobs = round(len(data)*splitratio)\n",
    "\n",
    "    df_train, df_test = data[0:-nobs], data[-nobs:]\n",
    "    \n",
    "    history = [x for x in df_train['wPreis'].values] # \"list comprehensions\". \n",
    "    expect=[]\n",
    "\n",
    "    predictions = list()\n",
    "    for t in range(len(test)): # 6 times reiterate\n",
    "        model = ARIMA(history, order=(4,1,0))  \n",
    "        model_fit = model.fit()\n",
    "        output = model_fit.forecast()\n",
    "        yhat = output[0]\n",
    "        predictions.append(yhat)\n",
    "        obs = df_test['wPreis'][t]\n",
    "        history.append(obs) # appends the real observation at each loop! \n",
    "        expect.append(obs)\n",
    "\n",
    "    df_wPreis = pd.DataFrame(\n",
    "    {'observations': expect,\n",
    "     'forecast': predictions, \n",
    "    })\n",
    "\n",
    "    def adjust(val, length= 10): return str(val).ljust(length) # 10\n",
    "    print(f'Walk-forward Validation Forecast Accuracy of wPreis in {cluster} for {category}')\n",
    "    wf_accuracy_prod = forecast_accuracy(df_wPreis['forecast'].values, df_wPreis['observations'].values)\n",
    "    for k, v in wf_accuracy_prod.items():\n",
    "        print(adjust(k), ': ', round(v,4))\n",
    "\n",
    "\n",
    "    \n",
    " \n"
   ]
  },
  {
   "cell_type": "code",
   "execution_count": 193,
   "metadata": {},
   "outputs": [],
   "source": [
    "clusters = df['Plz'].unique() \n",
    "datasets = []\n",
    "for cluster in clusters:\n",
    "    ds = df[(df['Plz'] == cluster)]\n",
    "    categories = ds['full'].unique()\n",
    "    for category in categories:\n",
    "        datasets.append(ds[ds['full'] == category])\n",
    "\n",
    "\n",
    "\n"
   ]
  },
  {
   "cell_type": "code",
   "execution_count": 194,
   "metadata": {},
   "outputs": [
    {
     "data": {
      "text/plain": [
       "33"
      ]
     },
     "execution_count": 194,
     "metadata": {},
     "output_type": "execute_result"
    }
   ],
   "source": [
    " len(datasets)"
   ]
  },
  {
   "cell_type": "markdown",
   "metadata": {},
   "source": []
  },
  {
   "cell_type": "code",
   "execution_count": 195,
   "metadata": {},
   "outputs": [],
   "source": [
    "import warnings\n",
    "\n",
    "# Filter out the specific warning\n",
    "warnings.filterwarnings('ignore', message=\"A date index has been provided, but it has no associated frequency information\")"
   ]
  },
  {
   "cell_type": "code",
   "execution_count": 196,
   "metadata": {},
   "outputs": [
    {
     "name": "stderr",
     "output_type": "stream",
     "text": [
      "/Library/Frameworks/Python.framework/Versions/3.11/lib/python3.11/site-packages/statsmodels/tsa/base/tsa_model.py:834: ValueWarning: No supported index is available. Prediction results will be given with an integer index beginning at `start`.\n",
      "  return get_prediction_index(\n",
      "/Library/Frameworks/Python.framework/Versions/3.11/lib/python3.11/site-packages/statsmodels/tsa/base/tsa_model.py:834: ValueWarning: No supported index is available. Prediction results will be given with an integer index beginning at `start`.\n",
      "  return get_prediction_index(\n"
     ]
    },
    {
     "name": "stdout",
     "output_type": "stream",
     "text": [
      "ARIMA static forecast Accuracy of: wPreis in [\"['25', '24']\"] for ['A2 -  geschreddert']\n",
      "mae    :  13.7104\n",
      "me     :  13.0701\n",
      "rmse   :  15.6714\n",
      "direction_accuracy :  0.625\n",
      "Walk-forward Validation Forecast Accuracy of wPreis in [\"['25', '24']\"] for ['A2 -  geschreddert']\n",
      "mae        :  8.2082\n",
      "me         :  4.527\n",
      "rmse       :  9.0545\n",
      "direction_accuracy :  0.4\n",
      "ARIMA static forecast Accuracy of: wPreis in [\"['25', '24']\"] for ['A1 & A2 -  geschreddert']\n",
      "mae    :  10.8988\n",
      "me     :  9.4068\n",
      "rmse   :  12.4971\n",
      "direction_accuracy :  0.25\n",
      "Walk-forward Validation Forecast Accuracy of wPreis in [\"['25', '24']\"] for ['A1 & A2 -  geschreddert']\n",
      "mae        :  9.5033\n",
      "me         :  3.9982\n",
      "rmse       :  9.9878\n",
      "direction_accuracy :  0.4\n",
      "ARIMA static forecast Accuracy of: wPreis in [\"['25', '24']\"] for ['A2 & A3 -  geschreddert']\n",
      "mae    :  16.5509\n",
      "me     :  15.8251\n",
      "rmse   :  18.1547\n",
      "direction_accuracy :  0.625\n",
      "Walk-forward Validation Forecast Accuracy of wPreis in [\"['25', '24']\"] for ['A2 & A3 -  geschreddert']\n",
      "mae        :  6.9357\n",
      "me         :  4.3764\n",
      "rmse       :  8.7443\n",
      "direction_accuracy :  0.4\n",
      "ARIMA static forecast Accuracy of: wPreis in [\"['80', '81', '82', '83', '84', '85', '93', '94']\"] for ['A3 -  geschreddert']\n",
      "mae    :  1.4501\n",
      "me     :  -0.5543\n",
      "rmse   :  1.7011\n",
      "direction_accuracy :  0.5\n"
     ]
    },
    {
     "name": "stderr",
     "output_type": "stream",
     "text": [
      "/Library/Frameworks/Python.framework/Versions/3.11/lib/python3.11/site-packages/statsmodels/tsa/base/tsa_model.py:834: ValueWarning: No supported index is available. Prediction results will be given with an integer index beginning at `start`.\n",
      "  return get_prediction_index(\n",
      "/Library/Frameworks/Python.framework/Versions/3.11/lib/python3.11/site-packages/statsmodels/tsa/base/tsa_model.py:834: ValueWarning: No supported index is available. Prediction results will be given with an integer index beginning at `start`.\n",
      "  return get_prediction_index(\n",
      "/Library/Frameworks/Python.framework/Versions/3.11/lib/python3.11/site-packages/statsmodels/tsa/base/tsa_model.py:834: ValueWarning: No supported index is available. Prediction results will be given with an integer index beginning at `start`.\n",
      "  return get_prediction_index(\n",
      "/Library/Frameworks/Python.framework/Versions/3.11/lib/python3.11/site-packages/statsmodels/tsa/base/tsa_model.py:834: ValueWarning: No supported index is available. Prediction results will be given with an integer index beginning at `start`.\n",
      "  return get_prediction_index(\n",
      "/Library/Frameworks/Python.framework/Versions/3.11/lib/python3.11/site-packages/statsmodels/tsa/base/tsa_model.py:834: ValueWarning: No supported index is available. Prediction results will be given with an integer index beginning at `start`.\n",
      "  return get_prediction_index(\n",
      "/Library/Frameworks/Python.framework/Versions/3.11/lib/python3.11/site-packages/statsmodels/tsa/base/tsa_model.py:834: ValueWarning: No supported index is available. Prediction results will be given with an integer index beginning at `start`.\n",
      "  return get_prediction_index(\n"
     ]
    },
    {
     "name": "stdout",
     "output_type": "stream",
     "text": [
      "Walk-forward Validation Forecast Accuracy of wPreis in [\"['80', '81', '82', '83', '84', '85', '93', '94']\"] for ['A3 -  geschreddert']\n",
      "mae        :  1.7018\n",
      "me         :  0.19\n",
      "rmse       :  2.1004\n",
      "direction_accuracy :  0.0\n",
      "ARIMA static forecast Accuracy of: wPreis in [\"['80', '81', '82', '83', '84', '85', '93', '94']\"] for ['A1 & A2 -  geschreddert']\n",
      "mae    :  3.1777\n",
      "me     :  2.1573\n",
      "rmse   :  4.7864\n",
      "direction_accuracy :  0.1429\n"
     ]
    },
    {
     "name": "stderr",
     "output_type": "stream",
     "text": [
      "/Library/Frameworks/Python.framework/Versions/3.11/lib/python3.11/site-packages/statsmodels/tsa/base/tsa_model.py:834: ValueWarning: No supported index is available. Prediction results will be given with an integer index beginning at `start`.\n",
      "  return get_prediction_index(\n",
      "/Library/Frameworks/Python.framework/Versions/3.11/lib/python3.11/site-packages/statsmodels/tsa/base/tsa_model.py:834: ValueWarning: No supported index is available. Prediction results will be given with an integer index beginning at `start`.\n",
      "  return get_prediction_index(\n"
     ]
    },
    {
     "name": "stdout",
     "output_type": "stream",
     "text": [
      "Walk-forward Validation Forecast Accuracy of wPreis in [\"['80', '81', '82', '83', '84', '85', '93', '94']\"] for ['A1 & A2 -  geschreddert']\n",
      "mae        :  3.7528\n",
      "me         :  0.9851\n",
      "rmse       :  6.1775\n",
      "direction_accuracy :  0.4\n",
      "ARIMA static forecast Accuracy of: wPreis in [\"['80', '81', '82', '83', '84', '85', '93', '94']\"] for ['A2 & A3 -  geschreddert']\n",
      "mae    :  1.281\n",
      "me     :  0.3701\n",
      "rmse   :  1.9896\n",
      "direction_accuracy :  0.25\n",
      "Walk-forward Validation Forecast Accuracy of wPreis in [\"['80', '81', '82', '83', '84', '85', '93', '94']\"] for ['A2 & A3 -  geschreddert']\n",
      "mae        :  2.0183\n",
      "me         :  0.7951\n",
      "rmse       :  2.884\n",
      "direction_accuracy :  0.2\n",
      "ARIMA static forecast Accuracy of: wPreis in [\"['70', '71', '73', '74', '75', '76']\"] for ['A2 & A3 -  geschreddert']\n",
      "mae    :  3.8216\n",
      "me     :  -0.6058\n",
      "rmse   :  4.3298\n",
      "direction_accuracy :  0.4286\n",
      "Walk-forward Validation Forecast Accuracy of wPreis in [\"['70', '71', '73', '74', '75', '76']\"] for ['A2 & A3 -  geschreddert']\n",
      "mae        :  3.3593\n",
      "me         :  0.4958\n",
      "rmse       :  4.0911\n",
      "direction_accuracy :  0.2\n",
      "ARIMA static forecast Accuracy of: wPreis in [\"['50', '51', '52', '53']\"] for ['A2 & A3 -  geschreddert']\n",
      "mae    :  2.2446\n",
      "me     :  -1.1335\n",
      "rmse   :  2.5152\n",
      "direction_accuracy :  0.375\n"
     ]
    },
    {
     "name": "stderr",
     "output_type": "stream",
     "text": [
      "/Library/Frameworks/Python.framework/Versions/3.11/lib/python3.11/site-packages/statsmodels/tsa/base/tsa_model.py:834: ValueWarning: No supported index is available. Prediction results will be given with an integer index beginning at `start`.\n",
      "  return get_prediction_index(\n",
      "/Library/Frameworks/Python.framework/Versions/3.11/lib/python3.11/site-packages/statsmodels/tsa/base/tsa_model.py:834: ValueWarning: No supported index is available. Prediction results will be given with an integer index beginning at `start`.\n",
      "  return get_prediction_index(\n",
      "/Library/Frameworks/Python.framework/Versions/3.11/lib/python3.11/site-packages/statsmodels/tsa/base/tsa_model.py:834: ValueWarning: No supported index is available. Prediction results will be given with an integer index beginning at `start`.\n",
      "  return get_prediction_index(\n",
      "/Library/Frameworks/Python.framework/Versions/3.11/lib/python3.11/site-packages/statsmodels/tsa/base/tsa_model.py:834: ValueWarning: No supported index is available. Prediction results will be given with an integer index beginning at `start`.\n",
      "  return get_prediction_index(\n",
      "/Library/Frameworks/Python.framework/Versions/3.11/lib/python3.11/site-packages/statsmodels/tsa/base/tsa_model.py:834: ValueWarning: No supported index is available. Prediction results will be given with an integer index beginning at `start`.\n",
      "  return get_prediction_index(\n",
      "/Library/Frameworks/Python.framework/Versions/3.11/lib/python3.11/site-packages/statsmodels/tsa/base/tsa_model.py:834: ValueWarning: No supported index is available. Prediction results will be given with an integer index beginning at `start`.\n",
      "  return get_prediction_index(\n"
     ]
    },
    {
     "name": "stdout",
     "output_type": "stream",
     "text": [
      "Walk-forward Validation Forecast Accuracy of wPreis in [\"['50', '51', '52', '53']\"] for ['A2 & A3 -  geschreddert']\n",
      "mae        :  2.7913\n",
      "me         :  0.4507\n",
      "rmse       :  3.3958\n",
      "direction_accuracy :  0.0\n",
      "ARIMA static forecast Accuracy of: wPreis in [\"['50', '51', '52', '53']\"] for ['A3 -  geschreddert']\n",
      "mae    :  3.7759\n",
      "me     :  -3.6668\n",
      "rmse   :  4.4753\n",
      "direction_accuracy :  0.25\n",
      "Walk-forward Validation Forecast Accuracy of wPreis in [\"['50', '51', '52', '53']\"] for ['A3 -  geschreddert']\n",
      "mae        :  2.9757\n",
      "me         :  -0.339\n",
      "rmse       :  3.8361\n",
      "direction_accuracy :  0.0\n",
      "ARIMA static forecast Accuracy of: wPreis in [\"['40', '41', '42', '44', '45', '46', '47']\"] for ['A2 & A3 -  ungeschreddert']\n",
      "mae    :  2.4311\n",
      "me     :  1.6692\n",
      "rmse   :  2.7474\n",
      "direction_accuracy :  0.125\n",
      "Walk-forward Validation Forecast Accuracy of wPreis in [\"['40', '41', '42', '44', '45', '46', '47']\"] for ['A2 & A3 -  ungeschreddert']\n",
      "mae        :  2.2727\n",
      "me         :  0.3305\n",
      "rmse       :  2.6772\n",
      "direction_accuracy :  0.0\n",
      "ARIMA static forecast Accuracy of: wPreis in [\"['40', '41', '42', '44', '45', '46', '47']\"] for ['A1 & A2 -  ungeschreddert']\n",
      "mae    :  6.3592\n",
      "me     :  2.4601\n",
      "rmse   :  7.0522\n",
      "direction_accuracy :  0.7143\n"
     ]
    },
    {
     "name": "stderr",
     "output_type": "stream",
     "text": [
      "/Library/Frameworks/Python.framework/Versions/3.11/lib/python3.11/site-packages/statsmodels/tsa/base/tsa_model.py:834: ValueWarning: No supported index is available. Prediction results will be given with an integer index beginning at `start`.\n",
      "  return get_prediction_index(\n",
      "/Library/Frameworks/Python.framework/Versions/3.11/lib/python3.11/site-packages/statsmodels/tsa/base/tsa_model.py:834: ValueWarning: No supported index is available. Prediction results will be given with an integer index beginning at `start`.\n",
      "  return get_prediction_index(\n",
      "/Library/Frameworks/Python.framework/Versions/3.11/lib/python3.11/site-packages/statsmodels/tsa/base/tsa_model.py:834: ValueWarning: No supported index is available. Prediction results will be given with an integer index beginning at `start`.\n",
      "  return get_prediction_index(\n",
      "/Library/Frameworks/Python.framework/Versions/3.11/lib/python3.11/site-packages/statsmodels/tsa/base/tsa_model.py:834: ValueWarning: No supported index is available. Prediction results will be given with an integer index beginning at `start`.\n",
      "  return get_prediction_index(\n",
      "/Library/Frameworks/Python.framework/Versions/3.11/lib/python3.11/site-packages/statsmodels/tsa/base/tsa_model.py:834: ValueWarning: No supported index is available. Prediction results will be given with an integer index beginning at `start`.\n",
      "  return get_prediction_index(\n",
      "/Library/Frameworks/Python.framework/Versions/3.11/lib/python3.11/site-packages/statsmodels/tsa/base/tsa_model.py:834: ValueWarning: No supported index is available. Prediction results will be given with an integer index beginning at `start`.\n",
      "  return get_prediction_index(\n"
     ]
    },
    {
     "name": "stdout",
     "output_type": "stream",
     "text": [
      "Walk-forward Validation Forecast Accuracy of wPreis in [\"['40', '41', '42', '44', '45', '46', '47']\"] for ['A1 & A2 -  ungeschreddert']\n",
      "mae        :  2.9741\n",
      "me         :  1.2969\n",
      "rmse       :  4.3125\n",
      "direction_accuracy :  0.2\n",
      "ARIMA static forecast Accuracy of: wPreis in [\"['40', '41', '42', '44', '45', '46', '47']\"] for ['A2 & A3 -  geschreddert']\n",
      "mae    :  3.5924\n",
      "me     :  -3.4715\n",
      "rmse   :  5.2017\n",
      "direction_accuracy :  0.5\n",
      "Walk-forward Validation Forecast Accuracy of wPreis in [\"['40', '41', '42', '44', '45', '46', '47']\"] for ['A2 & A3 -  geschreddert']\n",
      "mae        :  2.7728\n",
      "me         :  -0.4472\n",
      "rmse       :  2.9936\n",
      "direction_accuracy :  0.4\n",
      "ARIMA static forecast Accuracy of: wPreis in [\"['40', '41', '42', '44', '45', '46', '47']\"] for ['A3 -  geschreddert']\n",
      "mae    :  3.0635\n",
      "me     :  0.7385\n",
      "rmse   :  3.7663\n",
      "direction_accuracy :  0.625\n",
      "Walk-forward Validation Forecast Accuracy of wPreis in [\"['40', '41', '42', '44', '45', '46', '47']\"] for ['A3 -  geschreddert']\n",
      "mae        :  2.4544\n",
      "me         :  0.6467\n",
      "rmse       :  3.1806\n",
      "direction_accuracy :  0.4\n",
      "ARIMA static forecast Accuracy of: wPreis in [\"['40', '41', '42', '44', '45', '46', '47']\"] for ['A1 & A2 -  geschreddert']\n",
      "mae    :  8.0468\n",
      "me     :  -7.6253\n",
      "rmse   :  9.0563\n",
      "direction_accuracy :  0.375\n"
     ]
    },
    {
     "name": "stderr",
     "output_type": "stream",
     "text": [
      "/Library/Frameworks/Python.framework/Versions/3.11/lib/python3.11/site-packages/statsmodels/tsa/base/tsa_model.py:834: ValueWarning: No supported index is available. Prediction results will be given with an integer index beginning at `start`.\n",
      "  return get_prediction_index(\n",
      "/Library/Frameworks/Python.framework/Versions/3.11/lib/python3.11/site-packages/statsmodels/tsa/base/tsa_model.py:834: ValueWarning: No supported index is available. Prediction results will be given with an integer index beginning at `start`.\n",
      "  return get_prediction_index(\n",
      "/Library/Frameworks/Python.framework/Versions/3.11/lib/python3.11/site-packages/statsmodels/tsa/base/tsa_model.py:834: ValueWarning: No supported index is available. Prediction results will be given with an integer index beginning at `start`.\n",
      "  return get_prediction_index(\n",
      "/Library/Frameworks/Python.framework/Versions/3.11/lib/python3.11/site-packages/statsmodels/tsa/base/tsa_model.py:834: ValueWarning: No supported index is available. Prediction results will be given with an integer index beginning at `start`.\n",
      "  return get_prediction_index(\n",
      "/Library/Frameworks/Python.framework/Versions/3.11/lib/python3.11/site-packages/statsmodels/tsa/base/tsa_model.py:834: ValueWarning: No supported index is available. Prediction results will be given with an integer index beginning at `start`.\n",
      "  return get_prediction_index(\n",
      "/Library/Frameworks/Python.framework/Versions/3.11/lib/python3.11/site-packages/statsmodels/tsa/base/tsa_model.py:834: ValueWarning: No supported index is available. Prediction results will be given with an integer index beginning at `start`.\n",
      "  return get_prediction_index(\n"
     ]
    },
    {
     "name": "stdout",
     "output_type": "stream",
     "text": [
      "Walk-forward Validation Forecast Accuracy of wPreis in [\"['40', '41', '42', '44', '45', '46', '47']\"] for ['A1 & A2 -  geschreddert']\n",
      "mae        :  5.9074\n",
      "me         :  -2.6233\n",
      "rmse       :  7.4672\n",
      "direction_accuracy :  0.4\n",
      "ARIMA static forecast Accuracy of: wPreis in [\"['40', '41', '42', '44', '45', '46', '47']\"] for ['A2 -  geschreddert']\n",
      "mae    :  8.0768\n",
      "me     :  -6.6254\n",
      "rmse   :  9.8233\n",
      "direction_accuracy :  0.8571\n",
      "Walk-forward Validation Forecast Accuracy of wPreis in [\"['40', '41', '42', '44', '45', '46', '47']\"] for ['A2 -  geschreddert']\n",
      "mae        :  4.4587\n",
      "me         :  -3.2302\n",
      "rmse       :  5.9352\n",
      "direction_accuracy :  0.6\n",
      "ARIMA static forecast Accuracy of: wPreis in [\"['26', '27', '28']\"] for ['A2 -  geschreddert']\n",
      "mae    :  3.9088\n",
      "me     :  0.2911\n",
      "rmse   :  4.3984\n",
      "direction_accuracy :  0.8333\n",
      "Walk-forward Validation Forecast Accuracy of wPreis in [\"['26', '27', '28']\"] for ['A2 -  geschreddert']\n",
      "mae        :  4.8731\n",
      "me         :  -0.8035\n",
      "rmse       :  5.829\n",
      "direction_accuracy :  0.4\n",
      "ARIMA static forecast Accuracy of: wPreis in [\"['26', '27', '28']\"] for ['A3 -  geschreddert']\n",
      "mae    :  2.1434\n",
      "me     :  0.4827\n",
      "rmse   :  2.7013\n",
      "direction_accuracy :  0.5\n"
     ]
    },
    {
     "name": "stderr",
     "output_type": "stream",
     "text": [
      "/Library/Frameworks/Python.framework/Versions/3.11/lib/python3.11/site-packages/statsmodels/tsa/base/tsa_model.py:834: ValueWarning: No supported index is available. Prediction results will be given with an integer index beginning at `start`.\n",
      "  return get_prediction_index(\n",
      "/Library/Frameworks/Python.framework/Versions/3.11/lib/python3.11/site-packages/statsmodels/tsa/base/tsa_model.py:834: ValueWarning: No supported index is available. Prediction results will be given with an integer index beginning at `start`.\n",
      "  return get_prediction_index(\n",
      "/Library/Frameworks/Python.framework/Versions/3.11/lib/python3.11/site-packages/statsmodels/tsa/base/tsa_model.py:834: ValueWarning: No supported index is available. Prediction results will be given with an integer index beginning at `start`.\n",
      "  return get_prediction_index(\n",
      "/Library/Frameworks/Python.framework/Versions/3.11/lib/python3.11/site-packages/statsmodels/tsa/base/tsa_model.py:834: ValueWarning: No supported index is available. Prediction results will be given with an integer index beginning at `start`.\n",
      "  return get_prediction_index(\n",
      "/Library/Frameworks/Python.framework/Versions/3.11/lib/python3.11/site-packages/statsmodels/tsa/base/tsa_model.py:834: ValueWarning: No supported index is available. Prediction results will be given with an integer index beginning at `start`.\n",
      "  return get_prediction_index(\n",
      "/Library/Frameworks/Python.framework/Versions/3.11/lib/python3.11/site-packages/statsmodels/tsa/base/tsa_model.py:834: ValueWarning: No supported index is available. Prediction results will be given with an integer index beginning at `start`.\n",
      "  return get_prediction_index(\n"
     ]
    },
    {
     "name": "stdout",
     "output_type": "stream",
     "text": [
      "Walk-forward Validation Forecast Accuracy of wPreis in [\"['26', '27', '28']\"] for ['A3 -  geschreddert']\n",
      "mae        :  1.4378\n",
      "me         :  0.0792\n",
      "rmse       :  1.7662\n",
      "direction_accuracy :  0.2\n",
      "ARIMA static forecast Accuracy of: wPreis in [\"['26', '27', '28']\"] for ['A1 & A2 -  geschreddert']\n",
      "mae    :  4.4203\n",
      "me     :  -3.0781\n",
      "rmse   :  5.1337\n",
      "direction_accuracy :  0.5714\n",
      "Walk-forward Validation Forecast Accuracy of wPreis in [\"['26', '27', '28']\"] for ['A1 & A2 -  geschreddert']\n",
      "mae        :  4.2141\n",
      "me         :  -0.7617\n",
      "rmse       :  4.9892\n",
      "direction_accuracy :  0.2\n",
      "ARIMA static forecast Accuracy of: wPreis in [\"['26', '27', '28']\"] for ['A2 & A3 -  geschreddert']\n",
      "mae    :  3.4305\n",
      "me     :  -3.3437\n",
      "rmse   :  4.267\n",
      "direction_accuracy :  0.375\n",
      "Walk-forward Validation Forecast Accuracy of wPreis in [\"['26', '27', '28']\"] for ['A2 & A3 -  geschreddert']\n",
      "mae        :  1.5611\n",
      "me         :  -0.1071\n",
      "rmse       :  1.8321\n",
      "direction_accuracy :  0.6\n",
      "ARIMA static forecast Accuracy of: wPreis in [\"['48', '49']\"] for ['A2 & A3 -  ungeschreddert']\n",
      "mae    :  3.0816\n",
      "me     :  -3.0816\n",
      "rmse   :  3.6673\n",
      "direction_accuracy :  0.2857\n"
     ]
    },
    {
     "name": "stderr",
     "output_type": "stream",
     "text": [
      "/Library/Frameworks/Python.framework/Versions/3.11/lib/python3.11/site-packages/statsmodels/tsa/base/tsa_model.py:834: ValueWarning: No supported index is available. Prediction results will be given with an integer index beginning at `start`.\n",
      "  return get_prediction_index(\n",
      "/Library/Frameworks/Python.framework/Versions/3.11/lib/python3.11/site-packages/statsmodels/tsa/base/tsa_model.py:834: ValueWarning: No supported index is available. Prediction results will be given with an integer index beginning at `start`.\n",
      "  return get_prediction_index(\n",
      "/Library/Frameworks/Python.framework/Versions/3.11/lib/python3.11/site-packages/statsmodels/tsa/base/tsa_model.py:834: ValueWarning: No supported index is available. Prediction results will be given with an integer index beginning at `start`.\n",
      "  return get_prediction_index(\n",
      "/Library/Frameworks/Python.framework/Versions/3.11/lib/python3.11/site-packages/statsmodels/tsa/base/tsa_model.py:834: ValueWarning: No supported index is available. Prediction results will be given with an integer index beginning at `start`.\n",
      "  return get_prediction_index(\n",
      "/Library/Frameworks/Python.framework/Versions/3.11/lib/python3.11/site-packages/statsmodels/tsa/base/tsa_model.py:834: ValueWarning: No supported index is available. Prediction results will be given with an integer index beginning at `start`.\n",
      "  return get_prediction_index(\n",
      "/Library/Frameworks/Python.framework/Versions/3.11/lib/python3.11/site-packages/statsmodels/tsa/base/tsa_model.py:834: ValueWarning: No supported index is available. Prediction results will be given with an integer index beginning at `start`.\n",
      "  return get_prediction_index(\n"
     ]
    },
    {
     "name": "stdout",
     "output_type": "stream",
     "text": [
      "Walk-forward Validation Forecast Accuracy of wPreis in [\"['48', '49']\"] for ['A2 & A3 -  ungeschreddert']\n",
      "mae        :  1.7628\n",
      "me         :  -0.9132\n",
      "rmse       :  2.3006\n",
      "direction_accuracy :  0.6\n",
      "ARIMA static forecast Accuracy of: wPreis in [\"['48', '49']\"] for ['A3 -  ungeschreddert']\n",
      "mae    :  4.0009\n",
      "me     :  -4.0009\n",
      "rmse   :  4.3198\n",
      "direction_accuracy :  0.1429\n",
      "Walk-forward Validation Forecast Accuracy of wPreis in [\"['48', '49']\"] for ['A3 -  ungeschreddert']\n",
      "mae        :  1.8118\n",
      "me         :  -0.9701\n",
      "rmse       :  2.083\n",
      "direction_accuracy :  0.6\n",
      "ARIMA static forecast Accuracy of: wPreis in [\"['48', '49']\"] for ['A2 & A3 -  geschreddert']\n",
      "mae    :  5.7575\n",
      "me     :  -1.2686\n",
      "rmse   :  7.4498\n",
      "direction_accuracy :  0.5\n",
      "Walk-forward Validation Forecast Accuracy of wPreis in [\"['48', '49']\"] for ['A2 & A3 -  geschreddert']\n",
      "mae        :  6.3633\n",
      "me         :  -0.2886\n",
      "rmse       :  7.6879\n",
      "direction_accuracy :  0.4\n",
      "ARIMA static forecast Accuracy of: wPreis in [\"['48', '49']\"] for ['A1 & A2 -  geschreddert']\n",
      "mae    :  5.9472\n",
      "me     :  -3.0559\n",
      "rmse   :  7.1078\n",
      "direction_accuracy :  0.8333\n"
     ]
    },
    {
     "name": "stderr",
     "output_type": "stream",
     "text": [
      "/Library/Frameworks/Python.framework/Versions/3.11/lib/python3.11/site-packages/statsmodels/tsa/base/tsa_model.py:834: ValueWarning: No supported index is available. Prediction results will be given with an integer index beginning at `start`.\n",
      "  return get_prediction_index(\n",
      "/Library/Frameworks/Python.framework/Versions/3.11/lib/python3.11/site-packages/statsmodels/tsa/base/tsa_model.py:834: ValueWarning: No supported index is available. Prediction results will be given with an integer index beginning at `start`.\n",
      "  return get_prediction_index(\n",
      "/Library/Frameworks/Python.framework/Versions/3.11/lib/python3.11/site-packages/statsmodels/tsa/base/tsa_model.py:834: ValueWarning: No supported index is available. Prediction results will be given with an integer index beginning at `start`.\n",
      "  return get_prediction_index(\n",
      "/Library/Frameworks/Python.framework/Versions/3.11/lib/python3.11/site-packages/statsmodels/tsa/base/tsa_model.py:834: ValueWarning: No supported index is available. Prediction results will be given with an integer index beginning at `start`.\n",
      "  return get_prediction_index(\n",
      "/Library/Frameworks/Python.framework/Versions/3.11/lib/python3.11/site-packages/statsmodels/tsa/base/tsa_model.py:834: ValueWarning: No supported index is available. Prediction results will be given with an integer index beginning at `start`.\n",
      "  return get_prediction_index(\n",
      "/Library/Frameworks/Python.framework/Versions/3.11/lib/python3.11/site-packages/statsmodels/tsa/base/tsa_model.py:834: ValueWarning: No supported index is available. Prediction results will be given with an integer index beginning at `start`.\n",
      "  return get_prediction_index(\n"
     ]
    },
    {
     "name": "stdout",
     "output_type": "stream",
     "text": [
      "Walk-forward Validation Forecast Accuracy of wPreis in [\"['48', '49']\"] for ['A1 & A2 -  geschreddert']\n",
      "mae        :  5.4891\n",
      "me         :  0.4618\n",
      "rmse       :  7.3057\n",
      "direction_accuracy :  0.4\n",
      "ARIMA static forecast Accuracy of: wPreis in [\"['48', '49']\"] for ['A3 -  geschreddert']\n",
      "mae    :  8.3825\n",
      "me     :  -6.1015\n",
      "rmse   :  10.9504\n",
      "direction_accuracy :  0.375\n",
      "Walk-forward Validation Forecast Accuracy of wPreis in [\"['48', '49']\"] for ['A3 -  geschreddert']\n",
      "mae        :  9.0986\n",
      "me         :  -0.736\n",
      "rmse       :  10.2977\n",
      "direction_accuracy :  0.2\n",
      "ARIMA static forecast Accuracy of: wPreis in [\"['20', '21', '22', '23']\"] for ['A2 -  geschreddert']\n",
      "mae    :  2.4972\n",
      "me     :  -0.7726\n",
      "rmse   :  2.9117\n",
      "direction_accuracy :  0.625\n",
      "Walk-forward Validation Forecast Accuracy of wPreis in [\"['20', '21', '22', '23']\"] for ['A2 -  geschreddert']\n",
      "mae        :  1.9955\n",
      "me         :  0.3026\n",
      "rmse       :  2.8382\n",
      "direction_accuracy :  0.2\n",
      "ARIMA static forecast Accuracy of: wPreis in [\"['20', '21', '22', '23']\"] for ['A1 & A2 -  geschreddert']\n",
      "mae    :  3.0855\n",
      "me     :  -2.0924\n",
      "rmse   :  3.4639\n",
      "direction_accuracy :  0.375\n"
     ]
    },
    {
     "name": "stderr",
     "output_type": "stream",
     "text": [
      "/Library/Frameworks/Python.framework/Versions/3.11/lib/python3.11/site-packages/statsmodels/tsa/base/tsa_model.py:834: ValueWarning: No supported index is available. Prediction results will be given with an integer index beginning at `start`.\n",
      "  return get_prediction_index(\n",
      "/Library/Frameworks/Python.framework/Versions/3.11/lib/python3.11/site-packages/statsmodels/tsa/base/tsa_model.py:834: ValueWarning: No supported index is available. Prediction results will be given with an integer index beginning at `start`.\n",
      "  return get_prediction_index(\n",
      "/Library/Frameworks/Python.framework/Versions/3.11/lib/python3.11/site-packages/statsmodels/tsa/base/tsa_model.py:471: ValueWarning: No frequency information was provided, so inferred frequency W-MON will be used.\n",
      "  self._init_dates(dates, freq)\n",
      "/Library/Frameworks/Python.framework/Versions/3.11/lib/python3.11/site-packages/statsmodels/tsa/base/tsa_model.py:471: ValueWarning: No frequency information was provided, so inferred frequency W-MON will be used.\n",
      "  self._init_dates(dates, freq)\n",
      "/Library/Frameworks/Python.framework/Versions/3.11/lib/python3.11/site-packages/statsmodels/tsa/base/tsa_model.py:471: ValueWarning: No frequency information was provided, so inferred frequency W-MON will be used.\n",
      "  self._init_dates(dates, freq)\n",
      "/Library/Frameworks/Python.framework/Versions/3.11/lib/python3.11/site-packages/statsmodels/tsa/base/tsa_model.py:471: ValueWarning: No frequency information was provided, so inferred frequency W-MON will be used.\n",
      "  self._init_dates(dates, freq)\n",
      "/Library/Frameworks/Python.framework/Versions/3.11/lib/python3.11/site-packages/statsmodels/tsa/base/tsa_model.py:471: ValueWarning: No frequency information was provided, so inferred frequency W-MON will be used.\n",
      "  self._init_dates(dates, freq)\n",
      "/Library/Frameworks/Python.framework/Versions/3.11/lib/python3.11/site-packages/statsmodels/tsa/base/tsa_model.py:471: ValueWarning: No frequency information was provided, so inferred frequency W-MON will be used.\n",
      "  self._init_dates(dates, freq)\n"
     ]
    },
    {
     "name": "stdout",
     "output_type": "stream",
     "text": [
      "Walk-forward Validation Forecast Accuracy of wPreis in [\"['20', '21', '22', '23']\"] for ['A1 & A2 -  geschreddert']\n",
      "mae        :  1.8925\n",
      "me         :  -0.3166\n",
      "rmse       :  2.3886\n",
      "direction_accuracy :  0.4\n",
      "ARIMA static forecast Accuracy of: wPreis in [\"['20', '21', '22', '23']\"] for ['A2 & A3 -  geschreddert']\n",
      "mae    :  2.5898\n",
      "me     :  -0.5169\n",
      "rmse   :  2.914\n",
      "direction_accuracy :  0.375\n",
      "Walk-forward Validation Forecast Accuracy of wPreis in [\"['20', '21', '22', '23']\"] for ['A2 & A3 -  geschreddert']\n",
      "mae        :  1.9487\n",
      "me         :  0.3571\n",
      "rmse       :  2.8054\n",
      "direction_accuracy :  0.2\n",
      "ARIMA static forecast Accuracy of: wPreis in [\"['10', '11', '12', '13', '14', '15', '16']\"] for ['A2 & A3 -  geschreddert']\n",
      "mae    :  11.0438\n",
      "me     :  8.5605\n",
      "rmse   :  13.9634\n",
      "direction_accuracy :  0.4286\n",
      "Walk-forward Validation Forecast Accuracy of wPreis in [\"['10', '11', '12', '13', '14', '15', '16']\"] for ['A2 & A3 -  geschreddert']\n",
      "mae        :  5.228\n",
      "me         :  2.5125\n",
      "rmse       :  6.6501\n",
      "direction_accuracy :  0.4\n",
      "ARIMA static forecast Accuracy of: wPreis in [\"['10', '11', '12', '13', '14', '15', '16']\"] for ['A1 & A2 -  geschreddert']\n",
      "mae    :  8.2803\n",
      "me     :  4.5323\n",
      "rmse   :  10.4443\n",
      "direction_accuracy :  0.5\n"
     ]
    },
    {
     "name": "stderr",
     "output_type": "stream",
     "text": [
      "/Library/Frameworks/Python.framework/Versions/3.11/lib/python3.11/site-packages/statsmodels/tsa/base/tsa_model.py:834: ValueWarning: No supported index is available. Prediction results will be given with an integer index beginning at `start`.\n",
      "  return get_prediction_index(\n",
      "/Library/Frameworks/Python.framework/Versions/3.11/lib/python3.11/site-packages/statsmodels/tsa/base/tsa_model.py:834: ValueWarning: No supported index is available. Prediction results will be given with an integer index beginning at `start`.\n",
      "  return get_prediction_index(\n",
      "/Library/Frameworks/Python.framework/Versions/3.11/lib/python3.11/site-packages/statsmodels/tsa/base/tsa_model.py:834: ValueWarning: No supported index is available. Prediction results will be given with an integer index beginning at `start`.\n",
      "  return get_prediction_index(\n",
      "/Library/Frameworks/Python.framework/Versions/3.11/lib/python3.11/site-packages/statsmodels/tsa/base/tsa_model.py:834: ValueWarning: No supported index is available. Prediction results will be given with an integer index beginning at `start`.\n",
      "  return get_prediction_index(\n",
      "/Library/Frameworks/Python.framework/Versions/3.11/lib/python3.11/site-packages/statsmodels/tsa/base/tsa_model.py:834: ValueWarning: No supported index is available. Prediction results will be given with an integer index beginning at `start`.\n",
      "  return get_prediction_index(\n",
      "/Library/Frameworks/Python.framework/Versions/3.11/lib/python3.11/site-packages/statsmodels/tsa/base/tsa_model.py:834: ValueWarning: No supported index is available. Prediction results will be given with an integer index beginning at `start`.\n",
      "  return get_prediction_index(\n"
     ]
    },
    {
     "name": "stdout",
     "output_type": "stream",
     "text": [
      "Walk-forward Validation Forecast Accuracy of wPreis in [\"['10', '11', '12', '13', '14', '15', '16']\"] for ['A1 & A2 -  geschreddert']\n",
      "mae        :  4.2591\n",
      "me         :  0.791\n",
      "rmse       :  4.5202\n",
      "direction_accuracy :  0.8\n",
      "ARIMA static forecast Accuracy of: wPreis in [\"['10', '11', '12', '13', '14', '15', '16']\"] for ['A2 -  geschreddert']\n",
      "mae    :  9.5584\n",
      "me     :  8.1838\n",
      "rmse   :  12.1457\n",
      "direction_accuracy :  0.5714\n",
      "Walk-forward Validation Forecast Accuracy of wPreis in [\"['10', '11', '12', '13', '14', '15', '16']\"] for ['A2 -  geschreddert']\n",
      "mae        :  4.8931\n",
      "me         :  3.2739\n",
      "rmse       :  5.5826\n",
      "direction_accuracy :  0.8\n"
     ]
    },
    {
     "name": "stderr",
     "output_type": "stream",
     "text": [
      "/Library/Frameworks/Python.framework/Versions/3.11/lib/python3.11/site-packages/statsmodels/tsa/base/tsa_model.py:834: ValueWarning: No supported index is available. Prediction results will be given with an integer index beginning at `start`.\n",
      "  return get_prediction_index(\n",
      "/Library/Frameworks/Python.framework/Versions/3.11/lib/python3.11/site-packages/statsmodels/tsa/base/tsa_model.py:834: ValueWarning: No supported index is available. Prediction results will be given with an integer index beginning at `start`.\n",
      "  return get_prediction_index(\n",
      "/Library/Frameworks/Python.framework/Versions/3.11/lib/python3.11/site-packages/statsmodels/tsa/base/tsa_model.py:471: ValueWarning: No frequency information was provided, so inferred frequency W-MON will be used.\n",
      "  self._init_dates(dates, freq)\n",
      "/Library/Frameworks/Python.framework/Versions/3.11/lib/python3.11/site-packages/statsmodels/tsa/base/tsa_model.py:471: ValueWarning: No frequency information was provided, so inferred frequency W-MON will be used.\n",
      "  self._init_dates(dates, freq)\n",
      "/Library/Frameworks/Python.framework/Versions/3.11/lib/python3.11/site-packages/statsmodels/tsa/base/tsa_model.py:471: ValueWarning: No frequency information was provided, so inferred frequency W-MON will be used.\n",
      "  self._init_dates(dates, freq)\n"
     ]
    },
    {
     "name": "stdout",
     "output_type": "stream",
     "text": [
      "ARIMA static forecast Accuracy of: wPreis in [\"['29', '30', '31', '38', '39']\"] for ['A2 & A3 -  geschreddert']\n",
      "mae    :  6.5275\n",
      "me     :  4.3687\n",
      "rmse   :  7.2654\n",
      "direction_accuracy :  0.375\n",
      "Walk-forward Validation Forecast Accuracy of wPreis in [\"['29', '30', '31', '38', '39']\"] for ['A2 & A3 -  geschreddert']\n",
      "mae        :  4.6919\n",
      "me         :  1.7762\n",
      "rmse       :  5.8392\n",
      "direction_accuracy :  0.4\n",
      "ARIMA static forecast Accuracy of: wPreis in [\"['29', '30', '31', '38', '39']\"] for ['A1 & A2 -  geschreddert']\n",
      "mae    :  6.085\n",
      "me     :  4.235\n",
      "rmse   :  7.401\n",
      "direction_accuracy :  0.25\n",
      "Walk-forward Validation Forecast Accuracy of wPreis in [\"['29', '30', '31', '38', '39']\"] for ['A1 & A2 -  geschreddert']\n",
      "mae        :  4.1058\n",
      "me         :  0.9167\n",
      "rmse       :  4.8004\n",
      "direction_accuracy :  0.2\n",
      "ARIMA static forecast Accuracy of: wPreis in [\"['29', '30', '31', '38', '39']\"] for ['A2 -  geschreddert']\n",
      "mae    :  7.6315\n",
      "me     :  6.5913\n",
      "rmse   :  8.8391\n",
      "direction_accuracy :  0.5\n",
      "Walk-forward Validation Forecast Accuracy of wPreis in [\"['29', '30', '31', '38', '39']\"] for ['A2 -  geschreddert']\n",
      "mae        :  4.5571\n",
      "me         :  2.3798\n",
      "rmse       :  5.4354\n",
      "direction_accuracy :  0.4\n"
     ]
    },
    {
     "name": "stderr",
     "output_type": "stream",
     "text": [
      "/Library/Frameworks/Python.framework/Versions/3.11/lib/python3.11/site-packages/statsmodels/tsa/base/tsa_model.py:471: ValueWarning: No frequency information was provided, so inferred frequency W-MON will be used.\n",
      "  self._init_dates(dates, freq)\n",
      "/Library/Frameworks/Python.framework/Versions/3.11/lib/python3.11/site-packages/statsmodels/tsa/base/tsa_model.py:471: ValueWarning: No frequency information was provided, so inferred frequency W-MON will be used.\n",
      "  self._init_dates(dates, freq)\n",
      "/Library/Frameworks/Python.framework/Versions/3.11/lib/python3.11/site-packages/statsmodels/tsa/base/tsa_model.py:471: ValueWarning: No frequency information was provided, so inferred frequency W-MON will be used.\n",
      "  self._init_dates(dates, freq)\n",
      "/Library/Frameworks/Python.framework/Versions/3.11/lib/python3.11/site-packages/statsmodels/tsa/base/tsa_model.py:471: ValueWarning: No frequency information was provided, so inferred frequency W-MON will be used.\n",
      "  self._init_dates(dates, freq)\n",
      "/Library/Frameworks/Python.framework/Versions/3.11/lib/python3.11/site-packages/statsmodels/tsa/base/tsa_model.py:471: ValueWarning: No frequency information was provided, so inferred frequency W-MON will be used.\n",
      "  self._init_dates(dates, freq)\n",
      "/Library/Frameworks/Python.framework/Versions/3.11/lib/python3.11/site-packages/statsmodels/tsa/base/tsa_model.py:471: ValueWarning: No frequency information was provided, so inferred frequency W-MON will be used.\n",
      "  self._init_dates(dates, freq)\n"
     ]
    }
   ],
   "source": [
    "# datasets = [TS1_A2, TS1_A1A2, TS1_A2A3]\n",
    "# Loop through each category\n",
    "for dataset in datasets:\n",
    "    static_forecast(dataset)\n",
    "    wf_forecast(dataset)\n"
   ]
  }
 ],
 "metadata": {
  "kernelspec": {
   "display_name": "Python 3",
   "language": "python",
   "name": "python3"
  },
  "language_info": {
   "codemirror_mode": {
    "name": "ipython",
    "version": 3
   },
   "file_extension": ".py",
   "mimetype": "text/x-python",
   "name": "python",
   "nbconvert_exporter": "python",
   "pygments_lexer": "ipython3",
   "version": "3.11.2"
  },
  "orig_nbformat": 4
 },
 "nbformat": 4,
 "nbformat_minor": 2
}
