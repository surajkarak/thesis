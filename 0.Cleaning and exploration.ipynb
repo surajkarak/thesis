{
 "cells": [
  {
   "cell_type": "code",
   "execution_count": 48,
   "metadata": {},
   "outputs": [],
   "source": [
    "#Importing libraries\n",
    "import warnings\n",
    "warnings.simplefilter(action='ignore', category=FutureWarning)\n",
    "import numpy as np\n",
    "import pandas as pd\n",
    "from numpy import asarray\n",
    "from sklearn.metrics import mean_absolute_error\n",
    "import matplotlib.pyplot as plt\n",
    "import seaborn as sns\n",
    "import matplotlib.pyplot as plt\n",
    "import plotly.express as px\n",
    "import plotly.graph_objects as go\n",
    "from plotly.subplots import make_subplots\n",
    "import datetime\n",
    "from statsmodels.tsa.tsatools import lagmat\n",
    "from statsmodels.tsa.arima.model import ARIMA"
   ]
  },
  {
   "attachments": {},
   "cell_type": "markdown",
   "metadata": {},
   "source": [
    "# Data Import and Cleaning"
   ]
  },
  {
   "cell_type": "code",
   "execution_count": 49,
   "metadata": {},
   "outputs": [],
   "source": [
    "df = pd.read_excel(\"/Users/surajkwork/Documents/Thesis/thesis/final_df_2.xlsx\")"
   ]
  },
  {
   "cell_type": "code",
   "execution_count": 50,
   "metadata": {},
   "outputs": [
    {
     "data": {
      "text/html": [
       "<div>\n",
       "<style scoped>\n",
       "    .dataframe tbody tr th:only-of-type {\n",
       "        vertical-align: middle;\n",
       "    }\n",
       "\n",
       "    .dataframe tbody tr th {\n",
       "        vertical-align: top;\n",
       "    }\n",
       "\n",
       "    .dataframe thead th {\n",
       "        text-align: right;\n",
       "    }\n",
       "</style>\n",
       "<table border=\"1\" class=\"dataframe\">\n",
       "  <thead>\n",
       "    <tr style=\"text-align: right;\">\n",
       "      <th></th>\n",
       "      <th>Unnamed: 0</th>\n",
       "      <th>week</th>\n",
       "      <th>wPreis</th>\n",
       "      <th>Plz</th>\n",
       "      <th>Category</th>\n",
       "      <th>Behandelt</th>\n",
       "      <th>full</th>\n",
       "    </tr>\n",
       "  </thead>\n",
       "  <tbody>\n",
       "    <tr>\n",
       "      <th>0</th>\n",
       "      <td>0</td>\n",
       "      <td>2020-37</td>\n",
       "      <td>-37.519318</td>\n",
       "      <td>['25', '24']</td>\n",
       "      <td>A2</td>\n",
       "      <td>geschreddert</td>\n",
       "      <td>Kategorie A2 -  geschreddert</td>\n",
       "    </tr>\n",
       "    <tr>\n",
       "      <th>1</th>\n",
       "      <td>1</td>\n",
       "      <td>2020-39</td>\n",
       "      <td>-40.000000</td>\n",
       "      <td>['25', '24']</td>\n",
       "      <td>A2</td>\n",
       "      <td>geschreddert</td>\n",
       "      <td>Kategorie A2 -  geschreddert</td>\n",
       "    </tr>\n",
       "    <tr>\n",
       "      <th>2</th>\n",
       "      <td>2</td>\n",
       "      <td>2020-41</td>\n",
       "      <td>-34.853543</td>\n",
       "      <td>['25', '24']</td>\n",
       "      <td>A2</td>\n",
       "      <td>geschreddert</td>\n",
       "      <td>Kategorie A2 -  geschreddert</td>\n",
       "    </tr>\n",
       "    <tr>\n",
       "      <th>3</th>\n",
       "      <td>3</td>\n",
       "      <td>2020-42</td>\n",
       "      <td>-27.560202</td>\n",
       "      <td>['25', '24']</td>\n",
       "      <td>A2</td>\n",
       "      <td>geschreddert</td>\n",
       "      <td>Kategorie A2 -  geschreddert</td>\n",
       "    </tr>\n",
       "    <tr>\n",
       "      <th>4</th>\n",
       "      <td>4</td>\n",
       "      <td>2020-43</td>\n",
       "      <td>-31.937780</td>\n",
       "      <td>['25', '24']</td>\n",
       "      <td>A2</td>\n",
       "      <td>geschreddert</td>\n",
       "      <td>Kategorie A2 -  geschreddert</td>\n",
       "    </tr>\n",
       "  </tbody>\n",
       "</table>\n",
       "</div>"
      ],
      "text/plain": [
       "   Unnamed: 0     week     wPreis           Plz Category     Behandelt  \\\n",
       "0           0  2020-37 -37.519318  ['25', '24']       A2  geschreddert   \n",
       "1           1  2020-39 -40.000000  ['25', '24']       A2  geschreddert   \n",
       "2           2  2020-41 -34.853543  ['25', '24']       A2  geschreddert   \n",
       "3           3  2020-42 -27.560202  ['25', '24']       A2  geschreddert   \n",
       "4           4  2020-43 -31.937780  ['25', '24']       A2  geschreddert   \n",
       "\n",
       "                           full  \n",
       "0  Kategorie A2 -  geschreddert  \n",
       "1  Kategorie A2 -  geschreddert  \n",
       "2  Kategorie A2 -  geschreddert  \n",
       "3  Kategorie A2 -  geschreddert  \n",
       "4  Kategorie A2 -  geschreddert  "
      ]
     },
     "execution_count": 50,
     "metadata": {},
     "output_type": "execute_result"
    }
   ],
   "source": [
    "df.head()"
   ]
  },
  {
   "cell_type": "code",
   "execution_count": 51,
   "metadata": {},
   "outputs": [
    {
     "name": "stdout",
     "output_type": "stream",
     "text": [
      "<class 'pandas.core.frame.DataFrame'>\n",
      "RangeIndex: 5773 entries, 0 to 5772\n",
      "Data columns (total 7 columns):\n",
      " #   Column      Non-Null Count  Dtype  \n",
      "---  ------      --------------  -----  \n",
      " 0   Unnamed: 0  5773 non-null   int64  \n",
      " 1   week        5773 non-null   object \n",
      " 2   wPreis      5773 non-null   float64\n",
      " 3   Plz         5773 non-null   object \n",
      " 4   Category    5773 non-null   object \n",
      " 5   Behandelt   5773 non-null   object \n",
      " 6   full        5773 non-null   object \n",
      "dtypes: float64(1), int64(1), object(5)\n",
      "memory usage: 315.8+ KB\n"
     ]
    }
   ],
   "source": [
    "df.info()"
   ]
  },
  {
   "cell_type": "code",
   "execution_count": 52,
   "metadata": {},
   "outputs": [
    {
     "data": {
      "text/plain": [
       "10"
      ]
     },
     "execution_count": 52,
     "metadata": {},
     "output_type": "execute_result"
    }
   ],
   "source": [
    "len(df['Plz'].unique()) # print(unique_values)"
   ]
  },
  {
   "cell_type": "code",
   "execution_count": 53,
   "metadata": {},
   "outputs": [
    {
     "data": {
      "text/plain": [
       "array(['A2', 'A1 & A2', 'A2 & A3', 'A3'], dtype=object)"
      ]
     },
     "execution_count": 53,
     "metadata": {},
     "output_type": "execute_result"
    }
   ],
   "source": [
    "df['Category'].unique()"
   ]
  },
  {
   "cell_type": "code",
   "execution_count": 54,
   "metadata": {},
   "outputs": [
    {
     "data": {
      "text/plain": [
       "array(['geschreddert', 'ungeschreddert'], dtype=object)"
      ]
     },
     "execution_count": 54,
     "metadata": {},
     "output_type": "execute_result"
    }
   ],
   "source": [
    "df['Behandelt'].unique()"
   ]
  },
  {
   "cell_type": "code",
   "execution_count": 55,
   "metadata": {},
   "outputs": [
    {
     "data": {
      "text/plain": [
       "array(['Kategorie A2 -  geschreddert',\n",
       "       'Kategorie A1 & A2 -  geschreddert',\n",
       "       'Kategorie A2 & A3 -  geschreddert',\n",
       "       'Kategorie A3 -  geschreddert', 'Kategorie A3 -  ungeschreddert',\n",
       "       'Kategorie A2 & A3 -  ungeschreddert',\n",
       "       'Kategorie A1 & A2 -  ungeschreddert'], dtype=object)"
      ]
     },
     "execution_count": 55,
     "metadata": {},
     "output_type": "execute_result"
    }
   ],
   "source": [
    "df['full'].unique() "
   ]
  },
  {
   "attachments": {},
   "cell_type": "markdown",
   "metadata": {},
   "source": [
    "The date variable is not in datetime format so it has to be converted."
   ]
  },
  {
   "cell_type": "code",
   "execution_count": 56,
   "metadata": {},
   "outputs": [
    {
     "data": {
      "text/html": [
       "<div>\n",
       "<style scoped>\n",
       "    .dataframe tbody tr th:only-of-type {\n",
       "        vertical-align: middle;\n",
       "    }\n",
       "\n",
       "    .dataframe tbody tr th {\n",
       "        vertical-align: top;\n",
       "    }\n",
       "\n",
       "    .dataframe thead th {\n",
       "        text-align: right;\n",
       "    }\n",
       "</style>\n",
       "<table border=\"1\" class=\"dataframe\">\n",
       "  <thead>\n",
       "    <tr style=\"text-align: right;\">\n",
       "      <th></th>\n",
       "      <th>Unnamed: 0</th>\n",
       "      <th>week</th>\n",
       "      <th>wPreis</th>\n",
       "      <th>Plz</th>\n",
       "      <th>Category</th>\n",
       "      <th>Behandelt</th>\n",
       "      <th>full</th>\n",
       "    </tr>\n",
       "  </thead>\n",
       "  <tbody>\n",
       "    <tr>\n",
       "      <th>0</th>\n",
       "      <td>0</td>\n",
       "      <td>2020-37</td>\n",
       "      <td>-37.519318</td>\n",
       "      <td>['25', '24']</td>\n",
       "      <td>A2</td>\n",
       "      <td>geschreddert</td>\n",
       "      <td>A2 -  geschreddert</td>\n",
       "    </tr>\n",
       "    <tr>\n",
       "      <th>1</th>\n",
       "      <td>1</td>\n",
       "      <td>2020-39</td>\n",
       "      <td>-40.000000</td>\n",
       "      <td>['25', '24']</td>\n",
       "      <td>A2</td>\n",
       "      <td>geschreddert</td>\n",
       "      <td>A2 -  geschreddert</td>\n",
       "    </tr>\n",
       "    <tr>\n",
       "      <th>2</th>\n",
       "      <td>2</td>\n",
       "      <td>2020-41</td>\n",
       "      <td>-34.853543</td>\n",
       "      <td>['25', '24']</td>\n",
       "      <td>A2</td>\n",
       "      <td>geschreddert</td>\n",
       "      <td>A2 -  geschreddert</td>\n",
       "    </tr>\n",
       "    <tr>\n",
       "      <th>3</th>\n",
       "      <td>3</td>\n",
       "      <td>2020-42</td>\n",
       "      <td>-27.560202</td>\n",
       "      <td>['25', '24']</td>\n",
       "      <td>A2</td>\n",
       "      <td>geschreddert</td>\n",
       "      <td>A2 -  geschreddert</td>\n",
       "    </tr>\n",
       "    <tr>\n",
       "      <th>4</th>\n",
       "      <td>4</td>\n",
       "      <td>2020-43</td>\n",
       "      <td>-31.937780</td>\n",
       "      <td>['25', '24']</td>\n",
       "      <td>A2</td>\n",
       "      <td>geschreddert</td>\n",
       "      <td>A2 -  geschreddert</td>\n",
       "    </tr>\n",
       "  </tbody>\n",
       "</table>\n",
       "</div>"
      ],
      "text/plain": [
       "   Unnamed: 0     week     wPreis           Plz Category     Behandelt  \\\n",
       "0           0  2020-37 -37.519318  ['25', '24']       A2  geschreddert   \n",
       "1           1  2020-39 -40.000000  ['25', '24']       A2  geschreddert   \n",
       "2           2  2020-41 -34.853543  ['25', '24']       A2  geschreddert   \n",
       "3           3  2020-42 -27.560202  ['25', '24']       A2  geschreddert   \n",
       "4           4  2020-43 -31.937780  ['25', '24']       A2  geschreddert   \n",
       "\n",
       "                 full  \n",
       "0  A2 -  geschreddert  \n",
       "1  A2 -  geschreddert  \n",
       "2  A2 -  geschreddert  \n",
       "3  A2 -  geschreddert  \n",
       "4  A2 -  geschreddert  "
      ]
     },
     "execution_count": 56,
     "metadata": {},
     "output_type": "execute_result"
    }
   ],
   "source": [
    "df['full'] = df['full'].str.replace('Kategorie ', '')\n",
    "df.head()\n"
   ]
  },
  {
   "cell_type": "code",
   "execution_count": 57,
   "metadata": {},
   "outputs": [
    {
     "data": {
      "text/html": [
       "<div>\n",
       "<style scoped>\n",
       "    .dataframe tbody tr th:only-of-type {\n",
       "        vertical-align: middle;\n",
       "    }\n",
       "\n",
       "    .dataframe tbody tr th {\n",
       "        vertical-align: top;\n",
       "    }\n",
       "\n",
       "    .dataframe thead th {\n",
       "        text-align: right;\n",
       "    }\n",
       "</style>\n",
       "<table border=\"1\" class=\"dataframe\">\n",
       "  <thead>\n",
       "    <tr style=\"text-align: right;\">\n",
       "      <th></th>\n",
       "      <th>week</th>\n",
       "      <th>wPreis</th>\n",
       "      <th>Plz</th>\n",
       "      <th>full</th>\n",
       "    </tr>\n",
       "  </thead>\n",
       "  <tbody>\n",
       "    <tr>\n",
       "      <th>0</th>\n",
       "      <td>2020-37</td>\n",
       "      <td>-37.519318</td>\n",
       "      <td>['25', '24']</td>\n",
       "      <td>A2 -  geschreddert</td>\n",
       "    </tr>\n",
       "    <tr>\n",
       "      <th>1</th>\n",
       "      <td>2020-39</td>\n",
       "      <td>-40.000000</td>\n",
       "      <td>['25', '24']</td>\n",
       "      <td>A2 -  geschreddert</td>\n",
       "    </tr>\n",
       "    <tr>\n",
       "      <th>2</th>\n",
       "      <td>2020-41</td>\n",
       "      <td>-34.853543</td>\n",
       "      <td>['25', '24']</td>\n",
       "      <td>A2 -  geschreddert</td>\n",
       "    </tr>\n",
       "    <tr>\n",
       "      <th>3</th>\n",
       "      <td>2020-42</td>\n",
       "      <td>-27.560202</td>\n",
       "      <td>['25', '24']</td>\n",
       "      <td>A2 -  geschreddert</td>\n",
       "    </tr>\n",
       "    <tr>\n",
       "      <th>4</th>\n",
       "      <td>2020-43</td>\n",
       "      <td>-31.937780</td>\n",
       "      <td>['25', '24']</td>\n",
       "      <td>A2 -  geschreddert</td>\n",
       "    </tr>\n",
       "  </tbody>\n",
       "</table>\n",
       "</div>"
      ],
      "text/plain": [
       "      week     wPreis           Plz                full\n",
       "0  2020-37 -37.519318  ['25', '24']  A2 -  geschreddert\n",
       "1  2020-39 -40.000000  ['25', '24']  A2 -  geschreddert\n",
       "2  2020-41 -34.853543  ['25', '24']  A2 -  geschreddert\n",
       "3  2020-42 -27.560202  ['25', '24']  A2 -  geschreddert\n",
       "4  2020-43 -31.937780  ['25', '24']  A2 -  geschreddert"
      ]
     },
     "execution_count": 57,
     "metadata": {},
     "output_type": "execute_result"
    }
   ],
   "source": [
    "df.drop(columns=['Unnamed: 0', 'Category', 'Behandelt'], inplace=True)\n",
    "df.head()\n",
    "\n"
   ]
  },
  {
   "cell_type": "code",
   "execution_count": 58,
   "metadata": {},
   "outputs": [
    {
     "data": {
      "text/html": [
       "<div>\n",
       "<style scoped>\n",
       "    .dataframe tbody tr th:only-of-type {\n",
       "        vertical-align: middle;\n",
       "    }\n",
       "\n",
       "    .dataframe tbody tr th {\n",
       "        vertical-align: top;\n",
       "    }\n",
       "\n",
       "    .dataframe thead th {\n",
       "        text-align: right;\n",
       "    }\n",
       "</style>\n",
       "<table border=\"1\" class=\"dataframe\">\n",
       "  <thead>\n",
       "    <tr style=\"text-align: right;\">\n",
       "      <th></th>\n",
       "      <th>week</th>\n",
       "      <th>wPreis</th>\n",
       "      <th>Plz</th>\n",
       "      <th>full</th>\n",
       "    </tr>\n",
       "  </thead>\n",
       "  <tbody>\n",
       "    <tr>\n",
       "      <th>0</th>\n",
       "      <td>2020-37</td>\n",
       "      <td>-37.519318</td>\n",
       "      <td>['25', '24']</td>\n",
       "      <td>A2 -  geschreddert</td>\n",
       "    </tr>\n",
       "    <tr>\n",
       "      <th>1</th>\n",
       "      <td>2020-39</td>\n",
       "      <td>-40.000000</td>\n",
       "      <td>['25', '24']</td>\n",
       "      <td>A2 -  geschreddert</td>\n",
       "    </tr>\n",
       "    <tr>\n",
       "      <th>2</th>\n",
       "      <td>2020-41</td>\n",
       "      <td>-34.853543</td>\n",
       "      <td>['25', '24']</td>\n",
       "      <td>A2 -  geschreddert</td>\n",
       "    </tr>\n",
       "    <tr>\n",
       "      <th>3</th>\n",
       "      <td>2020-42</td>\n",
       "      <td>-27.560202</td>\n",
       "      <td>['25', '24']</td>\n",
       "      <td>A2 -  geschreddert</td>\n",
       "    </tr>\n",
       "    <tr>\n",
       "      <th>4</th>\n",
       "      <td>2020-43</td>\n",
       "      <td>-31.937780</td>\n",
       "      <td>['25', '24']</td>\n",
       "      <td>A2 -  geschreddert</td>\n",
       "    </tr>\n",
       "  </tbody>\n",
       "</table>\n",
       "</div>"
      ],
      "text/plain": [
       "      week     wPreis           Plz                full\n",
       "0  2020-37 -37.519318  ['25', '24']  A2 -  geschreddert\n",
       "1  2020-39 -40.000000  ['25', '24']  A2 -  geschreddert\n",
       "2  2020-41 -34.853543  ['25', '24']  A2 -  geschreddert\n",
       "3  2020-42 -27.560202  ['25', '24']  A2 -  geschreddert\n",
       "4  2020-43 -31.937780  ['25', '24']  A2 -  geschreddert"
      ]
     },
     "execution_count": 58,
     "metadata": {},
     "output_type": "execute_result"
    }
   ],
   "source": [
    "df.head()"
   ]
  },
  {
   "cell_type": "code",
   "execution_count": 59,
   "metadata": {},
   "outputs": [],
   "source": [
    "# Convert the 'week' column to datetime format\n",
    "df['date'] = pd.to_datetime(df['week'] + '-1', format='%Y-%W-%w')\n",
    "df.index = df['date']\n",
    "df.sort_index(inplace=True)"
   ]
  },
  {
   "cell_type": "code",
   "execution_count": 60,
   "metadata": {},
   "outputs": [
    {
     "data": {
      "text/html": [
       "<div>\n",
       "<style scoped>\n",
       "    .dataframe tbody tr th:only-of-type {\n",
       "        vertical-align: middle;\n",
       "    }\n",
       "\n",
       "    .dataframe tbody tr th {\n",
       "        vertical-align: top;\n",
       "    }\n",
       "\n",
       "    .dataframe thead th {\n",
       "        text-align: right;\n",
       "    }\n",
       "</style>\n",
       "<table border=\"1\" class=\"dataframe\">\n",
       "  <thead>\n",
       "    <tr style=\"text-align: right;\">\n",
       "      <th></th>\n",
       "      <th>week</th>\n",
       "      <th>wPreis</th>\n",
       "      <th>Plz</th>\n",
       "      <th>full</th>\n",
       "      <th>date</th>\n",
       "    </tr>\n",
       "    <tr>\n",
       "      <th>date</th>\n",
       "      <th></th>\n",
       "      <th></th>\n",
       "      <th></th>\n",
       "      <th></th>\n",
       "      <th></th>\n",
       "    </tr>\n",
       "  </thead>\n",
       "  <tbody>\n",
       "    <tr>\n",
       "      <th>2020-09-14</th>\n",
       "      <td>2020-37</td>\n",
       "      <td>-37.519318</td>\n",
       "      <td>['25', '24']</td>\n",
       "      <td>A2 -  geschreddert</td>\n",
       "      <td>2020-09-14</td>\n",
       "    </tr>\n",
       "    <tr>\n",
       "      <th>2020-09-14</th>\n",
       "      <td>2020-37</td>\n",
       "      <td>-37.519318</td>\n",
       "      <td>['25', '24']</td>\n",
       "      <td>A1 &amp; A2 -  geschreddert</td>\n",
       "      <td>2020-09-14</td>\n",
       "    </tr>\n",
       "    <tr>\n",
       "      <th>2020-09-14</th>\n",
       "      <td>2020-37</td>\n",
       "      <td>-23.445068</td>\n",
       "      <td>['80', '81', '82', '83', '84', '85', '93', '94']</td>\n",
       "      <td>A3 -  geschreddert</td>\n",
       "      <td>2020-09-14</td>\n",
       "    </tr>\n",
       "    <tr>\n",
       "      <th>2020-09-14</th>\n",
       "      <td>2020-37</td>\n",
       "      <td>-36.379163</td>\n",
       "      <td>['70', '71', '73', '74', '75', '76']</td>\n",
       "      <td>A2 &amp; A3 -  geschreddert</td>\n",
       "      <td>2020-09-14</td>\n",
       "    </tr>\n",
       "    <tr>\n",
       "      <th>2020-09-14</th>\n",
       "      <td>2020-37</td>\n",
       "      <td>-27.983877</td>\n",
       "      <td>['25', '24']</td>\n",
       "      <td>A2 &amp; A3 -  geschreddert</td>\n",
       "      <td>2020-09-14</td>\n",
       "    </tr>\n",
       "  </tbody>\n",
       "</table>\n",
       "</div>"
      ],
      "text/plain": [
       "               week     wPreis  \\\n",
       "date                             \n",
       "2020-09-14  2020-37 -37.519318   \n",
       "2020-09-14  2020-37 -37.519318   \n",
       "2020-09-14  2020-37 -23.445068   \n",
       "2020-09-14  2020-37 -36.379163   \n",
       "2020-09-14  2020-37 -27.983877   \n",
       "\n",
       "                                                         Plz  \\\n",
       "date                                                           \n",
       "2020-09-14                                      ['25', '24']   \n",
       "2020-09-14                                      ['25', '24']   \n",
       "2020-09-14  ['80', '81', '82', '83', '84', '85', '93', '94']   \n",
       "2020-09-14              ['70', '71', '73', '74', '75', '76']   \n",
       "2020-09-14                                      ['25', '24']   \n",
       "\n",
       "                               full       date  \n",
       "date                                            \n",
       "2020-09-14       A2 -  geschreddert 2020-09-14  \n",
       "2020-09-14  A1 & A2 -  geschreddert 2020-09-14  \n",
       "2020-09-14       A3 -  geschreddert 2020-09-14  \n",
       "2020-09-14  A2 & A3 -  geschreddert 2020-09-14  \n",
       "2020-09-14  A2 & A3 -  geschreddert 2020-09-14  "
      ]
     },
     "execution_count": 60,
     "metadata": {},
     "output_type": "execute_result"
    }
   ],
   "source": [
    "df.head()"
   ]
  },
  {
   "cell_type": "code",
   "execution_count": 61,
   "metadata": {},
   "outputs": [],
   "source": [
    "df['date']= pd.to_datetime(df['date'])\n",
    "df.index = df['date']\n",
    "df.sort_index(inplace=True)"
   ]
  },
  {
   "cell_type": "code",
   "execution_count": 62,
   "metadata": {},
   "outputs": [
    {
     "name": "stdout",
     "output_type": "stream",
     "text": [
      "Stored 'df_cleaned' (DataFrame)\n"
     ]
    }
   ],
   "source": [
    "df_cleaned = df \n",
    "\n",
    "%store df_cleaned"
   ]
  },
  {
   "attachments": {},
   "cell_type": "markdown",
   "metadata": {},
   "source": [
    "Extracting one cluster from the dataset for analysis."
   ]
  },
  {
   "cell_type": "code",
   "execution_count": 63,
   "metadata": {},
   "outputs": [],
   "source": [
    "TS1 = df[(df['Plz'] == \"['25', '24']\")]"
   ]
  },
  {
   "attachments": {},
   "cell_type": "markdown",
   "metadata": {},
   "source": [
    "And from this cluster, extracting one category for analysis."
   ]
  },
  {
   "cell_type": "code",
   "execution_count": 64,
   "metadata": {},
   "outputs": [],
   "source": [
    "TS1_A2 = TS1[TS1['full'] == 'A2 -  geschreddert']"
   ]
  },
  {
   "cell_type": "code",
   "execution_count": 65,
   "metadata": {},
   "outputs": [],
   "source": [
    "TS1_A1A2 = TS1[TS1['full'] == 'A1 & A2 -  geschreddert']\n",
    "TS1_A2A3 = TS1[TS1['full'] == 'A2 & A3 -  geschreddert']"
   ]
  },
  {
   "cell_type": "code",
   "execution_count": 66,
   "metadata": {},
   "outputs": [],
   "source": [
    "datasets = [TS1_A2, TS1_A1A2, TS1_A2A3]"
   ]
  },
  {
   "cell_type": "code",
   "execution_count": 79,
   "metadata": {},
   "outputs": [
    {
     "data": {
      "application/vnd.plotly.v1+json": {
       "config": {
        "plotlyServerURL": "https://plot.ly"
       },
       "data": [
        {
         "hovertemplate": "full=A2 -  geschreddert<br>date=%{x}<br>wPreis=%{y}<extra></extra>",
         "legendgroup": "A2 -  geschreddert",
         "line": {
          "color": "#636efa",
          "dash": "solid"
         },
         "marker": {
          "symbol": "circle"
         },
         "mode": "lines",
         "name": "A2 -  geschreddert",
         "orientation": "v",
         "showlegend": true,
         "type": "scatter",
         "x": [
          "2020-09-14T00:00:00",
          "2020-09-28T00:00:00",
          "2020-10-12T00:00:00",
          "2020-10-19T00:00:00",
          "2020-10-26T00:00:00",
          "2020-11-02T00:00:00",
          "2020-11-09T00:00:00",
          "2020-11-16T00:00:00",
          "2020-11-23T00:00:00",
          "2020-11-30T00:00:00",
          "2020-12-07T00:00:00",
          "2020-12-14T00:00:00",
          "2020-12-21T00:00:00",
          "2020-12-28T00:00:00",
          "2021-01-04T00:00:00",
          "2021-01-04T00:00:00",
          "2021-01-11T00:00:00",
          "2021-01-18T00:00:00",
          "2021-01-25T00:00:00",
          "2021-02-01T00:00:00",
          "2021-02-08T00:00:00",
          "2021-02-15T00:00:00",
          "2021-02-22T00:00:00",
          "2021-03-01T00:00:00",
          "2021-03-08T00:00:00",
          "2021-03-15T00:00:00",
          "2021-03-22T00:00:00",
          "2021-03-29T00:00:00",
          "2021-04-05T00:00:00",
          "2021-04-12T00:00:00",
          "2021-04-19T00:00:00",
          "2021-04-26T00:00:00",
          "2021-05-03T00:00:00",
          "2021-05-10T00:00:00",
          "2021-05-17T00:00:00",
          "2021-05-24T00:00:00",
          "2021-05-31T00:00:00",
          "2021-06-07T00:00:00",
          "2021-06-14T00:00:00",
          "2021-06-21T00:00:00",
          "2021-06-28T00:00:00",
          "2021-07-05T00:00:00",
          "2021-07-12T00:00:00",
          "2021-07-19T00:00:00",
          "2021-07-26T00:00:00",
          "2021-08-02T00:00:00",
          "2021-08-09T00:00:00",
          "2021-08-16T00:00:00",
          "2021-08-23T00:00:00",
          "2021-08-30T00:00:00",
          "2021-09-06T00:00:00",
          "2021-09-13T00:00:00",
          "2021-09-20T00:00:00",
          "2021-09-27T00:00:00",
          "2021-10-04T00:00:00",
          "2021-10-11T00:00:00",
          "2021-10-18T00:00:00",
          "2021-10-25T00:00:00",
          "2021-11-01T00:00:00",
          "2021-11-08T00:00:00",
          "2021-11-15T00:00:00",
          "2021-11-22T00:00:00",
          "2021-11-29T00:00:00",
          "2021-12-06T00:00:00",
          "2021-12-13T00:00:00",
          "2021-12-20T00:00:00",
          "2021-12-27T00:00:00",
          "2022-01-03T00:00:00",
          "2022-01-10T00:00:00",
          "2022-01-17T00:00:00",
          "2022-01-24T00:00:00",
          "2022-01-31T00:00:00",
          "2022-02-07T00:00:00",
          "2022-02-14T00:00:00",
          "2022-02-21T00:00:00",
          "2022-02-28T00:00:00",
          "2022-03-07T00:00:00",
          "2022-03-14T00:00:00",
          "2022-03-21T00:00:00",
          "2022-03-28T00:00:00",
          "2022-04-04T00:00:00",
          "2022-04-11T00:00:00",
          "2022-04-18T00:00:00",
          "2022-04-25T00:00:00",
          "2022-05-02T00:00:00",
          "2022-05-09T00:00:00",
          "2022-05-16T00:00:00",
          "2022-05-23T00:00:00",
          "2022-05-30T00:00:00",
          "2022-06-06T00:00:00",
          "2022-06-13T00:00:00",
          "2022-06-20T00:00:00",
          "2022-06-27T00:00:00",
          "2022-07-04T00:00:00",
          "2022-07-11T00:00:00",
          "2022-07-18T00:00:00",
          "2022-07-25T00:00:00",
          "2022-08-01T00:00:00",
          "2022-08-08T00:00:00",
          "2022-08-15T00:00:00",
          "2022-08-22T00:00:00",
          "2022-08-29T00:00:00",
          "2022-09-05T00:00:00",
          "2022-09-12T00:00:00",
          "2022-09-19T00:00:00",
          "2022-09-26T00:00:00",
          "2022-10-03T00:00:00",
          "2022-10-10T00:00:00",
          "2022-10-17T00:00:00",
          "2022-10-24T00:00:00",
          "2022-10-31T00:00:00",
          "2022-11-07T00:00:00",
          "2022-11-14T00:00:00",
          "2022-11-21T00:00:00",
          "2022-11-28T00:00:00",
          "2022-12-05T00:00:00",
          "2022-12-12T00:00:00",
          "2022-12-19T00:00:00",
          "2022-12-26T00:00:00",
          "2023-01-02T00:00:00",
          "2023-01-09T00:00:00",
          "2023-01-16T00:00:00",
          "2023-01-23T00:00:00",
          "2023-01-30T00:00:00",
          "2023-02-06T00:00:00",
          "2023-02-13T00:00:00",
          "2023-02-20T00:00:00",
          "2023-02-27T00:00:00",
          "2023-03-06T00:00:00",
          "2023-03-13T00:00:00",
          "2023-03-20T00:00:00",
          "2023-03-27T00:00:00",
          "2023-04-03T00:00:00",
          "2023-04-17T00:00:00",
          "2023-04-24T00:00:00",
          "2023-05-01T00:00:00",
          "2023-05-08T00:00:00",
          "2023-05-15T00:00:00",
          "2023-05-22T00:00:00",
          "2023-05-29T00:00:00",
          "2023-06-05T00:00:00",
          "2023-06-12T00:00:00",
          "2023-06-19T00:00:00",
          "2023-06-26T00:00:00",
          "2023-07-03T00:00:00",
          "2023-07-10T00:00:00",
          "2023-07-17T00:00:00",
          "2023-07-24T00:00:00",
          "2023-07-31T00:00:00",
          "2023-08-07T00:00:00",
          "2023-08-14T00:00:00",
          "2023-08-21T00:00:00",
          "2023-08-28T00:00:00",
          "2023-09-04T00:00:00",
          "2023-09-11T00:00:00",
          "2023-09-18T00:00:00",
          "2023-09-25T00:00:00",
          "2023-10-02T00:00:00",
          "2023-10-09T00:00:00",
          "2023-10-16T00:00:00",
          "2023-10-23T00:00:00",
          "2023-10-30T00:00:00",
          "2023-11-06T00:00:00",
          "2023-11-13T00:00:00",
          "2023-11-20T00:00:00",
          "2023-11-27T00:00:00",
          "2023-12-04T00:00:00",
          "2023-12-11T00:00:00",
          "2023-12-18T00:00:00",
          "2023-12-25T00:00:00",
          "2024-01-01T00:00:00",
          "2024-01-08T00:00:00",
          "2024-01-15T00:00:00",
          "2024-01-22T00:00:00",
          "2024-01-29T00:00:00",
          "2024-02-05T00:00:00",
          "2024-02-12T00:00:00",
          "2024-02-19T00:00:00",
          "2024-02-26T00:00:00",
          "2024-03-04T00:00:00",
          "2024-03-11T00:00:00",
          "2024-03-18T00:00:00",
          "2024-03-25T00:00:00",
          "2024-04-01T00:00:00",
          "2024-04-08T00:00:00",
          "2024-04-15T00:00:00",
          "2024-04-22T00:00:00"
         ],
         "xaxis": "x",
         "y": [
          -37.51931787903011,
          -40.00000000000001,
          -34.85354279168712,
          -27.56020236087689,
          -31.93778046254747,
          -32.52671690722527,
          -37.57803502879079,
          -31.75025473183684,
          -34.45183578104139,
          -33.1754414385226,
          -32.78658679271774,
          -36.04361624445318,
          -30.55550564681725,
          -30.07831868379536,
          -29.03192233688998,
          -35.43666563179137,
          -34.29846037354871,
          -30.14342493754258,
          -31.41962305986696,
          -25.46027348815278,
          -26.49098360655738,
          -25.18765020026702,
          -28.73738619255861,
          -28.02251971570441,
          -26.11755686174291,
          -27.34511054574121,
          -23.70893326160564,
          -26.82027272727273,
          -27.54805742235655,
          -24.89228688596108,
          -27.39113765391138,
          -27.67263427109974,
          -28.37931186202042,
          -27.76990573990344,
          -26.62505984542782,
          -29.66626605098362,
          -28.9832150597034,
          -28.30585269223844,
          -27.58978936094252,
          -27.98026067520102,
          -26.99755640356163,
          -29.31753907930589,
          -27.19672304068071,
          -27.85631829237304,
          -25.04087521038711,
          -29.96761133603239,
          -29.90731669983163,
          -27.19223280534652,
          -26.62173386399031,
          -30.93294861225611,
          -27.95520005804041,
          -23.55772630351188,
          -22.93310517728521,
          -24.09699700964495,
          -22.75941053980458,
          -26.61655272551273,
          -24.21471224578105,
          -17.7861909650924,
          -21.70929911699779,
          -17.00256607646908,
          -7.727015361178115,
          -11.52176411985593,
          0.5174745526186173,
          -0.4126384140029487,
          2.106360746453169,
          5.037907437421213,
          11.91150442477876,
          -5.566824644549763,
          -2.600081353174468,
          -1.255409582689335,
          8.008823745230409,
          7.179988553987028,
          10.79049879233837,
          12.17049369665649,
          14.40260952246795,
          11.33848884381339,
          9.766418042192603,
          13.38536395484624,
          17.47775728513464,
          11.97180318208603,
          18.44124289918554,
          18.16843231305428,
          12.6417508874268,
          11.4922765651142,
          21.43183753515857,
          19.05758113877659,
          17.19429807064964,
          14.24464251972609,
          14.73305223435184,
          11.89313843278601,
          19.65457846363327,
          16.19355476472914,
          23.50967078830162,
          29.84362709555511,
          33.75908908612181,
          30.64081537925966,
          36.03124858475613,
          29.00328012702658,
          30.38176088494437,
          32.93534805723053,
          39.79876060013046,
          40.11320503606697,
          50.39127519881634,
          56.23903155071492,
          54.01274874855128,
          55.84152339695863,
          54.63306047807724,
          64.31113949355843,
          57.85421826280623,
          52.68974662291077,
          55.68224686019231,
          60.21222688388819,
          54.88947804473904,
          48.55900821123812,
          59.03377069869661,
          49.48603151862464,
          60.42879120159733,
          63.332443574458,
          56.47094205002696,
          50.30054868208715,
          56.65608213263719,
          56.72815816637112,
          57.59524871974671,
          58.59646779063244,
          59.23911078980662,
          49.12755697984367,
          48.53067116885659,
          49.57276585617389,
          40.40251437551341,
          41.08861283643893,
          37.73483947681332,
          35.20653001381566,
          34.0927502402856,
          28.94868895942949,
          29.30384936603143,
          24.10657193605684,
          24.47332581947967,
          23.42381348875936,
          23.49674185463659,
          25.85122254455035,
          24.10918685892672,
          26.47195059186825,
          22.85337552742616,
          20.33107760836046,
          16.32878184461723,
          13.20386545251812,
          9.208065103850357,
          4.063304387180721,
          7.458213826525567,
          8.543595328855812,
          3.564920747181429,
          1.796180310515173,
          5.280497045006818,
          3.912657840695591,
          2.668803945745993,
          0.5845922784698293,
          9.247801291741101,
          4.112222685378167,
          7.974489193338846,
          9.222834305465543,
          5.933731208828332,
          6.107557139730483,
          1.721540233025625,
          4.721241385178253,
          5.822191546703477,
          7.572663975191623,
          7.438488834865804,
          7.163344833133726,
          6.45071993510444,
          8.000346860908778,
          7.076562873842158,
          13.73455800764394,
          12.75780094324847,
          15.22453354692801,
          10.1583864831599,
          13.75713620081338,
          16.48200853259252,
          19.08385688357512,
          20.66176289396515,
          14.05657364458976,
          5.704196816208395,
          16.50299923655797,
          -1.079049825666405,
          -3.439168421052632,
          -1.28415735359857,
          2.932855042274231,
          2.40925
         ],
         "yaxis": "y"
        },
        {
         "hovertemplate": "full=A1 & A2 -  geschreddert<br>date=%{x}<br>wPreis=%{y}<extra></extra>",
         "legendgroup": "A1 & A2 -  geschreddert",
         "line": {
          "color": "#EF553B",
          "dash": "solid"
         },
         "marker": {
          "symbol": "circle"
         },
         "mode": "lines",
         "name": "A1 & A2 -  geschreddert",
         "orientation": "v",
         "showlegend": true,
         "type": "scatter",
         "x": [
          "2020-09-14T00:00:00",
          "2020-09-28T00:00:00",
          "2020-10-12T00:00:00",
          "2020-10-19T00:00:00",
          "2020-10-26T00:00:00",
          "2020-11-02T00:00:00",
          "2020-11-09T00:00:00",
          "2020-11-16T00:00:00",
          "2020-11-23T00:00:00",
          "2020-11-30T00:00:00",
          "2020-12-07T00:00:00",
          "2020-12-14T00:00:00",
          "2020-12-21T00:00:00",
          "2020-12-28T00:00:00",
          "2021-01-04T00:00:00",
          "2021-01-04T00:00:00",
          "2021-01-11T00:00:00",
          "2021-01-18T00:00:00",
          "2021-01-25T00:00:00",
          "2021-02-01T00:00:00",
          "2021-02-08T00:00:00",
          "2021-02-15T00:00:00",
          "2021-02-22T00:00:00",
          "2021-03-01T00:00:00",
          "2021-03-08T00:00:00",
          "2021-03-15T00:00:00",
          "2021-03-22T00:00:00",
          "2021-03-29T00:00:00",
          "2021-04-05T00:00:00",
          "2021-04-12T00:00:00",
          "2021-04-19T00:00:00",
          "2021-04-26T00:00:00",
          "2021-05-03T00:00:00",
          "2021-05-10T00:00:00",
          "2021-05-17T00:00:00",
          "2021-05-24T00:00:00",
          "2021-05-31T00:00:00",
          "2021-06-07T00:00:00",
          "2021-06-14T00:00:00",
          "2021-06-21T00:00:00",
          "2021-06-28T00:00:00",
          "2021-07-05T00:00:00",
          "2021-07-12T00:00:00",
          "2021-07-19T00:00:00",
          "2021-07-26T00:00:00",
          "2021-08-02T00:00:00",
          "2021-08-09T00:00:00",
          "2021-08-16T00:00:00",
          "2021-08-23T00:00:00",
          "2021-08-30T00:00:00",
          "2021-09-06T00:00:00",
          "2021-09-13T00:00:00",
          "2021-09-20T00:00:00",
          "2021-09-27T00:00:00",
          "2021-10-04T00:00:00",
          "2021-10-11T00:00:00",
          "2021-10-18T00:00:00",
          "2021-10-25T00:00:00",
          "2021-11-01T00:00:00",
          "2021-11-08T00:00:00",
          "2021-11-15T00:00:00",
          "2021-11-22T00:00:00",
          "2021-11-29T00:00:00",
          "2021-12-06T00:00:00",
          "2021-12-13T00:00:00",
          "2021-12-20T00:00:00",
          "2021-12-27T00:00:00",
          "2022-01-03T00:00:00",
          "2022-01-10T00:00:00",
          "2022-01-17T00:00:00",
          "2022-01-24T00:00:00",
          "2022-01-31T00:00:00",
          "2022-02-07T00:00:00",
          "2022-02-14T00:00:00",
          "2022-02-21T00:00:00",
          "2022-02-28T00:00:00",
          "2022-03-07T00:00:00",
          "2022-03-14T00:00:00",
          "2022-03-21T00:00:00",
          "2022-03-28T00:00:00",
          "2022-04-04T00:00:00",
          "2022-04-11T00:00:00",
          "2022-04-18T00:00:00",
          "2022-04-25T00:00:00",
          "2022-05-02T00:00:00",
          "2022-05-09T00:00:00",
          "2022-05-16T00:00:00",
          "2022-05-23T00:00:00",
          "2022-05-30T00:00:00",
          "2022-06-06T00:00:00",
          "2022-06-13T00:00:00",
          "2022-06-20T00:00:00",
          "2022-06-27T00:00:00",
          "2022-07-04T00:00:00",
          "2022-07-11T00:00:00",
          "2022-07-18T00:00:00",
          "2022-07-25T00:00:00",
          "2022-08-01T00:00:00",
          "2022-08-08T00:00:00",
          "2022-08-15T00:00:00",
          "2022-08-22T00:00:00",
          "2022-08-29T00:00:00",
          "2022-09-05T00:00:00",
          "2022-09-12T00:00:00",
          "2022-09-19T00:00:00",
          "2022-09-26T00:00:00",
          "2022-10-03T00:00:00",
          "2022-10-10T00:00:00",
          "2022-10-17T00:00:00",
          "2022-10-24T00:00:00",
          "2022-10-31T00:00:00",
          "2022-11-07T00:00:00",
          "2022-11-14T00:00:00",
          "2022-11-21T00:00:00",
          "2022-11-28T00:00:00",
          "2022-12-05T00:00:00",
          "2022-12-12T00:00:00",
          "2022-12-19T00:00:00",
          "2022-12-26T00:00:00",
          "2023-01-02T00:00:00",
          "2023-01-09T00:00:00",
          "2023-01-16T00:00:00",
          "2023-01-23T00:00:00",
          "2023-01-30T00:00:00",
          "2023-02-06T00:00:00",
          "2023-02-13T00:00:00",
          "2023-02-20T00:00:00",
          "2023-02-27T00:00:00",
          "2023-03-06T00:00:00",
          "2023-03-13T00:00:00",
          "2023-03-20T00:00:00",
          "2023-03-27T00:00:00",
          "2023-04-03T00:00:00",
          "2023-04-17T00:00:00",
          "2023-04-24T00:00:00",
          "2023-05-01T00:00:00",
          "2023-05-08T00:00:00",
          "2023-05-15T00:00:00",
          "2023-05-22T00:00:00",
          "2023-05-29T00:00:00",
          "2023-06-05T00:00:00",
          "2023-06-12T00:00:00",
          "2023-06-19T00:00:00",
          "2023-06-26T00:00:00",
          "2023-07-03T00:00:00",
          "2023-07-10T00:00:00",
          "2023-07-17T00:00:00",
          "2023-07-24T00:00:00",
          "2023-07-31T00:00:00",
          "2023-08-07T00:00:00",
          "2023-08-14T00:00:00",
          "2023-08-21T00:00:00",
          "2023-08-28T00:00:00",
          "2023-09-04T00:00:00",
          "2023-09-11T00:00:00",
          "2023-09-18T00:00:00",
          "2023-09-25T00:00:00",
          "2023-10-02T00:00:00",
          "2023-10-09T00:00:00",
          "2023-10-16T00:00:00",
          "2023-10-23T00:00:00",
          "2023-10-30T00:00:00",
          "2023-11-06T00:00:00",
          "2023-11-13T00:00:00",
          "2023-11-20T00:00:00",
          "2023-11-27T00:00:00",
          "2023-12-04T00:00:00",
          "2023-12-11T00:00:00",
          "2023-12-18T00:00:00",
          "2023-12-25T00:00:00",
          "2024-01-01T00:00:00",
          "2024-01-08T00:00:00",
          "2024-01-15T00:00:00",
          "2024-01-22T00:00:00",
          "2024-01-29T00:00:00",
          "2024-02-05T00:00:00",
          "2024-02-12T00:00:00",
          "2024-02-19T00:00:00",
          "2024-02-26T00:00:00",
          "2024-03-04T00:00:00",
          "2024-03-11T00:00:00",
          "2024-03-18T00:00:00",
          "2024-03-25T00:00:00",
          "2024-04-01T00:00:00",
          "2024-04-08T00:00:00",
          "2024-04-15T00:00:00",
          "2024-04-22T00:00:00"
         ],
         "xaxis": "x",
         "y": [
          -37.51931787903011,
          -28.69009584664536,
          -29.68807862127902,
          -25.63043340313471,
          -29.07379398185002,
          -24.93642601939545,
          -35.26209517327435,
          -28.06563229247695,
          -28.47266599437397,
          -28.21685812953696,
          -29.185208152466,
          -32.36064526025155,
          -20.27214677298779,
          -18.80845202902445,
          -23.58340466509737,
          -35.43666563179137,
          -23.06625847364968,
          -22.9978423364414,
          -31.41962305986696,
          -25.46027348815278,
          -23.68194297273865,
          -21.47771258898866,
          -27.02904784591303,
          -24.8227644420997,
          -23.2552095419316,
          -25.32197924014915,
          -22.30413020777069,
          -23.38024324324324,
          -25.1701500239596,
          -20.85821571439354,
          -23.60348981053454,
          -24.86044273339749,
          -23.64540854855762,
          -25.72826243173325,
          -20.17778382793357,
          -26.36851112378779,
          -21.90534062108766,
          -23.64226890984698,
          -25.04513086536194,
          -24.65590186506446,
          -21.77319638173216,
          -24.946143097364,
          -23.90837982230881,
          -25.23754357455508,
          -19.73324755023261,
          -24.54094226048357,
          -24.73818078129455,
          -22.97021231271746,
          -19.21154855643044,
          -16.66741516966068,
          -26.54786464860696,
          -22.45099312573258,
          -22.93310517728521,
          -23.38212367352286,
          -23.28028169014084,
          -26.65816299012998,
          -22.07703349282297,
          -17.7861909650924,
          -18.98931101366167,
          -7.411272845481473,
          -6.211318824404762,
          -1.980352874217417,
          1.612151480417405,
          0.4808409951325044,
          1.990702339323955,
          5.500217813155913,
          10.8484692753836,
          -5.714546148302031,
          -2.600081353174468,
          -0.3074132520723367,
          8.006888946177423,
          7.293524453523044,
          11.68442769602362,
          11.88464343671936,
          14.97326405422817,
          14.46308047303143,
          12.9927654406662,
          15.55561410341588,
          17.64510071696825,
          12.42782903512672,
          17.67161689182559,
          18.16843231305428,
          13.76791370779073,
          11.4922765651142,
          21.43183753515857,
          19.05758113877659,
          19.05638567196337,
          14.24464251972609,
          14.73305223435184,
          11.89313843278601,
          20.35194190636108,
          17.20689191370312,
          23.50967078830162,
          29.84362709555511,
          33.86629630256941,
          33.07728872600603,
          40.82938591374013,
          30.46845158950805,
          34.17840320986218,
          32.93534805723053,
          39.79876060013046,
          40.11320503606697,
          50.39127519881634,
          56.23903155071492,
          54.01274874855128,
          55.84152339695863,
          54.63306047807724,
          64.31113949355843,
          56.73685274059106,
          54.33210720823401,
          56.26605180706942,
          60.67509343853821,
          54.88947804473904,
          54.90472829922372,
          59.03377069869661,
          49.48603151862464,
          60.42879120159733,
          63.332443574458,
          56.47094205002696,
          53.84036451567778,
          60.88049388309923,
          61.0373179408014,
          59.19415192720581,
          58.59646779063244,
          64.03122333533486,
          51.53310595597148,
          50.49505390685783,
          52.3615097441518,
          42.26412038400377,
          41.08861283643893,
          38.87791512680005,
          35.20653001381566,
          34.0927502402856,
          28.94868895942949,
          31.31003406187907,
          24.10657193605684,
          24.47332581947967,
          26.67494884536685,
          27.48701353998126,
          34.4725384825576,
          34.00318809776833,
          27.24864539434076,
          25.67309830960853,
          22.50169058531822,
          18.645193571807,
          29.45206399865619,
          16.84723416451705,
          4.063304387180721,
          7.458213826525567,
          8.543595328855812,
          3.564920747181429,
          3.716006247944756,
          6.845444887880787,
          3.912657840695591,
          2.668803945745993,
          0.5845922784698293,
          9.247801291741101,
          6.288847410172656,
          14.8714204591547,
          13.15630472854641,
          8.469702311993151,
          7.548053474364627,
          3.856341230175198,
          4.721241385178253,
          5.178348481821815,
          8.151755585955314,
          8.300397865479985,
          8.046311412025501,
          6.45071993510444,
          8.000346860908778,
          8.17586025742054,
          15.2299272164594,
          13.62098325554943,
          15.22453354692801,
          14.94494128274616,
          13.75713620081338,
          17.34321268423742,
          19.08385688357512,
          22.15590366581415,
          14.05657364458976,
          5.704196816208395,
          21.77178067233445,
          5.372211267352691,
          -2.297377039524063,
          1.815279903342731,
          5.515964309465752,
          10.97189655172414
         ],
         "yaxis": "y"
        },
        {
         "hovertemplate": "full=A2 & A3 -  geschreddert<br>date=%{x}<br>wPreis=%{y}<extra></extra>",
         "legendgroup": "A2 & A3 -  geschreddert",
         "line": {
          "color": "#00cc96",
          "dash": "solid"
         },
         "marker": {
          "symbol": "circle"
         },
         "mode": "lines",
         "name": "A2 & A3 -  geschreddert",
         "orientation": "v",
         "showlegend": true,
         "type": "scatter",
         "x": [
          "2020-09-14T00:00:00",
          "2020-09-21T00:00:00",
          "2020-09-28T00:00:00",
          "2020-10-05T00:00:00",
          "2020-10-12T00:00:00",
          "2020-10-19T00:00:00",
          "2020-10-26T00:00:00",
          "2020-11-02T00:00:00",
          "2020-11-09T00:00:00",
          "2020-11-16T00:00:00",
          "2020-11-23T00:00:00",
          "2020-11-30T00:00:00",
          "2020-12-07T00:00:00",
          "2020-12-14T00:00:00",
          "2020-12-21T00:00:00",
          "2020-12-28T00:00:00",
          "2021-01-04T00:00:00",
          "2021-01-04T00:00:00",
          "2021-01-11T00:00:00",
          "2021-01-18T00:00:00",
          "2021-01-25T00:00:00",
          "2021-02-01T00:00:00",
          "2021-02-08T00:00:00",
          "2021-02-15T00:00:00",
          "2021-02-22T00:00:00",
          "2021-03-01T00:00:00",
          "2021-03-08T00:00:00",
          "2021-03-15T00:00:00",
          "2021-03-22T00:00:00",
          "2021-03-29T00:00:00",
          "2021-04-05T00:00:00",
          "2021-04-12T00:00:00",
          "2021-04-19T00:00:00",
          "2021-04-26T00:00:00",
          "2021-05-03T00:00:00",
          "2021-05-10T00:00:00",
          "2021-05-17T00:00:00",
          "2021-05-24T00:00:00",
          "2021-05-31T00:00:00",
          "2021-06-07T00:00:00",
          "2021-06-14T00:00:00",
          "2021-06-21T00:00:00",
          "2021-06-28T00:00:00",
          "2021-07-05T00:00:00",
          "2021-07-12T00:00:00",
          "2021-07-19T00:00:00",
          "2021-07-26T00:00:00",
          "2021-08-02T00:00:00",
          "2021-08-09T00:00:00",
          "2021-08-16T00:00:00",
          "2021-08-23T00:00:00",
          "2021-08-30T00:00:00",
          "2021-09-06T00:00:00",
          "2021-09-13T00:00:00",
          "2021-09-20T00:00:00",
          "2021-09-27T00:00:00",
          "2021-10-04T00:00:00",
          "2021-10-11T00:00:00",
          "2021-10-18T00:00:00",
          "2021-10-25T00:00:00",
          "2021-11-01T00:00:00",
          "2021-11-08T00:00:00",
          "2021-11-15T00:00:00",
          "2021-11-22T00:00:00",
          "2021-11-29T00:00:00",
          "2021-12-06T00:00:00",
          "2021-12-13T00:00:00",
          "2021-12-20T00:00:00",
          "2021-12-27T00:00:00",
          "2022-01-03T00:00:00",
          "2022-01-10T00:00:00",
          "2022-01-17T00:00:00",
          "2022-01-24T00:00:00",
          "2022-01-31T00:00:00",
          "2022-02-07T00:00:00",
          "2022-02-14T00:00:00",
          "2022-02-21T00:00:00",
          "2022-02-28T00:00:00",
          "2022-03-07T00:00:00",
          "2022-03-14T00:00:00",
          "2022-03-21T00:00:00",
          "2022-03-28T00:00:00",
          "2022-04-04T00:00:00",
          "2022-04-11T00:00:00",
          "2022-04-18T00:00:00",
          "2022-04-25T00:00:00",
          "2022-05-02T00:00:00",
          "2022-05-09T00:00:00",
          "2022-05-16T00:00:00",
          "2022-05-23T00:00:00",
          "2022-05-30T00:00:00",
          "2022-06-06T00:00:00",
          "2022-06-13T00:00:00",
          "2022-06-20T00:00:00",
          "2022-06-27T00:00:00",
          "2022-07-04T00:00:00",
          "2022-07-11T00:00:00",
          "2022-07-18T00:00:00",
          "2022-07-25T00:00:00",
          "2022-08-01T00:00:00",
          "2022-08-08T00:00:00",
          "2022-08-15T00:00:00",
          "2022-08-22T00:00:00",
          "2022-08-29T00:00:00",
          "2022-09-05T00:00:00",
          "2022-09-12T00:00:00",
          "2022-09-19T00:00:00",
          "2022-09-26T00:00:00",
          "2022-10-03T00:00:00",
          "2022-10-10T00:00:00",
          "2022-10-17T00:00:00",
          "2022-10-24T00:00:00",
          "2022-10-31T00:00:00",
          "2022-11-07T00:00:00",
          "2022-11-14T00:00:00",
          "2022-11-21T00:00:00",
          "2022-11-28T00:00:00",
          "2022-12-05T00:00:00",
          "2022-12-12T00:00:00",
          "2022-12-19T00:00:00",
          "2022-12-26T00:00:00",
          "2023-01-02T00:00:00",
          "2023-01-09T00:00:00",
          "2023-01-16T00:00:00",
          "2023-01-23T00:00:00",
          "2023-01-30T00:00:00",
          "2023-02-06T00:00:00",
          "2023-02-13T00:00:00",
          "2023-02-20T00:00:00",
          "2023-02-27T00:00:00",
          "2023-03-06T00:00:00",
          "2023-03-13T00:00:00",
          "2023-03-20T00:00:00",
          "2023-03-27T00:00:00",
          "2023-04-03T00:00:00",
          "2023-04-17T00:00:00",
          "2023-04-24T00:00:00",
          "2023-05-01T00:00:00",
          "2023-05-08T00:00:00",
          "2023-05-15T00:00:00",
          "2023-05-22T00:00:00",
          "2023-05-29T00:00:00",
          "2023-06-05T00:00:00",
          "2023-06-12T00:00:00",
          "2023-06-19T00:00:00",
          "2023-06-26T00:00:00",
          "2023-07-03T00:00:00",
          "2023-07-10T00:00:00",
          "2023-07-17T00:00:00",
          "2023-07-24T00:00:00",
          "2023-07-31T00:00:00",
          "2023-08-07T00:00:00",
          "2023-08-14T00:00:00",
          "2023-08-21T00:00:00",
          "2023-08-28T00:00:00",
          "2023-09-04T00:00:00",
          "2023-09-11T00:00:00",
          "2023-09-18T00:00:00",
          "2023-09-25T00:00:00",
          "2023-10-02T00:00:00",
          "2023-10-09T00:00:00",
          "2023-10-16T00:00:00",
          "2023-10-23T00:00:00",
          "2023-10-30T00:00:00",
          "2023-11-06T00:00:00",
          "2023-11-13T00:00:00",
          "2023-11-20T00:00:00",
          "2023-11-27T00:00:00",
          "2023-12-04T00:00:00",
          "2023-12-11T00:00:00",
          "2023-12-18T00:00:00",
          "2023-12-25T00:00:00",
          "2024-01-01T00:00:00",
          "2024-01-08T00:00:00",
          "2024-01-15T00:00:00",
          "2024-01-22T00:00:00",
          "2024-01-29T00:00:00",
          "2024-02-05T00:00:00",
          "2024-02-12T00:00:00",
          "2024-02-19T00:00:00",
          "2024-02-26T00:00:00",
          "2024-03-04T00:00:00",
          "2024-03-11T00:00:00",
          "2024-03-18T00:00:00",
          "2024-03-25T00:00:00",
          "2024-04-01T00:00:00",
          "2024-04-08T00:00:00",
          "2024-04-15T00:00:00",
          "2024-04-22T00:00:00"
         ],
         "xaxis": "x",
         "y": [
          -27.98387698738524,
          -27.49502376042321,
          -29.0924416579589,
          -29.85622119815669,
          -30.55288243304585,
          -26.67094252643182,
          -29.64624152890805,
          -30.1276529952492,
          -33.64018436400971,
          -30.05225414677945,
          -33.53337468249749,
          -29.93670773076238,
          -32.67812781801786,
          -33.30240620547729,
          -29.0591767604188,
          -28.84409519533004,
          -27.59124857931482,
          -30.11998123827392,
          -30.12254785164006,
          -24.01108919733562,
          -25.60807181227029,
          -25.53766139228382,
          -26.33411023350167,
          -23.24381522192849,
          -27.01600331579493,
          -26.25611570875408,
          -23.02171168896743,
          -24.79968155103378,
          -25.18443739223868,
          -25.41551973051011,
          -26.01352806995311,
          -26.46078746669117,
          -25.60033519553073,
          -26.35408447194651,
          -28.37931186202042,
          -27.76990573990344,
          -26.62505984542782,
          -29.66626605098362,
          -28.9832150597034,
          -28.30585269223844,
          -27.58978936094252,
          -27.98026067520102,
          -26.99755640356163,
          -29.31753907930589,
          -27.19672304068071,
          -27.85631829237304,
          -25.04087521038711,
          -29.96761133603239,
          -29.90731669983163,
          -27.19223280534652,
          -26.62173386399031,
          -30.93294861225611,
          -27.95520005804041,
          -23.55772630351188,
          -22.93310517728521,
          -24.09699700964495,
          -22.75941053980458,
          -26.61655272551273,
          -20.92252742042545,
          -17.50742695201798,
          -10.24990617963473,
          -7.606784519828,
          -7.727015361178115,
          -11.52176411985593,
          0.5174745526186173,
          -0.4126384140029487,
          2.106360746453169,
          5.037907437421213,
          11.91150442477876,
          -5.566824644549763,
          -2.600081353174468,
          -1.255409582689335,
          8.008823745230409,
          7.179988553987028,
          11.40877554679096,
          12.2701169047554,
          14.40260952246795,
          11.86911521674647,
          10.52400701866327,
          12.97877490878473,
          15.69182099860451,
          12.08136004857317,
          18.05479123340266,
          18.16843231305428,
          12.6417508874268,
          13.07177995465628,
          21.43183753515857,
          19.05758113877659,
          17.29426573426573,
          14.24464251972609,
          14.73305223435184,
          11.89313843278601,
          19.65457846363327,
          16.19355476472914,
          23.50967078830162,
          29.84362709555511,
          33.75908908612181,
          30.64081537925966,
          36.03124858475613,
          29.00328012702658,
          30.38176088494437,
          32.93534805723053,
          39.79876060013046,
          40.11320503606697,
          49.93984197928361,
          54.76509211147847,
          54.01274874855128,
          55.84152339695863,
          54.63306047807724,
          64.31113949355843,
          55.88587553176891,
          50.8584074655503,
          55.68224686019231,
          60.21222688388819,
          54.88947804473904,
          48.55900821123812,
          59.03377069869661,
          49.48603151862464,
          60.42879120159733,
          63.332443574458,
          56.47094205002696,
          50.30054868208715,
          56.65608213263719,
          56.72815816637112,
          57.59524871974671,
          58.59646779063244,
          59.23911078980662,
          49.12755697984367,
          48.53067116885659,
          49.57276585617389,
          40.40251437551341,
          41.08861283643893,
          37.73483947681332,
          35.20653001381566,
          34.0927502402856,
          28.94868895942949,
          29.30384936603143,
          24.10657193605684,
          24.47332581947967,
          23.42381348875936,
          23.49674185463659,
          25.85122254455035,
          24.10918685892672,
          26.47195059186825,
          22.85337552742616,
          18.86769001305077,
          16.32878184461723,
          15.63313428265197,
          9.58521599040875,
          4.063304387180721,
          7.458213826525567,
          8.543595328855812,
          3.564920747181429,
          1.796180310515173,
          5.280497045006818,
          3.912657840695591,
          2.668803945745993,
          0.5845922784698293,
          9.247801291741101,
          4.112222685378167,
          7.974489193338846,
          9.222834305465543,
          5.933731208828332,
          6.107557139730483,
          1.721540233025625,
          4.721241385178253,
          5.822191546703477,
          7.572663975191623,
          7.438488834865804,
          7.163344833133726,
          6.45071993510444,
          8.000346860908778,
          7.076562873842158,
          13.73455800764394,
          12.75780094324847,
          15.22453354692801,
          10.1583864831599,
          13.75713620081338,
          16.48200853259252,
          19.08385688357512,
          20.66176289396515,
          14.05657364458976,
          -1.599194880264244,
          6.763373145132102,
          -1.528584611441022,
          -3.439168421052632,
          -2.415987203674842,
          2.932855042274231,
          -4.556575342465752
         ],
         "yaxis": "y"
        }
       ],
       "layout": {
        "legend": {
         "title": {
          "text": "full"
         },
         "tracegroupgap": 0
        },
        "template": {
         "data": {
          "bar": [
           {
            "error_x": {
             "color": "#2a3f5f"
            },
            "error_y": {
             "color": "#2a3f5f"
            },
            "marker": {
             "line": {
              "color": "#E5ECF6",
              "width": 0.5
             },
             "pattern": {
              "fillmode": "overlay",
              "size": 10,
              "solidity": 0.2
             }
            },
            "type": "bar"
           }
          ],
          "barpolar": [
           {
            "marker": {
             "line": {
              "color": "#E5ECF6",
              "width": 0.5
             },
             "pattern": {
              "fillmode": "overlay",
              "size": 10,
              "solidity": 0.2
             }
            },
            "type": "barpolar"
           }
          ],
          "carpet": [
           {
            "aaxis": {
             "endlinecolor": "#2a3f5f",
             "gridcolor": "white",
             "linecolor": "white",
             "minorgridcolor": "white",
             "startlinecolor": "#2a3f5f"
            },
            "baxis": {
             "endlinecolor": "#2a3f5f",
             "gridcolor": "white",
             "linecolor": "white",
             "minorgridcolor": "white",
             "startlinecolor": "#2a3f5f"
            },
            "type": "carpet"
           }
          ],
          "choropleth": [
           {
            "colorbar": {
             "outlinewidth": 0,
             "ticks": ""
            },
            "type": "choropleth"
           }
          ],
          "contour": [
           {
            "colorbar": {
             "outlinewidth": 0,
             "ticks": ""
            },
            "colorscale": [
             [
              0,
              "#0d0887"
             ],
             [
              0.1111111111111111,
              "#46039f"
             ],
             [
              0.2222222222222222,
              "#7201a8"
             ],
             [
              0.3333333333333333,
              "#9c179e"
             ],
             [
              0.4444444444444444,
              "#bd3786"
             ],
             [
              0.5555555555555556,
              "#d8576b"
             ],
             [
              0.6666666666666666,
              "#ed7953"
             ],
             [
              0.7777777777777778,
              "#fb9f3a"
             ],
             [
              0.8888888888888888,
              "#fdca26"
             ],
             [
              1,
              "#f0f921"
             ]
            ],
            "type": "contour"
           }
          ],
          "contourcarpet": [
           {
            "colorbar": {
             "outlinewidth": 0,
             "ticks": ""
            },
            "type": "contourcarpet"
           }
          ],
          "heatmap": [
           {
            "colorbar": {
             "outlinewidth": 0,
             "ticks": ""
            },
            "colorscale": [
             [
              0,
              "#0d0887"
             ],
             [
              0.1111111111111111,
              "#46039f"
             ],
             [
              0.2222222222222222,
              "#7201a8"
             ],
             [
              0.3333333333333333,
              "#9c179e"
             ],
             [
              0.4444444444444444,
              "#bd3786"
             ],
             [
              0.5555555555555556,
              "#d8576b"
             ],
             [
              0.6666666666666666,
              "#ed7953"
             ],
             [
              0.7777777777777778,
              "#fb9f3a"
             ],
             [
              0.8888888888888888,
              "#fdca26"
             ],
             [
              1,
              "#f0f921"
             ]
            ],
            "type": "heatmap"
           }
          ],
          "heatmapgl": [
           {
            "colorbar": {
             "outlinewidth": 0,
             "ticks": ""
            },
            "colorscale": [
             [
              0,
              "#0d0887"
             ],
             [
              0.1111111111111111,
              "#46039f"
             ],
             [
              0.2222222222222222,
              "#7201a8"
             ],
             [
              0.3333333333333333,
              "#9c179e"
             ],
             [
              0.4444444444444444,
              "#bd3786"
             ],
             [
              0.5555555555555556,
              "#d8576b"
             ],
             [
              0.6666666666666666,
              "#ed7953"
             ],
             [
              0.7777777777777778,
              "#fb9f3a"
             ],
             [
              0.8888888888888888,
              "#fdca26"
             ],
             [
              1,
              "#f0f921"
             ]
            ],
            "type": "heatmapgl"
           }
          ],
          "histogram": [
           {
            "marker": {
             "pattern": {
              "fillmode": "overlay",
              "size": 10,
              "solidity": 0.2
             }
            },
            "type": "histogram"
           }
          ],
          "histogram2d": [
           {
            "colorbar": {
             "outlinewidth": 0,
             "ticks": ""
            },
            "colorscale": [
             [
              0,
              "#0d0887"
             ],
             [
              0.1111111111111111,
              "#46039f"
             ],
             [
              0.2222222222222222,
              "#7201a8"
             ],
             [
              0.3333333333333333,
              "#9c179e"
             ],
             [
              0.4444444444444444,
              "#bd3786"
             ],
             [
              0.5555555555555556,
              "#d8576b"
             ],
             [
              0.6666666666666666,
              "#ed7953"
             ],
             [
              0.7777777777777778,
              "#fb9f3a"
             ],
             [
              0.8888888888888888,
              "#fdca26"
             ],
             [
              1,
              "#f0f921"
             ]
            ],
            "type": "histogram2d"
           }
          ],
          "histogram2dcontour": [
           {
            "colorbar": {
             "outlinewidth": 0,
             "ticks": ""
            },
            "colorscale": [
             [
              0,
              "#0d0887"
             ],
             [
              0.1111111111111111,
              "#46039f"
             ],
             [
              0.2222222222222222,
              "#7201a8"
             ],
             [
              0.3333333333333333,
              "#9c179e"
             ],
             [
              0.4444444444444444,
              "#bd3786"
             ],
             [
              0.5555555555555556,
              "#d8576b"
             ],
             [
              0.6666666666666666,
              "#ed7953"
             ],
             [
              0.7777777777777778,
              "#fb9f3a"
             ],
             [
              0.8888888888888888,
              "#fdca26"
             ],
             [
              1,
              "#f0f921"
             ]
            ],
            "type": "histogram2dcontour"
           }
          ],
          "mesh3d": [
           {
            "colorbar": {
             "outlinewidth": 0,
             "ticks": ""
            },
            "type": "mesh3d"
           }
          ],
          "parcoords": [
           {
            "line": {
             "colorbar": {
              "outlinewidth": 0,
              "ticks": ""
             }
            },
            "type": "parcoords"
           }
          ],
          "pie": [
           {
            "automargin": true,
            "type": "pie"
           }
          ],
          "scatter": [
           {
            "fillpattern": {
             "fillmode": "overlay",
             "size": 10,
             "solidity": 0.2
            },
            "type": "scatter"
           }
          ],
          "scatter3d": [
           {
            "line": {
             "colorbar": {
              "outlinewidth": 0,
              "ticks": ""
             }
            },
            "marker": {
             "colorbar": {
              "outlinewidth": 0,
              "ticks": ""
             }
            },
            "type": "scatter3d"
           }
          ],
          "scattercarpet": [
           {
            "marker": {
             "colorbar": {
              "outlinewidth": 0,
              "ticks": ""
             }
            },
            "type": "scattercarpet"
           }
          ],
          "scattergeo": [
           {
            "marker": {
             "colorbar": {
              "outlinewidth": 0,
              "ticks": ""
             }
            },
            "type": "scattergeo"
           }
          ],
          "scattergl": [
           {
            "marker": {
             "colorbar": {
              "outlinewidth": 0,
              "ticks": ""
             }
            },
            "type": "scattergl"
           }
          ],
          "scattermapbox": [
           {
            "marker": {
             "colorbar": {
              "outlinewidth": 0,
              "ticks": ""
             }
            },
            "type": "scattermapbox"
           }
          ],
          "scatterpolar": [
           {
            "marker": {
             "colorbar": {
              "outlinewidth": 0,
              "ticks": ""
             }
            },
            "type": "scatterpolar"
           }
          ],
          "scatterpolargl": [
           {
            "marker": {
             "colorbar": {
              "outlinewidth": 0,
              "ticks": ""
             }
            },
            "type": "scatterpolargl"
           }
          ],
          "scatterternary": [
           {
            "marker": {
             "colorbar": {
              "outlinewidth": 0,
              "ticks": ""
             }
            },
            "type": "scatterternary"
           }
          ],
          "surface": [
           {
            "colorbar": {
             "outlinewidth": 0,
             "ticks": ""
            },
            "colorscale": [
             [
              0,
              "#0d0887"
             ],
             [
              0.1111111111111111,
              "#46039f"
             ],
             [
              0.2222222222222222,
              "#7201a8"
             ],
             [
              0.3333333333333333,
              "#9c179e"
             ],
             [
              0.4444444444444444,
              "#bd3786"
             ],
             [
              0.5555555555555556,
              "#d8576b"
             ],
             [
              0.6666666666666666,
              "#ed7953"
             ],
             [
              0.7777777777777778,
              "#fb9f3a"
             ],
             [
              0.8888888888888888,
              "#fdca26"
             ],
             [
              1,
              "#f0f921"
             ]
            ],
            "type": "surface"
           }
          ],
          "table": [
           {
            "cells": {
             "fill": {
              "color": "#EBF0F8"
             },
             "line": {
              "color": "white"
             }
            },
            "header": {
             "fill": {
              "color": "#C8D4E3"
             },
             "line": {
              "color": "white"
             }
            },
            "type": "table"
           }
          ]
         },
         "layout": {
          "annotationdefaults": {
           "arrowcolor": "#2a3f5f",
           "arrowhead": 0,
           "arrowwidth": 1
          },
          "autotypenumbers": "strict",
          "coloraxis": {
           "colorbar": {
            "outlinewidth": 0,
            "ticks": ""
           }
          },
          "colorscale": {
           "diverging": [
            [
             0,
             "#8e0152"
            ],
            [
             0.1,
             "#c51b7d"
            ],
            [
             0.2,
             "#de77ae"
            ],
            [
             0.3,
             "#f1b6da"
            ],
            [
             0.4,
             "#fde0ef"
            ],
            [
             0.5,
             "#f7f7f7"
            ],
            [
             0.6,
             "#e6f5d0"
            ],
            [
             0.7,
             "#b8e186"
            ],
            [
             0.8,
             "#7fbc41"
            ],
            [
             0.9,
             "#4d9221"
            ],
            [
             1,
             "#276419"
            ]
           ],
           "sequential": [
            [
             0,
             "#0d0887"
            ],
            [
             0.1111111111111111,
             "#46039f"
            ],
            [
             0.2222222222222222,
             "#7201a8"
            ],
            [
             0.3333333333333333,
             "#9c179e"
            ],
            [
             0.4444444444444444,
             "#bd3786"
            ],
            [
             0.5555555555555556,
             "#d8576b"
            ],
            [
             0.6666666666666666,
             "#ed7953"
            ],
            [
             0.7777777777777778,
             "#fb9f3a"
            ],
            [
             0.8888888888888888,
             "#fdca26"
            ],
            [
             1,
             "#f0f921"
            ]
           ],
           "sequentialminus": [
            [
             0,
             "#0d0887"
            ],
            [
             0.1111111111111111,
             "#46039f"
            ],
            [
             0.2222222222222222,
             "#7201a8"
            ],
            [
             0.3333333333333333,
             "#9c179e"
            ],
            [
             0.4444444444444444,
             "#bd3786"
            ],
            [
             0.5555555555555556,
             "#d8576b"
            ],
            [
             0.6666666666666666,
             "#ed7953"
            ],
            [
             0.7777777777777778,
             "#fb9f3a"
            ],
            [
             0.8888888888888888,
             "#fdca26"
            ],
            [
             1,
             "#f0f921"
            ]
           ]
          },
          "colorway": [
           "#636efa",
           "#EF553B",
           "#00cc96",
           "#ab63fa",
           "#FFA15A",
           "#19d3f3",
           "#FF6692",
           "#B6E880",
           "#FF97FF",
           "#FECB52"
          ],
          "font": {
           "color": "#2a3f5f"
          },
          "geo": {
           "bgcolor": "white",
           "lakecolor": "white",
           "landcolor": "#E5ECF6",
           "showlakes": true,
           "showland": true,
           "subunitcolor": "white"
          },
          "hoverlabel": {
           "align": "left"
          },
          "hovermode": "closest",
          "mapbox": {
           "style": "light"
          },
          "paper_bgcolor": "white",
          "plot_bgcolor": "#E5ECF6",
          "polar": {
           "angularaxis": {
            "gridcolor": "white",
            "linecolor": "white",
            "ticks": ""
           },
           "bgcolor": "#E5ECF6",
           "radialaxis": {
            "gridcolor": "white",
            "linecolor": "white",
            "ticks": ""
           }
          },
          "scene": {
           "xaxis": {
            "backgroundcolor": "#E5ECF6",
            "gridcolor": "white",
            "gridwidth": 2,
            "linecolor": "white",
            "showbackground": true,
            "ticks": "",
            "zerolinecolor": "white"
           },
           "yaxis": {
            "backgroundcolor": "#E5ECF6",
            "gridcolor": "white",
            "gridwidth": 2,
            "linecolor": "white",
            "showbackground": true,
            "ticks": "",
            "zerolinecolor": "white"
           },
           "zaxis": {
            "backgroundcolor": "#E5ECF6",
            "gridcolor": "white",
            "gridwidth": 2,
            "linecolor": "white",
            "showbackground": true,
            "ticks": "",
            "zerolinecolor": "white"
           }
          },
          "shapedefaults": {
           "line": {
            "color": "#2a3f5f"
           }
          },
          "ternary": {
           "aaxis": {
            "gridcolor": "white",
            "linecolor": "white",
            "ticks": ""
           },
           "baxis": {
            "gridcolor": "white",
            "linecolor": "white",
            "ticks": ""
           },
           "bgcolor": "#E5ECF6",
           "caxis": {
            "gridcolor": "white",
            "linecolor": "white",
            "ticks": ""
           }
          },
          "title": {
           "x": 0.05
          },
          "xaxis": {
           "automargin": true,
           "gridcolor": "white",
           "linecolor": "white",
           "ticks": "",
           "title": {
            "standoff": 15
           },
           "zerolinecolor": "white",
           "zerolinewidth": 2
          },
          "yaxis": {
           "automargin": true,
           "gridcolor": "white",
           "linecolor": "white",
           "ticks": "",
           "title": {
            "standoff": 15
           },
           "zerolinecolor": "white",
           "zerolinewidth": 2
          }
         }
        },
        "title": {
         "text": "Weekly Prices for ['25', '24'] by Category"
        },
        "xaxis": {
         "anchor": "y",
         "domain": [
          0,
          1
         ],
         "title": {
          "text": "date"
         }
        },
        "yaxis": {
         "anchor": "x",
         "domain": [
          0,
          1
         ],
         "title": {
          "text": "wPreis"
         }
        }
       }
      }
     },
     "metadata": {},
     "output_type": "display_data"
    },
    {
     "data": {
      "application/vnd.plotly.v1+json": {
       "config": {
        "plotlyServerURL": "https://plot.ly"
       },
       "data": [
        {
         "hovertemplate": "full=A3 -  geschreddert<br>date=%{x}<br>wPreis=%{y}<extra></extra>",
         "legendgroup": "A3 -  geschreddert",
         "line": {
          "color": "#636efa",
          "dash": "solid"
         },
         "marker": {
          "symbol": "circle"
         },
         "mode": "lines",
         "name": "A3 -  geschreddert",
         "orientation": "v",
         "showlegend": true,
         "type": "scatter",
         "x": [
          "2020-09-14T00:00:00",
          "2020-09-21T00:00:00",
          "2020-09-28T00:00:00",
          "2020-10-05T00:00:00",
          "2020-10-12T00:00:00",
          "2020-10-19T00:00:00",
          "2020-10-26T00:00:00",
          "2020-11-02T00:00:00",
          "2020-11-09T00:00:00",
          "2020-11-16T00:00:00",
          "2020-11-23T00:00:00",
          "2020-11-30T00:00:00",
          "2020-12-07T00:00:00",
          "2020-12-14T00:00:00",
          "2020-12-21T00:00:00",
          "2020-12-28T00:00:00",
          "2021-01-04T00:00:00",
          "2021-01-04T00:00:00",
          "2021-01-11T00:00:00",
          "2021-01-18T00:00:00",
          "2021-01-25T00:00:00",
          "2021-02-01T00:00:00",
          "2021-02-08T00:00:00",
          "2021-02-15T00:00:00",
          "2021-02-22T00:00:00",
          "2021-03-01T00:00:00",
          "2021-03-08T00:00:00",
          "2021-03-15T00:00:00",
          "2021-03-22T00:00:00",
          "2021-03-29T00:00:00",
          "2021-04-05T00:00:00",
          "2021-04-12T00:00:00",
          "2021-04-19T00:00:00",
          "2021-04-26T00:00:00",
          "2021-05-03T00:00:00",
          "2021-05-10T00:00:00",
          "2021-05-17T00:00:00",
          "2021-05-24T00:00:00",
          "2021-05-31T00:00:00",
          "2021-06-07T00:00:00",
          "2021-06-14T00:00:00",
          "2021-06-21T00:00:00",
          "2021-06-28T00:00:00",
          "2021-07-05T00:00:00",
          "2021-07-12T00:00:00",
          "2021-07-19T00:00:00",
          "2021-07-26T00:00:00",
          "2021-08-02T00:00:00",
          "2021-08-09T00:00:00",
          "2021-08-16T00:00:00",
          "2021-08-23T00:00:00",
          "2021-08-30T00:00:00",
          "2021-09-06T00:00:00",
          "2021-09-13T00:00:00",
          "2021-09-20T00:00:00",
          "2021-09-27T00:00:00",
          "2021-10-04T00:00:00",
          "2021-10-11T00:00:00",
          "2021-10-18T00:00:00",
          "2021-10-25T00:00:00",
          "2021-11-01T00:00:00",
          "2021-11-08T00:00:00",
          "2021-11-15T00:00:00",
          "2021-11-22T00:00:00",
          "2021-11-29T00:00:00",
          "2021-12-06T00:00:00",
          "2021-12-13T00:00:00",
          "2021-12-20T00:00:00",
          "2021-12-27T00:00:00",
          "2022-01-03T00:00:00",
          "2022-01-10T00:00:00",
          "2022-01-17T00:00:00",
          "2022-01-24T00:00:00",
          "2022-01-31T00:00:00",
          "2022-02-07T00:00:00",
          "2022-02-14T00:00:00",
          "2022-02-21T00:00:00",
          "2022-02-28T00:00:00",
          "2022-03-07T00:00:00",
          "2022-03-14T00:00:00",
          "2022-03-21T00:00:00",
          "2022-03-28T00:00:00",
          "2022-04-04T00:00:00",
          "2022-04-11T00:00:00",
          "2022-04-18T00:00:00",
          "2022-04-25T00:00:00",
          "2022-05-02T00:00:00",
          "2022-05-09T00:00:00",
          "2022-05-16T00:00:00",
          "2022-05-23T00:00:00",
          "2022-05-30T00:00:00",
          "2022-06-06T00:00:00",
          "2022-06-13T00:00:00",
          "2022-06-20T00:00:00",
          "2022-06-27T00:00:00",
          "2022-07-04T00:00:00",
          "2022-07-11T00:00:00",
          "2022-07-18T00:00:00",
          "2022-07-25T00:00:00",
          "2022-08-01T00:00:00",
          "2022-08-08T00:00:00",
          "2022-08-15T00:00:00",
          "2022-08-22T00:00:00",
          "2022-08-29T00:00:00",
          "2022-09-05T00:00:00",
          "2022-09-12T00:00:00",
          "2022-09-19T00:00:00",
          "2022-09-26T00:00:00",
          "2022-10-03T00:00:00",
          "2022-10-10T00:00:00",
          "2022-10-17T00:00:00",
          "2022-10-24T00:00:00",
          "2022-10-31T00:00:00",
          "2022-11-07T00:00:00",
          "2022-11-14T00:00:00",
          "2022-11-21T00:00:00",
          "2022-11-28T00:00:00",
          "2022-12-05T00:00:00",
          "2022-12-12T00:00:00",
          "2022-12-26T00:00:00",
          "2023-01-02T00:00:00",
          "2023-01-09T00:00:00",
          "2023-01-16T00:00:00",
          "2023-01-23T00:00:00",
          "2023-01-30T00:00:00",
          "2023-02-06T00:00:00",
          "2023-02-13T00:00:00",
          "2023-02-20T00:00:00",
          "2023-02-27T00:00:00",
          "2023-03-06T00:00:00",
          "2023-03-13T00:00:00",
          "2023-03-20T00:00:00",
          "2023-03-27T00:00:00",
          "2023-04-03T00:00:00",
          "2023-04-10T00:00:00",
          "2023-04-17T00:00:00",
          "2023-04-24T00:00:00",
          "2023-05-01T00:00:00",
          "2023-05-08T00:00:00",
          "2023-05-15T00:00:00",
          "2023-05-22T00:00:00",
          "2023-05-29T00:00:00",
          "2023-06-05T00:00:00",
          "2023-06-12T00:00:00",
          "2023-06-19T00:00:00",
          "2023-06-26T00:00:00",
          "2023-07-03T00:00:00",
          "2023-07-10T00:00:00",
          "2023-07-17T00:00:00",
          "2023-07-24T00:00:00",
          "2023-07-31T00:00:00",
          "2023-08-07T00:00:00",
          "2023-08-14T00:00:00",
          "2023-08-21T00:00:00",
          "2023-08-28T00:00:00",
          "2023-09-04T00:00:00",
          "2023-09-11T00:00:00",
          "2023-09-18T00:00:00",
          "2023-09-25T00:00:00",
          "2023-10-02T00:00:00",
          "2023-10-09T00:00:00",
          "2023-10-16T00:00:00",
          "2023-10-23T00:00:00",
          "2023-10-30T00:00:00",
          "2023-11-06T00:00:00",
          "2023-11-13T00:00:00",
          "2023-11-20T00:00:00",
          "2023-11-27T00:00:00",
          "2023-12-04T00:00:00",
          "2023-12-11T00:00:00",
          "2023-12-25T00:00:00",
          "2024-01-01T00:00:00",
          "2024-01-08T00:00:00",
          "2024-01-15T00:00:00",
          "2024-01-22T00:00:00",
          "2024-01-29T00:00:00",
          "2024-02-05T00:00:00",
          "2024-02-12T00:00:00",
          "2024-02-19T00:00:00",
          "2024-02-26T00:00:00",
          "2024-03-04T00:00:00",
          "2024-03-11T00:00:00",
          "2024-03-18T00:00:00",
          "2024-03-25T00:00:00",
          "2024-04-01T00:00:00",
          "2024-04-08T00:00:00",
          "2024-04-15T00:00:00",
          "2024-04-22T00:00:00"
         ],
         "xaxis": "x",
         "y": [
          -23.44506755034412,
          -24.48815128061916,
          -24.7779095375233,
          -25.65784758719541,
          -24.54025670945157,
          -24.81380347461316,
          -28.26354040491435,
          -27.09948265951332,
          -32.60113048578894,
          -30.23523971589227,
          -25.26562659846547,
          -29.81360219208881,
          -30.63839652541379,
          -11.6607073714568,
          -23.90193441605462,
          -22.23158666178087,
          0,
          -26.55903844557004,
          -12.23696397147356,
          -16.62615201496344,
          -25.31557481519246,
          -25.51203985607529,
          -24.91958027792408,
          -22.95812204629342,
          -23.41892571684087,
          -21.34884713919727,
          -20.56352757544224,
          -22.95898922949462,
          -18.6087398696965,
          -17.60887191342514,
          -16.28478644546417,
          -20.19772544103161,
          -12.27044917158397,
          -10.23083575421581,
          -14.04897488627157,
          -14.02867292315273,
          -12.41126121002668,
          -9.638012898330803,
          -6.596181649301349,
          -7.062404889725533,
          -6.741577080258825,
          -7.937342281879197,
          -7.253697877567735,
          -9.898124179143679,
          -10.58007824558723,
          -7.747197251011475,
          -5.528574671445638,
          -9.641240674934696,
          -10.27756566134065,
          -5.4969717816931,
          -7.729958460098292,
          -8.503990442054958,
          -7.140632736066835,
          -3.594086171877601,
          -2.443498610239395,
          13.55452784608552,
          9.418511010369912,
          3.121641597089114,
          13.49829304458775,
          23.74732611146512,
          13.45670778492592,
          21.50875566301261,
          14.28659659496637,
          25.76111280535896,
          27.50002797046318,
          27.14466785707502,
          29.93584740592373,
          33.11265948782916,
          33.35461578133058,
          44.62868926531947,
          47.67447517638402,
          48.07302534247893,
          49.38641425389756,
          56.6628369572673,
          59.45178330288345,
          63.25786648568609,
          71.72535668211208,
          70.08799103214686,
          74.17463865578056,
          53.70924356048256,
          72.38930758360809,
          54.36674491739379,
          69.83744656548,
          57.18922865593325,
          53.60790990047145,
          64.50816094963778,
          63.19890062623477,
          67.48724434307596,
          62.84303387398358,
          54.55526804150657,
          41.15671931139659,
          36.93162939297125,
          29.45841102823654,
          19.62469006916352,
          26.36892281483423,
          40.25378045365444,
          29.40863687247051,
          26.88278618511177,
          31.26814479734106,
          28.69000700648099,
          33.77774798927615,
          34.40176195283105,
          31.55978907977548,
          52.78132513499664,
          58.85625377778774,
          58.79840882843578,
          63.53573614129863,
          68.63507522349008,
          71.08268398268397,
          66.5793719389225,
          72.70411117544874,
          68.64826696422345,
          73.5147823503194,
          76.6935636985001,
          74.68019121963025,
          75.39584685269305,
          69.2529016692749,
          75.58391700063672,
          72.69713755222033,
          55.43511078646214,
          75.20953696474686,
          68.21535334210212,
          76.82977759472817,
          70.60779248167871,
          77.25573172874209,
          77.0331846121441,
          80.23654610144071,
          74.32894089427396,
          74.36560505607534,
          72.85677983172442,
          71.70631088940199,
          75.26726968262551,
          70.43700079292938,
          74.1017686175285,
          75.14011431921443,
          70.48812376508175,
          61.14470676775561,
          59.09848601776368,
          58.64169054441263,
          57.81105850007636,
          58.41601164483261,
          58.90970348302164,
          58.52935075710432,
          58.4359349377299,
          58.02387415864045,
          47.27232234633044,
          48.81356512216823,
          49.22120928005745,
          28.37139997270122,
          49.29739623309913,
          48.45589692765113,
          49.22968403609737,
          49.99999999999999,
          48.94425433481811,
          42.39935292351822,
          42.72063007424884,
          42.94899032090798,
          42.97250446244681,
          40.05871488507846,
          39.55758146663899,
          40.45535284396268,
          38.79991552563229,
          36.31861632791001,
          33.0929488083486,
          33.15697403511555,
          34.45813812625932,
          32.40609641648761,
          36.51044619335045,
          35.17464788732395,
          35.51705911536846,
          37.72368531234299,
          36.49335097184755,
          31.77963567156062,
          30.5503053514129,
          36.68642602817482,
          42.93381806960532,
          37.96034884634523,
          39.52109731894353,
          40.97530547095732,
          41.00689064666069,
          39.65391429255448,
          39.75564131074628,
          43.0645253635635,
          37.88709203630123,
          40.13813184921682,
          41.19113596028004,
          41.99426564781083,
          42.84957688100859
         ],
         "yaxis": "y"
        },
        {
         "hovertemplate": "full=A1 & A2 -  geschreddert<br>date=%{x}<br>wPreis=%{y}<extra></extra>",
         "legendgroup": "A1 & A2 -  geschreddert",
         "line": {
          "color": "#EF553B",
          "dash": "solid"
         },
         "marker": {
          "symbol": "circle"
         },
         "mode": "lines",
         "name": "A1 & A2 -  geschreddert",
         "orientation": "v",
         "showlegend": true,
         "type": "scatter",
         "x": [
          "2020-09-14T00:00:00",
          "2020-09-21T00:00:00",
          "2020-09-28T00:00:00",
          "2020-10-05T00:00:00",
          "2020-10-12T00:00:00",
          "2020-10-19T00:00:00",
          "2020-10-26T00:00:00",
          "2020-11-23T00:00:00",
          "2020-11-30T00:00:00",
          "2020-12-07T00:00:00",
          "2021-01-11T00:00:00",
          "2021-01-25T00:00:00",
          "2021-02-08T00:00:00",
          "2021-02-15T00:00:00",
          "2021-02-22T00:00:00",
          "2021-03-01T00:00:00",
          "2021-03-08T00:00:00",
          "2021-03-15T00:00:00",
          "2021-03-29T00:00:00",
          "2021-04-05T00:00:00",
          "2021-04-12T00:00:00",
          "2021-04-19T00:00:00",
          "2021-04-26T00:00:00",
          "2021-05-03T00:00:00",
          "2021-07-26T00:00:00",
          "2021-08-02T00:00:00",
          "2021-08-09T00:00:00",
          "2021-08-16T00:00:00",
          "2021-08-23T00:00:00",
          "2021-08-30T00:00:00",
          "2021-09-06T00:00:00",
          "2021-09-13T00:00:00",
          "2021-09-20T00:00:00",
          "2021-09-27T00:00:00",
          "2021-10-04T00:00:00",
          "2021-10-11T00:00:00",
          "2021-10-18T00:00:00",
          "2021-10-25T00:00:00",
          "2021-11-01T00:00:00",
          "2021-11-08T00:00:00",
          "2021-11-29T00:00:00",
          "2021-12-27T00:00:00",
          "2022-01-03T00:00:00",
          "2022-01-10T00:00:00",
          "2022-01-17T00:00:00",
          "2022-01-24T00:00:00",
          "2022-01-31T00:00:00",
          "2022-02-07T00:00:00",
          "2022-02-14T00:00:00",
          "2022-02-21T00:00:00",
          "2022-02-28T00:00:00",
          "2022-03-07T00:00:00",
          "2022-03-21T00:00:00",
          "2022-03-28T00:00:00",
          "2022-04-04T00:00:00",
          "2022-04-11T00:00:00",
          "2022-04-18T00:00:00",
          "2022-04-25T00:00:00",
          "2022-05-02T00:00:00",
          "2022-05-09T00:00:00",
          "2022-05-16T00:00:00",
          "2022-05-23T00:00:00",
          "2022-05-30T00:00:00",
          "2022-06-06T00:00:00",
          "2022-06-13T00:00:00",
          "2022-06-20T00:00:00",
          "2022-06-27T00:00:00",
          "2022-07-04T00:00:00",
          "2022-07-18T00:00:00",
          "2022-07-25T00:00:00",
          "2022-08-01T00:00:00",
          "2022-08-08T00:00:00",
          "2022-08-15T00:00:00",
          "2022-08-22T00:00:00",
          "2022-08-29T00:00:00",
          "2022-09-05T00:00:00",
          "2022-09-12T00:00:00",
          "2022-09-19T00:00:00",
          "2022-09-26T00:00:00",
          "2022-10-03T00:00:00",
          "2022-10-10T00:00:00",
          "2022-10-17T00:00:00",
          "2022-10-24T00:00:00",
          "2022-10-31T00:00:00",
          "2022-11-07T00:00:00",
          "2022-11-14T00:00:00",
          "2022-11-21T00:00:00",
          "2022-11-28T00:00:00",
          "2022-12-05T00:00:00",
          "2022-12-12T00:00:00",
          "2022-12-19T00:00:00",
          "2023-01-02T00:00:00",
          "2023-01-09T00:00:00",
          "2023-01-16T00:00:00",
          "2023-01-23T00:00:00",
          "2023-01-30T00:00:00",
          "2023-02-06T00:00:00",
          "2023-02-13T00:00:00",
          "2023-02-20T00:00:00",
          "2023-02-27T00:00:00",
          "2023-03-06T00:00:00",
          "2023-03-13T00:00:00",
          "2023-03-20T00:00:00",
          "2023-03-27T00:00:00",
          "2023-04-03T00:00:00",
          "2023-04-10T00:00:00",
          "2023-04-17T00:00:00",
          "2023-04-24T00:00:00",
          "2023-05-01T00:00:00",
          "2023-05-08T00:00:00",
          "2023-05-15T00:00:00",
          "2023-05-22T00:00:00",
          "2023-06-12T00:00:00",
          "2023-06-19T00:00:00",
          "2023-06-26T00:00:00",
          "2023-07-03T00:00:00",
          "2023-07-10T00:00:00",
          "2023-07-17T00:00:00",
          "2023-07-24T00:00:00",
          "2023-07-31T00:00:00",
          "2023-08-07T00:00:00",
          "2023-08-28T00:00:00",
          "2023-09-04T00:00:00",
          "2023-09-11T00:00:00",
          "2023-09-18T00:00:00",
          "2023-09-25T00:00:00",
          "2023-10-02T00:00:00",
          "2023-10-09T00:00:00",
          "2023-10-16T00:00:00",
          "2023-10-23T00:00:00",
          "2023-10-30T00:00:00",
          "2023-11-06T00:00:00",
          "2023-11-13T00:00:00",
          "2023-11-20T00:00:00",
          "2023-11-27T00:00:00",
          "2023-12-04T00:00:00",
          "2023-12-11T00:00:00",
          "2023-12-18T00:00:00",
          "2024-01-01T00:00:00",
          "2024-01-08T00:00:00",
          "2024-01-15T00:00:00",
          "2024-01-22T00:00:00",
          "2024-01-29T00:00:00",
          "2024-02-05T00:00:00",
          "2024-02-12T00:00:00",
          "2024-02-19T00:00:00",
          "2024-02-26T00:00:00",
          "2024-03-04T00:00:00",
          "2024-03-11T00:00:00",
          "2024-03-18T00:00:00",
          "2024-03-25T00:00:00",
          "2024-04-01T00:00:00",
          "2024-04-08T00:00:00",
          "2024-04-15T00:00:00",
          "2024-04-22T00:00:00"
         ],
         "xaxis": "x",
         "y": [
          4.41769487353865,
          4.048484674713995,
          7.350313479623825,
          7.378022477012149,
          7.446470639560248,
          2.944876178634338,
          4.270245746691872,
          6.519399249061326,
          6.817053713880517,
          3.426474489344771,
          3.697572999620779,
          3.027500000000001,
          2.832143510891453,
          3.513942816801977,
          4.076077473390333,
          -13.90890269151138,
          4.770158049825877,
          -3.448565883114083,
          3.05226734656711,
          0.9636850152905199,
          4.337997554680069,
          1.687828700225394,
          2.581704168203617,
          2.735944867609722,
          8.560583395661931,
          9.241638683680323,
          9.609658678286129,
          9.355208042446243,
          9.714002145922748,
          9.514483922377426,
          9.546551862879216,
          9.843640093786636,
          -0.7653753960138792,
          -2.808075446325885,
          -0.6294563488350331,
          2.529374605180037,
          9.223875181422354,
          0.2635975826519725,
          10.69592991421792,
          9.275837286186574,
          9.286750348675033,
          65,
          64.15505297473513,
          60.87203145803018,
          63.36506548691136,
          77.49588834534393,
          81.26753263238066,
          85.89757132163355,
          79.67006017484769,
          68.02318958502849,
          79.48397504185057,
          72.8167271261588,
          33.80745566413319,
          75.91507644236133,
          66.96455079206825,
          82.29441827838463,
          79.23424696241875,
          65.2365746549561,
          75.13759367194005,
          70.45748144289621,
          78.14401110690395,
          50.59578207381369,
          38.2019649122807,
          36.15967623252392,
          39.53070894842354,
          39.8404610251744,
          41.32025932974228,
          42.90425531914894,
          49.81314998844466,
          50.39520790602274,
          44.19178525226392,
          59.00000000000001,
          59,
          64.82294369681973,
          65.08959402706485,
          75.9651185770751,
          64.62310586084448,
          65.7832512315271,
          68.59570435881238,
          59.00000000000001,
          59,
          63.34330906803271,
          74.43726256828329,
          80.89359023763646,
          76.91129285938975,
          70.9746088868896,
          78,
          82.14016252642708,
          91.74615122422314,
          109.4944903581267,
          120.9391291469194,
          88.39348990523278,
          82.05901102687801,
          93.32906580197907,
          96.20851734128435,
          80.07704307843886,
          83.7075121809323,
          82.91844612603781,
          79.7495876588726,
          77.47138380719784,
          79.72265483987414,
          76.692638321685,
          76.51148134206018,
          77.94371114514817,
          77.3288228550878,
          80,
          78.0499626028422,
          57.92046295673239,
          59.13938796997589,
          61.26742892734795,
          57.87067043258513,
          59.1272239006378,
          55.66299790356394,
          61.51545363908275,
          49.07119817480923,
          46.55916892502259,
          50.68180230527419,
          50.27501701837985,
          50.00000000000001,
          50,
          49.99999999999999,
          50,
          50.07739171822942,
          50.09878474311154,
          49.53237410071942,
          45.00000000000001,
          45.29577957795779,
          45.7093023255814,
          45.30727873646374,
          41.00660179191495,
          39.55211756847027,
          38.34820647419073,
          39.52950290084388,
          39.31499592502038,
          39.44177472269958,
          38.83842016107462,
          37.56335423530663,
          38.48829075947197,
          39.96677693492271,
          37.4604083286894,
          38.10920089143585,
          40.06045479755962,
          31.24576113284889,
          41.65880081518825,
          42.63998922123417,
          43.23260203867613,
          41.96123147092361,
          42.10655579606095,
          42.42083722050017,
          43.61383948520869,
          44.93676133500234,
          30.42599633854386,
          38.93628406834593,
          40.8145429893595,
          37.7710843373494
         ],
         "yaxis": "y"
        },
        {
         "hovertemplate": "full=A2 & A3 -  geschreddert<br>date=%{x}<br>wPreis=%{y}<extra></extra>",
         "legendgroup": "A2 & A3 -  geschreddert",
         "line": {
          "color": "#00cc96",
          "dash": "solid"
         },
         "marker": {
          "symbol": "circle"
         },
         "mode": "lines",
         "name": "A2 & A3 -  geschreddert",
         "orientation": "v",
         "showlegend": true,
         "type": "scatter",
         "x": [
          "2020-09-14T00:00:00",
          "2020-09-21T00:00:00",
          "2020-09-28T00:00:00",
          "2020-10-05T00:00:00",
          "2020-10-12T00:00:00",
          "2020-10-19T00:00:00",
          "2020-10-26T00:00:00",
          "2020-11-02T00:00:00",
          "2020-11-09T00:00:00",
          "2020-11-16T00:00:00",
          "2020-11-23T00:00:00",
          "2020-11-30T00:00:00",
          "2020-12-07T00:00:00",
          "2020-12-14T00:00:00",
          "2020-12-21T00:00:00",
          "2020-12-28T00:00:00",
          "2021-01-04T00:00:00",
          "2021-01-04T00:00:00",
          "2021-01-11T00:00:00",
          "2021-01-18T00:00:00",
          "2021-01-25T00:00:00",
          "2021-02-01T00:00:00",
          "2021-02-08T00:00:00",
          "2021-02-15T00:00:00",
          "2021-02-22T00:00:00",
          "2021-03-01T00:00:00",
          "2021-03-08T00:00:00",
          "2021-03-15T00:00:00",
          "2021-03-22T00:00:00",
          "2021-03-29T00:00:00",
          "2021-04-05T00:00:00",
          "2021-04-12T00:00:00",
          "2021-04-19T00:00:00",
          "2021-04-26T00:00:00",
          "2021-05-03T00:00:00",
          "2021-05-10T00:00:00",
          "2021-05-17T00:00:00",
          "2021-05-24T00:00:00",
          "2021-05-31T00:00:00",
          "2021-06-07T00:00:00",
          "2021-06-14T00:00:00",
          "2021-06-21T00:00:00",
          "2021-06-28T00:00:00",
          "2021-07-05T00:00:00",
          "2021-07-12T00:00:00",
          "2021-07-19T00:00:00",
          "2021-07-26T00:00:00",
          "2021-08-02T00:00:00",
          "2021-08-09T00:00:00",
          "2021-08-16T00:00:00",
          "2021-08-23T00:00:00",
          "2021-08-30T00:00:00",
          "2021-09-06T00:00:00",
          "2021-09-13T00:00:00",
          "2021-09-20T00:00:00",
          "2021-09-27T00:00:00",
          "2021-10-04T00:00:00",
          "2021-10-11T00:00:00",
          "2021-10-18T00:00:00",
          "2021-10-25T00:00:00",
          "2021-11-01T00:00:00",
          "2021-11-08T00:00:00",
          "2021-11-15T00:00:00",
          "2021-11-22T00:00:00",
          "2021-11-29T00:00:00",
          "2021-12-06T00:00:00",
          "2021-12-13T00:00:00",
          "2021-12-20T00:00:00",
          "2021-12-27T00:00:00",
          "2022-01-03T00:00:00",
          "2022-01-10T00:00:00",
          "2022-01-17T00:00:00",
          "2022-01-24T00:00:00",
          "2022-01-31T00:00:00",
          "2022-02-07T00:00:00",
          "2022-02-14T00:00:00",
          "2022-02-21T00:00:00",
          "2022-02-28T00:00:00",
          "2022-03-07T00:00:00",
          "2022-03-14T00:00:00",
          "2022-03-21T00:00:00",
          "2022-03-28T00:00:00",
          "2022-04-04T00:00:00",
          "2022-04-11T00:00:00",
          "2022-04-18T00:00:00",
          "2022-04-25T00:00:00",
          "2022-05-02T00:00:00",
          "2022-05-09T00:00:00",
          "2022-05-16T00:00:00",
          "2022-05-23T00:00:00",
          "2022-05-30T00:00:00",
          "2022-06-06T00:00:00",
          "2022-06-13T00:00:00",
          "2022-06-20T00:00:00",
          "2022-06-27T00:00:00",
          "2022-07-04T00:00:00",
          "2022-07-11T00:00:00",
          "2022-07-18T00:00:00",
          "2022-07-25T00:00:00",
          "2022-08-01T00:00:00",
          "2022-08-08T00:00:00",
          "2022-08-15T00:00:00",
          "2022-08-22T00:00:00",
          "2022-08-29T00:00:00",
          "2022-09-05T00:00:00",
          "2022-09-12T00:00:00",
          "2022-09-19T00:00:00",
          "2022-09-26T00:00:00",
          "2022-10-03T00:00:00",
          "2022-10-10T00:00:00",
          "2022-10-17T00:00:00",
          "2022-10-24T00:00:00",
          "2022-10-31T00:00:00",
          "2022-11-07T00:00:00",
          "2022-11-14T00:00:00",
          "2022-11-21T00:00:00",
          "2022-11-28T00:00:00",
          "2022-12-05T00:00:00",
          "2022-12-12T00:00:00",
          "2022-12-26T00:00:00",
          "2023-01-02T00:00:00",
          "2023-01-09T00:00:00",
          "2023-01-16T00:00:00",
          "2023-01-23T00:00:00",
          "2023-01-30T00:00:00",
          "2023-02-06T00:00:00",
          "2023-02-13T00:00:00",
          "2023-02-20T00:00:00",
          "2023-02-27T00:00:00",
          "2023-03-06T00:00:00",
          "2023-03-13T00:00:00",
          "2023-03-20T00:00:00",
          "2023-03-27T00:00:00",
          "2023-04-03T00:00:00",
          "2023-04-10T00:00:00",
          "2023-04-17T00:00:00",
          "2023-04-24T00:00:00",
          "2023-05-01T00:00:00",
          "2023-05-08T00:00:00",
          "2023-05-15T00:00:00",
          "2023-05-22T00:00:00",
          "2023-05-29T00:00:00",
          "2023-06-05T00:00:00",
          "2023-06-12T00:00:00",
          "2023-06-19T00:00:00",
          "2023-06-26T00:00:00",
          "2023-07-03T00:00:00",
          "2023-07-10T00:00:00",
          "2023-07-17T00:00:00",
          "2023-07-24T00:00:00",
          "2023-07-31T00:00:00",
          "2023-08-07T00:00:00",
          "2023-08-14T00:00:00",
          "2023-08-21T00:00:00",
          "2023-08-28T00:00:00",
          "2023-09-04T00:00:00",
          "2023-09-11T00:00:00",
          "2023-09-18T00:00:00",
          "2023-09-25T00:00:00",
          "2023-10-02T00:00:00",
          "2023-10-09T00:00:00",
          "2023-10-16T00:00:00",
          "2023-10-23T00:00:00",
          "2023-10-30T00:00:00",
          "2023-11-06T00:00:00",
          "2023-11-13T00:00:00",
          "2023-11-20T00:00:00",
          "2023-11-27T00:00:00",
          "2023-12-04T00:00:00",
          "2023-12-11T00:00:00",
          "2023-12-18T00:00:00",
          "2023-12-25T00:00:00",
          "2024-01-01T00:00:00",
          "2024-01-08T00:00:00",
          "2024-01-15T00:00:00",
          "2024-01-22T00:00:00",
          "2024-01-29T00:00:00",
          "2024-02-05T00:00:00",
          "2024-02-12T00:00:00",
          "2024-02-19T00:00:00",
          "2024-02-26T00:00:00",
          "2024-03-04T00:00:00",
          "2024-03-11T00:00:00",
          "2024-03-18T00:00:00",
          "2024-03-25T00:00:00",
          "2024-04-01T00:00:00",
          "2024-04-08T00:00:00",
          "2024-04-15T00:00:00",
          "2024-04-22T00:00:00"
         ],
         "xaxis": "x",
         "y": [
          -23.44506755034412,
          -24.48815128061916,
          -24.7779095375233,
          -25.65784758719541,
          -24.54025670945157,
          -24.81380347461316,
          -28.26354040491435,
          -27.09948265951332,
          -32.60113048578894,
          -30.23523971589227,
          -25.26562659846547,
          -29.81360219208881,
          -30.63839652541379,
          -11.6607073714568,
          -23.90193441605462,
          -22.23158666178087,
          0,
          -26.55903844557004,
          -12.23696397147356,
          -16.62615201496344,
          -25.31557481519246,
          -25.51203985607529,
          -24.91958027792408,
          -22.95812204629342,
          -23.41892571684087,
          -21.34884713919727,
          -20.56352757544224,
          -22.95898922949462,
          -18.6087398696965,
          -17.60887191342514,
          -16.28478644546417,
          -20.19772544103161,
          -12.27044917158397,
          -10.23083575421581,
          -14.04897488627157,
          -14.02867292315273,
          -12.41126121002668,
          -9.638012898330803,
          -6.596181649301349,
          -7.062404889725533,
          -6.741577080258825,
          -7.937342281879197,
          -7.253697877567735,
          -9.898124179143679,
          -10.58007824558723,
          -7.747197251011475,
          -5.528574671445638,
          -9.641240674934696,
          -10.27756566134065,
          -5.4969717816931,
          -7.729958460098292,
          -8.503990442054958,
          -7.140632736066835,
          -3.594086171877601,
          -2.443498610239395,
          13.55452784608552,
          9.418511010369912,
          2.479313455586146,
          13.49829304458775,
          20.47629565635604,
          13.45670778492592,
          21.50875566301261,
          14.28659659496637,
          25.76111280535896,
          27.50002797046318,
          27.14466785707502,
          29.93584740592373,
          33.11265948782916,
          33.35461578133058,
          44.62868926531947,
          47.67447517638402,
          48.07302534247893,
          49.38641425389756,
          56.6628369572673,
          59.45178330288345,
          63.25786648568609,
          71.72535668211208,
          70.08799103214686,
          74.17463865578056,
          53.70924356048256,
          72.38930758360809,
          54.36674491739379,
          69.83744656548,
          57.18922865593325,
          53.60790990047145,
          64.50816094963778,
          63.19890062623477,
          67.28092537515626,
          62.84303387398358,
          54.55526804150657,
          41.15671931139659,
          36.93162939297125,
          34.55328263712065,
          24.80738729797316,
          30.38277069585216,
          40.13054360156293,
          29.40863687247051,
          26.88278618511177,
          31.26814479734106,
          31.43110712982316,
          33.77774798927615,
          34.40176195283105,
          35.74275212841766,
          54.91317615432121,
          62.01640840314661,
          61.92692455735181,
          64.86616235088741,
          70.18331345344968,
          71.08268398268397,
          66.5793719389225,
          71.49470026674152,
          73.65357235197794,
          78.84991560806611,
          78.83107727016356,
          77.36359565655434,
          75.39584685269305,
          74.14887749625213,
          77.8868002704058,
          72.69713755222033,
          55.43511078646214,
          77.56324985174035,
          78.56838487972507,
          80.87393402387788,
          78.26697580346791,
          78.54594376779191,
          79.4264203517891,
          81.33558498602422,
          76.23388310614573,
          76.33657642413986,
          75.29306419170726,
          74.6059612633362,
          76.807473365543,
          73.63119976910438,
          75.57947660613638,
          76.75487326399706,
          73.5325621945061,
          60.43483504715168,
          59.29947556069212,
          58.93130889580232,
          58.31827356365004,
          58.72543278127853,
          58.90970348302164,
          58.52935075710432,
          58.70704184069759,
          58.33921930180955,
          47.96814782675277,
          48.88903130707854,
          49.275736044376,
          30.60722881736221,
          49.37329939436496,
          48.63280564428374,
          49.33090852508118,
          50.00000000000001,
          48.94425433481811,
          45.01280311651931,
          45.33552988465881,
          45.15453330693854,
          45.42081189004976,
          41.95325241353454,
          41.62296040182685,
          41.74040767945642,
          41.51080277572798,
          37.88312594322162,
          34.45930877459279,
          34.06425339011631,
          35.19993083271799,
          33.64357097449704,
          36.80923809302109,
          35.91277748645343,
          35.8595667228051,
          36.11460474865965,
          37.72368531234299,
          36.37834456919609,
          34.13093411257672,
          33.84838642853971,
          37.32312184706842,
          42.59234692924274,
          39.0689047922365,
          40.18766931093207,
          41.48489554726416,
          41.18461916201043,
          40.71809038900002,
          40.732491497078,
          43.83971234444817,
          41.32343851530184,
          36.09568508578749,
          39.95067693995709,
          41.43793393426785,
          40.36796090783314
         ],
         "yaxis": "y"
        }
       ],
       "layout": {
        "legend": {
         "title": {
          "text": "full"
         },
         "tracegroupgap": 0
        },
        "template": {
         "data": {
          "bar": [
           {
            "error_x": {
             "color": "#2a3f5f"
            },
            "error_y": {
             "color": "#2a3f5f"
            },
            "marker": {
             "line": {
              "color": "#E5ECF6",
              "width": 0.5
             },
             "pattern": {
              "fillmode": "overlay",
              "size": 10,
              "solidity": 0.2
             }
            },
            "type": "bar"
           }
          ],
          "barpolar": [
           {
            "marker": {
             "line": {
              "color": "#E5ECF6",
              "width": 0.5
             },
             "pattern": {
              "fillmode": "overlay",
              "size": 10,
              "solidity": 0.2
             }
            },
            "type": "barpolar"
           }
          ],
          "carpet": [
           {
            "aaxis": {
             "endlinecolor": "#2a3f5f",
             "gridcolor": "white",
             "linecolor": "white",
             "minorgridcolor": "white",
             "startlinecolor": "#2a3f5f"
            },
            "baxis": {
             "endlinecolor": "#2a3f5f",
             "gridcolor": "white",
             "linecolor": "white",
             "minorgridcolor": "white",
             "startlinecolor": "#2a3f5f"
            },
            "type": "carpet"
           }
          ],
          "choropleth": [
           {
            "colorbar": {
             "outlinewidth": 0,
             "ticks": ""
            },
            "type": "choropleth"
           }
          ],
          "contour": [
           {
            "colorbar": {
             "outlinewidth": 0,
             "ticks": ""
            },
            "colorscale": [
             [
              0,
              "#0d0887"
             ],
             [
              0.1111111111111111,
              "#46039f"
             ],
             [
              0.2222222222222222,
              "#7201a8"
             ],
             [
              0.3333333333333333,
              "#9c179e"
             ],
             [
              0.4444444444444444,
              "#bd3786"
             ],
             [
              0.5555555555555556,
              "#d8576b"
             ],
             [
              0.6666666666666666,
              "#ed7953"
             ],
             [
              0.7777777777777778,
              "#fb9f3a"
             ],
             [
              0.8888888888888888,
              "#fdca26"
             ],
             [
              1,
              "#f0f921"
             ]
            ],
            "type": "contour"
           }
          ],
          "contourcarpet": [
           {
            "colorbar": {
             "outlinewidth": 0,
             "ticks": ""
            },
            "type": "contourcarpet"
           }
          ],
          "heatmap": [
           {
            "colorbar": {
             "outlinewidth": 0,
             "ticks": ""
            },
            "colorscale": [
             [
              0,
              "#0d0887"
             ],
             [
              0.1111111111111111,
              "#46039f"
             ],
             [
              0.2222222222222222,
              "#7201a8"
             ],
             [
              0.3333333333333333,
              "#9c179e"
             ],
             [
              0.4444444444444444,
              "#bd3786"
             ],
             [
              0.5555555555555556,
              "#d8576b"
             ],
             [
              0.6666666666666666,
              "#ed7953"
             ],
             [
              0.7777777777777778,
              "#fb9f3a"
             ],
             [
              0.8888888888888888,
              "#fdca26"
             ],
             [
              1,
              "#f0f921"
             ]
            ],
            "type": "heatmap"
           }
          ],
          "heatmapgl": [
           {
            "colorbar": {
             "outlinewidth": 0,
             "ticks": ""
            },
            "colorscale": [
             [
              0,
              "#0d0887"
             ],
             [
              0.1111111111111111,
              "#46039f"
             ],
             [
              0.2222222222222222,
              "#7201a8"
             ],
             [
              0.3333333333333333,
              "#9c179e"
             ],
             [
              0.4444444444444444,
              "#bd3786"
             ],
             [
              0.5555555555555556,
              "#d8576b"
             ],
             [
              0.6666666666666666,
              "#ed7953"
             ],
             [
              0.7777777777777778,
              "#fb9f3a"
             ],
             [
              0.8888888888888888,
              "#fdca26"
             ],
             [
              1,
              "#f0f921"
             ]
            ],
            "type": "heatmapgl"
           }
          ],
          "histogram": [
           {
            "marker": {
             "pattern": {
              "fillmode": "overlay",
              "size": 10,
              "solidity": 0.2
             }
            },
            "type": "histogram"
           }
          ],
          "histogram2d": [
           {
            "colorbar": {
             "outlinewidth": 0,
             "ticks": ""
            },
            "colorscale": [
             [
              0,
              "#0d0887"
             ],
             [
              0.1111111111111111,
              "#46039f"
             ],
             [
              0.2222222222222222,
              "#7201a8"
             ],
             [
              0.3333333333333333,
              "#9c179e"
             ],
             [
              0.4444444444444444,
              "#bd3786"
             ],
             [
              0.5555555555555556,
              "#d8576b"
             ],
             [
              0.6666666666666666,
              "#ed7953"
             ],
             [
              0.7777777777777778,
              "#fb9f3a"
             ],
             [
              0.8888888888888888,
              "#fdca26"
             ],
             [
              1,
              "#f0f921"
             ]
            ],
            "type": "histogram2d"
           }
          ],
          "histogram2dcontour": [
           {
            "colorbar": {
             "outlinewidth": 0,
             "ticks": ""
            },
            "colorscale": [
             [
              0,
              "#0d0887"
             ],
             [
              0.1111111111111111,
              "#46039f"
             ],
             [
              0.2222222222222222,
              "#7201a8"
             ],
             [
              0.3333333333333333,
              "#9c179e"
             ],
             [
              0.4444444444444444,
              "#bd3786"
             ],
             [
              0.5555555555555556,
              "#d8576b"
             ],
             [
              0.6666666666666666,
              "#ed7953"
             ],
             [
              0.7777777777777778,
              "#fb9f3a"
             ],
             [
              0.8888888888888888,
              "#fdca26"
             ],
             [
              1,
              "#f0f921"
             ]
            ],
            "type": "histogram2dcontour"
           }
          ],
          "mesh3d": [
           {
            "colorbar": {
             "outlinewidth": 0,
             "ticks": ""
            },
            "type": "mesh3d"
           }
          ],
          "parcoords": [
           {
            "line": {
             "colorbar": {
              "outlinewidth": 0,
              "ticks": ""
             }
            },
            "type": "parcoords"
           }
          ],
          "pie": [
           {
            "automargin": true,
            "type": "pie"
           }
          ],
          "scatter": [
           {
            "fillpattern": {
             "fillmode": "overlay",
             "size": 10,
             "solidity": 0.2
            },
            "type": "scatter"
           }
          ],
          "scatter3d": [
           {
            "line": {
             "colorbar": {
              "outlinewidth": 0,
              "ticks": ""
             }
            },
            "marker": {
             "colorbar": {
              "outlinewidth": 0,
              "ticks": ""
             }
            },
            "type": "scatter3d"
           }
          ],
          "scattercarpet": [
           {
            "marker": {
             "colorbar": {
              "outlinewidth": 0,
              "ticks": ""
             }
            },
            "type": "scattercarpet"
           }
          ],
          "scattergeo": [
           {
            "marker": {
             "colorbar": {
              "outlinewidth": 0,
              "ticks": ""
             }
            },
            "type": "scattergeo"
           }
          ],
          "scattergl": [
           {
            "marker": {
             "colorbar": {
              "outlinewidth": 0,
              "ticks": ""
             }
            },
            "type": "scattergl"
           }
          ],
          "scattermapbox": [
           {
            "marker": {
             "colorbar": {
              "outlinewidth": 0,
              "ticks": ""
             }
            },
            "type": "scattermapbox"
           }
          ],
          "scatterpolar": [
           {
            "marker": {
             "colorbar": {
              "outlinewidth": 0,
              "ticks": ""
             }
            },
            "type": "scatterpolar"
           }
          ],
          "scatterpolargl": [
           {
            "marker": {
             "colorbar": {
              "outlinewidth": 0,
              "ticks": ""
             }
            },
            "type": "scatterpolargl"
           }
          ],
          "scatterternary": [
           {
            "marker": {
             "colorbar": {
              "outlinewidth": 0,
              "ticks": ""
             }
            },
            "type": "scatterternary"
           }
          ],
          "surface": [
           {
            "colorbar": {
             "outlinewidth": 0,
             "ticks": ""
            },
            "colorscale": [
             [
              0,
              "#0d0887"
             ],
             [
              0.1111111111111111,
              "#46039f"
             ],
             [
              0.2222222222222222,
              "#7201a8"
             ],
             [
              0.3333333333333333,
              "#9c179e"
             ],
             [
              0.4444444444444444,
              "#bd3786"
             ],
             [
              0.5555555555555556,
              "#d8576b"
             ],
             [
              0.6666666666666666,
              "#ed7953"
             ],
             [
              0.7777777777777778,
              "#fb9f3a"
             ],
             [
              0.8888888888888888,
              "#fdca26"
             ],
             [
              1,
              "#f0f921"
             ]
            ],
            "type": "surface"
           }
          ],
          "table": [
           {
            "cells": {
             "fill": {
              "color": "#EBF0F8"
             },
             "line": {
              "color": "white"
             }
            },
            "header": {
             "fill": {
              "color": "#C8D4E3"
             },
             "line": {
              "color": "white"
             }
            },
            "type": "table"
           }
          ]
         },
         "layout": {
          "annotationdefaults": {
           "arrowcolor": "#2a3f5f",
           "arrowhead": 0,
           "arrowwidth": 1
          },
          "autotypenumbers": "strict",
          "coloraxis": {
           "colorbar": {
            "outlinewidth": 0,
            "ticks": ""
           }
          },
          "colorscale": {
           "diverging": [
            [
             0,
             "#8e0152"
            ],
            [
             0.1,
             "#c51b7d"
            ],
            [
             0.2,
             "#de77ae"
            ],
            [
             0.3,
             "#f1b6da"
            ],
            [
             0.4,
             "#fde0ef"
            ],
            [
             0.5,
             "#f7f7f7"
            ],
            [
             0.6,
             "#e6f5d0"
            ],
            [
             0.7,
             "#b8e186"
            ],
            [
             0.8,
             "#7fbc41"
            ],
            [
             0.9,
             "#4d9221"
            ],
            [
             1,
             "#276419"
            ]
           ],
           "sequential": [
            [
             0,
             "#0d0887"
            ],
            [
             0.1111111111111111,
             "#46039f"
            ],
            [
             0.2222222222222222,
             "#7201a8"
            ],
            [
             0.3333333333333333,
             "#9c179e"
            ],
            [
             0.4444444444444444,
             "#bd3786"
            ],
            [
             0.5555555555555556,
             "#d8576b"
            ],
            [
             0.6666666666666666,
             "#ed7953"
            ],
            [
             0.7777777777777778,
             "#fb9f3a"
            ],
            [
             0.8888888888888888,
             "#fdca26"
            ],
            [
             1,
             "#f0f921"
            ]
           ],
           "sequentialminus": [
            [
             0,
             "#0d0887"
            ],
            [
             0.1111111111111111,
             "#46039f"
            ],
            [
             0.2222222222222222,
             "#7201a8"
            ],
            [
             0.3333333333333333,
             "#9c179e"
            ],
            [
             0.4444444444444444,
             "#bd3786"
            ],
            [
             0.5555555555555556,
             "#d8576b"
            ],
            [
             0.6666666666666666,
             "#ed7953"
            ],
            [
             0.7777777777777778,
             "#fb9f3a"
            ],
            [
             0.8888888888888888,
             "#fdca26"
            ],
            [
             1,
             "#f0f921"
            ]
           ]
          },
          "colorway": [
           "#636efa",
           "#EF553B",
           "#00cc96",
           "#ab63fa",
           "#FFA15A",
           "#19d3f3",
           "#FF6692",
           "#B6E880",
           "#FF97FF",
           "#FECB52"
          ],
          "font": {
           "color": "#2a3f5f"
          },
          "geo": {
           "bgcolor": "white",
           "lakecolor": "white",
           "landcolor": "#E5ECF6",
           "showlakes": true,
           "showland": true,
           "subunitcolor": "white"
          },
          "hoverlabel": {
           "align": "left"
          },
          "hovermode": "closest",
          "mapbox": {
           "style": "light"
          },
          "paper_bgcolor": "white",
          "plot_bgcolor": "#E5ECF6",
          "polar": {
           "angularaxis": {
            "gridcolor": "white",
            "linecolor": "white",
            "ticks": ""
           },
           "bgcolor": "#E5ECF6",
           "radialaxis": {
            "gridcolor": "white",
            "linecolor": "white",
            "ticks": ""
           }
          },
          "scene": {
           "xaxis": {
            "backgroundcolor": "#E5ECF6",
            "gridcolor": "white",
            "gridwidth": 2,
            "linecolor": "white",
            "showbackground": true,
            "ticks": "",
            "zerolinecolor": "white"
           },
           "yaxis": {
            "backgroundcolor": "#E5ECF6",
            "gridcolor": "white",
            "gridwidth": 2,
            "linecolor": "white",
            "showbackground": true,
            "ticks": "",
            "zerolinecolor": "white"
           },
           "zaxis": {
            "backgroundcolor": "#E5ECF6",
            "gridcolor": "white",
            "gridwidth": 2,
            "linecolor": "white",
            "showbackground": true,
            "ticks": "",
            "zerolinecolor": "white"
           }
          },
          "shapedefaults": {
           "line": {
            "color": "#2a3f5f"
           }
          },
          "ternary": {
           "aaxis": {
            "gridcolor": "white",
            "linecolor": "white",
            "ticks": ""
           },
           "baxis": {
            "gridcolor": "white",
            "linecolor": "white",
            "ticks": ""
           },
           "bgcolor": "#E5ECF6",
           "caxis": {
            "gridcolor": "white",
            "linecolor": "white",
            "ticks": ""
           }
          },
          "title": {
           "x": 0.05
          },
          "xaxis": {
           "automargin": true,
           "gridcolor": "white",
           "linecolor": "white",
           "ticks": "",
           "title": {
            "standoff": 15
           },
           "zerolinecolor": "white",
           "zerolinewidth": 2
          },
          "yaxis": {
           "automargin": true,
           "gridcolor": "white",
           "linecolor": "white",
           "ticks": "",
           "title": {
            "standoff": 15
           },
           "zerolinecolor": "white",
           "zerolinewidth": 2
          }
         }
        },
        "title": {
         "text": "Weekly Prices for ['80', '81', '82', '83', '84', '85', '93', '94'] by Category"
        },
        "xaxis": {
         "anchor": "y",
         "domain": [
          0,
          1
         ],
         "title": {
          "text": "date"
         }
        },
        "yaxis": {
         "anchor": "x",
         "domain": [
          0,
          1
         ],
         "title": {
          "text": "wPreis"
         }
        }
       }
      }
     },
     "metadata": {},
     "output_type": "display_data"
    },
    {
     "data": {
      "application/vnd.plotly.v1+json": {
       "config": {
        "plotlyServerURL": "https://plot.ly"
       },
       "data": [
        {
         "hovertemplate": "full=A2 & A3 -  geschreddert<br>date=%{x}<br>wPreis=%{y}<extra></extra>",
         "legendgroup": "A2 & A3 -  geschreddert",
         "line": {
          "color": "#636efa",
          "dash": "solid"
         },
         "marker": {
          "symbol": "circle"
         },
         "mode": "lines",
         "name": "A2 & A3 -  geschreddert",
         "orientation": "v",
         "showlegend": true,
         "type": "scatter",
         "x": [
          "2020-09-14T00:00:00",
          "2020-09-21T00:00:00",
          "2020-09-28T00:00:00",
          "2020-10-05T00:00:00",
          "2020-10-12T00:00:00",
          "2020-10-19T00:00:00",
          "2020-10-26T00:00:00",
          "2020-11-02T00:00:00",
          "2020-11-09T00:00:00",
          "2020-11-16T00:00:00",
          "2020-11-23T00:00:00",
          "2020-11-30T00:00:00",
          "2020-12-07T00:00:00",
          "2020-12-14T00:00:00",
          "2021-01-11T00:00:00",
          "2021-01-18T00:00:00",
          "2021-01-25T00:00:00",
          "2021-02-01T00:00:00",
          "2021-02-08T00:00:00",
          "2021-02-15T00:00:00",
          "2021-02-22T00:00:00",
          "2021-03-01T00:00:00",
          "2021-03-08T00:00:00",
          "2021-03-15T00:00:00",
          "2021-04-05T00:00:00",
          "2021-04-12T00:00:00",
          "2021-04-19T00:00:00",
          "2021-04-26T00:00:00",
          "2021-05-03T00:00:00",
          "2021-05-10T00:00:00",
          "2021-05-24T00:00:00",
          "2021-06-07T00:00:00",
          "2021-06-14T00:00:00",
          "2021-06-21T00:00:00",
          "2021-06-28T00:00:00",
          "2021-07-05T00:00:00",
          "2021-07-12T00:00:00",
          "2021-07-19T00:00:00",
          "2021-08-09T00:00:00",
          "2021-08-16T00:00:00",
          "2021-08-23T00:00:00",
          "2021-08-30T00:00:00",
          "2021-09-06T00:00:00",
          "2021-09-13T00:00:00",
          "2021-09-20T00:00:00",
          "2021-09-27T00:00:00",
          "2021-10-04T00:00:00",
          "2021-10-11T00:00:00",
          "2021-10-18T00:00:00",
          "2021-10-25T00:00:00",
          "2021-11-01T00:00:00",
          "2021-11-08T00:00:00",
          "2021-11-15T00:00:00",
          "2021-11-22T00:00:00",
          "2021-11-29T00:00:00",
          "2021-12-06T00:00:00",
          "2021-12-13T00:00:00",
          "2021-12-20T00:00:00",
          "2021-12-27T00:00:00",
          "2022-01-03T00:00:00",
          "2022-01-10T00:00:00",
          "2022-01-17T00:00:00",
          "2022-01-24T00:00:00",
          "2022-01-31T00:00:00",
          "2022-02-07T00:00:00",
          "2022-02-14T00:00:00",
          "2022-02-21T00:00:00",
          "2022-02-28T00:00:00",
          "2022-03-07T00:00:00",
          "2022-03-14T00:00:00",
          "2022-03-21T00:00:00",
          "2022-03-28T00:00:00",
          "2022-04-04T00:00:00",
          "2022-04-11T00:00:00",
          "2022-04-18T00:00:00",
          "2022-04-25T00:00:00",
          "2022-05-02T00:00:00",
          "2022-05-09T00:00:00",
          "2022-05-16T00:00:00",
          "2022-05-23T00:00:00",
          "2022-05-30T00:00:00",
          "2022-06-06T00:00:00",
          "2022-06-13T00:00:00",
          "2022-06-20T00:00:00",
          "2022-06-27T00:00:00",
          "2022-07-04T00:00:00",
          "2022-07-11T00:00:00",
          "2022-07-18T00:00:00",
          "2022-07-25T00:00:00",
          "2022-08-01T00:00:00",
          "2022-08-08T00:00:00",
          "2022-08-15T00:00:00",
          "2022-08-22T00:00:00",
          "2022-08-29T00:00:00",
          "2022-09-05T00:00:00",
          "2022-09-12T00:00:00",
          "2022-09-19T00:00:00",
          "2022-09-26T00:00:00",
          "2022-10-03T00:00:00",
          "2022-10-10T00:00:00",
          "2022-10-17T00:00:00",
          "2022-10-24T00:00:00",
          "2022-10-31T00:00:00",
          "2022-11-07T00:00:00",
          "2022-11-14T00:00:00",
          "2022-11-21T00:00:00",
          "2022-11-28T00:00:00",
          "2022-12-05T00:00:00",
          "2022-12-12T00:00:00",
          "2022-12-19T00:00:00",
          "2022-12-26T00:00:00",
          "2023-01-02T00:00:00",
          "2023-01-09T00:00:00",
          "2023-01-16T00:00:00",
          "2023-01-23T00:00:00",
          "2023-01-30T00:00:00",
          "2023-02-06T00:00:00",
          "2023-02-13T00:00:00",
          "2023-02-20T00:00:00",
          "2023-02-27T00:00:00",
          "2023-03-06T00:00:00",
          "2023-03-13T00:00:00",
          "2023-03-20T00:00:00",
          "2023-03-27T00:00:00",
          "2023-04-03T00:00:00",
          "2023-04-10T00:00:00",
          "2023-04-17T00:00:00",
          "2023-04-24T00:00:00",
          "2023-05-01T00:00:00",
          "2023-05-08T00:00:00",
          "2023-05-15T00:00:00",
          "2023-05-22T00:00:00",
          "2023-08-14T00:00:00",
          "2023-08-28T00:00:00",
          "2023-09-18T00:00:00",
          "2023-10-16T00:00:00",
          "2023-10-23T00:00:00",
          "2023-10-30T00:00:00",
          "2023-11-06T00:00:00",
          "2023-11-20T00:00:00",
          "2023-11-27T00:00:00",
          "2023-12-04T00:00:00",
          "2023-12-11T00:00:00",
          "2024-01-22T00:00:00",
          "2024-01-29T00:00:00",
          "2024-02-05T00:00:00",
          "2024-02-12T00:00:00",
          "2024-02-19T00:00:00",
          "2024-02-26T00:00:00",
          "2024-03-04T00:00:00",
          "2024-03-11T00:00:00",
          "2024-03-18T00:00:00",
          "2024-03-25T00:00:00",
          "2024-04-01T00:00:00",
          "2024-04-08T00:00:00",
          "2024-04-15T00:00:00",
          "2024-04-22T00:00:00"
         ],
         "xaxis": "x",
         "y": [
          -36.37916346623839,
          -30,
          -30,
          -34.70092174936262,
          -30,
          -39.22222845916363,
          -47.24714597392054,
          -34.94647317335356,
          -34.69849479477489,
          -34.69396456663971,
          -35.18164020013052,
          -39.2272,
          -32.48579970104634,
          -27.66266072779225,
          -22.39341882409872,
          -38.04168678577177,
          -28.2506119226214,
          -29.02923533497506,
          -29.49786338019446,
          -26.18634496919918,
          -19.55441449151334,
          -16.56887298747764,
          -24.36471651814542,
          -20.24690574420819,
          -11.17074682367524,
          -25.2309540975727,
          -22.90201584595327,
          -32.71614805109729,
          -25.82116546482167,
          -23.97030567685589,
          -8,
          -22.63697146623976,
          -20.28086756331031,
          -16.94268139242276,
          -14.88914819136523,
          -13.70382293762576,
          -18.75068177686201,
          -17.03480815308367,
          -11.90725955042378,
          -24.56516860568121,
          -23.07590038075027,
          -29.86837890511935,
          -23.1867205817391,
          -25.13560742070617,
          -25.95216326248965,
          -26.76229019848159,
          -23.70114830462572,
          -26.71302140136955,
          -25.52247049283719,
          -8.745500307296085,
          -9.172466060366418,
          0.5656264701270188,
          -10.30431780332264,
          -17.13038829761384,
          -10.54820397690828,
          17.71157407407408,
          24.08724067634008,
          22.66054300113803,
          24.99999999999999,
          24.99999999999999,
          26.05860529027825,
          21.14707561985438,
          21.15576712572869,
          33.17541815943909,
          55.31675741537524,
          67.5777605069648,
          42.31942738964648,
          28.43395523257168,
          19.28826563300871,
          23.25432481280661,
          16.82075121374245,
          8.13184970085363,
          19.30274103614414,
          28.41464478205508,
          21.99109124897769,
          28.44873379014242,
          43.95568103681786,
          35.21300727411945,
          22.90217453179257,
          27.54190428635253,
          33.36806913160503,
          38.07532467532468,
          33.56112996423004,
          31.20878576903424,
          26.79769785187711,
          37.77876817138485,
          34.09393659417791,
          41.38336522392036,
          40.07737573838241,
          34.75588401151575,
          50.44001336749471,
          34.67238593656703,
          36.52888582279173,
          41.61060426809846,
          56.57312816389186,
          53.76624783362217,
          66.25630497047118,
          53.95205640884628,
          65.62725216829445,
          53.69952629626459,
          55.73117166212534,
          64.92036826371067,
          53.78911194183617,
          51.14177345093471,
          70.7406792419412,
          80.91165619702862,
          88.50586543802896,
          88.71348080133555,
          85.33547220842304,
          86.6036098576883,
          86.45914106770057,
          73.61818595282956,
          85.19050295026693,
          88.01371563333953,
          83.67388274239917,
          83.89880441622333,
          63.84615384615385,
          74.42039951573848,
          74.16785408948417,
          62.68940136016344,
          49.020509969498,
          62.95473171804956,
          73.92395467602937,
          64.26326342600117,
          61.85577677870548,
          61.15458697925265,
          46.52660264728783,
          54.68556442162826,
          50.27990669776741,
          32.4042988741044,
          45,
          26.21276595744681,
          44.75554840784819,
          37.53063265816454,
          40,
          33.43013835223732,
          29.47163356457284,
          30.25289432629937,
          34.4289592760181,
          33.03482380811371,
          31.37494206704774,
          31.47208121827411,
          19.67619047619048,
          19.09529830106677,
          21.36407014195395,
          27.76409097330131,
          24.54057682314222,
          28.7439744220364,
          40.32683821033337,
          43.61731834927711,
          41.14112683723463,
          41.86300211416491,
          34.55744959018453,
          34.86545671226755,
          32.25130308467914,
          31.17968232958306,
          33.34905660377358
         ],
         "yaxis": "y"
        }
       ],
       "layout": {
        "legend": {
         "title": {
          "text": "full"
         },
         "tracegroupgap": 0
        },
        "template": {
         "data": {
          "bar": [
           {
            "error_x": {
             "color": "#2a3f5f"
            },
            "error_y": {
             "color": "#2a3f5f"
            },
            "marker": {
             "line": {
              "color": "#E5ECF6",
              "width": 0.5
             },
             "pattern": {
              "fillmode": "overlay",
              "size": 10,
              "solidity": 0.2
             }
            },
            "type": "bar"
           }
          ],
          "barpolar": [
           {
            "marker": {
             "line": {
              "color": "#E5ECF6",
              "width": 0.5
             },
             "pattern": {
              "fillmode": "overlay",
              "size": 10,
              "solidity": 0.2
             }
            },
            "type": "barpolar"
           }
          ],
          "carpet": [
           {
            "aaxis": {
             "endlinecolor": "#2a3f5f",
             "gridcolor": "white",
             "linecolor": "white",
             "minorgridcolor": "white",
             "startlinecolor": "#2a3f5f"
            },
            "baxis": {
             "endlinecolor": "#2a3f5f",
             "gridcolor": "white",
             "linecolor": "white",
             "minorgridcolor": "white",
             "startlinecolor": "#2a3f5f"
            },
            "type": "carpet"
           }
          ],
          "choropleth": [
           {
            "colorbar": {
             "outlinewidth": 0,
             "ticks": ""
            },
            "type": "choropleth"
           }
          ],
          "contour": [
           {
            "colorbar": {
             "outlinewidth": 0,
             "ticks": ""
            },
            "colorscale": [
             [
              0,
              "#0d0887"
             ],
             [
              0.1111111111111111,
              "#46039f"
             ],
             [
              0.2222222222222222,
              "#7201a8"
             ],
             [
              0.3333333333333333,
              "#9c179e"
             ],
             [
              0.4444444444444444,
              "#bd3786"
             ],
             [
              0.5555555555555556,
              "#d8576b"
             ],
             [
              0.6666666666666666,
              "#ed7953"
             ],
             [
              0.7777777777777778,
              "#fb9f3a"
             ],
             [
              0.8888888888888888,
              "#fdca26"
             ],
             [
              1,
              "#f0f921"
             ]
            ],
            "type": "contour"
           }
          ],
          "contourcarpet": [
           {
            "colorbar": {
             "outlinewidth": 0,
             "ticks": ""
            },
            "type": "contourcarpet"
           }
          ],
          "heatmap": [
           {
            "colorbar": {
             "outlinewidth": 0,
             "ticks": ""
            },
            "colorscale": [
             [
              0,
              "#0d0887"
             ],
             [
              0.1111111111111111,
              "#46039f"
             ],
             [
              0.2222222222222222,
              "#7201a8"
             ],
             [
              0.3333333333333333,
              "#9c179e"
             ],
             [
              0.4444444444444444,
              "#bd3786"
             ],
             [
              0.5555555555555556,
              "#d8576b"
             ],
             [
              0.6666666666666666,
              "#ed7953"
             ],
             [
              0.7777777777777778,
              "#fb9f3a"
             ],
             [
              0.8888888888888888,
              "#fdca26"
             ],
             [
              1,
              "#f0f921"
             ]
            ],
            "type": "heatmap"
           }
          ],
          "heatmapgl": [
           {
            "colorbar": {
             "outlinewidth": 0,
             "ticks": ""
            },
            "colorscale": [
             [
              0,
              "#0d0887"
             ],
             [
              0.1111111111111111,
              "#46039f"
             ],
             [
              0.2222222222222222,
              "#7201a8"
             ],
             [
              0.3333333333333333,
              "#9c179e"
             ],
             [
              0.4444444444444444,
              "#bd3786"
             ],
             [
              0.5555555555555556,
              "#d8576b"
             ],
             [
              0.6666666666666666,
              "#ed7953"
             ],
             [
              0.7777777777777778,
              "#fb9f3a"
             ],
             [
              0.8888888888888888,
              "#fdca26"
             ],
             [
              1,
              "#f0f921"
             ]
            ],
            "type": "heatmapgl"
           }
          ],
          "histogram": [
           {
            "marker": {
             "pattern": {
              "fillmode": "overlay",
              "size": 10,
              "solidity": 0.2
             }
            },
            "type": "histogram"
           }
          ],
          "histogram2d": [
           {
            "colorbar": {
             "outlinewidth": 0,
             "ticks": ""
            },
            "colorscale": [
             [
              0,
              "#0d0887"
             ],
             [
              0.1111111111111111,
              "#46039f"
             ],
             [
              0.2222222222222222,
              "#7201a8"
             ],
             [
              0.3333333333333333,
              "#9c179e"
             ],
             [
              0.4444444444444444,
              "#bd3786"
             ],
             [
              0.5555555555555556,
              "#d8576b"
             ],
             [
              0.6666666666666666,
              "#ed7953"
             ],
             [
              0.7777777777777778,
              "#fb9f3a"
             ],
             [
              0.8888888888888888,
              "#fdca26"
             ],
             [
              1,
              "#f0f921"
             ]
            ],
            "type": "histogram2d"
           }
          ],
          "histogram2dcontour": [
           {
            "colorbar": {
             "outlinewidth": 0,
             "ticks": ""
            },
            "colorscale": [
             [
              0,
              "#0d0887"
             ],
             [
              0.1111111111111111,
              "#46039f"
             ],
             [
              0.2222222222222222,
              "#7201a8"
             ],
             [
              0.3333333333333333,
              "#9c179e"
             ],
             [
              0.4444444444444444,
              "#bd3786"
             ],
             [
              0.5555555555555556,
              "#d8576b"
             ],
             [
              0.6666666666666666,
              "#ed7953"
             ],
             [
              0.7777777777777778,
              "#fb9f3a"
             ],
             [
              0.8888888888888888,
              "#fdca26"
             ],
             [
              1,
              "#f0f921"
             ]
            ],
            "type": "histogram2dcontour"
           }
          ],
          "mesh3d": [
           {
            "colorbar": {
             "outlinewidth": 0,
             "ticks": ""
            },
            "type": "mesh3d"
           }
          ],
          "parcoords": [
           {
            "line": {
             "colorbar": {
              "outlinewidth": 0,
              "ticks": ""
             }
            },
            "type": "parcoords"
           }
          ],
          "pie": [
           {
            "automargin": true,
            "type": "pie"
           }
          ],
          "scatter": [
           {
            "fillpattern": {
             "fillmode": "overlay",
             "size": 10,
             "solidity": 0.2
            },
            "type": "scatter"
           }
          ],
          "scatter3d": [
           {
            "line": {
             "colorbar": {
              "outlinewidth": 0,
              "ticks": ""
             }
            },
            "marker": {
             "colorbar": {
              "outlinewidth": 0,
              "ticks": ""
             }
            },
            "type": "scatter3d"
           }
          ],
          "scattercarpet": [
           {
            "marker": {
             "colorbar": {
              "outlinewidth": 0,
              "ticks": ""
             }
            },
            "type": "scattercarpet"
           }
          ],
          "scattergeo": [
           {
            "marker": {
             "colorbar": {
              "outlinewidth": 0,
              "ticks": ""
             }
            },
            "type": "scattergeo"
           }
          ],
          "scattergl": [
           {
            "marker": {
             "colorbar": {
              "outlinewidth": 0,
              "ticks": ""
             }
            },
            "type": "scattergl"
           }
          ],
          "scattermapbox": [
           {
            "marker": {
             "colorbar": {
              "outlinewidth": 0,
              "ticks": ""
             }
            },
            "type": "scattermapbox"
           }
          ],
          "scatterpolar": [
           {
            "marker": {
             "colorbar": {
              "outlinewidth": 0,
              "ticks": ""
             }
            },
            "type": "scatterpolar"
           }
          ],
          "scatterpolargl": [
           {
            "marker": {
             "colorbar": {
              "outlinewidth": 0,
              "ticks": ""
             }
            },
            "type": "scatterpolargl"
           }
          ],
          "scatterternary": [
           {
            "marker": {
             "colorbar": {
              "outlinewidth": 0,
              "ticks": ""
             }
            },
            "type": "scatterternary"
           }
          ],
          "surface": [
           {
            "colorbar": {
             "outlinewidth": 0,
             "ticks": ""
            },
            "colorscale": [
             [
              0,
              "#0d0887"
             ],
             [
              0.1111111111111111,
              "#46039f"
             ],
             [
              0.2222222222222222,
              "#7201a8"
             ],
             [
              0.3333333333333333,
              "#9c179e"
             ],
             [
              0.4444444444444444,
              "#bd3786"
             ],
             [
              0.5555555555555556,
              "#d8576b"
             ],
             [
              0.6666666666666666,
              "#ed7953"
             ],
             [
              0.7777777777777778,
              "#fb9f3a"
             ],
             [
              0.8888888888888888,
              "#fdca26"
             ],
             [
              1,
              "#f0f921"
             ]
            ],
            "type": "surface"
           }
          ],
          "table": [
           {
            "cells": {
             "fill": {
              "color": "#EBF0F8"
             },
             "line": {
              "color": "white"
             }
            },
            "header": {
             "fill": {
              "color": "#C8D4E3"
             },
             "line": {
              "color": "white"
             }
            },
            "type": "table"
           }
          ]
         },
         "layout": {
          "annotationdefaults": {
           "arrowcolor": "#2a3f5f",
           "arrowhead": 0,
           "arrowwidth": 1
          },
          "autotypenumbers": "strict",
          "coloraxis": {
           "colorbar": {
            "outlinewidth": 0,
            "ticks": ""
           }
          },
          "colorscale": {
           "diverging": [
            [
             0,
             "#8e0152"
            ],
            [
             0.1,
             "#c51b7d"
            ],
            [
             0.2,
             "#de77ae"
            ],
            [
             0.3,
             "#f1b6da"
            ],
            [
             0.4,
             "#fde0ef"
            ],
            [
             0.5,
             "#f7f7f7"
            ],
            [
             0.6,
             "#e6f5d0"
            ],
            [
             0.7,
             "#b8e186"
            ],
            [
             0.8,
             "#7fbc41"
            ],
            [
             0.9,
             "#4d9221"
            ],
            [
             1,
             "#276419"
            ]
           ],
           "sequential": [
            [
             0,
             "#0d0887"
            ],
            [
             0.1111111111111111,
             "#46039f"
            ],
            [
             0.2222222222222222,
             "#7201a8"
            ],
            [
             0.3333333333333333,
             "#9c179e"
            ],
            [
             0.4444444444444444,
             "#bd3786"
            ],
            [
             0.5555555555555556,
             "#d8576b"
            ],
            [
             0.6666666666666666,
             "#ed7953"
            ],
            [
             0.7777777777777778,
             "#fb9f3a"
            ],
            [
             0.8888888888888888,
             "#fdca26"
            ],
            [
             1,
             "#f0f921"
            ]
           ],
           "sequentialminus": [
            [
             0,
             "#0d0887"
            ],
            [
             0.1111111111111111,
             "#46039f"
            ],
            [
             0.2222222222222222,
             "#7201a8"
            ],
            [
             0.3333333333333333,
             "#9c179e"
            ],
            [
             0.4444444444444444,
             "#bd3786"
            ],
            [
             0.5555555555555556,
             "#d8576b"
            ],
            [
             0.6666666666666666,
             "#ed7953"
            ],
            [
             0.7777777777777778,
             "#fb9f3a"
            ],
            [
             0.8888888888888888,
             "#fdca26"
            ],
            [
             1,
             "#f0f921"
            ]
           ]
          },
          "colorway": [
           "#636efa",
           "#EF553B",
           "#00cc96",
           "#ab63fa",
           "#FFA15A",
           "#19d3f3",
           "#FF6692",
           "#B6E880",
           "#FF97FF",
           "#FECB52"
          ],
          "font": {
           "color": "#2a3f5f"
          },
          "geo": {
           "bgcolor": "white",
           "lakecolor": "white",
           "landcolor": "#E5ECF6",
           "showlakes": true,
           "showland": true,
           "subunitcolor": "white"
          },
          "hoverlabel": {
           "align": "left"
          },
          "hovermode": "closest",
          "mapbox": {
           "style": "light"
          },
          "paper_bgcolor": "white",
          "plot_bgcolor": "#E5ECF6",
          "polar": {
           "angularaxis": {
            "gridcolor": "white",
            "linecolor": "white",
            "ticks": ""
           },
           "bgcolor": "#E5ECF6",
           "radialaxis": {
            "gridcolor": "white",
            "linecolor": "white",
            "ticks": ""
           }
          },
          "scene": {
           "xaxis": {
            "backgroundcolor": "#E5ECF6",
            "gridcolor": "white",
            "gridwidth": 2,
            "linecolor": "white",
            "showbackground": true,
            "ticks": "",
            "zerolinecolor": "white"
           },
           "yaxis": {
            "backgroundcolor": "#E5ECF6",
            "gridcolor": "white",
            "gridwidth": 2,
            "linecolor": "white",
            "showbackground": true,
            "ticks": "",
            "zerolinecolor": "white"
           },
           "zaxis": {
            "backgroundcolor": "#E5ECF6",
            "gridcolor": "white",
            "gridwidth": 2,
            "linecolor": "white",
            "showbackground": true,
            "ticks": "",
            "zerolinecolor": "white"
           }
          },
          "shapedefaults": {
           "line": {
            "color": "#2a3f5f"
           }
          },
          "ternary": {
           "aaxis": {
            "gridcolor": "white",
            "linecolor": "white",
            "ticks": ""
           },
           "baxis": {
            "gridcolor": "white",
            "linecolor": "white",
            "ticks": ""
           },
           "bgcolor": "#E5ECF6",
           "caxis": {
            "gridcolor": "white",
            "linecolor": "white",
            "ticks": ""
           }
          },
          "title": {
           "x": 0.05
          },
          "xaxis": {
           "automargin": true,
           "gridcolor": "white",
           "linecolor": "white",
           "ticks": "",
           "title": {
            "standoff": 15
           },
           "zerolinecolor": "white",
           "zerolinewidth": 2
          },
          "yaxis": {
           "automargin": true,
           "gridcolor": "white",
           "linecolor": "white",
           "ticks": "",
           "title": {
            "standoff": 15
           },
           "zerolinecolor": "white",
           "zerolinewidth": 2
          }
         }
        },
        "title": {
         "text": "Weekly Prices for ['70', '71', '73', '74', '75', '76'] by Category"
        },
        "xaxis": {
         "anchor": "y",
         "domain": [
          0,
          1
         ],
         "title": {
          "text": "date"
         }
        },
        "yaxis": {
         "anchor": "x",
         "domain": [
          0,
          1
         ],
         "title": {
          "text": "wPreis"
         }
        }
       }
      }
     },
     "metadata": {},
     "output_type": "display_data"
    },
    {
     "data": {
      "application/vnd.plotly.v1+json": {
       "config": {
        "plotlyServerURL": "https://plot.ly"
       },
       "data": [
        {
         "hovertemplate": "full=A2 & A3 -  geschreddert<br>date=%{x}<br>wPreis=%{y}<extra></extra>",
         "legendgroup": "A2 & A3 -  geschreddert",
         "line": {
          "color": "#636efa",
          "dash": "solid"
         },
         "marker": {
          "symbol": "circle"
         },
         "mode": "lines",
         "name": "A2 & A3 -  geschreddert",
         "orientation": "v",
         "showlegend": true,
         "type": "scatter",
         "x": [
          "2020-09-14T00:00:00",
          "2020-09-21T00:00:00",
          "2020-09-28T00:00:00",
          "2020-10-05T00:00:00",
          "2020-10-12T00:00:00",
          "2020-10-19T00:00:00",
          "2020-10-26T00:00:00",
          "2020-11-02T00:00:00",
          "2020-11-09T00:00:00",
          "2020-11-16T00:00:00",
          "2020-11-23T00:00:00",
          "2020-11-30T00:00:00",
          "2020-12-07T00:00:00",
          "2020-12-14T00:00:00",
          "2020-12-21T00:00:00",
          "2020-12-28T00:00:00",
          "2021-01-04T00:00:00",
          "2021-01-04T00:00:00",
          "2021-01-11T00:00:00",
          "2021-01-18T00:00:00",
          "2021-01-25T00:00:00",
          "2021-02-01T00:00:00",
          "2021-02-08T00:00:00",
          "2021-02-15T00:00:00",
          "2021-02-22T00:00:00",
          "2021-03-01T00:00:00",
          "2021-03-08T00:00:00",
          "2021-03-15T00:00:00",
          "2021-03-22T00:00:00",
          "2021-03-29T00:00:00",
          "2021-04-05T00:00:00",
          "2021-04-12T00:00:00",
          "2021-04-19T00:00:00",
          "2021-04-26T00:00:00",
          "2021-05-03T00:00:00",
          "2021-05-10T00:00:00",
          "2021-05-17T00:00:00",
          "2021-05-24T00:00:00",
          "2021-05-31T00:00:00",
          "2021-06-07T00:00:00",
          "2021-06-14T00:00:00",
          "2021-06-21T00:00:00",
          "2021-06-28T00:00:00",
          "2021-07-05T00:00:00",
          "2021-07-12T00:00:00",
          "2021-07-19T00:00:00",
          "2021-07-26T00:00:00",
          "2021-08-02T00:00:00",
          "2021-08-09T00:00:00",
          "2021-08-16T00:00:00",
          "2021-08-23T00:00:00",
          "2021-08-30T00:00:00",
          "2021-09-06T00:00:00",
          "2021-09-13T00:00:00",
          "2021-09-20T00:00:00",
          "2021-09-27T00:00:00",
          "2021-10-04T00:00:00",
          "2021-10-11T00:00:00",
          "2021-10-18T00:00:00",
          "2021-10-25T00:00:00",
          "2021-11-01T00:00:00",
          "2021-11-08T00:00:00",
          "2021-11-15T00:00:00",
          "2021-11-22T00:00:00",
          "2021-11-29T00:00:00",
          "2021-12-06T00:00:00",
          "2021-12-13T00:00:00",
          "2021-12-27T00:00:00",
          "2022-01-03T00:00:00",
          "2022-01-10T00:00:00",
          "2022-01-17T00:00:00",
          "2022-01-24T00:00:00",
          "2022-01-31T00:00:00",
          "2022-02-07T00:00:00",
          "2022-02-14T00:00:00",
          "2022-02-21T00:00:00",
          "2022-02-28T00:00:00",
          "2022-03-07T00:00:00",
          "2022-03-14T00:00:00",
          "2022-03-21T00:00:00",
          "2022-03-28T00:00:00",
          "2022-04-04T00:00:00",
          "2022-04-11T00:00:00",
          "2022-04-18T00:00:00",
          "2022-04-25T00:00:00",
          "2022-05-02T00:00:00",
          "2022-05-09T00:00:00",
          "2022-05-16T00:00:00",
          "2022-05-23T00:00:00",
          "2022-05-30T00:00:00",
          "2022-06-06T00:00:00",
          "2022-06-13T00:00:00",
          "2022-06-20T00:00:00",
          "2022-06-27T00:00:00",
          "2022-07-04T00:00:00",
          "2022-07-11T00:00:00",
          "2022-07-18T00:00:00",
          "2022-07-25T00:00:00",
          "2022-08-01T00:00:00",
          "2022-08-08T00:00:00",
          "2022-08-15T00:00:00",
          "2022-08-22T00:00:00",
          "2022-08-29T00:00:00",
          "2022-09-05T00:00:00",
          "2022-09-12T00:00:00",
          "2022-09-19T00:00:00",
          "2022-09-26T00:00:00",
          "2022-10-03T00:00:00",
          "2022-10-10T00:00:00",
          "2022-10-17T00:00:00",
          "2022-10-24T00:00:00",
          "2022-10-31T00:00:00",
          "2022-11-07T00:00:00",
          "2022-11-14T00:00:00",
          "2022-11-21T00:00:00",
          "2022-11-28T00:00:00",
          "2022-12-05T00:00:00",
          "2022-12-12T00:00:00",
          "2022-12-19T00:00:00",
          "2022-12-26T00:00:00",
          "2023-01-02T00:00:00",
          "2023-01-09T00:00:00",
          "2023-01-16T00:00:00",
          "2023-01-23T00:00:00",
          "2023-01-30T00:00:00",
          "2023-02-06T00:00:00",
          "2023-02-13T00:00:00",
          "2023-02-20T00:00:00",
          "2023-02-27T00:00:00",
          "2023-03-06T00:00:00",
          "2023-03-13T00:00:00",
          "2023-03-20T00:00:00",
          "2023-03-27T00:00:00",
          "2023-04-03T00:00:00",
          "2023-04-10T00:00:00",
          "2023-04-17T00:00:00",
          "2023-04-24T00:00:00",
          "2023-05-01T00:00:00",
          "2023-05-08T00:00:00",
          "2023-05-15T00:00:00",
          "2023-05-22T00:00:00",
          "2023-05-29T00:00:00",
          "2023-06-05T00:00:00",
          "2023-06-12T00:00:00",
          "2023-06-19T00:00:00",
          "2023-06-26T00:00:00",
          "2023-07-03T00:00:00",
          "2023-07-10T00:00:00",
          "2023-07-17T00:00:00",
          "2023-07-24T00:00:00",
          "2023-07-31T00:00:00",
          "2023-08-07T00:00:00",
          "2023-08-21T00:00:00",
          "2023-08-28T00:00:00",
          "2023-09-04T00:00:00",
          "2023-09-11T00:00:00",
          "2023-09-18T00:00:00",
          "2023-09-25T00:00:00",
          "2023-10-02T00:00:00",
          "2023-10-09T00:00:00",
          "2023-10-16T00:00:00",
          "2023-10-23T00:00:00",
          "2023-10-30T00:00:00",
          "2023-11-06T00:00:00",
          "2023-11-20T00:00:00",
          "2023-11-27T00:00:00",
          "2023-12-04T00:00:00",
          "2023-12-11T00:00:00",
          "2023-12-18T00:00:00",
          "2024-01-01T00:00:00",
          "2024-01-22T00:00:00",
          "2024-01-29T00:00:00",
          "2024-02-05T00:00:00",
          "2024-02-12T00:00:00",
          "2024-02-19T00:00:00",
          "2024-02-26T00:00:00",
          "2024-03-04T00:00:00",
          "2024-03-11T00:00:00",
          "2024-03-18T00:00:00",
          "2024-03-25T00:00:00",
          "2024-04-01T00:00:00",
          "2024-04-08T00:00:00",
          "2024-04-15T00:00:00",
          "2024-04-22T00:00:00"
         ],
         "xaxis": "x",
         "y": [
          -32.92106458204937,
          -32.28656445763271,
          -37.02903541301603,
          -35.97093776186487,
          -35.19916696207017,
          -32.80017611674024,
          -33.24172912772886,
          -30.82330923011484,
          -34.95292879256966,
          -33.81232886168573,
          -31.55123064929279,
          -36.54503359016207,
          -35.89975177705066,
          -35.18699068152749,
          -37.01484213092772,
          -35,
          -32.96813769548804,
          -35.04184057404856,
          -34.16679478638173,
          -35.20446124449614,
          -31.54825537167545,
          -33.12708532269842,
          -29.87534622277738,
          -29.86874956168035,
          -32.79875396037262,
          -32.78737768338011,
          -34.74677680415248,
          -29.3188549315945,
          -34.48994205612206,
          -33.67080329557157,
          -31.46503607503607,
          -31.3051666439011,
          -31.05518978304843,
          -31.81711419753087,
          -33.46749666135355,
          -25.83264450950002,
          -26.45041499434985,
          -28.89545963175206,
          -29.01950097930682,
          -27.88816325145881,
          -28.79773826699483,
          -27.71474062065771,
          -24.67028173523291,
          -28.2808261660602,
          -22.22873450108246,
          -29.38217769575533,
          -25.4610643804594,
          -25.62292146328983,
          -25.56404046927134,
          -25.57330762344192,
          -23.74897680763983,
          -24.99751504445976,
          -23.2826343110092,
          -23.56462373933282,
          -24.80576949684085,
          -24.2337943969054,
          -24.30043604651163,
          -25.02047883455729,
          -26.09241261025808,
          -22.32215619694397,
          -25.30591191641318,
          -17.10084963587034,
          -16.0157592475355,
          -15.14696078431373,
          -4.947171174425429,
          -10.39268567364116,
          -12.65583700440529,
          3.255454736179587,
          25.48633098099052,
          21.66131333455276,
          18.81933496421129,
          14.79074772036475,
          19.23866793963834,
          23.25683517388025,
          21.11160139013628,
          24.36278264882326,
          24.49280947841481,
          23.89408629018824,
          21.80847663854639,
          22.00656470148525,
          18.8931689589458,
          21.85957410311704,
          28.64060192957262,
          18.41991508619684,
          20.92398293196165,
          24.36716211825861,
          16.37559803823441,
          22.59313081630942,
          21.52681810753391,
          26.41690363739768,
          26.2241493051861,
          24.67830157527727,
          23.47501082719792,
          28.02910714285715,
          25.69003591229838,
          27.55053578859759,
          25.47499947189421,
          27.60543877805931,
          33.34056921307145,
          32.18334963107831,
          32.1228907218718,
          39.08836813510506,
          39.71683590322176,
          39.91708433415922,
          45.1747343220834,
          45.40422067756278,
          47.81413421367846,
          47.68557696257651,
          47.02103388793056,
          53.83475985631291,
          54.43113357800706,
          53.56015409266016,
          53.46408652512864,
          55.81098013143427,
          56.23763512427991,
          54.41043123139751,
          52.78545896000537,
          54.65295523864479,
          58.37942561920681,
          58.93069533394327,
          50.42897384305835,
          48.84573852680293,
          48.69651504326427,
          48.19580353782463,
          49.02757541417085,
          47.3771498771499,
          44.96090016508819,
          41.56209987195903,
          38.82044031508786,
          37.80786797052313,
          30.3333984184321,
          32.47754854368932,
          29.50190355329949,
          26.52552552552553,
          26.10440411421309,
          26.94703485740154,
          22.83587230096701,
          22.82713624245826,
          26.3221551845096,
          26.8872284784117,
          23.8410109561753,
          22.2520857069352,
          23.18318213538032,
          17.70398450750577,
          14.43794760019572,
          15.21437556154538,
          18.01416795466255,
          13.42501270971022,
          14.66092340826491,
          12.09227450667093,
          15,
          13.56556483835815,
          4.093217404685879,
          14.15623654591303,
          14.05245861733203,
          11.38257118205349,
          7.967875552282768,
          9.109128145114102,
          9.986910994764399,
          9.499931690878457,
          5.175190424374319,
          8.730330672748005,
          9.216434600678163,
          8.48267473206654,
          3.63971409425955,
          6.744579744579744,
          6.40315138852616,
          11,
          9.587126810523205,
          7.964175291497446,
          10.78090052812109,
          9.698530096441637,
          8.994271729064693,
          11.43130826315351,
          8.769587858600548,
          11.58813557328063,
          11.28687514086094,
          12.94815618832817,
          9.89218636185353,
          12.66512544903458,
          6.003511059596254,
          8.515092773295269,
          10.27618000062187,
          7.216048832650152
         ],
         "yaxis": "y"
        },
        {
         "hovertemplate": "full=A3 -  geschreddert<br>date=%{x}<br>wPreis=%{y}<extra></extra>",
         "legendgroup": "A3 -  geschreddert",
         "line": {
          "color": "#EF553B",
          "dash": "solid"
         },
         "marker": {
          "symbol": "circle"
         },
         "mode": "lines",
         "name": "A3 -  geschreddert",
         "orientation": "v",
         "showlegend": true,
         "type": "scatter",
         "x": [
          "2020-09-14T00:00:00",
          "2020-09-21T00:00:00",
          "2020-09-28T00:00:00",
          "2020-10-05T00:00:00",
          "2020-10-12T00:00:00",
          "2020-10-19T00:00:00",
          "2020-10-26T00:00:00",
          "2020-11-02T00:00:00",
          "2020-11-09T00:00:00",
          "2020-11-16T00:00:00",
          "2020-11-23T00:00:00",
          "2020-11-30T00:00:00",
          "2020-12-07T00:00:00",
          "2020-12-14T00:00:00",
          "2020-12-21T00:00:00",
          "2020-12-28T00:00:00",
          "2021-01-04T00:00:00",
          "2021-01-04T00:00:00",
          "2021-01-11T00:00:00",
          "2021-01-18T00:00:00",
          "2021-01-25T00:00:00",
          "2021-02-01T00:00:00",
          "2021-02-08T00:00:00",
          "2021-02-15T00:00:00",
          "2021-02-22T00:00:00",
          "2021-03-01T00:00:00",
          "2021-03-08T00:00:00",
          "2021-03-15T00:00:00",
          "2021-03-22T00:00:00",
          "2021-03-29T00:00:00",
          "2021-04-05T00:00:00",
          "2021-04-12T00:00:00",
          "2021-04-19T00:00:00",
          "2021-04-26T00:00:00",
          "2021-05-03T00:00:00",
          "2021-05-10T00:00:00",
          "2021-05-17T00:00:00",
          "2021-05-24T00:00:00",
          "2021-05-31T00:00:00",
          "2021-06-07T00:00:00",
          "2021-06-14T00:00:00",
          "2021-06-21T00:00:00",
          "2021-06-28T00:00:00",
          "2021-07-05T00:00:00",
          "2021-07-12T00:00:00",
          "2021-07-19T00:00:00",
          "2021-07-26T00:00:00",
          "2021-08-02T00:00:00",
          "2021-08-09T00:00:00",
          "2021-08-16T00:00:00",
          "2021-08-23T00:00:00",
          "2021-08-30T00:00:00",
          "2021-09-06T00:00:00",
          "2021-09-13T00:00:00",
          "2021-09-20T00:00:00",
          "2021-09-27T00:00:00",
          "2021-10-04T00:00:00",
          "2021-10-11T00:00:00",
          "2021-10-18T00:00:00",
          "2021-10-25T00:00:00",
          "2021-11-01T00:00:00",
          "2021-11-08T00:00:00",
          "2021-11-15T00:00:00",
          "2021-11-22T00:00:00",
          "2021-11-29T00:00:00",
          "2021-12-06T00:00:00",
          "2021-12-13T00:00:00",
          "2021-12-27T00:00:00",
          "2022-01-03T00:00:00",
          "2022-01-10T00:00:00",
          "2022-01-17T00:00:00",
          "2022-01-24T00:00:00",
          "2022-01-31T00:00:00",
          "2022-02-07T00:00:00",
          "2022-02-14T00:00:00",
          "2022-02-21T00:00:00",
          "2022-02-28T00:00:00",
          "2022-03-07T00:00:00",
          "2022-03-14T00:00:00",
          "2022-03-21T00:00:00",
          "2022-03-28T00:00:00",
          "2022-04-04T00:00:00",
          "2022-04-11T00:00:00",
          "2022-04-18T00:00:00",
          "2022-04-25T00:00:00",
          "2022-05-02T00:00:00",
          "2022-05-09T00:00:00",
          "2022-05-16T00:00:00",
          "2022-05-23T00:00:00",
          "2022-05-30T00:00:00",
          "2022-06-06T00:00:00",
          "2022-06-13T00:00:00",
          "2022-06-20T00:00:00",
          "2022-06-27T00:00:00",
          "2022-07-04T00:00:00",
          "2022-07-11T00:00:00",
          "2022-07-18T00:00:00",
          "2022-07-25T00:00:00",
          "2022-08-01T00:00:00",
          "2022-08-08T00:00:00",
          "2022-08-15T00:00:00",
          "2022-08-22T00:00:00",
          "2022-08-29T00:00:00",
          "2022-09-05T00:00:00",
          "2022-09-12T00:00:00",
          "2022-09-19T00:00:00",
          "2022-09-26T00:00:00",
          "2022-10-03T00:00:00",
          "2022-10-10T00:00:00",
          "2022-10-17T00:00:00",
          "2022-10-24T00:00:00",
          "2022-10-31T00:00:00",
          "2022-11-07T00:00:00",
          "2022-11-14T00:00:00",
          "2022-11-21T00:00:00",
          "2022-11-28T00:00:00",
          "2022-12-05T00:00:00",
          "2022-12-12T00:00:00",
          "2022-12-26T00:00:00",
          "2023-01-02T00:00:00",
          "2023-01-09T00:00:00",
          "2023-01-23T00:00:00",
          "2023-01-30T00:00:00",
          "2023-02-06T00:00:00",
          "2023-02-13T00:00:00",
          "2023-02-20T00:00:00",
          "2023-02-27T00:00:00",
          "2023-03-06T00:00:00",
          "2023-03-13T00:00:00",
          "2023-03-20T00:00:00",
          "2023-03-27T00:00:00",
          "2023-04-03T00:00:00",
          "2023-04-10T00:00:00",
          "2023-04-17T00:00:00",
          "2023-04-24T00:00:00",
          "2023-05-01T00:00:00",
          "2023-05-08T00:00:00",
          "2023-05-15T00:00:00",
          "2023-05-22T00:00:00",
          "2023-05-29T00:00:00",
          "2023-06-05T00:00:00",
          "2023-06-12T00:00:00",
          "2023-06-19T00:00:00",
          "2023-06-26T00:00:00",
          "2023-07-03T00:00:00",
          "2023-07-10T00:00:00",
          "2023-07-17T00:00:00",
          "2023-07-24T00:00:00",
          "2023-07-31T00:00:00",
          "2023-08-07T00:00:00",
          "2023-08-21T00:00:00",
          "2023-08-28T00:00:00",
          "2023-09-04T00:00:00",
          "2023-09-11T00:00:00",
          "2023-09-18T00:00:00",
          "2023-09-25T00:00:00",
          "2023-10-02T00:00:00",
          "2023-10-09T00:00:00",
          "2023-10-16T00:00:00",
          "2023-10-23T00:00:00",
          "2023-10-30T00:00:00",
          "2023-11-06T00:00:00",
          "2023-11-20T00:00:00",
          "2023-11-27T00:00:00",
          "2023-12-04T00:00:00",
          "2023-12-11T00:00:00",
          "2023-12-18T00:00:00",
          "2024-01-01T00:00:00",
          "2024-01-22T00:00:00",
          "2024-01-29T00:00:00",
          "2024-02-05T00:00:00",
          "2024-02-12T00:00:00",
          "2024-02-19T00:00:00",
          "2024-02-26T00:00:00",
          "2024-03-04T00:00:00",
          "2024-03-11T00:00:00",
          "2024-03-18T00:00:00",
          "2024-03-25T00:00:00",
          "2024-04-01T00:00:00",
          "2024-04-08T00:00:00",
          "2024-04-15T00:00:00",
          "2024-04-22T00:00:00"
         ],
         "xaxis": "x",
         "y": [
          -32.76972196123465,
          -32.28656445763271,
          -37.37464850189082,
          -36.59621424856994,
          -36.18688192199544,
          -32.01922699901974,
          -34.17893823080302,
          -33.69970181794863,
          -37.52093054987036,
          -34.45289947179617,
          -33.73543345843844,
          -38.88801547452466,
          -36.62134484091202,
          -36.4046914439899,
          -37.01484213092772,
          -35,
          -36.06088537211291,
          -34.50149810346476,
          -36.11784551877432,
          -37.71937212863705,
          -31.26700716572648,
          -35.81291539428776,
          -31.08246464277005,
          -31.01910474846255,
          -34.45920555662249,
          -35.30698812652951,
          -35.07446300715991,
          -32.54277469729546,
          -35.99868476283756,
          -36.32542992629835,
          -31.43061274338753,
          -31.40413299044819,
          -31.14649859943978,
          -31.81711419753087,
          -33.46749666135355,
          -25.83264450950002,
          -27.9799990675556,
          -28.89545963175206,
          -28.69268747088962,
          -29.19271968046477,
          -30.52994869898785,
          -27.71474062065771,
          -27.16299868889305,
          -30.81062777366864,
          -23.1364040472461,
          -30.38743832806697,
          -26.66971252210701,
          -27.34334107517135,
          -27.42644499129704,
          -25.57330762344192,
          -24.5323284410948,
          -25.43990322935377,
          -24.20378645343368,
          -24.83643004605368,
          -25.35145317545748,
          -24.65885910428245,
          -24.60263332779532,
          -25.75213412289472,
          -24.94959671462758,
          -22.32215619694397,
          -28.07927955665025,
          -15.98255114320096,
          -14.41157004830918,
          -12.42533788693504,
          -3.601384669024257,
          -7.649597872616423,
          -11.14826571247187,
          5.049978139687397,
          26.84059583632448,
          27,
          26.82438667154888,
          13.36873430162717,
          18.81283543047851,
          24.93202179547356,
          21.21755223560335,
          25.23116944080428,
          25.82784101221187,
          22.61308752951931,
          21.87770540029418,
          8.826448647501122,
          8.336648961854177,
          17.53636856368563,
          22.15213565829467,
          9.845202867100678,
          5.2298224852071,
          21.92195098229917,
          9.234894714224323,
          18.7298747763864,
          21.63970641145571,
          27.77026983668624,
          28.04731808266682,
          25.90392773369266,
          24.65648997939689,
          29.4500303030303,
          25.91549607566914,
          28.37509889240506,
          24.54328000815162,
          27.43851880129796,
          34.8149320371888,
          32.80539135897656,
          30.86203747671403,
          40.20440740926661,
          40.775321822782,
          40.41175422974177,
          45.5588469501513,
          45.81471083660865,
          48.76376146788991,
          49.04034791012322,
          49.68844863396708,
          56.55575014594278,
          56.39202422621624,
          55.50539897867696,
          55.62898986105898,
          57.51813236627378,
          58.15600211528292,
          56.73231986980323,
          54.63861003861003,
          55.91788304826721,
          59.99999999999999,
          54.78548607941579,
          51.59695270950122,
          50.00000000000001,
          50,
          48.93606370875995,
          44.80823680823681,
          40.22497991250781,
          37.55783141158776,
          36.93259080336375,
          40,
          36.42816527672479,
          29.39445699487575,
          23.38762680382911,
          24.36008739147933,
          26.27197346600332,
          25.26388888888889,
          22.66669531955129,
          25.49131357146953,
          26.8872284784117,
          24.19262339639052,
          23.2735691987513,
          24.03309416189904,
          16.79416442810689,
          14.43794760019572,
          12.51861588745204,
          18.01416795466255,
          13.42501270971022,
          16.8010195953481,
          12.09227450667093,
          15,
          13.56556483835815,
          4.093217404685879,
          14.15623654591303,
          14.05245861733203,
          11.7858584376032,
          8.345403610707615,
          9.508345816392037,
          9.986910994764399,
          9.871044069801833,
          5.216349384098544,
          9.213135866065679,
          9.493791088385683,
          8.931710213776721,
          3.282571912013536,
          6.744579744579744,
          6.40315138852616,
          11,
          9.587126810523205,
          7.964175291497446,
          9.627101200686106,
          8.922714919181804,
          6.48949821499405,
          8.23448548917132,
          4.275486396555099,
          10.70593676481072,
          9.839591830076024,
          10.76665288982939,
          9.24924554618652,
          12.0563140212773,
          5.202995011587258,
          6.019227511093181,
          8.701431456296799,
          4.383920946687812
         ],
         "yaxis": "y"
        }
       ],
       "layout": {
        "legend": {
         "title": {
          "text": "full"
         },
         "tracegroupgap": 0
        },
        "template": {
         "data": {
          "bar": [
           {
            "error_x": {
             "color": "#2a3f5f"
            },
            "error_y": {
             "color": "#2a3f5f"
            },
            "marker": {
             "line": {
              "color": "#E5ECF6",
              "width": 0.5
             },
             "pattern": {
              "fillmode": "overlay",
              "size": 10,
              "solidity": 0.2
             }
            },
            "type": "bar"
           }
          ],
          "barpolar": [
           {
            "marker": {
             "line": {
              "color": "#E5ECF6",
              "width": 0.5
             },
             "pattern": {
              "fillmode": "overlay",
              "size": 10,
              "solidity": 0.2
             }
            },
            "type": "barpolar"
           }
          ],
          "carpet": [
           {
            "aaxis": {
             "endlinecolor": "#2a3f5f",
             "gridcolor": "white",
             "linecolor": "white",
             "minorgridcolor": "white",
             "startlinecolor": "#2a3f5f"
            },
            "baxis": {
             "endlinecolor": "#2a3f5f",
             "gridcolor": "white",
             "linecolor": "white",
             "minorgridcolor": "white",
             "startlinecolor": "#2a3f5f"
            },
            "type": "carpet"
           }
          ],
          "choropleth": [
           {
            "colorbar": {
             "outlinewidth": 0,
             "ticks": ""
            },
            "type": "choropleth"
           }
          ],
          "contour": [
           {
            "colorbar": {
             "outlinewidth": 0,
             "ticks": ""
            },
            "colorscale": [
             [
              0,
              "#0d0887"
             ],
             [
              0.1111111111111111,
              "#46039f"
             ],
             [
              0.2222222222222222,
              "#7201a8"
             ],
             [
              0.3333333333333333,
              "#9c179e"
             ],
             [
              0.4444444444444444,
              "#bd3786"
             ],
             [
              0.5555555555555556,
              "#d8576b"
             ],
             [
              0.6666666666666666,
              "#ed7953"
             ],
             [
              0.7777777777777778,
              "#fb9f3a"
             ],
             [
              0.8888888888888888,
              "#fdca26"
             ],
             [
              1,
              "#f0f921"
             ]
            ],
            "type": "contour"
           }
          ],
          "contourcarpet": [
           {
            "colorbar": {
             "outlinewidth": 0,
             "ticks": ""
            },
            "type": "contourcarpet"
           }
          ],
          "heatmap": [
           {
            "colorbar": {
             "outlinewidth": 0,
             "ticks": ""
            },
            "colorscale": [
             [
              0,
              "#0d0887"
             ],
             [
              0.1111111111111111,
              "#46039f"
             ],
             [
              0.2222222222222222,
              "#7201a8"
             ],
             [
              0.3333333333333333,
              "#9c179e"
             ],
             [
              0.4444444444444444,
              "#bd3786"
             ],
             [
              0.5555555555555556,
              "#d8576b"
             ],
             [
              0.6666666666666666,
              "#ed7953"
             ],
             [
              0.7777777777777778,
              "#fb9f3a"
             ],
             [
              0.8888888888888888,
              "#fdca26"
             ],
             [
              1,
              "#f0f921"
             ]
            ],
            "type": "heatmap"
           }
          ],
          "heatmapgl": [
           {
            "colorbar": {
             "outlinewidth": 0,
             "ticks": ""
            },
            "colorscale": [
             [
              0,
              "#0d0887"
             ],
             [
              0.1111111111111111,
              "#46039f"
             ],
             [
              0.2222222222222222,
              "#7201a8"
             ],
             [
              0.3333333333333333,
              "#9c179e"
             ],
             [
              0.4444444444444444,
              "#bd3786"
             ],
             [
              0.5555555555555556,
              "#d8576b"
             ],
             [
              0.6666666666666666,
              "#ed7953"
             ],
             [
              0.7777777777777778,
              "#fb9f3a"
             ],
             [
              0.8888888888888888,
              "#fdca26"
             ],
             [
              1,
              "#f0f921"
             ]
            ],
            "type": "heatmapgl"
           }
          ],
          "histogram": [
           {
            "marker": {
             "pattern": {
              "fillmode": "overlay",
              "size": 10,
              "solidity": 0.2
             }
            },
            "type": "histogram"
           }
          ],
          "histogram2d": [
           {
            "colorbar": {
             "outlinewidth": 0,
             "ticks": ""
            },
            "colorscale": [
             [
              0,
              "#0d0887"
             ],
             [
              0.1111111111111111,
              "#46039f"
             ],
             [
              0.2222222222222222,
              "#7201a8"
             ],
             [
              0.3333333333333333,
              "#9c179e"
             ],
             [
              0.4444444444444444,
              "#bd3786"
             ],
             [
              0.5555555555555556,
              "#d8576b"
             ],
             [
              0.6666666666666666,
              "#ed7953"
             ],
             [
              0.7777777777777778,
              "#fb9f3a"
             ],
             [
              0.8888888888888888,
              "#fdca26"
             ],
             [
              1,
              "#f0f921"
             ]
            ],
            "type": "histogram2d"
           }
          ],
          "histogram2dcontour": [
           {
            "colorbar": {
             "outlinewidth": 0,
             "ticks": ""
            },
            "colorscale": [
             [
              0,
              "#0d0887"
             ],
             [
              0.1111111111111111,
              "#46039f"
             ],
             [
              0.2222222222222222,
              "#7201a8"
             ],
             [
              0.3333333333333333,
              "#9c179e"
             ],
             [
              0.4444444444444444,
              "#bd3786"
             ],
             [
              0.5555555555555556,
              "#d8576b"
             ],
             [
              0.6666666666666666,
              "#ed7953"
             ],
             [
              0.7777777777777778,
              "#fb9f3a"
             ],
             [
              0.8888888888888888,
              "#fdca26"
             ],
             [
              1,
              "#f0f921"
             ]
            ],
            "type": "histogram2dcontour"
           }
          ],
          "mesh3d": [
           {
            "colorbar": {
             "outlinewidth": 0,
             "ticks": ""
            },
            "type": "mesh3d"
           }
          ],
          "parcoords": [
           {
            "line": {
             "colorbar": {
              "outlinewidth": 0,
              "ticks": ""
             }
            },
            "type": "parcoords"
           }
          ],
          "pie": [
           {
            "automargin": true,
            "type": "pie"
           }
          ],
          "scatter": [
           {
            "fillpattern": {
             "fillmode": "overlay",
             "size": 10,
             "solidity": 0.2
            },
            "type": "scatter"
           }
          ],
          "scatter3d": [
           {
            "line": {
             "colorbar": {
              "outlinewidth": 0,
              "ticks": ""
             }
            },
            "marker": {
             "colorbar": {
              "outlinewidth": 0,
              "ticks": ""
             }
            },
            "type": "scatter3d"
           }
          ],
          "scattercarpet": [
           {
            "marker": {
             "colorbar": {
              "outlinewidth": 0,
              "ticks": ""
             }
            },
            "type": "scattercarpet"
           }
          ],
          "scattergeo": [
           {
            "marker": {
             "colorbar": {
              "outlinewidth": 0,
              "ticks": ""
             }
            },
            "type": "scattergeo"
           }
          ],
          "scattergl": [
           {
            "marker": {
             "colorbar": {
              "outlinewidth": 0,
              "ticks": ""
             }
            },
            "type": "scattergl"
           }
          ],
          "scattermapbox": [
           {
            "marker": {
             "colorbar": {
              "outlinewidth": 0,
              "ticks": ""
             }
            },
            "type": "scattermapbox"
           }
          ],
          "scatterpolar": [
           {
            "marker": {
             "colorbar": {
              "outlinewidth": 0,
              "ticks": ""
             }
            },
            "type": "scatterpolar"
           }
          ],
          "scatterpolargl": [
           {
            "marker": {
             "colorbar": {
              "outlinewidth": 0,
              "ticks": ""
             }
            },
            "type": "scatterpolargl"
           }
          ],
          "scatterternary": [
           {
            "marker": {
             "colorbar": {
              "outlinewidth": 0,
              "ticks": ""
             }
            },
            "type": "scatterternary"
           }
          ],
          "surface": [
           {
            "colorbar": {
             "outlinewidth": 0,
             "ticks": ""
            },
            "colorscale": [
             [
              0,
              "#0d0887"
             ],
             [
              0.1111111111111111,
              "#46039f"
             ],
             [
              0.2222222222222222,
              "#7201a8"
             ],
             [
              0.3333333333333333,
              "#9c179e"
             ],
             [
              0.4444444444444444,
              "#bd3786"
             ],
             [
              0.5555555555555556,
              "#d8576b"
             ],
             [
              0.6666666666666666,
              "#ed7953"
             ],
             [
              0.7777777777777778,
              "#fb9f3a"
             ],
             [
              0.8888888888888888,
              "#fdca26"
             ],
             [
              1,
              "#f0f921"
             ]
            ],
            "type": "surface"
           }
          ],
          "table": [
           {
            "cells": {
             "fill": {
              "color": "#EBF0F8"
             },
             "line": {
              "color": "white"
             }
            },
            "header": {
             "fill": {
              "color": "#C8D4E3"
             },
             "line": {
              "color": "white"
             }
            },
            "type": "table"
           }
          ]
         },
         "layout": {
          "annotationdefaults": {
           "arrowcolor": "#2a3f5f",
           "arrowhead": 0,
           "arrowwidth": 1
          },
          "autotypenumbers": "strict",
          "coloraxis": {
           "colorbar": {
            "outlinewidth": 0,
            "ticks": ""
           }
          },
          "colorscale": {
           "diverging": [
            [
             0,
             "#8e0152"
            ],
            [
             0.1,
             "#c51b7d"
            ],
            [
             0.2,
             "#de77ae"
            ],
            [
             0.3,
             "#f1b6da"
            ],
            [
             0.4,
             "#fde0ef"
            ],
            [
             0.5,
             "#f7f7f7"
            ],
            [
             0.6,
             "#e6f5d0"
            ],
            [
             0.7,
             "#b8e186"
            ],
            [
             0.8,
             "#7fbc41"
            ],
            [
             0.9,
             "#4d9221"
            ],
            [
             1,
             "#276419"
            ]
           ],
           "sequential": [
            [
             0,
             "#0d0887"
            ],
            [
             0.1111111111111111,
             "#46039f"
            ],
            [
             0.2222222222222222,
             "#7201a8"
            ],
            [
             0.3333333333333333,
             "#9c179e"
            ],
            [
             0.4444444444444444,
             "#bd3786"
            ],
            [
             0.5555555555555556,
             "#d8576b"
            ],
            [
             0.6666666666666666,
             "#ed7953"
            ],
            [
             0.7777777777777778,
             "#fb9f3a"
            ],
            [
             0.8888888888888888,
             "#fdca26"
            ],
            [
             1,
             "#f0f921"
            ]
           ],
           "sequentialminus": [
            [
             0,
             "#0d0887"
            ],
            [
             0.1111111111111111,
             "#46039f"
            ],
            [
             0.2222222222222222,
             "#7201a8"
            ],
            [
             0.3333333333333333,
             "#9c179e"
            ],
            [
             0.4444444444444444,
             "#bd3786"
            ],
            [
             0.5555555555555556,
             "#d8576b"
            ],
            [
             0.6666666666666666,
             "#ed7953"
            ],
            [
             0.7777777777777778,
             "#fb9f3a"
            ],
            [
             0.8888888888888888,
             "#fdca26"
            ],
            [
             1,
             "#f0f921"
            ]
           ]
          },
          "colorway": [
           "#636efa",
           "#EF553B",
           "#00cc96",
           "#ab63fa",
           "#FFA15A",
           "#19d3f3",
           "#FF6692",
           "#B6E880",
           "#FF97FF",
           "#FECB52"
          ],
          "font": {
           "color": "#2a3f5f"
          },
          "geo": {
           "bgcolor": "white",
           "lakecolor": "white",
           "landcolor": "#E5ECF6",
           "showlakes": true,
           "showland": true,
           "subunitcolor": "white"
          },
          "hoverlabel": {
           "align": "left"
          },
          "hovermode": "closest",
          "mapbox": {
           "style": "light"
          },
          "paper_bgcolor": "white",
          "plot_bgcolor": "#E5ECF6",
          "polar": {
           "angularaxis": {
            "gridcolor": "white",
            "linecolor": "white",
            "ticks": ""
           },
           "bgcolor": "#E5ECF6",
           "radialaxis": {
            "gridcolor": "white",
            "linecolor": "white",
            "ticks": ""
           }
          },
          "scene": {
           "xaxis": {
            "backgroundcolor": "#E5ECF6",
            "gridcolor": "white",
            "gridwidth": 2,
            "linecolor": "white",
            "showbackground": true,
            "ticks": "",
            "zerolinecolor": "white"
           },
           "yaxis": {
            "backgroundcolor": "#E5ECF6",
            "gridcolor": "white",
            "gridwidth": 2,
            "linecolor": "white",
            "showbackground": true,
            "ticks": "",
            "zerolinecolor": "white"
           },
           "zaxis": {
            "backgroundcolor": "#E5ECF6",
            "gridcolor": "white",
            "gridwidth": 2,
            "linecolor": "white",
            "showbackground": true,
            "ticks": "",
            "zerolinecolor": "white"
           }
          },
          "shapedefaults": {
           "line": {
            "color": "#2a3f5f"
           }
          },
          "ternary": {
           "aaxis": {
            "gridcolor": "white",
            "linecolor": "white",
            "ticks": ""
           },
           "baxis": {
            "gridcolor": "white",
            "linecolor": "white",
            "ticks": ""
           },
           "bgcolor": "#E5ECF6",
           "caxis": {
            "gridcolor": "white",
            "linecolor": "white",
            "ticks": ""
           }
          },
          "title": {
           "x": 0.05
          },
          "xaxis": {
           "automargin": true,
           "gridcolor": "white",
           "linecolor": "white",
           "ticks": "",
           "title": {
            "standoff": 15
           },
           "zerolinecolor": "white",
           "zerolinewidth": 2
          },
          "yaxis": {
           "automargin": true,
           "gridcolor": "white",
           "linecolor": "white",
           "ticks": "",
           "title": {
            "standoff": 15
           },
           "zerolinecolor": "white",
           "zerolinewidth": 2
          }
         }
        },
        "title": {
         "text": "Weekly Prices for ['50', '51', '52', '53'] by Category"
        },
        "xaxis": {
         "anchor": "y",
         "domain": [
          0,
          1
         ],
         "title": {
          "text": "date"
         }
        },
        "yaxis": {
         "anchor": "x",
         "domain": [
          0,
          1
         ],
         "title": {
          "text": "wPreis"
         }
        }
       }
      }
     },
     "metadata": {},
     "output_type": "display_data"
    },
    {
     "data": {
      "application/vnd.plotly.v1+json": {
       "config": {
        "plotlyServerURL": "https://plot.ly"
       },
       "data": [
        {
         "hovertemplate": "full=A2 & A3 -  ungeschreddert<br>date=%{x}<br>wPreis=%{y}<extra></extra>",
         "legendgroup": "A2 & A3 -  ungeschreddert",
         "line": {
          "color": "#636efa",
          "dash": "solid"
         },
         "marker": {
          "symbol": "circle"
         },
         "mode": "lines",
         "name": "A2 & A3 -  ungeschreddert",
         "showlegend": true,
         "type": "scattergl",
         "x": [
          "2020-09-14T00:00:00",
          "2020-09-21T00:00:00",
          "2020-09-28T00:00:00",
          "2020-10-05T00:00:00",
          "2020-10-12T00:00:00",
          "2020-10-19T00:00:00",
          "2020-10-26T00:00:00",
          "2020-11-02T00:00:00",
          "2020-11-09T00:00:00",
          "2020-11-16T00:00:00",
          "2020-11-23T00:00:00",
          "2020-11-30T00:00:00",
          "2020-12-07T00:00:00",
          "2020-12-14T00:00:00",
          "2020-12-21T00:00:00",
          "2021-01-04T00:00:00",
          "2021-01-04T00:00:00",
          "2021-01-11T00:00:00",
          "2021-01-18T00:00:00",
          "2021-01-25T00:00:00",
          "2021-02-01T00:00:00",
          "2021-02-08T00:00:00",
          "2021-02-15T00:00:00",
          "2021-02-22T00:00:00",
          "2021-03-01T00:00:00",
          "2021-03-08T00:00:00",
          "2021-03-15T00:00:00",
          "2021-03-22T00:00:00",
          "2021-03-29T00:00:00",
          "2021-04-05T00:00:00",
          "2021-04-12T00:00:00",
          "2021-04-19T00:00:00",
          "2021-04-26T00:00:00",
          "2021-05-03T00:00:00",
          "2021-05-10T00:00:00",
          "2021-05-17T00:00:00",
          "2021-05-24T00:00:00",
          "2021-05-31T00:00:00",
          "2021-06-07T00:00:00",
          "2021-06-14T00:00:00",
          "2021-06-21T00:00:00",
          "2021-06-28T00:00:00",
          "2021-07-05T00:00:00",
          "2021-07-12T00:00:00",
          "2021-07-19T00:00:00",
          "2021-07-26T00:00:00",
          "2021-08-02T00:00:00",
          "2021-08-09T00:00:00",
          "2021-08-16T00:00:00",
          "2021-08-30T00:00:00",
          "2021-09-06T00:00:00",
          "2021-09-13T00:00:00",
          "2021-09-20T00:00:00",
          "2021-09-27T00:00:00",
          "2021-10-04T00:00:00",
          "2021-10-11T00:00:00",
          "2021-10-18T00:00:00",
          "2021-11-08T00:00:00",
          "2021-11-15T00:00:00",
          "2021-11-22T00:00:00",
          "2021-11-29T00:00:00",
          "2021-12-06T00:00:00",
          "2021-12-13T00:00:00",
          "2021-12-20T00:00:00",
          "2022-01-10T00:00:00",
          "2022-02-07T00:00:00",
          "2022-02-14T00:00:00",
          "2022-02-21T00:00:00",
          "2022-02-28T00:00:00",
          "2022-03-07T00:00:00",
          "2022-03-14T00:00:00",
          "2022-03-21T00:00:00",
          "2022-03-28T00:00:00",
          "2022-04-04T00:00:00",
          "2022-04-11T00:00:00",
          "2022-04-18T00:00:00",
          "2022-04-25T00:00:00",
          "2022-05-02T00:00:00",
          "2022-05-09T00:00:00",
          "2022-05-16T00:00:00",
          "2022-05-23T00:00:00",
          "2022-05-30T00:00:00",
          "2022-06-06T00:00:00",
          "2022-06-13T00:00:00",
          "2022-06-20T00:00:00",
          "2022-06-27T00:00:00",
          "2022-07-04T00:00:00",
          "2022-07-11T00:00:00",
          "2022-07-18T00:00:00",
          "2022-07-25T00:00:00",
          "2022-08-01T00:00:00",
          "2022-08-08T00:00:00",
          "2022-08-15T00:00:00",
          "2022-08-22T00:00:00",
          "2022-09-12T00:00:00",
          "2022-09-19T00:00:00",
          "2022-09-26T00:00:00",
          "2022-10-03T00:00:00",
          "2022-10-10T00:00:00",
          "2022-10-17T00:00:00",
          "2022-10-24T00:00:00",
          "2022-10-31T00:00:00",
          "2022-11-07T00:00:00",
          "2022-11-14T00:00:00",
          "2022-11-21T00:00:00",
          "2022-11-28T00:00:00",
          "2022-12-05T00:00:00",
          "2022-12-12T00:00:00",
          "2022-12-19T00:00:00",
          "2022-12-26T00:00:00",
          "2023-01-02T00:00:00",
          "2023-01-09T00:00:00",
          "2023-01-16T00:00:00",
          "2023-01-23T00:00:00",
          "2023-01-30T00:00:00",
          "2023-02-06T00:00:00",
          "2023-02-13T00:00:00",
          "2023-02-20T00:00:00",
          "2023-02-27T00:00:00",
          "2023-03-06T00:00:00",
          "2023-03-13T00:00:00",
          "2023-03-20T00:00:00",
          "2023-03-27T00:00:00",
          "2023-04-03T00:00:00",
          "2023-04-10T00:00:00",
          "2023-04-24T00:00:00",
          "2023-05-08T00:00:00",
          "2023-05-15T00:00:00",
          "2023-05-22T00:00:00",
          "2023-05-29T00:00:00",
          "2023-06-05T00:00:00",
          "2023-06-12T00:00:00",
          "2023-06-19T00:00:00",
          "2023-06-26T00:00:00",
          "2023-07-10T00:00:00",
          "2023-07-17T00:00:00",
          "2023-08-28T00:00:00",
          "2023-09-04T00:00:00",
          "2023-09-11T00:00:00",
          "2023-09-18T00:00:00",
          "2023-09-25T00:00:00",
          "2023-10-02T00:00:00",
          "2023-10-09T00:00:00",
          "2023-10-16T00:00:00",
          "2023-10-23T00:00:00",
          "2023-10-30T00:00:00",
          "2023-11-06T00:00:00",
          "2023-11-13T00:00:00",
          "2023-11-20T00:00:00",
          "2023-11-27T00:00:00",
          "2023-12-04T00:00:00",
          "2023-12-11T00:00:00",
          "2023-12-18T00:00:00",
          "2023-12-25T00:00:00",
          "2024-01-01T00:00:00",
          "2024-01-08T00:00:00",
          "2024-01-15T00:00:00",
          "2024-01-22T00:00:00",
          "2024-01-29T00:00:00",
          "2024-02-05T00:00:00",
          "2024-02-12T00:00:00",
          "2024-02-19T00:00:00",
          "2024-02-26T00:00:00",
          "2024-03-04T00:00:00",
          "2024-03-11T00:00:00",
          "2024-03-18T00:00:00",
          "2024-03-25T00:00:00",
          "2024-04-01T00:00:00",
          "2024-04-08T00:00:00",
          "2024-04-15T00:00:00",
          "2024-04-22T00:00:00"
         ],
         "xaxis": "x",
         "y": [
          -61.26318955663839,
          -63.55286758956905,
          -61.03423125111868,
          -57.95940018543612,
          -60.53249940148432,
          -60.59050730207532,
          -61.05182282493836,
          -60.13265660246399,
          -63.29704284089474,
          -61.85196478255899,
          -62.05432114307295,
          -62.04629539242483,
          -62.88457807953443,
          -56.88918987556082,
          -58.57894736842105,
          -57.64399683150391,
          -60.77980961923848,
          -58.09771600948071,
          -58.79595865753106,
          -60.2191354328823,
          -58.37066775539829,
          -57.35360288230584,
          -58.51857923497268,
          -57.22351269537284,
          -58.56033351558228,
          -56.85490428900403,
          -57.9147208803006,
          -57.85344494170948,
          -57.52127187577027,
          -55.6380192425168,
          -61.76328534031414,
          -58.42832129083738,
          -58.81204700584055,
          -58.54778338200159,
          -56.85564304461943,
          -58.33874911270605,
          -56.29453906461205,
          -57.58542959817053,
          -60.70926807364166,
          -55.87119135901983,
          -59.7564750473784,
          -59.34566352478469,
          -62.09112802983219,
          -58.96330845771146,
          -62.35744713220753,
          -58.90930334453045,
          -60.23942093541202,
          -52.49527640071088,
          -58.79153795233892,
          -61.43262128169295,
          -60.98664334552393,
          -58.45543374642516,
          -60.52602978666307,
          -54.33418972332015,
          -58.97873848334515,
          -50.43809327280231,
          -59.45971351835273,
          -50.39695611383301,
          -40.3761797752809,
          -31.92857142857143,
          -26.40722576426353,
          -29.92444444444444,
          -26.88947990543735,
          -29,
          -27.07783578547698,
          -14.93920972644377,
          0.180175144400969,
          5.069540304727178,
          -0.07747339033327538,
          1.181327644622914,
          2.709405314213412,
          0.8624723363895042,
          3.78483862897173,
          -1.073868369897251,
          7.380929332042594,
          2.284878349245457,
          4.183766233766234,
          6.120378151260503,
          8.979633722766026,
          2.890426433210958,
          7.682814890362059,
          12.03091265947007,
          5.750147946502543,
          -2.45679012345679,
          4.377467665078285,
          8.1724043715847,
          1.181221114084165,
          15.58478931140801,
          14.3574297188755,
          20.16467341306348,
          12.07347876004592,
          20.43463549677022,
          17.54030404808202,
          19.15208983156581,
          27.83561331509348,
          24.54658385093168,
          31.22625323921007,
          31.15631797508404,
          25,
          30.63491534462072,
          37.00200595315128,
          37.75531584665529,
          35.64724968160593,
          36.03021557008582,
          39.53514437689971,
          39.04068925571966,
          42.06022532338077,
          33.09393773894048,
          34.74987537387836,
          31.76756948132413,
          32.56034873759008,
          30.3322938998246,
          28.65358031517832,
          26.8494991448815,
          29.56975368398409,
          30.44738132046303,
          27.99871600326836,
          25.61720142602496,
          25.4951969844358,
          22.82369866596914,
          22.64177126163168,
          18.49215237125647,
          12.64634358172659,
          10.47989833641405,
          11.93282760308332,
          8.95022812111157,
          10.60945690920528,
          10.07756948933419,
          9.493779493779494,
          4.057858567945023,
          4.402317457612677,
          4.999999999999999,
          0,
          -3.333333333333333,
          0,
          -1.848243688254665,
          -16.65857398415538,
          -14.49151131824234,
          -13.20806100217865,
          -17.10252031562831,
          -15.19294377067255,
          -14.59493670886076,
          -18.26482486433153,
          -14.47334130304841,
          -13.81318409192214,
          -16.18029635187096,
          -14.92801217920835,
          -14.98938382875466,
          -12.45552244197598,
          -11.22849925705795,
          -11.03677811550152,
          -8.513482084453813,
          -18.62727697337693,
          -7.235360445367049,
          -5.914753541076487,
          -7.30002114164905,
          -8.017795107360325,
          -9.148305497000164,
          -14.47715832575068,
          -14.8314235432147,
          -7.547432281281913,
          -11.86710763680096,
          -9.568884137324646,
          -10.85251693149258,
          -14.15128451254843,
          -10.29166558959114,
          -13.37295391277451,
          -12.71852450980392,
          -14.41630074036252,
          -13.86897479814044,
          -15.87741935483871
         ],
         "yaxis": "y"
        },
        {
         "hovertemplate": "full=A1 & A2 -  ungeschreddert<br>date=%{x}<br>wPreis=%{y}<extra></extra>",
         "legendgroup": "A1 & A2 -  ungeschreddert",
         "line": {
          "color": "#EF553B",
          "dash": "solid"
         },
         "marker": {
          "symbol": "circle"
         },
         "mode": "lines",
         "name": "A1 & A2 -  ungeschreddert",
         "showlegend": true,
         "type": "scattergl",
         "x": [
          "2020-09-14T00:00:00",
          "2020-09-21T00:00:00",
          "2020-09-28T00:00:00",
          "2020-10-05T00:00:00",
          "2020-10-12T00:00:00",
          "2020-10-19T00:00:00",
          "2020-10-26T00:00:00",
          "2020-11-02T00:00:00",
          "2020-11-09T00:00:00",
          "2020-11-16T00:00:00",
          "2020-11-23T00:00:00",
          "2020-11-30T00:00:00",
          "2020-12-07T00:00:00",
          "2020-12-14T00:00:00",
          "2020-12-21T00:00:00",
          "2020-12-28T00:00:00",
          "2021-01-04T00:00:00",
          "2021-01-04T00:00:00",
          "2021-01-11T00:00:00",
          "2021-01-18T00:00:00",
          "2021-01-25T00:00:00",
          "2021-02-01T00:00:00",
          "2021-02-08T00:00:00",
          "2021-02-15T00:00:00",
          "2021-02-22T00:00:00",
          "2021-03-01T00:00:00",
          "2021-03-08T00:00:00",
          "2021-03-15T00:00:00",
          "2021-03-22T00:00:00",
          "2021-03-29T00:00:00",
          "2021-04-05T00:00:00",
          "2021-04-12T00:00:00",
          "2021-04-19T00:00:00",
          "2021-04-26T00:00:00",
          "2021-05-03T00:00:00",
          "2021-05-10T00:00:00",
          "2021-05-17T00:00:00",
          "2021-05-24T00:00:00",
          "2021-05-31T00:00:00",
          "2021-06-07T00:00:00",
          "2021-06-14T00:00:00",
          "2021-06-21T00:00:00",
          "2021-06-28T00:00:00",
          "2021-07-05T00:00:00",
          "2021-07-12T00:00:00",
          "2021-07-19T00:00:00",
          "2021-07-26T00:00:00",
          "2021-08-02T00:00:00",
          "2021-08-09T00:00:00",
          "2021-08-16T00:00:00",
          "2021-08-23T00:00:00",
          "2021-08-30T00:00:00",
          "2021-09-06T00:00:00",
          "2021-09-13T00:00:00",
          "2021-09-20T00:00:00",
          "2021-09-27T00:00:00",
          "2021-10-04T00:00:00",
          "2021-10-11T00:00:00",
          "2021-10-18T00:00:00",
          "2021-10-25T00:00:00",
          "2021-11-08T00:00:00",
          "2021-11-15T00:00:00",
          "2021-11-22T00:00:00",
          "2021-12-06T00:00:00",
          "2021-12-13T00:00:00",
          "2021-12-20T00:00:00",
          "2022-01-10T00:00:00",
          "2022-01-24T00:00:00",
          "2022-01-31T00:00:00",
          "2022-02-07T00:00:00",
          "2022-02-14T00:00:00",
          "2022-02-21T00:00:00",
          "2022-02-28T00:00:00",
          "2022-03-07T00:00:00",
          "2022-03-14T00:00:00",
          "2022-03-21T00:00:00",
          "2022-03-28T00:00:00",
          "2022-04-04T00:00:00",
          "2022-04-18T00:00:00",
          "2022-04-25T00:00:00",
          "2022-05-02T00:00:00",
          "2022-05-09T00:00:00",
          "2022-05-16T00:00:00",
          "2022-05-23T00:00:00",
          "2022-05-30T00:00:00",
          "2022-06-06T00:00:00",
          "2022-06-13T00:00:00",
          "2022-06-20T00:00:00",
          "2022-06-27T00:00:00",
          "2022-07-04T00:00:00",
          "2022-07-11T00:00:00",
          "2022-07-18T00:00:00",
          "2022-07-25T00:00:00",
          "2022-08-01T00:00:00",
          "2022-08-08T00:00:00",
          "2022-08-15T00:00:00",
          "2022-08-22T00:00:00",
          "2022-08-29T00:00:00",
          "2022-09-05T00:00:00",
          "2022-09-12T00:00:00",
          "2022-09-19T00:00:00",
          "2022-09-26T00:00:00",
          "2022-10-03T00:00:00",
          "2022-10-10T00:00:00",
          "2022-10-17T00:00:00",
          "2022-10-24T00:00:00",
          "2022-10-31T00:00:00",
          "2022-11-07T00:00:00",
          "2022-11-14T00:00:00",
          "2022-11-21T00:00:00",
          "2022-11-28T00:00:00",
          "2022-12-05T00:00:00",
          "2022-12-12T00:00:00",
          "2022-12-19T00:00:00",
          "2022-12-26T00:00:00",
          "2023-01-02T00:00:00",
          "2023-01-09T00:00:00",
          "2023-01-16T00:00:00",
          "2023-01-23T00:00:00",
          "2023-01-30T00:00:00",
          "2023-02-06T00:00:00",
          "2023-02-13T00:00:00",
          "2023-02-20T00:00:00",
          "2023-02-27T00:00:00",
          "2023-03-06T00:00:00",
          "2023-03-13T00:00:00",
          "2023-03-20T00:00:00",
          "2023-04-10T00:00:00",
          "2023-04-17T00:00:00",
          "2023-04-24T00:00:00",
          "2023-05-01T00:00:00",
          "2023-05-08T00:00:00",
          "2023-05-22T00:00:00",
          "2023-07-10T00:00:00",
          "2023-09-18T00:00:00",
          "2023-09-25T00:00:00",
          "2023-10-09T00:00:00",
          "2023-10-16T00:00:00",
          "2023-10-23T00:00:00",
          "2023-10-30T00:00:00",
          "2023-11-06T00:00:00",
          "2023-11-13T00:00:00",
          "2023-11-20T00:00:00",
          "2023-12-04T00:00:00",
          "2023-12-18T00:00:00",
          "2023-12-25T00:00:00",
          "2024-01-01T00:00:00",
          "2024-01-08T00:00:00",
          "2024-01-15T00:00:00",
          "2024-01-22T00:00:00",
          "2024-01-29T00:00:00",
          "2024-02-12T00:00:00",
          "2024-02-19T00:00:00",
          "2024-02-26T00:00:00",
          "2024-03-04T00:00:00",
          "2024-03-11T00:00:00",
          "2024-03-18T00:00:00",
          "2024-03-25T00:00:00",
          "2024-04-01T00:00:00",
          "2024-04-08T00:00:00",
          "2024-04-15T00:00:00",
          "2024-04-22T00:00:00"
         ],
         "xaxis": "x",
         "y": [
          -58.56546953193995,
          -56.09051265688153,
          -59.42207332001804,
          -58.5469840870495,
          -61.02159309021114,
          -56.00874751491054,
          -49.97551333932854,
          -52.86786892975012,
          -58.41361272194655,
          -58.53937071617463,
          -58.81492229919491,
          -57.54630367419212,
          -48.07314487632509,
          -56.12972457374509,
          -55.56547619047619,
          -46.94648465812998,
          -51.81664628553959,
          -53.90207877461707,
          -48.34372355430183,
          -51.30867547304534,
          -47.16852728409395,
          -48.47793446993614,
          -49.20384987113402,
          -49.62366279601353,
          -51.54369568781767,
          -51.3420127628413,
          -51.90542277140334,
          -51.71974629602101,
          -55.41814127463675,
          -55.27239099185432,
          -43.89964788732394,
          -49.16492845015765,
          -49.20389920082496,
          -52.05470737913487,
          -41.80226619853175,
          -42.47843982751863,
          -57.8972990996999,
          -45.79258365993367,
          -46.60378323108385,
          -54.29100533442757,
          -48.56846473029045,
          -52.36555697823303,
          -55.25896762904638,
          -56.67663612957308,
          -55.63197969543146,
          -46.32082945013979,
          -47.37768679631525,
          -60.08550932568149,
          -41.92773530817009,
          -54.90471176625429,
          -36.23250564334086,
          -45.54494620611552,
          -48.87884404173531,
          -52.53615617266978,
          -50.37960649594004,
          -39.00602620087336,
          -53.2764024229655,
          -39.4090401162141,
          -46.58244111349036,
          -39.98191866812227,
          -53.41961852861035,
          -40.7603114838268,
          -34.40317539692461,
          -34.05703059888083,
          -16.74766258051111,
          -24.78040404040404,
          -22.97121083827265,
          -27.22543813064259,
          -9.649039499244548,
          -8.193927622163157,
          -0.5958106230629479,
          -6.779457444605507,
          -10.85608170844939,
          -1.921231326392033,
          -4.048134524435103,
          -16.55301102629347,
          -3.838171125023715,
          -10.57885811192764,
          -1.571079812206573,
          0.4899955535793687,
          0.4752502028671893,
          -0.908578332662102,
          2.0468942821884,
          4.103913449979965,
          2.870435988291481,
          2.553191489361702,
          5.927653498334127,
          6.842902061255387,
          5.208772429507263,
          4.892634560906515,
          3.588891141293331,
          5.055733255791412,
          20.2148343208251,
          16.35606669345119,
          15.94747169811321,
          17.74767035527082,
          14.60275910859568,
          15,
          18.9213313161876,
          26.07891491985204,
          35.26779197080292,
          46.48177936649787,
          45.56051703877791,
          39.07525040664326,
          42.01094319958311,
          47.7317117944011,
          46.85072738772929,
          44.66771724448447,
          43.40716458262926,
          47.5226387536514,
          53.39771850072905,
          47.85557814652061,
          46.11147872438195,
          40.58862638014959,
          46.88925422208938,
          52.14864288759414,
          52.12932055561538,
          53.43013225991949,
          54.33548749648777,
          52.39172029918247,
          49.23260797889878,
          36.88355857871655,
          41.57032032032031,
          38.26445288096497,
          36.09294785193191,
          38.81761835685086,
          29.7575344164703,
          27.3847874720358,
          27.96179680940386,
          23.25389105058365,
          18.65018031942298,
          20,
          20,
          10,
          -7.653821032005226,
          -11.57929927788179,
          -10.51447661469933,
          -6.858261053522318,
          -10.2060546875,
          -8.484984025559106,
          -9.939823008849558,
          -7.714946394786629,
          -8.785678517776667,
          -5,
          -5.56131650135257,
          -1.822626563430613,
          0.5979167614282467,
          3.439157252598283,
          0.4269540648924536,
          7.529351704996035,
          4.736314945477872,
          -5.650855920114122,
          -0.4747292418772564,
          0.2389268539610225,
          1.687657430730478,
          -8.533023255813953,
          -5.719525206721793,
          -8.653164556962025,
          -7.80991158678455,
          -5,
          11.25806451612903,
          2.39622641509434
         ],
         "yaxis": "y"
        },
        {
         "hovertemplate": "full=A2 & A3 -  geschreddert<br>date=%{x}<br>wPreis=%{y}<extra></extra>",
         "legendgroup": "A2 & A3 -  geschreddert",
         "line": {
          "color": "#00cc96",
          "dash": "solid"
         },
         "marker": {
          "symbol": "circle"
         },
         "mode": "lines",
         "name": "A2 & A3 -  geschreddert",
         "showlegend": true,
         "type": "scattergl",
         "x": [
          "2020-09-14T00:00:00",
          "2020-09-21T00:00:00",
          "2020-09-28T00:00:00",
          "2020-10-05T00:00:00",
          "2020-10-12T00:00:00",
          "2020-10-19T00:00:00",
          "2020-10-26T00:00:00",
          "2020-11-02T00:00:00",
          "2020-11-09T00:00:00",
          "2020-11-16T00:00:00",
          "2020-11-23T00:00:00",
          "2020-11-30T00:00:00",
          "2020-12-07T00:00:00",
          "2020-12-14T00:00:00",
          "2020-12-21T00:00:00",
          "2021-01-04T00:00:00",
          "2021-01-04T00:00:00",
          "2021-01-11T00:00:00",
          "2021-01-18T00:00:00",
          "2021-01-25T00:00:00",
          "2021-02-01T00:00:00",
          "2021-02-08T00:00:00",
          "2021-02-15T00:00:00",
          "2021-02-22T00:00:00",
          "2021-03-01T00:00:00",
          "2021-03-08T00:00:00",
          "2021-03-15T00:00:00",
          "2021-03-22T00:00:00",
          "2021-03-29T00:00:00",
          "2021-04-05T00:00:00",
          "2021-04-12T00:00:00",
          "2021-04-19T00:00:00",
          "2021-04-26T00:00:00",
          "2021-05-03T00:00:00",
          "2021-05-10T00:00:00",
          "2021-05-17T00:00:00",
          "2021-05-24T00:00:00",
          "2021-05-31T00:00:00",
          "2021-06-07T00:00:00",
          "2021-06-14T00:00:00",
          "2021-06-21T00:00:00",
          "2021-06-28T00:00:00",
          "2021-07-05T00:00:00",
          "2021-07-12T00:00:00",
          "2021-07-19T00:00:00",
          "2021-07-26T00:00:00",
          "2021-08-02T00:00:00",
          "2021-08-09T00:00:00",
          "2021-08-16T00:00:00",
          "2021-08-23T00:00:00",
          "2021-08-30T00:00:00",
          "2021-09-06T00:00:00",
          "2021-09-13T00:00:00",
          "2021-09-20T00:00:00",
          "2021-09-27T00:00:00",
          "2021-10-04T00:00:00",
          "2021-10-11T00:00:00",
          "2021-10-18T00:00:00",
          "2021-10-25T00:00:00",
          "2021-11-01T00:00:00",
          "2021-11-08T00:00:00",
          "2021-11-15T00:00:00",
          "2021-11-22T00:00:00",
          "2021-11-29T00:00:00",
          "2021-12-06T00:00:00",
          "2021-12-13T00:00:00",
          "2021-12-20T00:00:00",
          "2021-12-27T00:00:00",
          "2022-01-03T00:00:00",
          "2022-01-10T00:00:00",
          "2022-01-17T00:00:00",
          "2022-01-24T00:00:00",
          "2022-01-31T00:00:00",
          "2022-02-07T00:00:00",
          "2022-02-14T00:00:00",
          "2022-02-21T00:00:00",
          "2022-02-28T00:00:00",
          "2022-03-07T00:00:00",
          "2022-03-14T00:00:00",
          "2022-03-21T00:00:00",
          "2022-03-28T00:00:00",
          "2022-04-04T00:00:00",
          "2022-04-11T00:00:00",
          "2022-04-18T00:00:00",
          "2022-04-25T00:00:00",
          "2022-05-02T00:00:00",
          "2022-05-09T00:00:00",
          "2022-05-16T00:00:00",
          "2022-05-23T00:00:00",
          "2022-05-30T00:00:00",
          "2022-06-06T00:00:00",
          "2022-06-13T00:00:00",
          "2022-06-20T00:00:00",
          "2022-06-27T00:00:00",
          "2022-07-04T00:00:00",
          "2022-07-11T00:00:00",
          "2022-07-18T00:00:00",
          "2022-07-25T00:00:00",
          "2022-08-01T00:00:00",
          "2022-08-08T00:00:00",
          "2022-08-15T00:00:00",
          "2022-08-22T00:00:00",
          "2022-08-29T00:00:00",
          "2022-09-05T00:00:00",
          "2022-09-12T00:00:00",
          "2022-09-19T00:00:00",
          "2022-09-26T00:00:00",
          "2022-10-03T00:00:00",
          "2022-10-10T00:00:00",
          "2022-10-17T00:00:00",
          "2022-10-24T00:00:00",
          "2022-10-31T00:00:00",
          "2022-11-07T00:00:00",
          "2022-11-14T00:00:00",
          "2022-11-21T00:00:00",
          "2022-11-28T00:00:00",
          "2022-12-05T00:00:00",
          "2022-12-12T00:00:00",
          "2022-12-19T00:00:00",
          "2022-12-26T00:00:00",
          "2023-01-02T00:00:00",
          "2023-01-09T00:00:00",
          "2023-01-16T00:00:00",
          "2023-01-23T00:00:00",
          "2023-01-30T00:00:00",
          "2023-02-06T00:00:00",
          "2023-02-13T00:00:00",
          "2023-02-20T00:00:00",
          "2023-02-27T00:00:00",
          "2023-03-06T00:00:00",
          "2023-03-13T00:00:00",
          "2023-03-20T00:00:00",
          "2023-03-27T00:00:00",
          "2023-04-03T00:00:00",
          "2023-04-10T00:00:00",
          "2023-04-17T00:00:00",
          "2023-04-24T00:00:00",
          "2023-05-01T00:00:00",
          "2023-05-08T00:00:00",
          "2023-05-15T00:00:00",
          "2023-05-22T00:00:00",
          "2023-05-29T00:00:00",
          "2023-06-05T00:00:00",
          "2023-06-12T00:00:00",
          "2023-06-19T00:00:00",
          "2023-06-26T00:00:00",
          "2023-07-03T00:00:00",
          "2023-07-10T00:00:00",
          "2023-07-17T00:00:00",
          "2023-07-24T00:00:00",
          "2023-07-31T00:00:00",
          "2023-08-07T00:00:00",
          "2023-08-14T00:00:00",
          "2023-08-21T00:00:00",
          "2023-08-28T00:00:00",
          "2023-09-04T00:00:00",
          "2023-09-11T00:00:00",
          "2023-09-18T00:00:00",
          "2023-09-25T00:00:00",
          "2023-10-02T00:00:00",
          "2023-10-09T00:00:00",
          "2023-10-16T00:00:00",
          "2023-10-23T00:00:00",
          "2023-10-30T00:00:00",
          "2023-11-06T00:00:00",
          "2023-11-13T00:00:00",
          "2023-11-20T00:00:00",
          "2023-11-27T00:00:00",
          "2023-12-04T00:00:00",
          "2023-12-11T00:00:00",
          "2023-12-18T00:00:00",
          "2023-12-25T00:00:00",
          "2024-01-01T00:00:00",
          "2024-01-08T00:00:00",
          "2024-01-15T00:00:00",
          "2024-01-22T00:00:00",
          "2024-01-29T00:00:00",
          "2024-02-05T00:00:00",
          "2024-02-12T00:00:00",
          "2024-02-19T00:00:00",
          "2024-02-26T00:00:00",
          "2024-03-04T00:00:00",
          "2024-03-11T00:00:00",
          "2024-03-18T00:00:00",
          "2024-03-25T00:00:00",
          "2024-04-01T00:00:00",
          "2024-04-08T00:00:00",
          "2024-04-15T00:00:00",
          "2024-04-22T00:00:00"
         ],
         "xaxis": "x",
         "y": [
          -45.78307661624376,
          -31.6918966590579,
          -33.44089426983109,
          -31.13238465989794,
          -31.00685868297195,
          -27.87485407850577,
          -34.05733113338223,
          -25.67056950168602,
          -32.98018707091185,
          -30.45490435344363,
          -34.10825700035858,
          -31.32886029411765,
          -30.07516546036405,
          -33.09058561495003,
          -29.87697937361225,
          -31.14189325421972,
          -28.14975631369073,
          -30.69938452600332,
          -30.91424886466847,
          -31.33122580645161,
          -29.44749473570542,
          -29.00317577548006,
          -27.60064550833782,
          -30.74025666422634,
          -31.78037945179937,
          -31.17238967797897,
          -29.5591322795524,
          -28.92785661605757,
          -31.54293988258193,
          -30.58378877292945,
          -31.11511308573812,
          -31.19440354946052,
          -29.24583714293631,
          -30.14568564960982,
          -29.94655579570925,
          -29.51623850123402,
          -25.09759762323492,
          -25.37226661604046,
          -25.12377955097388,
          -31.68744066395125,
          -27.03444256155084,
          -23.42660163211707,
          -25.05124904042989,
          -21.41418129883223,
          -21.955929111721,
          -24.8928098277731,
          -22.37830762546166,
          -24.79098345655516,
          -26.01583705639383,
          -26.58651062569907,
          -27.10247470817119,
          -23.09060857245828,
          -22.15515903801396,
          -21.90483224951647,
          -19.89652486112993,
          -22.2474381686814,
          -18.69511290588429,
          -16.53171418303785,
          -11.02403376863211,
          -11.98493452612472,
          -7.7772458425059,
          -7.66274707606948,
          -9.063850436736985,
          -5.709461939367246,
          -1.773862543200199,
          -1.776709401709402,
          -0.853745616831368,
          11.90967086550183,
          12.64191237255442,
          19.49044215601277,
          19.458224960073,
          19.69027921406412,
          21.82479751976735,
          31.40289369972468,
          18.96098572850979,
          17.93669120831528,
          21.69677001045348,
          21.91737344153599,
          24.62154039174564,
          24.16719413675357,
          30.07800194727566,
          27.14650082622483,
          32.25024838549428,
          27.6918180686048,
          27.82723004694835,
          27.05740830199096,
          28.86054603039256,
          30.19090712119023,
          28.25401100325489,
          30.04247402096474,
          32.92203818230708,
          37.56160095338805,
          30.79400536689774,
          34.63624670913804,
          28.75431935415827,
          29.10155028517319,
          31.85545872824036,
          42.10241602605369,
          31.68100553041729,
          37.61764185680061,
          39.75757862080913,
          40.01564454626295,
          41.98860666175189,
          41.54139357767933,
          43.39848889884907,
          49.73826219664249,
          47.3148159673384,
          51.6239781401021,
          50.25357853059195,
          56.46389661781982,
          55.36458744807938,
          53.35067820934215,
          61.66738129520649,
          56.7527672923893,
          59.91981396907863,
          61.17245582816069,
          63.54585519412383,
          63.44518125552607,
          54.38119402985074,
          57.54263033356231,
          63.09120630518866,
          63.19268182564439,
          60.54332362847518,
          53.70871140010384,
          57.65080966887043,
          55.91755952091857,
          51.2076543463733,
          49.51103972071082,
          51.0805730350172,
          52.36948853615522,
          48.29811324515852,
          39.0668147011523,
          36.16041164405743,
          37.413999303721,
          39.09235967302452,
          37.68519230276475,
          38.04972177346976,
          32.46725775435609,
          32.34448169294431,
          36.07122381477399,
          32.08272093461466,
          30.37508564996086,
          27.49112300512385,
          26.17391304347826,
          20.31657347967143,
          13.95005718019931,
          6.667911642300714,
          5.891403054523622,
          3.843043748704126,
          8.577215385208905,
          1.254046800301937,
          6.567628720836682,
          11.21915798186538,
          11.41203081061255,
          5.630924790669855,
          12.53446301809022,
          12.39341725675321,
          10.85128818969448,
          10.08884331873857,
          10.59290007249596,
          11.60597255851493,
          11.08511462705845,
          15.39665573505,
          11.70220617411317,
          12.12717702939792,
          9.736861260736639,
          8.200045114477987,
          10.15312373185955,
          10.53889748675807,
          13.03053380951254,
          16.84781783681214,
          17.94682674000423,
          18.08188994342033,
          9.388995098039217,
          11.12781387682652,
          14.14481862670904,
          10.19554586119146,
          9.138309288787651,
          10.92432985602733,
          6.119849706668879,
          7.61560134236687,
          10.32191336207455,
          7.194729181619404,
          8.896601068542434,
          12.36793400201792,
          7.414087139352876,
          5.768494037549861,
          4.656512447354155,
          17.91392968241337
         ],
         "yaxis": "y"
        },
        {
         "hovertemplate": "full=A3 -  geschreddert<br>date=%{x}<br>wPreis=%{y}<extra></extra>",
         "legendgroup": "A3 -  geschreddert",
         "line": {
          "color": "#ab63fa",
          "dash": "solid"
         },
         "marker": {
          "symbol": "circle"
         },
         "mode": "lines",
         "name": "A3 -  geschreddert",
         "showlegend": true,
         "type": "scattergl",
         "x": [
          "2020-09-14T00:00:00",
          "2020-09-21T00:00:00",
          "2020-09-28T00:00:00",
          "2020-10-05T00:00:00",
          "2020-10-12T00:00:00",
          "2020-10-19T00:00:00",
          "2020-10-26T00:00:00",
          "2020-11-02T00:00:00",
          "2020-11-09T00:00:00",
          "2020-11-16T00:00:00",
          "2020-11-23T00:00:00",
          "2020-11-30T00:00:00",
          "2020-12-07T00:00:00",
          "2020-12-14T00:00:00",
          "2020-12-21T00:00:00",
          "2021-01-04T00:00:00",
          "2021-01-04T00:00:00",
          "2021-01-11T00:00:00",
          "2021-01-18T00:00:00",
          "2021-01-25T00:00:00",
          "2021-02-01T00:00:00",
          "2021-02-15T00:00:00",
          "2021-02-22T00:00:00",
          "2021-03-01T00:00:00",
          "2021-03-08T00:00:00",
          "2021-03-15T00:00:00",
          "2021-03-22T00:00:00",
          "2021-03-29T00:00:00",
          "2021-04-05T00:00:00",
          "2021-04-12T00:00:00",
          "2021-04-19T00:00:00",
          "2021-04-26T00:00:00",
          "2021-05-03T00:00:00",
          "2021-05-10T00:00:00",
          "2021-05-17T00:00:00",
          "2021-05-24T00:00:00",
          "2021-05-31T00:00:00",
          "2021-06-07T00:00:00",
          "2021-06-14T00:00:00",
          "2021-06-21T00:00:00",
          "2021-06-28T00:00:00",
          "2021-07-05T00:00:00",
          "2021-07-12T00:00:00",
          "2021-07-19T00:00:00",
          "2021-07-26T00:00:00",
          "2021-08-02T00:00:00",
          "2021-08-09T00:00:00",
          "2021-08-16T00:00:00",
          "2021-08-23T00:00:00",
          "2021-08-30T00:00:00",
          "2021-09-06T00:00:00",
          "2021-09-13T00:00:00",
          "2021-09-20T00:00:00",
          "2021-09-27T00:00:00",
          "2021-10-04T00:00:00",
          "2021-10-11T00:00:00",
          "2021-10-18T00:00:00",
          "2021-10-25T00:00:00",
          "2021-11-01T00:00:00",
          "2021-11-08T00:00:00",
          "2021-11-15T00:00:00",
          "2021-11-22T00:00:00",
          "2021-11-29T00:00:00",
          "2021-12-06T00:00:00",
          "2021-12-13T00:00:00",
          "2021-12-20T00:00:00",
          "2021-12-27T00:00:00",
          "2022-01-03T00:00:00",
          "2022-01-10T00:00:00",
          "2022-01-17T00:00:00",
          "2022-01-24T00:00:00",
          "2022-01-31T00:00:00",
          "2022-02-07T00:00:00",
          "2022-02-14T00:00:00",
          "2022-02-21T00:00:00",
          "2022-02-28T00:00:00",
          "2022-03-07T00:00:00",
          "2022-03-14T00:00:00",
          "2022-03-21T00:00:00",
          "2022-03-28T00:00:00",
          "2022-04-04T00:00:00",
          "2022-04-11T00:00:00",
          "2022-04-18T00:00:00",
          "2022-04-25T00:00:00",
          "2022-05-02T00:00:00",
          "2022-05-09T00:00:00",
          "2022-05-16T00:00:00",
          "2022-05-23T00:00:00",
          "2022-05-30T00:00:00",
          "2022-06-06T00:00:00",
          "2022-06-13T00:00:00",
          "2022-06-20T00:00:00",
          "2022-06-27T00:00:00",
          "2022-07-04T00:00:00",
          "2022-07-11T00:00:00",
          "2022-07-18T00:00:00",
          "2022-07-25T00:00:00",
          "2022-08-01T00:00:00",
          "2022-08-08T00:00:00",
          "2022-08-15T00:00:00",
          "2022-08-22T00:00:00",
          "2022-08-29T00:00:00",
          "2022-09-05T00:00:00",
          "2022-09-12T00:00:00",
          "2022-09-19T00:00:00",
          "2022-09-26T00:00:00",
          "2022-10-03T00:00:00",
          "2022-10-10T00:00:00",
          "2022-10-17T00:00:00",
          "2022-10-24T00:00:00",
          "2022-10-31T00:00:00",
          "2022-11-07T00:00:00",
          "2022-11-14T00:00:00",
          "2022-11-21T00:00:00",
          "2022-11-28T00:00:00",
          "2022-12-05T00:00:00",
          "2022-12-12T00:00:00",
          "2022-12-19T00:00:00",
          "2022-12-26T00:00:00",
          "2023-01-02T00:00:00",
          "2023-01-09T00:00:00",
          "2023-01-16T00:00:00",
          "2023-01-23T00:00:00",
          "2023-01-30T00:00:00",
          "2023-02-06T00:00:00",
          "2023-02-13T00:00:00",
          "2023-02-20T00:00:00",
          "2023-02-27T00:00:00",
          "2023-03-06T00:00:00",
          "2023-03-13T00:00:00",
          "2023-03-20T00:00:00",
          "2023-03-27T00:00:00",
          "2023-04-03T00:00:00",
          "2023-04-10T00:00:00",
          "2023-04-17T00:00:00",
          "2023-04-24T00:00:00",
          "2023-05-01T00:00:00",
          "2023-05-08T00:00:00",
          "2023-05-15T00:00:00",
          "2023-05-22T00:00:00",
          "2023-05-29T00:00:00",
          "2023-06-05T00:00:00",
          "2023-06-12T00:00:00",
          "2023-06-19T00:00:00",
          "2023-06-26T00:00:00",
          "2023-07-03T00:00:00",
          "2023-07-10T00:00:00",
          "2023-07-17T00:00:00",
          "2023-07-24T00:00:00",
          "2023-07-31T00:00:00",
          "2023-08-07T00:00:00",
          "2023-08-14T00:00:00",
          "2023-08-21T00:00:00",
          "2023-08-28T00:00:00",
          "2023-09-04T00:00:00",
          "2023-09-11T00:00:00",
          "2023-09-18T00:00:00",
          "2023-09-25T00:00:00",
          "2023-10-02T00:00:00",
          "2023-10-09T00:00:00",
          "2023-10-16T00:00:00",
          "2023-10-23T00:00:00",
          "2023-10-30T00:00:00",
          "2023-11-06T00:00:00",
          "2023-11-13T00:00:00",
          "2023-11-20T00:00:00",
          "2023-11-27T00:00:00",
          "2023-12-04T00:00:00",
          "2023-12-11T00:00:00",
          "2023-12-18T00:00:00",
          "2024-01-01T00:00:00",
          "2024-01-08T00:00:00",
          "2024-01-15T00:00:00",
          "2024-01-22T00:00:00",
          "2024-01-29T00:00:00",
          "2024-02-05T00:00:00",
          "2024-02-12T00:00:00",
          "2024-02-19T00:00:00",
          "2024-02-26T00:00:00",
          "2024-03-04T00:00:00",
          "2024-03-11T00:00:00",
          "2024-03-18T00:00:00",
          "2024-03-25T00:00:00",
          "2024-04-01T00:00:00",
          "2024-04-08T00:00:00",
          "2024-04-15T00:00:00",
          "2024-04-22T00:00:00"
         ],
         "xaxis": "x",
         "y": [
          -45.78307661624376,
          -31.6918966590579,
          -32.208389468957,
          -26.76290519877676,
          -28.92245525848247,
          -25.8480571562062,
          -30.45257570075935,
          -23.74770095931194,
          -31.7158139309744,
          -28.3087546907037,
          -31.38101983002833,
          -29.801842199397,
          -32.09307124566953,
          -33.69959594576085,
          -31.13114347178554,
          -31.96805865921789,
          -31.53645057128664,
          -31.16095428883628,
          -30.4826240146004,
          -31.20539647577093,
          -30.83437884378843,
          -28,
          -30.93502230070865,
          -31.77675029750099,
          -30.30418068236425,
          -32.53423930786811,
          -31.89495491490982,
          -30.86043365824548,
          -30.89229301388742,
          -32.23286484639972,
          -31.37016921837228,
          -30.06219485374972,
          -31.5975992706645,
          -30.20885089198998,
          -30.55035124692658,
          -27.03831396772702,
          -25.27791377381982,
          -26.63396783947223,
          -33.76494120921171,
          -28.23038382782207,
          -24.74732633518706,
          -26.42393361606673,
          -23.35550557338007,
          -24.2273315561737,
          -29.13803474202749,
          -22.51049221994917,
          -24.57043898296088,
          -27.31020422149122,
          -26.95923792064947,
          -25.53035913140312,
          -21.20850982362935,
          -19.14745658242993,
          -20.19638826185101,
          -19.11073895750471,
          -24.15629728986105,
          -17.66198513100305,
          -13.1852707981785,
          -3.91033780836524,
          -3.993466261124253,
          -5.191083980762117,
          0,
          -5.675319789315274,
          3,
          7.031922870915907,
          3,
          3,
          37.5,
          37.5,
          35.67114894971355,
          37.17678100263853,
          29.7845349306353,
          34.14523285351397,
          43.38641299910183,
          29.31773557576244,
          24.73710466069359,
          28.6910435330205,
          35.16512238718856,
          37.94109411568037,
          30.32112569347705,
          37.9309929834919,
          36.77799493625906,
          33.13644599303135,
          40.07134569083051,
          40.81282003825035,
          38.86638834670715,
          38.62590054709927,
          37.49092019543974,
          32.54565069270952,
          30.97840543700672,
          38.28053346796248,
          38.37352765564783,
          32.91509166509166,
          37.60495969763586,
          30.28715731304722,
          31.42938010618439,
          32.5141510696977,
          42.10241602605369,
          33.37412067486417,
          40.73307198859587,
          39.75757862080913,
          41.22502573766774,
          43.8101421219132,
          43.42222119431982,
          43.38127090301003,
          52.83480154409581,
          46.60782873719383,
          57.72332527624307,
          52.05880973287734,
          64.64370362404559,
          59.14140367104149,
          60.53094386791082,
          65.62559691099275,
          60.91367516370438,
          65.70715947558192,
          64.38494878470868,
          67.03198383753578,
          67.44040582114832,
          57.98824917898192,
          64.50772427197481,
          66.76157866282212,
          68.74051699176076,
          66.42710087965564,
          60.32260946209918,
          61.66687734378292,
          60.69629394071895,
          55.94371007479753,
          55.07061079386406,
          53.8172326050715,
          55.05226761016405,
          49.81994512613367,
          41.24391316472531,
          36.2052457346575,
          34.76683212422044,
          37.12416603930323,
          35.10914973144455,
          34.65633470830878,
          30.38998962399328,
          30.97837883669661,
          31.52909303614309,
          30.1201199563795,
          30.032620137902,
          26.51684370821572,
          25.3015453268325,
          18.89134187890548,
          13.95005718019931,
          6.667911642300714,
          5.891403054523622,
          3.843043748704126,
          8.577215385208905,
          -1.210546330333375,
          3.923719661228898,
          3.147852399764647,
          4.902749832327297,
          4.195301564116608,
          6.921523369878823,
          6.801118793648589,
          3.492825443786983,
          5.383517632994621,
          4.305301211959581,
          6.646398626790782,
          4.029082019725195,
          6.515969648844185,
          7.69720837022883,
          7.574780133842724,
          5.227317159868479,
          7.948185114429415,
          5.420750869617369,
          4.688521395361785,
          8.742019080165171,
          4,
          14.22257907880133,
          4.624727420667208,
          5.883815704088255,
          8.796039235162652,
          3.411118956358012,
          4.254409363091998,
          9.174077081517863,
          5.21040616345949,
          7.031589359082546,
          10.53681352048914,
          6.72325167726842,
          8.263938014049208,
          8.050688898639754,
          1.977038563438327,
          0.5068713117037713,
          -1.062104506232023,
          5.553908855131528
         ],
         "yaxis": "y"
        },
        {
         "hovertemplate": "full=A1 & A2 -  geschreddert<br>date=%{x}<br>wPreis=%{y}<extra></extra>",
         "legendgroup": "A1 & A2 -  geschreddert",
         "line": {
          "color": "#FFA15A",
          "dash": "solid"
         },
         "marker": {
          "symbol": "circle"
         },
         "mode": "lines",
         "name": "A1 & A2 -  geschreddert",
         "showlegend": true,
         "type": "scattergl",
         "x": [
          "2020-09-28T00:00:00",
          "2020-10-05T00:00:00",
          "2020-10-12T00:00:00",
          "2020-10-19T00:00:00",
          "2020-10-26T00:00:00",
          "2020-11-02T00:00:00",
          "2020-11-09T00:00:00",
          "2020-11-16T00:00:00",
          "2020-11-23T00:00:00",
          "2020-11-30T00:00:00",
          "2020-12-07T00:00:00",
          "2020-12-14T00:00:00",
          "2020-12-21T00:00:00",
          "2021-01-04T00:00:00",
          "2021-01-04T00:00:00",
          "2021-01-11T00:00:00",
          "2021-01-18T00:00:00",
          "2021-01-25T00:00:00",
          "2021-02-01T00:00:00",
          "2021-02-08T00:00:00",
          "2021-02-15T00:00:00",
          "2021-02-22T00:00:00",
          "2021-03-01T00:00:00",
          "2021-03-08T00:00:00",
          "2021-03-15T00:00:00",
          "2021-03-22T00:00:00",
          "2021-03-29T00:00:00",
          "2021-04-05T00:00:00",
          "2021-04-12T00:00:00",
          "2021-04-19T00:00:00",
          "2021-04-26T00:00:00",
          "2021-05-03T00:00:00",
          "2021-05-10T00:00:00",
          "2021-05-17T00:00:00",
          "2021-05-24T00:00:00",
          "2021-05-31T00:00:00",
          "2021-06-07T00:00:00",
          "2021-06-14T00:00:00",
          "2021-06-21T00:00:00",
          "2021-06-28T00:00:00",
          "2021-07-05T00:00:00",
          "2021-07-12T00:00:00",
          "2021-07-19T00:00:00",
          "2021-07-26T00:00:00",
          "2021-08-02T00:00:00",
          "2021-08-09T00:00:00",
          "2021-08-16T00:00:00",
          "2021-08-23T00:00:00",
          "2021-08-30T00:00:00",
          "2021-09-06T00:00:00",
          "2021-09-13T00:00:00",
          "2021-09-20T00:00:00",
          "2021-09-27T00:00:00",
          "2021-10-04T00:00:00",
          "2021-10-11T00:00:00",
          "2021-10-18T00:00:00",
          "2021-10-25T00:00:00",
          "2021-11-01T00:00:00",
          "2021-11-08T00:00:00",
          "2021-11-15T00:00:00",
          "2021-11-22T00:00:00",
          "2021-11-29T00:00:00",
          "2021-12-06T00:00:00",
          "2021-12-13T00:00:00",
          "2021-12-20T00:00:00",
          "2021-12-27T00:00:00",
          "2022-01-03T00:00:00",
          "2022-01-10T00:00:00",
          "2022-01-17T00:00:00",
          "2022-01-24T00:00:00",
          "2022-01-31T00:00:00",
          "2022-02-07T00:00:00",
          "2022-02-14T00:00:00",
          "2022-02-21T00:00:00",
          "2022-02-28T00:00:00",
          "2022-03-07T00:00:00",
          "2022-03-14T00:00:00",
          "2022-03-21T00:00:00",
          "2022-03-28T00:00:00",
          "2022-04-04T00:00:00",
          "2022-04-11T00:00:00",
          "2022-04-18T00:00:00",
          "2022-04-25T00:00:00",
          "2022-05-02T00:00:00",
          "2022-05-09T00:00:00",
          "2022-05-16T00:00:00",
          "2022-05-23T00:00:00",
          "2022-05-30T00:00:00",
          "2022-06-06T00:00:00",
          "2022-06-13T00:00:00",
          "2022-06-20T00:00:00",
          "2022-06-27T00:00:00",
          "2022-07-04T00:00:00",
          "2022-07-11T00:00:00",
          "2022-07-18T00:00:00",
          "2022-07-25T00:00:00",
          "2022-08-01T00:00:00",
          "2022-08-08T00:00:00",
          "2022-08-22T00:00:00",
          "2022-08-29T00:00:00",
          "2022-09-05T00:00:00",
          "2022-09-12T00:00:00",
          "2022-09-19T00:00:00",
          "2022-09-26T00:00:00",
          "2022-10-03T00:00:00",
          "2022-10-10T00:00:00",
          "2022-10-17T00:00:00",
          "2022-10-24T00:00:00",
          "2022-10-31T00:00:00",
          "2022-11-07T00:00:00",
          "2022-11-14T00:00:00",
          "2022-11-21T00:00:00",
          "2022-11-28T00:00:00",
          "2022-12-05T00:00:00",
          "2022-12-12T00:00:00",
          "2022-12-19T00:00:00",
          "2022-12-26T00:00:00",
          "2023-01-02T00:00:00",
          "2023-01-09T00:00:00",
          "2023-01-16T00:00:00",
          "2023-01-23T00:00:00",
          "2023-01-30T00:00:00",
          "2023-02-06T00:00:00",
          "2023-02-13T00:00:00",
          "2023-02-20T00:00:00",
          "2023-02-27T00:00:00",
          "2023-03-06T00:00:00",
          "2023-03-13T00:00:00",
          "2023-03-20T00:00:00",
          "2023-03-27T00:00:00",
          "2023-04-03T00:00:00",
          "2023-04-10T00:00:00",
          "2023-04-17T00:00:00",
          "2023-04-24T00:00:00",
          "2023-05-01T00:00:00",
          "2023-05-08T00:00:00",
          "2023-05-15T00:00:00",
          "2023-05-22T00:00:00",
          "2023-05-29T00:00:00",
          "2023-06-05T00:00:00",
          "2023-06-12T00:00:00",
          "2023-06-19T00:00:00",
          "2023-07-10T00:00:00",
          "2023-07-17T00:00:00",
          "2023-07-24T00:00:00",
          "2023-07-31T00:00:00",
          "2023-08-07T00:00:00",
          "2023-08-14T00:00:00",
          "2023-08-21T00:00:00",
          "2023-08-28T00:00:00",
          "2023-09-04T00:00:00",
          "2023-09-11T00:00:00",
          "2023-09-18T00:00:00",
          "2023-09-25T00:00:00",
          "2023-10-02T00:00:00",
          "2023-10-09T00:00:00",
          "2023-10-16T00:00:00",
          "2023-10-23T00:00:00",
          "2023-10-30T00:00:00",
          "2023-11-06T00:00:00",
          "2023-11-13T00:00:00",
          "2023-11-20T00:00:00",
          "2023-11-27T00:00:00",
          "2023-12-04T00:00:00",
          "2023-12-11T00:00:00",
          "2023-12-18T00:00:00",
          "2023-12-25T00:00:00",
          "2024-01-01T00:00:00",
          "2024-01-08T00:00:00",
          "2024-01-15T00:00:00",
          "2024-01-22T00:00:00",
          "2024-01-29T00:00:00",
          "2024-02-05T00:00:00",
          "2024-02-12T00:00:00",
          "2024-02-19T00:00:00",
          "2024-02-26T00:00:00",
          "2024-03-04T00:00:00",
          "2024-03-11T00:00:00",
          "2024-03-18T00:00:00",
          "2024-03-25T00:00:00",
          "2024-04-01T00:00:00",
          "2024-04-08T00:00:00",
          "2024-04-15T00:00:00",
          "2024-04-22T00:00:00"
         ],
         "xaxis": "x",
         "y": [
          -44.13675397166166,
          -50.40099626400996,
          -48.54751057598438,
          -33.41109229466554,
          -49.46521739130436,
          -44.25270445694505,
          -47.52970297029704,
          -48.9306461173681,
          -37.27985074626865,
          -35.94960772480385,
          -29.29762315143576,
          -31.87444412566346,
          -28.72130979073243,
          -21.89739768428293,
          -29.68836054245487,
          -29.8226188622155,
          -30.72553122672207,
          -31.37662883758756,
          -28.15255794529129,
          -28.41464850319543,
          -26.26709749208251,
          -30.10229540918164,
          -31.16993301026226,
          -30.94493374402412,
          -27.00215046304325,
          -26.64807235818941,
          -31.43428873665122,
          -29.6444393382353,
          -28.36497208806372,
          -28.98064663023679,
          -26.80893498205026,
          -28.13441228241737,
          -29,
          -28.3392500199888,
          -21.82876523971033,
          -24.75820871261379,
          -20.58720295001366,
          -17.03450741998927,
          -22.8843470678003,
          -19.96465011940083,
          -13.65949453551912,
          -12.7110539149282,
          -10.53293784310253,
          -12.19978046103183,
          -22.06856478791401,
          -24.73131296717582,
          -12.8928157589803,
          -25.05744176097694,
          -28.06469857252103,
          -24.87628789010004,
          -25.02792672028597,
          -23.6930602061585,
          -20.53359213574604,
          -20.20092838196286,
          -19.95694200351494,
          -22.39966733990733,
          -19.35316578057033,
          -18.80250828888569,
          -9.840202207301072,
          -10.89837022275995,
          -10.51316831683168,
          -10.86353187042842,
          -6.752233676975946,
          -4.950343208553421,
          -2.034090278163345,
          -4.832192185102112,
          4.487707419945613,
          10.26216584671922,
          5.225818208324222,
          6.643063685732423,
          -2.570658372213583,
          7.873673848846111,
          10.92318231208957,
          9.200479136341583,
          8.241648816071327,
          7.668887276564869,
          12.82183474527098,
          15.23146286746497,
          18.22599093748625,
          20.24859855149557,
          10.71872791519435,
          15.26952706791416,
          11.50338053323128,
          16.40224889999456,
          16.44293044469783,
          21.43774526292185,
          24.42939730117379,
          25.20767523264749,
          26.31862462474404,
          34.95925530604704,
          26.62573869130762,
          29.69491901486577,
          25.39030250648228,
          11.17897129387996,
          24.49202719406675,
          17,
          25.86467308667004,
          25.49454092889064,
          27.06185641769398,
          27.16938543247344,
          29.0975,
          37.99305617114322,
          41.15554878446906,
          43.8122780149239,
          39.20753168854685,
          43.25751892518584,
          44.73882617357103,
          43.26945425991362,
          44.52028564925457,
          45.05166666666667,
          37.32997856121963,
          41.36258791274289,
          30.68116254036598,
          41.37428333641576,
          33.58010335917312,
          36.63907117617364,
          36.26543540328336,
          36.04264819091609,
          43.55881269568421,
          47.25406791651928,
          45.43505969324893,
          48.2577461959524,
          42.49268720748829,
          39.53890239666551,
          38.00281959267371,
          37.356441169904,
          38.02827015725843,
          40.97416020671835,
          34.41742149758454,
          34.67633050320977,
          39.61089146792501,
          42.11348464619492,
          39.45427236315086,
          39.54974782209995,
          38.35590800951626,
          32.11551565980867,
          40.54278673835126,
          34.4029725182277,
          32.11962692619628,
          29.77950260078023,
          31.4775846294602,
          28.20976002341236,
          15,
          15,
          15,
          8.758363667880047,
          9.779890799687998,
          17.07253939021895,
          16.45835898337877,
          12.97607116716401,
          20.29981052324734,
          17.02116098019751,
          20.29677980852916,
          15.97973400886637,
          30.28909861325115,
          20.09783950617284,
          22.44983498349836,
          23.86444553323535,
          22.90598290598291,
          23.30627015970419,
          24.77568674062335,
          21.50383351588171,
          23.33455990579924,
          22.59957542788908,
          29.08926437958696,
          11.50970901429304,
          21.49385332768122,
          34.26160127464648,
          23.44316106156656,
          26.76699290998767,
          21.52853156274057,
          13.94022067391149,
          15.06508522418847,
          15.77033337374227,
          7.688288062902073,
          13.92572318706085,
          17.10875278727516,
          18.66754408883083,
          8.934314311323574,
          26.61108650367284,
          19.71957608954512,
          20.75996064928677,
          16.47398843930636,
          20.93280459770114
         ],
         "yaxis": "y"
        },
        {
         "hovertemplate": "full=A2 -  geschreddert<br>date=%{x}<br>wPreis=%{y}<extra></extra>",
         "legendgroup": "A2 -  geschreddert",
         "line": {
          "color": "#19d3f3",
          "dash": "solid"
         },
         "marker": {
          "symbol": "circle"
         },
         "mode": "lines",
         "name": "A2 -  geschreddert",
         "showlegend": true,
         "type": "scattergl",
         "x": [
          "2020-10-05T00:00:00",
          "2020-10-26T00:00:00",
          "2020-11-23T00:00:00",
          "2020-11-30T00:00:00",
          "2020-12-07T00:00:00",
          "2020-12-14T00:00:00",
          "2020-12-21T00:00:00",
          "2021-01-04T00:00:00",
          "2021-01-04T00:00:00",
          "2021-01-11T00:00:00",
          "2021-01-18T00:00:00",
          "2021-01-25T00:00:00",
          "2021-02-01T00:00:00",
          "2021-02-08T00:00:00",
          "2021-02-15T00:00:00",
          "2021-02-22T00:00:00",
          "2021-03-01T00:00:00",
          "2021-03-08T00:00:00",
          "2021-03-15T00:00:00",
          "2021-03-22T00:00:00",
          "2021-03-29T00:00:00",
          "2021-04-05T00:00:00",
          "2021-04-12T00:00:00",
          "2021-04-19T00:00:00",
          "2021-04-26T00:00:00",
          "2021-05-03T00:00:00",
          "2021-05-10T00:00:00",
          "2021-05-17T00:00:00",
          "2021-05-24T00:00:00",
          "2021-05-31T00:00:00",
          "2021-06-07T00:00:00",
          "2021-06-14T00:00:00",
          "2021-06-21T00:00:00",
          "2021-06-28T00:00:00",
          "2021-07-05T00:00:00",
          "2021-07-12T00:00:00",
          "2021-07-19T00:00:00",
          "2021-07-26T00:00:00",
          "2021-08-02T00:00:00",
          "2021-08-09T00:00:00",
          "2021-08-23T00:00:00",
          "2021-08-30T00:00:00",
          "2021-09-06T00:00:00",
          "2021-09-13T00:00:00",
          "2021-09-20T00:00:00",
          "2021-09-27T00:00:00",
          "2021-10-04T00:00:00",
          "2021-10-11T00:00:00",
          "2021-10-18T00:00:00",
          "2021-10-25T00:00:00",
          "2021-11-01T00:00:00",
          "2021-11-08T00:00:00",
          "2021-11-15T00:00:00",
          "2021-11-22T00:00:00",
          "2021-11-29T00:00:00",
          "2021-12-06T00:00:00",
          "2021-12-13T00:00:00",
          "2021-12-20T00:00:00",
          "2021-12-27T00:00:00",
          "2022-01-03T00:00:00",
          "2022-01-10T00:00:00",
          "2022-01-17T00:00:00",
          "2022-01-24T00:00:00",
          "2022-01-31T00:00:00",
          "2022-02-07T00:00:00",
          "2022-02-14T00:00:00",
          "2022-02-21T00:00:00",
          "2022-02-28T00:00:00",
          "2022-03-07T00:00:00",
          "2022-03-14T00:00:00",
          "2022-03-21T00:00:00",
          "2022-03-28T00:00:00",
          "2022-04-04T00:00:00",
          "2022-04-18T00:00:00",
          "2022-04-25T00:00:00",
          "2022-05-02T00:00:00",
          "2022-05-09T00:00:00",
          "2022-05-16T00:00:00",
          "2022-05-23T00:00:00",
          "2022-05-30T00:00:00",
          "2022-06-06T00:00:00",
          "2022-06-13T00:00:00",
          "2022-06-20T00:00:00",
          "2022-06-27T00:00:00",
          "2022-07-04T00:00:00",
          "2022-07-18T00:00:00",
          "2022-08-01T00:00:00",
          "2022-08-08T00:00:00",
          "2022-08-22T00:00:00",
          "2022-08-29T00:00:00",
          "2022-09-05T00:00:00",
          "2022-09-12T00:00:00",
          "2022-09-19T00:00:00",
          "2022-09-26T00:00:00",
          "2022-10-03T00:00:00",
          "2022-10-10T00:00:00",
          "2022-10-17T00:00:00",
          "2022-10-24T00:00:00",
          "2022-10-31T00:00:00",
          "2022-11-07T00:00:00",
          "2022-11-14T00:00:00",
          "2022-11-21T00:00:00",
          "2022-11-28T00:00:00",
          "2022-12-05T00:00:00",
          "2022-12-12T00:00:00",
          "2022-12-19T00:00:00",
          "2022-12-26T00:00:00",
          "2023-01-02T00:00:00",
          "2023-01-09T00:00:00",
          "2023-01-16T00:00:00",
          "2023-01-23T00:00:00",
          "2023-01-30T00:00:00",
          "2023-02-06T00:00:00",
          "2023-02-13T00:00:00",
          "2023-02-20T00:00:00",
          "2023-02-27T00:00:00",
          "2023-03-06T00:00:00",
          "2023-03-13T00:00:00",
          "2023-03-20T00:00:00",
          "2023-03-27T00:00:00",
          "2023-04-03T00:00:00",
          "2023-04-10T00:00:00",
          "2023-04-17T00:00:00",
          "2023-04-24T00:00:00",
          "2023-05-01T00:00:00",
          "2023-05-08T00:00:00",
          "2023-05-15T00:00:00",
          "2023-05-22T00:00:00",
          "2023-05-29T00:00:00",
          "2023-06-05T00:00:00",
          "2023-06-12T00:00:00",
          "2023-06-19T00:00:00",
          "2023-07-31T00:00:00",
          "2023-08-07T00:00:00",
          "2023-08-14T00:00:00",
          "2023-08-21T00:00:00",
          "2023-09-04T00:00:00",
          "2023-09-11T00:00:00",
          "2023-09-18T00:00:00",
          "2023-09-25T00:00:00",
          "2023-10-02T00:00:00",
          "2023-10-09T00:00:00",
          "2023-10-16T00:00:00",
          "2023-10-23T00:00:00",
          "2023-10-30T00:00:00",
          "2023-11-06T00:00:00",
          "2023-11-13T00:00:00",
          "2023-11-27T00:00:00",
          "2023-12-04T00:00:00",
          "2023-12-11T00:00:00",
          "2023-12-25T00:00:00",
          "2024-01-01T00:00:00",
          "2024-01-08T00:00:00",
          "2024-01-15T00:00:00",
          "2024-01-22T00:00:00",
          "2024-01-29T00:00:00",
          "2024-02-05T00:00:00",
          "2024-02-12T00:00:00",
          "2024-02-19T00:00:00",
          "2024-02-26T00:00:00",
          "2024-03-11T00:00:00",
          "2024-03-18T00:00:00",
          "2024-03-25T00:00:00",
          "2024-04-01T00:00:00",
          "2024-04-08T00:00:00",
          "2024-04-15T00:00:00",
          "2024-04-22T00:00:00"
         ],
         "xaxis": "x",
         "y": [
          -58.00000000000001,
          -57.99999999999999,
          -58,
          -36.09400414606921,
          -28.83439224984256,
          -32.53748393249575,
          -29.19240583506457,
          -21.89739768428293,
          -30.85494120614716,
          -30.54615858966919,
          -31.08769633507853,
          -31.37662883758756,
          -28.15255794529129,
          -28.41464850319543,
          -27.07162865146058,
          -30.62066976201069,
          -31.78256679218218,
          -31.66290256897545,
          -27.54221845143679,
          -26.9456793789505,
          -31.99369383572442,
          -30.20908710487351,
          -29.51149968494013,
          -30.90059267241379,
          -27.85641563108249,
          -28.99999999999999,
          -29,
          -28.3392500199888,
          -21.82876523971033,
          -25.7959067652075,
          -21.21688888888889,
          -16.40209879703097,
          -23.57255759206322,
          -20.1515707874337,
          -10.7211855104281,
          -10.69612856099343,
          -7.235603405107661,
          -10.33570412517781,
          -22.06856478791401,
          -25.28076741718732,
          -25.95705630003096,
          -29.09578185668902,
          -25.12388831437435,
          -25.43818268165268,
          -24.33257134429615,
          -20.63772790100705,
          -20.3,
          -19.95694200351494,
          -22.68613697232496,
          -19.52200092635479,
          -18.80250828888569,
          -9.222258971390772,
          -9.846471684355507,
          -10.32697566790548,
          -10.60653669724771,
          -6.162182361733931,
          -2.742173703644244,
          -2.034090278163345,
          -3.856579984239559,
          4.216271061370064,
          8.764372868244312,
          4.981925213498052,
          6.592380798969074,
          -8.27788811651771,
          8.018228170809433,
          11.69084335988251,
          7.168456856426784,
          8.628102937827373,
          5.223407189482394,
          13.80827169708896,
          16.07722088353414,
          20.75622641509434,
          20.66698292220114,
          16.40069054926447,
          9.494033620764743,
          16.27356746765249,
          16.32032554257095,
          21.88795924668107,
          26.79547296514994,
          28.50921824494194,
          27.31576688601801,
          36.245501737715,
          28.61202203499676,
          31.40604280318926,
          26.99503727194103,
          29.34932762836186,
          27.66824805150796,
          27.36215582085433,
          32.34878318584071,
          31.53189374774124,
          34.39775122979621,
          43.42127184827072,
          45.002396871452,
          48.80311521663511,
          40.09564678240439,
          44.26529204353825,
          45.39842886237999,
          43.9969760967649,
          45.22593908295507,
          43.45705746644295,
          28.2855,
          41.59625052366988,
          32.66491422246818,
          35.70284995808885,
          33.58010335917312,
          36.63907117617364,
          35.57630522088353,
          33.12386302835741,
          43.56732470434864,
          48.54112869637652,
          46.57441669236304,
          49.44169154800183,
          42.79134517397002,
          40.31883861339121,
          38.55444916423016,
          37.71393674466444,
          38.55880781967739,
          42.75274242073594,
          34.27051039697543,
          36.05247670426679,
          48.30798240100565,
          49.401958118031,
          49.09179415855355,
          48.88633797515995,
          49.49743451255738,
          49.60714285714285,
          47.5366801367734,
          44.54605263157894,
          34.91556175854851,
          34.54829163303739,
          33.71428571428572,
          33.67745631624177,
          6.073872087258303,
          8.664472794482261,
          17.75943331971121,
          16.86263057396383,
          34.12652608213097,
          29.60936998609477,
          35.57455268389662,
          23.60592401802962,
          34.13268249389837,
          33.45666084933101,
          34.19547211485367,
          35.00961288646402,
          34.64886515353805,
          35.07509370557064,
          30.15774647887324,
          29.7545707472178,
          31.64149427595903,
          34.04521350823332,
          25.5,
          25.5,
          23.9182382133995,
          25.5,
          22.49347545219639,
          16.21441014168531,
          23.32565724451472,
          16.78621384982754,
          12.53438731218698,
          13.93732554657083,
          10.17217582417582,
          10.90632428795694,
          21.38792079207921,
          28.31918505942275,
          30.5,
          20.88,
          25.83314540059347
         ],
         "yaxis": "y"
        }
       ],
       "layout": {
        "legend": {
         "title": {
          "text": "full"
         },
         "tracegroupgap": 0
        },
        "template": {
         "data": {
          "bar": [
           {
            "error_x": {
             "color": "#2a3f5f"
            },
            "error_y": {
             "color": "#2a3f5f"
            },
            "marker": {
             "line": {
              "color": "#E5ECF6",
              "width": 0.5
             },
             "pattern": {
              "fillmode": "overlay",
              "size": 10,
              "solidity": 0.2
             }
            },
            "type": "bar"
           }
          ],
          "barpolar": [
           {
            "marker": {
             "line": {
              "color": "#E5ECF6",
              "width": 0.5
             },
             "pattern": {
              "fillmode": "overlay",
              "size": 10,
              "solidity": 0.2
             }
            },
            "type": "barpolar"
           }
          ],
          "carpet": [
           {
            "aaxis": {
             "endlinecolor": "#2a3f5f",
             "gridcolor": "white",
             "linecolor": "white",
             "minorgridcolor": "white",
             "startlinecolor": "#2a3f5f"
            },
            "baxis": {
             "endlinecolor": "#2a3f5f",
             "gridcolor": "white",
             "linecolor": "white",
             "minorgridcolor": "white",
             "startlinecolor": "#2a3f5f"
            },
            "type": "carpet"
           }
          ],
          "choropleth": [
           {
            "colorbar": {
             "outlinewidth": 0,
             "ticks": ""
            },
            "type": "choropleth"
           }
          ],
          "contour": [
           {
            "colorbar": {
             "outlinewidth": 0,
             "ticks": ""
            },
            "colorscale": [
             [
              0,
              "#0d0887"
             ],
             [
              0.1111111111111111,
              "#46039f"
             ],
             [
              0.2222222222222222,
              "#7201a8"
             ],
             [
              0.3333333333333333,
              "#9c179e"
             ],
             [
              0.4444444444444444,
              "#bd3786"
             ],
             [
              0.5555555555555556,
              "#d8576b"
             ],
             [
              0.6666666666666666,
              "#ed7953"
             ],
             [
              0.7777777777777778,
              "#fb9f3a"
             ],
             [
              0.8888888888888888,
              "#fdca26"
             ],
             [
              1,
              "#f0f921"
             ]
            ],
            "type": "contour"
           }
          ],
          "contourcarpet": [
           {
            "colorbar": {
             "outlinewidth": 0,
             "ticks": ""
            },
            "type": "contourcarpet"
           }
          ],
          "heatmap": [
           {
            "colorbar": {
             "outlinewidth": 0,
             "ticks": ""
            },
            "colorscale": [
             [
              0,
              "#0d0887"
             ],
             [
              0.1111111111111111,
              "#46039f"
             ],
             [
              0.2222222222222222,
              "#7201a8"
             ],
             [
              0.3333333333333333,
              "#9c179e"
             ],
             [
              0.4444444444444444,
              "#bd3786"
             ],
             [
              0.5555555555555556,
              "#d8576b"
             ],
             [
              0.6666666666666666,
              "#ed7953"
             ],
             [
              0.7777777777777778,
              "#fb9f3a"
             ],
             [
              0.8888888888888888,
              "#fdca26"
             ],
             [
              1,
              "#f0f921"
             ]
            ],
            "type": "heatmap"
           }
          ],
          "heatmapgl": [
           {
            "colorbar": {
             "outlinewidth": 0,
             "ticks": ""
            },
            "colorscale": [
             [
              0,
              "#0d0887"
             ],
             [
              0.1111111111111111,
              "#46039f"
             ],
             [
              0.2222222222222222,
              "#7201a8"
             ],
             [
              0.3333333333333333,
              "#9c179e"
             ],
             [
              0.4444444444444444,
              "#bd3786"
             ],
             [
              0.5555555555555556,
              "#d8576b"
             ],
             [
              0.6666666666666666,
              "#ed7953"
             ],
             [
              0.7777777777777778,
              "#fb9f3a"
             ],
             [
              0.8888888888888888,
              "#fdca26"
             ],
             [
              1,
              "#f0f921"
             ]
            ],
            "type": "heatmapgl"
           }
          ],
          "histogram": [
           {
            "marker": {
             "pattern": {
              "fillmode": "overlay",
              "size": 10,
              "solidity": 0.2
             }
            },
            "type": "histogram"
           }
          ],
          "histogram2d": [
           {
            "colorbar": {
             "outlinewidth": 0,
             "ticks": ""
            },
            "colorscale": [
             [
              0,
              "#0d0887"
             ],
             [
              0.1111111111111111,
              "#46039f"
             ],
             [
              0.2222222222222222,
              "#7201a8"
             ],
             [
              0.3333333333333333,
              "#9c179e"
             ],
             [
              0.4444444444444444,
              "#bd3786"
             ],
             [
              0.5555555555555556,
              "#d8576b"
             ],
             [
              0.6666666666666666,
              "#ed7953"
             ],
             [
              0.7777777777777778,
              "#fb9f3a"
             ],
             [
              0.8888888888888888,
              "#fdca26"
             ],
             [
              1,
              "#f0f921"
             ]
            ],
            "type": "histogram2d"
           }
          ],
          "histogram2dcontour": [
           {
            "colorbar": {
             "outlinewidth": 0,
             "ticks": ""
            },
            "colorscale": [
             [
              0,
              "#0d0887"
             ],
             [
              0.1111111111111111,
              "#46039f"
             ],
             [
              0.2222222222222222,
              "#7201a8"
             ],
             [
              0.3333333333333333,
              "#9c179e"
             ],
             [
              0.4444444444444444,
              "#bd3786"
             ],
             [
              0.5555555555555556,
              "#d8576b"
             ],
             [
              0.6666666666666666,
              "#ed7953"
             ],
             [
              0.7777777777777778,
              "#fb9f3a"
             ],
             [
              0.8888888888888888,
              "#fdca26"
             ],
             [
              1,
              "#f0f921"
             ]
            ],
            "type": "histogram2dcontour"
           }
          ],
          "mesh3d": [
           {
            "colorbar": {
             "outlinewidth": 0,
             "ticks": ""
            },
            "type": "mesh3d"
           }
          ],
          "parcoords": [
           {
            "line": {
             "colorbar": {
              "outlinewidth": 0,
              "ticks": ""
             }
            },
            "type": "parcoords"
           }
          ],
          "pie": [
           {
            "automargin": true,
            "type": "pie"
           }
          ],
          "scatter": [
           {
            "fillpattern": {
             "fillmode": "overlay",
             "size": 10,
             "solidity": 0.2
            },
            "type": "scatter"
           }
          ],
          "scatter3d": [
           {
            "line": {
             "colorbar": {
              "outlinewidth": 0,
              "ticks": ""
             }
            },
            "marker": {
             "colorbar": {
              "outlinewidth": 0,
              "ticks": ""
             }
            },
            "type": "scatter3d"
           }
          ],
          "scattercarpet": [
           {
            "marker": {
             "colorbar": {
              "outlinewidth": 0,
              "ticks": ""
             }
            },
            "type": "scattercarpet"
           }
          ],
          "scattergeo": [
           {
            "marker": {
             "colorbar": {
              "outlinewidth": 0,
              "ticks": ""
             }
            },
            "type": "scattergeo"
           }
          ],
          "scattergl": [
           {
            "marker": {
             "colorbar": {
              "outlinewidth": 0,
              "ticks": ""
             }
            },
            "type": "scattergl"
           }
          ],
          "scattermapbox": [
           {
            "marker": {
             "colorbar": {
              "outlinewidth": 0,
              "ticks": ""
             }
            },
            "type": "scattermapbox"
           }
          ],
          "scatterpolar": [
           {
            "marker": {
             "colorbar": {
              "outlinewidth": 0,
              "ticks": ""
             }
            },
            "type": "scatterpolar"
           }
          ],
          "scatterpolargl": [
           {
            "marker": {
             "colorbar": {
              "outlinewidth": 0,
              "ticks": ""
             }
            },
            "type": "scatterpolargl"
           }
          ],
          "scatterternary": [
           {
            "marker": {
             "colorbar": {
              "outlinewidth": 0,
              "ticks": ""
             }
            },
            "type": "scatterternary"
           }
          ],
          "surface": [
           {
            "colorbar": {
             "outlinewidth": 0,
             "ticks": ""
            },
            "colorscale": [
             [
              0,
              "#0d0887"
             ],
             [
              0.1111111111111111,
              "#46039f"
             ],
             [
              0.2222222222222222,
              "#7201a8"
             ],
             [
              0.3333333333333333,
              "#9c179e"
             ],
             [
              0.4444444444444444,
              "#bd3786"
             ],
             [
              0.5555555555555556,
              "#d8576b"
             ],
             [
              0.6666666666666666,
              "#ed7953"
             ],
             [
              0.7777777777777778,
              "#fb9f3a"
             ],
             [
              0.8888888888888888,
              "#fdca26"
             ],
             [
              1,
              "#f0f921"
             ]
            ],
            "type": "surface"
           }
          ],
          "table": [
           {
            "cells": {
             "fill": {
              "color": "#EBF0F8"
             },
             "line": {
              "color": "white"
             }
            },
            "header": {
             "fill": {
              "color": "#C8D4E3"
             },
             "line": {
              "color": "white"
             }
            },
            "type": "table"
           }
          ]
         },
         "layout": {
          "annotationdefaults": {
           "arrowcolor": "#2a3f5f",
           "arrowhead": 0,
           "arrowwidth": 1
          },
          "autotypenumbers": "strict",
          "coloraxis": {
           "colorbar": {
            "outlinewidth": 0,
            "ticks": ""
           }
          },
          "colorscale": {
           "diverging": [
            [
             0,
             "#8e0152"
            ],
            [
             0.1,
             "#c51b7d"
            ],
            [
             0.2,
             "#de77ae"
            ],
            [
             0.3,
             "#f1b6da"
            ],
            [
             0.4,
             "#fde0ef"
            ],
            [
             0.5,
             "#f7f7f7"
            ],
            [
             0.6,
             "#e6f5d0"
            ],
            [
             0.7,
             "#b8e186"
            ],
            [
             0.8,
             "#7fbc41"
            ],
            [
             0.9,
             "#4d9221"
            ],
            [
             1,
             "#276419"
            ]
           ],
           "sequential": [
            [
             0,
             "#0d0887"
            ],
            [
             0.1111111111111111,
             "#46039f"
            ],
            [
             0.2222222222222222,
             "#7201a8"
            ],
            [
             0.3333333333333333,
             "#9c179e"
            ],
            [
             0.4444444444444444,
             "#bd3786"
            ],
            [
             0.5555555555555556,
             "#d8576b"
            ],
            [
             0.6666666666666666,
             "#ed7953"
            ],
            [
             0.7777777777777778,
             "#fb9f3a"
            ],
            [
             0.8888888888888888,
             "#fdca26"
            ],
            [
             1,
             "#f0f921"
            ]
           ],
           "sequentialminus": [
            [
             0,
             "#0d0887"
            ],
            [
             0.1111111111111111,
             "#46039f"
            ],
            [
             0.2222222222222222,
             "#7201a8"
            ],
            [
             0.3333333333333333,
             "#9c179e"
            ],
            [
             0.4444444444444444,
             "#bd3786"
            ],
            [
             0.5555555555555556,
             "#d8576b"
            ],
            [
             0.6666666666666666,
             "#ed7953"
            ],
            [
             0.7777777777777778,
             "#fb9f3a"
            ],
            [
             0.8888888888888888,
             "#fdca26"
            ],
            [
             1,
             "#f0f921"
            ]
           ]
          },
          "colorway": [
           "#636efa",
           "#EF553B",
           "#00cc96",
           "#ab63fa",
           "#FFA15A",
           "#19d3f3",
           "#FF6692",
           "#B6E880",
           "#FF97FF",
           "#FECB52"
          ],
          "font": {
           "color": "#2a3f5f"
          },
          "geo": {
           "bgcolor": "white",
           "lakecolor": "white",
           "landcolor": "#E5ECF6",
           "showlakes": true,
           "showland": true,
           "subunitcolor": "white"
          },
          "hoverlabel": {
           "align": "left"
          },
          "hovermode": "closest",
          "mapbox": {
           "style": "light"
          },
          "paper_bgcolor": "white",
          "plot_bgcolor": "#E5ECF6",
          "polar": {
           "angularaxis": {
            "gridcolor": "white",
            "linecolor": "white",
            "ticks": ""
           },
           "bgcolor": "#E5ECF6",
           "radialaxis": {
            "gridcolor": "white",
            "linecolor": "white",
            "ticks": ""
           }
          },
          "scene": {
           "xaxis": {
            "backgroundcolor": "#E5ECF6",
            "gridcolor": "white",
            "gridwidth": 2,
            "linecolor": "white",
            "showbackground": true,
            "ticks": "",
            "zerolinecolor": "white"
           },
           "yaxis": {
            "backgroundcolor": "#E5ECF6",
            "gridcolor": "white",
            "gridwidth": 2,
            "linecolor": "white",
            "showbackground": true,
            "ticks": "",
            "zerolinecolor": "white"
           },
           "zaxis": {
            "backgroundcolor": "#E5ECF6",
            "gridcolor": "white",
            "gridwidth": 2,
            "linecolor": "white",
            "showbackground": true,
            "ticks": "",
            "zerolinecolor": "white"
           }
          },
          "shapedefaults": {
           "line": {
            "color": "#2a3f5f"
           }
          },
          "ternary": {
           "aaxis": {
            "gridcolor": "white",
            "linecolor": "white",
            "ticks": ""
           },
           "baxis": {
            "gridcolor": "white",
            "linecolor": "white",
            "ticks": ""
           },
           "bgcolor": "#E5ECF6",
           "caxis": {
            "gridcolor": "white",
            "linecolor": "white",
            "ticks": ""
           }
          },
          "title": {
           "x": 0.05
          },
          "xaxis": {
           "automargin": true,
           "gridcolor": "white",
           "linecolor": "white",
           "ticks": "",
           "title": {
            "standoff": 15
           },
           "zerolinecolor": "white",
           "zerolinewidth": 2
          },
          "yaxis": {
           "automargin": true,
           "gridcolor": "white",
           "linecolor": "white",
           "ticks": "",
           "title": {
            "standoff": 15
           },
           "zerolinecolor": "white",
           "zerolinewidth": 2
          }
         }
        },
        "title": {
         "text": "Weekly Prices for ['40', '41', '42', '44', '45', '46', '47'] by Category"
        },
        "xaxis": {
         "anchor": "y",
         "domain": [
          0,
          1
         ],
         "title": {
          "text": "date"
         }
        },
        "yaxis": {
         "anchor": "x",
         "domain": [
          0,
          1
         ],
         "title": {
          "text": "wPreis"
         }
        }
       }
      }
     },
     "metadata": {},
     "output_type": "display_data"
    },
    {
     "data": {
      "application/vnd.plotly.v1+json": {
       "config": {
        "plotlyServerURL": "https://plot.ly"
       },
       "data": [
        {
         "hovertemplate": "full=A2 -  geschreddert<br>date=%{x}<br>wPreis=%{y}<extra></extra>",
         "legendgroup": "A2 -  geschreddert",
         "line": {
          "color": "#636efa",
          "dash": "solid"
         },
         "marker": {
          "symbol": "circle"
         },
         "mode": "lines",
         "name": "A2 -  geschreddert",
         "orientation": "v",
         "showlegend": true,
         "type": "scatter",
         "x": [
          "2020-09-14T00:00:00",
          "2020-11-09T00:00:00",
          "2020-11-16T00:00:00",
          "2020-11-23T00:00:00",
          "2020-12-14T00:00:00",
          "2021-01-11T00:00:00",
          "2021-01-18T00:00:00",
          "2021-01-25T00:00:00",
          "2021-03-22T00:00:00",
          "2021-03-29T00:00:00",
          "2021-04-05T00:00:00",
          "2021-04-12T00:00:00",
          "2021-04-19T00:00:00",
          "2021-04-26T00:00:00",
          "2021-06-14T00:00:00",
          "2021-06-28T00:00:00",
          "2021-07-05T00:00:00",
          "2021-07-12T00:00:00",
          "2021-07-19T00:00:00",
          "2021-07-26T00:00:00",
          "2021-08-02T00:00:00",
          "2021-08-09T00:00:00",
          "2021-08-16T00:00:00",
          "2021-08-23T00:00:00",
          "2021-08-30T00:00:00",
          "2021-09-06T00:00:00",
          "2021-09-13T00:00:00",
          "2021-09-20T00:00:00",
          "2021-09-27T00:00:00",
          "2021-11-08T00:00:00",
          "2021-11-15T00:00:00",
          "2021-11-29T00:00:00",
          "2022-01-17T00:00:00",
          "2022-01-24T00:00:00",
          "2022-01-31T00:00:00",
          "2022-02-07T00:00:00",
          "2022-02-14T00:00:00",
          "2022-02-21T00:00:00",
          "2022-02-28T00:00:00",
          "2022-03-07T00:00:00",
          "2022-03-14T00:00:00",
          "2022-03-21T00:00:00",
          "2022-03-28T00:00:00",
          "2022-04-04T00:00:00",
          "2022-04-11T00:00:00",
          "2022-04-18T00:00:00",
          "2022-04-25T00:00:00",
          "2022-05-02T00:00:00",
          "2022-05-09T00:00:00",
          "2022-05-16T00:00:00",
          "2022-05-23T00:00:00",
          "2022-05-30T00:00:00",
          "2022-06-06T00:00:00",
          "2022-06-13T00:00:00",
          "2022-06-20T00:00:00",
          "2022-07-04T00:00:00",
          "2022-07-11T00:00:00",
          "2022-07-18T00:00:00",
          "2022-07-25T00:00:00",
          "2022-08-01T00:00:00",
          "2022-08-08T00:00:00",
          "2022-08-15T00:00:00",
          "2022-08-22T00:00:00",
          "2022-09-05T00:00:00",
          "2022-09-12T00:00:00",
          "2022-09-19T00:00:00",
          "2022-09-26T00:00:00",
          "2022-10-03T00:00:00",
          "2022-10-10T00:00:00",
          "2022-10-17T00:00:00",
          "2022-10-24T00:00:00",
          "2022-10-31T00:00:00",
          "2022-11-07T00:00:00",
          "2022-11-14T00:00:00",
          "2022-11-21T00:00:00",
          "2022-11-28T00:00:00",
          "2022-12-12T00:00:00",
          "2022-12-19T00:00:00",
          "2022-12-26T00:00:00",
          "2023-01-02T00:00:00",
          "2023-01-09T00:00:00",
          "2023-01-16T00:00:00",
          "2023-01-30T00:00:00",
          "2023-02-06T00:00:00",
          "2023-02-13T00:00:00",
          "2023-02-20T00:00:00",
          "2023-02-27T00:00:00",
          "2023-03-06T00:00:00",
          "2023-03-13T00:00:00",
          "2023-03-20T00:00:00",
          "2023-03-27T00:00:00",
          "2023-04-03T00:00:00",
          "2023-04-10T00:00:00",
          "2023-04-17T00:00:00",
          "2023-04-24T00:00:00",
          "2023-05-01T00:00:00",
          "2023-05-15T00:00:00",
          "2023-05-22T00:00:00",
          "2023-05-29T00:00:00",
          "2023-06-05T00:00:00",
          "2023-06-12T00:00:00",
          "2023-06-19T00:00:00",
          "2023-07-03T00:00:00",
          "2023-07-10T00:00:00",
          "2023-07-17T00:00:00",
          "2023-07-24T00:00:00",
          "2023-07-31T00:00:00",
          "2023-08-07T00:00:00",
          "2023-08-14T00:00:00",
          "2023-08-21T00:00:00",
          "2023-08-28T00:00:00",
          "2023-09-04T00:00:00",
          "2023-09-11T00:00:00",
          "2023-09-18T00:00:00",
          "2023-09-25T00:00:00",
          "2023-10-02T00:00:00",
          "2023-10-09T00:00:00",
          "2023-10-16T00:00:00",
          "2023-10-23T00:00:00",
          "2023-10-30T00:00:00",
          "2023-11-06T00:00:00",
          "2023-11-13T00:00:00",
          "2023-11-20T00:00:00",
          "2023-12-04T00:00:00",
          "2023-12-11T00:00:00",
          "2023-12-18T00:00:00",
          "2024-01-08T00:00:00",
          "2024-01-15T00:00:00",
          "2024-01-22T00:00:00",
          "2024-01-29T00:00:00",
          "2024-02-05T00:00:00",
          "2024-02-12T00:00:00",
          "2024-02-19T00:00:00",
          "2024-02-26T00:00:00",
          "2024-03-04T00:00:00",
          "2024-03-11T00:00:00",
          "2024-03-18T00:00:00",
          "2024-03-25T00:00:00",
          "2024-04-01T00:00:00",
          "2024-04-08T00:00:00",
          "2024-04-15T00:00:00",
          "2024-04-22T00:00:00"
         ],
         "xaxis": "x",
         "y": [
          -35,
          -32,
          -32.54341019072018,
          -32,
          -32,
          -32,
          -25.02955546655988,
          -22.95718333508238,
          -29,
          -23.25201494004325,
          -24,
          -24,
          -24,
          -27.41186996719356,
          -29,
          -29,
          -28.43477618555178,
          -21.2266006437237,
          -24.06681006747192,
          -24.57566534368988,
          -28.11192696192695,
          -32.88044485634847,
          -32.24545274812179,
          -27.76859504132231,
          -26.05855990439199,
          -26.55200402241057,
          -27.53428912190031,
          -25.93304751697035,
          -28.6006216479766,
          -18,
          9.999999999999998,
          -17.89802855200544,
          16.23076923076923,
          21.36717533478667,
          5.648056260495183,
          10.86719301890713,
          12.73357354811361,
          17.3145579671784,
          19.34827408552293,
          15.18392700087951,
          13.31028746340165,
          15.11913104414856,
          17.47819548872181,
          21.19450620382988,
          16.3201885983712,
          23.07469180565627,
          14.45250166223404,
          12.72683686923169,
          19.56895266889518,
          24.81976166832175,
          14.117945703292,
          20.51637130050167,
          15.11161798052554,
          16.10751632098908,
          14.13619631901841,
          28,
          29.88669265033408,
          31.47723240685984,
          33.28001082690486,
          45.06692189318019,
          35.02045524454013,
          33.97125339230073,
          35,
          40.72860324530703,
          46.73085611023266,
          45.93103912721395,
          46.96007738304608,
          50,
          60.36175710594315,
          64.52734745494783,
          56.5340419682947,
          62.85978572118013,
          58.36807353702745,
          60.09743161050417,
          63.58164421503211,
          58.54755029122413,
          51.81018854242204,
          63.64386220281418,
          64.55855018587361,
          52.5402822030041,
          54.99999999999999,
          50.02118380062305,
          55,
          58.6400981407284,
          53.30778802103953,
          46.32704288939053,
          45.71048,
          46.0253807106599,
          45,
          43.07399945049913,
          36.48614914810596,
          29.14314481722926,
          31.60529643680726,
          29.24706482899438,
          29.70700384905931,
          26.81173608638899,
          26.77454343658562,
          25,
          25,
          25,
          24.37954668430229,
          22.27773204363037,
          14.6094812512143,
          1.256015055505264,
          0,
          -0.4755075572404847,
          -1.289607799689785,
          0.9241292854417615,
          -1.190630888181405,
          -1.843453237410072,
          -5.198945650809591,
          -6.544348508634222,
          -3.022977100938705,
          -7.552738043635313,
          -1.493281317728651,
          -0.2963770372677252,
          -1.942527347389489,
          -2.327997186474235,
          -4.29577173147803,
          -5.19040172925242,
          1.949702705982284,
          0,
          12.5,
          -0.2984619648053208,
          0.544256120527307,
          9.455265569672985,
          14.51040530731933,
          7.935322042939058,
          13.70007213501497,
          16.26824786157872,
          13.39849537628366,
          11.341820017539,
          9.969268624781172,
          12.40045187721658,
          16.26794152398118,
          16.26161783882465,
          11.89959643138284,
          12.67670633976037,
          6.629280693883655,
          18.92386974607313,
          19.24248156960643,
          18.85135135135135
         ],
         "yaxis": "y"
        },
        {
         "hovertemplate": "full=A3 -  geschreddert<br>date=%{x}<br>wPreis=%{y}<extra></extra>",
         "legendgroup": "A3 -  geschreddert",
         "line": {
          "color": "#EF553B",
          "dash": "solid"
         },
         "marker": {
          "symbol": "circle"
         },
         "mode": "lines",
         "name": "A3 -  geschreddert",
         "orientation": "v",
         "showlegend": true,
         "type": "scatter",
         "x": [
          "2020-09-14T00:00:00",
          "2020-09-21T00:00:00",
          "2020-09-28T00:00:00",
          "2020-10-05T00:00:00",
          "2020-10-12T00:00:00",
          "2020-10-19T00:00:00",
          "2020-10-26T00:00:00",
          "2020-11-02T00:00:00",
          "2020-11-09T00:00:00",
          "2020-11-16T00:00:00",
          "2020-11-23T00:00:00",
          "2020-11-30T00:00:00",
          "2020-12-07T00:00:00",
          "2020-12-14T00:00:00",
          "2020-12-21T00:00:00",
          "2020-12-28T00:00:00",
          "2021-01-04T00:00:00",
          "2021-01-04T00:00:00",
          "2021-01-11T00:00:00",
          "2021-01-18T00:00:00",
          "2021-01-25T00:00:00",
          "2021-02-01T00:00:00",
          "2021-02-08T00:00:00",
          "2021-02-15T00:00:00",
          "2021-02-22T00:00:00",
          "2021-03-01T00:00:00",
          "2021-03-08T00:00:00",
          "2021-03-15T00:00:00",
          "2021-03-22T00:00:00",
          "2021-03-29T00:00:00",
          "2021-04-05T00:00:00",
          "2021-04-12T00:00:00",
          "2021-04-19T00:00:00",
          "2021-04-26T00:00:00",
          "2021-05-03T00:00:00",
          "2021-05-17T00:00:00",
          "2021-05-24T00:00:00",
          "2021-05-31T00:00:00",
          "2021-06-07T00:00:00",
          "2021-06-14T00:00:00",
          "2021-06-21T00:00:00",
          "2021-06-28T00:00:00",
          "2021-07-05T00:00:00",
          "2021-07-12T00:00:00",
          "2021-07-19T00:00:00",
          "2021-07-26T00:00:00",
          "2021-08-02T00:00:00",
          "2021-08-09T00:00:00",
          "2021-08-16T00:00:00",
          "2021-08-23T00:00:00",
          "2021-08-30T00:00:00",
          "2021-09-06T00:00:00",
          "2021-09-13T00:00:00",
          "2021-09-20T00:00:00",
          "2021-09-27T00:00:00",
          "2021-10-04T00:00:00",
          "2021-10-11T00:00:00",
          "2021-10-18T00:00:00",
          "2021-10-25T00:00:00",
          "2021-11-01T00:00:00",
          "2021-11-08T00:00:00",
          "2021-11-15T00:00:00",
          "2021-11-22T00:00:00",
          "2021-11-29T00:00:00",
          "2021-12-06T00:00:00",
          "2021-12-13T00:00:00",
          "2021-12-20T00:00:00",
          "2021-12-27T00:00:00",
          "2022-01-03T00:00:00",
          "2022-01-10T00:00:00",
          "2022-01-17T00:00:00",
          "2022-01-24T00:00:00",
          "2022-01-31T00:00:00",
          "2022-02-07T00:00:00",
          "2022-02-14T00:00:00",
          "2022-02-21T00:00:00",
          "2022-02-28T00:00:00",
          "2022-03-07T00:00:00",
          "2022-03-14T00:00:00",
          "2022-03-21T00:00:00",
          "2022-03-28T00:00:00",
          "2022-04-04T00:00:00",
          "2022-04-11T00:00:00",
          "2022-04-18T00:00:00",
          "2022-04-25T00:00:00",
          "2022-05-02T00:00:00",
          "2022-05-09T00:00:00",
          "2022-05-16T00:00:00",
          "2022-05-23T00:00:00",
          "2022-05-30T00:00:00",
          "2022-06-06T00:00:00",
          "2022-06-13T00:00:00",
          "2022-06-20T00:00:00",
          "2022-06-27T00:00:00",
          "2022-07-04T00:00:00",
          "2022-07-11T00:00:00",
          "2022-07-18T00:00:00",
          "2022-07-25T00:00:00",
          "2022-08-01T00:00:00",
          "2022-08-08T00:00:00",
          "2022-08-15T00:00:00",
          "2022-08-22T00:00:00",
          "2022-08-29T00:00:00",
          "2022-09-05T00:00:00",
          "2022-09-12T00:00:00",
          "2022-09-19T00:00:00",
          "2022-09-26T00:00:00",
          "2022-10-03T00:00:00",
          "2022-10-10T00:00:00",
          "2022-10-17T00:00:00",
          "2022-10-24T00:00:00",
          "2022-10-31T00:00:00",
          "2022-11-07T00:00:00",
          "2022-11-14T00:00:00",
          "2022-11-21T00:00:00",
          "2022-11-28T00:00:00",
          "2022-12-05T00:00:00",
          "2022-12-12T00:00:00",
          "2022-12-19T00:00:00",
          "2022-12-26T00:00:00",
          "2023-01-02T00:00:00",
          "2023-01-09T00:00:00",
          "2023-01-16T00:00:00",
          "2023-01-23T00:00:00",
          "2023-01-30T00:00:00",
          "2023-02-06T00:00:00",
          "2023-02-13T00:00:00",
          "2023-02-20T00:00:00",
          "2023-02-27T00:00:00",
          "2023-03-06T00:00:00",
          "2023-03-13T00:00:00",
          "2023-03-20T00:00:00",
          "2023-03-27T00:00:00",
          "2023-04-03T00:00:00",
          "2023-04-10T00:00:00",
          "2023-04-17T00:00:00",
          "2023-04-24T00:00:00",
          "2023-05-01T00:00:00",
          "2023-05-08T00:00:00",
          "2023-05-15T00:00:00",
          "2023-05-22T00:00:00",
          "2023-05-29T00:00:00",
          "2023-06-05T00:00:00",
          "2023-06-12T00:00:00",
          "2023-06-19T00:00:00",
          "2023-06-26T00:00:00",
          "2023-07-03T00:00:00",
          "2023-07-10T00:00:00",
          "2023-07-17T00:00:00",
          "2023-07-31T00:00:00",
          "2023-08-07T00:00:00",
          "2023-08-28T00:00:00",
          "2023-09-04T00:00:00",
          "2023-09-11T00:00:00",
          "2023-09-18T00:00:00",
          "2023-09-25T00:00:00",
          "2023-10-02T00:00:00",
          "2023-10-09T00:00:00",
          "2023-10-16T00:00:00",
          "2023-10-30T00:00:00",
          "2023-11-06T00:00:00",
          "2023-11-13T00:00:00",
          "2023-11-20T00:00:00",
          "2023-11-27T00:00:00",
          "2023-12-04T00:00:00",
          "2023-12-11T00:00:00",
          "2024-01-08T00:00:00",
          "2024-02-05T00:00:00",
          "2024-02-12T00:00:00",
          "2024-02-19T00:00:00",
          "2024-02-26T00:00:00",
          "2024-03-04T00:00:00",
          "2024-03-11T00:00:00",
          "2024-03-18T00:00:00",
          "2024-04-08T00:00:00",
          "2024-04-15T00:00:00",
          "2024-04-22T00:00:00"
         ],
         "xaxis": "x",
         "y": [
          -28.31116237799469,
          -31.28105974360243,
          -32.25552971576227,
          -28.93986161750082,
          -30.47093076994176,
          -28.32251603924098,
          -26.75589359855505,
          -26.351268784059,
          -26.77186684073107,
          -26.97335638696776,
          -25.49333196972797,
          -27.43580459064686,
          -32.22983626440266,
          -29.75092920353983,
          -28.01774276197797,
          -28.09847203592466,
          -22.69823333176714,
          -26.88920563332341,
          -23.86597797085584,
          -25.93185851665359,
          -23.4610440122825,
          -21.43108993369977,
          -20.86499428633618,
          -22.70045771144278,
          -26.13137934584892,
          -24.68568909549953,
          -24.509382888774,
          -24.81568957023213,
          -29.0977945698972,
          -24.13444867406673,
          -27.54016606387855,
          -25.57165447956774,
          -25.84373747093257,
          -24.11711110153793,
          -24.08163093027182,
          -25.22570844021009,
          -26.01877606493893,
          -26.81700892639383,
          -28.29704649575983,
          -28.8632389139939,
          -26.0262751556951,
          -27.44453594076224,
          -27.34020273387934,
          -26.96258035822585,
          -33.5,
          -28.96380885453268,
          -23.55022903533041,
          -23.5,
          -25.84858774344855,
          -24.84490894906095,
          -25.43276026906136,
          -23.21295568731099,
          -22.23678765741142,
          -20.84248611437065,
          -16.8344039297185,
          -20.8596968601858,
          -17.03251080327935,
          -19.34666214075583,
          -16.71542980223223,
          -19.37171594633255,
          -21.64051380512135,
          -11.74574229908129,
          -5.928737226861609,
          -6.349767940021421,
          -7.907412226270066,
          -8.237713748998592,
          -13.28077314343845,
          20.9026622296173,
          23.20298914320628,
          21.63414428745205,
          20.13164600426501,
          20.80333632847599,
          22.11807556006881,
          20.89134030236848,
          22.82483922625251,
          28.080150845154,
          31.37052079921389,
          34.14394572606709,
          33.56685056931565,
          28.9816441330307,
          35.46955772544515,
          33.17396931624472,
          3.935579726396052,
          35.17140766315156,
          41.37333401159834,
          38.66676063434178,
          40.8960116377743,
          39.56308878268461,
          34.29138249993097,
          38.57297667485799,
          36.08639002569716,
          40.13835833928715,
          38.58215721646445,
          37.59827751316754,
          41.74631687974401,
          35.78125189054023,
          38.87916489497407,
          34.94909974558027,
          35.48319772675126,
          42.32354083713704,
          38.17564996368918,
          51.92386768036233,
          57.43778478794253,
          60.03946757794373,
          57.64931201190031,
          71.66173975171922,
          70.72918149466192,
          68.4577901531452,
          78.27835928454977,
          74.49402178478425,
          67.70332818692602,
          71.00386397597089,
          63.61550305648757,
          70.43269363523402,
          61.35942612248658,
          64.70812607989947,
          57.00905985164493,
          72.76297922451768,
          63.15696772191183,
          66.41105816208415,
          67.65185097455334,
          62.52016482553044,
          46.11834366375604,
          42.00496569935991,
          28.41748311614192,
          41.46925566343042,
          43.6238280774382,
          40.11011089367253,
          37.23299362655391,
          39.39068100358423,
          28.68218596630853,
          39.59719171634765,
          22.17070518794657,
          26.19237731295254,
          34.89543796978492,
          34.57607699358387,
          30.33893817026348,
          26.77714871611983,
          17.20891293147862,
          25.57845866932836,
          19.35755746905513,
          19.8888459470359,
          22.8984660992207,
          20.8155387887086,
          20.56684756814758,
          -0.2157478768838056,
          6.627849762178121,
          11.64275904166031,
          15,
          -15,
          -5.662500000000001,
          14.95627134865761,
          17.97374636627907,
          15.95450917797287,
          15,
          14.20442135710281,
          13.18871837411862,
          16.51356993736952,
          12.57917583761311,
          5.174225088412732,
          10.06567249481394,
          13.94452315263589,
          11.90748652222561,
          13.3530988171513,
          7.384922258592471,
          10.27267508610792,
          5,
          10,
          7.180600555426984,
          7.490894016857815,
          10,
          10.86608789684159,
          7.489730599594708,
          8.238643829188176,
          2.166721228909594,
          10.85,
          10.85
         ],
         "yaxis": "y"
        },
        {
         "hovertemplate": "full=A1 & A2 -  geschreddert<br>date=%{x}<br>wPreis=%{y}<extra></extra>",
         "legendgroup": "A1 & A2 -  geschreddert",
         "line": {
          "color": "#00cc96",
          "dash": "solid"
         },
         "marker": {
          "symbol": "circle"
         },
         "mode": "lines",
         "name": "A1 & A2 -  geschreddert",
         "orientation": "v",
         "showlegend": true,
         "type": "scatter",
         "x": [
          "2020-09-14T00:00:00",
          "2020-11-02T00:00:00",
          "2020-11-09T00:00:00",
          "2020-11-16T00:00:00",
          "2020-11-23T00:00:00",
          "2020-12-14T00:00:00",
          "2020-12-21T00:00:00",
          "2021-01-11T00:00:00",
          "2021-01-18T00:00:00",
          "2021-01-25T00:00:00",
          "2021-03-22T00:00:00",
          "2021-03-29T00:00:00",
          "2021-04-05T00:00:00",
          "2021-04-12T00:00:00",
          "2021-04-19T00:00:00",
          "2021-04-26T00:00:00",
          "2021-06-14T00:00:00",
          "2021-06-28T00:00:00",
          "2021-07-05T00:00:00",
          "2021-07-12T00:00:00",
          "2021-07-19T00:00:00",
          "2021-07-26T00:00:00",
          "2021-08-02T00:00:00",
          "2021-08-09T00:00:00",
          "2021-08-16T00:00:00",
          "2021-08-23T00:00:00",
          "2021-08-30T00:00:00",
          "2021-09-06T00:00:00",
          "2021-09-13T00:00:00",
          "2021-09-20T00:00:00",
          "2021-09-27T00:00:00",
          "2021-10-11T00:00:00",
          "2021-10-25T00:00:00",
          "2021-11-01T00:00:00",
          "2021-11-08T00:00:00",
          "2021-11-15T00:00:00",
          "2021-11-22T00:00:00",
          "2021-11-29T00:00:00",
          "2021-12-06T00:00:00",
          "2022-01-03T00:00:00",
          "2022-01-10T00:00:00",
          "2022-01-17T00:00:00",
          "2022-01-24T00:00:00",
          "2022-01-31T00:00:00",
          "2022-02-07T00:00:00",
          "2022-02-14T00:00:00",
          "2022-02-21T00:00:00",
          "2022-02-28T00:00:00",
          "2022-03-07T00:00:00",
          "2022-03-14T00:00:00",
          "2022-03-21T00:00:00",
          "2022-03-28T00:00:00",
          "2022-04-04T00:00:00",
          "2022-04-11T00:00:00",
          "2022-04-18T00:00:00",
          "2022-04-25T00:00:00",
          "2022-05-02T00:00:00",
          "2022-05-09T00:00:00",
          "2022-05-16T00:00:00",
          "2022-05-23T00:00:00",
          "2022-05-30T00:00:00",
          "2022-06-06T00:00:00",
          "2022-06-13T00:00:00",
          "2022-06-20T00:00:00",
          "2022-06-27T00:00:00",
          "2022-07-04T00:00:00",
          "2022-07-11T00:00:00",
          "2022-07-18T00:00:00",
          "2022-07-25T00:00:00",
          "2022-08-01T00:00:00",
          "2022-08-08T00:00:00",
          "2022-08-15T00:00:00",
          "2022-08-22T00:00:00",
          "2022-08-29T00:00:00",
          "2022-09-05T00:00:00",
          "2022-09-12T00:00:00",
          "2022-09-19T00:00:00",
          "2022-09-26T00:00:00",
          "2022-10-03T00:00:00",
          "2022-10-10T00:00:00",
          "2022-10-17T00:00:00",
          "2022-10-24T00:00:00",
          "2022-10-31T00:00:00",
          "2022-11-07T00:00:00",
          "2022-11-14T00:00:00",
          "2022-11-21T00:00:00",
          "2022-11-28T00:00:00",
          "2022-12-05T00:00:00",
          "2022-12-12T00:00:00",
          "2022-12-19T00:00:00",
          "2022-12-26T00:00:00",
          "2023-01-02T00:00:00",
          "2023-01-09T00:00:00",
          "2023-01-16T00:00:00",
          "2023-01-30T00:00:00",
          "2023-02-06T00:00:00",
          "2023-02-13T00:00:00",
          "2023-02-20T00:00:00",
          "2023-02-27T00:00:00",
          "2023-03-06T00:00:00",
          "2023-03-13T00:00:00",
          "2023-03-20T00:00:00",
          "2023-03-27T00:00:00",
          "2023-04-03T00:00:00",
          "2023-04-10T00:00:00",
          "2023-04-17T00:00:00",
          "2023-04-24T00:00:00",
          "2023-05-01T00:00:00",
          "2023-05-08T00:00:00",
          "2023-05-15T00:00:00",
          "2023-05-22T00:00:00",
          "2023-05-29T00:00:00",
          "2023-06-05T00:00:00",
          "2023-06-12T00:00:00",
          "2023-06-19T00:00:00",
          "2023-07-03T00:00:00",
          "2023-07-10T00:00:00",
          "2023-07-17T00:00:00",
          "2023-07-24T00:00:00",
          "2023-07-31T00:00:00",
          "2023-08-07T00:00:00",
          "2023-08-14T00:00:00",
          "2023-08-21T00:00:00",
          "2023-08-28T00:00:00",
          "2023-09-04T00:00:00",
          "2023-09-11T00:00:00",
          "2023-09-18T00:00:00",
          "2023-09-25T00:00:00",
          "2023-10-02T00:00:00",
          "2023-10-09T00:00:00",
          "2023-10-16T00:00:00",
          "2023-10-23T00:00:00",
          "2023-10-30T00:00:00",
          "2023-11-06T00:00:00",
          "2023-11-13T00:00:00",
          "2023-11-20T00:00:00",
          "2023-12-04T00:00:00",
          "2023-12-11T00:00:00",
          "2023-12-18T00:00:00",
          "2024-01-08T00:00:00",
          "2024-01-15T00:00:00",
          "2024-01-22T00:00:00",
          "2024-01-29T00:00:00",
          "2024-02-05T00:00:00",
          "2024-02-12T00:00:00",
          "2024-02-19T00:00:00",
          "2024-02-26T00:00:00",
          "2024-03-04T00:00:00",
          "2024-03-11T00:00:00",
          "2024-03-18T00:00:00",
          "2024-03-25T00:00:00",
          "2024-04-01T00:00:00",
          "2024-04-08T00:00:00",
          "2024-04-15T00:00:00",
          "2024-04-22T00:00:00"
         ],
         "xaxis": "x",
         "y": [
          -32.34556671676026,
          -30.47253692815144,
          -32,
          -32.54341019072018,
          -32,
          -32,
          -19,
          -30.26808690149758,
          -25.02726265238272,
          -22.95718333508238,
          -29,
          -23.25201494004325,
          -24.22258862324814,
          -24,
          -24.10820444659256,
          -32.90318531303938,
          -29,
          -28.46623744922204,
          -28.43477618555178,
          -21.2266006437237,
          -24.1241804127269,
          -24.57566534368988,
          -27.75981945975745,
          -32.88044485634847,
          -31.18549305877886,
          -27.76859504132231,
          -25.95524400107846,
          -26.55200402241057,
          -27.53428912190031,
          -25.93304751697035,
          -28.03904320987654,
          2,
          -16.99005305039788,
          -0.2823323800444868,
          -11.26291749928632,
          9.999999999999998,
          -14.37034035656402,
          -12.69275856335218,
          -2.912187861749628,
          2,
          14.84177955364974,
          19.25637230718631,
          26.21784168212739,
          11.92416069933972,
          12.36180542385739,
          15.07121900707588,
          20.75438108484006,
          21.01310337103819,
          15.18392700087951,
          13.31028746340165,
          16.92697992499448,
          22.1812905722024,
          21.11037034567819,
          16.3201885983712,
          23.07469180565627,
          14.45250166223404,
          12.72683686923169,
          19.89742383008328,
          24.81976166832175,
          13.77239792421423,
          22.67765917777571,
          14.88387326995132,
          16.10751632098908,
          14.13619631901841,
          56.73152819822849,
          27.36800610376398,
          29.88669265033408,
          32.40629197447952,
          36.59323525713566,
          42.97991457517033,
          35.02045524454013,
          33.97125339230073,
          45.08275027618496,
          37.33557234816681,
          64.37002691317576,
          61.49747084445693,
          52.40814606741572,
          50.88635612817971,
          61.89181481129386,
          66.72604528120382,
          71.81608415337634,
          60.37885767540939,
          66.5124958985016,
          59.57775071051563,
          63.86960669210448,
          70.26397623131162,
          65.6057400173611,
          70.11882998171848,
          65.656162464986,
          63.64386220281418,
          74.7155548628429,
          59.34669054548168,
          75.7599626885008,
          65.45594494249752,
          64.85384366925064,
          65.16808910990893,
          59.69694966058362,
          46.32704288939053,
          45.71048,
          50.27380170715693,
          46.55077579837452,
          44.8476430976431,
          38.39727682002855,
          29.14314481722926,
          37.31831956741338,
          33.17064510842846,
          32.65577362804877,
          29.11085573788016,
          33.83939424635332,
          30.04785401335659,
          25,
          25,
          26.75461741424802,
          24.37954668430229,
          22.27773204363037,
          20.94693103951013,
          1.256015055505264,
          6.103377959038921,
          5.528469603414695,
          2.754479228194527,
          2.88683545558143,
          9.157204789430223,
          4.127659574468085,
          -5.198945650809591,
          -6.544348508634222,
          -3.022977100938705,
          -7.552738043635313,
          1.12629307311581,
          2.631967252130038,
          -0.4274292742927431,
          -1.058795174766401,
          -3.200568001271052,
          -3.764449921479672,
          4.639330773450357,
          4.968581687612208,
          16.81616595135908,
          -0.2984619648053208,
          0.544256120527307,
          9.455265569672985,
          14.51040530731933,
          19.15278560468685,
          17.70697800458897,
          16.26824786157872,
          13.39849537628366,
          11.341820017539,
          10.56675747782955,
          12.40045187721658,
          16.26794152398118,
          16.26161783882465,
          11.89959643138284,
          12.67670633976037,
          6.629280693883655,
          18.92386974607313,
          19.24248156960643,
          18.85135135135135
         ],
         "yaxis": "y"
        },
        {
         "hovertemplate": "full=A2 & A3 -  geschreddert<br>date=%{x}<br>wPreis=%{y}<extra></extra>",
         "legendgroup": "A2 & A3 -  geschreddert",
         "line": {
          "color": "#ab63fa",
          "dash": "solid"
         },
         "marker": {
          "symbol": "circle"
         },
         "mode": "lines",
         "name": "A2 & A3 -  geschreddert",
         "orientation": "v",
         "showlegend": true,
         "type": "scatter",
         "x": [
          "2020-09-14T00:00:00",
          "2020-09-21T00:00:00",
          "2020-09-28T00:00:00",
          "2020-10-05T00:00:00",
          "2020-10-12T00:00:00",
          "2020-10-19T00:00:00",
          "2020-10-26T00:00:00",
          "2020-11-02T00:00:00",
          "2020-11-09T00:00:00",
          "2020-11-16T00:00:00",
          "2020-11-23T00:00:00",
          "2020-11-30T00:00:00",
          "2020-12-07T00:00:00",
          "2020-12-14T00:00:00",
          "2020-12-21T00:00:00",
          "2020-12-28T00:00:00",
          "2021-01-04T00:00:00",
          "2021-01-04T00:00:00",
          "2021-01-11T00:00:00",
          "2021-01-18T00:00:00",
          "2021-01-25T00:00:00",
          "2021-02-01T00:00:00",
          "2021-02-08T00:00:00",
          "2021-02-15T00:00:00",
          "2021-02-22T00:00:00",
          "2021-03-01T00:00:00",
          "2021-03-08T00:00:00",
          "2021-03-15T00:00:00",
          "2021-03-22T00:00:00",
          "2021-03-29T00:00:00",
          "2021-04-05T00:00:00",
          "2021-04-12T00:00:00",
          "2021-04-19T00:00:00",
          "2021-04-26T00:00:00",
          "2021-05-03T00:00:00",
          "2021-05-17T00:00:00",
          "2021-05-24T00:00:00",
          "2021-05-31T00:00:00",
          "2021-06-07T00:00:00",
          "2021-06-14T00:00:00",
          "2021-06-21T00:00:00",
          "2021-06-28T00:00:00",
          "2021-07-05T00:00:00",
          "2021-07-12T00:00:00",
          "2021-07-19T00:00:00",
          "2021-07-26T00:00:00",
          "2021-08-02T00:00:00",
          "2021-08-09T00:00:00",
          "2021-08-16T00:00:00",
          "2021-08-23T00:00:00",
          "2021-08-30T00:00:00",
          "2021-09-06T00:00:00",
          "2021-09-13T00:00:00",
          "2021-09-20T00:00:00",
          "2021-09-27T00:00:00",
          "2021-10-04T00:00:00",
          "2021-10-11T00:00:00",
          "2021-10-18T00:00:00",
          "2021-10-25T00:00:00",
          "2021-11-01T00:00:00",
          "2021-11-08T00:00:00",
          "2021-11-15T00:00:00",
          "2021-11-22T00:00:00",
          "2021-11-29T00:00:00",
          "2021-12-06T00:00:00",
          "2021-12-13T00:00:00",
          "2021-12-20T00:00:00",
          "2021-12-27T00:00:00",
          "2022-01-03T00:00:00",
          "2022-01-10T00:00:00",
          "2022-01-17T00:00:00",
          "2022-01-24T00:00:00",
          "2022-01-31T00:00:00",
          "2022-02-07T00:00:00",
          "2022-02-14T00:00:00",
          "2022-02-21T00:00:00",
          "2022-02-28T00:00:00",
          "2022-03-07T00:00:00",
          "2022-03-14T00:00:00",
          "2022-03-21T00:00:00",
          "2022-03-28T00:00:00",
          "2022-04-04T00:00:00",
          "2022-04-11T00:00:00",
          "2022-04-18T00:00:00",
          "2022-04-25T00:00:00",
          "2022-05-02T00:00:00",
          "2022-05-09T00:00:00",
          "2022-05-16T00:00:00",
          "2022-05-23T00:00:00",
          "2022-05-30T00:00:00",
          "2022-06-06T00:00:00",
          "2022-06-13T00:00:00",
          "2022-06-20T00:00:00",
          "2022-06-27T00:00:00",
          "2022-07-04T00:00:00",
          "2022-07-11T00:00:00",
          "2022-07-18T00:00:00",
          "2022-07-25T00:00:00",
          "2022-08-01T00:00:00",
          "2022-08-08T00:00:00",
          "2022-08-15T00:00:00",
          "2022-08-22T00:00:00",
          "2022-08-29T00:00:00",
          "2022-09-05T00:00:00",
          "2022-09-12T00:00:00",
          "2022-09-19T00:00:00",
          "2022-09-26T00:00:00",
          "2022-10-03T00:00:00",
          "2022-10-10T00:00:00",
          "2022-10-17T00:00:00",
          "2022-10-24T00:00:00",
          "2022-10-31T00:00:00",
          "2022-11-07T00:00:00",
          "2022-11-14T00:00:00",
          "2022-11-21T00:00:00",
          "2022-11-28T00:00:00",
          "2022-12-05T00:00:00",
          "2022-12-12T00:00:00",
          "2022-12-19T00:00:00",
          "2022-12-26T00:00:00",
          "2023-01-02T00:00:00",
          "2023-01-09T00:00:00",
          "2023-01-16T00:00:00",
          "2023-01-23T00:00:00",
          "2023-01-30T00:00:00",
          "2023-02-06T00:00:00",
          "2023-02-13T00:00:00",
          "2023-02-20T00:00:00",
          "2023-02-27T00:00:00",
          "2023-03-06T00:00:00",
          "2023-03-13T00:00:00",
          "2023-03-20T00:00:00",
          "2023-03-27T00:00:00",
          "2023-04-03T00:00:00",
          "2023-04-10T00:00:00",
          "2023-04-17T00:00:00",
          "2023-04-24T00:00:00",
          "2023-05-01T00:00:00",
          "2023-05-08T00:00:00",
          "2023-05-15T00:00:00",
          "2023-05-22T00:00:00",
          "2023-05-29T00:00:00",
          "2023-06-05T00:00:00",
          "2023-06-12T00:00:00",
          "2023-06-19T00:00:00",
          "2023-06-26T00:00:00",
          "2023-07-03T00:00:00",
          "2023-07-10T00:00:00",
          "2023-07-17T00:00:00",
          "2023-07-24T00:00:00",
          "2023-07-31T00:00:00",
          "2023-08-07T00:00:00",
          "2023-08-14T00:00:00",
          "2023-08-21T00:00:00",
          "2023-08-28T00:00:00",
          "2023-09-04T00:00:00",
          "2023-09-11T00:00:00",
          "2023-09-18T00:00:00",
          "2023-09-25T00:00:00",
          "2023-10-02T00:00:00",
          "2023-10-09T00:00:00",
          "2023-10-16T00:00:00",
          "2023-10-23T00:00:00",
          "2023-10-30T00:00:00",
          "2023-11-06T00:00:00",
          "2023-11-13T00:00:00",
          "2023-11-20T00:00:00",
          "2023-11-27T00:00:00",
          "2023-12-04T00:00:00",
          "2023-12-11T00:00:00",
          "2023-12-18T00:00:00",
          "2024-01-08T00:00:00",
          "2024-01-15T00:00:00",
          "2024-01-22T00:00:00",
          "2024-01-29T00:00:00",
          "2024-02-05T00:00:00",
          "2024-02-12T00:00:00",
          "2024-02-19T00:00:00",
          "2024-02-26T00:00:00",
          "2024-03-04T00:00:00",
          "2024-03-11T00:00:00",
          "2024-03-18T00:00:00",
          "2024-03-25T00:00:00",
          "2024-04-01T00:00:00",
          "2024-04-08T00:00:00",
          "2024-04-15T00:00:00",
          "2024-04-22T00:00:00"
         ],
         "xaxis": "x",
         "y": [
          -29.25756813992108,
          -31.28105974360243,
          -32.25552971576227,
          -28.93986161750082,
          -30.47093076994176,
          -28.53824423092716,
          -26.75589359855505,
          -27.17327521793275,
          -28.34306513798701,
          -27.9760859539142,
          -26.2927446266461,
          -27.73865459546184,
          -32.77326565143824,
          -30.30434347477982,
          -28.01774276197797,
          -27.23770427094024,
          -26.88920563332341,
          -22.69823333176714,
          -24.75074690567647,
          -25.62502042817453,
          -23.31963833421688,
          -21.43108993369977,
          -20.98546929554323,
          -23.75913986372628,
          -26.13137934584892,
          -24.60778992431771,
          -24.509382888774,
          -24.75794391212244,
          -29.04190196521347,
          -23.91777482804392,
          -27.03063471643808,
          -25.38288233786939,
          -25.42273957769355,
          -24.53295565760747,
          -24.08163093027182,
          -25.49340388107127,
          -26.34737120798032,
          -26.82310642377756,
          -28.29704649575983,
          -28.8800818246247,
          -25.40070325254302,
          -27.64343071059387,
          -27.43753681638444,
          -25.29969710454918,
          -25.30155788128146,
          -25.52803462147064,
          -25.23152152123487,
          -26.42177050757758,
          -27.71702975442851,
          -25.34213227630209,
          -25.57182408477074,
          -24.54415744333558,
          -24.03530334728034,
          -22.64331033088142,
          -20.12042143246188,
          -20.8596968601858,
          -17.03251080327935,
          -18.40037410009352,
          -16.39897698209719,
          -19.37171594633255,
          -21.04921428446573,
          -10.16123398468256,
          -6.680075783135657,
          -8.070194450070895,
          -7.282621119386476,
          -8.237713748998592,
          -13.28077314343845,
          20.9026622296173,
          20.83893598363052,
          22.1707007373417,
          19.59429831395892,
          20.91642462288016,
          11.88336759352246,
          17.50449976132312,
          18.6021079395113,
          24.29427606920346,
          28.61975009262066,
          27.76644663856224,
          26.06615744733276,
          23.9865538791743,
          24.0038125,
          25.53396226415094,
          10.95430695233931,
          32.88646221748728,
          32.52438224808426,
          36.30683714083202,
          35.02807817131611,
          36.79280023137784,
          30.14983652601321,
          31.27367309469238,
          27.35233836925127,
          34.95802301541835,
          34.64132703015439,
          37.12656422967706,
          40.39176119735779,
          34.45703363197148,
          36.86479610785115,
          34.50591138315584,
          38.54842020599746,
          39.87249816112423,
          37.64481148237922,
          49.91125791003934,
          57.25329925098087,
          56.83577021201725,
          54.72473150809258,
          61.40276025024836,
          60.65342751705371,
          66.36100649090474,
          72.13965083408405,
          71.0355451536816,
          63.87695414687234,
          68.40327121047115,
          62.24068043824835,
          65.37613178010324,
          62.20142917111891,
          63.08880326265955,
          56.37003868369455,
          69.86689218818518,
          63.29200870228323,
          66.2471737670773,
          63.55681229494044,
          61.48680329728505,
          47.15791788369624,
          42.00496569935991,
          38.11305819082724,
          47.70694392202397,
          46.18094654938097,
          41.50388663967612,
          40.97125798144425,
          42.32784019975031,
          40.90097294415568,
          41.01088292246965,
          32.46900934514262,
          27.78868701416201,
          34.07262715332813,
          32.09589885221316,
          30.03611384047852,
          26.7919869673675,
          18.1933191872428,
          25.98798645777555,
          20.25651176318511,
          20.38191176024049,
          23.34600088378258,
          21.97880690737834,
          21.05660043890011,
          3.198082415340677,
          10.28148345784418,
          5.2486434961138,
          3.231962570795371,
          -0.4755075572404847,
          -10.73746211077432,
          -0.7792863781468454,
          0.6034432953954592,
          -1.843453237410072,
          10.76010975370745,
          4.820616472966144,
          3.779806605730307,
          8.072834995118201,
          8.449677980202088,
          9.338974009424177,
          4.442356738212923,
          2.126018413649483,
          -4.212338420649941,
          -3.31387356170317,
          7.966503985939363,
          10.79921464456892,
          11.99725251014126,
          13.3530988171513,
          3.573596123444911,
          2.465238419103756,
          9.455265569672985,
          12.82193251826734,
          7.935322042939058,
          13.70007213501497,
          16.26824786157872,
          12.41548196161738,
          10.15529307443579,
          8.945466065414692,
          11.69390045522211,
          13.59220956673775,
          13.39198763819291,
          10.97989861678718,
          9.244562550630715,
          9.939237087881175,
          13.38994843860451,
          17.44892807851556,
          16.7317880794702
         ],
         "yaxis": "y"
        }
       ],
       "layout": {
        "legend": {
         "title": {
          "text": "full"
         },
         "tracegroupgap": 0
        },
        "template": {
         "data": {
          "bar": [
           {
            "error_x": {
             "color": "#2a3f5f"
            },
            "error_y": {
             "color": "#2a3f5f"
            },
            "marker": {
             "line": {
              "color": "#E5ECF6",
              "width": 0.5
             },
             "pattern": {
              "fillmode": "overlay",
              "size": 10,
              "solidity": 0.2
             }
            },
            "type": "bar"
           }
          ],
          "barpolar": [
           {
            "marker": {
             "line": {
              "color": "#E5ECF6",
              "width": 0.5
             },
             "pattern": {
              "fillmode": "overlay",
              "size": 10,
              "solidity": 0.2
             }
            },
            "type": "barpolar"
           }
          ],
          "carpet": [
           {
            "aaxis": {
             "endlinecolor": "#2a3f5f",
             "gridcolor": "white",
             "linecolor": "white",
             "minorgridcolor": "white",
             "startlinecolor": "#2a3f5f"
            },
            "baxis": {
             "endlinecolor": "#2a3f5f",
             "gridcolor": "white",
             "linecolor": "white",
             "minorgridcolor": "white",
             "startlinecolor": "#2a3f5f"
            },
            "type": "carpet"
           }
          ],
          "choropleth": [
           {
            "colorbar": {
             "outlinewidth": 0,
             "ticks": ""
            },
            "type": "choropleth"
           }
          ],
          "contour": [
           {
            "colorbar": {
             "outlinewidth": 0,
             "ticks": ""
            },
            "colorscale": [
             [
              0,
              "#0d0887"
             ],
             [
              0.1111111111111111,
              "#46039f"
             ],
             [
              0.2222222222222222,
              "#7201a8"
             ],
             [
              0.3333333333333333,
              "#9c179e"
             ],
             [
              0.4444444444444444,
              "#bd3786"
             ],
             [
              0.5555555555555556,
              "#d8576b"
             ],
             [
              0.6666666666666666,
              "#ed7953"
             ],
             [
              0.7777777777777778,
              "#fb9f3a"
             ],
             [
              0.8888888888888888,
              "#fdca26"
             ],
             [
              1,
              "#f0f921"
             ]
            ],
            "type": "contour"
           }
          ],
          "contourcarpet": [
           {
            "colorbar": {
             "outlinewidth": 0,
             "ticks": ""
            },
            "type": "contourcarpet"
           }
          ],
          "heatmap": [
           {
            "colorbar": {
             "outlinewidth": 0,
             "ticks": ""
            },
            "colorscale": [
             [
              0,
              "#0d0887"
             ],
             [
              0.1111111111111111,
              "#46039f"
             ],
             [
              0.2222222222222222,
              "#7201a8"
             ],
             [
              0.3333333333333333,
              "#9c179e"
             ],
             [
              0.4444444444444444,
              "#bd3786"
             ],
             [
              0.5555555555555556,
              "#d8576b"
             ],
             [
              0.6666666666666666,
              "#ed7953"
             ],
             [
              0.7777777777777778,
              "#fb9f3a"
             ],
             [
              0.8888888888888888,
              "#fdca26"
             ],
             [
              1,
              "#f0f921"
             ]
            ],
            "type": "heatmap"
           }
          ],
          "heatmapgl": [
           {
            "colorbar": {
             "outlinewidth": 0,
             "ticks": ""
            },
            "colorscale": [
             [
              0,
              "#0d0887"
             ],
             [
              0.1111111111111111,
              "#46039f"
             ],
             [
              0.2222222222222222,
              "#7201a8"
             ],
             [
              0.3333333333333333,
              "#9c179e"
             ],
             [
              0.4444444444444444,
              "#bd3786"
             ],
             [
              0.5555555555555556,
              "#d8576b"
             ],
             [
              0.6666666666666666,
              "#ed7953"
             ],
             [
              0.7777777777777778,
              "#fb9f3a"
             ],
             [
              0.8888888888888888,
              "#fdca26"
             ],
             [
              1,
              "#f0f921"
             ]
            ],
            "type": "heatmapgl"
           }
          ],
          "histogram": [
           {
            "marker": {
             "pattern": {
              "fillmode": "overlay",
              "size": 10,
              "solidity": 0.2
             }
            },
            "type": "histogram"
           }
          ],
          "histogram2d": [
           {
            "colorbar": {
             "outlinewidth": 0,
             "ticks": ""
            },
            "colorscale": [
             [
              0,
              "#0d0887"
             ],
             [
              0.1111111111111111,
              "#46039f"
             ],
             [
              0.2222222222222222,
              "#7201a8"
             ],
             [
              0.3333333333333333,
              "#9c179e"
             ],
             [
              0.4444444444444444,
              "#bd3786"
             ],
             [
              0.5555555555555556,
              "#d8576b"
             ],
             [
              0.6666666666666666,
              "#ed7953"
             ],
             [
              0.7777777777777778,
              "#fb9f3a"
             ],
             [
              0.8888888888888888,
              "#fdca26"
             ],
             [
              1,
              "#f0f921"
             ]
            ],
            "type": "histogram2d"
           }
          ],
          "histogram2dcontour": [
           {
            "colorbar": {
             "outlinewidth": 0,
             "ticks": ""
            },
            "colorscale": [
             [
              0,
              "#0d0887"
             ],
             [
              0.1111111111111111,
              "#46039f"
             ],
             [
              0.2222222222222222,
              "#7201a8"
             ],
             [
              0.3333333333333333,
              "#9c179e"
             ],
             [
              0.4444444444444444,
              "#bd3786"
             ],
             [
              0.5555555555555556,
              "#d8576b"
             ],
             [
              0.6666666666666666,
              "#ed7953"
             ],
             [
              0.7777777777777778,
              "#fb9f3a"
             ],
             [
              0.8888888888888888,
              "#fdca26"
             ],
             [
              1,
              "#f0f921"
             ]
            ],
            "type": "histogram2dcontour"
           }
          ],
          "mesh3d": [
           {
            "colorbar": {
             "outlinewidth": 0,
             "ticks": ""
            },
            "type": "mesh3d"
           }
          ],
          "parcoords": [
           {
            "line": {
             "colorbar": {
              "outlinewidth": 0,
              "ticks": ""
             }
            },
            "type": "parcoords"
           }
          ],
          "pie": [
           {
            "automargin": true,
            "type": "pie"
           }
          ],
          "scatter": [
           {
            "fillpattern": {
             "fillmode": "overlay",
             "size": 10,
             "solidity": 0.2
            },
            "type": "scatter"
           }
          ],
          "scatter3d": [
           {
            "line": {
             "colorbar": {
              "outlinewidth": 0,
              "ticks": ""
             }
            },
            "marker": {
             "colorbar": {
              "outlinewidth": 0,
              "ticks": ""
             }
            },
            "type": "scatter3d"
           }
          ],
          "scattercarpet": [
           {
            "marker": {
             "colorbar": {
              "outlinewidth": 0,
              "ticks": ""
             }
            },
            "type": "scattercarpet"
           }
          ],
          "scattergeo": [
           {
            "marker": {
             "colorbar": {
              "outlinewidth": 0,
              "ticks": ""
             }
            },
            "type": "scattergeo"
           }
          ],
          "scattergl": [
           {
            "marker": {
             "colorbar": {
              "outlinewidth": 0,
              "ticks": ""
             }
            },
            "type": "scattergl"
           }
          ],
          "scattermapbox": [
           {
            "marker": {
             "colorbar": {
              "outlinewidth": 0,
              "ticks": ""
             }
            },
            "type": "scattermapbox"
           }
          ],
          "scatterpolar": [
           {
            "marker": {
             "colorbar": {
              "outlinewidth": 0,
              "ticks": ""
             }
            },
            "type": "scatterpolar"
           }
          ],
          "scatterpolargl": [
           {
            "marker": {
             "colorbar": {
              "outlinewidth": 0,
              "ticks": ""
             }
            },
            "type": "scatterpolargl"
           }
          ],
          "scatterternary": [
           {
            "marker": {
             "colorbar": {
              "outlinewidth": 0,
              "ticks": ""
             }
            },
            "type": "scatterternary"
           }
          ],
          "surface": [
           {
            "colorbar": {
             "outlinewidth": 0,
             "ticks": ""
            },
            "colorscale": [
             [
              0,
              "#0d0887"
             ],
             [
              0.1111111111111111,
              "#46039f"
             ],
             [
              0.2222222222222222,
              "#7201a8"
             ],
             [
              0.3333333333333333,
              "#9c179e"
             ],
             [
              0.4444444444444444,
              "#bd3786"
             ],
             [
              0.5555555555555556,
              "#d8576b"
             ],
             [
              0.6666666666666666,
              "#ed7953"
             ],
             [
              0.7777777777777778,
              "#fb9f3a"
             ],
             [
              0.8888888888888888,
              "#fdca26"
             ],
             [
              1,
              "#f0f921"
             ]
            ],
            "type": "surface"
           }
          ],
          "table": [
           {
            "cells": {
             "fill": {
              "color": "#EBF0F8"
             },
             "line": {
              "color": "white"
             }
            },
            "header": {
             "fill": {
              "color": "#C8D4E3"
             },
             "line": {
              "color": "white"
             }
            },
            "type": "table"
           }
          ]
         },
         "layout": {
          "annotationdefaults": {
           "arrowcolor": "#2a3f5f",
           "arrowhead": 0,
           "arrowwidth": 1
          },
          "autotypenumbers": "strict",
          "coloraxis": {
           "colorbar": {
            "outlinewidth": 0,
            "ticks": ""
           }
          },
          "colorscale": {
           "diverging": [
            [
             0,
             "#8e0152"
            ],
            [
             0.1,
             "#c51b7d"
            ],
            [
             0.2,
             "#de77ae"
            ],
            [
             0.3,
             "#f1b6da"
            ],
            [
             0.4,
             "#fde0ef"
            ],
            [
             0.5,
             "#f7f7f7"
            ],
            [
             0.6,
             "#e6f5d0"
            ],
            [
             0.7,
             "#b8e186"
            ],
            [
             0.8,
             "#7fbc41"
            ],
            [
             0.9,
             "#4d9221"
            ],
            [
             1,
             "#276419"
            ]
           ],
           "sequential": [
            [
             0,
             "#0d0887"
            ],
            [
             0.1111111111111111,
             "#46039f"
            ],
            [
             0.2222222222222222,
             "#7201a8"
            ],
            [
             0.3333333333333333,
             "#9c179e"
            ],
            [
             0.4444444444444444,
             "#bd3786"
            ],
            [
             0.5555555555555556,
             "#d8576b"
            ],
            [
             0.6666666666666666,
             "#ed7953"
            ],
            [
             0.7777777777777778,
             "#fb9f3a"
            ],
            [
             0.8888888888888888,
             "#fdca26"
            ],
            [
             1,
             "#f0f921"
            ]
           ],
           "sequentialminus": [
            [
             0,
             "#0d0887"
            ],
            [
             0.1111111111111111,
             "#46039f"
            ],
            [
             0.2222222222222222,
             "#7201a8"
            ],
            [
             0.3333333333333333,
             "#9c179e"
            ],
            [
             0.4444444444444444,
             "#bd3786"
            ],
            [
             0.5555555555555556,
             "#d8576b"
            ],
            [
             0.6666666666666666,
             "#ed7953"
            ],
            [
             0.7777777777777778,
             "#fb9f3a"
            ],
            [
             0.8888888888888888,
             "#fdca26"
            ],
            [
             1,
             "#f0f921"
            ]
           ]
          },
          "colorway": [
           "#636efa",
           "#EF553B",
           "#00cc96",
           "#ab63fa",
           "#FFA15A",
           "#19d3f3",
           "#FF6692",
           "#B6E880",
           "#FF97FF",
           "#FECB52"
          ],
          "font": {
           "color": "#2a3f5f"
          },
          "geo": {
           "bgcolor": "white",
           "lakecolor": "white",
           "landcolor": "#E5ECF6",
           "showlakes": true,
           "showland": true,
           "subunitcolor": "white"
          },
          "hoverlabel": {
           "align": "left"
          },
          "hovermode": "closest",
          "mapbox": {
           "style": "light"
          },
          "paper_bgcolor": "white",
          "plot_bgcolor": "#E5ECF6",
          "polar": {
           "angularaxis": {
            "gridcolor": "white",
            "linecolor": "white",
            "ticks": ""
           },
           "bgcolor": "#E5ECF6",
           "radialaxis": {
            "gridcolor": "white",
            "linecolor": "white",
            "ticks": ""
           }
          },
          "scene": {
           "xaxis": {
            "backgroundcolor": "#E5ECF6",
            "gridcolor": "white",
            "gridwidth": 2,
            "linecolor": "white",
            "showbackground": true,
            "ticks": "",
            "zerolinecolor": "white"
           },
           "yaxis": {
            "backgroundcolor": "#E5ECF6",
            "gridcolor": "white",
            "gridwidth": 2,
            "linecolor": "white",
            "showbackground": true,
            "ticks": "",
            "zerolinecolor": "white"
           },
           "zaxis": {
            "backgroundcolor": "#E5ECF6",
            "gridcolor": "white",
            "gridwidth": 2,
            "linecolor": "white",
            "showbackground": true,
            "ticks": "",
            "zerolinecolor": "white"
           }
          },
          "shapedefaults": {
           "line": {
            "color": "#2a3f5f"
           }
          },
          "ternary": {
           "aaxis": {
            "gridcolor": "white",
            "linecolor": "white",
            "ticks": ""
           },
           "baxis": {
            "gridcolor": "white",
            "linecolor": "white",
            "ticks": ""
           },
           "bgcolor": "#E5ECF6",
           "caxis": {
            "gridcolor": "white",
            "linecolor": "white",
            "ticks": ""
           }
          },
          "title": {
           "x": 0.05
          },
          "xaxis": {
           "automargin": true,
           "gridcolor": "white",
           "linecolor": "white",
           "ticks": "",
           "title": {
            "standoff": 15
           },
           "zerolinecolor": "white",
           "zerolinewidth": 2
          },
          "yaxis": {
           "automargin": true,
           "gridcolor": "white",
           "linecolor": "white",
           "ticks": "",
           "title": {
            "standoff": 15
           },
           "zerolinecolor": "white",
           "zerolinewidth": 2
          }
         }
        },
        "title": {
         "text": "Weekly Prices for ['26', '27', '28'] by Category"
        },
        "xaxis": {
         "anchor": "y",
         "domain": [
          0,
          1
         ],
         "title": {
          "text": "date"
         }
        },
        "yaxis": {
         "anchor": "x",
         "domain": [
          0,
          1
         ],
         "title": {
          "text": "wPreis"
         }
        }
       }
      }
     },
     "metadata": {},
     "output_type": "display_data"
    },
    {
     "data": {
      "application/vnd.plotly.v1+json": {
       "config": {
        "plotlyServerURL": "https://plot.ly"
       },
       "data": [
        {
         "hovertemplate": "full=A2 & A3 -  ungeschreddert<br>date=%{x}<br>wPreis=%{y}<extra></extra>",
         "legendgroup": "A2 & A3 -  ungeschreddert",
         "line": {
          "color": "#636efa",
          "dash": "solid"
         },
         "marker": {
          "symbol": "circle"
         },
         "mode": "lines",
         "name": "A2 & A3 -  ungeschreddert",
         "orientation": "v",
         "showlegend": true,
         "type": "scatter",
         "x": [
          "2020-09-14T00:00:00",
          "2020-09-21T00:00:00",
          "2020-09-28T00:00:00",
          "2020-10-05T00:00:00",
          "2020-10-12T00:00:00",
          "2020-10-19T00:00:00",
          "2020-10-26T00:00:00",
          "2020-11-02T00:00:00",
          "2020-11-09T00:00:00",
          "2020-11-16T00:00:00",
          "2020-11-23T00:00:00",
          "2020-11-30T00:00:00",
          "2020-12-07T00:00:00",
          "2020-12-14T00:00:00",
          "2020-12-21T00:00:00",
          "2020-12-28T00:00:00",
          "2021-01-04T00:00:00",
          "2021-01-04T00:00:00",
          "2021-01-11T00:00:00",
          "2021-01-18T00:00:00",
          "2021-01-25T00:00:00",
          "2021-02-01T00:00:00",
          "2021-02-08T00:00:00",
          "2021-02-15T00:00:00",
          "2021-02-22T00:00:00",
          "2021-03-01T00:00:00",
          "2021-03-08T00:00:00",
          "2021-03-15T00:00:00",
          "2021-03-29T00:00:00",
          "2021-04-05T00:00:00",
          "2021-04-12T00:00:00",
          "2021-04-19T00:00:00",
          "2021-04-26T00:00:00",
          "2021-05-03T00:00:00",
          "2021-05-10T00:00:00",
          "2021-05-17T00:00:00",
          "2021-05-24T00:00:00",
          "2021-05-31T00:00:00",
          "2021-06-07T00:00:00",
          "2021-06-14T00:00:00",
          "2021-06-21T00:00:00",
          "2021-06-28T00:00:00",
          "2021-07-05T00:00:00",
          "2021-07-12T00:00:00",
          "2021-07-19T00:00:00",
          "2021-07-26T00:00:00",
          "2021-08-02T00:00:00",
          "2021-08-09T00:00:00",
          "2021-08-16T00:00:00",
          "2021-08-23T00:00:00",
          "2021-08-30T00:00:00",
          "2021-09-06T00:00:00",
          "2021-09-13T00:00:00",
          "2021-09-20T00:00:00",
          "2021-09-27T00:00:00",
          "2021-10-04T00:00:00",
          "2021-10-11T00:00:00",
          "2021-10-18T00:00:00",
          "2021-10-25T00:00:00",
          "2021-11-01T00:00:00",
          "2021-11-08T00:00:00",
          "2021-11-15T00:00:00",
          "2021-11-22T00:00:00",
          "2021-11-29T00:00:00",
          "2021-12-06T00:00:00",
          "2021-12-13T00:00:00",
          "2021-12-20T00:00:00",
          "2021-12-27T00:00:00",
          "2022-01-03T00:00:00",
          "2022-01-10T00:00:00",
          "2022-01-17T00:00:00",
          "2022-01-31T00:00:00",
          "2022-02-07T00:00:00",
          "2022-02-14T00:00:00",
          "2022-02-21T00:00:00",
          "2022-02-28T00:00:00",
          "2022-03-07T00:00:00",
          "2022-03-14T00:00:00",
          "2022-03-21T00:00:00",
          "2022-03-28T00:00:00",
          "2022-04-04T00:00:00",
          "2022-04-11T00:00:00",
          "2022-04-18T00:00:00",
          "2022-04-25T00:00:00",
          "2022-05-02T00:00:00",
          "2022-05-09T00:00:00",
          "2022-05-16T00:00:00",
          "2022-05-23T00:00:00",
          "2022-05-30T00:00:00",
          "2022-06-06T00:00:00",
          "2022-06-13T00:00:00",
          "2022-06-20T00:00:00",
          "2022-06-27T00:00:00",
          "2022-07-04T00:00:00",
          "2022-07-11T00:00:00",
          "2022-07-18T00:00:00",
          "2022-07-25T00:00:00",
          "2022-08-01T00:00:00",
          "2022-08-08T00:00:00",
          "2022-08-15T00:00:00",
          "2022-08-22T00:00:00",
          "2022-08-29T00:00:00",
          "2022-09-05T00:00:00",
          "2022-09-12T00:00:00",
          "2022-09-19T00:00:00",
          "2022-09-26T00:00:00",
          "2022-10-03T00:00:00",
          "2022-10-10T00:00:00",
          "2022-10-17T00:00:00",
          "2022-10-24T00:00:00",
          "2022-10-31T00:00:00",
          "2022-11-07T00:00:00",
          "2022-11-14T00:00:00",
          "2022-11-21T00:00:00",
          "2022-11-28T00:00:00",
          "2022-12-05T00:00:00",
          "2022-12-12T00:00:00",
          "2022-12-19T00:00:00",
          "2022-12-26T00:00:00",
          "2023-01-02T00:00:00",
          "2023-01-09T00:00:00",
          "2023-01-16T00:00:00",
          "2023-01-23T00:00:00",
          "2023-01-30T00:00:00",
          "2023-02-06T00:00:00",
          "2023-02-13T00:00:00",
          "2023-02-20T00:00:00",
          "2023-02-27T00:00:00",
          "2023-03-06T00:00:00",
          "2023-03-13T00:00:00",
          "2023-03-20T00:00:00",
          "2023-03-27T00:00:00",
          "2023-04-10T00:00:00",
          "2023-05-08T00:00:00",
          "2023-05-15T00:00:00",
          "2023-05-22T00:00:00",
          "2023-08-28T00:00:00",
          "2023-09-04T00:00:00",
          "2023-09-11T00:00:00",
          "2023-09-18T00:00:00",
          "2023-09-25T00:00:00",
          "2023-10-02T00:00:00",
          "2023-10-09T00:00:00",
          "2023-10-16T00:00:00",
          "2023-10-23T00:00:00",
          "2023-10-30T00:00:00",
          "2023-11-06T00:00:00",
          "2023-11-13T00:00:00",
          "2023-11-20T00:00:00",
          "2023-11-27T00:00:00",
          "2023-12-04T00:00:00",
          "2023-12-11T00:00:00",
          "2024-01-01T00:00:00",
          "2024-01-08T00:00:00",
          "2024-01-15T00:00:00",
          "2024-01-22T00:00:00",
          "2024-01-29T00:00:00",
          "2024-02-05T00:00:00",
          "2024-02-12T00:00:00",
          "2024-02-19T00:00:00",
          "2024-02-26T00:00:00",
          "2024-03-04T00:00:00",
          "2024-03-11T00:00:00",
          "2024-03-18T00:00:00",
          "2024-04-01T00:00:00",
          "2024-04-08T00:00:00",
          "2024-04-15T00:00:00",
          "2024-04-22T00:00:00"
         ],
         "xaxis": "x",
         "y": [
          -52.86422139695783,
          -54.98441790225151,
          -53.60010150878974,
          -55.37433539301622,
          -54.98282188578727,
          -54.18000933597853,
          -54.28838431225372,
          -54.67150659583359,
          -54.91403444485159,
          -53.10168271052831,
          -53.48245873732514,
          -54.88039184705325,
          -55.74866258707617,
          -55.93835467766443,
          -51.61970074812967,
          -53.40803382663848,
          -52.72832326283988,
          -55.2282958199357,
          -54.8552180571762,
          -53.67293233082707,
          -52.33810068649887,
          -57.26669112252385,
          -57.11746609743847,
          -51.45711319538914,
          -56.96775064093914,
          -53.69472182596293,
          -53.95743526688847,
          -55.5367405320012,
          -57.06952511103519,
          -53.77929626138862,
          -53.03108299705529,
          -52.48504333240145,
          -56.0768699018388,
          -58.18456790123457,
          -54.12482566248256,
          -54.30765179444737,
          -45.70682708758761,
          -58.46149188665537,
          -55.70451429354904,
          -53.32364906694968,
          -53.88992880569554,
          -52.12939521800281,
          -57.23176661264181,
          -54.66414706554008,
          -54.1736189984512,
          -55.39614216824434,
          -56.19043224119365,
          -55.30941475826972,
          -56.34265667962453,
          -50.63095079343912,
          -40.68260527351437,
          -50.61331289686883,
          -49.74219109923523,
          -51.17145987400713,
          -52.89906124681006,
          -49.59111541037278,
          -52.16825885978428,
          -47.85511617515638,
          -51.67645818692901,
          -39.88720278368451,
          -47.03614054657,
          -38.25217837006663,
          -23.38100848256362,
          -28.78516787080323,
          -34.17473541995047,
          -16.1475228342098,
          -12.86112359550562,
          -15.20309882747069,
          -19.02492899968444,
          -17.40668202764977,
          -16.97486225895317,
          -13.28631260024951,
          -3.510023164647184,
          0.3487173983041747,
          -2.613408600786503,
          1.669245175474309,
          -7.429382809541841,
          4.304723299259781,
          -2.962669122334773,
          -7.217717717717719,
          -0.9214035087719303,
          1.934622823984526,
          5.288445552784706,
          11.0712190802944,
          0.5694937469280763,
          5.693456614509245,
          2.339154202414395,
          5.612626041209996,
          5.170560615489054,
          -1.768154311649017,
          4.720923100513684,
          1.036195442975104,
          4.604560838928036,
          7.924339908952957,
          8.106344051594018,
          7.252463632097609,
          4.506864265609744,
          9.033947384634342,
          3.860338835794961,
          7.785052049446977,
          19.08619086004836,
          43.02330953866056,
          15.6494501178319,
          48.11132547025034,
          26.17768978531213,
          35.89266055045871,
          41.19401515897234,
          50.55665930831493,
          45.08952017187873,
          34.14935405027933,
          47.96016331935554,
          40.31332607681541,
          40.80066376270483,
          39.87544708075159,
          42.50616225484943,
          48.43084850235962,
          26.17868031358885,
          36.16268382352941,
          42.5,
          24.01750423489554,
          33.28060229212387,
          30.12403100775193,
          32.51523710420693,
          25.52316700610998,
          27.19479721425645,
          30.2233956133225,
          30.10327530244911,
          26.32528708694633,
          27.72727272727273,
          14.93029581774907,
          23.46662854341966,
          11.40033783783784,
          15.41584645669291,
          3.553863508178229,
          16.9917864476386,
          6.137323371771966,
          -8.23602204972438,
          -12.8744019138756,
          -9.077410984575463,
          -8.5226019845645,
          -10,
          -8.910908150956402,
          -9.299289373657246,
          -14.26259131103422,
          -9.262672811059907,
          -9.162735849056606,
          -8.32489047097481,
          -5.944172070219832,
          -4.974917834284725,
          -7.924923248674295,
          -8.68199233716475,
          -4.919780666125101,
          -9.80698245614035,
          4.538720895071062,
          6.941380702462657,
          3.520345188284519,
          7.745652173913045,
          6.045621665319321,
          7.861389419143713,
          4.70462711549191,
          7.806868099252049,
          5.93282961578886,
          8.925697531448028,
          11.87131826320501,
          8.094817432273263,
          9.849186342387124,
          8.361588835212023,
          11.79185185185185
         ],
         "yaxis": "y"
        },
        {
         "hovertemplate": "full=A3 -  ungeschreddert<br>date=%{x}<br>wPreis=%{y}<extra></extra>",
         "legendgroup": "A3 -  ungeschreddert",
         "line": {
          "color": "#EF553B",
          "dash": "solid"
         },
         "marker": {
          "symbol": "circle"
         },
         "mode": "lines",
         "name": "A3 -  ungeschreddert",
         "orientation": "v",
         "showlegend": true,
         "type": "scatter",
         "x": [
          "2020-09-14T00:00:00",
          "2020-09-21T00:00:00",
          "2020-09-28T00:00:00",
          "2020-10-05T00:00:00",
          "2020-10-12T00:00:00",
          "2020-10-19T00:00:00",
          "2020-10-26T00:00:00",
          "2020-11-02T00:00:00",
          "2020-11-09T00:00:00",
          "2020-11-16T00:00:00",
          "2020-11-23T00:00:00",
          "2020-11-30T00:00:00",
          "2020-12-07T00:00:00",
          "2020-12-14T00:00:00",
          "2020-12-21T00:00:00",
          "2020-12-28T00:00:00",
          "2021-01-04T00:00:00",
          "2021-01-04T00:00:00",
          "2021-01-11T00:00:00",
          "2021-01-18T00:00:00",
          "2021-01-25T00:00:00",
          "2021-02-01T00:00:00",
          "2021-02-08T00:00:00",
          "2021-02-15T00:00:00",
          "2021-02-22T00:00:00",
          "2021-03-01T00:00:00",
          "2021-03-08T00:00:00",
          "2021-03-15T00:00:00",
          "2021-03-29T00:00:00",
          "2021-04-05T00:00:00",
          "2021-04-12T00:00:00",
          "2021-04-19T00:00:00",
          "2021-04-26T00:00:00",
          "2021-05-03T00:00:00",
          "2021-05-10T00:00:00",
          "2021-05-17T00:00:00",
          "2021-05-24T00:00:00",
          "2021-05-31T00:00:00",
          "2021-06-07T00:00:00",
          "2021-06-14T00:00:00",
          "2021-06-21T00:00:00",
          "2021-06-28T00:00:00",
          "2021-07-05T00:00:00",
          "2021-07-12T00:00:00",
          "2021-07-19T00:00:00",
          "2021-07-26T00:00:00",
          "2021-08-02T00:00:00",
          "2021-08-09T00:00:00",
          "2021-08-16T00:00:00",
          "2021-08-23T00:00:00",
          "2021-08-30T00:00:00",
          "2021-09-06T00:00:00",
          "2021-09-13T00:00:00",
          "2021-09-20T00:00:00",
          "2021-09-27T00:00:00",
          "2021-10-04T00:00:00",
          "2021-10-11T00:00:00",
          "2021-10-18T00:00:00",
          "2021-10-25T00:00:00",
          "2021-11-01T00:00:00",
          "2021-11-08T00:00:00",
          "2021-11-15T00:00:00",
          "2021-11-22T00:00:00",
          "2021-11-29T00:00:00",
          "2021-12-06T00:00:00",
          "2021-12-13T00:00:00",
          "2021-12-20T00:00:00",
          "2021-12-27T00:00:00",
          "2022-01-03T00:00:00",
          "2022-01-10T00:00:00",
          "2022-01-17T00:00:00",
          "2022-01-31T00:00:00",
          "2022-02-07T00:00:00",
          "2022-02-14T00:00:00",
          "2022-02-21T00:00:00",
          "2022-02-28T00:00:00",
          "2022-03-07T00:00:00",
          "2022-03-14T00:00:00",
          "2022-03-21T00:00:00",
          "2022-03-28T00:00:00",
          "2022-04-04T00:00:00",
          "2022-04-11T00:00:00",
          "2022-04-25T00:00:00",
          "2022-05-02T00:00:00",
          "2022-05-09T00:00:00",
          "2022-05-16T00:00:00",
          "2022-05-23T00:00:00",
          "2022-05-30T00:00:00",
          "2022-06-06T00:00:00",
          "2022-06-13T00:00:00",
          "2022-06-20T00:00:00",
          "2022-06-27T00:00:00",
          "2022-07-04T00:00:00",
          "2022-07-11T00:00:00",
          "2022-07-18T00:00:00",
          "2022-07-25T00:00:00",
          "2022-08-01T00:00:00",
          "2022-08-08T00:00:00",
          "2022-08-15T00:00:00",
          "2022-08-22T00:00:00",
          "2022-08-29T00:00:00",
          "2022-09-05T00:00:00",
          "2022-09-12T00:00:00",
          "2022-09-19T00:00:00",
          "2022-09-26T00:00:00",
          "2022-10-03T00:00:00",
          "2022-10-10T00:00:00",
          "2022-10-17T00:00:00",
          "2022-10-24T00:00:00",
          "2022-10-31T00:00:00",
          "2022-11-07T00:00:00",
          "2022-11-14T00:00:00",
          "2022-11-21T00:00:00",
          "2022-11-28T00:00:00",
          "2022-12-05T00:00:00",
          "2022-12-12T00:00:00",
          "2022-12-19T00:00:00",
          "2022-12-26T00:00:00",
          "2023-01-02T00:00:00",
          "2023-01-09T00:00:00",
          "2023-01-16T00:00:00",
          "2023-01-23T00:00:00",
          "2023-01-30T00:00:00",
          "2023-02-06T00:00:00",
          "2023-02-13T00:00:00",
          "2023-02-20T00:00:00",
          "2023-03-20T00:00:00",
          "2023-05-22T00:00:00",
          "2023-08-28T00:00:00",
          "2023-09-04T00:00:00",
          "2023-09-11T00:00:00",
          "2023-09-18T00:00:00",
          "2023-09-25T00:00:00",
          "2023-10-02T00:00:00",
          "2023-10-09T00:00:00",
          "2023-10-16T00:00:00",
          "2023-10-23T00:00:00",
          "2023-10-30T00:00:00",
          "2023-11-06T00:00:00",
          "2023-11-13T00:00:00",
          "2023-11-20T00:00:00",
          "2023-11-27T00:00:00",
          "2023-12-04T00:00:00",
          "2024-01-01T00:00:00",
          "2024-01-08T00:00:00",
          "2024-01-22T00:00:00",
          "2024-01-29T00:00:00",
          "2024-02-05T00:00:00",
          "2024-02-12T00:00:00",
          "2024-02-19T00:00:00",
          "2024-02-26T00:00:00",
          "2024-03-04T00:00:00",
          "2024-03-11T00:00:00",
          "2024-03-18T00:00:00",
          "2024-04-01T00:00:00",
          "2024-04-08T00:00:00",
          "2024-04-15T00:00:00",
          "2024-04-22T00:00:00"
         ],
         "xaxis": "x",
         "y": [
          -52.86422139695783,
          -54.98441790225151,
          -53.60010150878974,
          -55.37433539301622,
          -54.98282188578727,
          -54.18000933597853,
          -54.28838431225372,
          -54.67150659583359,
          -54.91403444485159,
          -53.10168271052831,
          -53.48245873732514,
          -54.88039184705325,
          -55.74866258707617,
          -55.93835467766443,
          -51.61970074812967,
          -53.40803382663848,
          -55.2282958199357,
          -52.3017256405787,
          -54.8552180571762,
          -53.67293233082707,
          -52.33810068649887,
          -57.26669112252385,
          -57.11746609743847,
          -51.45711319538914,
          -56.96775064093914,
          -53.69472182596293,
          -53.95743526688847,
          -55.5367405320012,
          -57.06952511103519,
          -53.77929626138862,
          -53.03108299705529,
          -52.48504333240145,
          -56.0768699018388,
          -58.18456790123457,
          -54.12482566248256,
          -54.30765179444737,
          -45.70682708758761,
          -58.46149188665537,
          -55.70451429354904,
          -53.32364906694968,
          -53.88992880569554,
          -52.12939521800281,
          -57.23176661264181,
          -54.66414706554008,
          -54.1736189984512,
          -55.39614216824434,
          -56.19043224119365,
          -55.30941475826972,
          -56.34265667962453,
          -50.63095079343912,
          -40.68260527351437,
          -50.61331289686883,
          -49.74219109923523,
          -51.17145987400713,
          -52.89906124681006,
          -49.59111541037278,
          -52.16825885978428,
          -47.85511617515638,
          -54.49422013737645,
          -40.46933797909408,
          -48.91550787975103,
          -38.25217837006663,
          -21.70580021482277,
          -30.94836533471717,
          -34.17473541995047,
          -22.48894348894349,
          -12.86112359550562,
          -15.20309882747069,
          -19.02492899968444,
          -18.77696012844528,
          -14.69981668194317,
          -0.6668453018935335,
          1.040906017579446,
          5.346196251378169,
          0.7801191362620998,
          4.440429376129238,
          -4.279016841147019,
          4.304723299259781,
          1.663935604427195,
          -4.024981357196123,
          4.118156267566047,
          4.283272915587778,
          12.36875784941092,
          0.5720611637722276,
          5.693456614509245,
          2.170048585310088,
          5.671371175440403,
          5.717774555445319,
          -1.768154311649017,
          4.720923100513684,
          1.036195442975104,
          4.604560838928036,
          9.034211980112069,
          9.966787907697814,
          11.33800880088009,
          6.031968265079922,
          9.941125851559699,
          4.440347721822542,
          10.69496681415929,
          20.29193666911617,
          44.10775913223041,
          18.24146147736299,
          48.11132547025034,
          29.02395897798603,
          35.89266055045871,
          41.19401515897234,
          54.65043745949447,
          48.93774834437087,
          38.89404369949118,
          62.49999999999999,
          48.57922369042002,
          45.89705664842479,
          48.81904271336873,
          42.50616225484943,
          54.06765957446809,
          26.2394555214724,
          44.57264957264957,
          42.5,
          24.43446440452428,
          38.58831493438867,
          36.00541376643465,
          38.66871336868545,
          24.2802824551874,
          28.3870582617001,
          30.26673132880698,
          33.70860927152318,
          20.77173913043478,
          6.460984769455456,
          -8.23602204972438,
          -12.8744019138756,
          -9.077410984575463,
          -8.5226019845645,
          -10,
          -8.910908150956402,
          -9.299289373657246,
          -14.26259131103422,
          -9.262672811059907,
          -9.162735849056606,
          -9.047216241156569,
          -7.042387178405734,
          -10.12532411408816,
          -7.924923248674295,
          -8.68199233716475,
          -9.80698245614035,
          2.546244325216674,
          3.520345188284519,
          7.745652173913045,
          5.456340819022457,
          7.804610017443309,
          4.15,
          7.806868099252049,
          7.899333544906378,
          8.925697531448028,
          11.87131826320501,
          8.094817432273263,
          9.849186342387124,
          8.361588835212023,
          11.70333333333333
         ],
         "yaxis": "y"
        },
        {
         "hovertemplate": "full=A2 & A3 -  geschreddert<br>date=%{x}<br>wPreis=%{y}<extra></extra>",
         "legendgroup": "A2 & A3 -  geschreddert",
         "line": {
          "color": "#00cc96",
          "dash": "solid"
         },
         "marker": {
          "symbol": "circle"
         },
         "mode": "lines",
         "name": "A2 & A3 -  geschreddert",
         "orientation": "v",
         "showlegend": true,
         "type": "scatter",
         "x": [
          "2020-09-14T00:00:00",
          "2020-09-21T00:00:00",
          "2020-09-28T00:00:00",
          "2020-10-05T00:00:00",
          "2020-10-12T00:00:00",
          "2020-10-19T00:00:00",
          "2020-10-26T00:00:00",
          "2020-11-02T00:00:00",
          "2020-11-09T00:00:00",
          "2020-11-16T00:00:00",
          "2020-11-23T00:00:00",
          "2020-11-30T00:00:00",
          "2020-12-07T00:00:00",
          "2020-12-14T00:00:00",
          "2020-12-21T00:00:00",
          "2021-01-04T00:00:00",
          "2021-01-04T00:00:00",
          "2021-01-11T00:00:00",
          "2021-01-18T00:00:00",
          "2021-01-25T00:00:00",
          "2021-02-01T00:00:00",
          "2021-02-08T00:00:00",
          "2021-02-15T00:00:00",
          "2021-02-22T00:00:00",
          "2021-03-01T00:00:00",
          "2021-03-08T00:00:00",
          "2021-03-15T00:00:00",
          "2021-03-22T00:00:00",
          "2021-03-29T00:00:00",
          "2021-04-05T00:00:00",
          "2021-04-12T00:00:00",
          "2021-04-19T00:00:00",
          "2021-04-26T00:00:00",
          "2021-05-03T00:00:00",
          "2021-05-10T00:00:00",
          "2021-05-17T00:00:00",
          "2021-05-24T00:00:00",
          "2021-05-31T00:00:00",
          "2021-06-07T00:00:00",
          "2021-06-14T00:00:00",
          "2021-06-21T00:00:00",
          "2021-06-28T00:00:00",
          "2021-07-05T00:00:00",
          "2021-07-12T00:00:00",
          "2021-07-19T00:00:00",
          "2021-07-26T00:00:00",
          "2021-08-02T00:00:00",
          "2021-08-09T00:00:00",
          "2021-08-16T00:00:00",
          "2021-08-23T00:00:00",
          "2021-08-30T00:00:00",
          "2021-09-06T00:00:00",
          "2021-09-13T00:00:00",
          "2021-09-20T00:00:00",
          "2021-09-27T00:00:00",
          "2021-10-04T00:00:00",
          "2021-10-11T00:00:00",
          "2021-10-18T00:00:00",
          "2021-10-25T00:00:00",
          "2021-11-01T00:00:00",
          "2021-11-08T00:00:00",
          "2021-11-15T00:00:00",
          "2021-11-22T00:00:00",
          "2021-11-29T00:00:00",
          "2021-12-06T00:00:00",
          "2021-12-13T00:00:00",
          "2021-12-20T00:00:00",
          "2021-12-27T00:00:00",
          "2022-01-03T00:00:00",
          "2022-01-10T00:00:00",
          "2022-01-17T00:00:00",
          "2022-01-24T00:00:00",
          "2022-01-31T00:00:00",
          "2022-02-07T00:00:00",
          "2022-02-14T00:00:00",
          "2022-02-21T00:00:00",
          "2022-02-28T00:00:00",
          "2022-03-07T00:00:00",
          "2022-03-14T00:00:00",
          "2022-03-21T00:00:00",
          "2022-03-28T00:00:00",
          "2022-04-04T00:00:00",
          "2022-04-11T00:00:00",
          "2022-04-18T00:00:00",
          "2022-04-25T00:00:00",
          "2022-05-02T00:00:00",
          "2022-05-09T00:00:00",
          "2022-05-16T00:00:00",
          "2022-05-23T00:00:00",
          "2022-05-30T00:00:00",
          "2022-06-06T00:00:00",
          "2022-06-13T00:00:00",
          "2022-06-20T00:00:00",
          "2022-06-27T00:00:00",
          "2022-07-04T00:00:00",
          "2022-07-11T00:00:00",
          "2022-07-18T00:00:00",
          "2022-07-25T00:00:00",
          "2022-08-01T00:00:00",
          "2022-08-08T00:00:00",
          "2022-08-15T00:00:00",
          "2022-08-22T00:00:00",
          "2022-08-29T00:00:00",
          "2022-09-05T00:00:00",
          "2022-09-12T00:00:00",
          "2022-09-19T00:00:00",
          "2022-10-03T00:00:00",
          "2022-10-10T00:00:00",
          "2022-10-17T00:00:00",
          "2022-10-24T00:00:00",
          "2022-10-31T00:00:00",
          "2022-11-07T00:00:00",
          "2022-11-14T00:00:00",
          "2022-11-21T00:00:00",
          "2022-11-28T00:00:00",
          "2022-12-05T00:00:00",
          "2022-12-12T00:00:00",
          "2022-12-19T00:00:00",
          "2022-12-26T00:00:00",
          "2023-01-02T00:00:00",
          "2023-01-09T00:00:00",
          "2023-01-16T00:00:00",
          "2023-01-23T00:00:00",
          "2023-01-30T00:00:00",
          "2023-02-06T00:00:00",
          "2023-02-13T00:00:00",
          "2023-02-20T00:00:00",
          "2023-02-27T00:00:00",
          "2023-03-06T00:00:00",
          "2023-03-13T00:00:00",
          "2023-03-20T00:00:00",
          "2023-04-03T00:00:00",
          "2023-04-10T00:00:00",
          "2023-04-17T00:00:00",
          "2023-04-24T00:00:00",
          "2023-05-01T00:00:00",
          "2023-05-08T00:00:00",
          "2023-05-15T00:00:00",
          "2023-05-22T00:00:00",
          "2023-05-29T00:00:00",
          "2023-06-05T00:00:00",
          "2023-06-12T00:00:00",
          "2023-06-19T00:00:00",
          "2023-06-26T00:00:00",
          "2023-07-03T00:00:00",
          "2023-08-07T00:00:00",
          "2023-08-14T00:00:00",
          "2023-08-21T00:00:00",
          "2023-08-28T00:00:00",
          "2023-09-04T00:00:00",
          "2023-09-11T00:00:00",
          "2023-09-18T00:00:00",
          "2023-09-25T00:00:00",
          "2023-10-02T00:00:00",
          "2023-10-09T00:00:00",
          "2023-10-16T00:00:00",
          "2023-10-23T00:00:00",
          "2023-10-30T00:00:00",
          "2023-11-06T00:00:00",
          "2023-11-13T00:00:00",
          "2023-11-20T00:00:00",
          "2023-11-27T00:00:00",
          "2023-12-04T00:00:00",
          "2023-12-11T00:00:00",
          "2023-12-18T00:00:00",
          "2023-12-25T00:00:00",
          "2024-01-01T00:00:00",
          "2024-01-08T00:00:00",
          "2024-01-15T00:00:00",
          "2024-01-22T00:00:00",
          "2024-01-29T00:00:00",
          "2024-02-05T00:00:00",
          "2024-02-12T00:00:00",
          "2024-02-19T00:00:00",
          "2024-02-26T00:00:00",
          "2024-03-04T00:00:00",
          "2024-03-11T00:00:00",
          "2024-03-18T00:00:00",
          "2024-03-25T00:00:00",
          "2024-04-08T00:00:00",
          "2024-04-15T00:00:00",
          "2024-04-22T00:00:00"
         ],
         "xaxis": "x",
         "y": [
          -29.24458448207955,
          -28.61828161383832,
          -25.07740020887995,
          -25.66364532559285,
          -24.00495830048546,
          -28.96958297432363,
          -30.0592694831173,
          -30.69442750207929,
          -32.04592181286112,
          -28.38711751468568,
          -31.1402232327408,
          -30.80015773613334,
          -31.24413784936049,
          -29.72857142857143,
          -29.52070880719386,
          -30.85585714285714,
          -28.4064229736395,
          -28.51757135394405,
          -27.52530674846626,
          -28.1511647583056,
          -27.90471243351064,
          -25.92028206047568,
          -27.56440207427584,
          -27.85308164086065,
          -27.75578609000585,
          -30.48832806258323,
          -26.98755887318937,
          -29.07768187422935,
          -28.06867375049193,
          -28.11536599144541,
          -28.01397179229836,
          -22.37852128321336,
          -24.06105359317905,
          -27.7009578926362,
          -25.49377801565531,
          -32.64210931485758,
          -28.58525288958111,
          -27.23669240911659,
          -27.72837906504065,
          -26.65749441658591,
          -24.63671752123309,
          -26.31673718142441,
          -29.39812017455522,
          -25.20045950603101,
          -26.66282530234913,
          -24.02664129400571,
          -21.13781362007169,
          -24.22493047174266,
          -20.12289961223611,
          -20.22454839366056,
          -16.4683029492904,
          -14.25868277384133,
          -22.09155816883662,
          -18.01071069393229,
          -16.1967396564239,
          -16.73185211713822,
          -13.56241121495328,
          -12.74550408719346,
          -12.16951967296883,
          -12.14696356275304,
          -11.97082575789607,
          -4.023158449949726,
          -2.30390969711044,
          8.573362592842676,
          12.5698423041835,
          9.993614914467168,
          5.462286053668809,
          13.99992895793125,
          14.31913317280978,
          18.51458986123545,
          21.62685485409118,
          20.03151649192948,
          31.50331085034957,
          37.15872492582356,
          35.81438123931586,
          26.19985442844009,
          28.55715427657874,
          31.72971888445505,
          26.79843986245098,
          34.50996380825764,
          37.8739068160755,
          26.8717676833355,
          23.43358593735665,
          23.58789305092503,
          26.02281208619236,
          27.86052177130874,
          24.97825638557531,
          26.45357364472274,
          27.20070480441677,
          23.1614231732688,
          27.71334276284772,
          27.38784264737078,
          27.01651791123137,
          28.55116768804865,
          35.01679566955026,
          36.18749845522628,
          27.1342768791627,
          39.77300645611587,
          41.35425563030127,
          31.38599552816709,
          34.26741099312929,
          33.22777249898195,
          46.10173103307354,
          35.65876189163104,
          41.69758998392415,
          52.1631620607771,
          49.53511497824736,
          52.46052901373795,
          54.35086946951354,
          60.38458308842053,
          65.12963244393308,
          74.35951295927084,
          61.32002330375548,
          66.5685956372814,
          59.76371645975171,
          68.13159528243327,
          70.41265176334555,
          72.442488853953,
          77.32870846180197,
          48.26064449333506,
          54.00162999185005,
          70.40284172090809,
          46.96367910221413,
          25.14946727549468,
          48.55368578238522,
          55.0238894344213,
          63.67106796116504,
          52.32777980092255,
          39.86746448943072,
          38.07414987405541,
          41.37816077494024,
          35.1170264370604,
          37.74858330185116,
          36.31281455671699,
          22.32818956067122,
          33.74124124124124,
          38.12304866850321,
          33.51512764979983,
          32.36650824713448,
          28.4522631152704,
          24.96317472623316,
          18.49355269008448,
          21.5057204777985,
          20.73447057809943,
          11.61522978866152,
          17.0443587270974,
          4.209432339449542,
          5.732005590496157,
          6.91403294385483,
          13.87599188042075,
          7.317062315860678,
          14.03424163447666,
          5.352542372881357,
          19.77309048826188,
          9.692283163265307,
          18.17436616284739,
          15.50113961778973,
          12.27911175302401,
          11.24114612897653,
          7.972739744213833,
          6.89394328677097,
          5.239052013993821,
          5.036083197946126,
          1.46139097628104,
          6.984767625784208,
          14.42873173277662,
          16.81444082840237,
          16.91692065270677,
          16.68862180640518,
          10.85355812028898,
          19.43038690022848,
          20.93978959136006,
          23.97780474549855,
          21.96786225857447,
          16.78142535197002,
          31.49525795128178,
          25.6474001612076,
          13.61247500555432,
          25.11470167961895,
          16.32275514449605,
          21.60024791243024,
          38.32533560864618
         ],
         "yaxis": "y"
        },
        {
         "hovertemplate": "full=A1 & A2 -  geschreddert<br>date=%{x}<br>wPreis=%{y}<extra></extra>",
         "legendgroup": "A1 & A2 -  geschreddert",
         "line": {
          "color": "#ab63fa",
          "dash": "solid"
         },
         "marker": {
          "symbol": "circle"
         },
         "mode": "lines",
         "name": "A1 & A2 -  geschreddert",
         "orientation": "v",
         "showlegend": true,
         "type": "scatter",
         "x": [
          "2020-09-14T00:00:00",
          "2020-10-05T00:00:00",
          "2020-10-12T00:00:00",
          "2020-10-26T00:00:00",
          "2020-11-02T00:00:00",
          "2020-11-16T00:00:00",
          "2020-11-23T00:00:00",
          "2021-01-04T00:00:00",
          "2021-02-15T00:00:00",
          "2021-03-01T00:00:00",
          "2021-03-08T00:00:00",
          "2021-03-15T00:00:00",
          "2021-03-29T00:00:00",
          "2021-04-05T00:00:00",
          "2021-04-12T00:00:00",
          "2021-04-19T00:00:00",
          "2021-04-26T00:00:00",
          "2021-06-21T00:00:00",
          "2021-06-28T00:00:00",
          "2021-08-02T00:00:00",
          "2021-08-16T00:00:00",
          "2021-08-23T00:00:00",
          "2021-09-13T00:00:00",
          "2021-09-20T00:00:00",
          "2021-09-27T00:00:00",
          "2021-10-04T00:00:00",
          "2021-10-11T00:00:00",
          "2021-10-18T00:00:00",
          "2021-11-01T00:00:00",
          "2021-11-08T00:00:00",
          "2021-11-15T00:00:00",
          "2021-11-22T00:00:00",
          "2021-11-29T00:00:00",
          "2021-12-06T00:00:00",
          "2021-12-13T00:00:00",
          "2021-12-20T00:00:00",
          "2021-12-27T00:00:00",
          "2022-01-03T00:00:00",
          "2022-01-10T00:00:00",
          "2022-01-17T00:00:00",
          "2022-01-24T00:00:00",
          "2022-01-31T00:00:00",
          "2022-02-07T00:00:00",
          "2022-02-14T00:00:00",
          "2022-02-21T00:00:00",
          "2022-02-28T00:00:00",
          "2022-03-07T00:00:00",
          "2022-03-14T00:00:00",
          "2022-03-21T00:00:00",
          "2022-03-28T00:00:00",
          "2022-04-04T00:00:00",
          "2022-04-11T00:00:00",
          "2022-04-18T00:00:00",
          "2022-04-25T00:00:00",
          "2022-05-02T00:00:00",
          "2022-05-09T00:00:00",
          "2022-05-16T00:00:00",
          "2022-05-30T00:00:00",
          "2022-06-06T00:00:00",
          "2022-06-13T00:00:00",
          "2022-06-20T00:00:00",
          "2022-07-11T00:00:00",
          "2022-07-18T00:00:00",
          "2022-07-25T00:00:00",
          "2022-08-08T00:00:00",
          "2022-08-15T00:00:00",
          "2022-08-22T00:00:00",
          "2022-08-29T00:00:00",
          "2022-09-05T00:00:00",
          "2022-09-12T00:00:00",
          "2022-09-19T00:00:00",
          "2022-09-26T00:00:00",
          "2022-10-03T00:00:00",
          "2022-10-10T00:00:00",
          "2022-10-17T00:00:00",
          "2022-10-24T00:00:00",
          "2022-10-31T00:00:00",
          "2022-11-07T00:00:00",
          "2022-11-14T00:00:00",
          "2022-11-21T00:00:00",
          "2022-11-28T00:00:00",
          "2022-12-05T00:00:00",
          "2022-12-12T00:00:00",
          "2022-12-19T00:00:00",
          "2022-12-26T00:00:00",
          "2023-01-02T00:00:00",
          "2023-01-09T00:00:00",
          "2023-01-16T00:00:00",
          "2023-01-23T00:00:00",
          "2023-01-30T00:00:00",
          "2023-02-06T00:00:00",
          "2023-02-13T00:00:00",
          "2023-02-20T00:00:00",
          "2023-02-27T00:00:00",
          "2023-03-06T00:00:00",
          "2023-03-13T00:00:00",
          "2023-03-20T00:00:00",
          "2023-04-17T00:00:00",
          "2023-04-24T00:00:00",
          "2023-05-01T00:00:00",
          "2023-05-08T00:00:00",
          "2023-05-15T00:00:00",
          "2023-05-22T00:00:00",
          "2023-05-29T00:00:00",
          "2023-06-05T00:00:00",
          "2023-06-12T00:00:00",
          "2023-06-19T00:00:00",
          "2023-06-26T00:00:00",
          "2023-07-03T00:00:00",
          "2023-07-10T00:00:00",
          "2023-07-17T00:00:00",
          "2023-07-24T00:00:00",
          "2023-08-07T00:00:00",
          "2023-08-14T00:00:00",
          "2023-08-21T00:00:00",
          "2023-08-28T00:00:00",
          "2023-09-04T00:00:00",
          "2023-09-11T00:00:00",
          "2023-09-18T00:00:00",
          "2023-10-02T00:00:00",
          "2023-10-16T00:00:00",
          "2023-10-23T00:00:00",
          "2023-11-06T00:00:00",
          "2023-11-13T00:00:00",
          "2023-11-20T00:00:00",
          "2023-11-27T00:00:00",
          "2023-12-04T00:00:00",
          "2023-12-11T00:00:00",
          "2023-12-18T00:00:00",
          "2023-12-25T00:00:00",
          "2024-01-01T00:00:00",
          "2024-01-08T00:00:00",
          "2024-01-15T00:00:00",
          "2024-01-22T00:00:00",
          "2024-01-29T00:00:00",
          "2024-02-05T00:00:00",
          "2024-02-12T00:00:00",
          "2024-02-19T00:00:00",
          "2024-02-26T00:00:00",
          "2024-03-04T00:00:00",
          "2024-03-11T00:00:00",
          "2024-03-18T00:00:00",
          "2024-03-25T00:00:00",
          "2024-04-08T00:00:00",
          "2024-04-15T00:00:00",
          "2024-04-22T00:00:00"
         ],
         "xaxis": "x",
         "y": [
          -25.3737308622079,
          -10.64355012576356,
          -15.83462021906985,
          -10.4015125472671,
          -11.18135095447871,
          -10.86755899964776,
          -10.55794150314698,
          -5.664779161947904,
          -27.0284316010254,
          -6.467396421845574,
          -24.77084314649081,
          -24.76400414937759,
          -21.12458193979933,
          -27.42823373676249,
          -33.02621159328476,
          -24.5,
          -25.49651425056387,
          -24.5,
          -24.5,
          -21.51583066524369,
          -8.48681228106326,
          -11.47975850015888,
          -12.83838720426524,
          -12.39241379310345,
          -12.06056105610561,
          -8.856890459363958,
          3.298969072164947,
          -3.228586561743341,
          -7.900719424460435,
          -8.649451715599575,
          -12.18524360322467,
          9.85938526869218,
          13.19171738234367,
          15.9689980793854,
          14.85401899802305,
          9.923515270234173,
          8.872150224808252,
          17.85670744856736,
          13.9951114349912,
          17.04336734693877,
          17.13589765678842,
          34.63910414465187,
          37.35358763018338,
          29.65336699935685,
          4.18481694852258,
          25.30846712940242,
          33.83512479975195,
          26.87943463514117,
          37.33887803686974,
          38.16382463465553,
          28.00230969824909,
          21.68028809932796,
          20.19665405722201,
          24.09138896294321,
          28.29302190733325,
          30.82048493378543,
          25.56869141939827,
          20.34911514594346,
          30.94612095296274,
          28.87642276422764,
          40.77651515151515,
          43.50238619676946,
          36.53532420848888,
          49.96638108665004,
          70.3767730496454,
          45.6618,
          41.25217590471828,
          51.29197359087685,
          32.16694772344014,
          44.47880766469216,
          50.38746606002787,
          42.80885521135131,
          49.5315739868049,
          47.66268010170449,
          46.60798014158316,
          56.84984299172138,
          56.34879588793351,
          74.57865246264527,
          67.79127807697358,
          92.82211924913707,
          102.128642413044,
          101.8105384186982,
          100.0221380515055,
          125.0135434215307,
          122.613958431743,
          97.50493313763862,
          98.64923925810591,
          97.01333869403783,
          84.6236178310302,
          94.17509012511488,
          100.4331594098596,
          64.47817661714498,
          68.049922430361,
          59.49833017922742,
          51.30971173644475,
          35.428401788209,
          42.81112828438949,
          38.5,
          40.34481481481482,
          50.08883755774752,
          53.89868295779118,
          40.81696398965449,
          45.04322777012827,
          46.33834822128193,
          42.66040548598689,
          41.06991787602655,
          32.81314102564102,
          38.9201001155179,
          38.69834710743801,
          34.69852269897918,
          33.79882017900732,
          20,
          31.39627659574468,
          32.51349007515899,
          32.72222222222222,
          28.17175196850394,
          22.39647168059424,
          34.4316877152698,
          30.20993098159509,
          27.44743637034305,
          16.04087089381207,
          16.48148148148148,
          28.50695594567738,
          33.15982171283031,
          28.76348016815939,
          15.29002529815685,
          29.23512994941566,
          26.36138613861386,
          22.90533742331288,
          18.5279399499583,
          37.53514947713759,
          32.72683420301269,
          29.33383406920628,
          20.82204455482062,
          27.19343301916764,
          31.25631079173618,
          26.28116154438325,
          24.78915221553423,
          24.17551278545056,
          32.31824892134086,
          27.348249847425,
          26.41548213599692,
          29.50148708487085,
          14.3807514488984,
          23.39488854088432,
          36.29465012545302
         ],
         "yaxis": "y"
        },
        {
         "hovertemplate": "full=A3 -  geschreddert<br>date=%{x}<br>wPreis=%{y}<extra></extra>",
         "legendgroup": "A3 -  geschreddert",
         "line": {
          "color": "#FFA15A",
          "dash": "solid"
         },
         "marker": {
          "symbol": "circle"
         },
         "mode": "lines",
         "name": "A3 -  geschreddert",
         "orientation": "v",
         "showlegend": true,
         "type": "scatter",
         "x": [
          "2020-09-14T00:00:00",
          "2020-09-21T00:00:00",
          "2020-09-28T00:00:00",
          "2020-10-05T00:00:00",
          "2020-10-12T00:00:00",
          "2020-10-19T00:00:00",
          "2020-10-26T00:00:00",
          "2020-11-02T00:00:00",
          "2020-11-09T00:00:00",
          "2020-11-16T00:00:00",
          "2020-11-23T00:00:00",
          "2020-11-30T00:00:00",
          "2020-12-07T00:00:00",
          "2020-12-14T00:00:00",
          "2020-12-21T00:00:00",
          "2021-01-04T00:00:00",
          "2021-01-04T00:00:00",
          "2021-01-11T00:00:00",
          "2021-01-18T00:00:00",
          "2021-01-25T00:00:00",
          "2021-02-01T00:00:00",
          "2021-02-08T00:00:00",
          "2021-02-15T00:00:00",
          "2021-02-22T00:00:00",
          "2021-03-01T00:00:00",
          "2021-03-08T00:00:00",
          "2021-03-15T00:00:00",
          "2021-03-22T00:00:00",
          "2021-03-29T00:00:00",
          "2021-04-05T00:00:00",
          "2021-04-12T00:00:00",
          "2021-04-19T00:00:00",
          "2021-04-26T00:00:00",
          "2021-05-03T00:00:00",
          "2021-05-10T00:00:00",
          "2021-05-17T00:00:00",
          "2021-05-24T00:00:00",
          "2021-05-31T00:00:00",
          "2021-06-07T00:00:00",
          "2021-06-14T00:00:00",
          "2021-06-21T00:00:00",
          "2021-06-28T00:00:00",
          "2021-07-05T00:00:00",
          "2021-07-12T00:00:00",
          "2021-07-19T00:00:00",
          "2021-07-26T00:00:00",
          "2021-08-02T00:00:00",
          "2021-08-09T00:00:00",
          "2021-08-16T00:00:00",
          "2021-08-23T00:00:00",
          "2021-08-30T00:00:00",
          "2021-09-06T00:00:00",
          "2021-09-13T00:00:00",
          "2021-09-20T00:00:00",
          "2021-09-27T00:00:00",
          "2021-10-04T00:00:00",
          "2021-10-11T00:00:00",
          "2021-10-18T00:00:00",
          "2021-10-25T00:00:00",
          "2021-11-01T00:00:00",
          "2021-11-08T00:00:00",
          "2021-11-15T00:00:00",
          "2021-11-22T00:00:00",
          "2021-11-29T00:00:00",
          "2021-12-06T00:00:00",
          "2021-12-13T00:00:00",
          "2021-12-20T00:00:00",
          "2021-12-27T00:00:00",
          "2022-01-03T00:00:00",
          "2022-01-10T00:00:00",
          "2022-01-17T00:00:00",
          "2022-01-24T00:00:00",
          "2022-01-31T00:00:00",
          "2022-02-07T00:00:00",
          "2022-02-14T00:00:00",
          "2022-02-21T00:00:00",
          "2022-02-28T00:00:00",
          "2022-03-07T00:00:00",
          "2022-03-14T00:00:00",
          "2022-03-21T00:00:00",
          "2022-03-28T00:00:00",
          "2022-04-04T00:00:00",
          "2022-04-11T00:00:00",
          "2022-04-18T00:00:00",
          "2022-04-25T00:00:00",
          "2022-05-02T00:00:00",
          "2022-05-09T00:00:00",
          "2022-05-16T00:00:00",
          "2022-05-23T00:00:00",
          "2022-05-30T00:00:00",
          "2022-06-06T00:00:00",
          "2022-06-13T00:00:00",
          "2022-06-20T00:00:00",
          "2022-06-27T00:00:00",
          "2022-07-04T00:00:00",
          "2022-07-11T00:00:00",
          "2022-07-18T00:00:00",
          "2022-07-25T00:00:00",
          "2022-08-01T00:00:00",
          "2022-08-08T00:00:00",
          "2022-08-15T00:00:00",
          "2022-08-22T00:00:00",
          "2022-08-29T00:00:00",
          "2022-09-05T00:00:00",
          "2022-09-12T00:00:00",
          "2022-09-19T00:00:00",
          "2022-10-03T00:00:00",
          "2022-10-10T00:00:00",
          "2022-10-17T00:00:00",
          "2022-10-24T00:00:00",
          "2022-10-31T00:00:00",
          "2022-11-07T00:00:00",
          "2022-11-14T00:00:00",
          "2022-11-21T00:00:00",
          "2022-11-28T00:00:00",
          "2022-12-05T00:00:00",
          "2022-12-12T00:00:00",
          "2022-12-19T00:00:00",
          "2022-12-26T00:00:00",
          "2023-01-02T00:00:00",
          "2023-01-09T00:00:00",
          "2023-01-16T00:00:00",
          "2023-01-23T00:00:00",
          "2023-01-30T00:00:00",
          "2023-02-06T00:00:00",
          "2023-02-13T00:00:00",
          "2023-02-20T00:00:00",
          "2023-02-27T00:00:00",
          "2023-03-06T00:00:00",
          "2023-03-13T00:00:00",
          "2023-03-20T00:00:00",
          "2023-04-03T00:00:00",
          "2023-04-10T00:00:00",
          "2023-04-17T00:00:00",
          "2023-04-24T00:00:00",
          "2023-05-01T00:00:00",
          "2023-05-08T00:00:00",
          "2023-05-15T00:00:00",
          "2023-05-22T00:00:00",
          "2023-05-29T00:00:00",
          "2023-06-05T00:00:00",
          "2023-06-12T00:00:00",
          "2023-06-19T00:00:00",
          "2023-06-26T00:00:00",
          "2023-07-03T00:00:00",
          "2023-08-07T00:00:00",
          "2023-08-14T00:00:00",
          "2023-08-21T00:00:00",
          "2023-08-28T00:00:00",
          "2023-09-04T00:00:00",
          "2023-09-11T00:00:00",
          "2023-09-18T00:00:00",
          "2023-09-25T00:00:00",
          "2023-10-02T00:00:00",
          "2023-10-09T00:00:00",
          "2023-10-16T00:00:00",
          "2023-10-23T00:00:00",
          "2023-10-30T00:00:00",
          "2023-11-06T00:00:00",
          "2023-11-13T00:00:00",
          "2023-11-20T00:00:00",
          "2023-11-27T00:00:00",
          "2023-12-04T00:00:00",
          "2023-12-11T00:00:00",
          "2023-12-18T00:00:00",
          "2023-12-25T00:00:00",
          "2024-01-08T00:00:00",
          "2024-01-22T00:00:00",
          "2024-01-29T00:00:00",
          "2024-02-05T00:00:00",
          "2024-02-12T00:00:00",
          "2024-02-19T00:00:00",
          "2024-02-26T00:00:00",
          "2024-03-18T00:00:00",
          "2024-04-08T00:00:00",
          "2024-04-15T00:00:00"
         ],
         "xaxis": "x",
         "y": [
          -29.24458448207955,
          -28.61828161383832,
          -25.07740020887995,
          -25.66364532559285,
          -24.00495830048546,
          -28.96958297432363,
          -30.0592694831173,
          -30.69442750207929,
          -32.04592181286112,
          -28.38711751468568,
          -31.1402232327408,
          -30.80015773613334,
          -31.24413784936049,
          -29.72857142857143,
          -29.52070880719386,
          -28.4064229736395,
          -30.85585714285714,
          -28.51757135394405,
          -27.52530674846626,
          -28.1511647583056,
          -27.90471243351064,
          -25.92028206047568,
          -27.07926273740277,
          -27.85308164086065,
          -27.75578609000585,
          -31.06918369225106,
          -27.42660301616579,
          -29.07768187422935,
          -27.83092503396319,
          -27.77525139664804,
          -27.94688293370945,
          -22.37852128321336,
          -23.45297537619699,
          -27.7009578926362,
          -25.49377801565531,
          -32.64210931485758,
          -28.58525288958111,
          -27.23669240911659,
          -27.72837906504065,
          -26.65749441658591,
          -24.63671752123309,
          -26.31673718142441,
          -29.39812017455522,
          -25.20045950603101,
          -26.66282530234913,
          -24.02664129400571,
          -21.47959891530554,
          -24.22493047174266,
          -20.43927264409881,
          -21.05224975119166,
          -16.4683029492904,
          -14.25868277384133,
          -22.09155816883662,
          -18.01071069393229,
          -16.1967396564239,
          -16.73185211713822,
          -13.56241121495328,
          -12.74550408719346,
          -12.16951967296883,
          -12.14696356275304,
          -11.97082575789607,
          -4.023158449949726,
          -9.01498061909701,
          -7.429233551887857,
          -4.080646593836042,
          0.7314119170984453,
          2,
          16.34542377199847,
          11.55859676607173,
          19.45015969401837,
          22.83603386910663,
          20.03649617061098,
          23.51613849765258,
          21.33167450004607,
          35.40970539836358,
          26.19985442844009,
          26.61061414071908,
          22.55662442396313,
          15.24141630901287,
          17.82843855835818,
          23.72305417779474,
          21.6796172715361,
          24.00841199511977,
          22.97677141385286,
          24.27591069330199,
          26.14228452708232,
          24.33294073024175,
          26.07909604519773,
          27.77453078493592,
          24.85171290354428,
          30.22447138991883,
          29.91242024298574,
          27.01651791123137,
          29.3038787182497,
          35.01679566955026,
          36.76316952103745,
          27.24256435891027,
          40.91011763821551,
          42.44079850280723,
          32.21636778209158,
          35.13636783307174,
          33.97586257959426,
          36.12911175938034,
          37.25943545829369,
          38.22224467409502,
          38.13149022252191,
          47.16188098210569,
          51.58807345319598,
          68.19132166265659,
          54.13391803002192,
          69.2558289404153,
          71.51042341059176,
          70.05584433829726,
          68.59076399233881,
          59.71227933287818,
          75.47043891254503,
          73.62544777188711,
          72.442488853953,
          66.98353137377528,
          53.5137489112853,
          62.65205893464299,
          72.93220840734163,
          62.96329662996329,
          20.99004975124378,
          48.80991964533112,
          55.41403173845603,
          59.70137655417408,
          44.73502415458938,
          38.4806080409149,
          49.76907934585101,
          39.8478883321403,
          35.1170264370604,
          37.77462437395659,
          36.31281455671699,
          35.43960558751027,
          32.35616438356164,
          38.12304866850321,
          33.5313579243695,
          32.84870922553532,
          28.4522631152704,
          24.96317472623316,
          18.49355269008448,
          21.85683930942896,
          20.73447057809943,
          11.61522978866152,
          17.0443587270974,
          4.209432339449542,
          5.732005590496157,
          6.91403294385483,
          14.28865095279533,
          7.317062315860678,
          14.03424163447666,
          5.352542372881357,
          19.77309048826188,
          9.692283163265307,
          19.17427497314715,
          14.50043231818618,
          11.95862522738708,
          10.87040845547081,
          7.972739744213833,
          6.89394328677097,
          5.797174014511817,
          5.036083197946126,
          1.46139097628104,
          5.152228797640928,
          10.15,
          7.443404551788202,
          4.403375068045727,
          18.41370313103982,
          4.260637265473367,
          23.93,
          9.15,
          9.149999999999999,
          3,
          30,
          18.26588425874204
         ],
         "yaxis": "y"
        }
       ],
       "layout": {
        "legend": {
         "title": {
          "text": "full"
         },
         "tracegroupgap": 0
        },
        "template": {
         "data": {
          "bar": [
           {
            "error_x": {
             "color": "#2a3f5f"
            },
            "error_y": {
             "color": "#2a3f5f"
            },
            "marker": {
             "line": {
              "color": "#E5ECF6",
              "width": 0.5
             },
             "pattern": {
              "fillmode": "overlay",
              "size": 10,
              "solidity": 0.2
             }
            },
            "type": "bar"
           }
          ],
          "barpolar": [
           {
            "marker": {
             "line": {
              "color": "#E5ECF6",
              "width": 0.5
             },
             "pattern": {
              "fillmode": "overlay",
              "size": 10,
              "solidity": 0.2
             }
            },
            "type": "barpolar"
           }
          ],
          "carpet": [
           {
            "aaxis": {
             "endlinecolor": "#2a3f5f",
             "gridcolor": "white",
             "linecolor": "white",
             "minorgridcolor": "white",
             "startlinecolor": "#2a3f5f"
            },
            "baxis": {
             "endlinecolor": "#2a3f5f",
             "gridcolor": "white",
             "linecolor": "white",
             "minorgridcolor": "white",
             "startlinecolor": "#2a3f5f"
            },
            "type": "carpet"
           }
          ],
          "choropleth": [
           {
            "colorbar": {
             "outlinewidth": 0,
             "ticks": ""
            },
            "type": "choropleth"
           }
          ],
          "contour": [
           {
            "colorbar": {
             "outlinewidth": 0,
             "ticks": ""
            },
            "colorscale": [
             [
              0,
              "#0d0887"
             ],
             [
              0.1111111111111111,
              "#46039f"
             ],
             [
              0.2222222222222222,
              "#7201a8"
             ],
             [
              0.3333333333333333,
              "#9c179e"
             ],
             [
              0.4444444444444444,
              "#bd3786"
             ],
             [
              0.5555555555555556,
              "#d8576b"
             ],
             [
              0.6666666666666666,
              "#ed7953"
             ],
             [
              0.7777777777777778,
              "#fb9f3a"
             ],
             [
              0.8888888888888888,
              "#fdca26"
             ],
             [
              1,
              "#f0f921"
             ]
            ],
            "type": "contour"
           }
          ],
          "contourcarpet": [
           {
            "colorbar": {
             "outlinewidth": 0,
             "ticks": ""
            },
            "type": "contourcarpet"
           }
          ],
          "heatmap": [
           {
            "colorbar": {
             "outlinewidth": 0,
             "ticks": ""
            },
            "colorscale": [
             [
              0,
              "#0d0887"
             ],
             [
              0.1111111111111111,
              "#46039f"
             ],
             [
              0.2222222222222222,
              "#7201a8"
             ],
             [
              0.3333333333333333,
              "#9c179e"
             ],
             [
              0.4444444444444444,
              "#bd3786"
             ],
             [
              0.5555555555555556,
              "#d8576b"
             ],
             [
              0.6666666666666666,
              "#ed7953"
             ],
             [
              0.7777777777777778,
              "#fb9f3a"
             ],
             [
              0.8888888888888888,
              "#fdca26"
             ],
             [
              1,
              "#f0f921"
             ]
            ],
            "type": "heatmap"
           }
          ],
          "heatmapgl": [
           {
            "colorbar": {
             "outlinewidth": 0,
             "ticks": ""
            },
            "colorscale": [
             [
              0,
              "#0d0887"
             ],
             [
              0.1111111111111111,
              "#46039f"
             ],
             [
              0.2222222222222222,
              "#7201a8"
             ],
             [
              0.3333333333333333,
              "#9c179e"
             ],
             [
              0.4444444444444444,
              "#bd3786"
             ],
             [
              0.5555555555555556,
              "#d8576b"
             ],
             [
              0.6666666666666666,
              "#ed7953"
             ],
             [
              0.7777777777777778,
              "#fb9f3a"
             ],
             [
              0.8888888888888888,
              "#fdca26"
             ],
             [
              1,
              "#f0f921"
             ]
            ],
            "type": "heatmapgl"
           }
          ],
          "histogram": [
           {
            "marker": {
             "pattern": {
              "fillmode": "overlay",
              "size": 10,
              "solidity": 0.2
             }
            },
            "type": "histogram"
           }
          ],
          "histogram2d": [
           {
            "colorbar": {
             "outlinewidth": 0,
             "ticks": ""
            },
            "colorscale": [
             [
              0,
              "#0d0887"
             ],
             [
              0.1111111111111111,
              "#46039f"
             ],
             [
              0.2222222222222222,
              "#7201a8"
             ],
             [
              0.3333333333333333,
              "#9c179e"
             ],
             [
              0.4444444444444444,
              "#bd3786"
             ],
             [
              0.5555555555555556,
              "#d8576b"
             ],
             [
              0.6666666666666666,
              "#ed7953"
             ],
             [
              0.7777777777777778,
              "#fb9f3a"
             ],
             [
              0.8888888888888888,
              "#fdca26"
             ],
             [
              1,
              "#f0f921"
             ]
            ],
            "type": "histogram2d"
           }
          ],
          "histogram2dcontour": [
           {
            "colorbar": {
             "outlinewidth": 0,
             "ticks": ""
            },
            "colorscale": [
             [
              0,
              "#0d0887"
             ],
             [
              0.1111111111111111,
              "#46039f"
             ],
             [
              0.2222222222222222,
              "#7201a8"
             ],
             [
              0.3333333333333333,
              "#9c179e"
             ],
             [
              0.4444444444444444,
              "#bd3786"
             ],
             [
              0.5555555555555556,
              "#d8576b"
             ],
             [
              0.6666666666666666,
              "#ed7953"
             ],
             [
              0.7777777777777778,
              "#fb9f3a"
             ],
             [
              0.8888888888888888,
              "#fdca26"
             ],
             [
              1,
              "#f0f921"
             ]
            ],
            "type": "histogram2dcontour"
           }
          ],
          "mesh3d": [
           {
            "colorbar": {
             "outlinewidth": 0,
             "ticks": ""
            },
            "type": "mesh3d"
           }
          ],
          "parcoords": [
           {
            "line": {
             "colorbar": {
              "outlinewidth": 0,
              "ticks": ""
             }
            },
            "type": "parcoords"
           }
          ],
          "pie": [
           {
            "automargin": true,
            "type": "pie"
           }
          ],
          "scatter": [
           {
            "fillpattern": {
             "fillmode": "overlay",
             "size": 10,
             "solidity": 0.2
            },
            "type": "scatter"
           }
          ],
          "scatter3d": [
           {
            "line": {
             "colorbar": {
              "outlinewidth": 0,
              "ticks": ""
             }
            },
            "marker": {
             "colorbar": {
              "outlinewidth": 0,
              "ticks": ""
             }
            },
            "type": "scatter3d"
           }
          ],
          "scattercarpet": [
           {
            "marker": {
             "colorbar": {
              "outlinewidth": 0,
              "ticks": ""
             }
            },
            "type": "scattercarpet"
           }
          ],
          "scattergeo": [
           {
            "marker": {
             "colorbar": {
              "outlinewidth": 0,
              "ticks": ""
             }
            },
            "type": "scattergeo"
           }
          ],
          "scattergl": [
           {
            "marker": {
             "colorbar": {
              "outlinewidth": 0,
              "ticks": ""
             }
            },
            "type": "scattergl"
           }
          ],
          "scattermapbox": [
           {
            "marker": {
             "colorbar": {
              "outlinewidth": 0,
              "ticks": ""
             }
            },
            "type": "scattermapbox"
           }
          ],
          "scatterpolar": [
           {
            "marker": {
             "colorbar": {
              "outlinewidth": 0,
              "ticks": ""
             }
            },
            "type": "scatterpolar"
           }
          ],
          "scatterpolargl": [
           {
            "marker": {
             "colorbar": {
              "outlinewidth": 0,
              "ticks": ""
             }
            },
            "type": "scatterpolargl"
           }
          ],
          "scatterternary": [
           {
            "marker": {
             "colorbar": {
              "outlinewidth": 0,
              "ticks": ""
             }
            },
            "type": "scatterternary"
           }
          ],
          "surface": [
           {
            "colorbar": {
             "outlinewidth": 0,
             "ticks": ""
            },
            "colorscale": [
             [
              0,
              "#0d0887"
             ],
             [
              0.1111111111111111,
              "#46039f"
             ],
             [
              0.2222222222222222,
              "#7201a8"
             ],
             [
              0.3333333333333333,
              "#9c179e"
             ],
             [
              0.4444444444444444,
              "#bd3786"
             ],
             [
              0.5555555555555556,
              "#d8576b"
             ],
             [
              0.6666666666666666,
              "#ed7953"
             ],
             [
              0.7777777777777778,
              "#fb9f3a"
             ],
             [
              0.8888888888888888,
              "#fdca26"
             ],
             [
              1,
              "#f0f921"
             ]
            ],
            "type": "surface"
           }
          ],
          "table": [
           {
            "cells": {
             "fill": {
              "color": "#EBF0F8"
             },
             "line": {
              "color": "white"
             }
            },
            "header": {
             "fill": {
              "color": "#C8D4E3"
             },
             "line": {
              "color": "white"
             }
            },
            "type": "table"
           }
          ]
         },
         "layout": {
          "annotationdefaults": {
           "arrowcolor": "#2a3f5f",
           "arrowhead": 0,
           "arrowwidth": 1
          },
          "autotypenumbers": "strict",
          "coloraxis": {
           "colorbar": {
            "outlinewidth": 0,
            "ticks": ""
           }
          },
          "colorscale": {
           "diverging": [
            [
             0,
             "#8e0152"
            ],
            [
             0.1,
             "#c51b7d"
            ],
            [
             0.2,
             "#de77ae"
            ],
            [
             0.3,
             "#f1b6da"
            ],
            [
             0.4,
             "#fde0ef"
            ],
            [
             0.5,
             "#f7f7f7"
            ],
            [
             0.6,
             "#e6f5d0"
            ],
            [
             0.7,
             "#b8e186"
            ],
            [
             0.8,
             "#7fbc41"
            ],
            [
             0.9,
             "#4d9221"
            ],
            [
             1,
             "#276419"
            ]
           ],
           "sequential": [
            [
             0,
             "#0d0887"
            ],
            [
             0.1111111111111111,
             "#46039f"
            ],
            [
             0.2222222222222222,
             "#7201a8"
            ],
            [
             0.3333333333333333,
             "#9c179e"
            ],
            [
             0.4444444444444444,
             "#bd3786"
            ],
            [
             0.5555555555555556,
             "#d8576b"
            ],
            [
             0.6666666666666666,
             "#ed7953"
            ],
            [
             0.7777777777777778,
             "#fb9f3a"
            ],
            [
             0.8888888888888888,
             "#fdca26"
            ],
            [
             1,
             "#f0f921"
            ]
           ],
           "sequentialminus": [
            [
             0,
             "#0d0887"
            ],
            [
             0.1111111111111111,
             "#46039f"
            ],
            [
             0.2222222222222222,
             "#7201a8"
            ],
            [
             0.3333333333333333,
             "#9c179e"
            ],
            [
             0.4444444444444444,
             "#bd3786"
            ],
            [
             0.5555555555555556,
             "#d8576b"
            ],
            [
             0.6666666666666666,
             "#ed7953"
            ],
            [
             0.7777777777777778,
             "#fb9f3a"
            ],
            [
             0.8888888888888888,
             "#fdca26"
            ],
            [
             1,
             "#f0f921"
            ]
           ]
          },
          "colorway": [
           "#636efa",
           "#EF553B",
           "#00cc96",
           "#ab63fa",
           "#FFA15A",
           "#19d3f3",
           "#FF6692",
           "#B6E880",
           "#FF97FF",
           "#FECB52"
          ],
          "font": {
           "color": "#2a3f5f"
          },
          "geo": {
           "bgcolor": "white",
           "lakecolor": "white",
           "landcolor": "#E5ECF6",
           "showlakes": true,
           "showland": true,
           "subunitcolor": "white"
          },
          "hoverlabel": {
           "align": "left"
          },
          "hovermode": "closest",
          "mapbox": {
           "style": "light"
          },
          "paper_bgcolor": "white",
          "plot_bgcolor": "#E5ECF6",
          "polar": {
           "angularaxis": {
            "gridcolor": "white",
            "linecolor": "white",
            "ticks": ""
           },
           "bgcolor": "#E5ECF6",
           "radialaxis": {
            "gridcolor": "white",
            "linecolor": "white",
            "ticks": ""
           }
          },
          "scene": {
           "xaxis": {
            "backgroundcolor": "#E5ECF6",
            "gridcolor": "white",
            "gridwidth": 2,
            "linecolor": "white",
            "showbackground": true,
            "ticks": "",
            "zerolinecolor": "white"
           },
           "yaxis": {
            "backgroundcolor": "#E5ECF6",
            "gridcolor": "white",
            "gridwidth": 2,
            "linecolor": "white",
            "showbackground": true,
            "ticks": "",
            "zerolinecolor": "white"
           },
           "zaxis": {
            "backgroundcolor": "#E5ECF6",
            "gridcolor": "white",
            "gridwidth": 2,
            "linecolor": "white",
            "showbackground": true,
            "ticks": "",
            "zerolinecolor": "white"
           }
          },
          "shapedefaults": {
           "line": {
            "color": "#2a3f5f"
           }
          },
          "ternary": {
           "aaxis": {
            "gridcolor": "white",
            "linecolor": "white",
            "ticks": ""
           },
           "baxis": {
            "gridcolor": "white",
            "linecolor": "white",
            "ticks": ""
           },
           "bgcolor": "#E5ECF6",
           "caxis": {
            "gridcolor": "white",
            "linecolor": "white",
            "ticks": ""
           }
          },
          "title": {
           "x": 0.05
          },
          "xaxis": {
           "automargin": true,
           "gridcolor": "white",
           "linecolor": "white",
           "ticks": "",
           "title": {
            "standoff": 15
           },
           "zerolinecolor": "white",
           "zerolinewidth": 2
          },
          "yaxis": {
           "automargin": true,
           "gridcolor": "white",
           "linecolor": "white",
           "ticks": "",
           "title": {
            "standoff": 15
           },
           "zerolinecolor": "white",
           "zerolinewidth": 2
          }
         }
        },
        "title": {
         "text": "Weekly Prices for ['48', '49'] by Category"
        },
        "xaxis": {
         "anchor": "y",
         "domain": [
          0,
          1
         ],
         "title": {
          "text": "date"
         }
        },
        "yaxis": {
         "anchor": "x",
         "domain": [
          0,
          1
         ],
         "title": {
          "text": "wPreis"
         }
        }
       }
      }
     },
     "metadata": {},
     "output_type": "display_data"
    },
    {
     "data": {
      "application/vnd.plotly.v1+json": {
       "config": {
        "plotlyServerURL": "https://plot.ly"
       },
       "data": [
        {
         "hovertemplate": "full=A2 -  geschreddert<br>date=%{x}<br>wPreis=%{y}<extra></extra>",
         "legendgroup": "A2 -  geschreddert",
         "line": {
          "color": "#636efa",
          "dash": "solid"
         },
         "marker": {
          "symbol": "circle"
         },
         "mode": "lines",
         "name": "A2 -  geschreddert",
         "orientation": "v",
         "showlegend": true,
         "type": "scatter",
         "x": [
          "2020-09-14T00:00:00",
          "2020-09-21T00:00:00",
          "2020-09-28T00:00:00",
          "2020-10-05T00:00:00",
          "2020-10-12T00:00:00",
          "2020-10-19T00:00:00",
          "2020-10-26T00:00:00",
          "2020-11-02T00:00:00",
          "2020-11-09T00:00:00",
          "2020-11-16T00:00:00",
          "2020-11-23T00:00:00",
          "2020-11-30T00:00:00",
          "2020-12-07T00:00:00",
          "2020-12-14T00:00:00",
          "2020-12-21T00:00:00",
          "2020-12-28T00:00:00",
          "2021-01-04T00:00:00",
          "2021-01-11T00:00:00",
          "2021-01-18T00:00:00",
          "2021-01-25T00:00:00",
          "2021-02-01T00:00:00",
          "2021-02-08T00:00:00",
          "2021-02-15T00:00:00",
          "2021-02-22T00:00:00",
          "2021-03-01T00:00:00",
          "2021-03-08T00:00:00",
          "2021-03-15T00:00:00",
          "2021-03-22T00:00:00",
          "2021-03-29T00:00:00",
          "2021-04-05T00:00:00",
          "2021-04-12T00:00:00",
          "2021-04-19T00:00:00",
          "2021-04-26T00:00:00",
          "2021-05-03T00:00:00",
          "2021-05-10T00:00:00",
          "2021-05-17T00:00:00",
          "2021-05-24T00:00:00",
          "2021-05-31T00:00:00",
          "2021-06-07T00:00:00",
          "2021-06-14T00:00:00",
          "2021-06-21T00:00:00",
          "2021-06-28T00:00:00",
          "2021-07-05T00:00:00",
          "2021-07-12T00:00:00",
          "2021-07-19T00:00:00",
          "2021-07-26T00:00:00",
          "2021-08-02T00:00:00",
          "2021-08-09T00:00:00",
          "2021-08-16T00:00:00",
          "2021-08-23T00:00:00",
          "2021-08-30T00:00:00",
          "2021-09-06T00:00:00",
          "2021-09-13T00:00:00",
          "2021-09-20T00:00:00",
          "2021-09-27T00:00:00",
          "2021-10-04T00:00:00",
          "2021-10-11T00:00:00",
          "2021-10-18T00:00:00",
          "2021-10-25T00:00:00",
          "2021-11-01T00:00:00",
          "2021-11-08T00:00:00",
          "2021-11-15T00:00:00",
          "2021-11-22T00:00:00",
          "2021-11-29T00:00:00",
          "2021-12-06T00:00:00",
          "2021-12-13T00:00:00",
          "2021-12-20T00:00:00",
          "2021-12-27T00:00:00",
          "2022-01-03T00:00:00",
          "2022-01-10T00:00:00",
          "2022-01-17T00:00:00",
          "2022-01-24T00:00:00",
          "2022-01-31T00:00:00",
          "2022-02-07T00:00:00",
          "2022-02-14T00:00:00",
          "2022-02-21T00:00:00",
          "2022-02-28T00:00:00",
          "2022-03-07T00:00:00",
          "2022-03-14T00:00:00",
          "2022-03-21T00:00:00",
          "2022-03-28T00:00:00",
          "2022-04-04T00:00:00",
          "2022-04-11T00:00:00",
          "2022-04-18T00:00:00",
          "2022-04-25T00:00:00",
          "2022-05-02T00:00:00",
          "2022-05-09T00:00:00",
          "2022-05-16T00:00:00",
          "2022-05-23T00:00:00",
          "2022-05-30T00:00:00",
          "2022-06-06T00:00:00",
          "2022-06-13T00:00:00",
          "2022-06-20T00:00:00",
          "2022-06-27T00:00:00",
          "2022-07-04T00:00:00",
          "2022-07-11T00:00:00",
          "2022-07-18T00:00:00",
          "2022-07-25T00:00:00",
          "2022-08-01T00:00:00",
          "2022-08-08T00:00:00",
          "2022-08-15T00:00:00",
          "2022-08-22T00:00:00",
          "2022-08-29T00:00:00",
          "2022-09-05T00:00:00",
          "2022-09-12T00:00:00",
          "2022-09-19T00:00:00",
          "2022-09-26T00:00:00",
          "2022-10-03T00:00:00",
          "2022-10-10T00:00:00",
          "2022-10-17T00:00:00",
          "2022-10-24T00:00:00",
          "2022-10-31T00:00:00",
          "2022-11-07T00:00:00",
          "2022-11-14T00:00:00",
          "2022-11-21T00:00:00",
          "2022-11-28T00:00:00",
          "2022-12-05T00:00:00",
          "2022-12-12T00:00:00",
          "2022-12-19T00:00:00",
          "2022-12-26T00:00:00",
          "2023-01-02T00:00:00",
          "2023-01-09T00:00:00",
          "2023-01-16T00:00:00",
          "2023-01-23T00:00:00",
          "2023-01-30T00:00:00",
          "2023-02-06T00:00:00",
          "2023-02-13T00:00:00",
          "2023-02-20T00:00:00",
          "2023-02-27T00:00:00",
          "2023-03-06T00:00:00",
          "2023-03-13T00:00:00",
          "2023-03-20T00:00:00",
          "2023-03-27T00:00:00",
          "2023-04-03T00:00:00",
          "2023-04-10T00:00:00",
          "2023-04-17T00:00:00",
          "2023-04-24T00:00:00",
          "2023-05-01T00:00:00",
          "2023-05-08T00:00:00",
          "2023-05-15T00:00:00",
          "2023-05-22T00:00:00",
          "2023-05-29T00:00:00",
          "2023-06-05T00:00:00",
          "2023-06-12T00:00:00",
          "2023-06-19T00:00:00",
          "2023-06-26T00:00:00",
          "2023-07-03T00:00:00",
          "2023-07-10T00:00:00",
          "2023-07-17T00:00:00",
          "2023-07-24T00:00:00",
          "2023-07-31T00:00:00",
          "2023-08-07T00:00:00",
          "2023-08-14T00:00:00",
          "2023-08-21T00:00:00",
          "2023-08-28T00:00:00",
          "2023-09-04T00:00:00",
          "2023-09-11T00:00:00",
          "2023-09-18T00:00:00",
          "2023-09-25T00:00:00",
          "2023-10-02T00:00:00",
          "2023-10-09T00:00:00",
          "2023-10-16T00:00:00",
          "2023-10-23T00:00:00",
          "2023-10-30T00:00:00",
          "2023-11-06T00:00:00",
          "2023-11-13T00:00:00",
          "2023-11-20T00:00:00",
          "2023-11-27T00:00:00",
          "2023-12-04T00:00:00",
          "2023-12-11T00:00:00",
          "2023-12-18T00:00:00",
          "2023-12-25T00:00:00",
          "2024-01-01T00:00:00",
          "2024-01-08T00:00:00",
          "2024-01-15T00:00:00",
          "2024-01-22T00:00:00",
          "2024-01-29T00:00:00",
          "2024-02-05T00:00:00",
          "2024-02-12T00:00:00",
          "2024-02-19T00:00:00",
          "2024-02-26T00:00:00",
          "2024-03-04T00:00:00",
          "2024-03-18T00:00:00",
          "2024-03-25T00:00:00",
          "2024-04-08T00:00:00",
          "2024-04-15T00:00:00",
          "2024-04-22T00:00:00"
         ],
         "xaxis": "x",
         "y": [
          -33.57518255629883,
          -30.46965479986298,
          -31.28952184409312,
          -30.6163543591804,
          -32.23183451506304,
          -31.52603993649243,
          -29.01266889880952,
          -31.38598295602394,
          -29.39450785243163,
          -30.64709305472853,
          -28.05212979482605,
          -31.03953869422738,
          -26.36146205640405,
          -29.61098509482137,
          -35.42168040128987,
          -26.80745144920465,
          -29.57246562389189,
          -29.66786974655117,
          -30.9171758715237,
          -26.07434113644442,
          -26.47266437346437,
          -24.55756356664676,
          -25.24986485025409,
          -27.09052173387341,
          -29.32212439234928,
          -28.91943695877496,
          -28.70572694071024,
          -29.55302375573055,
          -22.27034784391444,
          -30.95392423775793,
          -30.64100418875854,
          -26.06268509557222,
          -29.12107104316546,
          -28.02081399128794,
          -26.64327841689153,
          -29.50822032409644,
          -28.93079234045761,
          -29.14728372937371,
          -28.37620202853853,
          -27.61951251785264,
          -29.94742253632552,
          -28.36134051684778,
          -27.43324035030815,
          -27.87248814452929,
          -29.70545738804154,
          -25.08236569969246,
          -26.52074723228962,
          -26.8148952755157,
          -28.55315529661625,
          -25.7793040263602,
          -23.06105583165908,
          -23.06964669769681,
          -22.63561036664343,
          -21.79410495049505,
          -21.77386513514867,
          -20.3624830767688,
          -21.41795147025474,
          -18.10945160704558,
          -13.40657415170645,
          -9.08671225027694,
          -13.43017826514832,
          -10.80025565881309,
          -9.854462424990789,
          -8.25553379897718,
          -6.216619462743089,
          -6.661612881401799,
          1.090852040631891,
          2.396631384408602,
          -0.8295443620158759,
          1.161769357299986,
          4.203023319137813,
          10.75153447347158,
          10.40401846483982,
          13.48041571753987,
          11.36477600868943,
          21.0333480513047,
          20.91898847155076,
          14.64458997160891,
          20.45681199689454,
          20.57800930910537,
          19.73061327058608,
          18.77400532808248,
          18.65886177673875,
          17.42079691126391,
          18.99515104790115,
          15.51979768047821,
          21.0737908273586,
          19.01720654704835,
          19.87128800052832,
          23.34650763610756,
          18.62622487714446,
          17.68616019918625,
          22.71748994612641,
          23.77399742654943,
          27.34349768319413,
          27.70348264957802,
          27.89202918888577,
          31.51904905725506,
          33.01946193474528,
          32.96153173631753,
          29.53784005721702,
          41.2187025385116,
          43.45084913579714,
          49.11426298064467,
          51.84268798008418,
          47.60171489817791,
          56.44178496753604,
          56.52392306469559,
          57.35134226307237,
          56.05564916222035,
          55.5493264659271,
          51.72070128864555,
          57.47056919123448,
          52.09090909090911,
          61.39075952948782,
          50.038406374502,
          56.34602698650676,
          58.87783506248277,
          69.09736871322308,
          59.80761766930896,
          58.10236718965041,
          56.07309535168324,
          52.24118559734633,
          59.18494448957488,
          53.90299332360613,
          45.68342277646938,
          57.09661491194383,
          50.20843715521834,
          49.87655364843155,
          41.98558096980786,
          41.6434602517126,
          43.57377124272821,
          37.68603276473569,
          33.29617879634452,
          33.02580357142858,
          33.2706442685203,
          28.0217539248586,
          26.21015421668027,
          27.07569948423022,
          27.68665921443164,
          27.08571758191047,
          26.05294437891298,
          26.0131842653358,
          26.80081461043227,
          24.56312246403541,
          20.63948547145975,
          20.80545229244114,
          20.75073065167436,
          14.55452831056529,
          3.741366624735956,
          15.0995099509951,
          12.59885823700447,
          13.54379377730936,
          13.49263468013468,
          8.578053122552161,
          9.878150808382431,
          6.746484978191967,
          7.785821711785619,
          8.329096811964442,
          5.8764263511481,
          8.81290721074339,
          5.338859312951949,
          7.289921810170522,
          2.685406432571209,
          0.3726346748556476,
          2.652200375323336,
          1.78265883510671,
          10.10686186634797,
          5.762017073858539,
          9.14222420941387,
          10.58705655336203,
          6.353409540660722,
          16.01348550879225,
          8.182341746794872,
          10.13761560450648,
          11.20030698388335,
          8.706794480622978,
          7.856541897141218,
          12.19410683197474,
          11.62949370392118,
          11.5200506228597,
          11.89205646752089,
          6.459838062208144,
          7.396929824561403,
          3.808882769472856,
          6.299629962996299,
          7.916666666666666
         ],
         "yaxis": "y"
        },
        {
         "hovertemplate": "full=A1 & A2 -  geschreddert<br>date=%{x}<br>wPreis=%{y}<extra></extra>",
         "legendgroup": "A1 & A2 -  geschreddert",
         "line": {
          "color": "#EF553B",
          "dash": "solid"
         },
         "marker": {
          "symbol": "circle"
         },
         "mode": "lines",
         "name": "A1 & A2 -  geschreddert",
         "orientation": "v",
         "showlegend": true,
         "type": "scatter",
         "x": [
          "2020-09-14T00:00:00",
          "2020-09-21T00:00:00",
          "2020-09-28T00:00:00",
          "2020-10-05T00:00:00",
          "2020-10-12T00:00:00",
          "2020-10-19T00:00:00",
          "2020-10-26T00:00:00",
          "2020-11-02T00:00:00",
          "2020-11-09T00:00:00",
          "2020-11-16T00:00:00",
          "2020-11-23T00:00:00",
          "2020-11-30T00:00:00",
          "2020-12-07T00:00:00",
          "2020-12-14T00:00:00",
          "2020-12-21T00:00:00",
          "2020-12-28T00:00:00",
          "2021-01-04T00:00:00",
          "2021-01-11T00:00:00",
          "2021-01-18T00:00:00",
          "2021-01-25T00:00:00",
          "2021-02-01T00:00:00",
          "2021-02-08T00:00:00",
          "2021-02-15T00:00:00",
          "2021-02-22T00:00:00",
          "2021-03-01T00:00:00",
          "2021-03-08T00:00:00",
          "2021-03-15T00:00:00",
          "2021-03-22T00:00:00",
          "2021-03-29T00:00:00",
          "2021-04-05T00:00:00",
          "2021-04-12T00:00:00",
          "2021-04-19T00:00:00",
          "2021-04-26T00:00:00",
          "2021-05-03T00:00:00",
          "2021-05-10T00:00:00",
          "2021-05-17T00:00:00",
          "2021-05-24T00:00:00",
          "2021-05-31T00:00:00",
          "2021-06-07T00:00:00",
          "2021-06-14T00:00:00",
          "2021-06-21T00:00:00",
          "2021-06-28T00:00:00",
          "2021-07-05T00:00:00",
          "2021-07-12T00:00:00",
          "2021-07-19T00:00:00",
          "2021-07-26T00:00:00",
          "2021-08-02T00:00:00",
          "2021-08-09T00:00:00",
          "2021-08-16T00:00:00",
          "2021-08-23T00:00:00",
          "2021-08-30T00:00:00",
          "2021-09-06T00:00:00",
          "2021-09-13T00:00:00",
          "2021-09-20T00:00:00",
          "2021-09-27T00:00:00",
          "2021-10-04T00:00:00",
          "2021-10-11T00:00:00",
          "2021-10-18T00:00:00",
          "2021-10-25T00:00:00",
          "2021-11-01T00:00:00",
          "2021-11-08T00:00:00",
          "2021-11-15T00:00:00",
          "2021-11-22T00:00:00",
          "2021-11-29T00:00:00",
          "2021-12-06T00:00:00",
          "2021-12-13T00:00:00",
          "2021-12-20T00:00:00",
          "2021-12-27T00:00:00",
          "2022-01-03T00:00:00",
          "2022-01-10T00:00:00",
          "2022-01-17T00:00:00",
          "2022-01-24T00:00:00",
          "2022-01-31T00:00:00",
          "2022-02-07T00:00:00",
          "2022-02-14T00:00:00",
          "2022-02-21T00:00:00",
          "2022-02-28T00:00:00",
          "2022-03-07T00:00:00",
          "2022-03-14T00:00:00",
          "2022-03-21T00:00:00",
          "2022-03-28T00:00:00",
          "2022-04-04T00:00:00",
          "2022-04-11T00:00:00",
          "2022-04-18T00:00:00",
          "2022-04-25T00:00:00",
          "2022-05-02T00:00:00",
          "2022-05-09T00:00:00",
          "2022-05-16T00:00:00",
          "2022-05-23T00:00:00",
          "2022-05-30T00:00:00",
          "2022-06-06T00:00:00",
          "2022-06-13T00:00:00",
          "2022-06-20T00:00:00",
          "2022-06-27T00:00:00",
          "2022-07-04T00:00:00",
          "2022-07-11T00:00:00",
          "2022-07-18T00:00:00",
          "2022-07-25T00:00:00",
          "2022-08-01T00:00:00",
          "2022-08-08T00:00:00",
          "2022-08-15T00:00:00",
          "2022-08-22T00:00:00",
          "2022-08-29T00:00:00",
          "2022-09-05T00:00:00",
          "2022-09-12T00:00:00",
          "2022-09-19T00:00:00",
          "2022-09-26T00:00:00",
          "2022-10-03T00:00:00",
          "2022-10-10T00:00:00",
          "2022-10-17T00:00:00",
          "2022-10-24T00:00:00",
          "2022-10-31T00:00:00",
          "2022-11-07T00:00:00",
          "2022-11-14T00:00:00",
          "2022-11-21T00:00:00",
          "2022-11-28T00:00:00",
          "2022-12-05T00:00:00",
          "2022-12-12T00:00:00",
          "2022-12-19T00:00:00",
          "2022-12-26T00:00:00",
          "2023-01-02T00:00:00",
          "2023-01-09T00:00:00",
          "2023-01-16T00:00:00",
          "2023-01-23T00:00:00",
          "2023-01-30T00:00:00",
          "2023-02-06T00:00:00",
          "2023-02-13T00:00:00",
          "2023-02-20T00:00:00",
          "2023-02-27T00:00:00",
          "2023-03-06T00:00:00",
          "2023-03-13T00:00:00",
          "2023-03-20T00:00:00",
          "2023-03-27T00:00:00",
          "2023-04-03T00:00:00",
          "2023-04-10T00:00:00",
          "2023-04-17T00:00:00",
          "2023-04-24T00:00:00",
          "2023-05-01T00:00:00",
          "2023-05-08T00:00:00",
          "2023-05-15T00:00:00",
          "2023-05-22T00:00:00",
          "2023-05-29T00:00:00",
          "2023-06-05T00:00:00",
          "2023-06-12T00:00:00",
          "2023-06-19T00:00:00",
          "2023-06-26T00:00:00",
          "2023-07-03T00:00:00",
          "2023-07-10T00:00:00",
          "2023-07-17T00:00:00",
          "2023-07-24T00:00:00",
          "2023-07-31T00:00:00",
          "2023-08-07T00:00:00",
          "2023-08-14T00:00:00",
          "2023-08-21T00:00:00",
          "2023-08-28T00:00:00",
          "2023-09-04T00:00:00",
          "2023-09-11T00:00:00",
          "2023-09-18T00:00:00",
          "2023-09-25T00:00:00",
          "2023-10-02T00:00:00",
          "2023-10-09T00:00:00",
          "2023-10-16T00:00:00",
          "2023-10-23T00:00:00",
          "2023-10-30T00:00:00",
          "2023-11-06T00:00:00",
          "2023-11-13T00:00:00",
          "2023-11-20T00:00:00",
          "2023-11-27T00:00:00",
          "2023-12-04T00:00:00",
          "2023-12-11T00:00:00",
          "2023-12-18T00:00:00",
          "2023-12-25T00:00:00",
          "2024-01-01T00:00:00",
          "2024-01-08T00:00:00",
          "2024-01-15T00:00:00",
          "2024-01-22T00:00:00",
          "2024-01-29T00:00:00",
          "2024-02-05T00:00:00",
          "2024-02-12T00:00:00",
          "2024-02-19T00:00:00",
          "2024-02-26T00:00:00",
          "2024-03-04T00:00:00",
          "2024-03-18T00:00:00",
          "2024-03-25T00:00:00",
          "2024-04-08T00:00:00",
          "2024-04-15T00:00:00",
          "2024-04-22T00:00:00"
         ],
         "xaxis": "x",
         "y": [
          -33.57518255629883,
          -30.46965479986298,
          -31.28952184409312,
          -30.6163543591804,
          -31.29194836008374,
          -28.94600578731613,
          -29.01266889880952,
          -24.508841172281,
          -27.37441759288663,
          -29.53032774153464,
          -22.18705752870486,
          -22.91865741238925,
          -24.62229596723814,
          -25.35018313686466,
          -26.90648313458262,
          -20.20441982755288,
          -25.05287177203918,
          -18.27369157872065,
          -19.60595448934686,
          -26.07434113644442,
          -24.57374418962598,
          -18.90890832358774,
          -25.24986485025409,
          -25.34583352389665,
          -29.32212439234928,
          -24.70737147156352,
          -27.31983534859789,
          -29.65243826595939,
          -21.71598477640342,
          -29.63051843317973,
          -28.79331090432414,
          -25.20793571594336,
          -28.85619257278059,
          -26.44136029007801,
          -26.58441624911292,
          -25.61704364579208,
          -28.55616891869678,
          -24.2822607824215,
          -28.37620202853853,
          -25.57572284928388,
          -29.93485899133215,
          -26.90572277173764,
          -26.21583986778074,
          -20.12350838603245,
          -26.161940978288,
          -20.59869272443452,
          -23.60902160626977,
          -22.54736281826164,
          -17.16997375672484,
          -22.20635282425046,
          -21.35854172529673,
          -20.87905463942442,
          -21.09517110400302,
          -21.23498800319915,
          -19.49816226455447,
          -19.63771127961162,
          -19.33471991087282,
          -18.10945160704558,
          -12.75361225359739,
          -9.704216266140918,
          -13.43017826514832,
          -11.17762208625802,
          -8.57644064322582,
          -6.387991105325956,
          -2.122826100225844,
          -5.768283956816469,
          1.207520516237638,
          3.351577511932065,
          -1.206954698963549,
          4.413219426646524,
          4.974594064168548,
          11.69724481133456,
          12.27006162815219,
          13.62577349332157,
          12.47903988657636,
          20.4820784560269,
          20.98271554169029,
          16.36036047181281,
          21.55919080240663,
          22.36539329222439,
          20.00369966224994,
          19.10307361647702,
          19.29859683934519,
          17.8985334376222,
          18.88127034191189,
          20.28964470088065,
          23.25573824130879,
          20.64280245999949,
          19.87128800052832,
          23.34650763610756,
          18.22200057744297,
          17.68616019918625,
          22.82923203486945,
          23.88146220152163,
          27.47213201320133,
          27.84602541690401,
          27.89202918888577,
          31.05807597131155,
          32.88958159432388,
          32.96153173631753,
          29.53784005721702,
          41.67815651729861,
          42.728857727865,
          49.56939751240203,
          57.17786984010938,
          55.66313758389262,
          63.51750827814571,
          64.0339936676365,
          62.21789928190445,
          60.26844094299255,
          58.5226612509319,
          55.28594055109568,
          58.8193841224635,
          56.98428908091124,
          68.27596983082424,
          68.83858673721024,
          79.15683981960916,
          75.95110158447918,
          86.53185227380612,
          72.35927073672782,
          73.86288966278775,
          70.85825157215397,
          71.07200725905764,
          66.02228448137056,
          64.5418494711424,
          50.00460796740072,
          68.42003177300772,
          50.98264463794354,
          50.64017570260707,
          40.99067884380002,
          47.15256897406244,
          46.59275695702625,
          42.13933257567932,
          40.07898165035173,
          43.06424716598611,
          40.59211014203035,
          33.19207735620063,
          31.06393123363105,
          32.44586713016609,
          35.73835442664542,
          30.57146307798482,
          30.25871457530108,
          26.9470878238936,
          26.80081461043227,
          24.56312246403541,
          20.63948547145975,
          22.20269248222658,
          20.75073065167436,
          14.55452831056529,
          9.445581931025659,
          18.50263425455218,
          13.61813998214163,
          17.80180847628274,
          13.49263468013468,
          13.47673047705864,
          10.47071261590187,
          9.27107438016529,
          9.652068286277085,
          9.269098452406622,
          5.8764263511481,
          8.81290721074339,
          5.338859312951949,
          7.289921810170522,
          2.685406432571209,
          0.3726346748556476,
          2.652200375323336,
          1.78265883510671,
          10.10686186634797,
          5.762017073858539,
          9.14222420941387,
          10.58705655336203,
          8.350683657727341,
          16.71729672102807,
          9.22374320893929,
          10.13761560450648,
          12.29492545341468,
          9.457978209296195,
          7.856541897141218,
          12.19410683197474,
          11.62949370392118,
          11.84438173547084,
          13.53877220065179,
          9.431215490706055,
          10.66558663028649,
          3.808882769472856,
          6.299629962996299,
          7.916666666666666
         ],
         "yaxis": "y"
        },
        {
         "hovertemplate": "full=A2 & A3 -  geschreddert<br>date=%{x}<br>wPreis=%{y}<extra></extra>",
         "legendgroup": "A2 & A3 -  geschreddert",
         "line": {
          "color": "#00cc96",
          "dash": "solid"
         },
         "marker": {
          "symbol": "circle"
         },
         "mode": "lines",
         "name": "A2 & A3 -  geschreddert",
         "orientation": "v",
         "showlegend": true,
         "type": "scatter",
         "x": [
          "2020-09-14T00:00:00",
          "2020-09-21T00:00:00",
          "2020-09-28T00:00:00",
          "2020-10-05T00:00:00",
          "2020-10-12T00:00:00",
          "2020-10-19T00:00:00",
          "2020-10-26T00:00:00",
          "2020-11-02T00:00:00",
          "2020-11-09T00:00:00",
          "2020-11-16T00:00:00",
          "2020-11-23T00:00:00",
          "2020-11-30T00:00:00",
          "2020-12-07T00:00:00",
          "2020-12-14T00:00:00",
          "2020-12-21T00:00:00",
          "2020-12-28T00:00:00",
          "2021-01-04T00:00:00",
          "2021-01-04T00:00:00",
          "2021-01-11T00:00:00",
          "2021-01-18T00:00:00",
          "2021-01-25T00:00:00",
          "2021-02-01T00:00:00",
          "2021-02-08T00:00:00",
          "2021-02-15T00:00:00",
          "2021-02-22T00:00:00",
          "2021-03-01T00:00:00",
          "2021-03-08T00:00:00",
          "2021-03-15T00:00:00",
          "2021-03-22T00:00:00",
          "2021-03-29T00:00:00",
          "2021-04-05T00:00:00",
          "2021-04-12T00:00:00",
          "2021-04-19T00:00:00",
          "2021-04-26T00:00:00",
          "2021-05-03T00:00:00",
          "2021-05-10T00:00:00",
          "2021-05-17T00:00:00",
          "2021-05-24T00:00:00",
          "2021-05-31T00:00:00",
          "2021-06-07T00:00:00",
          "2021-06-14T00:00:00",
          "2021-06-21T00:00:00",
          "2021-06-28T00:00:00",
          "2021-07-05T00:00:00",
          "2021-07-12T00:00:00",
          "2021-07-19T00:00:00",
          "2021-07-26T00:00:00",
          "2021-08-02T00:00:00",
          "2021-08-09T00:00:00",
          "2021-08-16T00:00:00",
          "2021-08-23T00:00:00",
          "2021-08-30T00:00:00",
          "2021-09-06T00:00:00",
          "2021-09-13T00:00:00",
          "2021-09-20T00:00:00",
          "2021-09-27T00:00:00",
          "2021-10-04T00:00:00",
          "2021-10-11T00:00:00",
          "2021-10-18T00:00:00",
          "2021-10-25T00:00:00",
          "2021-11-01T00:00:00",
          "2021-11-08T00:00:00",
          "2021-11-15T00:00:00",
          "2021-11-22T00:00:00",
          "2021-11-29T00:00:00",
          "2021-12-06T00:00:00",
          "2021-12-13T00:00:00",
          "2021-12-20T00:00:00",
          "2021-12-27T00:00:00",
          "2022-01-03T00:00:00",
          "2022-01-10T00:00:00",
          "2022-01-17T00:00:00",
          "2022-01-24T00:00:00",
          "2022-01-31T00:00:00",
          "2022-02-07T00:00:00",
          "2022-02-14T00:00:00",
          "2022-02-21T00:00:00",
          "2022-02-28T00:00:00",
          "2022-03-07T00:00:00",
          "2022-03-14T00:00:00",
          "2022-03-21T00:00:00",
          "2022-03-28T00:00:00",
          "2022-04-04T00:00:00",
          "2022-04-11T00:00:00",
          "2022-04-18T00:00:00",
          "2022-04-25T00:00:00",
          "2022-05-02T00:00:00",
          "2022-05-09T00:00:00",
          "2022-05-16T00:00:00",
          "2022-05-23T00:00:00",
          "2022-05-30T00:00:00",
          "2022-06-06T00:00:00",
          "2022-06-13T00:00:00",
          "2022-06-20T00:00:00",
          "2022-06-27T00:00:00",
          "2022-07-04T00:00:00",
          "2022-07-11T00:00:00",
          "2022-07-18T00:00:00",
          "2022-07-25T00:00:00",
          "2022-08-01T00:00:00",
          "2022-08-08T00:00:00",
          "2022-08-15T00:00:00",
          "2022-08-22T00:00:00",
          "2022-08-29T00:00:00",
          "2022-09-05T00:00:00",
          "2022-09-12T00:00:00",
          "2022-09-19T00:00:00",
          "2022-09-26T00:00:00",
          "2022-10-03T00:00:00",
          "2022-10-10T00:00:00",
          "2022-10-17T00:00:00",
          "2022-10-24T00:00:00",
          "2022-10-31T00:00:00",
          "2022-11-07T00:00:00",
          "2022-11-14T00:00:00",
          "2022-11-21T00:00:00",
          "2022-11-28T00:00:00",
          "2022-12-05T00:00:00",
          "2022-12-12T00:00:00",
          "2022-12-19T00:00:00",
          "2022-12-26T00:00:00",
          "2023-01-02T00:00:00",
          "2023-01-09T00:00:00",
          "2023-01-16T00:00:00",
          "2023-01-23T00:00:00",
          "2023-01-30T00:00:00",
          "2023-02-06T00:00:00",
          "2023-02-13T00:00:00",
          "2023-02-20T00:00:00",
          "2023-02-27T00:00:00",
          "2023-03-06T00:00:00",
          "2023-03-13T00:00:00",
          "2023-03-20T00:00:00",
          "2023-03-27T00:00:00",
          "2023-04-03T00:00:00",
          "2023-04-10T00:00:00",
          "2023-04-17T00:00:00",
          "2023-04-24T00:00:00",
          "2023-05-01T00:00:00",
          "2023-05-08T00:00:00",
          "2023-05-15T00:00:00",
          "2023-05-22T00:00:00",
          "2023-05-29T00:00:00",
          "2023-06-05T00:00:00",
          "2023-06-12T00:00:00",
          "2023-06-19T00:00:00",
          "2023-06-26T00:00:00",
          "2023-07-03T00:00:00",
          "2023-07-10T00:00:00",
          "2023-07-17T00:00:00",
          "2023-07-24T00:00:00",
          "2023-07-31T00:00:00",
          "2023-08-07T00:00:00",
          "2023-08-14T00:00:00",
          "2023-08-21T00:00:00",
          "2023-08-28T00:00:00",
          "2023-09-04T00:00:00",
          "2023-09-11T00:00:00",
          "2023-09-18T00:00:00",
          "2023-09-25T00:00:00",
          "2023-10-02T00:00:00",
          "2023-10-09T00:00:00",
          "2023-10-16T00:00:00",
          "2023-10-23T00:00:00",
          "2023-10-30T00:00:00",
          "2023-11-06T00:00:00",
          "2023-11-13T00:00:00",
          "2023-11-20T00:00:00",
          "2023-11-27T00:00:00",
          "2023-12-04T00:00:00",
          "2023-12-11T00:00:00",
          "2023-12-18T00:00:00",
          "2023-12-25T00:00:00",
          "2024-01-01T00:00:00",
          "2024-01-08T00:00:00",
          "2024-01-15T00:00:00",
          "2024-01-22T00:00:00",
          "2024-01-29T00:00:00",
          "2024-02-05T00:00:00",
          "2024-02-12T00:00:00",
          "2024-02-19T00:00:00",
          "2024-02-26T00:00:00",
          "2024-03-04T00:00:00",
          "2024-03-18T00:00:00",
          "2024-03-25T00:00:00",
          "2024-04-08T00:00:00",
          "2024-04-15T00:00:00",
          "2024-04-22T00:00:00"
         ],
         "xaxis": "x",
         "y": [
          -32.30484617759028,
          -30.4935509000774,
          -31.274227276139,
          -31.36785564755921,
          -31.15653313231388,
          -31.52603993649243,
          -29.55063410880783,
          -31.34436552432091,
          -29.55656612588234,
          -31.01508528331077,
          -30.0130370342855,
          -31.52932465074582,
          -27.31259694545117,
          -29.89477188350797,
          -30.71550996329313,
          -27.01164307667421,
          -29.89860788283915,
          -35.16,
          -29.20338366921092,
          -29.62734339338936,
          -28.88377202190132,
          -28.30003694815175,
          -24.79683777575984,
          -27.01035944455518,
          -28.01057159578619,
          -29.28160616411153,
          -28.92986698489392,
          -28.28679408630794,
          -29.5283831080373,
          -23.81191718033823,
          -27.58712591203685,
          -29.17327769951285,
          -25.62331126892279,
          -27.01961805092655,
          -25.5205601138647,
          -25.06267577792168,
          -27.4216335764004,
          -26.32149606697524,
          -26.29013857615644,
          -26.96991457047936,
          -26.38951793836999,
          -28.0057444611922,
          -27.47420733101328,
          -26.81183758510376,
          -27.34243031703674,
          -27.65887416419244,
          -24.86044647495645,
          -26.15508190611412,
          -25.61017907014951,
          -27.4540546948735,
          -25.04996324836988,
          -23.05310285101165,
          -23.06219043353637,
          -22.63561036664343,
          -21.68784631547351,
          -21.77386513514867,
          -21.46417261664197,
          -21.71508841943396,
          -18.10945160704558,
          -13.1690979300706,
          -9.08671225027694,
          -13.43017826514832,
          -10.80025565881309,
          -9.854462424990789,
          -8.25553379897718,
          -6.63488869538881,
          -6.661612881401799,
          1.090852040631891,
          2.396631384408602,
          -0.8295443620158759,
          1.161769357299986,
          4.203023319137813,
          10.75153447347158,
          10.40401846483982,
          13.48041571753987,
          11.36477600868943,
          21.0333480513047,
          20.91898847155076,
          14.64458997160891,
          20.45681199689454,
          20.57800930910537,
          19.73061327058608,
          18.77400532808248,
          18.65886177673875,
          17.42079691126391,
          18.99515104790115,
          15.51979768047821,
          21.0737908273586,
          19.01720654704835,
          21.55252577926557,
          22.22748304813824,
          21.37427594251033,
          17.32322659693141,
          22.71748994612641,
          23.19628384431353,
          26.45244027950815,
          26.3326437005953,
          27.89202918888577,
          31.51904905725506,
          32.22686233185023,
          32.96153173631753,
          29.53784005721702,
          41.2187025385116,
          43.45084913579714,
          47.37417673621647,
          50.34208057000174,
          47.60171489817791,
          56.44178496753604,
          53.67996895800374,
          55.13060199775655,
          56.05564916222035,
          52.83933672835673,
          49.11436149260785,
          57.47056919123448,
          52.09090909090911,
          61.39075952948782,
          50.038406374502,
          56.34602698650676,
          58.87783506248277,
          69.09736871322308,
          59.80761766930896,
          56.37871106000417,
          55.049718875502,
          49.68517347087733,
          56.79842780902928,
          53.90299332360613,
          45.15922790978048,
          57.09661491194383,
          50.20843715521834,
          49.87655364843155,
          41.04014832293949,
          41.6434602517126,
          42.880509432322,
          36.93176229954089,
          30.34226537216828,
          29.41674625915314,
          31.56031921057058,
          27.61978110162502,
          26.21015421668027,
          25.900190680491,
          25.39916307538568,
          27.08571758191047,
          24.68112592348013,
          25.75383545160562,
          26.80081461043227,
          24.56312246403541,
          19.92184187726963,
          19.77648811857893,
          20.01908211149405,
          14.55452831056529,
          3.741366624735956,
          14.58811355558555,
          12.59885823700447,
          13.54379377730936,
          13.49263468013468,
          8.578053122552161,
          9.878150808382431,
          3.604971834435465,
          4.935735597888455,
          6.986396506049974,
          5.8764263511481,
          8.81290721074339,
          5.338859312951949,
          7.289921810170522,
          2.685406432571209,
          0.3726346748556476,
          2.652200375323336,
          1.78265883510671,
          10.10686186634797,
          5.762017073858539,
          9.14222420941387,
          10.58705655336203,
          6.353409540660722,
          16.01348550879225,
          4.845424005810785,
          8.747527692008724,
          9.357717151113377,
          8.706794480622978,
          7.856541897141218,
          12.19410683197474,
          11.62949370392118,
          11.5200506228597,
          11.89205646752089,
          6.459838062208144,
          7.396929824561403,
          3.808882769472856,
          6.299629962996299,
          7.916666666666666
         ],
         "yaxis": "y"
        }
       ],
       "layout": {
        "legend": {
         "title": {
          "text": "full"
         },
         "tracegroupgap": 0
        },
        "template": {
         "data": {
          "bar": [
           {
            "error_x": {
             "color": "#2a3f5f"
            },
            "error_y": {
             "color": "#2a3f5f"
            },
            "marker": {
             "line": {
              "color": "#E5ECF6",
              "width": 0.5
             },
             "pattern": {
              "fillmode": "overlay",
              "size": 10,
              "solidity": 0.2
             }
            },
            "type": "bar"
           }
          ],
          "barpolar": [
           {
            "marker": {
             "line": {
              "color": "#E5ECF6",
              "width": 0.5
             },
             "pattern": {
              "fillmode": "overlay",
              "size": 10,
              "solidity": 0.2
             }
            },
            "type": "barpolar"
           }
          ],
          "carpet": [
           {
            "aaxis": {
             "endlinecolor": "#2a3f5f",
             "gridcolor": "white",
             "linecolor": "white",
             "minorgridcolor": "white",
             "startlinecolor": "#2a3f5f"
            },
            "baxis": {
             "endlinecolor": "#2a3f5f",
             "gridcolor": "white",
             "linecolor": "white",
             "minorgridcolor": "white",
             "startlinecolor": "#2a3f5f"
            },
            "type": "carpet"
           }
          ],
          "choropleth": [
           {
            "colorbar": {
             "outlinewidth": 0,
             "ticks": ""
            },
            "type": "choropleth"
           }
          ],
          "contour": [
           {
            "colorbar": {
             "outlinewidth": 0,
             "ticks": ""
            },
            "colorscale": [
             [
              0,
              "#0d0887"
             ],
             [
              0.1111111111111111,
              "#46039f"
             ],
             [
              0.2222222222222222,
              "#7201a8"
             ],
             [
              0.3333333333333333,
              "#9c179e"
             ],
             [
              0.4444444444444444,
              "#bd3786"
             ],
             [
              0.5555555555555556,
              "#d8576b"
             ],
             [
              0.6666666666666666,
              "#ed7953"
             ],
             [
              0.7777777777777778,
              "#fb9f3a"
             ],
             [
              0.8888888888888888,
              "#fdca26"
             ],
             [
              1,
              "#f0f921"
             ]
            ],
            "type": "contour"
           }
          ],
          "contourcarpet": [
           {
            "colorbar": {
             "outlinewidth": 0,
             "ticks": ""
            },
            "type": "contourcarpet"
           }
          ],
          "heatmap": [
           {
            "colorbar": {
             "outlinewidth": 0,
             "ticks": ""
            },
            "colorscale": [
             [
              0,
              "#0d0887"
             ],
             [
              0.1111111111111111,
              "#46039f"
             ],
             [
              0.2222222222222222,
              "#7201a8"
             ],
             [
              0.3333333333333333,
              "#9c179e"
             ],
             [
              0.4444444444444444,
              "#bd3786"
             ],
             [
              0.5555555555555556,
              "#d8576b"
             ],
             [
              0.6666666666666666,
              "#ed7953"
             ],
             [
              0.7777777777777778,
              "#fb9f3a"
             ],
             [
              0.8888888888888888,
              "#fdca26"
             ],
             [
              1,
              "#f0f921"
             ]
            ],
            "type": "heatmap"
           }
          ],
          "heatmapgl": [
           {
            "colorbar": {
             "outlinewidth": 0,
             "ticks": ""
            },
            "colorscale": [
             [
              0,
              "#0d0887"
             ],
             [
              0.1111111111111111,
              "#46039f"
             ],
             [
              0.2222222222222222,
              "#7201a8"
             ],
             [
              0.3333333333333333,
              "#9c179e"
             ],
             [
              0.4444444444444444,
              "#bd3786"
             ],
             [
              0.5555555555555556,
              "#d8576b"
             ],
             [
              0.6666666666666666,
              "#ed7953"
             ],
             [
              0.7777777777777778,
              "#fb9f3a"
             ],
             [
              0.8888888888888888,
              "#fdca26"
             ],
             [
              1,
              "#f0f921"
             ]
            ],
            "type": "heatmapgl"
           }
          ],
          "histogram": [
           {
            "marker": {
             "pattern": {
              "fillmode": "overlay",
              "size": 10,
              "solidity": 0.2
             }
            },
            "type": "histogram"
           }
          ],
          "histogram2d": [
           {
            "colorbar": {
             "outlinewidth": 0,
             "ticks": ""
            },
            "colorscale": [
             [
              0,
              "#0d0887"
             ],
             [
              0.1111111111111111,
              "#46039f"
             ],
             [
              0.2222222222222222,
              "#7201a8"
             ],
             [
              0.3333333333333333,
              "#9c179e"
             ],
             [
              0.4444444444444444,
              "#bd3786"
             ],
             [
              0.5555555555555556,
              "#d8576b"
             ],
             [
              0.6666666666666666,
              "#ed7953"
             ],
             [
              0.7777777777777778,
              "#fb9f3a"
             ],
             [
              0.8888888888888888,
              "#fdca26"
             ],
             [
              1,
              "#f0f921"
             ]
            ],
            "type": "histogram2d"
           }
          ],
          "histogram2dcontour": [
           {
            "colorbar": {
             "outlinewidth": 0,
             "ticks": ""
            },
            "colorscale": [
             [
              0,
              "#0d0887"
             ],
             [
              0.1111111111111111,
              "#46039f"
             ],
             [
              0.2222222222222222,
              "#7201a8"
             ],
             [
              0.3333333333333333,
              "#9c179e"
             ],
             [
              0.4444444444444444,
              "#bd3786"
             ],
             [
              0.5555555555555556,
              "#d8576b"
             ],
             [
              0.6666666666666666,
              "#ed7953"
             ],
             [
              0.7777777777777778,
              "#fb9f3a"
             ],
             [
              0.8888888888888888,
              "#fdca26"
             ],
             [
              1,
              "#f0f921"
             ]
            ],
            "type": "histogram2dcontour"
           }
          ],
          "mesh3d": [
           {
            "colorbar": {
             "outlinewidth": 0,
             "ticks": ""
            },
            "type": "mesh3d"
           }
          ],
          "parcoords": [
           {
            "line": {
             "colorbar": {
              "outlinewidth": 0,
              "ticks": ""
             }
            },
            "type": "parcoords"
           }
          ],
          "pie": [
           {
            "automargin": true,
            "type": "pie"
           }
          ],
          "scatter": [
           {
            "fillpattern": {
             "fillmode": "overlay",
             "size": 10,
             "solidity": 0.2
            },
            "type": "scatter"
           }
          ],
          "scatter3d": [
           {
            "line": {
             "colorbar": {
              "outlinewidth": 0,
              "ticks": ""
             }
            },
            "marker": {
             "colorbar": {
              "outlinewidth": 0,
              "ticks": ""
             }
            },
            "type": "scatter3d"
           }
          ],
          "scattercarpet": [
           {
            "marker": {
             "colorbar": {
              "outlinewidth": 0,
              "ticks": ""
             }
            },
            "type": "scattercarpet"
           }
          ],
          "scattergeo": [
           {
            "marker": {
             "colorbar": {
              "outlinewidth": 0,
              "ticks": ""
             }
            },
            "type": "scattergeo"
           }
          ],
          "scattergl": [
           {
            "marker": {
             "colorbar": {
              "outlinewidth": 0,
              "ticks": ""
             }
            },
            "type": "scattergl"
           }
          ],
          "scattermapbox": [
           {
            "marker": {
             "colorbar": {
              "outlinewidth": 0,
              "ticks": ""
             }
            },
            "type": "scattermapbox"
           }
          ],
          "scatterpolar": [
           {
            "marker": {
             "colorbar": {
              "outlinewidth": 0,
              "ticks": ""
             }
            },
            "type": "scatterpolar"
           }
          ],
          "scatterpolargl": [
           {
            "marker": {
             "colorbar": {
              "outlinewidth": 0,
              "ticks": ""
             }
            },
            "type": "scatterpolargl"
           }
          ],
          "scatterternary": [
           {
            "marker": {
             "colorbar": {
              "outlinewidth": 0,
              "ticks": ""
             }
            },
            "type": "scatterternary"
           }
          ],
          "surface": [
           {
            "colorbar": {
             "outlinewidth": 0,
             "ticks": ""
            },
            "colorscale": [
             [
              0,
              "#0d0887"
             ],
             [
              0.1111111111111111,
              "#46039f"
             ],
             [
              0.2222222222222222,
              "#7201a8"
             ],
             [
              0.3333333333333333,
              "#9c179e"
             ],
             [
              0.4444444444444444,
              "#bd3786"
             ],
             [
              0.5555555555555556,
              "#d8576b"
             ],
             [
              0.6666666666666666,
              "#ed7953"
             ],
             [
              0.7777777777777778,
              "#fb9f3a"
             ],
             [
              0.8888888888888888,
              "#fdca26"
             ],
             [
              1,
              "#f0f921"
             ]
            ],
            "type": "surface"
           }
          ],
          "table": [
           {
            "cells": {
             "fill": {
              "color": "#EBF0F8"
             },
             "line": {
              "color": "white"
             }
            },
            "header": {
             "fill": {
              "color": "#C8D4E3"
             },
             "line": {
              "color": "white"
             }
            },
            "type": "table"
           }
          ]
         },
         "layout": {
          "annotationdefaults": {
           "arrowcolor": "#2a3f5f",
           "arrowhead": 0,
           "arrowwidth": 1
          },
          "autotypenumbers": "strict",
          "coloraxis": {
           "colorbar": {
            "outlinewidth": 0,
            "ticks": ""
           }
          },
          "colorscale": {
           "diverging": [
            [
             0,
             "#8e0152"
            ],
            [
             0.1,
             "#c51b7d"
            ],
            [
             0.2,
             "#de77ae"
            ],
            [
             0.3,
             "#f1b6da"
            ],
            [
             0.4,
             "#fde0ef"
            ],
            [
             0.5,
             "#f7f7f7"
            ],
            [
             0.6,
             "#e6f5d0"
            ],
            [
             0.7,
             "#b8e186"
            ],
            [
             0.8,
             "#7fbc41"
            ],
            [
             0.9,
             "#4d9221"
            ],
            [
             1,
             "#276419"
            ]
           ],
           "sequential": [
            [
             0,
             "#0d0887"
            ],
            [
             0.1111111111111111,
             "#46039f"
            ],
            [
             0.2222222222222222,
             "#7201a8"
            ],
            [
             0.3333333333333333,
             "#9c179e"
            ],
            [
             0.4444444444444444,
             "#bd3786"
            ],
            [
             0.5555555555555556,
             "#d8576b"
            ],
            [
             0.6666666666666666,
             "#ed7953"
            ],
            [
             0.7777777777777778,
             "#fb9f3a"
            ],
            [
             0.8888888888888888,
             "#fdca26"
            ],
            [
             1,
             "#f0f921"
            ]
           ],
           "sequentialminus": [
            [
             0,
             "#0d0887"
            ],
            [
             0.1111111111111111,
             "#46039f"
            ],
            [
             0.2222222222222222,
             "#7201a8"
            ],
            [
             0.3333333333333333,
             "#9c179e"
            ],
            [
             0.4444444444444444,
             "#bd3786"
            ],
            [
             0.5555555555555556,
             "#d8576b"
            ],
            [
             0.6666666666666666,
             "#ed7953"
            ],
            [
             0.7777777777777778,
             "#fb9f3a"
            ],
            [
             0.8888888888888888,
             "#fdca26"
            ],
            [
             1,
             "#f0f921"
            ]
           ]
          },
          "colorway": [
           "#636efa",
           "#EF553B",
           "#00cc96",
           "#ab63fa",
           "#FFA15A",
           "#19d3f3",
           "#FF6692",
           "#B6E880",
           "#FF97FF",
           "#FECB52"
          ],
          "font": {
           "color": "#2a3f5f"
          },
          "geo": {
           "bgcolor": "white",
           "lakecolor": "white",
           "landcolor": "#E5ECF6",
           "showlakes": true,
           "showland": true,
           "subunitcolor": "white"
          },
          "hoverlabel": {
           "align": "left"
          },
          "hovermode": "closest",
          "mapbox": {
           "style": "light"
          },
          "paper_bgcolor": "white",
          "plot_bgcolor": "#E5ECF6",
          "polar": {
           "angularaxis": {
            "gridcolor": "white",
            "linecolor": "white",
            "ticks": ""
           },
           "bgcolor": "#E5ECF6",
           "radialaxis": {
            "gridcolor": "white",
            "linecolor": "white",
            "ticks": ""
           }
          },
          "scene": {
           "xaxis": {
            "backgroundcolor": "#E5ECF6",
            "gridcolor": "white",
            "gridwidth": 2,
            "linecolor": "white",
            "showbackground": true,
            "ticks": "",
            "zerolinecolor": "white"
           },
           "yaxis": {
            "backgroundcolor": "#E5ECF6",
            "gridcolor": "white",
            "gridwidth": 2,
            "linecolor": "white",
            "showbackground": true,
            "ticks": "",
            "zerolinecolor": "white"
           },
           "zaxis": {
            "backgroundcolor": "#E5ECF6",
            "gridcolor": "white",
            "gridwidth": 2,
            "linecolor": "white",
            "showbackground": true,
            "ticks": "",
            "zerolinecolor": "white"
           }
          },
          "shapedefaults": {
           "line": {
            "color": "#2a3f5f"
           }
          },
          "ternary": {
           "aaxis": {
            "gridcolor": "white",
            "linecolor": "white",
            "ticks": ""
           },
           "baxis": {
            "gridcolor": "white",
            "linecolor": "white",
            "ticks": ""
           },
           "bgcolor": "#E5ECF6",
           "caxis": {
            "gridcolor": "white",
            "linecolor": "white",
            "ticks": ""
           }
          },
          "title": {
           "x": 0.05
          },
          "xaxis": {
           "automargin": true,
           "gridcolor": "white",
           "linecolor": "white",
           "ticks": "",
           "title": {
            "standoff": 15
           },
           "zerolinecolor": "white",
           "zerolinewidth": 2
          },
          "yaxis": {
           "automargin": true,
           "gridcolor": "white",
           "linecolor": "white",
           "ticks": "",
           "title": {
            "standoff": 15
           },
           "zerolinecolor": "white",
           "zerolinewidth": 2
          }
         }
        },
        "title": {
         "text": "Weekly Prices for ['20', '21', '22', '23'] by Category"
        },
        "xaxis": {
         "anchor": "y",
         "domain": [
          0,
          1
         ],
         "title": {
          "text": "date"
         }
        },
        "yaxis": {
         "anchor": "x",
         "domain": [
          0,
          1
         ],
         "title": {
          "text": "wPreis"
         }
        }
       }
      }
     },
     "metadata": {},
     "output_type": "display_data"
    },
    {
     "data": {
      "application/vnd.plotly.v1+json": {
       "config": {
        "plotlyServerURL": "https://plot.ly"
       },
       "data": [
        {
         "hovertemplate": "full=A2 & A3 -  geschreddert<br>date=%{x}<br>wPreis=%{y}<extra></extra>",
         "legendgroup": "A2 & A3 -  geschreddert",
         "line": {
          "color": "#636efa",
          "dash": "solid"
         },
         "marker": {
          "symbol": "circle"
         },
         "mode": "lines",
         "name": "A2 & A3 -  geschreddert",
         "orientation": "v",
         "showlegend": true,
         "type": "scatter",
         "x": [
          "2020-09-14T00:00:00",
          "2020-09-21T00:00:00",
          "2020-09-28T00:00:00",
          "2020-10-05T00:00:00",
          "2020-10-12T00:00:00",
          "2020-10-19T00:00:00",
          "2020-10-26T00:00:00",
          "2020-11-02T00:00:00",
          "2020-11-09T00:00:00",
          "2020-11-16T00:00:00",
          "2020-11-23T00:00:00",
          "2020-11-30T00:00:00",
          "2020-12-07T00:00:00",
          "2020-12-14T00:00:00",
          "2020-12-21T00:00:00",
          "2020-12-28T00:00:00",
          "2021-01-04T00:00:00",
          "2021-01-11T00:00:00",
          "2021-01-25T00:00:00",
          "2021-02-08T00:00:00",
          "2021-02-22T00:00:00",
          "2021-03-22T00:00:00",
          "2021-03-29T00:00:00",
          "2021-04-05T00:00:00",
          "2021-04-12T00:00:00",
          "2021-04-19T00:00:00",
          "2021-04-26T00:00:00",
          "2021-05-03T00:00:00",
          "2021-05-17T00:00:00",
          "2021-05-24T00:00:00",
          "2021-05-31T00:00:00",
          "2021-06-07T00:00:00",
          "2021-06-14T00:00:00",
          "2021-06-28T00:00:00",
          "2021-07-05T00:00:00",
          "2021-07-26T00:00:00",
          "2021-08-09T00:00:00",
          "2021-08-16T00:00:00",
          "2021-08-23T00:00:00",
          "2021-08-30T00:00:00",
          "2021-09-06T00:00:00",
          "2021-09-13T00:00:00",
          "2021-09-20T00:00:00",
          "2021-09-27T00:00:00",
          "2021-10-04T00:00:00",
          "2021-10-18T00:00:00",
          "2021-10-25T00:00:00",
          "2021-11-01T00:00:00",
          "2021-11-08T00:00:00",
          "2021-11-15T00:00:00",
          "2021-11-22T00:00:00",
          "2021-12-06T00:00:00",
          "2021-12-13T00:00:00",
          "2021-12-20T00:00:00",
          "2021-12-27T00:00:00",
          "2022-01-31T00:00:00",
          "2022-02-21T00:00:00",
          "2022-02-28T00:00:00",
          "2022-03-07T00:00:00",
          "2022-03-14T00:00:00",
          "2022-03-21T00:00:00",
          "2022-03-28T00:00:00",
          "2022-04-04T00:00:00",
          "2022-04-11T00:00:00",
          "2022-04-18T00:00:00",
          "2022-04-25T00:00:00",
          "2022-05-02T00:00:00",
          "2022-05-09T00:00:00",
          "2022-05-16T00:00:00",
          "2022-05-23T00:00:00",
          "2022-05-30T00:00:00",
          "2022-06-06T00:00:00",
          "2022-06-13T00:00:00",
          "2022-06-20T00:00:00",
          "2022-06-27T00:00:00",
          "2022-07-04T00:00:00",
          "2022-07-11T00:00:00",
          "2022-07-18T00:00:00",
          "2022-07-25T00:00:00",
          "2022-08-01T00:00:00",
          "2022-08-08T00:00:00",
          "2022-08-15T00:00:00",
          "2022-08-22T00:00:00",
          "2022-08-29T00:00:00",
          "2022-09-05T00:00:00",
          "2022-09-12T00:00:00",
          "2022-09-19T00:00:00",
          "2022-09-26T00:00:00",
          "2022-10-03T00:00:00",
          "2022-10-10T00:00:00",
          "2022-10-17T00:00:00",
          "2022-10-24T00:00:00",
          "2022-10-31T00:00:00",
          "2022-11-07T00:00:00",
          "2022-11-14T00:00:00",
          "2022-11-21T00:00:00",
          "2022-11-28T00:00:00",
          "2023-01-09T00:00:00",
          "2023-01-16T00:00:00",
          "2023-01-23T00:00:00",
          "2023-01-30T00:00:00",
          "2023-02-06T00:00:00",
          "2023-02-13T00:00:00",
          "2023-02-20T00:00:00",
          "2023-02-27T00:00:00",
          "2023-03-06T00:00:00",
          "2023-03-13T00:00:00",
          "2023-03-20T00:00:00",
          "2023-03-27T00:00:00",
          "2023-04-17T00:00:00",
          "2023-05-29T00:00:00",
          "2023-06-05T00:00:00",
          "2023-06-12T00:00:00",
          "2023-06-19T00:00:00",
          "2023-06-26T00:00:00",
          "2023-07-03T00:00:00",
          "2023-07-10T00:00:00",
          "2023-07-17T00:00:00",
          "2023-07-31T00:00:00",
          "2023-08-07T00:00:00",
          "2023-08-21T00:00:00",
          "2023-08-28T00:00:00",
          "2023-09-04T00:00:00",
          "2023-09-11T00:00:00",
          "2023-09-18T00:00:00",
          "2023-09-25T00:00:00",
          "2023-10-02T00:00:00",
          "2023-10-09T00:00:00",
          "2023-10-16T00:00:00",
          "2023-10-30T00:00:00",
          "2023-11-06T00:00:00",
          "2023-11-13T00:00:00",
          "2023-11-20T00:00:00",
          "2023-12-11T00:00:00",
          "2023-12-25T00:00:00",
          "2024-01-01T00:00:00",
          "2024-01-08T00:00:00",
          "2024-01-15T00:00:00",
          "2024-01-22T00:00:00",
          "2024-01-29T00:00:00",
          "2024-02-05T00:00:00",
          "2024-02-12T00:00:00",
          "2024-02-19T00:00:00",
          "2024-02-26T00:00:00",
          "2024-03-04T00:00:00",
          "2024-03-11T00:00:00",
          "2024-03-18T00:00:00",
          "2024-03-25T00:00:00",
          "2024-04-01T00:00:00",
          "2024-04-08T00:00:00",
          "2024-04-15T00:00:00",
          "2024-04-22T00:00:00"
         ],
         "xaxis": "x",
         "y": [
          -29.53299671207139,
          -22.31382711921083,
          -10.9025641025641,
          -36.00949190396427,
          -27.37382592360677,
          -19.57010396178702,
          -29.94322277357013,
          -24.16249319542733,
          -27.25392737574041,
          -30.43723582690372,
          -26.15707281641547,
          -19.93537703150273,
          -26.18013016845329,
          -27.53072503817904,
          -20.40651617130264,
          -26.32452597713738,
          -24.99999999999999,
          -24.50984739793922,
          -14.3100475101179,
          -4.909005186232909,
          -11.59778384189201,
          -18.97460192130544,
          -10.61526621423074,
          -19.18158032443747,
          -15.58493684334789,
          -20.0908293585819,
          -17.22134595162987,
          -13.66787242182881,
          -12.33510389199452,
          -15.13675504743371,
          -11.85361216730038,
          -15,
          -15,
          -15,
          -12.41842610364683,
          -15,
          -15,
          -12.26400613967767,
          -7.924528301886792,
          -5.201086956521739,
          -15,
          -15,
          -15,
          -6.531852472757754,
          -14.31491159790949,
          -10.96145454545455,
          -12.70103092783505,
          -4.407671155608826,
          -2.884879212645392,
          4.865210843373493,
          -2.509554140127388,
          6,
          8.693543240080844,
          14.93537859007833,
          31.62043139604554,
          23.51875196974472,
          33.60558307068888,
          27.78261367540946,
          38.20630749014455,
          44.01017277571452,
          43.88698336477447,
          32.31765947467167,
          40.16694831303538,
          38.42839901348586,
          50.80902777777779,
          43.68667127370102,
          46.91125954198474,
          43.76725243231013,
          49.61725663716815,
          44.44360568383659,
          44.91263233631413,
          40.96063580115212,
          40.43896149563383,
          25.29369573423934,
          33.93675333801828,
          56.35074456942485,
          58.00000000000001,
          35.39025840988698,
          50.09893669728267,
          67.33590733590735,
          64.87694974003465,
          53.70785345771016,
          58,
          58.8675356921167,
          48.08144336446223,
          69.09184726522186,
          62.67455848477091,
          81.03640256959315,
          85.00000000000001,
          64.58100814198153,
          88.59282897678767,
          85,
          71.94684755538078,
          83.26493128127174,
          62.71034482758622,
          82.96602525556223,
          52.43202677896555,
          45.88926553672317,
          70.22842164388692,
          70.96618856694084,
          67.4331797235023,
          52.81361256544503,
          47.51359941323879,
          53.30731962452171,
          38.29473529267455,
          51.5026071473992,
          24.67771781033154,
          54.06822262118492,
          54.16424778761061,
          21.48741418764303,
          40.4671310404876,
          40.00065104166667,
          24.9751126458079,
          35.35471920023522,
          33.64011845386534,
          21.87883320867614,
          36.53225806451613,
          16.58978759922763,
          -4.074476759989127,
          9.744320217874293,
          -1.135715483979197,
          9.082658022690437,
          10.05548705302096,
          9.636963696369637,
          16.4689880304679,
          1.95498603581403,
          -14.45533358462118,
          3.823610346725371,
          10.47927461139896,
          -0.3879403501188694,
          -0.4121959942775399,
          9.353647276084951,
          3.678636089318044,
          18.43356643356643,
          38,
          38,
          38,
          38,
          27.76104023552502,
          24.3212545197296,
          40,
          40.00000000000001,
          23.02047598627788,
          30.82585278276481,
          35,
          34.99999999999999,
          21.7320749882564,
          27,
          26.15474452554744,
          17.83654195423174,
          3.200000000000001,
          7.600000000000001
         ],
         "yaxis": "y"
        },
        {
         "hovertemplate": "full=A1 & A2 -  geschreddert<br>date=%{x}<br>wPreis=%{y}<extra></extra>",
         "legendgroup": "A1 & A2 -  geschreddert",
         "line": {
          "color": "#EF553B",
          "dash": "solid"
         },
         "marker": {
          "symbol": "circle"
         },
         "mode": "lines",
         "name": "A1 & A2 -  geschreddert",
         "orientation": "v",
         "showlegend": true,
         "type": "scatter",
         "x": [
          "2020-09-14T00:00:00",
          "2020-09-21T00:00:00",
          "2020-09-28T00:00:00",
          "2020-10-05T00:00:00",
          "2020-10-12T00:00:00",
          "2020-10-19T00:00:00",
          "2020-10-26T00:00:00",
          "2020-11-02T00:00:00",
          "2020-11-09T00:00:00",
          "2020-11-16T00:00:00",
          "2020-11-23T00:00:00",
          "2020-11-30T00:00:00",
          "2020-12-07T00:00:00",
          "2020-12-14T00:00:00",
          "2020-12-21T00:00:00",
          "2020-12-28T00:00:00",
          "2021-01-04T00:00:00",
          "2021-01-04T00:00:00",
          "2021-01-11T00:00:00",
          "2021-01-18T00:00:00",
          "2021-01-25T00:00:00",
          "2021-02-01T00:00:00",
          "2021-02-08T00:00:00",
          "2021-02-15T00:00:00",
          "2021-02-22T00:00:00",
          "2021-03-01T00:00:00",
          "2021-03-08T00:00:00",
          "2021-03-22T00:00:00",
          "2021-03-29T00:00:00",
          "2021-04-05T00:00:00",
          "2021-04-12T00:00:00",
          "2021-04-19T00:00:00",
          "2021-04-26T00:00:00",
          "2021-05-03T00:00:00",
          "2021-05-10T00:00:00",
          "2021-05-17T00:00:00",
          "2021-05-24T00:00:00",
          "2021-05-31T00:00:00",
          "2021-06-07T00:00:00",
          "2021-06-14T00:00:00",
          "2021-06-28T00:00:00",
          "2021-07-05T00:00:00",
          "2021-07-12T00:00:00",
          "2021-07-19T00:00:00",
          "2021-07-26T00:00:00",
          "2021-08-02T00:00:00",
          "2021-08-09T00:00:00",
          "2021-08-16T00:00:00",
          "2021-08-23T00:00:00",
          "2021-08-30T00:00:00",
          "2021-09-06T00:00:00",
          "2021-09-13T00:00:00",
          "2021-09-20T00:00:00",
          "2021-09-27T00:00:00",
          "2021-10-04T00:00:00",
          "2021-10-11T00:00:00",
          "2021-10-18T00:00:00",
          "2021-10-25T00:00:00",
          "2021-11-01T00:00:00",
          "2021-11-08T00:00:00",
          "2021-11-15T00:00:00",
          "2021-11-22T00:00:00",
          "2021-11-29T00:00:00",
          "2021-12-06T00:00:00",
          "2021-12-13T00:00:00",
          "2021-12-20T00:00:00",
          "2021-12-27T00:00:00",
          "2022-01-03T00:00:00",
          "2022-01-10T00:00:00",
          "2022-01-17T00:00:00",
          "2022-01-24T00:00:00",
          "2022-01-31T00:00:00",
          "2022-02-07T00:00:00",
          "2022-02-14T00:00:00",
          "2022-02-21T00:00:00",
          "2022-02-28T00:00:00",
          "2022-03-07T00:00:00",
          "2022-03-14T00:00:00",
          "2022-03-21T00:00:00",
          "2022-03-28T00:00:00",
          "2022-04-04T00:00:00",
          "2022-04-11T00:00:00",
          "2022-04-18T00:00:00",
          "2022-04-25T00:00:00",
          "2022-05-02T00:00:00",
          "2022-05-09T00:00:00",
          "2022-05-16T00:00:00",
          "2022-05-23T00:00:00",
          "2022-05-30T00:00:00",
          "2022-06-06T00:00:00",
          "2022-06-13T00:00:00",
          "2022-06-20T00:00:00",
          "2022-06-27T00:00:00",
          "2022-07-04T00:00:00",
          "2022-07-11T00:00:00",
          "2022-07-18T00:00:00",
          "2022-07-25T00:00:00",
          "2022-08-01T00:00:00",
          "2022-08-08T00:00:00",
          "2022-08-15T00:00:00",
          "2022-08-22T00:00:00",
          "2022-08-29T00:00:00",
          "2022-09-05T00:00:00",
          "2022-09-12T00:00:00",
          "2022-09-19T00:00:00",
          "2022-09-26T00:00:00",
          "2022-10-03T00:00:00",
          "2022-10-10T00:00:00",
          "2022-10-17T00:00:00",
          "2022-10-24T00:00:00",
          "2022-10-31T00:00:00",
          "2022-11-07T00:00:00",
          "2022-11-14T00:00:00",
          "2022-11-21T00:00:00",
          "2022-11-28T00:00:00",
          "2023-01-02T00:00:00",
          "2023-01-09T00:00:00",
          "2023-01-16T00:00:00",
          "2023-01-23T00:00:00",
          "2023-01-30T00:00:00",
          "2023-02-06T00:00:00",
          "2023-02-13T00:00:00",
          "2023-02-20T00:00:00",
          "2023-02-27T00:00:00",
          "2023-03-06T00:00:00",
          "2023-03-13T00:00:00",
          "2023-03-20T00:00:00",
          "2023-03-27T00:00:00",
          "2023-04-03T00:00:00",
          "2023-04-17T00:00:00",
          "2023-05-29T00:00:00",
          "2023-06-05T00:00:00",
          "2023-06-12T00:00:00",
          "2023-06-19T00:00:00",
          "2023-06-26T00:00:00",
          "2023-07-03T00:00:00",
          "2023-07-10T00:00:00",
          "2023-07-17T00:00:00",
          "2023-07-24T00:00:00",
          "2023-07-31T00:00:00",
          "2023-08-07T00:00:00",
          "2023-08-21T00:00:00",
          "2023-08-28T00:00:00",
          "2023-09-04T00:00:00",
          "2023-09-11T00:00:00",
          "2023-09-18T00:00:00",
          "2023-09-25T00:00:00",
          "2023-10-02T00:00:00",
          "2023-10-09T00:00:00",
          "2023-10-16T00:00:00",
          "2023-10-30T00:00:00",
          "2023-11-06T00:00:00",
          "2023-11-13T00:00:00",
          "2023-11-20T00:00:00",
          "2023-12-11T00:00:00",
          "2023-12-25T00:00:00",
          "2024-01-01T00:00:00",
          "2024-01-08T00:00:00",
          "2024-01-15T00:00:00",
          "2024-01-22T00:00:00",
          "2024-01-29T00:00:00",
          "2024-02-05T00:00:00",
          "2024-02-12T00:00:00",
          "2024-02-19T00:00:00",
          "2024-02-26T00:00:00",
          "2024-03-04T00:00:00",
          "2024-03-11T00:00:00",
          "2024-03-18T00:00:00",
          "2024-03-25T00:00:00",
          "2024-04-01T00:00:00",
          "2024-04-08T00:00:00",
          "2024-04-15T00:00:00",
          "2024-04-22T00:00:00"
         ],
         "xaxis": "x",
         "y": [
          -15.63329238329239,
          -18.20101537782356,
          -1.195535345183961,
          -9.591911164335094,
          -7.336622089217246,
          -2.671019129072273,
          -16.94747656813266,
          -9.018605917589401,
          -11.31113220187584,
          -5.244829472916287,
          -2.861800693118325,
          -10.98830117542692,
          -2.384321361603923,
          -8.237035106660212,
          -8.335376565128014,
          -10.34794236219215,
          -11.06318874560375,
          0.2387832699619765,
          -11.23194867333623,
          4.682497960663465,
          7.12490357799798,
          5.974162469892709,
          0,
          2.112113754443532,
          1.61587846116148,
          -11.20465406191564,
          9.724886374176792,
          -2.156422709763859,
          -1.647741311704357,
          -0.605920577617328,
          -2.031826097399867,
          -6.954811698916215,
          -5.623147047166072,
          -8.594898557195885,
          12,
          -6.813637285782926,
          -15,
          -11.02021731385821,
          -1.737620276930297,
          1.22911051212938,
          3.809172172561213,
          6.613953488372093,
          11.83336570207807,
          15,
          6.75254730713246,
          5.271470878578479,
          -8.836964160224877,
          -1.383606557377049,
          -1.398264733890593,
          6.832564271588663,
          -3.355339805825243,
          -15,
          -9.900562851782365,
          -6.531852472757754,
          1.781225583212412,
          9.438515356338193,
          6.013675881605939,
          12.72650697551988,
          0.5850802002885512,
          -2.884879212645392,
          11.03226682600902,
          20.59853270837579,
          26.51569506726457,
          26.83066118987678,
          15.83188652922028,
          22.26240546980213,
          37.38464279351506,
          44.99999999999999,
          41.37569584270994,
          41.22349910838121,
          45,
          31.0327868852459,
          45,
          46.78446601941747,
          40.42352345473615,
          27.78261367540946,
          40.03957783641161,
          44.49712879409352,
          46.34904212001869,
          35.95643613093773,
          42.54586819316015,
          43.40273952480629,
          52.07127691841067,
          45.92055321582694,
          49.69251443625429,
          44.39813496583142,
          49.61725663716815,
          45.77994104871238,
          48.64316481523464,
          45.21851425173733,
          42.81007751937984,
          35.19221264210006,
          33.93675333801828,
          58.6769792627265,
          59.10896033482354,
          46.01106213444096,
          53.51181171769405,
          67.02112999540654,
          64.87694974003465,
          55.31515720783074,
          58,
          58.8675356921167,
          48.08144336446223,
          69.09184726522186,
          62.67455848477091,
          81.03640256959315,
          85.00000000000001,
          64.58100814198153,
          86.98000302984396,
          85,
          73.06700232378,
          83.26493128127174,
          68.54004881295762,
          82.96602525556223,
          55.47450608660945,
          92.5,
          41.98617966436328,
          70.22842164388692,
          70.96618856694084,
          67.4331797235023,
          52.81361256544503,
          47.51359941323879,
          53.30731962452171,
          38.29473529267455,
          51.5026071473992,
          24.67771781033154,
          62.28718327844612,
          72.03929718496127,
          92.50000000000001,
          21.48741418764303,
          40.4671310404876,
          40.00065104166667,
          24.9751126458079,
          46.03151097203674,
          53.60318898864312,
          30.71539010466223,
          29.44289693593315,
          48.55153812509112,
          33.375,
          26.95641658201519,
          9.744320217874293,
          -1.135715483979197,
          9.082658022690437,
          10.05548705302096,
          9.636963696369637,
          16.4689880304679,
          1.95498603581403,
          -13.65425370874962,
          3.823610346725371,
          10.47927461139896,
          -0.3879403501188694,
          -0.4121959942775399,
          9.353647276084951,
          3.678636089318044,
          18.43356643356643,
          38,
          38,
          38,
          38,
          27.76104023552502,
          24.3212545197296,
          40,
          40.00000000000001,
          24.47443689667501,
          35,
          37.68741159830269,
          34.99999999999999,
          31.32849051957646,
          27,
          26.15474452554744,
          17.83654195423174,
          12,
          12
         ],
         "yaxis": "y"
        },
        {
         "hovertemplate": "full=A2 -  geschreddert<br>date=%{x}<br>wPreis=%{y}<extra></extra>",
         "legendgroup": "A2 -  geschreddert",
         "line": {
          "color": "#00cc96",
          "dash": "solid"
         },
         "marker": {
          "symbol": "circle"
         },
         "mode": "lines",
         "name": "A2 -  geschreddert",
         "orientation": "v",
         "showlegend": true,
         "type": "scatter",
         "x": [
          "2020-09-14T00:00:00",
          "2020-09-21T00:00:00",
          "2020-09-28T00:00:00",
          "2020-10-05T00:00:00",
          "2020-10-12T00:00:00",
          "2020-10-19T00:00:00",
          "2020-10-26T00:00:00",
          "2020-11-02T00:00:00",
          "2020-11-09T00:00:00",
          "2020-11-16T00:00:00",
          "2020-11-23T00:00:00",
          "2020-11-30T00:00:00",
          "2020-12-07T00:00:00",
          "2020-12-14T00:00:00",
          "2020-12-21T00:00:00",
          "2020-12-28T00:00:00",
          "2021-01-04T00:00:00",
          "2021-01-11T00:00:00",
          "2021-01-25T00:00:00",
          "2021-02-08T00:00:00",
          "2021-02-22T00:00:00",
          "2021-03-22T00:00:00",
          "2021-03-29T00:00:00",
          "2021-04-05T00:00:00",
          "2021-04-12T00:00:00",
          "2021-04-19T00:00:00",
          "2021-04-26T00:00:00",
          "2021-05-03T00:00:00",
          "2021-05-17T00:00:00",
          "2021-05-24T00:00:00",
          "2021-05-31T00:00:00",
          "2021-06-07T00:00:00",
          "2021-06-28T00:00:00",
          "2021-07-05T00:00:00",
          "2021-07-26T00:00:00",
          "2021-08-09T00:00:00",
          "2021-08-16T00:00:00",
          "2021-08-23T00:00:00",
          "2021-08-30T00:00:00",
          "2021-09-06T00:00:00",
          "2021-09-13T00:00:00",
          "2021-09-20T00:00:00",
          "2021-09-27T00:00:00",
          "2021-10-04T00:00:00",
          "2021-10-18T00:00:00",
          "2021-11-01T00:00:00",
          "2021-11-08T00:00:00",
          "2021-11-15T00:00:00",
          "2021-11-22T00:00:00",
          "2021-12-06T00:00:00",
          "2021-12-13T00:00:00",
          "2021-12-20T00:00:00",
          "2021-12-27T00:00:00",
          "2022-01-31T00:00:00",
          "2022-02-21T00:00:00",
          "2022-02-28T00:00:00",
          "2022-03-07T00:00:00",
          "2022-03-14T00:00:00",
          "2022-03-21T00:00:00",
          "2022-03-28T00:00:00",
          "2022-04-04T00:00:00",
          "2022-04-11T00:00:00",
          "2022-04-18T00:00:00",
          "2022-04-25T00:00:00",
          "2022-05-02T00:00:00",
          "2022-05-09T00:00:00",
          "2022-05-16T00:00:00",
          "2022-05-23T00:00:00",
          "2022-05-30T00:00:00",
          "2022-06-06T00:00:00",
          "2022-06-13T00:00:00",
          "2022-06-20T00:00:00",
          "2022-06-27T00:00:00",
          "2022-07-04T00:00:00",
          "2022-07-11T00:00:00",
          "2022-07-18T00:00:00",
          "2022-07-25T00:00:00",
          "2022-08-01T00:00:00",
          "2022-08-08T00:00:00",
          "2022-08-15T00:00:00",
          "2022-08-22T00:00:00",
          "2022-08-29T00:00:00",
          "2022-09-05T00:00:00",
          "2022-09-12T00:00:00",
          "2022-09-19T00:00:00",
          "2022-09-26T00:00:00",
          "2022-10-03T00:00:00",
          "2022-10-10T00:00:00",
          "2022-10-17T00:00:00",
          "2022-10-24T00:00:00",
          "2022-10-31T00:00:00",
          "2022-11-07T00:00:00",
          "2022-11-14T00:00:00",
          "2022-11-21T00:00:00",
          "2022-11-28T00:00:00",
          "2023-01-09T00:00:00",
          "2023-01-16T00:00:00",
          "2023-01-23T00:00:00",
          "2023-01-30T00:00:00",
          "2023-02-06T00:00:00",
          "2023-02-13T00:00:00",
          "2023-02-20T00:00:00",
          "2023-02-27T00:00:00",
          "2023-03-06T00:00:00",
          "2023-03-13T00:00:00",
          "2023-03-20T00:00:00",
          "2023-03-27T00:00:00",
          "2023-04-17T00:00:00",
          "2023-05-29T00:00:00",
          "2023-06-05T00:00:00",
          "2023-06-12T00:00:00",
          "2023-06-19T00:00:00",
          "2023-06-26T00:00:00",
          "2023-07-03T00:00:00",
          "2023-07-10T00:00:00",
          "2023-07-17T00:00:00",
          "2023-07-31T00:00:00",
          "2023-08-07T00:00:00",
          "2023-08-21T00:00:00",
          "2023-08-28T00:00:00",
          "2023-09-04T00:00:00",
          "2023-09-11T00:00:00",
          "2023-09-18T00:00:00",
          "2023-09-25T00:00:00",
          "2023-10-02T00:00:00",
          "2023-10-09T00:00:00",
          "2023-10-16T00:00:00",
          "2023-10-30T00:00:00",
          "2023-11-06T00:00:00",
          "2023-11-13T00:00:00",
          "2023-11-20T00:00:00",
          "2023-12-11T00:00:00",
          "2023-12-25T00:00:00",
          "2024-01-01T00:00:00",
          "2024-01-08T00:00:00",
          "2024-01-15T00:00:00",
          "2024-01-22T00:00:00",
          "2024-01-29T00:00:00",
          "2024-02-05T00:00:00",
          "2024-02-12T00:00:00",
          "2024-02-19T00:00:00",
          "2024-02-26T00:00:00",
          "2024-03-04T00:00:00",
          "2024-03-11T00:00:00",
          "2024-03-18T00:00:00",
          "2024-03-25T00:00:00",
          "2024-04-01T00:00:00",
          "2024-04-08T00:00:00",
          "2024-04-15T00:00:00",
          "2024-04-22T00:00:00"
         ],
         "xaxis": "x",
         "y": [
          -21.75789617299952,
          -22.31382711921083,
          -10.9025641025641,
          -33.79421128798842,
          -27.37382592360677,
          -19.57010396178702,
          -29.94322277357013,
          -21.8225500219074,
          -27.18440315315315,
          -31.32939235633764,
          -26.15707281641547,
          -19.93537703150273,
          -26.18013016845329,
          -27.53072503817904,
          -20.40651617130264,
          -26.32452597713738,
          -25,
          -27.91051746684102,
          -12.7843137254902,
          0,
          -10.49580634886931,
          -20,
          -9.46852555978031,
          -20,
          -15.58493684334789,
          -20.85186379620894,
          -17.22134595162987,
          -13.66787242182881,
          -11.12020994620129,
          -15,
          -11.02021731385821,
          -15,
          -15,
          -11.73631706659477,
          -15,
          -15,
          -10.24587403166049,
          -10.27397260273973,
          -5.201086956521739,
          -15,
          -15,
          -15,
          -6.531852472757754,
          -14.31491159790949,
          -9.735985533453889,
          -0.8759083800938277,
          -2.884879212645392,
          4.865210843373493,
          -2.509554140127388,
          6,
          8.693543240080844,
          14.93537859007833,
          31.62043139604554,
          23.51875196974472,
          33.60558307068888,
          27.78261367540946,
          38.20630749014455,
          44.01017277571452,
          43.88698336477447,
          32.31765947467167,
          40.16694831303538,
          38.42839901348586,
          50.80902777777779,
          43.68667127370102,
          46.91125954198474,
          43.76725243231013,
          49.61725663716815,
          44.44360568383659,
          44.91263233631413,
          40.96063580115212,
          40.43896149563383,
          25.29369573423934,
          33.93675333801828,
          56.35074456942485,
          58.00000000000001,
          35.39025840988698,
          50.09893669728267,
          67.33590733590735,
          64.87694974003465,
          53.70785345771016,
          58,
          58.8675356921167,
          48.08144336446223,
          69.09184726522186,
          62.67455848477091,
          81.03640256959315,
          85.00000000000001,
          64.58100814198153,
          88.59282897678767,
          85,
          71.94684755538078,
          83.26493128127174,
          62.71034482758622,
          82.96602525556223,
          52.43202677896555,
          45.88926553672317,
          70.22842164388692,
          70.96618856694084,
          67.4331797235023,
          52.81361256544503,
          47.51359941323879,
          53.30731962452171,
          38.29473529267455,
          51.5026071473992,
          24.67771781033154,
          54.06822262118492,
          54.16424778761061,
          21.48741418764303,
          40.4671310404876,
          40.00065104166667,
          24.9751126458079,
          35.35471920023522,
          33.64011845386534,
          21.87883320867614,
          36.53225806451613,
          16.58978759922763,
          -4.074476759989127,
          9.744320217874293,
          -1.135715483979197,
          9.082658022690437,
          10.05548705302096,
          9.636963696369637,
          16.4689880304679,
          1.95498603581403,
          -14.45533358462118,
          3.823610346725371,
          10.47927461139896,
          -0.3879403501188694,
          -0.4121959942775399,
          9.353647276084951,
          3.678636089318044,
          18.43356643356643,
          38,
          38,
          38,
          38,
          27.76104023552502,
          24.3212545197296,
          40,
          40.00000000000001,
          24.47443689667501,
          35,
          35,
          34.99999999999999,
          31.32849051957646,
          27,
          26.15474452554744,
          17.83654195423174,
          12,
          12
         ],
         "yaxis": "y"
        }
       ],
       "layout": {
        "legend": {
         "title": {
          "text": "full"
         },
         "tracegroupgap": 0
        },
        "template": {
         "data": {
          "bar": [
           {
            "error_x": {
             "color": "#2a3f5f"
            },
            "error_y": {
             "color": "#2a3f5f"
            },
            "marker": {
             "line": {
              "color": "#E5ECF6",
              "width": 0.5
             },
             "pattern": {
              "fillmode": "overlay",
              "size": 10,
              "solidity": 0.2
             }
            },
            "type": "bar"
           }
          ],
          "barpolar": [
           {
            "marker": {
             "line": {
              "color": "#E5ECF6",
              "width": 0.5
             },
             "pattern": {
              "fillmode": "overlay",
              "size": 10,
              "solidity": 0.2
             }
            },
            "type": "barpolar"
           }
          ],
          "carpet": [
           {
            "aaxis": {
             "endlinecolor": "#2a3f5f",
             "gridcolor": "white",
             "linecolor": "white",
             "minorgridcolor": "white",
             "startlinecolor": "#2a3f5f"
            },
            "baxis": {
             "endlinecolor": "#2a3f5f",
             "gridcolor": "white",
             "linecolor": "white",
             "minorgridcolor": "white",
             "startlinecolor": "#2a3f5f"
            },
            "type": "carpet"
           }
          ],
          "choropleth": [
           {
            "colorbar": {
             "outlinewidth": 0,
             "ticks": ""
            },
            "type": "choropleth"
           }
          ],
          "contour": [
           {
            "colorbar": {
             "outlinewidth": 0,
             "ticks": ""
            },
            "colorscale": [
             [
              0,
              "#0d0887"
             ],
             [
              0.1111111111111111,
              "#46039f"
             ],
             [
              0.2222222222222222,
              "#7201a8"
             ],
             [
              0.3333333333333333,
              "#9c179e"
             ],
             [
              0.4444444444444444,
              "#bd3786"
             ],
             [
              0.5555555555555556,
              "#d8576b"
             ],
             [
              0.6666666666666666,
              "#ed7953"
             ],
             [
              0.7777777777777778,
              "#fb9f3a"
             ],
             [
              0.8888888888888888,
              "#fdca26"
             ],
             [
              1,
              "#f0f921"
             ]
            ],
            "type": "contour"
           }
          ],
          "contourcarpet": [
           {
            "colorbar": {
             "outlinewidth": 0,
             "ticks": ""
            },
            "type": "contourcarpet"
           }
          ],
          "heatmap": [
           {
            "colorbar": {
             "outlinewidth": 0,
             "ticks": ""
            },
            "colorscale": [
             [
              0,
              "#0d0887"
             ],
             [
              0.1111111111111111,
              "#46039f"
             ],
             [
              0.2222222222222222,
              "#7201a8"
             ],
             [
              0.3333333333333333,
              "#9c179e"
             ],
             [
              0.4444444444444444,
              "#bd3786"
             ],
             [
              0.5555555555555556,
              "#d8576b"
             ],
             [
              0.6666666666666666,
              "#ed7953"
             ],
             [
              0.7777777777777778,
              "#fb9f3a"
             ],
             [
              0.8888888888888888,
              "#fdca26"
             ],
             [
              1,
              "#f0f921"
             ]
            ],
            "type": "heatmap"
           }
          ],
          "heatmapgl": [
           {
            "colorbar": {
             "outlinewidth": 0,
             "ticks": ""
            },
            "colorscale": [
             [
              0,
              "#0d0887"
             ],
             [
              0.1111111111111111,
              "#46039f"
             ],
             [
              0.2222222222222222,
              "#7201a8"
             ],
             [
              0.3333333333333333,
              "#9c179e"
             ],
             [
              0.4444444444444444,
              "#bd3786"
             ],
             [
              0.5555555555555556,
              "#d8576b"
             ],
             [
              0.6666666666666666,
              "#ed7953"
             ],
             [
              0.7777777777777778,
              "#fb9f3a"
             ],
             [
              0.8888888888888888,
              "#fdca26"
             ],
             [
              1,
              "#f0f921"
             ]
            ],
            "type": "heatmapgl"
           }
          ],
          "histogram": [
           {
            "marker": {
             "pattern": {
              "fillmode": "overlay",
              "size": 10,
              "solidity": 0.2
             }
            },
            "type": "histogram"
           }
          ],
          "histogram2d": [
           {
            "colorbar": {
             "outlinewidth": 0,
             "ticks": ""
            },
            "colorscale": [
             [
              0,
              "#0d0887"
             ],
             [
              0.1111111111111111,
              "#46039f"
             ],
             [
              0.2222222222222222,
              "#7201a8"
             ],
             [
              0.3333333333333333,
              "#9c179e"
             ],
             [
              0.4444444444444444,
              "#bd3786"
             ],
             [
              0.5555555555555556,
              "#d8576b"
             ],
             [
              0.6666666666666666,
              "#ed7953"
             ],
             [
              0.7777777777777778,
              "#fb9f3a"
             ],
             [
              0.8888888888888888,
              "#fdca26"
             ],
             [
              1,
              "#f0f921"
             ]
            ],
            "type": "histogram2d"
           }
          ],
          "histogram2dcontour": [
           {
            "colorbar": {
             "outlinewidth": 0,
             "ticks": ""
            },
            "colorscale": [
             [
              0,
              "#0d0887"
             ],
             [
              0.1111111111111111,
              "#46039f"
             ],
             [
              0.2222222222222222,
              "#7201a8"
             ],
             [
              0.3333333333333333,
              "#9c179e"
             ],
             [
              0.4444444444444444,
              "#bd3786"
             ],
             [
              0.5555555555555556,
              "#d8576b"
             ],
             [
              0.6666666666666666,
              "#ed7953"
             ],
             [
              0.7777777777777778,
              "#fb9f3a"
             ],
             [
              0.8888888888888888,
              "#fdca26"
             ],
             [
              1,
              "#f0f921"
             ]
            ],
            "type": "histogram2dcontour"
           }
          ],
          "mesh3d": [
           {
            "colorbar": {
             "outlinewidth": 0,
             "ticks": ""
            },
            "type": "mesh3d"
           }
          ],
          "parcoords": [
           {
            "line": {
             "colorbar": {
              "outlinewidth": 0,
              "ticks": ""
             }
            },
            "type": "parcoords"
           }
          ],
          "pie": [
           {
            "automargin": true,
            "type": "pie"
           }
          ],
          "scatter": [
           {
            "fillpattern": {
             "fillmode": "overlay",
             "size": 10,
             "solidity": 0.2
            },
            "type": "scatter"
           }
          ],
          "scatter3d": [
           {
            "line": {
             "colorbar": {
              "outlinewidth": 0,
              "ticks": ""
             }
            },
            "marker": {
             "colorbar": {
              "outlinewidth": 0,
              "ticks": ""
             }
            },
            "type": "scatter3d"
           }
          ],
          "scattercarpet": [
           {
            "marker": {
             "colorbar": {
              "outlinewidth": 0,
              "ticks": ""
             }
            },
            "type": "scattercarpet"
           }
          ],
          "scattergeo": [
           {
            "marker": {
             "colorbar": {
              "outlinewidth": 0,
              "ticks": ""
             }
            },
            "type": "scattergeo"
           }
          ],
          "scattergl": [
           {
            "marker": {
             "colorbar": {
              "outlinewidth": 0,
              "ticks": ""
             }
            },
            "type": "scattergl"
           }
          ],
          "scattermapbox": [
           {
            "marker": {
             "colorbar": {
              "outlinewidth": 0,
              "ticks": ""
             }
            },
            "type": "scattermapbox"
           }
          ],
          "scatterpolar": [
           {
            "marker": {
             "colorbar": {
              "outlinewidth": 0,
              "ticks": ""
             }
            },
            "type": "scatterpolar"
           }
          ],
          "scatterpolargl": [
           {
            "marker": {
             "colorbar": {
              "outlinewidth": 0,
              "ticks": ""
             }
            },
            "type": "scatterpolargl"
           }
          ],
          "scatterternary": [
           {
            "marker": {
             "colorbar": {
              "outlinewidth": 0,
              "ticks": ""
             }
            },
            "type": "scatterternary"
           }
          ],
          "surface": [
           {
            "colorbar": {
             "outlinewidth": 0,
             "ticks": ""
            },
            "colorscale": [
             [
              0,
              "#0d0887"
             ],
             [
              0.1111111111111111,
              "#46039f"
             ],
             [
              0.2222222222222222,
              "#7201a8"
             ],
             [
              0.3333333333333333,
              "#9c179e"
             ],
             [
              0.4444444444444444,
              "#bd3786"
             ],
             [
              0.5555555555555556,
              "#d8576b"
             ],
             [
              0.6666666666666666,
              "#ed7953"
             ],
             [
              0.7777777777777778,
              "#fb9f3a"
             ],
             [
              0.8888888888888888,
              "#fdca26"
             ],
             [
              1,
              "#f0f921"
             ]
            ],
            "type": "surface"
           }
          ],
          "table": [
           {
            "cells": {
             "fill": {
              "color": "#EBF0F8"
             },
             "line": {
              "color": "white"
             }
            },
            "header": {
             "fill": {
              "color": "#C8D4E3"
             },
             "line": {
              "color": "white"
             }
            },
            "type": "table"
           }
          ]
         },
         "layout": {
          "annotationdefaults": {
           "arrowcolor": "#2a3f5f",
           "arrowhead": 0,
           "arrowwidth": 1
          },
          "autotypenumbers": "strict",
          "coloraxis": {
           "colorbar": {
            "outlinewidth": 0,
            "ticks": ""
           }
          },
          "colorscale": {
           "diverging": [
            [
             0,
             "#8e0152"
            ],
            [
             0.1,
             "#c51b7d"
            ],
            [
             0.2,
             "#de77ae"
            ],
            [
             0.3,
             "#f1b6da"
            ],
            [
             0.4,
             "#fde0ef"
            ],
            [
             0.5,
             "#f7f7f7"
            ],
            [
             0.6,
             "#e6f5d0"
            ],
            [
             0.7,
             "#b8e186"
            ],
            [
             0.8,
             "#7fbc41"
            ],
            [
             0.9,
             "#4d9221"
            ],
            [
             1,
             "#276419"
            ]
           ],
           "sequential": [
            [
             0,
             "#0d0887"
            ],
            [
             0.1111111111111111,
             "#46039f"
            ],
            [
             0.2222222222222222,
             "#7201a8"
            ],
            [
             0.3333333333333333,
             "#9c179e"
            ],
            [
             0.4444444444444444,
             "#bd3786"
            ],
            [
             0.5555555555555556,
             "#d8576b"
            ],
            [
             0.6666666666666666,
             "#ed7953"
            ],
            [
             0.7777777777777778,
             "#fb9f3a"
            ],
            [
             0.8888888888888888,
             "#fdca26"
            ],
            [
             1,
             "#f0f921"
            ]
           ],
           "sequentialminus": [
            [
             0,
             "#0d0887"
            ],
            [
             0.1111111111111111,
             "#46039f"
            ],
            [
             0.2222222222222222,
             "#7201a8"
            ],
            [
             0.3333333333333333,
             "#9c179e"
            ],
            [
             0.4444444444444444,
             "#bd3786"
            ],
            [
             0.5555555555555556,
             "#d8576b"
            ],
            [
             0.6666666666666666,
             "#ed7953"
            ],
            [
             0.7777777777777778,
             "#fb9f3a"
            ],
            [
             0.8888888888888888,
             "#fdca26"
            ],
            [
             1,
             "#f0f921"
            ]
           ]
          },
          "colorway": [
           "#636efa",
           "#EF553B",
           "#00cc96",
           "#ab63fa",
           "#FFA15A",
           "#19d3f3",
           "#FF6692",
           "#B6E880",
           "#FF97FF",
           "#FECB52"
          ],
          "font": {
           "color": "#2a3f5f"
          },
          "geo": {
           "bgcolor": "white",
           "lakecolor": "white",
           "landcolor": "#E5ECF6",
           "showlakes": true,
           "showland": true,
           "subunitcolor": "white"
          },
          "hoverlabel": {
           "align": "left"
          },
          "hovermode": "closest",
          "mapbox": {
           "style": "light"
          },
          "paper_bgcolor": "white",
          "plot_bgcolor": "#E5ECF6",
          "polar": {
           "angularaxis": {
            "gridcolor": "white",
            "linecolor": "white",
            "ticks": ""
           },
           "bgcolor": "#E5ECF6",
           "radialaxis": {
            "gridcolor": "white",
            "linecolor": "white",
            "ticks": ""
           }
          },
          "scene": {
           "xaxis": {
            "backgroundcolor": "#E5ECF6",
            "gridcolor": "white",
            "gridwidth": 2,
            "linecolor": "white",
            "showbackground": true,
            "ticks": "",
            "zerolinecolor": "white"
           },
           "yaxis": {
            "backgroundcolor": "#E5ECF6",
            "gridcolor": "white",
            "gridwidth": 2,
            "linecolor": "white",
            "showbackground": true,
            "ticks": "",
            "zerolinecolor": "white"
           },
           "zaxis": {
            "backgroundcolor": "#E5ECF6",
            "gridcolor": "white",
            "gridwidth": 2,
            "linecolor": "white",
            "showbackground": true,
            "ticks": "",
            "zerolinecolor": "white"
           }
          },
          "shapedefaults": {
           "line": {
            "color": "#2a3f5f"
           }
          },
          "ternary": {
           "aaxis": {
            "gridcolor": "white",
            "linecolor": "white",
            "ticks": ""
           },
           "baxis": {
            "gridcolor": "white",
            "linecolor": "white",
            "ticks": ""
           },
           "bgcolor": "#E5ECF6",
           "caxis": {
            "gridcolor": "white",
            "linecolor": "white",
            "ticks": ""
           }
          },
          "title": {
           "x": 0.05
          },
          "xaxis": {
           "automargin": true,
           "gridcolor": "white",
           "linecolor": "white",
           "ticks": "",
           "title": {
            "standoff": 15
           },
           "zerolinecolor": "white",
           "zerolinewidth": 2
          },
          "yaxis": {
           "automargin": true,
           "gridcolor": "white",
           "linecolor": "white",
           "ticks": "",
           "title": {
            "standoff": 15
           },
           "zerolinecolor": "white",
           "zerolinewidth": 2
          }
         }
        },
        "title": {
         "text": "Weekly Prices for ['10', '11', '12', '13', '14', '15', '16'] by Category"
        },
        "xaxis": {
         "anchor": "y",
         "domain": [
          0,
          1
         ],
         "title": {
          "text": "date"
         }
        },
        "yaxis": {
         "anchor": "x",
         "domain": [
          0,
          1
         ],
         "title": {
          "text": "wPreis"
         }
        }
       }
      }
     },
     "metadata": {},
     "output_type": "display_data"
    },
    {
     "data": {
      "application/vnd.plotly.v1+json": {
       "config": {
        "plotlyServerURL": "https://plot.ly"
       },
       "data": [
        {
         "hovertemplate": "full=A2 & A3 -  geschreddert<br>date=%{x}<br>wPreis=%{y}<extra></extra>",
         "legendgroup": "A2 & A3 -  geschreddert",
         "line": {
          "color": "#636efa",
          "dash": "solid"
         },
         "marker": {
          "symbol": "circle"
         },
         "mode": "lines",
         "name": "A2 & A3 -  geschreddert",
         "orientation": "v",
         "showlegend": true,
         "type": "scatter",
         "x": [
          "2020-09-14T00:00:00",
          "2020-09-21T00:00:00",
          "2020-09-28T00:00:00",
          "2020-10-05T00:00:00",
          "2020-10-12T00:00:00",
          "2020-10-19T00:00:00",
          "2020-10-26T00:00:00",
          "2020-11-02T00:00:00",
          "2020-11-09T00:00:00",
          "2020-11-16T00:00:00",
          "2020-11-23T00:00:00",
          "2020-11-30T00:00:00",
          "2020-12-07T00:00:00",
          "2020-12-14T00:00:00",
          "2020-12-21T00:00:00",
          "2020-12-28T00:00:00",
          "2021-01-04T00:00:00",
          "2021-01-11T00:00:00",
          "2021-01-18T00:00:00",
          "2021-01-25T00:00:00",
          "2021-02-01T00:00:00",
          "2021-02-08T00:00:00",
          "2021-02-15T00:00:00",
          "2021-02-22T00:00:00",
          "2021-03-01T00:00:00",
          "2021-03-08T00:00:00",
          "2021-03-15T00:00:00",
          "2021-03-22T00:00:00",
          "2021-03-29T00:00:00",
          "2021-04-05T00:00:00",
          "2021-04-12T00:00:00",
          "2021-04-19T00:00:00",
          "2021-04-26T00:00:00",
          "2021-05-03T00:00:00",
          "2021-05-10T00:00:00",
          "2021-05-17T00:00:00",
          "2021-05-24T00:00:00",
          "2021-05-31T00:00:00",
          "2021-06-07T00:00:00",
          "2021-06-14T00:00:00",
          "2021-06-21T00:00:00",
          "2021-06-28T00:00:00",
          "2021-07-05T00:00:00",
          "2021-07-12T00:00:00",
          "2021-07-19T00:00:00",
          "2021-07-26T00:00:00",
          "2021-08-02T00:00:00",
          "2021-08-09T00:00:00",
          "2021-08-16T00:00:00",
          "2021-08-23T00:00:00",
          "2021-08-30T00:00:00",
          "2021-09-06T00:00:00",
          "2021-09-13T00:00:00",
          "2021-09-20T00:00:00",
          "2021-09-27T00:00:00",
          "2021-10-04T00:00:00",
          "2021-10-11T00:00:00",
          "2021-10-18T00:00:00",
          "2021-10-25T00:00:00",
          "2021-11-01T00:00:00",
          "2021-11-08T00:00:00",
          "2021-11-15T00:00:00",
          "2021-11-22T00:00:00",
          "2021-11-29T00:00:00",
          "2021-12-06T00:00:00",
          "2021-12-13T00:00:00",
          "2021-12-20T00:00:00",
          "2021-12-27T00:00:00",
          "2022-01-03T00:00:00",
          "2022-01-10T00:00:00",
          "2022-01-17T00:00:00",
          "2022-01-24T00:00:00",
          "2022-01-31T00:00:00",
          "2022-02-07T00:00:00",
          "2022-02-14T00:00:00",
          "2022-02-21T00:00:00",
          "2022-02-28T00:00:00",
          "2022-03-07T00:00:00",
          "2022-03-14T00:00:00",
          "2022-03-21T00:00:00",
          "2022-03-28T00:00:00",
          "2022-04-04T00:00:00",
          "2022-04-11T00:00:00",
          "2022-04-18T00:00:00",
          "2022-04-25T00:00:00",
          "2022-05-02T00:00:00",
          "2022-05-09T00:00:00",
          "2022-05-16T00:00:00",
          "2022-05-23T00:00:00",
          "2022-05-30T00:00:00",
          "2022-06-06T00:00:00",
          "2022-06-13T00:00:00",
          "2022-06-20T00:00:00",
          "2022-06-27T00:00:00",
          "2022-07-04T00:00:00",
          "2022-07-11T00:00:00",
          "2022-07-18T00:00:00",
          "2022-07-25T00:00:00",
          "2022-08-01T00:00:00",
          "2022-08-08T00:00:00",
          "2022-08-15T00:00:00",
          "2022-08-22T00:00:00",
          "2022-08-29T00:00:00",
          "2022-09-05T00:00:00",
          "2022-09-12T00:00:00",
          "2022-09-19T00:00:00",
          "2022-09-26T00:00:00",
          "2022-10-03T00:00:00",
          "2022-10-10T00:00:00",
          "2022-10-17T00:00:00",
          "2022-10-24T00:00:00",
          "2022-10-31T00:00:00",
          "2022-11-07T00:00:00",
          "2022-11-14T00:00:00",
          "2022-11-21T00:00:00",
          "2022-11-28T00:00:00",
          "2022-12-05T00:00:00",
          "2022-12-12T00:00:00",
          "2022-12-19T00:00:00",
          "2022-12-26T00:00:00",
          "2023-01-02T00:00:00",
          "2023-01-09T00:00:00",
          "2023-01-16T00:00:00",
          "2023-01-23T00:00:00",
          "2023-01-30T00:00:00",
          "2023-02-06T00:00:00",
          "2023-02-13T00:00:00",
          "2023-02-20T00:00:00",
          "2023-02-27T00:00:00",
          "2023-03-06T00:00:00",
          "2023-03-13T00:00:00",
          "2023-03-20T00:00:00",
          "2023-03-27T00:00:00",
          "2023-04-03T00:00:00",
          "2023-04-10T00:00:00",
          "2023-04-17T00:00:00",
          "2023-04-24T00:00:00",
          "2023-05-01T00:00:00",
          "2023-05-08T00:00:00",
          "2023-05-15T00:00:00",
          "2023-05-22T00:00:00",
          "2023-05-29T00:00:00",
          "2023-06-05T00:00:00",
          "2023-06-12T00:00:00",
          "2023-06-19T00:00:00",
          "2023-06-26T00:00:00",
          "2023-07-03T00:00:00",
          "2023-07-10T00:00:00",
          "2023-07-17T00:00:00",
          "2023-07-24T00:00:00",
          "2023-07-31T00:00:00",
          "2023-08-07T00:00:00",
          "2023-08-14T00:00:00",
          "2023-08-21T00:00:00",
          "2023-08-28T00:00:00",
          "2023-09-04T00:00:00",
          "2023-09-11T00:00:00",
          "2023-09-18T00:00:00",
          "2023-09-25T00:00:00",
          "2023-10-02T00:00:00",
          "2023-10-09T00:00:00",
          "2023-10-16T00:00:00",
          "2023-10-23T00:00:00",
          "2023-10-30T00:00:00",
          "2023-11-06T00:00:00",
          "2023-11-13T00:00:00",
          "2023-11-20T00:00:00",
          "2023-11-27T00:00:00",
          "2023-12-04T00:00:00",
          "2023-12-11T00:00:00",
          "2023-12-18T00:00:00",
          "2023-12-25T00:00:00",
          "2024-01-01T00:00:00",
          "2024-01-08T00:00:00",
          "2024-01-15T00:00:00",
          "2024-01-22T00:00:00",
          "2024-01-29T00:00:00",
          "2024-02-05T00:00:00",
          "2024-02-12T00:00:00",
          "2024-02-19T00:00:00",
          "2024-02-26T00:00:00",
          "2024-03-04T00:00:00",
          "2024-03-11T00:00:00",
          "2024-03-18T00:00:00",
          "2024-03-25T00:00:00",
          "2024-04-01T00:00:00",
          "2024-04-08T00:00:00",
          "2024-04-15T00:00:00",
          "2024-04-22T00:00:00"
         ],
         "xaxis": "x",
         "y": [
          -32.46977268520855,
          -30.76930426580364,
          -32.66922676115048,
          -30.96286889605244,
          -38.33240160711971,
          -37.80419258494084,
          -28.66397885664265,
          -24.72642643568323,
          -25.82883393479534,
          -24.0487084275105,
          -31.71313791163838,
          -27.78004339647548,
          -32.04923972560914,
          -27.44321913309982,
          -28.03232378854625,
          -32.07219282098482,
          -27.76990582154431,
          -26.53816132141984,
          -19.87022995887772,
          -24.06312670249577,
          -22.57789143016311,
          -23.88503617434269,
          -24.14382559290664,
          -21.67379679144386,
          -24.35608801678672,
          -16.78122246927045,
          -23.18430388001305,
          -18.69721616893282,
          -25.32591714438833,
          -20.87742556428328,
          -22.9941829004329,
          -23.97857642636054,
          -27.47817150434654,
          -22.49943264915024,
          -19.37814939673527,
          -19.73278553255862,
          -19.86660365250871,
          -20.70588635405188,
          -23.15763980956973,
          -22.46792313182311,
          -25.42934146749123,
          -28.64942220176918,
          -29.85256397289371,
          -23.77536144668943,
          -19.98020991018266,
          -18.04888176586289,
          -17.04050309681626,
          -18.23807676509515,
          -17.87589995200256,
          -19.41051258282693,
          -20.13411581713837,
          -21.50277598450613,
          -15.20762038335671,
          -24.16463906981752,
          -15.75595545834162,
          -21.2991423119793,
          -19.16433877380205,
          -7.246291693393202,
          -2.79035727088063,
          4.098631551768655,
          -5.489605675631085,
          0.4918690951951236,
          3.88886213704435,
          0.9322979925488221,
          4.364964291982233,
          9.649965842526779,
          9.231718898385566,
          4.935055258909724,
          12.38293722936568,
          11.28696202808044,
          15.18383606882799,
          14.71471130112314,
          20.41962365921684,
          37.05624151786903,
          19.61043934260794,
          27.1454673281092,
          28.85732474845762,
          25.76832677676378,
          36.18014860876898,
          36.88955454958518,
          36.86169490623045,
          34.42073001649177,
          28.35125776980518,
          21.73123732251521,
          24.16733671697608,
          25.5060758881943,
          28.18682092207769,
          28.96061713951448,
          39.51419135595653,
          38.49440095793512,
          25.07794117647059,
          29.31419286649525,
          39.66108680365652,
          46.27048209178811,
          45.50388594802696,
          49.77362599716147,
          52.2341757133535,
          43.40956968973038,
          46.13241526627353,
          47.97448749616861,
          50.86567303539957,
          62.64961170943722,
          56.66266232713039,
          59.15370679034711,
          59.52664836006165,
          60.27331150296811,
          61.39480484762074,
          81.97573318223559,
          75.62642152478998,
          76.5865011636928,
          74.13663741731125,
          74.9669859020879,
          79.75234493444182,
          78.25189720914634,
          75.15238519414,
          60.95062371566669,
          64.72813020159052,
          77.6231466278968,
          65.73433806146572,
          64.69880815623205,
          65.5129206730769,
          69.5229396815518,
          72.71879782941416,
          69.8377538201665,
          68.58205644081673,
          64.00019981018033,
          46.99061634492168,
          48.00063690366829,
          58.78869482460492,
          50.18683006645071,
          52.70463678879462,
          46.17563882436119,
          47.36891589382797,
          45.41525527736869,
          40.54127533366288,
          42.24937238493723,
          32.2346290150194,
          27.19193374875676,
          26.74760264203112,
          32.14846773499985,
          39.9257196890103,
          40.20417474620736,
          36.40417099179012,
          36.05930060654628,
          37.99915535654368,
          19.0777509289906,
          21.02631795265234,
          12.87866288562344,
          14.15597832559247,
          17.10479307432432,
          13.71264993557987,
          13.03203041292344,
          11.03922918685504,
          9.494700410988534,
          12.06166281969281,
          11.98686617536158,
          8.839099339830241,
          8.256055159985504,
          10.65248965401618,
          12.83741473432195,
          9.70705195417336,
          9.60605562920122,
          11.14366118815272,
          11.05095255072778,
          13.25299161020673,
          12.4034313225137,
          9.987066596646352,
          15.52399921314055,
          16.63981396659855,
          14.32046243946962,
          31.85308441558442,
          23.57576284447536,
          19.20644437224962,
          24.00387205993589,
          21.04716509634785,
          29.26351739415818,
          30.23446699338882,
          31.09457026064326,
          33.59458779681945,
          26.32422494812645,
          24.52984769917775,
          34.24279522024366,
          30.89205074674803,
          25.47480154785029,
          18.2719052945563,
          19.31525231525232,
          15.50855084937712,
          23.46255905779835,
          20.92461191880148
         ],
         "yaxis": "y"
        },
        {
         "hovertemplate": "full=A1 & A2 -  geschreddert<br>date=%{x}<br>wPreis=%{y}<extra></extra>",
         "legendgroup": "A1 & A2 -  geschreddert",
         "line": {
          "color": "#EF553B",
          "dash": "solid"
         },
         "marker": {
          "symbol": "circle"
         },
         "mode": "lines",
         "name": "A1 & A2 -  geschreddert",
         "orientation": "v",
         "showlegend": true,
         "type": "scatter",
         "x": [
          "2020-09-14T00:00:00",
          "2020-09-21T00:00:00",
          "2020-09-28T00:00:00",
          "2020-10-05T00:00:00",
          "2020-10-12T00:00:00",
          "2020-10-19T00:00:00",
          "2020-10-26T00:00:00",
          "2020-11-02T00:00:00",
          "2020-11-09T00:00:00",
          "2020-11-16T00:00:00",
          "2020-11-23T00:00:00",
          "2020-11-30T00:00:00",
          "2020-12-07T00:00:00",
          "2020-12-14T00:00:00",
          "2020-12-21T00:00:00",
          "2020-12-28T00:00:00",
          "2021-01-04T00:00:00",
          "2021-01-11T00:00:00",
          "2021-01-18T00:00:00",
          "2021-01-25T00:00:00",
          "2021-02-01T00:00:00",
          "2021-02-08T00:00:00",
          "2021-02-15T00:00:00",
          "2021-02-22T00:00:00",
          "2021-03-01T00:00:00",
          "2021-03-08T00:00:00",
          "2021-03-15T00:00:00",
          "2021-03-22T00:00:00",
          "2021-03-29T00:00:00",
          "2021-04-05T00:00:00",
          "2021-04-12T00:00:00",
          "2021-04-19T00:00:00",
          "2021-04-26T00:00:00",
          "2021-05-03T00:00:00",
          "2021-05-10T00:00:00",
          "2021-05-17T00:00:00",
          "2021-05-24T00:00:00",
          "2021-05-31T00:00:00",
          "2021-06-07T00:00:00",
          "2021-06-14T00:00:00",
          "2021-06-21T00:00:00",
          "2021-06-28T00:00:00",
          "2021-07-05T00:00:00",
          "2021-07-12T00:00:00",
          "2021-07-19T00:00:00",
          "2021-07-26T00:00:00",
          "2021-08-02T00:00:00",
          "2021-08-09T00:00:00",
          "2021-08-16T00:00:00",
          "2021-08-23T00:00:00",
          "2021-08-30T00:00:00",
          "2021-09-06T00:00:00",
          "2021-09-13T00:00:00",
          "2021-09-20T00:00:00",
          "2021-09-27T00:00:00",
          "2021-10-04T00:00:00",
          "2021-10-11T00:00:00",
          "2021-10-18T00:00:00",
          "2021-10-25T00:00:00",
          "2021-11-01T00:00:00",
          "2021-11-08T00:00:00",
          "2021-11-15T00:00:00",
          "2021-11-22T00:00:00",
          "2021-11-29T00:00:00",
          "2021-12-06T00:00:00",
          "2021-12-13T00:00:00",
          "2021-12-20T00:00:00",
          "2021-12-27T00:00:00",
          "2022-01-03T00:00:00",
          "2022-01-10T00:00:00",
          "2022-01-17T00:00:00",
          "2022-01-24T00:00:00",
          "2022-01-31T00:00:00",
          "2022-02-07T00:00:00",
          "2022-02-14T00:00:00",
          "2022-02-21T00:00:00",
          "2022-02-28T00:00:00",
          "2022-03-07T00:00:00",
          "2022-03-14T00:00:00",
          "2022-03-21T00:00:00",
          "2022-03-28T00:00:00",
          "2022-04-04T00:00:00",
          "2022-04-11T00:00:00",
          "2022-04-18T00:00:00",
          "2022-04-25T00:00:00",
          "2022-05-02T00:00:00",
          "2022-05-09T00:00:00",
          "2022-05-16T00:00:00",
          "2022-05-23T00:00:00",
          "2022-05-30T00:00:00",
          "2022-06-06T00:00:00",
          "2022-06-13T00:00:00",
          "2022-06-20T00:00:00",
          "2022-06-27T00:00:00",
          "2022-07-04T00:00:00",
          "2022-07-11T00:00:00",
          "2022-07-18T00:00:00",
          "2022-07-25T00:00:00",
          "2022-08-01T00:00:00",
          "2022-08-08T00:00:00",
          "2022-08-15T00:00:00",
          "2022-08-22T00:00:00",
          "2022-08-29T00:00:00",
          "2022-09-05T00:00:00",
          "2022-09-12T00:00:00",
          "2022-09-19T00:00:00",
          "2022-09-26T00:00:00",
          "2022-10-03T00:00:00",
          "2022-10-10T00:00:00",
          "2022-10-17T00:00:00",
          "2022-10-24T00:00:00",
          "2022-10-31T00:00:00",
          "2022-11-07T00:00:00",
          "2022-11-14T00:00:00",
          "2022-11-21T00:00:00",
          "2022-11-28T00:00:00",
          "2022-12-05T00:00:00",
          "2022-12-12T00:00:00",
          "2022-12-19T00:00:00",
          "2022-12-26T00:00:00",
          "2023-01-02T00:00:00",
          "2023-01-09T00:00:00",
          "2023-01-16T00:00:00",
          "2023-01-23T00:00:00",
          "2023-01-30T00:00:00",
          "2023-02-06T00:00:00",
          "2023-02-13T00:00:00",
          "2023-02-20T00:00:00",
          "2023-02-27T00:00:00",
          "2023-03-06T00:00:00",
          "2023-03-13T00:00:00",
          "2023-03-20T00:00:00",
          "2023-03-27T00:00:00",
          "2023-04-03T00:00:00",
          "2023-04-10T00:00:00",
          "2023-04-17T00:00:00",
          "2023-04-24T00:00:00",
          "2023-05-01T00:00:00",
          "2023-05-08T00:00:00",
          "2023-05-15T00:00:00",
          "2023-05-22T00:00:00",
          "2023-05-29T00:00:00",
          "2023-06-05T00:00:00",
          "2023-06-12T00:00:00",
          "2023-06-19T00:00:00",
          "2023-06-26T00:00:00",
          "2023-07-03T00:00:00",
          "2023-07-10T00:00:00",
          "2023-07-17T00:00:00",
          "2023-07-24T00:00:00",
          "2023-07-31T00:00:00",
          "2023-08-07T00:00:00",
          "2023-08-14T00:00:00",
          "2023-08-21T00:00:00",
          "2023-08-28T00:00:00",
          "2023-09-04T00:00:00",
          "2023-09-11T00:00:00",
          "2023-09-18T00:00:00",
          "2023-09-25T00:00:00",
          "2023-10-02T00:00:00",
          "2023-10-09T00:00:00",
          "2023-10-16T00:00:00",
          "2023-10-23T00:00:00",
          "2023-10-30T00:00:00",
          "2023-11-06T00:00:00",
          "2023-11-13T00:00:00",
          "2023-11-20T00:00:00",
          "2023-11-27T00:00:00",
          "2023-12-04T00:00:00",
          "2023-12-11T00:00:00",
          "2023-12-18T00:00:00",
          "2023-12-25T00:00:00",
          "2024-01-01T00:00:00",
          "2024-01-08T00:00:00",
          "2024-01-15T00:00:00",
          "2024-01-22T00:00:00",
          "2024-01-29T00:00:00",
          "2024-02-05T00:00:00",
          "2024-02-12T00:00:00",
          "2024-02-19T00:00:00",
          "2024-02-26T00:00:00",
          "2024-03-04T00:00:00",
          "2024-03-11T00:00:00",
          "2024-03-18T00:00:00",
          "2024-03-25T00:00:00",
          "2024-04-01T00:00:00",
          "2024-04-08T00:00:00",
          "2024-04-15T00:00:00",
          "2024-04-22T00:00:00"
         ],
         "xaxis": "x",
         "y": [
          -30.58501327008866,
          -29.33024399610079,
          -28.50900916071669,
          -26.52766853019567,
          -29.60908150531984,
          -24.53273369475932,
          -25.45189537187106,
          -23.46276231263383,
          -26.7704677206851,
          -23.06076973630164,
          -32.24647629879361,
          -21.18143507800324,
          -22.19131336839082,
          -21.16478497785095,
          -27.78475657380891,
          -33.25,
          -18.13507932297845,
          -25.66756759333409,
          -20.0690347711899,
          -23.92601892353615,
          -20.59287245150299,
          -21.00225778604157,
          -18.35038617248539,
          -14.85018336578077,
          -23.99437156822917,
          -14.56649725361449,
          -21.43931731984829,
          -12.46705275350111,
          -20.20824146906959,
          -14.10402370555209,
          -22.03673772930095,
          -21.1910943095043,
          -21.12641206459002,
          -18.00085153275897,
          -16.7061455406005,
          -16.27511186440678,
          -17.09635035295279,
          -16.85247580393381,
          -21.83298125794155,
          -20.50343764527416,
          -21.42340875077031,
          -25.34466308175502,
          -27.38615727435545,
          -20.0053469429574,
          -17.082644164503,
          -14.87484774665042,
          -14.76159630792297,
          -15.39719270661629,
          -15.80279010779963,
          -15.7540504883111,
          -17.48232891173636,
          -16.03935086974968,
          -7.389452668269758,
          -13.74441387742626,
          -9.6244543100259,
          -13.26303422831444,
          -10.54478038774826,
          -0.7839284166738882,
          0.466988996332111,
          13.26731227970235,
          7.923803874406814,
          4.22013829686464,
          5.737995896821189,
          8.860316238219486,
          15.43020476554222,
          13.53321950002877,
          9.231718898385566,
          24.16576381365114,
          19.57602295259268,
          20.42684547407588,
          20.74241331847676,
          19.48755267831111,
          27.90680563510729,
          37.63771672380201,
          34.13661140397392,
          28.30917479186145,
          28.48383660051138,
          25.84001430255706,
          41.00094613708473,
          38.68901897171874,
          38.179938206195,
          37.2123634254037,
          37.28795452107691,
          28.46750444645303,
          25.01100217864924,
          25.93116870244141,
          29.3496958349005,
          36.44717449558637,
          39.51419135595653,
          38.49440095793512,
          25.36272061788517,
          29.81769191828471,
          40.756169029835,
          49.74354334792942,
          50.00109222400136,
          53.31499732763227,
          56.8208362080861,
          51.20951399446957,
          50.07882932895143,
          49.14235440242891,
          52.14652800035365,
          63.32675871137408,
          59.57863350821827,
          59.78002051622128,
          65.12950548329316,
          71.09659805295111,
          69.64872147083688,
          81.5739238127776,
          76.58829612506841,
          77.30202231894964,
          75.08285256530799,
          76.68668510470167,
          82.51678178024356,
          79.13661421844492,
          75.15238519414,
          77.54990511000213,
          74.68439826302729,
          86.57763075047222,
          97.39545744003398,
          91.82197876002184,
          86.17644346061614,
          78.63499087669037,
          82.24020658309787,
          74.99698273344882,
          74.99328569373172,
          74.32787124481416,
          54.9925391207881,
          49.67107366652274,
          61.08287591627253,
          51.85036917037912,
          56.47234591047572,
          50.61116650049851,
          48.76617935054881,
          50.41081550557689,
          49.24870291759316,
          50.28781383955909,
          34.12788943207195,
          27.19193374875676,
          27.45045666034811,
          33.75236887670933,
          40.83342615563769,
          40.20417474620736,
          36.40417099179012,
          37.21318100458665,
          37.99915535654368,
          23.22475110645128,
          28.40713668550316,
          20.52739292495956,
          35.61745106786371,
          26.06737764069139,
          24.43054843058423,
          19.8276303088803,
          15.37160985143536,
          11.74248324958124,
          16.87257236707042,
          12.61083512297906,
          11.35340628447039,
          11.89815751445086,
          13.60562283210612,
          16.76900631991954,
          12.00810304878847,
          13.91345465175765,
          12.2787381367422,
          11.81226260614143,
          15.02336674625391,
          17.56764186911177,
          15.47093081035956,
          19.75791644878275,
          17.84091121776447,
          19.59253294005782,
          31.85308441558442,
          23.57576284447536,
          24.893239932629,
          30.2368493113174,
          29.32226169277987,
          32.64078907435508,
          30.57226678890672,
          30.93150377066375,
          33.53767222430709,
          30.15395640489699,
          29.00903399182366,
          36.917605011337,
          32.6997315607823,
          27.14927178015202,
          29.00972651204582,
          25.09878260869566,
          15.50855084937712,
          23.46255905779835,
          20.92461191880148
         ],
         "yaxis": "y"
        },
        {
         "hovertemplate": "full=A2 -  geschreddert<br>date=%{x}<br>wPreis=%{y}<extra></extra>",
         "legendgroup": "A2 -  geschreddert",
         "line": {
          "color": "#00cc96",
          "dash": "solid"
         },
         "marker": {
          "symbol": "circle"
         },
         "mode": "lines",
         "name": "A2 -  geschreddert",
         "orientation": "v",
         "showlegend": true,
         "type": "scatter",
         "x": [
          "2020-09-14T00:00:00",
          "2020-09-21T00:00:00",
          "2020-09-28T00:00:00",
          "2020-10-05T00:00:00",
          "2020-10-12T00:00:00",
          "2020-10-19T00:00:00",
          "2020-10-26T00:00:00",
          "2020-11-02T00:00:00",
          "2020-11-09T00:00:00",
          "2020-11-16T00:00:00",
          "2020-11-23T00:00:00",
          "2020-11-30T00:00:00",
          "2020-12-07T00:00:00",
          "2020-12-14T00:00:00",
          "2020-12-21T00:00:00",
          "2020-12-28T00:00:00",
          "2021-01-04T00:00:00",
          "2021-01-11T00:00:00",
          "2021-01-18T00:00:00",
          "2021-01-25T00:00:00",
          "2021-02-01T00:00:00",
          "2021-02-08T00:00:00",
          "2021-02-15T00:00:00",
          "2021-02-22T00:00:00",
          "2021-03-01T00:00:00",
          "2021-03-08T00:00:00",
          "2021-03-15T00:00:00",
          "2021-03-22T00:00:00",
          "2021-03-29T00:00:00",
          "2021-04-05T00:00:00",
          "2021-04-12T00:00:00",
          "2021-04-19T00:00:00",
          "2021-04-26T00:00:00",
          "2021-05-03T00:00:00",
          "2021-05-10T00:00:00",
          "2021-05-17T00:00:00",
          "2021-05-24T00:00:00",
          "2021-05-31T00:00:00",
          "2021-06-07T00:00:00",
          "2021-06-14T00:00:00",
          "2021-06-21T00:00:00",
          "2021-06-28T00:00:00",
          "2021-07-05T00:00:00",
          "2021-07-12T00:00:00",
          "2021-07-19T00:00:00",
          "2021-07-26T00:00:00",
          "2021-08-02T00:00:00",
          "2021-08-09T00:00:00",
          "2021-08-16T00:00:00",
          "2021-08-23T00:00:00",
          "2021-08-30T00:00:00",
          "2021-09-06T00:00:00",
          "2021-09-13T00:00:00",
          "2021-09-20T00:00:00",
          "2021-09-27T00:00:00",
          "2021-10-04T00:00:00",
          "2021-10-11T00:00:00",
          "2021-10-18T00:00:00",
          "2021-10-25T00:00:00",
          "2021-11-01T00:00:00",
          "2021-11-08T00:00:00",
          "2021-11-15T00:00:00",
          "2021-11-22T00:00:00",
          "2021-11-29T00:00:00",
          "2021-12-06T00:00:00",
          "2021-12-13T00:00:00",
          "2021-12-20T00:00:00",
          "2021-12-27T00:00:00",
          "2022-01-03T00:00:00",
          "2022-01-10T00:00:00",
          "2022-01-17T00:00:00",
          "2022-01-24T00:00:00",
          "2022-01-31T00:00:00",
          "2022-02-07T00:00:00",
          "2022-02-14T00:00:00",
          "2022-02-21T00:00:00",
          "2022-02-28T00:00:00",
          "2022-03-07T00:00:00",
          "2022-03-14T00:00:00",
          "2022-03-21T00:00:00",
          "2022-03-28T00:00:00",
          "2022-04-04T00:00:00",
          "2022-04-11T00:00:00",
          "2022-04-18T00:00:00",
          "2022-04-25T00:00:00",
          "2022-05-02T00:00:00",
          "2022-05-09T00:00:00",
          "2022-05-16T00:00:00",
          "2022-05-23T00:00:00",
          "2022-05-30T00:00:00",
          "2022-06-06T00:00:00",
          "2022-06-13T00:00:00",
          "2022-06-20T00:00:00",
          "2022-06-27T00:00:00",
          "2022-07-04T00:00:00",
          "2022-07-11T00:00:00",
          "2022-07-18T00:00:00",
          "2022-07-25T00:00:00",
          "2022-08-01T00:00:00",
          "2022-08-08T00:00:00",
          "2022-08-15T00:00:00",
          "2022-08-22T00:00:00",
          "2022-08-29T00:00:00",
          "2022-09-05T00:00:00",
          "2022-09-12T00:00:00",
          "2022-09-19T00:00:00",
          "2022-09-26T00:00:00",
          "2022-10-03T00:00:00",
          "2022-10-10T00:00:00",
          "2022-10-17T00:00:00",
          "2022-10-24T00:00:00",
          "2022-10-31T00:00:00",
          "2022-11-07T00:00:00",
          "2022-11-14T00:00:00",
          "2022-11-21T00:00:00",
          "2022-11-28T00:00:00",
          "2022-12-05T00:00:00",
          "2022-12-12T00:00:00",
          "2022-12-19T00:00:00",
          "2022-12-26T00:00:00",
          "2023-01-02T00:00:00",
          "2023-01-09T00:00:00",
          "2023-01-16T00:00:00",
          "2023-01-23T00:00:00",
          "2023-01-30T00:00:00",
          "2023-02-06T00:00:00",
          "2023-02-13T00:00:00",
          "2023-02-20T00:00:00",
          "2023-02-27T00:00:00",
          "2023-03-06T00:00:00",
          "2023-03-13T00:00:00",
          "2023-03-20T00:00:00",
          "2023-03-27T00:00:00",
          "2023-04-03T00:00:00",
          "2023-04-10T00:00:00",
          "2023-04-17T00:00:00",
          "2023-04-24T00:00:00",
          "2023-05-01T00:00:00",
          "2023-05-08T00:00:00",
          "2023-05-15T00:00:00",
          "2023-05-22T00:00:00",
          "2023-05-29T00:00:00",
          "2023-06-05T00:00:00",
          "2023-06-12T00:00:00",
          "2023-06-19T00:00:00",
          "2023-06-26T00:00:00",
          "2023-07-03T00:00:00",
          "2023-07-10T00:00:00",
          "2023-07-17T00:00:00",
          "2023-07-24T00:00:00",
          "2023-07-31T00:00:00",
          "2023-08-07T00:00:00",
          "2023-08-14T00:00:00",
          "2023-08-21T00:00:00",
          "2023-08-28T00:00:00",
          "2023-09-04T00:00:00",
          "2023-09-11T00:00:00",
          "2023-09-18T00:00:00",
          "2023-09-25T00:00:00",
          "2023-10-02T00:00:00",
          "2023-10-09T00:00:00",
          "2023-10-16T00:00:00",
          "2023-10-23T00:00:00",
          "2023-10-30T00:00:00",
          "2023-11-06T00:00:00",
          "2023-11-13T00:00:00",
          "2023-11-20T00:00:00",
          "2023-11-27T00:00:00",
          "2023-12-04T00:00:00",
          "2023-12-11T00:00:00",
          "2023-12-18T00:00:00",
          "2023-12-25T00:00:00",
          "2024-01-01T00:00:00",
          "2024-01-08T00:00:00",
          "2024-01-15T00:00:00",
          "2024-01-22T00:00:00",
          "2024-01-29T00:00:00",
          "2024-02-05T00:00:00",
          "2024-02-12T00:00:00",
          "2024-02-19T00:00:00",
          "2024-02-26T00:00:00",
          "2024-03-04T00:00:00",
          "2024-03-11T00:00:00",
          "2024-03-18T00:00:00",
          "2024-03-25T00:00:00",
          "2024-04-01T00:00:00",
          "2024-04-08T00:00:00",
          "2024-04-15T00:00:00",
          "2024-04-22T00:00:00"
         ],
         "xaxis": "x",
         "y": [
          -32.63249068385538,
          -31.79769971187031,
          -30.75353960040247,
          -32.0957534826445,
          -31.87082808564231,
          -29.63694605009634,
          -31.12445099089448,
          -24.82969030520646,
          -26.7704677206851,
          -23.90857735274205,
          -33.70244804111627,
          -27.30293643384537,
          -25.88695889414333,
          -22.91195510530076,
          -27.78475657380891,
          -33.25,
          -28.20819578999014,
          -27.51179984233187,
          -20.0690347711899,
          -24.96989508375748,
          -22.46076977819949,
          -28.94280078895463,
          -28.11584045016558,
          -21.90676874099901,
          -24.59947959170022,
          -16.26613279025215,
          -23.22978573737143,
          -16.95386592418076,
          -25.66485337335084,
          -20.04720770526498,
          -23.2427555140495,
          -24.11577829397662,
          -27.47817150434654,
          -22.49943264915024,
          -19.37814939673527,
          -18.68141951475285,
          -19.05270124048382,
          -20.39222162203873,
          -23.40605646472684,
          -22.46792313182311,
          -26.00976340531047,
          -29.21584037047125,
          -30.63772906518209,
          -23.77536144668943,
          -19.98020991018266,
          -17.44937052311699,
          -17.04050309681626,
          -18.0288230788869,
          -17.94087173419463,
          -18.70201865057598,
          -20.14053279379532,
          -21.57841408838173,
          -13.80759937175305,
          -24.16463906981752,
          -15.75595545834162,
          -21.42614944316556,
          -19.11272495001111,
          -6.302696738077295,
          -2.995830660679924,
          4.450354609929078,
          -7.118661285079638,
          0.1011706583610782,
          4.268577060845733,
          5.107424674233564,
          10.51924228575031,
          13.1816178925114,
          9.231718898385566,
          24.16576381365114,
          13.92347462147634,
          13.1291405352884,
          17.05878070775884,
          16.88493679101946,
          24.20520825254013,
          37.05624151786903,
          19.61043934260794,
          27.1454673281092,
          28.85732474845762,
          25.76832677676378,
          36.18014860876898,
          36.88955454958518,
          36.86169490623045,
          34.42073001649177,
          28.35125776980518,
          21.73123732251521,
          24.16733671697608,
          25.5060758881943,
          28.18682092207769,
          35.22514830508475,
          39.51419135595653,
          38.49440095793512,
          25.36272061788517,
          29.81769191828471,
          39.66108680365652,
          47.10468828768274,
          46.65647712697734,
          49.0604398356878,
          54.2515772135376,
          47.58391936511613,
          47.35436477864422,
          47.97448749616861,
          50.86567303539957,
          63.32675871137408,
          57.57147357643537,
          59.5182183247784,
          59.52664836006165,
          61.85445736070162,
          61.39480484762074,
          81.91791222856148,
          76.14978171867077,
          76.5865011636928,
          74.13663741731125,
          74.9669859020879,
          82.06852509043526,
          78.25189720914634,
          75.15238519414,
          60.95062371566669,
          64.72813020159052,
          77.6231466278968,
          64.90014495087776,
          64.69880815623205,
          65.5129206730769,
          69.5229396815518,
          72.71879782941416,
          69.8377538201665,
          68.58205644081673,
          64.00019981018033,
          47.53401466617958,
          48.00063690366829,
          58.78869482460492,
          50.18683006645071,
          52.70463678879462,
          46.17563882436119,
          47.36891589382797,
          45.41525527736869,
          44.066445777738,
          48.01019506158288,
          32.58325675718495,
          27.19193374875676,
          26.74760264203112,
          32.14846773499985,
          39.9257196890103,
          40.20417474620736,
          36.40417099179012,
          36.90987044592371,
          37.99915535654368,
          19.45300950369588,
          21.02631795265234,
          12.87866288562344,
          14.15597832559247,
          17.10479307432432,
          13.71264993557987,
          13.03203041292344,
          11.32502847903576,
          11.74248324958124,
          14.04257558252594,
          12.61083512297906,
          10.40019567497781,
          10.04432549004506,
          13.60562283210612,
          15.50395018124361,
          12.00810304878847,
          12.11082551922192,
          12.2787381367422,
          11.81226260614143,
          13.88582851825402,
          13.43596896603547,
          9.987066596646352,
          15.52399921314055,
          16.63981396659855,
          14.32046243946962,
          31.85308441558442,
          23.57576284447536,
          24.893239932629,
          24.00387205993589,
          25.0304045724532,
          29.84427814680904,
          30.23446699338882,
          31.09457026064326,
          33.52160527233586,
          29.85793042266016,
          27.109410430839,
          34.24279522024366,
          30.89205074674803,
          25.47480154785029,
          18.2719052945563,
          19.31525231525232,
          15.50855084937712,
          23.46255905779835,
          20.92461191880148
         ],
         "yaxis": "y"
        }
       ],
       "layout": {
        "legend": {
         "title": {
          "text": "full"
         },
         "tracegroupgap": 0
        },
        "template": {
         "data": {
          "bar": [
           {
            "error_x": {
             "color": "#2a3f5f"
            },
            "error_y": {
             "color": "#2a3f5f"
            },
            "marker": {
             "line": {
              "color": "#E5ECF6",
              "width": 0.5
             },
             "pattern": {
              "fillmode": "overlay",
              "size": 10,
              "solidity": 0.2
             }
            },
            "type": "bar"
           }
          ],
          "barpolar": [
           {
            "marker": {
             "line": {
              "color": "#E5ECF6",
              "width": 0.5
             },
             "pattern": {
              "fillmode": "overlay",
              "size": 10,
              "solidity": 0.2
             }
            },
            "type": "barpolar"
           }
          ],
          "carpet": [
           {
            "aaxis": {
             "endlinecolor": "#2a3f5f",
             "gridcolor": "white",
             "linecolor": "white",
             "minorgridcolor": "white",
             "startlinecolor": "#2a3f5f"
            },
            "baxis": {
             "endlinecolor": "#2a3f5f",
             "gridcolor": "white",
             "linecolor": "white",
             "minorgridcolor": "white",
             "startlinecolor": "#2a3f5f"
            },
            "type": "carpet"
           }
          ],
          "choropleth": [
           {
            "colorbar": {
             "outlinewidth": 0,
             "ticks": ""
            },
            "type": "choropleth"
           }
          ],
          "contour": [
           {
            "colorbar": {
             "outlinewidth": 0,
             "ticks": ""
            },
            "colorscale": [
             [
              0,
              "#0d0887"
             ],
             [
              0.1111111111111111,
              "#46039f"
             ],
             [
              0.2222222222222222,
              "#7201a8"
             ],
             [
              0.3333333333333333,
              "#9c179e"
             ],
             [
              0.4444444444444444,
              "#bd3786"
             ],
             [
              0.5555555555555556,
              "#d8576b"
             ],
             [
              0.6666666666666666,
              "#ed7953"
             ],
             [
              0.7777777777777778,
              "#fb9f3a"
             ],
             [
              0.8888888888888888,
              "#fdca26"
             ],
             [
              1,
              "#f0f921"
             ]
            ],
            "type": "contour"
           }
          ],
          "contourcarpet": [
           {
            "colorbar": {
             "outlinewidth": 0,
             "ticks": ""
            },
            "type": "contourcarpet"
           }
          ],
          "heatmap": [
           {
            "colorbar": {
             "outlinewidth": 0,
             "ticks": ""
            },
            "colorscale": [
             [
              0,
              "#0d0887"
             ],
             [
              0.1111111111111111,
              "#46039f"
             ],
             [
              0.2222222222222222,
              "#7201a8"
             ],
             [
              0.3333333333333333,
              "#9c179e"
             ],
             [
              0.4444444444444444,
              "#bd3786"
             ],
             [
              0.5555555555555556,
              "#d8576b"
             ],
             [
              0.6666666666666666,
              "#ed7953"
             ],
             [
              0.7777777777777778,
              "#fb9f3a"
             ],
             [
              0.8888888888888888,
              "#fdca26"
             ],
             [
              1,
              "#f0f921"
             ]
            ],
            "type": "heatmap"
           }
          ],
          "heatmapgl": [
           {
            "colorbar": {
             "outlinewidth": 0,
             "ticks": ""
            },
            "colorscale": [
             [
              0,
              "#0d0887"
             ],
             [
              0.1111111111111111,
              "#46039f"
             ],
             [
              0.2222222222222222,
              "#7201a8"
             ],
             [
              0.3333333333333333,
              "#9c179e"
             ],
             [
              0.4444444444444444,
              "#bd3786"
             ],
             [
              0.5555555555555556,
              "#d8576b"
             ],
             [
              0.6666666666666666,
              "#ed7953"
             ],
             [
              0.7777777777777778,
              "#fb9f3a"
             ],
             [
              0.8888888888888888,
              "#fdca26"
             ],
             [
              1,
              "#f0f921"
             ]
            ],
            "type": "heatmapgl"
           }
          ],
          "histogram": [
           {
            "marker": {
             "pattern": {
              "fillmode": "overlay",
              "size": 10,
              "solidity": 0.2
             }
            },
            "type": "histogram"
           }
          ],
          "histogram2d": [
           {
            "colorbar": {
             "outlinewidth": 0,
             "ticks": ""
            },
            "colorscale": [
             [
              0,
              "#0d0887"
             ],
             [
              0.1111111111111111,
              "#46039f"
             ],
             [
              0.2222222222222222,
              "#7201a8"
             ],
             [
              0.3333333333333333,
              "#9c179e"
             ],
             [
              0.4444444444444444,
              "#bd3786"
             ],
             [
              0.5555555555555556,
              "#d8576b"
             ],
             [
              0.6666666666666666,
              "#ed7953"
             ],
             [
              0.7777777777777778,
              "#fb9f3a"
             ],
             [
              0.8888888888888888,
              "#fdca26"
             ],
             [
              1,
              "#f0f921"
             ]
            ],
            "type": "histogram2d"
           }
          ],
          "histogram2dcontour": [
           {
            "colorbar": {
             "outlinewidth": 0,
             "ticks": ""
            },
            "colorscale": [
             [
              0,
              "#0d0887"
             ],
             [
              0.1111111111111111,
              "#46039f"
             ],
             [
              0.2222222222222222,
              "#7201a8"
             ],
             [
              0.3333333333333333,
              "#9c179e"
             ],
             [
              0.4444444444444444,
              "#bd3786"
             ],
             [
              0.5555555555555556,
              "#d8576b"
             ],
             [
              0.6666666666666666,
              "#ed7953"
             ],
             [
              0.7777777777777778,
              "#fb9f3a"
             ],
             [
              0.8888888888888888,
              "#fdca26"
             ],
             [
              1,
              "#f0f921"
             ]
            ],
            "type": "histogram2dcontour"
           }
          ],
          "mesh3d": [
           {
            "colorbar": {
             "outlinewidth": 0,
             "ticks": ""
            },
            "type": "mesh3d"
           }
          ],
          "parcoords": [
           {
            "line": {
             "colorbar": {
              "outlinewidth": 0,
              "ticks": ""
             }
            },
            "type": "parcoords"
           }
          ],
          "pie": [
           {
            "automargin": true,
            "type": "pie"
           }
          ],
          "scatter": [
           {
            "fillpattern": {
             "fillmode": "overlay",
             "size": 10,
             "solidity": 0.2
            },
            "type": "scatter"
           }
          ],
          "scatter3d": [
           {
            "line": {
             "colorbar": {
              "outlinewidth": 0,
              "ticks": ""
             }
            },
            "marker": {
             "colorbar": {
              "outlinewidth": 0,
              "ticks": ""
             }
            },
            "type": "scatter3d"
           }
          ],
          "scattercarpet": [
           {
            "marker": {
             "colorbar": {
              "outlinewidth": 0,
              "ticks": ""
             }
            },
            "type": "scattercarpet"
           }
          ],
          "scattergeo": [
           {
            "marker": {
             "colorbar": {
              "outlinewidth": 0,
              "ticks": ""
             }
            },
            "type": "scattergeo"
           }
          ],
          "scattergl": [
           {
            "marker": {
             "colorbar": {
              "outlinewidth": 0,
              "ticks": ""
             }
            },
            "type": "scattergl"
           }
          ],
          "scattermapbox": [
           {
            "marker": {
             "colorbar": {
              "outlinewidth": 0,
              "ticks": ""
             }
            },
            "type": "scattermapbox"
           }
          ],
          "scatterpolar": [
           {
            "marker": {
             "colorbar": {
              "outlinewidth": 0,
              "ticks": ""
             }
            },
            "type": "scatterpolar"
           }
          ],
          "scatterpolargl": [
           {
            "marker": {
             "colorbar": {
              "outlinewidth": 0,
              "ticks": ""
             }
            },
            "type": "scatterpolargl"
           }
          ],
          "scatterternary": [
           {
            "marker": {
             "colorbar": {
              "outlinewidth": 0,
              "ticks": ""
             }
            },
            "type": "scatterternary"
           }
          ],
          "surface": [
           {
            "colorbar": {
             "outlinewidth": 0,
             "ticks": ""
            },
            "colorscale": [
             [
              0,
              "#0d0887"
             ],
             [
              0.1111111111111111,
              "#46039f"
             ],
             [
              0.2222222222222222,
              "#7201a8"
             ],
             [
              0.3333333333333333,
              "#9c179e"
             ],
             [
              0.4444444444444444,
              "#bd3786"
             ],
             [
              0.5555555555555556,
              "#d8576b"
             ],
             [
              0.6666666666666666,
              "#ed7953"
             ],
             [
              0.7777777777777778,
              "#fb9f3a"
             ],
             [
              0.8888888888888888,
              "#fdca26"
             ],
             [
              1,
              "#f0f921"
             ]
            ],
            "type": "surface"
           }
          ],
          "table": [
           {
            "cells": {
             "fill": {
              "color": "#EBF0F8"
             },
             "line": {
              "color": "white"
             }
            },
            "header": {
             "fill": {
              "color": "#C8D4E3"
             },
             "line": {
              "color": "white"
             }
            },
            "type": "table"
           }
          ]
         },
         "layout": {
          "annotationdefaults": {
           "arrowcolor": "#2a3f5f",
           "arrowhead": 0,
           "arrowwidth": 1
          },
          "autotypenumbers": "strict",
          "coloraxis": {
           "colorbar": {
            "outlinewidth": 0,
            "ticks": ""
           }
          },
          "colorscale": {
           "diverging": [
            [
             0,
             "#8e0152"
            ],
            [
             0.1,
             "#c51b7d"
            ],
            [
             0.2,
             "#de77ae"
            ],
            [
             0.3,
             "#f1b6da"
            ],
            [
             0.4,
             "#fde0ef"
            ],
            [
             0.5,
             "#f7f7f7"
            ],
            [
             0.6,
             "#e6f5d0"
            ],
            [
             0.7,
             "#b8e186"
            ],
            [
             0.8,
             "#7fbc41"
            ],
            [
             0.9,
             "#4d9221"
            ],
            [
             1,
             "#276419"
            ]
           ],
           "sequential": [
            [
             0,
             "#0d0887"
            ],
            [
             0.1111111111111111,
             "#46039f"
            ],
            [
             0.2222222222222222,
             "#7201a8"
            ],
            [
             0.3333333333333333,
             "#9c179e"
            ],
            [
             0.4444444444444444,
             "#bd3786"
            ],
            [
             0.5555555555555556,
             "#d8576b"
            ],
            [
             0.6666666666666666,
             "#ed7953"
            ],
            [
             0.7777777777777778,
             "#fb9f3a"
            ],
            [
             0.8888888888888888,
             "#fdca26"
            ],
            [
             1,
             "#f0f921"
            ]
           ],
           "sequentialminus": [
            [
             0,
             "#0d0887"
            ],
            [
             0.1111111111111111,
             "#46039f"
            ],
            [
             0.2222222222222222,
             "#7201a8"
            ],
            [
             0.3333333333333333,
             "#9c179e"
            ],
            [
             0.4444444444444444,
             "#bd3786"
            ],
            [
             0.5555555555555556,
             "#d8576b"
            ],
            [
             0.6666666666666666,
             "#ed7953"
            ],
            [
             0.7777777777777778,
             "#fb9f3a"
            ],
            [
             0.8888888888888888,
             "#fdca26"
            ],
            [
             1,
             "#f0f921"
            ]
           ]
          },
          "colorway": [
           "#636efa",
           "#EF553B",
           "#00cc96",
           "#ab63fa",
           "#FFA15A",
           "#19d3f3",
           "#FF6692",
           "#B6E880",
           "#FF97FF",
           "#FECB52"
          ],
          "font": {
           "color": "#2a3f5f"
          },
          "geo": {
           "bgcolor": "white",
           "lakecolor": "white",
           "landcolor": "#E5ECF6",
           "showlakes": true,
           "showland": true,
           "subunitcolor": "white"
          },
          "hoverlabel": {
           "align": "left"
          },
          "hovermode": "closest",
          "mapbox": {
           "style": "light"
          },
          "paper_bgcolor": "white",
          "plot_bgcolor": "#E5ECF6",
          "polar": {
           "angularaxis": {
            "gridcolor": "white",
            "linecolor": "white",
            "ticks": ""
           },
           "bgcolor": "#E5ECF6",
           "radialaxis": {
            "gridcolor": "white",
            "linecolor": "white",
            "ticks": ""
           }
          },
          "scene": {
           "xaxis": {
            "backgroundcolor": "#E5ECF6",
            "gridcolor": "white",
            "gridwidth": 2,
            "linecolor": "white",
            "showbackground": true,
            "ticks": "",
            "zerolinecolor": "white"
           },
           "yaxis": {
            "backgroundcolor": "#E5ECF6",
            "gridcolor": "white",
            "gridwidth": 2,
            "linecolor": "white",
            "showbackground": true,
            "ticks": "",
            "zerolinecolor": "white"
           },
           "zaxis": {
            "backgroundcolor": "#E5ECF6",
            "gridcolor": "white",
            "gridwidth": 2,
            "linecolor": "white",
            "showbackground": true,
            "ticks": "",
            "zerolinecolor": "white"
           }
          },
          "shapedefaults": {
           "line": {
            "color": "#2a3f5f"
           }
          },
          "ternary": {
           "aaxis": {
            "gridcolor": "white",
            "linecolor": "white",
            "ticks": ""
           },
           "baxis": {
            "gridcolor": "white",
            "linecolor": "white",
            "ticks": ""
           },
           "bgcolor": "#E5ECF6",
           "caxis": {
            "gridcolor": "white",
            "linecolor": "white",
            "ticks": ""
           }
          },
          "title": {
           "x": 0.05
          },
          "xaxis": {
           "automargin": true,
           "gridcolor": "white",
           "linecolor": "white",
           "ticks": "",
           "title": {
            "standoff": 15
           },
           "zerolinecolor": "white",
           "zerolinewidth": 2
          },
          "yaxis": {
           "automargin": true,
           "gridcolor": "white",
           "linecolor": "white",
           "ticks": "",
           "title": {
            "standoff": 15
           },
           "zerolinecolor": "white",
           "zerolinewidth": 2
          }
         }
        },
        "title": {
         "text": "Weekly Prices for ['29', '30', '31', '38', '39'] by Category"
        },
        "xaxis": {
         "anchor": "y",
         "domain": [
          0,
          1
         ],
         "title": {
          "text": "date"
         }
        },
        "yaxis": {
         "anchor": "x",
         "domain": [
          0,
          1
         ],
         "title": {
          "text": "wPreis"
         }
        }
       }
      }
     },
     "metadata": {},
     "output_type": "display_data"
    }
   ],
   "source": [
    "# Get unique categories in the 'Plz' column\n",
    "categories = df['Plz'].unique()\n",
    "\n",
    "# Loop through each category\n",
    "for category in categories:\n",
    "    # Filter the dataframe for the current category\n",
    "    TS1 = df[df['Plz'] == category]\n",
    "    \n",
    "    # Create the plot\n",
    "    fig = px.line(TS1, x='date', y='wPreis', color='full', title=f'Weekly Prices for {category} by Category')\n",
    "    fig.show()"
   ]
  }
 ],
 "metadata": {
  "kernelspec": {
   "display_name": "Python 3",
   "language": "python",
   "name": "python3"
  },
  "language_info": {
   "codemirror_mode": {
    "name": "ipython",
    "version": 3
   },
   "file_extension": ".py",
   "mimetype": "text/x-python",
   "name": "python",
   "nbconvert_exporter": "python",
   "pygments_lexer": "ipython3",
   "version": "3.11.2"
  },
  "orig_nbformat": 4
 },
 "nbformat": 4,
 "nbformat_minor": 2
}
