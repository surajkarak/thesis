{
 "cells": [
  {
   "cell_type": "code",
   "execution_count": 116,
   "metadata": {},
   "outputs": [],
   "source": [
    "#Importing libraries\n",
    "import warnings\n",
    "warnings.simplefilter(action='ignore', category=FutureWarning)\n",
    "import numpy as np\n",
    "import pandas as pd\n",
    "from numpy import asarray\n",
    "from sklearn.metrics import mean_absolute_error\n",
    "import matplotlib.pyplot as plt\n",
    "import seaborn as sns\n",
    "import matplotlib.pyplot as plt\n",
    "import plotly.express as px\n",
    "import plotly.graph_objects as go\n",
    "from plotly.subplots import make_subplots\n",
    "import datetime\n",
    "from statsmodels.tsa.tsatools import lagmat\n",
    "from statsmodels.tsa.arima.model import ARIMA"
   ]
  },
  {
   "attachments": {},
   "cell_type": "markdown",
   "metadata": {},
   "source": [
    "# Data Import and Cleaning"
   ]
  },
  {
   "cell_type": "code",
   "execution_count": 117,
   "metadata": {},
   "outputs": [],
   "source": [
    "df = pd.read_excel(\"/Users/surajkwork/Documents/Thesis/thesis/df.xlsx\")"
   ]
  },
  {
   "attachments": {},
   "cell_type": "markdown",
   "metadata": {},
   "source": [
    "The date variable is not in datetime format so it has to be converted."
   ]
  },
  {
   "cell_type": "code",
   "execution_count": 118,
   "metadata": {},
   "outputs": [],
   "source": [
    "df['date']= pd.to_datetime(df['date'])\n",
    "df.index = df['date']\n",
    "df.sort_index(inplace=True)"
   ]
  },
  {
   "attachments": {},
   "cell_type": "markdown",
   "metadata": {},
   "source": [
    "Extracting one cluster from the dataset for analysis."
   ]
  },
  {
   "cell_type": "code",
   "execution_count": 119,
   "metadata": {},
   "outputs": [],
   "source": [
    "TS1 = df[(df['Plz'] == \"['25', '24']\")]"
   ]
  },
  {
   "attachments": {},
   "cell_type": "markdown",
   "metadata": {},
   "source": [
    "And from this cluster, extracting one category for analysis."
   ]
  },
  {
   "cell_type": "code",
   "execution_count": 120,
   "metadata": {},
   "outputs": [],
   "source": [
    "TS1_A2 = TS1[TS1['full'] == 'A2 -  geschreddert']"
   ]
  },
  {
   "cell_type": "code",
   "execution_count": 121,
   "metadata": {},
   "outputs": [],
   "source": [
    "TS1_A1A2 = TS1[TS1['full'] == 'A1 & A2 -  geschreddert']\n",
    "TS1_A2A3 = TS1[TS1['full'] == 'A2 & A3 -  geschreddert']"
   ]
  },
  {
   "cell_type": "code",
   "execution_count": 122,
   "metadata": {},
   "outputs": [],
   "source": [
    "datasets = [TS1_A2, TS1_A1A2, TS1_A2A3]"
   ]
  },
  {
   "attachments": {},
   "cell_type": "markdown",
   "metadata": {},
   "source": [
    "# Modelling - Train, test split"
   ]
  },
  {
   "cell_type": "code",
   "execution_count": 123,
   "metadata": {},
   "outputs": [],
   "source": [
    "nobs = 6\n",
    "df_train, df_test = TS1_A1A2[0:-nobs], TS1_A1A2[-nobs:]"
   ]
  },
  {
   "attachments": {},
   "cell_type": "markdown",
   "metadata": {},
   "source": [
    "## ARIMA Model\n"
   ]
  },
  {
   "attachments": {},
   "cell_type": "markdown",
   "metadata": {},
   "source": [
    "### Static forecast using ARIMA\n"
   ]
  },
  {
   "attachments": {},
   "cell_type": "markdown",
   "metadata": {},
   "source": [
    "No retraining. We just use the best ARIMA model to forecast for the test set and evaluate.\n",
    "We use the once-trained best ARIMA model to forecast for the 6 \"steps\" in one go. "
   ]
  },
  {
   "cell_type": "code",
   "execution_count": 124,
   "metadata": {},
   "outputs": [
    {
     "name": "stderr",
     "output_type": "stream",
     "text": [
      "/Library/Frameworks/Python.framework/Versions/3.11/lib/python3.11/site-packages/statsmodels/tsa/base/tsa_model.py:471: ValueWarning: A date index has been provided, but it has no associated frequency information and so will be ignored when e.g. forecasting.\n",
      "  self._init_dates(dates, freq)\n",
      "/Library/Frameworks/Python.framework/Versions/3.11/lib/python3.11/site-packages/statsmodels/tsa/base/tsa_model.py:471: ValueWarning: A date index has been provided, but it has no associated frequency information and so will be ignored when e.g. forecasting.\n",
      "  self._init_dates(dates, freq)\n",
      "/Library/Frameworks/Python.framework/Versions/3.11/lib/python3.11/site-packages/statsmodels/tsa/base/tsa_model.py:471: ValueWarning: A date index has been provided, but it has no associated frequency information and so will be ignored when e.g. forecasting.\n",
      "  self._init_dates(dates, freq)\n"
     ]
    }
   ],
   "source": [
    "model = ARIMA(df_train['wPreis'], order=(4, 1, 0))\n",
    "static_ARIMA = model.fit()"
   ]
  },
  {
   "cell_type": "code",
   "execution_count": 125,
   "metadata": {},
   "outputs": [
    {
     "name": "stderr",
     "output_type": "stream",
     "text": [
      "/Library/Frameworks/Python.framework/Versions/3.11/lib/python3.11/site-packages/statsmodels/tsa/base/tsa_model.py:834: ValueWarning: No supported index is available. Prediction results will be given with an integer index beginning at `start`.\n",
      "  return get_prediction_index(\n"
     ]
    },
    {
     "data": {
      "text/plain": [
       "148     9.790221\n",
       "149    10.235383\n",
       "150     5.506046\n",
       "151     4.813487\n",
       "152     6.839276\n",
       "153     5.841581\n",
       "Name: predicted_mean, dtype: float64"
      ]
     },
     "execution_count": 125,
     "metadata": {},
     "output_type": "execute_result"
    }
   ],
   "source": [
    "static_ARIMA.forecast(steps=nobs) "
   ]
  },
  {
   "attachments": {},
   "cell_type": "markdown",
   "metadata": {},
   "source": [
    "The ARIMA forecast function does not require an \"input\" other than the steps, so either\n",
    "- we can do a static forecast (train once on the entire training dataset) and test the predictions for the required steps to compare with the test dataset or\n",
    "- train in a walk-forward validation where we retrain the model with every step of the test dataset on the new training set which includes the new observation"
   ]
  },
  {
   "cell_type": "code",
   "execution_count": 126,
   "metadata": {},
   "outputs": [
    {
     "name": "stderr",
     "output_type": "stream",
     "text": [
      "/Library/Frameworks/Python.framework/Versions/3.11/lib/python3.11/site-packages/statsmodels/tsa/base/tsa_model.py:834: ValueWarning: No supported index is available. Prediction results will be given with an integer index beginning at `start`.\n",
      "  return get_prediction_index(\n"
     ]
    }
   ],
   "source": [
    "fc = static_ARIMA.forecast(steps=nobs) \n"
   ]
  },
  {
   "cell_type": "code",
   "execution_count": 127,
   "metadata": {},
   "outputs": [],
   "source": [
    "a = np.array(fc)\n",
    "test= pd.DataFrame(a, columns=['E'])\n",
    "df_forecast = pd.DataFrame(a, index=df_test.index[-nobs:], columns=['Predicted_wPreis'])"
   ]
  },
  {
   "cell_type": "code",
   "execution_count": 128,
   "metadata": {},
   "outputs": [
    {
     "data": {
      "image/png": "[encoded data removed]",
      "text/plain": [
       "<Figure size 1500x700 with 1 Axes>"
      ]
     },
     "metadata": {},
     "output_type": "display_data"
    }
   ],
   "source": [
    "# Plot actual vs predicted values\n",
    "plt.figure(figsize=(15, 7))\n",
    "plt.plot(df_test[\"wPreis\"], color='black', label='Actual wPreis')\n",
    "plt.plot(df_forecast, color='red', label='Predicted wPreis')\n",
    "plt.xlabel(\"Timestamp\")\n",
    "plt.grid(True)\n",
    "plt.legend(loc='upper left')\n",
    "plt.title('Predicted vs Actual wPreis')\n",
    "plt.show()"
   ]
  },
  {
   "attachments": {},
   "cell_type": "markdown",
   "metadata": {},
   "source": [
    "We will define a forecast accuracyy function that will calculate the mean error, RMSE and also the direction accuracy. "
   ]
  },
  {
   "cell_type": "code",
   "execution_count": 129,
   "metadata": {},
   "outputs": [],
   "source": [
    "def forecast_accuracy(forecast, actual):\n",
    "      me = np.mean(forecast - actual)             # ME\n",
    "      rmse = np.mean((forecast - actual)**2)**.5  # RMSE\n",
    "      # Direction accuracy\n",
    "      forecast_diff = np.diff(forecast)\n",
    "      actual_diff = np.diff(actual)\n",
    "      direction_accuracy = np.mean(np.sign(forecast_diff) == np.sign(actual_diff))\n",
    "    \n",
    "      return {'me': me, 'rmse': rmse, 'direction_accuracy': direction_accuracy}\n"
   ]
  },
  {
   "cell_type": "code",
   "execution_count": 130,
   "metadata": {},
   "outputs": [
    {
     "name": "stdout",
     "output_type": "stream",
     "text": [
      "Forecast Accuracy of: wPreis\n",
      "me     :  1.9176\n",
      "rmse   :  2.2485\n",
      "direction_accuracy :  0.8\n"
     ]
    }
   ],
   "source": [
    "def adjust(val, length= 6): return str(val).ljust(length) # length\n",
    "print('Forecast Accuracy of: wPreis')\n",
    "accuracy_prod = forecast_accuracy(df_forecast['Predicted_wPreis'].values, df_test['wPreis'])\n",
    "for k, v in accuracy_prod.items():\n",
    "    print(adjust(k), ': ', round(v,4))"
   ]
  },
  {
   "attachments": {},
   "cell_type": "markdown",
   "metadata": {},
   "source": [
    "## Trying ~~ comparison with rolling window ~~ (not relevant)"
   ]
  },
  {
   "cell_type": "code",
   "execution_count": 131,
   "metadata": {},
   "outputs": [],
   "source": [
    "window = df_train['wPreis'][-4:].tolist() "
   ]
  },
  {
   "cell_type": "code",
   "execution_count": 132,
   "metadata": {},
   "outputs": [
    {
     "name": "stderr",
     "output_type": "stream",
     "text": [
      "/Library/Frameworks/Python.framework/Versions/3.11/lib/python3.11/site-packages/statsmodels/tsa/base/tsa_model.py:834: ValueWarning: No supported index is available. Prediction results will be given with an integer index beginning at `start`.\n",
      "  return get_prediction_index(\n"
     ]
    },
    {
     "data": {
      "text/plain": [
       "148    9.790221\n",
       "dtype: float64"
      ]
     },
     "execution_count": 132,
     "metadata": {},
     "output_type": "execute_result"
    }
   ],
   "source": [
    "# one-step out of sample forecast\n",
    "start_index = len(df_train)\n",
    "end_index = len(df_train)\n",
    "static_ARIMA.predict(start=start_index, end=end_index)"
   ]
  },
  {
   "cell_type": "code",
   "execution_count": 133,
   "metadata": {},
   "outputs": [],
   "source": [
    "test = df_test['wPreis'].tolist()"
   ]
  },
  {
   "cell_type": "code",
   "execution_count": 134,
   "metadata": {},
   "outputs": [
    {
     "name": "stdout",
     "output_type": "stream",
     "text": [
      "[148    9.790221\n",
      "dtype: float64]\n",
      "[148    9.790221\n",
      "dtype: float64, 149    10.235383\n",
      "dtype: float64]\n",
      "[148    9.790221\n",
      "dtype: float64, 149    10.235383\n",
      "dtype: float64, 150    5.506046\n",
      "dtype: float64]\n",
      "[148    9.790221\n",
      "dtype: float64, 149    10.235383\n",
      "dtype: float64, 150    5.506046\n",
      "dtype: float64, 151    4.813487\n",
      "dtype: float64]\n",
      "[148    9.790221\n",
      "dtype: float64, 149    10.235383\n",
      "dtype: float64, 150    5.506046\n",
      "dtype: float64, 151    4.813487\n",
      "dtype: float64, 152    6.839276\n",
      "dtype: float64]\n",
      "[148    9.790221\n",
      "dtype: float64, 149    10.235383\n",
      "dtype: float64, 150    5.506046\n",
      "dtype: float64, 151    4.813487\n",
      "dtype: float64, 152    6.839276\n",
      "dtype: float64, 153    5.841581\n",
      "dtype: float64]\n"
     ]
    },
    {
     "name": "stderr",
     "output_type": "stream",
     "text": [
      "/Library/Frameworks/Python.framework/Versions/3.11/lib/python3.11/site-packages/statsmodels/tsa/base/tsa_model.py:834: ValueWarning: No supported index is available. Prediction results will be given with an integer index beginning at `start`.\n",
      "  return get_prediction_index(\n",
      "/Library/Frameworks/Python.framework/Versions/3.11/lib/python3.11/site-packages/statsmodels/tsa/base/tsa_model.py:834: ValueWarning: No supported index is available. Prediction results will be given with an integer index beginning at `start`.\n",
      "  return get_prediction_index(\n",
      "/Library/Frameworks/Python.framework/Versions/3.11/lib/python3.11/site-packages/statsmodels/tsa/base/tsa_model.py:834: ValueWarning: No supported index is available. Prediction results will be given with an integer index beginning at `start`.\n",
      "  return get_prediction_index(\n",
      "/Library/Frameworks/Python.framework/Versions/3.11/lib/python3.11/site-packages/statsmodels/tsa/base/tsa_model.py:834: ValueWarning: No supported index is available. Prediction results will be given with an integer index beginning at `start`.\n",
      "  return get_prediction_index(\n",
      "/Library/Frameworks/Python.framework/Versions/3.11/lib/python3.11/site-packages/statsmodels/tsa/base/tsa_model.py:834: ValueWarning: No supported index is available. Prediction results will be given with an integer index beginning at `start`.\n",
      "  return get_prediction_index(\n",
      "/Library/Frameworks/Python.framework/Versions/3.11/lib/python3.11/site-packages/statsmodels/tsa/base/tsa_model.py:834: ValueWarning: No supported index is available. Prediction results will be given with an integer index beginning at `start`.\n",
      "  return get_prediction_index(\n"
     ]
    }
   ],
   "source": [
    "rolling_predictions = list()\n",
    "rolling_expect=[]\n",
    "\n",
    "# Iterate over each step in the test set\n",
    "for t in range(len(test)):\n",
    "    output = static_ARIMA.predict(start=start_index+t, end=end_index+t)  # Going through each of the t and predicting for that tth step. \n",
    "    obs = test[t]\n",
    "    rolling_predictions.append(output)\n",
    "    print(rolling_predictions)\n"
   ]
  },
  {
   "attachments": {},
   "cell_type": "markdown",
   "metadata": {},
   "source": [
    " Now we get the same as static forecast. Which again suggests that there is no meaning to a rolling forecast without retraining. And retraining would be the walk-forward validation. "
   ]
  },
  {
   "attachments": {},
   "cell_type": "markdown",
   "metadata": {},
   "source": [
    "# Walk forward validation using ARIMA model\n",
    "\n",
    "Training the whole model at each iteration including the new observation (for the next day)  "
   ]
  },
  {
   "cell_type": "code",
   "execution_count": 135,
   "metadata": {},
   "outputs": [],
   "source": [
    "X = TS1_A1A2[\"wPreis\"].values"
   ]
  },
  {
   "attachments": {},
   "cell_type": "markdown",
   "metadata": {},
   "source": [
    "Take 148 observations for training and 6 for testing."
   ]
  },
  {
   "cell_type": "code",
   "execution_count": 136,
   "metadata": {},
   "outputs": [],
   "source": [
    "size = 148\n",
    "train, test = X[0:size], X[size:len(X)] "
   ]
  },
  {
   "cell_type": "code",
   "execution_count": 137,
   "metadata": {},
   "outputs": [],
   "source": [
    "history = [x for x in train] # \"list comprehensions\". \n",
    "expect=[]"
   ]
  },
  {
   "cell_type": "code",
   "execution_count": 138,
   "metadata": {},
   "outputs": [],
   "source": [
    "predictions = list()\n",
    "for t in range(len(test)): # 6 times reiterate\n",
    "    model = ARIMA(history, order=(4,1,0))  \n",
    "    model_fit = model.fit()\n",
    "    output = model_fit.forecast()\n",
    "    yhat = output[0]\n",
    "    predictions.append(yhat)\n",
    "    obs = test[t]\n",
    "    history.append(obs) # appends the real observation at each loop! \n",
    "    expect.append(obs)\n",
    "\n",
    "    \n",
    "# print(expect)\n",
    "# print(predictions)"
   ]
  },
  {
   "cell_type": "code",
   "execution_count": 139,
   "metadata": {},
   "outputs": [],
   "source": [
    "df_wPreis = pd.DataFrame(\n",
    "    {'observations': expect,\n",
    "     'forecast': predictions, \n",
    "    })\n"
   ]
  },
  {
   "cell_type": "code",
   "execution_count": 140,
   "metadata": {},
   "outputs": [
    {
     "name": "stdout",
     "output_type": "stream",
     "text": [
      "Forecast Accuracy of wPreis\n",
      "me         :  0.5185\n",
      "rmse       :  1.9551\n",
      "direction_accuracy :  0.4\n"
     ]
    }
   ],
   "source": [
    "def adjust(val, length= 10): return str(val).ljust(length) # 10\n",
    "print('Forecast Accuracy of wPreis')\n",
    "accuracy_prod = forecast_accuracy(df_wPreis['forecast'].values, df_wPreis['observations'].values)\n",
    "for k, v in accuracy_prod.items():\n",
    "    print(adjust(k), ': ', round(v,4))"
   ]
  },
  {
   "attachments": {},
   "cell_type": "markdown",
   "metadata": {},
   "source": [
    "Here, the me and rmse has improved but the direction_accuracy has decreased even further!"
   ]
  },
  {
   "cell_type": "code",
   "execution_count": 141,
   "metadata": {},
   "outputs": [
    {
     "data": {
      "image/png": "[encoded data removed]",
      "text/plain": [
       "<Figure size 1500x700 with 2 Axes>"
      ]
     },
     "metadata": {},
     "output_type": "display_data"
    }
   ],
   "source": [
    "plt.figure(figsize= (15,7))\n",
    "plt.xlabel(\"Timestamp\")\n",
    "\n",
    "ax1 = df_wPreis.observations.plot(color = 'black', grid = True, label = 'Actual wPreis')\n",
    "ax2 = df_wPreis.forecast.plot(color = 'red', grid = True, secondary_y = True, label = 'Predicted wPreis')\n",
    "\n",
    "ax1.legend(loc=1)\n",
    "ax2.legend(loc=2)\n",
    "plt.title('Predicted Vs Actual wPreis')\n",
    "plt.show()"
   ]
  },
  {
   "attachments": {},
   "cell_type": "markdown",
   "metadata": {},
   "source": [
    "# XGBOOST"
   ]
  },
  {
   "cell_type": "code",
   "execution_count": 142,
   "metadata": {},
   "outputs": [],
   "source": [
    "from xgboost import XGBRegressor\n"
   ]
  },
  {
   "cell_type": "code",
   "execution_count": 143,
   "metadata": {},
   "outputs": [],
   "source": [
    "from pandas import concat\n"
   ]
  },
  {
   "cell_type": "code",
   "execution_count": 144,
   "metadata": {},
   "outputs": [],
   "source": [
    "# transform a time series dataset into a supervised learning dataset\n",
    "def series_to_supervised(data, n_in=1, n_out=1, dropnan=True):\n",
    " n_vars = 1 if type(data) is list else data.shape[1]\n",
    " df = pd.DataFrame(data)\n",
    " cols = list()\n",
    " # input sequence (t-n, ... t-1)\n",
    " for i in range(n_in, 0, -1):\n",
    "    cols.append(df.shift(i))\n",
    " # forecast sequence (t, t+1, ... t+n)\n",
    " for i in range(0, n_out):\n",
    "    cols.append(df.shift(-i))\n",
    "    # put it all together\n",
    "    agg = concat(cols, axis=1)\n",
    "# drop rows with NaN values\n",
    " if dropnan:\n",
    "    agg.dropna(inplace=True)\n",
    " return agg.values"
   ]
  },
  {
   "cell_type": "code",
   "execution_count": 145,
   "metadata": {},
   "outputs": [],
   "source": [
    "\n",
    "# split a univariate dataset into train/test sets\n",
    "def train_test_split(data, n_test):\n",
    " return data[:-n_test, :], data[-n_test:, :]"
   ]
  },
  {
   "cell_type": "code",
   "execution_count": 146,
   "metadata": {},
   "outputs": [],
   "source": [
    "# fit an xgboost model and make a one step prediction\n",
    "def xgboost_forecast(train, testX):\n",
    " # transform list into array\n",
    " train = asarray(train)\n",
    " # split into input and output columns\n",
    " trainX, trainy = train[:, :-1], train[:, -1]\n",
    " # fit model\n",
    " model = XGBRegressor(objective='reg:squarederror', n_estimators=1000)\n",
    " model.fit(trainX, trainy)\n",
    " # make a one-step prediction\n",
    " yhat = model.predict(asarray([testX]))\n",
    " return yhat[0]"
   ]
  },
  {
   "attachments": {},
   "cell_type": "markdown",
   "metadata": {},
   "source": [
    "## Walk-forward validation using XGBoost\n",
    "\n",
    "Retraining model on updated training data, appended at every step to add the new value from test set."
   ]
  },
  {
   "cell_type": "code",
   "execution_count": 147,
   "metadata": {},
   "outputs": [],
   "source": [
    "# walk-forward validation for univariate data\n",
    "def walk_forward_validation(data, n_test):\n",
    " predictions = list()\n",
    " direction_accuracies = list() \n",
    " # split dataset\n",
    " train, test = train_test_split(data, n_test)\n",
    " # seed history with training dataset\n",
    " history = [x for x in train]\n",
    " # step over each time-step in the test set\n",
    " for i in range(len(test)):\n",
    " # split test row into input and output columns\n",
    "    testX, testy = test[i, :-1], test[i, -1]\n",
    "    # fit model on history and make a prediction\n",
    "    yhat = xgboost_forecast(history, testX)\n",
    "    # store forecast in list of predictions\n",
    "    predictions.append(yhat)\n",
    "    if i > 0:  # Direction accuracy is not applicable for the first prediction\n",
    "            forecast_diff = yhat - predictions[-2]\n",
    "            actual_diff = testy - test[i - 1, -1]\n",
    "            direction_accuracy = int(np.sign(forecast_diff) == np.sign(actual_diff))\n",
    "            direction_accuracies.append(direction_accuracy)\n",
    "\n",
    "    # add actual observation to history for the next loop\n",
    "    history.append(test[i])\n",
    "    # summarize progress\n",
    "    print('>expected=%.1f, predicted=%.1f' % (testy, yhat))\n",
    " # estimate prediction error\n",
    " error = mean_absolute_error(test[:, -1], predictions)\n",
    " me = np.mean(predictions - test[:, -1])  # Mean Error\n",
    " rmse = mean_squared_error(test[:, -1], predictions, squared=False)\n",
    " overall_direction_accuracy = np.mean(direction_accuracies)\n",
    "\n",
    " return error, me, rmse ,test[:, -1], predictions, overall_direction_accuracy"
   ]
  },
  {
   "cell_type": "code",
   "execution_count": 148,
   "metadata": {},
   "outputs": [],
   "source": [
    "X = TS1_A1A2[\"wPreis\"].values.reshape(-1, 1)"
   ]
  },
  {
   "cell_type": "code",
   "execution_count": 149,
   "metadata": {},
   "outputs": [],
   "source": [
    "import pandas as pd\n"
   ]
  },
  {
   "cell_type": "code",
   "execution_count": 150,
   "metadata": {},
   "outputs": [],
   "source": [
    "# transform the time series data into supervised learning\n",
    "data2 = series_to_supervised(X, n_in=4)"
   ]
  },
  {
   "cell_type": "code",
   "execution_count": 151,
   "metadata": {},
   "outputs": [],
   "source": [
    "from sklearn.metrics import mean_squared_error\n"
   ]
  },
  {
   "cell_type": "code",
   "execution_count": 152,
   "metadata": {},
   "outputs": [
    {
     "name": "stdout",
     "output_type": "stream",
     "text": [
      ">expected=7.5, predicted=15.1\n",
      ">expected=7.8, predicted=9.0\n",
      ">expected=3.5, predicted=6.0\n",
      ">expected=3.9, predicted=6.1\n",
      ">expected=6.8, predicted=7.1\n",
      ">expected=2.1, predicted=4.7\n",
      "MAE: 2.751\n",
      "ME: 2.751\n",
      "RMSE: 3.603\n",
      "Direction Accuracy: 0.800\n"
     ]
    },
    {
     "data": {
      "image/png": "[encoded data removed]",
      "text/plain": [
       "<Figure size 640x480 with 1 Axes>"
      ]
     },
     "metadata": {},
     "output_type": "display_data"
    }
   ],
   "source": [
    "# evaluate\n",
    "mae, me, rmse, y, yhat, direction_accuracy = walk_forward_validation(data2, 6)\n",
    "print('MAE: %.3f' % mae)\n",
    "print('ME: %.3f' % me)\n",
    "print('RMSE: %.3f' % rmse)\n",
    "print('Direction Accuracy: %.3f' % direction_accuracy)\n",
    "# plot expected vs preducted\n",
    "plt.plot(y, label='Expected')\n",
    "plt.plot(yhat, label='Predicted')\n",
    "plt.legend()\n",
    "plt.show()"
   ]
  },
  {
   "attachments": {},
   "cell_type": "markdown",
   "metadata": {},
   "source": [
    "The metrics are poorer than Static ARIMA but directino accuracy is similar."
   ]
  },
  {
   "attachments": {},
   "cell_type": "markdown",
   "metadata": {},
   "source": [
    "## Static forecast with XGBoost  \n",
    "\n",
    "The intention was to explore using the XGBoost model to forecast for the 6 \"steps\" in test set without retraining and evaluate. But there may not be such a thing as static forecasting for XGBoost as the model takes an input which is a 4-day lag here and predicts the next step. To predict the subsequent steps the window has to be moved for input. \n",
    "\n",
    "Which means for XGBoost, there is just rolling or walk-forward validation."
   ]
  },
  {
   "cell_type": "code",
   "execution_count": 153,
   "metadata": {},
   "outputs": [],
   "source": [
    "X = TS1_A1A2[\"wPreis\"].values.reshape(-1, 1)"
   ]
  },
  {
   "cell_type": "code",
   "execution_count": 154,
   "metadata": {},
   "outputs": [],
   "source": [
    "# transform the time series data into supervised learning\n",
    "data = series_to_supervised(X, n_in=4)"
   ]
  },
  {
   "cell_type": "code",
   "execution_count": 155,
   "metadata": {},
   "outputs": [],
   "source": [
    "train, test = train_test_split(data, 6)\n"
   ]
  },
  {
   "cell_type": "code",
   "execution_count": 156,
   "metadata": {},
   "outputs": [],
   "source": [
    "train = asarray(train)"
   ]
  },
  {
   "cell_type": "code",
   "execution_count": 157,
   "metadata": {},
   "outputs": [],
   "source": [
    "testX, testy = test[0, :-1], test[0, -1]"
   ]
  },
  {
   "cell_type": "code",
   "execution_count": 158,
   "metadata": {},
   "outputs": [],
   "source": [
    "# Training XGBoost on entire training data once.\n",
    "\n",
    "train, test = train_test_split(data, 6)\n",
    "\n",
    "train = asarray(train)\n",
    " # split into input and output columns\n",
    "trainX, trainy = train[:, :-1], train[:, -1]\n",
    " # fit model\n",
    "static = XGBRegressor(objective='reg:squarederror', n_estimators=1000)\n",
    "static_model = static.fit(trainX, trainy)\n"
   ]
  },
  {
   "cell_type": "code",
   "execution_count": 159,
   "metadata": {},
   "outputs": [
    {
     "data": {
      "text/plain": [
       "15.090609"
      ]
     },
     "execution_count": 159,
     "metadata": {},
     "output_type": "execute_result"
    }
   ],
   "source": [
    "# make a one-step prediction\n",
    "yhat = static_model.predict(asarray([testX]))\n",
    "yhat[0]"
   ]
  },
  {
   "cell_type": "code",
   "execution_count": 160,
   "metadata": {},
   "outputs": [],
   "source": [
    "testX2, testy2 = test[1, :-1], test[1, -1]\n"
   ]
  },
  {
   "cell_type": "code",
   "execution_count": 161,
   "metadata": {},
   "outputs": [
    {
     "data": {
      "text/plain": [
       "5.584712"
      ]
     },
     "execution_count": 161,
     "metadata": {},
     "output_type": "execute_result"
    }
   ],
   "source": [
    "yhat2 = static_model.predict(asarray([testX2]))\n",
    "yhat2[0]"
   ]
  },
  {
   "cell_type": "code",
   "execution_count": 162,
   "metadata": {},
   "outputs": [
    {
     "name": "stdout",
     "output_type": "stream",
     "text": [
      ">expected=7.5, predicted=15.1\n",
      ">expected=7.8, predicted=5.6\n",
      ">expected=3.5, predicted=4.8\n",
      ">expected=3.9, predicted=5.8\n",
      ">expected=6.8, predicted=4.3\n",
      ">expected=2.1, predicted=2.8\n"
     ]
    }
   ],
   "source": [
    "predictions = list()\n",
    "direction_accuracies = list() \n",
    "for i in range(len(test)):\n",
    "# split test row into input and output columns\n",
    "    testX, testy = test[i, :-1], test[i, -1]\n",
    "# fit model on history and make a prediction\n",
    "    yhat = static_model.predict(asarray([testX]))\n",
    "# store forecast in list of predictions\n",
    "    predictions.append(yhat)\n",
    "    if i > 0:  # Direction accuracy is not applicable for the first prediction\n",
    "            forecast_diff = yhat - predictions[-2]\n",
    "            actual_diff = testy - test[i - 1, -1]\n",
    "            direction_accuracy = int(np.sign(forecast_diff) == np.sign(actual_diff))\n",
    "            direction_accuracies.append(direction_accuracy)\n",
    "    print('>expected=%.1f, predicted=%.1f' % (testy, yhat))"
   ]
  },
  {
   "cell_type": "code",
   "execution_count": 163,
   "metadata": {},
   "outputs": [],
   "source": [
    " error = mean_absolute_error(test[:, -1], predictions)\n",
    " me = np.mean(predictions - test[:, -1])  # Mean Error\n",
    " rmse = mean_squared_error(test[:, -1], predictions, squared=False)\n",
    " overall_direction_accuracy = np.mean(direction_accuracies)"
   ]
  },
  {
   "cell_type": "code",
   "execution_count": 164,
   "metadata": {},
   "outputs": [
    {
     "name": "stdout",
     "output_type": "stream",
     "text": [
      "MAE: 2.751\n",
      "ME: 1.139\n",
      "RMSE: 3.529\n",
      "Direction Accuracy: 0.600\n"
     ]
    },
    {
     "data": {
      "image/png": "[encoded data removed]",
      "text/plain": [
       "<Figure size 640x480 with 1 Axes>"
      ]
     },
     "metadata": {},
     "output_type": "display_data"
    }
   ],
   "source": [
    "print('MAE: %.3f' % mae)\n",
    "print('ME: %.3f' % me)\n",
    "print('RMSE: %.3f' % rmse)\n",
    "print('Direction Accuracy: %.3f' % overall_direction_accuracy)\n",
    "# plot expected vs preducted\n",
    "plt.plot(test[:, -1], label='Expected')\n",
    "plt.plot(predictions, label='Predicted')\n",
    "plt.legend()\n",
    "plt.show()"
   ]
  },
  {
   "attachments": {},
   "cell_type": "markdown",
   "metadata": {},
   "source": [
    "Here the ME is less but RMSE is higher. And Direction Accuracy is lower."
   ]
  },
  {
   "attachments": {},
   "cell_type": "markdown",
   "metadata": {},
   "source": [
    "### Rolling window forecast for XGBoost"
   ]
  },
  {
   "cell_type": "code",
   "execution_count": null,
   "metadata": {},
   "outputs": [],
   "source": []
  },
  {
   "cell_type": "code",
   "execution_count": 165,
   "metadata": {},
   "outputs": [
    {
     "name": "stdout",
     "output_type": "stream",
     "text": [
      ">expected=7.5, predicted=15.1\n",
      ">expected=7.8, predicted=5.6\n",
      ">expected=3.5, predicted=4.8\n",
      ">expected=3.9, predicted=5.8\n",
      ">expected=6.8, predicted=4.3\n",
      ">expected=2.1, predicted=2.8\n"
     ]
    }
   ],
   "source": [
    "\n",
    "predictions = list()\n",
    "direction_accuracies = list() \n",
    "# step over each time-step in the test set\n",
    "for i in range(len(test)):\n",
    "# split test row into input and output columns\n",
    "    testX, testy = test[i, :-1], test[i, -1]\n",
    "    # fit model on history and make a prediction\n",
    "    yhat = static_model.predict(asarray([testX]))\n",
    "    # store forecast in list of predictions\n",
    "    predictions.append(yhat)\n",
    "    if i > 0:  # Direction accuracy is not applicable for the first prediction\n",
    "            forecast_diff = yhat - predictions[-2]\n",
    "            actual_diff = testy - test[i - 1, -1]\n",
    "            direction_accuracy = int(np.sign(forecast_diff) == np.sign(actual_diff))\n",
    "            direction_accuracies.append(direction_accuracy)\n",
    "    # summarize progress\n",
    "    print('>expected=%.1f, predicted=%.1f' % (testy, yhat))\n",
    " # estimate prediction error\n",
    "error = mean_absolute_error(test[:, -1], predictions)\n",
    "me = np.mean(predictions - test[:, -1])  # Mean Error\n",
    "rmse = mean_squared_error(test[:, -1], predictions, squared=False)\n",
    "overall_direction_accuracy = np.mean(direction_accuracies)\n",
    "\n",
    "#return error, me, rmse ,test[:, -1], predictions, overall_direction_accuracy"
   ]
  },
  {
   "cell_type": "code",
   "execution_count": 166,
   "metadata": {},
   "outputs": [],
   "source": [
    "error = mean_absolute_error(test[:, -1], predictions)\n",
    "me = np.mean(predictions - test[:, -1])  # Mean Error\n",
    "rmse = mean_squared_error(test[:, -1], predictions, squared=False)\n",
    "overall_direction_accuracy = np.mean(direction_accuracies)"
   ]
  },
  {
   "cell_type": "code",
   "execution_count": 167,
   "metadata": {},
   "outputs": [
    {
     "name": "stdout",
     "output_type": "stream",
     "text": [
      "MAE: 2.692\n",
      "ME: 1.139\n",
      "RMSE: 3.529\n",
      "Direction Accuracy: 0.600\n"
     ]
    },
    {
     "data": {
      "image/png": "[encoded data removed]",
      "text/plain": [
       "<Figure size 640x480 with 1 Axes>"
      ]
     },
     "metadata": {},
     "output_type": "display_data"
    }
   ],
   "source": [
    "print('MAE: %.3f' % error)\n",
    "print('ME: %.3f' % me)\n",
    "print('RMSE: %.3f' % rmse)\n",
    "print('Direction Accuracy: %.3f' % overall_direction_accuracy)\n",
    "# plot expected vs preducted\n",
    "plt.plot(test[:, -1], label='Expected')\n",
    "plt.plot(predictions, label='Predicted')\n",
    "plt.legend()\n",
    "plt.show()"
   ]
  },
  {
   "cell_type": "markdown",
   "metadata": {},
   "source": []
  },
  {
   "attachments": {},
   "cell_type": "markdown",
   "metadata": {},
   "source": [
    "# Random Forest"
   ]
  },
  {
   "attachments": {},
   "cell_type": "markdown",
   "metadata": {},
   "source": [
    "Tree based models can only predict within the range of training data. This implies that we cannot just fit a Decision Tree or Random Forest to model auto-regressive dependencies."
   ]
  },
  {
   "attachments": {},
   "cell_type": "markdown",
   "metadata": {},
   "source": [
    "### Walk-forward validation"
   ]
  },
  {
   "cell_type": "code",
   "execution_count": 168,
   "metadata": {},
   "outputs": [],
   "source": [
    "# walk-forward validation for univariate data\n",
    "def rf_walk_forward_validation(data, n_test):\n",
    " predictions = list()\n",
    " direction_accuracies = list() \n",
    " # split dataset\n",
    " train, test = train_test_split(data, n_test)\n",
    " # seed history with training dataset\n",
    " history = [x for x in train]\n",
    " # step over each time-step in the test set\n",
    " for i in range(len(test)):\n",
    "    # split test row into input and output columns\n",
    "    testX, testy = test[i, :-1], test[i, -1]\n",
    "    # fit model on history and make a prediction\n",
    "    yhat = random_forest_forecast(history, testX)\n",
    "    # store forecast in list of predictions\n",
    "    predictions.append(yhat)\n",
    "    if i > 0:  # Direction accuracy is not applicable for the first prediction\n",
    "            forecast_diff = yhat - predictions[-2]\n",
    "            actual_diff = testy - test[i - 1, -1]\n",
    "            direction_accuracy = int(np.sign(forecast_diff) == np.sign(actual_diff))\n",
    "            direction_accuracies.append(direction_accuracy)\n",
    "    # add actual observation to history for the next loop\n",
    "    history.append(test[i])\n",
    "    # summarize progress\n",
    "    print('>expected=%.1f, predicted=%.1f' % (testy, yhat))\n",
    " # estimate prediction error\n",
    " error = mean_absolute_error(test[:, -1], predictions)\n",
    " me = np.mean(predictions - test[:, -1])  # Mean Error\n",
    " rmse = mean_squared_error(test[:, -1], predictions, squared=False)\n",
    " overall_direction_accuracy = np.mean(direction_accuracies)\n",
    "\n",
    " return error, me, rmse ,test[:, -1], predictions, overall_direction_accuracy "
   ]
  },
  {
   "cell_type": "code",
   "execution_count": 169,
   "metadata": {},
   "outputs": [],
   "source": [
    "from sklearn.ensemble import RandomForestRegressor"
   ]
  },
  {
   "cell_type": "code",
   "execution_count": 170,
   "metadata": {},
   "outputs": [],
   "source": [
    "# fit an random forest model and make a one step prediction\n",
    "def random_forest_forecast(train, testX):\n",
    " # transform list into array\n",
    " train = asarray(train)\n",
    " # split into input and output columns\n",
    " trainX, trainy = train[:, :-1], train[:, -1]\n",
    " # fit model\n",
    " model = RandomForestRegressor(n_estimators=1000)\n",
    " model.fit(trainX, trainy)\n",
    " # make a one-step prediction\n",
    " yhat = model.predict([testX])\n",
    " return yhat[0]"
   ]
  },
  {
   "cell_type": "code",
   "execution_count": 171,
   "metadata": {},
   "outputs": [],
   "source": [
    "TS1_A1A2[\"wPreis\"].values\n",
    "X = TS1_A1A2[\"wPreis\"].values.reshape(-1, 1)\n"
   ]
  },
  {
   "cell_type": "code",
   "execution_count": 172,
   "metadata": {},
   "outputs": [
    {
     "data": {
      "text/plain": [
       "array([-37.51931788, -28.69009585, -29.68807862, -25.6304334 ,\n",
       "       -29.07379398, -24.93642602, -35.26209517, -28.06563229,\n",
       "       -27.35874871, -28.21685813, -29.18520815, -32.36064526,\n",
       "       -20.27214677, -18.80845203, -35.43666563, -23.58340467,\n",
       "       -23.06625847, -22.99784234, -31.41962306, -25.46027349,\n",
       "       -23.68194297, -21.47771259, -27.02904785, -24.82276444,\n",
       "       -23.25520954, -25.32197924, -22.30413021, -23.38024324,\n",
       "       -25.17015002, -20.85821571, -23.60348981, -24.86044273,\n",
       "       -23.64540855, -25.72826243, -20.17778383, -26.36851112,\n",
       "       -21.90534062, -23.64226891, -25.04513087, -24.65590187,\n",
       "       -21.77319638, -24.9461431 , -23.90837982, -25.23754357,\n",
       "       -19.73324755, -24.54094226, -24.73818078, -22.97021231,\n",
       "       -19.21154856, -16.66741517, -26.54786465, -22.45099313,\n",
       "       -22.93310518, -23.38212367, -23.28028169, -26.65816299,\n",
       "       -22.07703349, -17.78619097, -18.98931101,  -7.41127285,\n",
       "        -6.21131882,  -1.98035287,   1.61215148,   0.480841  ,\n",
       "         1.99070234,   5.50021781,  10.84846928,  -5.71454615,\n",
       "        -2.60008135,  -0.30741325,   8.00688895,   7.29352445,\n",
       "        11.90659032,  11.88464344,  14.97326405,  14.46308047,\n",
       "        12.99276544,  15.5556141 ,  17.64510072,  12.42782904,\n",
       "        17.67161689,  18.16843231,  13.76791371,  11.49227657,\n",
       "        21.43183754,  19.05758114,  19.05638567,  14.24464252,\n",
       "        14.73305223,  11.89313843,  20.35194191,  17.20689191,\n",
       "        23.50967079,  29.8436271 ,  33.8662963 ,  33.07728873,\n",
       "        40.82938591,  30.46845159,  34.17840321,  32.93534806,\n",
       "        39.7987606 ,  40.11320504,  50.3912752 ,  56.23903155,\n",
       "        54.01274875,  55.8415234 ,  54.63306048,  64.31113949,\n",
       "        56.73685274,  54.01633463,  56.26605181,  60.67509344,\n",
       "        54.88947804,  54.9047283 ,  59.0337707 ,  49.48603152,\n",
       "        60.4287912 ,  63.33244357,  56.47094205,  53.84036452,\n",
       "        60.88049388,  61.03731794,  59.19415193,  58.59646779,\n",
       "        64.03122334,  51.53310596,  50.49505391,  52.36150974,\n",
       "        42.26412038,  41.08861284,  38.87791513,  35.20653001,\n",
       "        34.09275024,  28.94868896,  31.31003406,  24.10657194,\n",
       "        24.47332582,  26.67494885,  27.48701354,  34.47253848,\n",
       "        34.0031881 ,  27.24864539,  25.67309831,  22.50169059,\n",
       "        18.51417816,  28.98555411,  16.84723416,   4.06330439,\n",
       "         7.45821383,   7.83274999,   3.52511322,   3.89640241,\n",
       "         6.75448265,   2.0532646 ])"
      ]
     },
     "execution_count": 172,
     "metadata": {},
     "output_type": "execute_result"
    }
   ],
   "source": [
    "TS1_A1A2[\"wPreis\"].values\n"
   ]
  },
  {
   "cell_type": "code",
   "execution_count": 173,
   "metadata": {},
   "outputs": [
    {
     "data": {
      "text/plain": [
       "array([[-37.51931788],\n",
       "       [-28.69009585],\n",
       "       [-29.68807862],\n",
       "       [-25.6304334 ],\n",
       "       [-29.07379398],\n",
       "       [-24.93642602],\n",
       "       [-35.26209517],\n",
       "       [-28.06563229],\n",
       "       [-27.35874871],\n",
       "       [-28.21685813],\n",
       "       [-29.18520815],\n",
       "       [-32.36064526],\n",
       "       [-20.27214677],\n",
       "       [-18.80845203],\n",
       "       [-35.43666563],\n",
       "       [-23.58340467],\n",
       "       [-23.06625847],\n",
       "       [-22.99784234],\n",
       "       [-31.41962306],\n",
       "       [-25.46027349],\n",
       "       [-23.68194297],\n",
       "       [-21.47771259],\n",
       "       [-27.02904785],\n",
       "       [-24.82276444],\n",
       "       [-23.25520954],\n",
       "       [-25.32197924],\n",
       "       [-22.30413021],\n",
       "       [-23.38024324],\n",
       "       [-25.17015002],\n",
       "       [-20.85821571],\n",
       "       [-23.60348981],\n",
       "       [-24.86044273],\n",
       "       [-23.64540855],\n",
       "       [-25.72826243],\n",
       "       [-20.17778383],\n",
       "       [-26.36851112],\n",
       "       [-21.90534062],\n",
       "       [-23.64226891],\n",
       "       [-25.04513087],\n",
       "       [-24.65590187],\n",
       "       [-21.77319638],\n",
       "       [-24.9461431 ],\n",
       "       [-23.90837982],\n",
       "       [-25.23754357],\n",
       "       [-19.73324755],\n",
       "       [-24.54094226],\n",
       "       [-24.73818078],\n",
       "       [-22.97021231],\n",
       "       [-19.21154856],\n",
       "       [-16.66741517],\n",
       "       [-26.54786465],\n",
       "       [-22.45099313],\n",
       "       [-22.93310518],\n",
       "       [-23.38212367],\n",
       "       [-23.28028169],\n",
       "       [-26.65816299],\n",
       "       [-22.07703349],\n",
       "       [-17.78619097],\n",
       "       [-18.98931101],\n",
       "       [ -7.41127285],\n",
       "       [ -6.21131882],\n",
       "       [ -1.98035287],\n",
       "       [  1.61215148],\n",
       "       [  0.480841  ],\n",
       "       [  1.99070234],\n",
       "       [  5.50021781],\n",
       "       [ 10.84846928],\n",
       "       [ -5.71454615],\n",
       "       [ -2.60008135],\n",
       "       [ -0.30741325],\n",
       "       [  8.00688895],\n",
       "       [  7.29352445],\n",
       "       [ 11.90659032],\n",
       "       [ 11.88464344],\n",
       "       [ 14.97326405],\n",
       "       [ 14.46308047],\n",
       "       [ 12.99276544],\n",
       "       [ 15.5556141 ],\n",
       "       [ 17.64510072],\n",
       "       [ 12.42782904],\n",
       "       [ 17.67161689],\n",
       "       [ 18.16843231],\n",
       "       [ 13.76791371],\n",
       "       [ 11.49227657],\n",
       "       [ 21.43183754],\n",
       "       [ 19.05758114],\n",
       "       [ 19.05638567],\n",
       "       [ 14.24464252],\n",
       "       [ 14.73305223],\n",
       "       [ 11.89313843],\n",
       "       [ 20.35194191],\n",
       "       [ 17.20689191],\n",
       "       [ 23.50967079],\n",
       "       [ 29.8436271 ],\n",
       "       [ 33.8662963 ],\n",
       "       [ 33.07728873],\n",
       "       [ 40.82938591],\n",
       "       [ 30.46845159],\n",
       "       [ 34.17840321],\n",
       "       [ 32.93534806],\n",
       "       [ 39.7987606 ],\n",
       "       [ 40.11320504],\n",
       "       [ 50.3912752 ],\n",
       "       [ 56.23903155],\n",
       "       [ 54.01274875],\n",
       "       [ 55.8415234 ],\n",
       "       [ 54.63306048],\n",
       "       [ 64.31113949],\n",
       "       [ 56.73685274],\n",
       "       [ 54.01633463],\n",
       "       [ 56.26605181],\n",
       "       [ 60.67509344],\n",
       "       [ 54.88947804],\n",
       "       [ 54.9047283 ],\n",
       "       [ 59.0337707 ],\n",
       "       [ 49.48603152],\n",
       "       [ 60.4287912 ],\n",
       "       [ 63.33244357],\n",
       "       [ 56.47094205],\n",
       "       [ 53.84036452],\n",
       "       [ 60.88049388],\n",
       "       [ 61.03731794],\n",
       "       [ 59.19415193],\n",
       "       [ 58.59646779],\n",
       "       [ 64.03122334],\n",
       "       [ 51.53310596],\n",
       "       [ 50.49505391],\n",
       "       [ 52.36150974],\n",
       "       [ 42.26412038],\n",
       "       [ 41.08861284],\n",
       "       [ 38.87791513],\n",
       "       [ 35.20653001],\n",
       "       [ 34.09275024],\n",
       "       [ 28.94868896],\n",
       "       [ 31.31003406],\n",
       "       [ 24.10657194],\n",
       "       [ 24.47332582],\n",
       "       [ 26.67494885],\n",
       "       [ 27.48701354],\n",
       "       [ 34.47253848],\n",
       "       [ 34.0031881 ],\n",
       "       [ 27.24864539],\n",
       "       [ 25.67309831],\n",
       "       [ 22.50169059],\n",
       "       [ 18.51417816],\n",
       "       [ 28.98555411],\n",
       "       [ 16.84723416],\n",
       "       [  4.06330439],\n",
       "       [  7.45821383],\n",
       "       [  7.83274999],\n",
       "       [  3.52511322],\n",
       "       [  3.89640241],\n",
       "       [  6.75448265],\n",
       "       [  2.0532646 ]])"
      ]
     },
     "execution_count": 173,
     "metadata": {},
     "output_type": "execute_result"
    }
   ],
   "source": [
    "X"
   ]
  },
  {
   "cell_type": "code",
   "execution_count": 174,
   "metadata": {},
   "outputs": [],
   "source": [
    "rf_data = series_to_supervised(X, n_in=4)"
   ]
  },
  {
   "cell_type": "code",
   "execution_count": 175,
   "metadata": {},
   "outputs": [
    {
     "name": "stdout",
     "output_type": "stream",
     "text": [
      ">expected=7.5, predicted=15.1\n",
      ">expected=7.8, predicted=8.6\n",
      ">expected=3.5, predicted=10.0\n",
      ">expected=3.9, predicted=7.4\n",
      ">expected=6.8, predicted=6.6\n",
      ">expected=2.1, predicted=6.5\n",
      "MAE: 3.810\n",
      "ME: 3.765\n",
      "RMSE: 4.684\n",
      "Direction Accuracy: 0.200\n"
     ]
    },
    {
     "data": {
      "image/png": "[encoded data removed]",
      "text/plain": [
       "<Figure size 640x480 with 1 Axes>"
      ]
     },
     "metadata": {},
     "output_type": "display_data"
    }
   ],
   "source": [
    "# evaluate\n",
    "mae, me, rmse, y, yhat, direction_accuracy = rf_walk_forward_validation(data, 6)\n",
    "print('MAE: %.3f' % mae)\n",
    "print('ME: %.3f' % me)\n",
    "print('RMSE: %.3f' % rmse)\n",
    "print('Direction Accuracy: %.3f' % direction_accuracy)\n",
    "# plot expected vs preducted\n",
    "plt.plot(y, label='Expected')\n",
    "plt.plot(yhat, label='Predicted')\n",
    "plt.legend()\n",
    "plt.show()"
   ]
  },
  {
   "attachments": {},
   "cell_type": "markdown",
   "metadata": {},
   "source": [
    "### Static forecast for Random Forest (should be ROLLING WINDOW)"
   ]
  },
  {
   "cell_type": "code",
   "execution_count": 176,
   "metadata": {},
   "outputs": [
    {
     "data": {
      "text/html": [
       "<style>#sk-container-id-3 {color: black;background-color: white;}#sk-container-id-3 pre{padding: 0;}#sk-container-id-3 div.sk-toggleable {background-color: white;}#sk-container-id-3 label.sk-toggleable__label {cursor: pointer;display: block;width: 100%;margin-bottom: 0;padding: 0.3em;box-sizing: border-box;text-align: center;}#sk-container-id-3 label.sk-toggleable__label-arrow:before {content: \"▸\";float: left;margin-right: 0.25em;color: #696969;}#sk-container-id-3 label.sk-toggleable__label-arrow:hover:before {color: black;}#sk-container-id-3 div.sk-estimator:hover label.sk-toggleable__label-arrow:before {color: black;}#sk-container-id-3 div.sk-toggleable__content {max-height: 0;max-width: 0;overflow: hidden;text-align: left;background-color: #f0f8ff;}#sk-container-id-3 div.sk-toggleable__content pre {margin: 0.2em;color: black;border-radius: 0.25em;background-color: #f0f8ff;}#sk-container-id-3 input.sk-toggleable__control:checked~div.sk-toggleable__content {max-height: 200px;max-width: 100%;overflow: auto;}#sk-container-id-3 input.sk-toggleable__control:checked~label.sk-toggleable__label-arrow:before {content: \"▾\";}#sk-container-id-3 div.sk-estimator input.sk-toggleable__control:checked~label.sk-toggleable__label {background-color: #d4ebff;}#sk-container-id-3 div.sk-label input.sk-toggleable__control:checked~label.sk-toggleable__label {background-color: #d4ebff;}#sk-container-id-3 input.sk-hidden--visually {border: 0;clip: rect(1px 1px 1px 1px);clip: rect(1px, 1px, 1px, 1px);height: 1px;margin: -1px;overflow: hidden;padding: 0;position: absolute;width: 1px;}#sk-container-id-3 div.sk-estimator {font-family: monospace;background-color: #f0f8ff;border: 1px dotted black;border-radius: 0.25em;box-sizing: border-box;margin-bottom: 0.5em;}#sk-container-id-3 div.sk-estimator:hover {background-color: #d4ebff;}#sk-container-id-3 div.sk-parallel-item::after {content: \"\";width: 100%;border-bottom: 1px solid gray;flex-grow: 1;}#sk-container-id-3 div.sk-label:hover label.sk-toggleable__label {background-color: #d4ebff;}#sk-container-id-3 div.sk-serial::before {content: \"\";position: absolute;border-left: 1px solid gray;box-sizing: border-box;top: 0;bottom: 0;left: 50%;z-index: 0;}#sk-container-id-3 div.sk-serial {display: flex;flex-direction: column;align-items: center;background-color: white;padding-right: 0.2em;padding-left: 0.2em;position: relative;}#sk-container-id-3 div.sk-item {position: relative;z-index: 1;}#sk-container-id-3 div.sk-parallel {display: flex;align-items: stretch;justify-content: center;background-color: white;position: relative;}#sk-container-id-3 div.sk-item::before, #sk-container-id-3 div.sk-parallel-item::before {content: \"\";position: absolute;border-left: 1px solid gray;box-sizing: border-box;top: 0;bottom: 0;left: 50%;z-index: -1;}#sk-container-id-3 div.sk-parallel-item {display: flex;flex-direction: column;z-index: 1;position: relative;background-color: white;}#sk-container-id-3 div.sk-parallel-item:first-child::after {align-self: flex-end;width: 50%;}#sk-container-id-3 div.sk-parallel-item:last-child::after {align-self: flex-start;width: 50%;}#sk-container-id-3 div.sk-parallel-item:only-child::after {width: 0;}#sk-container-id-3 div.sk-dashed-wrapped {border: 1px dashed gray;margin: 0 0.4em 0.5em 0.4em;box-sizing: border-box;padding-bottom: 0.4em;background-color: white;}#sk-container-id-3 div.sk-label label {font-family: monospace;font-weight: bold;display: inline-block;line-height: 1.2em;}#sk-container-id-3 div.sk-label-container {text-align: center;}#sk-container-id-3 div.sk-container {/* jupyter's `normalize.less` sets `[hidden] { display: none; }` but bootstrap.min.css set `[hidden] { display: none !important; }` so we also need the `!important` here to be able to override the default hidden behavior on the sphinx rendered scikit-learn.org. See: https://github.com/scikit-learn/scikit-learn/issues/21755 */display: inline-block !important;position: relative;}#sk-container-id-3 div.sk-text-repr-fallback {display: none;}</style><div id=\"sk-container-id-3\" class=\"sk-top-container\"><div class=\"sk-text-repr-fallback\"><pre>RandomForestRegressor(n_estimators=1000)</pre><b>In a Jupyter environment, please rerun this cell to show the HTML representation or trust the notebook. <br />On GitHub, the HTML representation is unable to render, please try loading this page with nbviewer.org.</b></div><div class=\"sk-container\" hidden><div class=\"sk-item\"><div class=\"sk-estimator sk-toggleable\"><input class=\"sk-toggleable__control sk-hidden--visually\" id=\"sk-estimator-id-3\" type=\"checkbox\" checked><label for=\"sk-estimator-id-3\" class=\"sk-toggleable__label sk-toggleable__label-arrow\">RandomForestRegressor</label><div class=\"sk-toggleable__content\"><pre>RandomForestRegressor(n_estimators=1000)</pre></div></div></div></div></div>"
      ],
      "text/plain": [
       "RandomForestRegressor(n_estimators=1000)"
      ]
     },
     "execution_count": 176,
     "metadata": {},
     "output_type": "execute_result"
    }
   ],
   "source": [
    "# fit an random forest model and make a one step prediction\n",
    "# def random_forest_static_forecast(train, testX):\n",
    " # transform list into array\n",
    "train = asarray(train)\n",
    " # split into input and output columns\n",
    "trainX, trainy = train[:, :-1], train[:, -1]\n",
    " # fit model\n",
    "model_rf_static = RandomForestRegressor(n_estimators=1000)\n",
    "model_rf_static.fit(trainX, trainy)\n",
    " # make a one-step prediction"
   ]
  },
  {
   "cell_type": "code",
   "execution_count": 177,
   "metadata": {},
   "outputs": [],
   "source": [
    "# \n",
    "def rf_staticforecast(data, n_test):\n",
    " predictions = list()\n",
    " direction_accuracies = list() \n",
    " # split dataset\n",
    " train, test = train_test_split(data, n_test)\n",
    " # seed history with training dataset\n",
    " history = [x for x in train]\n",
    " # step over each time-step in the test set\n",
    " for i in range(len(test)):\n",
    "    # split test row into input and output columns\n",
    "    testX, testy = test[i, :-1], test[i, -1]\n",
    "    # fit model on history and make a prediction\n",
    "    yhat = model_rf_static.predict([testX])\n",
    "    # store forecast in list of predictions\n",
    "    predictions.append(yhat)\n",
    "    if i > 0:  # Direction accuracy is not applicable for the first prediction\n",
    "            forecast_diff = yhat - predictions[-2]\n",
    "            actual_diff = testy - test[i - 1, -1]\n",
    "            direction_accuracy = int(np.sign(forecast_diff) == np.sign(actual_diff))\n",
    "            direction_accuracies.append(direction_accuracy)\n",
    "    # add actual observation to history for the next loop\n",
    "    history.append(test[i])\n",
    "    # summarize progress\n",
    "    print('>expected=%.1f, predicted=%.1f' % (testy, yhat))\n",
    " # estimate prediction error\n",
    " error = mean_absolute_error(test[:, -1], predictions)\n",
    " me = np.mean(predictions - test[:, -1])  # Mean Error\n",
    " rmse = mean_squared_error(test[:, -1], predictions, squared=False)\n",
    " overall_direction_accuracy = np.mean(direction_accuracies)\n",
    "\n",
    " return error, me, rmse ,test[:, -1], predictions, overall_direction_accuracy "
   ]
  },
  {
   "cell_type": "code",
   "execution_count": 178,
   "metadata": {},
   "outputs": [],
   "source": [
    "rf_static_data = series_to_supervised(X, n_in=4)"
   ]
  },
  {
   "cell_type": "code",
   "execution_count": 179,
   "metadata": {},
   "outputs": [
    {
     "name": "stdout",
     "output_type": "stream",
     "text": [
      ">expected=7.5, predicted=15.6\n",
      ">expected=7.8, predicted=8.3\n",
      ">expected=3.5, predicted=11.5\n",
      ">expected=3.9, predicted=7.0\n",
      ">expected=6.8, predicted=6.7\n",
      ">expected=2.1, predicted=5.3\n",
      "Forecast accuracy for Static Forecast with Random Forest\n",
      "ME: 3.811\n",
      "RMSE: 5.001\n",
      "Direction Accuracy: 0.200\n"
     ]
    },
    {
     "data": {
      "image/png": "[encoded data removed]",
      "text/plain": [
       "<Figure size 640x480 with 1 Axes>"
      ]
     },
     "metadata": {},
     "output_type": "display_data"
    }
   ],
   "source": [
    "# evaluate\n",
    "mae, me, rmse, y, yhat, direction_accuracy = rf_staticforecast(rf_static_data, 6)\n",
    "#print('MAE: %.3f' % mae)\n",
    "print('Forecast accuracy for Static Forecast with Random Forest')\n",
    "print('ME: %.3f' % me)\n",
    "print('RMSE: %.3f' % rmse)\n",
    "print('Direction Accuracy: %.3f' % direction_accuracy)\n",
    "# plot expected vs preducted\n",
    "plt.plot(y, label='Expected')\n",
    "plt.plot(yhat, label='Predicted')\n",
    "plt.legend()\n",
    "plt.show()"
   ]
  },
  {
   "attachments": {},
   "cell_type": "markdown",
   "metadata": {},
   "source": [
    "Can recommend models based on what is needed - metrics or accuracy. "
   ]
  },
  {
   "attachments": {},
   "cell_type": "markdown",
   "metadata": {},
   "source": [
    "## Decision Tree"
   ]
  },
  {
   "cell_type": "code",
   "execution_count": 180,
   "metadata": {},
   "outputs": [],
   "source": [
    "from sklearn.tree import DecisionTreeRegressor"
   ]
  },
  {
   "cell_type": "code",
   "execution_count": 181,
   "metadata": {},
   "outputs": [],
   "source": [
    "n_lags = 4"
   ]
  },
  {
   "cell_type": "code",
   "execution_count": 182,
   "metadata": {},
   "outputs": [],
   "source": [
    "y_train = df_train['wPreis'].values\n"
   ]
  },
  {
   "cell_type": "code",
   "execution_count": 183,
   "metadata": {},
   "outputs": [
    {
     "data": {
      "text/plain": [
       "array([-37.51931788, -28.69009585, -29.68807862, -25.6304334 ,\n",
       "       -29.07379398, -24.93642602, -35.26209517, -28.06563229,\n",
       "       -27.35874871, -28.21685813, -29.18520815, -32.36064526,\n",
       "       -20.27214677, -18.80845203, -35.43666563, -23.58340467,\n",
       "       -23.06625847, -22.99784234, -31.41962306, -25.46027349,\n",
       "       -23.68194297, -21.47771259, -27.02904785, -24.82276444,\n",
       "       -23.25520954, -25.32197924, -22.30413021, -23.38024324,\n",
       "       -25.17015002, -20.85821571, -23.60348981, -24.86044273,\n",
       "       -23.64540855, -25.72826243, -20.17778383, -26.36851112,\n",
       "       -21.90534062, -23.64226891, -25.04513087, -24.65590187,\n",
       "       -21.77319638, -24.9461431 , -23.90837982, -25.23754357,\n",
       "       -19.73324755, -24.54094226, -24.73818078, -22.97021231,\n",
       "       -19.21154856, -16.66741517, -26.54786465, -22.45099313,\n",
       "       -22.93310518, -23.38212367, -23.28028169, -26.65816299,\n",
       "       -22.07703349, -17.78619097, -18.98931101,  -7.41127285,\n",
       "        -6.21131882,  -1.98035287,   1.61215148,   0.480841  ,\n",
       "         1.99070234,   5.50021781,  10.84846928,  -5.71454615,\n",
       "        -2.60008135,  -0.30741325,   8.00688895,   7.29352445,\n",
       "        11.90659032,  11.88464344,  14.97326405,  14.46308047,\n",
       "        12.99276544,  15.5556141 ,  17.64510072,  12.42782904,\n",
       "        17.67161689,  18.16843231,  13.76791371,  11.49227657,\n",
       "        21.43183754,  19.05758114,  19.05638567,  14.24464252,\n",
       "        14.73305223,  11.89313843,  20.35194191,  17.20689191,\n",
       "        23.50967079,  29.8436271 ,  33.8662963 ,  33.07728873,\n",
       "        40.82938591,  30.46845159,  34.17840321,  32.93534806,\n",
       "        39.7987606 ,  40.11320504,  50.3912752 ,  56.23903155,\n",
       "        54.01274875,  55.8415234 ,  54.63306048,  64.31113949,\n",
       "        56.73685274,  54.01633463,  56.26605181,  60.67509344,\n",
       "        54.88947804,  54.9047283 ,  59.0337707 ,  49.48603152,\n",
       "        60.4287912 ,  63.33244357,  56.47094205,  53.84036452,\n",
       "        60.88049388,  61.03731794,  59.19415193,  58.59646779,\n",
       "        64.03122334,  51.53310596,  50.49505391,  52.36150974,\n",
       "        42.26412038,  41.08861284,  38.87791513,  35.20653001,\n",
       "        34.09275024,  28.94868896,  31.31003406,  24.10657194,\n",
       "        24.47332582,  26.67494885,  27.48701354,  34.47253848,\n",
       "        34.0031881 ,  27.24864539,  25.67309831,  22.50169059,\n",
       "        18.51417816,  28.98555411,  16.84723416,   4.06330439])"
      ]
     },
     "execution_count": 183,
     "metadata": {},
     "output_type": "execute_result"
    }
   ],
   "source": [
    "y_train"
   ]
  },
  {
   "cell_type": "code",
   "execution_count": 184,
   "metadata": {},
   "outputs": [],
   "source": [
    "df_y_train = pd.DataFrame(y_train)\n"
   ]
  },
  {
   "cell_type": "code",
   "execution_count": 185,
   "metadata": {},
   "outputs": [
    {
     "data": {
      "text/plain": [
       "[             0\n",
       " 0          NaN\n",
       " 1   -37.519318\n",
       " 2   -28.690096\n",
       " 3   -29.688079\n",
       " 4   -25.630433\n",
       " ..         ...\n",
       " 143  25.673098\n",
       " 144  22.501691\n",
       " 145  18.514178\n",
       " 146  28.985554\n",
       " 147  16.847234\n",
       " \n",
       " [148 rows x 1 columns],\n",
       "              0\n",
       " 0          NaN\n",
       " 1          NaN\n",
       " 2   -37.519318\n",
       " 3   -28.690096\n",
       " 4   -29.688079\n",
       " ..         ...\n",
       " 143  27.248645\n",
       " 144  25.673098\n",
       " 145  22.501691\n",
       " 146  18.514178\n",
       " 147  28.985554\n",
       " \n",
       " [148 rows x 1 columns],\n",
       "              0\n",
       " 0          NaN\n",
       " 1          NaN\n",
       " 2          NaN\n",
       " 3   -37.519318\n",
       " 4   -28.690096\n",
       " ..         ...\n",
       " 143  34.003188\n",
       " 144  27.248645\n",
       " 145  25.673098\n",
       " 146  22.501691\n",
       " 147  18.514178\n",
       " \n",
       " [148 rows x 1 columns]]"
      ]
     },
     "execution_count": 185,
     "metadata": {},
     "output_type": "execute_result"
    }
   ],
   "source": [
    "shifted_dfs = [df_y_train.shift(t) for t in range(1, n_lags)]\n",
    "shifted_dfs"
   ]
  },
  {
   "cell_type": "code",
   "execution_count": 186,
   "metadata": {},
   "outputs": [
    {
     "name": "stdout",
     "output_type": "stream",
     "text": [
      "(148, 1)\n",
      "(148, 1)\n",
      "(148, 1)\n"
     ]
    }
   ],
   "source": [
    "for df in shifted_dfs:\n",
    "    print(df.shape)"
   ]
  },
  {
   "cell_type": "code",
   "execution_count": 187,
   "metadata": {},
   "outputs": [],
   "source": [
    "concatenated_df = pd.concat(shifted_dfs, axis=1)\n"
   ]
  },
  {
   "cell_type": "code",
   "execution_count": 188,
   "metadata": {},
   "outputs": [
    {
     "data": {
      "text/html": [
       "<div>\n",
       "<style scoped>\n",
       "    .dataframe tbody tr th:only-of-type {\n",
       "        vertical-align: middle;\n",
       "    }\n",
       "\n",
       "    .dataframe tbody tr th {\n",
       "        vertical-align: top;\n",
       "    }\n",
       "\n",
       "    .dataframe thead th {\n",
       "        text-align: right;\n",
       "    }\n",
       "</style>\n",
       "<table border=\"1\" class=\"dataframe\">\n",
       "  <thead>\n",
       "    <tr style=\"text-align: right;\">\n",
       "      <th></th>\n",
       "      <th>0</th>\n",
       "      <th>0</th>\n",
       "      <th>0</th>\n",
       "    </tr>\n",
       "  </thead>\n",
       "  <tbody>\n",
       "    <tr>\n",
       "      <th>0</th>\n",
       "      <td>NaN</td>\n",
       "      <td>NaN</td>\n",
       "      <td>NaN</td>\n",
       "    </tr>\n",
       "    <tr>\n",
       "      <th>1</th>\n",
       "      <td>-37.519318</td>\n",
       "      <td>NaN</td>\n",
       "      <td>NaN</td>\n",
       "    </tr>\n",
       "    <tr>\n",
       "      <th>2</th>\n",
       "      <td>-28.690096</td>\n",
       "      <td>-37.519318</td>\n",
       "      <td>NaN</td>\n",
       "    </tr>\n",
       "    <tr>\n",
       "      <th>3</th>\n",
       "      <td>-29.688079</td>\n",
       "      <td>-28.690096</td>\n",
       "      <td>-37.519318</td>\n",
       "    </tr>\n",
       "    <tr>\n",
       "      <th>4</th>\n",
       "      <td>-25.630433</td>\n",
       "      <td>-29.688079</td>\n",
       "      <td>-28.690096</td>\n",
       "    </tr>\n",
       "    <tr>\n",
       "      <th>...</th>\n",
       "      <td>...</td>\n",
       "      <td>...</td>\n",
       "      <td>...</td>\n",
       "    </tr>\n",
       "    <tr>\n",
       "      <th>143</th>\n",
       "      <td>25.673098</td>\n",
       "      <td>27.248645</td>\n",
       "      <td>34.003188</td>\n",
       "    </tr>\n",
       "    <tr>\n",
       "      <th>144</th>\n",
       "      <td>22.501691</td>\n",
       "      <td>25.673098</td>\n",
       "      <td>27.248645</td>\n",
       "    </tr>\n",
       "    <tr>\n",
       "      <th>145</th>\n",
       "      <td>18.514178</td>\n",
       "      <td>22.501691</td>\n",
       "      <td>25.673098</td>\n",
       "    </tr>\n",
       "    <tr>\n",
       "      <th>146</th>\n",
       "      <td>28.985554</td>\n",
       "      <td>18.514178</td>\n",
       "      <td>22.501691</td>\n",
       "    </tr>\n",
       "    <tr>\n",
       "      <th>147</th>\n",
       "      <td>16.847234</td>\n",
       "      <td>28.985554</td>\n",
       "      <td>18.514178</td>\n",
       "    </tr>\n",
       "  </tbody>\n",
       "</table>\n",
       "<p>148 rows × 3 columns</p>\n",
       "</div>"
      ],
      "text/plain": [
       "             0          0          0\n",
       "0          NaN        NaN        NaN\n",
       "1   -37.519318        NaN        NaN\n",
       "2   -28.690096 -37.519318        NaN\n",
       "3   -29.688079 -28.690096 -37.519318\n",
       "4   -25.630433 -29.688079 -28.690096\n",
       "..         ...        ...        ...\n",
       "143  25.673098  27.248645  34.003188\n",
       "144  22.501691  25.673098  27.248645\n",
       "145  18.514178  22.501691  25.673098\n",
       "146  28.985554  18.514178  22.501691\n",
       "147  16.847234  28.985554  18.514178\n",
       "\n",
       "[148 rows x 3 columns]"
      ]
     },
     "execution_count": 188,
     "metadata": {},
     "output_type": "execute_result"
    }
   ],
   "source": [
    "concatenated_df"
   ]
  },
  {
   "cell_type": "code",
   "execution_count": 189,
   "metadata": {},
   "outputs": [
    {
     "data": {
      "text/html": [
       "<div>\n",
       "<style scoped>\n",
       "    .dataframe tbody tr th:only-of-type {\n",
       "        vertical-align: middle;\n",
       "    }\n",
       "\n",
       "    .dataframe tbody tr th {\n",
       "        vertical-align: top;\n",
       "    }\n",
       "\n",
       "    .dataframe thead th {\n",
       "        text-align: right;\n",
       "    }\n",
       "</style>\n",
       "<table border=\"1\" class=\"dataframe\">\n",
       "  <thead>\n",
       "    <tr style=\"text-align: right;\">\n",
       "      <th></th>\n",
       "      <th>0</th>\n",
       "      <th>0</th>\n",
       "      <th>0</th>\n",
       "    </tr>\n",
       "  </thead>\n",
       "  <tbody>\n",
       "    <tr>\n",
       "      <th>0</th>\n",
       "      <td>NaN</td>\n",
       "      <td>NaN</td>\n",
       "      <td>NaN</td>\n",
       "    </tr>\n",
       "    <tr>\n",
       "      <th>1</th>\n",
       "      <td>NaN</td>\n",
       "      <td>NaN</td>\n",
       "      <td>NaN</td>\n",
       "    </tr>\n",
       "    <tr>\n",
       "      <th>2</th>\n",
       "      <td>8.829222</td>\n",
       "      <td>NaN</td>\n",
       "      <td>NaN</td>\n",
       "    </tr>\n",
       "    <tr>\n",
       "      <th>3</th>\n",
       "      <td>-0.997983</td>\n",
       "      <td>8.829222</td>\n",
       "      <td>NaN</td>\n",
       "    </tr>\n",
       "    <tr>\n",
       "      <th>4</th>\n",
       "      <td>4.057645</td>\n",
       "      <td>-0.997983</td>\n",
       "      <td>8.829222</td>\n",
       "    </tr>\n",
       "    <tr>\n",
       "      <th>...</th>\n",
       "      <td>...</td>\n",
       "      <td>...</td>\n",
       "      <td>...</td>\n",
       "    </tr>\n",
       "    <tr>\n",
       "      <th>143</th>\n",
       "      <td>-1.575547</td>\n",
       "      <td>-6.754543</td>\n",
       "      <td>-0.469350</td>\n",
       "    </tr>\n",
       "    <tr>\n",
       "      <th>144</th>\n",
       "      <td>-3.171408</td>\n",
       "      <td>-1.575547</td>\n",
       "      <td>-6.754543</td>\n",
       "    </tr>\n",
       "    <tr>\n",
       "      <th>145</th>\n",
       "      <td>-3.987512</td>\n",
       "      <td>-3.171408</td>\n",
       "      <td>-1.575547</td>\n",
       "    </tr>\n",
       "    <tr>\n",
       "      <th>146</th>\n",
       "      <td>10.471376</td>\n",
       "      <td>-3.987512</td>\n",
       "      <td>-3.171408</td>\n",
       "    </tr>\n",
       "    <tr>\n",
       "      <th>147</th>\n",
       "      <td>-12.138320</td>\n",
       "      <td>10.471376</td>\n",
       "      <td>-3.987512</td>\n",
       "    </tr>\n",
       "  </tbody>\n",
       "</table>\n",
       "<p>148 rows × 3 columns</p>\n",
       "</div>"
      ],
      "text/plain": [
       "             0          0         0\n",
       "0          NaN        NaN       NaN\n",
       "1          NaN        NaN       NaN\n",
       "2     8.829222        NaN       NaN\n",
       "3    -0.997983   8.829222       NaN\n",
       "4     4.057645  -0.997983  8.829222\n",
       "..         ...        ...       ...\n",
       "143  -1.575547  -6.754543 -0.469350\n",
       "144  -3.171408  -1.575547 -6.754543\n",
       "145  -3.987512  -3.171408 -1.575547\n",
       "146  10.471376  -3.987512 -3.171408\n",
       "147 -12.138320  10.471376 -3.987512\n",
       "\n",
       "[148 rows x 3 columns]"
      ]
     },
     "execution_count": 189,
     "metadata": {},
     "output_type": "execute_result"
    }
   ],
   "source": [
    "diff_df = concatenated_df.diff()\n",
    "diff_df"
   ]
  },
  {
   "cell_type": "code",
   "execution_count": 190,
   "metadata": {},
   "outputs": [
    {
     "data": {
      "text/plain": [
       "array([[ 4.05764522e+00, -9.97982775e-01,  8.82922203e+00],\n",
       "       [-3.44336058e+00,  4.05764522e+00, -9.97982775e-01],\n",
       "       [ 4.13736796e+00, -3.44336058e+00,  4.05764522e+00],\n",
       "       [-1.03256692e+01,  4.13736796e+00, -3.44336058e+00],\n",
       "       [ 7.19646288e+00, -1.03256692e+01,  4.13736796e+00],\n",
       "       [ 7.06883583e-01,  7.19646288e+00, -1.03256692e+01],\n",
       "       [-8.58109420e-01,  7.06883583e-01,  7.19646288e+00],\n",
       "       [-9.68350023e-01, -8.58109420e-01,  7.06883583e-01],\n",
       "       [-3.17543711e+00, -9.68350023e-01, -8.58109420e-01],\n",
       "       [ 1.20884985e+01, -3.17543711e+00, -9.68350023e-01],\n",
       "       [ 1.46369474e+00,  1.20884985e+01, -3.17543711e+00],\n",
       "       [-1.66282136e+01,  1.46369474e+00,  1.20884985e+01],\n",
       "       [ 1.18532610e+01, -1.66282136e+01,  1.46369474e+00],\n",
       "       [ 5.17146191e-01,  1.18532610e+01, -1.66282136e+01],\n",
       "       [ 6.84161372e-02,  5.17146191e-01,  1.18532610e+01],\n",
       "       [-8.42178072e+00,  6.84161372e-02,  5.17146191e-01],\n",
       "       [ 5.95934957e+00, -8.42178072e+00,  6.84161372e-02],\n",
       "       [ 1.77833052e+00,  5.95934957e+00, -8.42178072e+00],\n",
       "       [ 2.20423038e+00,  1.77833052e+00,  5.95934957e+00],\n",
       "       [-5.55133526e+00,  2.20423038e+00,  1.77833052e+00],\n",
       "       [ 2.20628340e+00, -5.55133526e+00,  2.20423038e+00],\n",
       "       [ 1.56755490e+00,  2.20628340e+00, -5.55133526e+00],\n",
       "       [-2.06676970e+00,  1.56755490e+00,  2.20628340e+00],\n",
       "       [ 3.01784903e+00, -2.06676970e+00,  1.56755490e+00],\n",
       "       [-1.07611304e+00,  3.01784903e+00, -2.06676970e+00],\n",
       "       [-1.78990678e+00, -1.07611304e+00,  3.01784903e+00],\n",
       "       [ 4.31193431e+00, -1.78990678e+00, -1.07611304e+00],\n",
       "       [-2.74527410e+00,  4.31193431e+00, -1.78990678e+00],\n",
       "       [-1.25695292e+00, -2.74527410e+00,  4.31193431e+00],\n",
       "       [ 1.21503418e+00, -1.25695292e+00, -2.74527410e+00],\n",
       "       [-2.08285388e+00,  1.21503418e+00, -1.25695292e+00],\n",
       "       [ 5.55047860e+00, -2.08285388e+00,  1.21503418e+00],\n",
       "       [-6.19072730e+00,  5.55047860e+00, -2.08285388e+00],\n",
       "       [ 4.46317050e+00, -6.19072730e+00,  5.55047860e+00],\n",
       "       [-1.73692829e+00,  4.46317050e+00, -6.19072730e+00],\n",
       "       [-1.40286196e+00, -1.73692829e+00,  4.46317050e+00],\n",
       "       [ 3.89229000e-01, -1.40286196e+00, -1.73692829e+00],\n",
       "       [ 2.88270548e+00,  3.89229000e-01, -1.40286196e+00],\n",
       "       [-3.17294672e+00,  2.88270548e+00,  3.89229000e-01],\n",
       "       [ 1.03776328e+00, -3.17294672e+00,  2.88270548e+00],\n",
       "       [-1.32916375e+00,  1.03776328e+00, -3.17294672e+00],\n",
       "       [ 5.50429602e+00, -1.32916375e+00,  1.03776328e+00],\n",
       "       [-4.80769471e+00,  5.50429602e+00, -1.32916375e+00],\n",
       "       [-1.97238521e-01, -4.80769471e+00,  5.50429602e+00],\n",
       "       [ 1.76796847e+00, -1.97238521e-01, -4.80769471e+00],\n",
       "       [ 3.75866376e+00,  1.76796847e+00, -1.97238521e-01],\n",
       "       [ 2.54413339e+00,  3.75866376e+00,  1.76796847e+00],\n",
       "       [-9.88044948e+00,  2.54413339e+00,  3.75866376e+00],\n",
       "       [ 4.09687152e+00, -9.88044948e+00,  2.54413339e+00],\n",
       "       [-4.82112052e-01,  4.09687152e+00, -9.88044948e+00],\n",
       "       [-4.49018496e-01, -4.82112052e-01,  4.09687152e+00],\n",
       "       [ 1.01841983e-01, -4.49018496e-01, -4.82112052e-01],\n",
       "       [-3.37788130e+00,  1.01841983e-01, -4.49018496e-01],\n",
       "       [ 4.58112950e+00, -3.37788130e+00,  1.01841983e-01],\n",
       "       [ 4.29084253e+00,  4.58112950e+00, -3.37788130e+00],\n",
       "       [-1.20312005e+00,  4.29084253e+00,  4.58112950e+00],\n",
       "       [ 1.15780382e+01, -1.20312005e+00,  4.29084253e+00],\n",
       "       [ 1.19995402e+00,  1.15780382e+01, -1.20312005e+00],\n",
       "       [ 4.23096595e+00,  1.19995402e+00,  1.15780382e+01],\n",
       "       [ 3.59250435e+00,  4.23096595e+00,  1.19995402e+00],\n",
       "       [-1.13131049e+00,  3.59250435e+00,  4.23096595e+00],\n",
       "       [ 1.50986134e+00, -1.13131049e+00,  3.59250435e+00],\n",
       "       [ 3.50951547e+00,  1.50986134e+00, -1.13131049e+00],\n",
       "       [ 5.34825146e+00,  3.50951547e+00,  1.50986134e+00],\n",
       "       [-1.65630154e+01,  5.34825146e+00,  3.50951547e+00],\n",
       "       [ 3.11446480e+00, -1.65630154e+01,  5.34825146e+00],\n",
       "       [ 2.29266810e+00,  3.11446480e+00, -1.65630154e+01],\n",
       "       [ 8.31430220e+00,  2.29266810e+00,  3.11446480e+00],\n",
       "       [-7.13364493e-01,  8.31430220e+00,  2.29266810e+00],\n",
       "       [ 4.61306587e+00, -7.13364493e-01,  8.31430220e+00],\n",
       "       [-2.19468831e-02,  4.61306587e+00, -7.13364493e-01],\n",
       "       [ 3.08862062e+00, -2.19468831e-02,  4.61306587e+00],\n",
       "       [-5.10183581e-01,  3.08862062e+00, -2.19468831e-02],\n",
       "       [-1.47031503e+00, -5.10183581e-01,  3.08862062e+00],\n",
       "       [ 2.56284866e+00, -1.47031503e+00, -5.10183581e-01],\n",
       "       [ 2.08948661e+00,  2.56284866e+00, -1.47031503e+00],\n",
       "       [-5.21727168e+00,  2.08948661e+00,  2.56284866e+00],\n",
       "       [ 5.24378786e+00, -5.21727168e+00,  2.08948661e+00],\n",
       "       [ 4.96815421e-01,  5.24378786e+00, -5.21727168e+00],\n",
       "       [-4.40051861e+00,  4.96815421e-01,  5.24378786e+00],\n",
       "       [-2.27563714e+00, -4.40051861e+00,  4.96815421e-01],\n",
       "       [ 9.93956097e+00, -2.27563714e+00, -4.40051861e+00],\n",
       "       [-2.37425640e+00,  9.93956097e+00, -2.27563714e+00],\n",
       "       [-1.19546681e-03, -2.37425640e+00,  9.93956097e+00],\n",
       "       [-4.81174315e+00, -1.19546681e-03, -2.37425640e+00],\n",
       "       [ 4.88409715e-01, -4.81174315e+00, -1.19546681e-03],\n",
       "       [-2.83991380e+00,  4.88409715e-01, -4.81174315e+00],\n",
       "       [ 8.45880347e+00, -2.83991380e+00,  4.88409715e-01],\n",
       "       [-3.14504999e+00,  8.45880347e+00, -2.83991380e+00],\n",
       "       [ 6.30277887e+00, -3.14504999e+00,  8.45880347e+00],\n",
       "       [ 6.33395631e+00,  6.30277887e+00, -3.14504999e+00],\n",
       "       [ 4.02266921e+00,  6.33395631e+00,  6.30277887e+00],\n",
       "       [-7.89007577e-01,  4.02266921e+00,  6.33395631e+00],\n",
       "       [ 7.75209719e+00, -7.89007577e-01,  4.02266921e+00],\n",
       "       [-1.03609343e+01,  7.75209719e+00, -7.89007577e-01],\n",
       "       [ 3.70995162e+00, -1.03609343e+01,  7.75209719e+00],\n",
       "       [-1.24305515e+00,  3.70995162e+00, -1.03609343e+01],\n",
       "       [ 6.86341254e+00, -1.24305515e+00,  3.70995162e+00],\n",
       "       [ 3.14444436e-01,  6.86341254e+00, -1.24305515e+00],\n",
       "       [ 1.02780702e+01,  3.14444436e-01,  6.86341254e+00],\n",
       "       [ 5.84775635e+00,  1.02780702e+01,  3.14444436e-01],\n",
       "       [-2.22628280e+00,  5.84775635e+00,  1.02780702e+01],\n",
       "       [ 1.82877465e+00, -2.22628280e+00,  5.84775635e+00],\n",
       "       [-1.20846292e+00,  1.82877465e+00, -2.22628280e+00],\n",
       "       [ 9.67807902e+00, -1.20846292e+00,  1.82877465e+00],\n",
       "       [-7.57428675e+00,  9.67807902e+00, -1.20846292e+00],\n",
       "       [-2.72051811e+00, -7.57428675e+00,  9.67807902e+00],\n",
       "       [ 2.24971717e+00, -2.72051811e+00, -7.57428675e+00],\n",
       "       [ 4.40904163e+00,  2.24971717e+00, -2.72051811e+00],\n",
       "       [-5.78561539e+00,  4.40904163e+00,  2.24971717e+00],\n",
       "       [ 1.52502545e-02, -5.78561539e+00,  4.40904163e+00],\n",
       "       [ 4.12904240e+00,  1.52502545e-02, -5.78561539e+00],\n",
       "       [-9.54773918e+00,  4.12904240e+00,  1.52502545e-02],\n",
       "       [ 1.09427597e+01, -9.54773918e+00,  4.12904240e+00],\n",
       "       [ 2.90365237e+00,  1.09427597e+01, -9.54773918e+00],\n",
       "       [-6.86150152e+00,  2.90365237e+00,  1.09427597e+01],\n",
       "       [-2.63057753e+00, -6.86150152e+00,  2.90365237e+00],\n",
       "       [ 7.04012937e+00, -2.63057753e+00, -6.86150152e+00],\n",
       "       [ 1.56824058e-01,  7.04012937e+00, -2.63057753e+00],\n",
       "       [-1.84316601e+00,  1.56824058e-01,  7.04012937e+00],\n",
       "       [-5.97684137e-01, -1.84316601e+00,  1.56824058e-01],\n",
       "       [ 5.43475554e+00, -5.97684137e-01, -1.84316601e+00],\n",
       "       [-1.24981174e+01,  5.43475554e+00, -5.97684137e-01],\n",
       "       [-1.03805205e+00, -1.24981174e+01,  5.43475554e+00],\n",
       "       [ 1.86645584e+00, -1.03805205e+00, -1.24981174e+01],\n",
       "       [-1.00973894e+01,  1.86645584e+00, -1.03805205e+00],\n",
       "       [-1.17550755e+00, -1.00973894e+01,  1.86645584e+00],\n",
       "       [-2.21069771e+00, -1.17550755e+00, -1.00973894e+01],\n",
       "       [-3.67138511e+00, -2.21069771e+00, -1.17550755e+00],\n",
       "       [-1.11377977e+00, -3.67138511e+00, -2.21069771e+00],\n",
       "       [-5.14406128e+00, -1.11377977e+00, -3.67138511e+00],\n",
       "       [ 2.36134510e+00, -5.14406128e+00, -1.11377977e+00],\n",
       "       [-7.20346213e+00,  2.36134510e+00, -5.14406128e+00],\n",
       "       [ 3.66753883e-01, -7.20346213e+00,  2.36134510e+00],\n",
       "       [ 2.20162303e+00,  3.66753883e-01, -7.20346213e+00],\n",
       "       [ 8.12064695e-01,  2.20162303e+00,  3.66753883e-01],\n",
       "       [ 6.98552494e+00,  8.12064695e-01,  2.20162303e+00],\n",
       "       [-4.69350385e-01,  6.98552494e+00,  8.12064695e-01],\n",
       "       [-6.75454270e+00, -4.69350385e-01,  6.98552494e+00],\n",
       "       [-1.57554708e+00, -6.75454270e+00, -4.69350385e-01],\n",
       "       [-3.17140772e+00, -1.57554708e+00, -6.75454270e+00],\n",
       "       [-3.98751243e+00, -3.17140772e+00, -1.57554708e+00],\n",
       "       [ 1.04713760e+01, -3.98751243e+00, -3.17140772e+00],\n",
       "       [-1.21383199e+01,  1.04713760e+01, -3.98751243e+00]])"
      ]
     },
     "execution_count": 190,
     "metadata": {},
     "output_type": "execute_result"
    }
   ],
   "source": [
    "diff_values = diff_df.values\n",
    "\n",
    "# Step 6: Slice the numpy array to exclude the first n_lags rows\n",
    "sliced_values = diff_values[n_lags:, :]\n",
    "sliced_values"
   ]
  },
  {
   "cell_type": "code",
   "execution_count": 191,
   "metadata": {},
   "outputs": [],
   "source": [
    "for t in range(1,n_lags):\n",
    "    test = pd.DataFrame(y_train).shift(t)"
   ]
  },
  {
   "cell_type": "code",
   "execution_count": 192,
   "metadata": {},
   "outputs": [
    {
     "data": {
      "text/html": [
       "<div>\n",
       "<style scoped>\n",
       "    .dataframe tbody tr th:only-of-type {\n",
       "        vertical-align: middle;\n",
       "    }\n",
       "\n",
       "    .dataframe tbody tr th {\n",
       "        vertical-align: top;\n",
       "    }\n",
       "\n",
       "    .dataframe thead th {\n",
       "        text-align: right;\n",
       "    }\n",
       "</style>\n",
       "<table border=\"1\" class=\"dataframe\">\n",
       "  <thead>\n",
       "    <tr style=\"text-align: right;\">\n",
       "      <th></th>\n",
       "      <th>0</th>\n",
       "    </tr>\n",
       "  </thead>\n",
       "  <tbody>\n",
       "    <tr>\n",
       "      <th>0</th>\n",
       "      <td>NaN</td>\n",
       "    </tr>\n",
       "    <tr>\n",
       "      <th>1</th>\n",
       "      <td>NaN</td>\n",
       "    </tr>\n",
       "    <tr>\n",
       "      <th>2</th>\n",
       "      <td>NaN</td>\n",
       "    </tr>\n",
       "    <tr>\n",
       "      <th>3</th>\n",
       "      <td>-37.519318</td>\n",
       "    </tr>\n",
       "    <tr>\n",
       "      <th>4</th>\n",
       "      <td>-28.690096</td>\n",
       "    </tr>\n",
       "    <tr>\n",
       "      <th>...</th>\n",
       "      <td>...</td>\n",
       "    </tr>\n",
       "    <tr>\n",
       "      <th>143</th>\n",
       "      <td>34.003188</td>\n",
       "    </tr>\n",
       "    <tr>\n",
       "      <th>144</th>\n",
       "      <td>27.248645</td>\n",
       "    </tr>\n",
       "    <tr>\n",
       "      <th>145</th>\n",
       "      <td>25.673098</td>\n",
       "    </tr>\n",
       "    <tr>\n",
       "      <th>146</th>\n",
       "      <td>22.501691</td>\n",
       "    </tr>\n",
       "    <tr>\n",
       "      <th>147</th>\n",
       "      <td>18.514178</td>\n",
       "    </tr>\n",
       "  </tbody>\n",
       "</table>\n",
       "<p>148 rows × 1 columns</p>\n",
       "</div>"
      ],
      "text/plain": [
       "             0\n",
       "0          NaN\n",
       "1          NaN\n",
       "2          NaN\n",
       "3   -37.519318\n",
       "4   -28.690096\n",
       "..         ...\n",
       "143  34.003188\n",
       "144  27.248645\n",
       "145  25.673098\n",
       "146  22.501691\n",
       "147  18.514178\n",
       "\n",
       "[148 rows x 1 columns]"
      ]
     },
     "execution_count": 192,
     "metadata": {},
     "output_type": "execute_result"
    }
   ],
   "source": [
    "test"
   ]
  },
  {
   "cell_type": "code",
   "execution_count": 194,
   "metadata": {},
   "outputs": [],
   "source": [
    "X_train_shift = pd.concat([pd.DataFrame(y_train).shift(t) for t in range(1,n_lags)],1).diff().values[n_lags:,:]\n",
    "y_train_shift = np.diff(y_train)[n_lags-1:]"
   ]
  },
  {
   "cell_type": "code",
   "execution_count": 195,
   "metadata": {},
   "outputs": [],
   "source": [
    "y_test = df_test['wPreis'].values\n"
   ]
  },
  {
   "cell_type": "code",
   "execution_count": 196,
   "metadata": {},
   "outputs": [
    {
     "data": {
      "text/html": [
       "<style>#sk-container-id-4 {color: black;background-color: white;}#sk-container-id-4 pre{padding: 0;}#sk-container-id-4 div.sk-toggleable {background-color: white;}#sk-container-id-4 label.sk-toggleable__label {cursor: pointer;display: block;width: 100%;margin-bottom: 0;padding: 0.3em;box-sizing: border-box;text-align: center;}#sk-container-id-4 label.sk-toggleable__label-arrow:before {content: \"▸\";float: left;margin-right: 0.25em;color: #696969;}#sk-container-id-4 label.sk-toggleable__label-arrow:hover:before {color: black;}#sk-container-id-4 div.sk-estimator:hover label.sk-toggleable__label-arrow:before {color: black;}#sk-container-id-4 div.sk-toggleable__content {max-height: 0;max-width: 0;overflow: hidden;text-align: left;background-color: #f0f8ff;}#sk-container-id-4 div.sk-toggleable__content pre {margin: 0.2em;color: black;border-radius: 0.25em;background-color: #f0f8ff;}#sk-container-id-4 input.sk-toggleable__control:checked~div.sk-toggleable__content {max-height: 200px;max-width: 100%;overflow: auto;}#sk-container-id-4 input.sk-toggleable__control:checked~label.sk-toggleable__label-arrow:before {content: \"▾\";}#sk-container-id-4 div.sk-estimator input.sk-toggleable__control:checked~label.sk-toggleable__label {background-color: #d4ebff;}#sk-container-id-4 div.sk-label input.sk-toggleable__control:checked~label.sk-toggleable__label {background-color: #d4ebff;}#sk-container-id-4 input.sk-hidden--visually {border: 0;clip: rect(1px 1px 1px 1px);clip: rect(1px, 1px, 1px, 1px);height: 1px;margin: -1px;overflow: hidden;padding: 0;position: absolute;width: 1px;}#sk-container-id-4 div.sk-estimator {font-family: monospace;background-color: #f0f8ff;border: 1px dotted black;border-radius: 0.25em;box-sizing: border-box;margin-bottom: 0.5em;}#sk-container-id-4 div.sk-estimator:hover {background-color: #d4ebff;}#sk-container-id-4 div.sk-parallel-item::after {content: \"\";width: 100%;border-bottom: 1px solid gray;flex-grow: 1;}#sk-container-id-4 div.sk-label:hover label.sk-toggleable__label {background-color: #d4ebff;}#sk-container-id-4 div.sk-serial::before {content: \"\";position: absolute;border-left: 1px solid gray;box-sizing: border-box;top: 0;bottom: 0;left: 50%;z-index: 0;}#sk-container-id-4 div.sk-serial {display: flex;flex-direction: column;align-items: center;background-color: white;padding-right: 0.2em;padding-left: 0.2em;position: relative;}#sk-container-id-4 div.sk-item {position: relative;z-index: 1;}#sk-container-id-4 div.sk-parallel {display: flex;align-items: stretch;justify-content: center;background-color: white;position: relative;}#sk-container-id-4 div.sk-item::before, #sk-container-id-4 div.sk-parallel-item::before {content: \"\";position: absolute;border-left: 1px solid gray;box-sizing: border-box;top: 0;bottom: 0;left: 50%;z-index: -1;}#sk-container-id-4 div.sk-parallel-item {display: flex;flex-direction: column;z-index: 1;position: relative;background-color: white;}#sk-container-id-4 div.sk-parallel-item:first-child::after {align-self: flex-end;width: 50%;}#sk-container-id-4 div.sk-parallel-item:last-child::after {align-self: flex-start;width: 50%;}#sk-container-id-4 div.sk-parallel-item:only-child::after {width: 0;}#sk-container-id-4 div.sk-dashed-wrapped {border: 1px dashed gray;margin: 0 0.4em 0.5em 0.4em;box-sizing: border-box;padding-bottom: 0.4em;background-color: white;}#sk-container-id-4 div.sk-label label {font-family: monospace;font-weight: bold;display: inline-block;line-height: 1.2em;}#sk-container-id-4 div.sk-label-container {text-align: center;}#sk-container-id-4 div.sk-container {/* jupyter's `normalize.less` sets `[hidden] { display: none; }` but bootstrap.min.css set `[hidden] { display: none !important; }` so we also need the `!important` here to be able to override the default hidden behavior on the sphinx rendered scikit-learn.org. See: https://github.com/scikit-learn/scikit-learn/issues/21755 */display: inline-block !important;position: relative;}#sk-container-id-4 div.sk-text-repr-fallback {display: none;}</style><div id=\"sk-container-id-4\" class=\"sk-top-container\"><div class=\"sk-text-repr-fallback\"><pre>DecisionTreeRegressor(max_depth=2)</pre><b>In a Jupyter environment, please rerun this cell to show the HTML representation or trust the notebook. <br />On GitHub, the HTML representation is unable to render, please try loading this page with nbviewer.org.</b></div><div class=\"sk-container\" hidden><div class=\"sk-item\"><div class=\"sk-estimator sk-toggleable\"><input class=\"sk-toggleable__control sk-hidden--visually\" id=\"sk-estimator-id-4\" type=\"checkbox\" checked><label for=\"sk-estimator-id-4\" class=\"sk-toggleable__label sk-toggleable__label-arrow\">DecisionTreeRegressor</label><div class=\"sk-toggleable__content\"><pre>DecisionTreeRegressor(max_depth=2)</pre></div></div></div></div></div>"
      ],
      "text/plain": [
       "DecisionTreeRegressor(max_depth=2)"
      ]
     },
     "execution_count": 196,
     "metadata": {},
     "output_type": "execute_result"
    }
   ],
   "source": [
    "tree = DecisionTreeRegressor(max_depth = 2)\n",
    "tree.fit(X_train_shift, y_train_shift)\n"
   ]
  },
  {
   "cell_type": "code",
   "execution_count": 197,
   "metadata": {},
   "outputs": [],
   "source": [
    "y_pred_train = tree.predict(X_train_shift).reshape(-1)"
   ]
  },
  {
   "cell_type": "code",
   "execution_count": 198,
   "metadata": {},
   "outputs": [],
   "source": [
    "Xt = np.concatenate([X_train_shift[-1,1:].reshape(1,-1),np.array(y_train_shift[-1]).reshape(1,1)],1)\n"
   ]
  },
  {
   "cell_type": "code",
   "execution_count": 199,
   "metadata": {},
   "outputs": [],
   "source": [
    "predictions_test = []\n",
    "for t in range(len(y_test)):\n",
    "    pred = tree.predict(Xt)\n",
    "    predictions_test.append(pred[0])\n",
    "    Xt = np.concatenate([np.array(pred).reshape(1,1),Xt[-1,1:].reshape(1,-1)],1)"
   ]
  },
  {
   "cell_type": "code",
   "execution_count": 200,
   "metadata": {},
   "outputs": [],
   "source": [
    "y_pred_test = np.array(predictions_test)\n",
    "y_pred_train = y_train[n_lags-2]+np.cumsum(y_pred_train)\n",
    "y_pred_test = y_train[-1]+np.cumsum(y_pred_test)"
   ]
  },
  {
   "cell_type": "code",
   "execution_count": 201,
   "metadata": {},
   "outputs": [
    {
     "name": "stdout",
     "output_type": "stream",
     "text": [
      "Decision Tree Forecast Accuracy of: wPreis\n",
      "me     :  0.3503\n",
      "rmse   :  3.6113\n",
      "direction_accuracy :  0.6\n"
     ]
    }
   ],
   "source": [
    "def adjust(val, length= 6): return str(val).ljust(length) # length\n",
    "print('Decision Tree Forecast Accuracy of: wPreis')\n",
    "accuracy_prod = forecast_accuracy(y_pred_test, df_test['wPreis'])\n",
    "for k, v in accuracy_prod.items():\n",
    "    print(adjust(k), ': ', round(v,4))"
   ]
  },
  {
   "attachments": {},
   "cell_type": "markdown",
   "metadata": {},
   "source": [
    " "
   ]
  },
  {
   "attachments": {},
   "cell_type": "markdown",
   "metadata": {},
   "source": [
    "## Prophet"
   ]
  },
  {
   "cell_type": "code",
   "execution_count": 202,
   "metadata": {},
   "outputs": [],
   "source": [
    "import prophet"
   ]
  },
  {
   "cell_type": "code",
   "execution_count": 203,
   "metadata": {},
   "outputs": [],
   "source": [
    "from prophet import Prophet"
   ]
  },
  {
   "cell_type": "code",
   "execution_count": 204,
   "metadata": {},
   "outputs": [
    {
     "data": {
      "text/html": [
       "<div>\n",
       "<style scoped>\n",
       "    .dataframe tbody tr th:only-of-type {\n",
       "        vertical-align: middle;\n",
       "    }\n",
       "\n",
       "    .dataframe tbody tr th {\n",
       "        vertical-align: top;\n",
       "    }\n",
       "\n",
       "    .dataframe thead th {\n",
       "        text-align: right;\n",
       "    }\n",
       "</style>\n",
       "<table border=\"1\" class=\"dataframe\">\n",
       "  <thead>\n",
       "    <tr style=\"text-align: right;\">\n",
       "      <th></th>\n",
       "      <th>week</th>\n",
       "      <th>wPreis</th>\n",
       "      <th>Plz</th>\n",
       "      <th>full</th>\n",
       "      <th>date</th>\n",
       "    </tr>\n",
       "    <tr>\n",
       "      <th>date</th>\n",
       "      <th></th>\n",
       "      <th></th>\n",
       "      <th></th>\n",
       "      <th></th>\n",
       "      <th></th>\n",
       "    </tr>\n",
       "  </thead>\n",
       "  <tbody>\n",
       "    <tr>\n",
       "      <th>2020-09-14</th>\n",
       "      <td>2020-37</td>\n",
       "      <td>-37.519318</td>\n",
       "      <td>['25', '24']</td>\n",
       "      <td>A1 &amp; A2 -  geschreddert</td>\n",
       "      <td>2020-09-14</td>\n",
       "    </tr>\n",
       "    <tr>\n",
       "      <th>2020-09-28</th>\n",
       "      <td>2020-39</td>\n",
       "      <td>-28.690096</td>\n",
       "      <td>['25', '24']</td>\n",
       "      <td>A1 &amp; A2 -  geschreddert</td>\n",
       "      <td>2020-09-28</td>\n",
       "    </tr>\n",
       "    <tr>\n",
       "      <th>2020-10-12</th>\n",
       "      <td>2020-41</td>\n",
       "      <td>-29.688079</td>\n",
       "      <td>['25', '24']</td>\n",
       "      <td>A1 &amp; A2 -  geschreddert</td>\n",
       "      <td>2020-10-12</td>\n",
       "    </tr>\n",
       "    <tr>\n",
       "      <th>2020-10-19</th>\n",
       "      <td>2020-42</td>\n",
       "      <td>-25.630433</td>\n",
       "      <td>['25', '24']</td>\n",
       "      <td>A1 &amp; A2 -  geschreddert</td>\n",
       "      <td>2020-10-19</td>\n",
       "    </tr>\n",
       "    <tr>\n",
       "      <th>2020-10-26</th>\n",
       "      <td>2020-43</td>\n",
       "      <td>-29.073794</td>\n",
       "      <td>['25', '24']</td>\n",
       "      <td>A1 &amp; A2 -  geschreddert</td>\n",
       "      <td>2020-10-26</td>\n",
       "    </tr>\n",
       "  </tbody>\n",
       "</table>\n",
       "</div>"
      ],
      "text/plain": [
       "               week     wPreis           Plz                     full  \\\n",
       "date                                                                    \n",
       "2020-09-14  2020-37 -37.519318  ['25', '24']  A1 & A2 -  geschreddert   \n",
       "2020-09-28  2020-39 -28.690096  ['25', '24']  A1 & A2 -  geschreddert   \n",
       "2020-10-12  2020-41 -29.688079  ['25', '24']  A1 & A2 -  geschreddert   \n",
       "2020-10-19  2020-42 -25.630433  ['25', '24']  A1 & A2 -  geschreddert   \n",
       "2020-10-26  2020-43 -29.073794  ['25', '24']  A1 & A2 -  geschreddert   \n",
       "\n",
       "                 date  \n",
       "date                   \n",
       "2020-09-14 2020-09-14  \n",
       "2020-09-28 2020-09-28  \n",
       "2020-10-12 2020-10-12  \n",
       "2020-10-19 2020-10-19  \n",
       "2020-10-26 2020-10-26  "
      ]
     },
     "execution_count": 204,
     "metadata": {},
     "output_type": "execute_result"
    }
   ],
   "source": [
    "df_train.head()"
   ]
  },
  {
   "attachments": {},
   "cell_type": "markdown",
   "metadata": {},
   "source": [
    "Prophet model expects the dataset to be named a specific way. We will rename our dataframe columns before feeding it into the model.\n",
    "- Datetime column named: ds\n",
    "- target : y"
   ]
  },
  {
   "cell_type": "code",
   "execution_count": 278,
   "metadata": {},
   "outputs": [],
   "source": [
    "#pjme_train_prophet = df_train.reset_index() \n",
    "pjme_train_prophet = df_train.rename(columns={'date':'ds',\n",
    "                     'wPreis':'y'})\n",
    "pjme_train_prophet = pjme_train_prophet[['ds', 'y']]"
   ]
  },
  {
   "cell_type": "code",
   "execution_count": 206,
   "metadata": {},
   "outputs": [
    {
     "data": {
      "text/html": [
       "<div>\n",
       "<style scoped>\n",
       "    .dataframe tbody tr th:only-of-type {\n",
       "        vertical-align: middle;\n",
       "    }\n",
       "\n",
       "    .dataframe tbody tr th {\n",
       "        vertical-align: top;\n",
       "    }\n",
       "\n",
       "    .dataframe thead th {\n",
       "        text-align: right;\n",
       "    }\n",
       "</style>\n",
       "<table border=\"1\" class=\"dataframe\">\n",
       "  <thead>\n",
       "    <tr style=\"text-align: right;\">\n",
       "      <th></th>\n",
       "      <th>ds</th>\n",
       "      <th>y</th>\n",
       "    </tr>\n",
       "    <tr>\n",
       "      <th>date</th>\n",
       "      <th></th>\n",
       "      <th></th>\n",
       "    </tr>\n",
       "  </thead>\n",
       "  <tbody>\n",
       "    <tr>\n",
       "      <th>2020-09-14</th>\n",
       "      <td>2020-09-14</td>\n",
       "      <td>-37.519318</td>\n",
       "    </tr>\n",
       "    <tr>\n",
       "      <th>2020-09-28</th>\n",
       "      <td>2020-09-28</td>\n",
       "      <td>-28.690096</td>\n",
       "    </tr>\n",
       "    <tr>\n",
       "      <th>2020-10-12</th>\n",
       "      <td>2020-10-12</td>\n",
       "      <td>-29.688079</td>\n",
       "    </tr>\n",
       "    <tr>\n",
       "      <th>2020-10-19</th>\n",
       "      <td>2020-10-19</td>\n",
       "      <td>-25.630433</td>\n",
       "    </tr>\n",
       "    <tr>\n",
       "      <th>2020-10-26</th>\n",
       "      <td>2020-10-26</td>\n",
       "      <td>-29.073794</td>\n",
       "    </tr>\n",
       "  </tbody>\n",
       "</table>\n",
       "</div>"
      ],
      "text/plain": [
       "                   ds          y\n",
       "date                            \n",
       "2020-09-14 2020-09-14 -37.519318\n",
       "2020-09-28 2020-09-28 -28.690096\n",
       "2020-10-12 2020-10-12 -29.688079\n",
       "2020-10-19 2020-10-19 -25.630433\n",
       "2020-10-26 2020-10-26 -29.073794"
      ]
     },
     "execution_count": 206,
     "metadata": {},
     "output_type": "execute_result"
    }
   ],
   "source": [
    "pjme_train_prophet.head()"
   ]
  },
  {
   "cell_type": "code",
   "execution_count": 207,
   "metadata": {},
   "outputs": [],
   "source": [
    "model = Prophet()\n"
   ]
  },
  {
   "cell_type": "code",
   "execution_count": 208,
   "metadata": {},
   "outputs": [
    {
     "name": "stderr",
     "output_type": "stream",
     "text": [
      "17:21:43 - cmdstanpy - INFO - Chain [1] start processing\n",
      "17:21:43 - cmdstanpy - INFO - Chain [1] done processing\n"
     ]
    },
    {
     "data": {
      "text/plain": [
       "<prophet.forecaster.Prophet at 0x17bb2a1d0>"
      ]
     },
     "execution_count": 208,
     "metadata": {},
     "output_type": "execute_result"
    }
   ],
   "source": [
    "model.fit(pjme_train_prophet)"
   ]
  },
  {
   "cell_type": "code",
   "execution_count": 279,
   "metadata": {},
   "outputs": [],
   "source": [
    "#pjme_train_prophet = df_train.reset_index() \n",
    "pjme_test_prophet = df_test.rename(columns={'date':'ds',\n",
    "                     'wPreis':'y'})\n",
    "\n",
    "pjme_test_prophet = pjme_test_prophet[['ds', 'y']]"
   ]
  },
  {
   "cell_type": "code",
   "execution_count": 261,
   "metadata": {},
   "outputs": [],
   "source": [
    "pjme_test_fcst = model.predict(pjme_test_prophet)"
   ]
  },
  {
   "cell_type": "code",
   "execution_count": 271,
   "metadata": {},
   "outputs": [
    {
     "data": {
      "text/html": [
       "<div>\n",
       "<style scoped>\n",
       "    .dataframe tbody tr th:only-of-type {\n",
       "        vertical-align: middle;\n",
       "    }\n",
       "\n",
       "    .dataframe tbody tr th {\n",
       "        vertical-align: top;\n",
       "    }\n",
       "\n",
       "    .dataframe thead th {\n",
       "        text-align: right;\n",
       "    }\n",
       "</style>\n",
       "<table border=\"1\" class=\"dataframe\">\n",
       "  <thead>\n",
       "    <tr style=\"text-align: right;\">\n",
       "      <th></th>\n",
       "      <th>ds</th>\n",
       "      <th>y</th>\n",
       "    </tr>\n",
       "    <tr>\n",
       "      <th>date</th>\n",
       "      <th></th>\n",
       "      <th></th>\n",
       "    </tr>\n",
       "  </thead>\n",
       "  <tbody>\n",
       "    <tr>\n",
       "      <th>2023-07-31</th>\n",
       "      <td>2023-07-31</td>\n",
       "      <td>7.458214</td>\n",
       "    </tr>\n",
       "    <tr>\n",
       "      <th>2023-08-07</th>\n",
       "      <td>2023-08-07</td>\n",
       "      <td>7.832750</td>\n",
       "    </tr>\n",
       "    <tr>\n",
       "      <th>2023-08-14</th>\n",
       "      <td>2023-08-14</td>\n",
       "      <td>3.525113</td>\n",
       "    </tr>\n",
       "    <tr>\n",
       "      <th>2023-08-21</th>\n",
       "      <td>2023-08-21</td>\n",
       "      <td>3.896402</td>\n",
       "    </tr>\n",
       "    <tr>\n",
       "      <th>2023-08-28</th>\n",
       "      <td>2023-08-28</td>\n",
       "      <td>6.754483</td>\n",
       "    </tr>\n",
       "    <tr>\n",
       "      <th>2023-09-04</th>\n",
       "      <td>2023-09-04</td>\n",
       "      <td>2.053265</td>\n",
       "    </tr>\n",
       "  </tbody>\n",
       "</table>\n",
       "</div>"
      ],
      "text/plain": [
       "                   ds         y\n",
       "date                           \n",
       "2023-07-31 2023-07-31  7.458214\n",
       "2023-08-07 2023-08-07  7.832750\n",
       "2023-08-14 2023-08-14  3.525113\n",
       "2023-08-21 2023-08-21  3.896402\n",
       "2023-08-28 2023-08-28  6.754483\n",
       "2023-09-04 2023-09-04  2.053265"
      ]
     },
     "execution_count": 271,
     "metadata": {},
     "output_type": "execute_result"
    }
   ],
   "source": [
    "pjme_test_prophet #.iloc[[0]]"
   ]
  },
  {
   "cell_type": "code",
   "execution_count": null,
   "metadata": {},
   "outputs": [],
   "source": [
    "pjme_test_fcst = model.predict(pjme_test_prophet[])"
   ]
  },
  {
   "cell_type": "code",
   "execution_count": 262,
   "metadata": {},
   "outputs": [
    {
     "data": {
      "text/html": [
       "<div>\n",
       "<style scoped>\n",
       "    .dataframe tbody tr th:only-of-type {\n",
       "        vertical-align: middle;\n",
       "    }\n",
       "\n",
       "    .dataframe tbody tr th {\n",
       "        vertical-align: top;\n",
       "    }\n",
       "\n",
       "    .dataframe thead th {\n",
       "        text-align: right;\n",
       "    }\n",
       "</style>\n",
       "<table border=\"1\" class=\"dataframe\">\n",
       "  <thead>\n",
       "    <tr style=\"text-align: right;\">\n",
       "      <th></th>\n",
       "      <th>ds</th>\n",
       "      <th>trend</th>\n",
       "      <th>yhat_lower</th>\n",
       "      <th>yhat_upper</th>\n",
       "      <th>trend_lower</th>\n",
       "      <th>trend_upper</th>\n",
       "      <th>additive_terms</th>\n",
       "      <th>additive_terms_lower</th>\n",
       "      <th>additive_terms_upper</th>\n",
       "      <th>yearly</th>\n",
       "      <th>yearly_lower</th>\n",
       "      <th>yearly_upper</th>\n",
       "      <th>multiplicative_terms</th>\n",
       "      <th>multiplicative_terms_lower</th>\n",
       "      <th>multiplicative_terms_upper</th>\n",
       "      <th>yhat</th>\n",
       "    </tr>\n",
       "  </thead>\n",
       "  <tbody>\n",
       "    <tr>\n",
       "      <th>0</th>\n",
       "      <td>2023-07-31</td>\n",
       "      <td>57.045772</td>\n",
       "      <td>33.303110</td>\n",
       "      <td>64.551407</td>\n",
       "      <td>57.045772</td>\n",
       "      <td>57.045772</td>\n",
       "      <td>-7.745965</td>\n",
       "      <td>-7.745965</td>\n",
       "      <td>-7.745965</td>\n",
       "      <td>-7.745965</td>\n",
       "      <td>-7.745965</td>\n",
       "      <td>-7.745965</td>\n",
       "      <td>0.0</td>\n",
       "      <td>0.0</td>\n",
       "      <td>0.0</td>\n",
       "      <td>49.299807</td>\n",
       "    </tr>\n",
       "    <tr>\n",
       "      <th>1</th>\n",
       "      <td>2023-08-07</td>\n",
       "      <td>57.631828</td>\n",
       "      <td>37.148638</td>\n",
       "      <td>68.568213</td>\n",
       "      <td>57.629633</td>\n",
       "      <td>57.633452</td>\n",
       "      <td>-4.252795</td>\n",
       "      <td>-4.252795</td>\n",
       "      <td>-4.252795</td>\n",
       "      <td>-4.252795</td>\n",
       "      <td>-4.252795</td>\n",
       "      <td>-4.252795</td>\n",
       "      <td>0.0</td>\n",
       "      <td>0.0</td>\n",
       "      <td>0.0</td>\n",
       "      <td>53.379034</td>\n",
       "    </tr>\n",
       "    <tr>\n",
       "      <th>2</th>\n",
       "      <td>2023-08-14</td>\n",
       "      <td>58.217884</td>\n",
       "      <td>40.879967</td>\n",
       "      <td>73.386507</td>\n",
       "      <td>58.212511</td>\n",
       "      <td>58.222141</td>\n",
       "      <td>-1.755968</td>\n",
       "      <td>-1.755968</td>\n",
       "      <td>-1.755968</td>\n",
       "      <td>-1.755968</td>\n",
       "      <td>-1.755968</td>\n",
       "      <td>-1.755968</td>\n",
       "      <td>0.0</td>\n",
       "      <td>0.0</td>\n",
       "      <td>0.0</td>\n",
       "      <td>56.461917</td>\n",
       "    </tr>\n",
       "    <tr>\n",
       "      <th>3</th>\n",
       "      <td>2023-08-21</td>\n",
       "      <td>58.803941</td>\n",
       "      <td>43.292143</td>\n",
       "      <td>74.536446</td>\n",
       "      <td>58.793902</td>\n",
       "      <td>58.813257</td>\n",
       "      <td>-0.152457</td>\n",
       "      <td>-0.152457</td>\n",
       "      <td>-0.152457</td>\n",
       "      <td>-0.152457</td>\n",
       "      <td>-0.152457</td>\n",
       "      <td>-0.152457</td>\n",
       "      <td>0.0</td>\n",
       "      <td>0.0</td>\n",
       "      <td>0.0</td>\n",
       "      <td>58.651484</td>\n",
       "    </tr>\n",
       "    <tr>\n",
       "      <th>4</th>\n",
       "      <td>2023-08-28</td>\n",
       "      <td>59.389997</td>\n",
       "      <td>45.376744</td>\n",
       "      <td>75.914898</td>\n",
       "      <td>59.373737</td>\n",
       "      <td>59.405520</td>\n",
       "      <td>1.240705</td>\n",
       "      <td>1.240705</td>\n",
       "      <td>1.240705</td>\n",
       "      <td>1.240705</td>\n",
       "      <td>1.240705</td>\n",
       "      <td>1.240705</td>\n",
       "      <td>0.0</td>\n",
       "      <td>0.0</td>\n",
       "      <td>0.0</td>\n",
       "      <td>60.630702</td>\n",
       "    </tr>\n",
       "    <tr>\n",
       "      <th>5</th>\n",
       "      <td>2023-09-04</td>\n",
       "      <td>59.976053</td>\n",
       "      <td>46.816888</td>\n",
       "      <td>79.401395</td>\n",
       "      <td>59.954640</td>\n",
       "      <td>59.996760</td>\n",
       "      <td>2.720408</td>\n",
       "      <td>2.720408</td>\n",
       "      <td>2.720408</td>\n",
       "      <td>2.720408</td>\n",
       "      <td>2.720408</td>\n",
       "      <td>2.720408</td>\n",
       "      <td>0.0</td>\n",
       "      <td>0.0</td>\n",
       "      <td>0.0</td>\n",
       "      <td>62.696461</td>\n",
       "    </tr>\n",
       "  </tbody>\n",
       "</table>\n",
       "</div>"
      ],
      "text/plain": [
       "          ds      trend  yhat_lower  yhat_upper  trend_lower  trend_upper  \\\n",
       "0 2023-07-31  57.045772   33.303110   64.551407    57.045772    57.045772   \n",
       "1 2023-08-07  57.631828   37.148638   68.568213    57.629633    57.633452   \n",
       "2 2023-08-14  58.217884   40.879967   73.386507    58.212511    58.222141   \n",
       "3 2023-08-21  58.803941   43.292143   74.536446    58.793902    58.813257   \n",
       "4 2023-08-28  59.389997   45.376744   75.914898    59.373737    59.405520   \n",
       "5 2023-09-04  59.976053   46.816888   79.401395    59.954640    59.996760   \n",
       "\n",
       "   additive_terms  additive_terms_lower  additive_terms_upper    yearly  \\\n",
       "0       -7.745965             -7.745965             -7.745965 -7.745965   \n",
       "1       -4.252795             -4.252795             -4.252795 -4.252795   \n",
       "2       -1.755968             -1.755968             -1.755968 -1.755968   \n",
       "3       -0.152457             -0.152457             -0.152457 -0.152457   \n",
       "4        1.240705              1.240705              1.240705  1.240705   \n",
       "5        2.720408              2.720408              2.720408  2.720408   \n",
       "\n",
       "   yearly_lower  yearly_upper  multiplicative_terms  \\\n",
       "0     -7.745965     -7.745965                   0.0   \n",
       "1     -4.252795     -4.252795                   0.0   \n",
       "2     -1.755968     -1.755968                   0.0   \n",
       "3     -0.152457     -0.152457                   0.0   \n",
       "4      1.240705      1.240705                   0.0   \n",
       "5      2.720408      2.720408                   0.0   \n",
       "\n",
       "   multiplicative_terms_lower  multiplicative_terms_upper       yhat  \n",
       "0                         0.0                         0.0  49.299807  \n",
       "1                         0.0                         0.0  53.379034  \n",
       "2                         0.0                         0.0  56.461917  \n",
       "3                         0.0                         0.0  58.651484  \n",
       "4                         0.0                         0.0  60.630702  \n",
       "5                         0.0                         0.0  62.696461  "
      ]
     },
     "execution_count": 262,
     "metadata": {},
     "output_type": "execute_result"
    }
   ],
   "source": [
    "pjme_test_fcst"
   ]
  },
  {
   "cell_type": "code",
   "execution_count": 267,
   "metadata": {},
   "outputs": [
    {
     "data": {
      "text/plain": [
       "49.29980705761625"
      ]
     },
     "execution_count": 267,
     "metadata": {},
     "output_type": "execute_result"
    }
   ],
   "source": [
    "pjme_test_fcst['yhat'][0]"
   ]
  },
  {
   "cell_type": "code",
   "execution_count": 212,
   "metadata": {},
   "outputs": [
    {
     "data": {
      "image/png": "[encoded data removed]",
      "text/plain": [
       "<Figure size 1000x500 with 1 Axes>"
      ]
     },
     "metadata": {},
     "output_type": "display_data"
    }
   ],
   "source": [
    "fig, ax = plt.subplots(figsize=(10, 5))\n",
    "fig = model.plot(pjme_test_fcst, ax=ax)\n",
    "ax.set_title('Prophet Forecast')\n",
    "plt.show()"
   ]
  },
  {
   "cell_type": "code",
   "execution_count": 213,
   "metadata": {},
   "outputs": [
    {
     "data": {
      "image/png": "[encoded data removed]",
      "text/plain": [
       "<Figure size 900x600 with 2 Axes>"
      ]
     },
     "metadata": {},
     "output_type": "display_data"
    }
   ],
   "source": [
    "fig = model.plot_components(pjme_test_fcst)\n",
    "plt.show()"
   ]
  },
  {
   "cell_type": "code",
   "execution_count": 214,
   "metadata": {},
   "outputs": [],
   "source": [
    "def forecast_accuracy(forecast, actual):\n",
    "      me = np.mean(forecast - actual)             # ME\n",
    "      rmse = np.mean((forecast - actual)**2)**.5  # RMSE\n",
    "      # Direction accuracy\n",
    "      forecast_diff = np.diff(forecast)\n",
    "      actual_diff = np.diff(actual)\n",
    "      direction_accuracy = np.mean(np.sign(forecast_diff) == np.sign(actual_diff))\n",
    "    \n",
    "      return {'me': me, 'rmse': rmse, 'direction_accuracy': direction_accuracy}\n"
   ]
  },
  {
   "cell_type": "code",
   "execution_count": 215,
   "metadata": {},
   "outputs": [
    {
     "name": "stdout",
     "output_type": "stream",
     "text": [
      "Prophet Forecast Accuracy of: wPreis\n",
      "me     :  51.5999\n",
      "rmse   :  51.9709\n",
      "direction_accuracy :  0.6\n"
     ]
    }
   ],
   "source": [
    "def adjust(val, length= 6): return str(val).ljust(length) # length\n",
    "print('Prophet Forecast Accuracy of: wPreis')\n",
    "accuracy_prod = forecast_accuracy(pjme_test_fcst['yhat'].values, df_test['wPreis'])\n",
    "for k, v in accuracy_prod.items():\n",
    "    print(adjust(k), ': ', round(v,4))"
   ]
  },
  {
   "cell_type": "code",
   "execution_count": 216,
   "metadata": {},
   "outputs": [
    {
     "data": {
      "text/plain": [
       "date\n",
       "2023-07-31    7.458214\n",
       "2023-08-07    7.832750\n",
       "2023-08-14    3.525113\n",
       "2023-08-21    3.896402\n",
       "2023-08-28    6.754483\n",
       "2023-09-04    2.053265\n",
       "Name: wPreis, dtype: float64"
      ]
     },
     "execution_count": 216,
     "metadata": {},
     "output_type": "execute_result"
    }
   ],
   "source": [
    "df_test['wPreis']"
   ]
  },
  {
   "cell_type": "code",
   "execution_count": 217,
   "metadata": {},
   "outputs": [
    {
     "data": {
      "text/plain": [
       "0    49.299807\n",
       "1    53.379034\n",
       "2    56.461917\n",
       "3    58.651484\n",
       "4    60.630702\n",
       "5    62.696461\n",
       "Name: yhat, dtype: float64"
      ]
     },
     "execution_count": 217,
     "metadata": {},
     "output_type": "execute_result"
    }
   ],
   "source": [
    "pjme_test_fcst['yhat']"
   ]
  },
  {
   "cell_type": "code",
   "execution_count": 218,
   "metadata": {},
   "outputs": [],
   "source": [
    "pjme_test_fcst.index = df_test.index"
   ]
  },
  {
   "cell_type": "code",
   "execution_count": 219,
   "metadata": {},
   "outputs": [
    {
     "data": {
      "image/png": "[encoded data removed]",
      "text/plain": [
       "<Figure size 640x480 with 1 Axes>"
      ]
     },
     "metadata": {},
     "output_type": "display_data"
    }
   ],
   "source": [
    "# plot expected vs preducted\n",
    "plt.plot(df_test['wPreis'], label='Expected')\n",
    "plt.plot(pjme_test_fcst['yhat'], label='Predicted')\n",
    "plt.legend()\n",
    "plt.show()"
   ]
  },
  {
   "attachments": {},
   "cell_type": "markdown",
   "metadata": {},
   "source": [
    "Prophet is wildly wrong."
   ]
  },
  {
   "cell_type": "code",
   "execution_count": null,
   "metadata": {},
   "outputs": [],
   "source": []
  },
  {
   "attachments": {},
   "cell_type": "markdown",
   "metadata": {},
   "source": [
    "Trying with Walkforward validation"
   ]
  },
  {
   "cell_type": "code",
   "execution_count": 221,
   "metadata": {},
   "outputs": [
    {
     "data": {
      "text/html": [
       "<div>\n",
       "<style scoped>\n",
       "    .dataframe tbody tr th:only-of-type {\n",
       "        vertical-align: middle;\n",
       "    }\n",
       "\n",
       "    .dataframe tbody tr th {\n",
       "        vertical-align: top;\n",
       "    }\n",
       "\n",
       "    .dataframe thead th {\n",
       "        text-align: right;\n",
       "    }\n",
       "</style>\n",
       "<table border=\"1\" class=\"dataframe\">\n",
       "  <thead>\n",
       "    <tr style=\"text-align: right;\">\n",
       "      <th></th>\n",
       "      <th>week</th>\n",
       "      <th>wPreis</th>\n",
       "      <th>Plz</th>\n",
       "      <th>full</th>\n",
       "      <th>date</th>\n",
       "    </tr>\n",
       "    <tr>\n",
       "      <th>date</th>\n",
       "      <th></th>\n",
       "      <th></th>\n",
       "      <th></th>\n",
       "      <th></th>\n",
       "      <th></th>\n",
       "    </tr>\n",
       "  </thead>\n",
       "  <tbody>\n",
       "    <tr>\n",
       "      <th>2020-09-14</th>\n",
       "      <td>2020-37</td>\n",
       "      <td>-37.519318</td>\n",
       "      <td>['25', '24']</td>\n",
       "      <td>A1 &amp; A2 -  geschreddert</td>\n",
       "      <td>2020-09-14</td>\n",
       "    </tr>\n",
       "    <tr>\n",
       "      <th>2020-09-28</th>\n",
       "      <td>2020-39</td>\n",
       "      <td>-28.690096</td>\n",
       "      <td>['25', '24']</td>\n",
       "      <td>A1 &amp; A2 -  geschreddert</td>\n",
       "      <td>2020-09-28</td>\n",
       "    </tr>\n",
       "    <tr>\n",
       "      <th>2020-10-12</th>\n",
       "      <td>2020-41</td>\n",
       "      <td>-29.688079</td>\n",
       "      <td>['25', '24']</td>\n",
       "      <td>A1 &amp; A2 -  geschreddert</td>\n",
       "      <td>2020-10-12</td>\n",
       "    </tr>\n",
       "    <tr>\n",
       "      <th>2020-10-19</th>\n",
       "      <td>2020-42</td>\n",
       "      <td>-25.630433</td>\n",
       "      <td>['25', '24']</td>\n",
       "      <td>A1 &amp; A2 -  geschreddert</td>\n",
       "      <td>2020-10-19</td>\n",
       "    </tr>\n",
       "    <tr>\n",
       "      <th>2020-10-26</th>\n",
       "      <td>2020-43</td>\n",
       "      <td>-29.073794</td>\n",
       "      <td>['25', '24']</td>\n",
       "      <td>A1 &amp; A2 -  geschreddert</td>\n",
       "      <td>2020-10-26</td>\n",
       "    </tr>\n",
       "  </tbody>\n",
       "</table>\n",
       "</div>"
      ],
      "text/plain": [
       "               week     wPreis           Plz                     full  \\\n",
       "date                                                                    \n",
       "2020-09-14  2020-37 -37.519318  ['25', '24']  A1 & A2 -  geschreddert   \n",
       "2020-09-28  2020-39 -28.690096  ['25', '24']  A1 & A2 -  geschreddert   \n",
       "2020-10-12  2020-41 -29.688079  ['25', '24']  A1 & A2 -  geschreddert   \n",
       "2020-10-19  2020-42 -25.630433  ['25', '24']  A1 & A2 -  geschreddert   \n",
       "2020-10-26  2020-43 -29.073794  ['25', '24']  A1 & A2 -  geschreddert   \n",
       "\n",
       "                 date  \n",
       "date                   \n",
       "2020-09-14 2020-09-14  \n",
       "2020-09-28 2020-09-28  \n",
       "2020-10-12 2020-10-12  \n",
       "2020-10-19 2020-10-19  \n",
       "2020-10-26 2020-10-26  "
      ]
     },
     "execution_count": 221,
     "metadata": {},
     "output_type": "execute_result"
    }
   ],
   "source": [
    "df_train.head()"
   ]
  },
  {
   "cell_type": "code",
   "execution_count": 240,
   "metadata": {},
   "outputs": [
    {
     "name": "stdout",
     "output_type": "stream",
     "text": [
      "ds\n",
      "y\n"
     ]
    }
   ],
   "source": [
    "for x in pjme_train_prophet:\n",
    "    print(x) \n"
   ]
  },
  {
   "cell_type": "code",
   "execution_count": 231,
   "metadata": {},
   "outputs": [
    {
     "data": {
      "text/html": [
       "<div>\n",
       "<style scoped>\n",
       "    .dataframe tbody tr th:only-of-type {\n",
       "        vertical-align: middle;\n",
       "    }\n",
       "\n",
       "    .dataframe tbody tr th {\n",
       "        vertical-align: top;\n",
       "    }\n",
       "\n",
       "    .dataframe thead th {\n",
       "        text-align: right;\n",
       "    }\n",
       "</style>\n",
       "<table border=\"1\" class=\"dataframe\">\n",
       "  <thead>\n",
       "    <tr style=\"text-align: right;\">\n",
       "      <th></th>\n",
       "      <th>ds</th>\n",
       "      <th>y</th>\n",
       "    </tr>\n",
       "    <tr>\n",
       "      <th>date</th>\n",
       "      <th></th>\n",
       "      <th></th>\n",
       "    </tr>\n",
       "  </thead>\n",
       "  <tbody>\n",
       "    <tr>\n",
       "      <th>2023-07-24</th>\n",
       "      <td>2023-07-24</td>\n",
       "      <td>4.063304</td>\n",
       "    </tr>\n",
       "  </tbody>\n",
       "</table>\n",
       "</div>"
      ],
      "text/plain": [
       "                   ds         y\n",
       "date                           \n",
       "2023-07-24 2023-07-24  4.063304"
      ]
     },
     "execution_count": 231,
     "metadata": {},
     "output_type": "execute_result"
    }
   ],
   "source": [
    "pjme_train_prophet[147:]"
   ]
  },
  {
   "cell_type": "code",
   "execution_count": 223,
   "metadata": {},
   "outputs": [
    {
     "data": {
      "text/plain": [
       "6"
      ]
     },
     "execution_count": 223,
     "metadata": {},
     "output_type": "execute_result"
    }
   ],
   "source": [
    "len(pjme_test_prophet)"
   ]
  },
  {
   "cell_type": "code",
   "execution_count": 225,
   "metadata": {},
   "outputs": [
    {
     "data": {
      "text/html": [
       "<div>\n",
       "<style scoped>\n",
       "    .dataframe tbody tr th:only-of-type {\n",
       "        vertical-align: middle;\n",
       "    }\n",
       "\n",
       "    .dataframe tbody tr th {\n",
       "        vertical-align: top;\n",
       "    }\n",
       "\n",
       "    .dataframe thead th {\n",
       "        text-align: right;\n",
       "    }\n",
       "</style>\n",
       "<table border=\"1\" class=\"dataframe\">\n",
       "  <thead>\n",
       "    <tr style=\"text-align: right;\">\n",
       "      <th></th>\n",
       "      <th>ds</th>\n",
       "      <th>y</th>\n",
       "    </tr>\n",
       "    <tr>\n",
       "      <th>date</th>\n",
       "      <th></th>\n",
       "      <th></th>\n",
       "    </tr>\n",
       "  </thead>\n",
       "  <tbody>\n",
       "    <tr>\n",
       "      <th>2023-09-04</th>\n",
       "      <td>2023-09-04</td>\n",
       "      <td>2.053265</td>\n",
       "    </tr>\n",
       "  </tbody>\n",
       "</table>\n",
       "</div>"
      ],
      "text/plain": [
       "                   ds         y\n",
       "date                           \n",
       "2023-09-04 2023-09-04  2.053265"
      ]
     },
     "execution_count": 225,
     "metadata": {},
     "output_type": "execute_result"
    }
   ],
   "source": [
    "pjme_test_prophet[i:]"
   ]
  },
  {
   "cell_type": "code",
   "execution_count": 234,
   "metadata": {},
   "outputs": [
    {
     "data": {
      "text/plain": [
       "date\n",
       "2023-07-31    49.299807\n",
       "2023-08-07    53.379034\n",
       "2023-08-14    56.461917\n",
       "2023-08-21    58.651484\n",
       "2023-08-28    60.630702\n",
       "2023-09-04    62.696461\n",
       "Name: yhat, dtype: float64"
      ]
     },
     "execution_count": 234,
     "metadata": {},
     "output_type": "execute_result"
    }
   ],
   "source": [
    "pjme_test_fcst['yhat']"
   ]
  },
  {
   "cell_type": "code",
   "execution_count": 236,
   "metadata": {},
   "outputs": [
    {
     "ename": "TypeError",
     "evalue": "cannot concatenate object of type '<class 'float'>'; only Series and DataFrame objs are valid",
     "output_type": "error",
     "traceback": [
      "\u001b[0;31m---------------------------------------------------------------------------\u001b[0m",
      "\u001b[0;31mTypeError\u001b[0m                                 Traceback (most recent call last)",
      "Cell \u001b[0;32mIn[236], line 1\u001b[0m\n\u001b[0;32m----> 1\u001b[0m pjme_train_prophet\u001b[39m.\u001b[39;49mappend(\u001b[39m49.299807\u001b[39;49m)\n",
      "File \u001b[0;32m/Library/Frameworks/Python.framework/Versions/3.11/lib/python3.11/site-packages/pandas/core/frame.py:9768\u001b[0m, in \u001b[0;36mDataFrame.append\u001b[0;34m(self, other, ignore_index, verify_integrity, sort)\u001b[0m\n\u001b[1;32m   9665\u001b[0m \u001b[39m\u001b[39m\u001b[39m\"\"\"\u001b[39;00m\n\u001b[1;32m   9666\u001b[0m \u001b[39mAppend rows of `other` to the end of caller, returning a new object.\u001b[39;00m\n\u001b[1;32m   9667\u001b[0m \n\u001b[0;32m   (...)\u001b[0m\n\u001b[1;32m   9758\u001b[0m \u001b[39m4  4\u001b[39;00m\n\u001b[1;32m   9759\u001b[0m \u001b[39m\"\"\"\u001b[39;00m\n\u001b[1;32m   9760\u001b[0m warnings\u001b[39m.\u001b[39mwarn(\n\u001b[1;32m   9761\u001b[0m     \u001b[39m\"\u001b[39m\u001b[39mThe frame.append method is deprecated \u001b[39m\u001b[39m\"\u001b[39m\n\u001b[1;32m   9762\u001b[0m     \u001b[39m\"\u001b[39m\u001b[39mand will be removed from pandas in a future version. \u001b[39m\u001b[39m\"\u001b[39m\n\u001b[0;32m   (...)\u001b[0m\n\u001b[1;32m   9765\u001b[0m     stacklevel\u001b[39m=\u001b[39mfind_stack_level(),\n\u001b[1;32m   9766\u001b[0m )\n\u001b[0;32m-> 9768\u001b[0m \u001b[39mreturn\u001b[39;00m \u001b[39mself\u001b[39;49m\u001b[39m.\u001b[39;49m_append(other, ignore_index, verify_integrity, sort)\n",
      "File \u001b[0;32m/Library/Frameworks/Python.framework/Versions/3.11/lib/python3.11/site-packages/pandas/core/frame.py:9808\u001b[0m, in \u001b[0;36mDataFrame._append\u001b[0;34m(self, other, ignore_index, verify_integrity, sort)\u001b[0m\n\u001b[1;32m   9805\u001b[0m \u001b[39melse\u001b[39;00m:\n\u001b[1;32m   9806\u001b[0m     to_concat \u001b[39m=\u001b[39m [\u001b[39mself\u001b[39m, other]\n\u001b[0;32m-> 9808\u001b[0m result \u001b[39m=\u001b[39m concat(\n\u001b[1;32m   9809\u001b[0m     to_concat,\n\u001b[1;32m   9810\u001b[0m     ignore_index\u001b[39m=\u001b[39;49mignore_index,\n\u001b[1;32m   9811\u001b[0m     verify_integrity\u001b[39m=\u001b[39;49mverify_integrity,\n\u001b[1;32m   9812\u001b[0m     sort\u001b[39m=\u001b[39;49msort,\n\u001b[1;32m   9813\u001b[0m )\n\u001b[1;32m   9814\u001b[0m \u001b[39mreturn\u001b[39;00m result\u001b[39m.\u001b[39m__finalize__(\u001b[39mself\u001b[39m, method\u001b[39m=\u001b[39m\u001b[39m\"\u001b[39m\u001b[39mappend\u001b[39m\u001b[39m\"\u001b[39m)\n",
      "File \u001b[0;32m/Library/Frameworks/Python.framework/Versions/3.11/lib/python3.11/site-packages/pandas/util/_decorators.py:331\u001b[0m, in \u001b[0;36mdeprecate_nonkeyword_arguments.<locals>.decorate.<locals>.wrapper\u001b[0;34m(*args, **kwargs)\u001b[0m\n\u001b[1;32m    325\u001b[0m \u001b[39mif\u001b[39;00m \u001b[39mlen\u001b[39m(args) \u001b[39m>\u001b[39m num_allow_args:\n\u001b[1;32m    326\u001b[0m     warnings\u001b[39m.\u001b[39mwarn(\n\u001b[1;32m    327\u001b[0m         msg\u001b[39m.\u001b[39mformat(arguments\u001b[39m=\u001b[39m_format_argument_list(allow_args)),\n\u001b[1;32m    328\u001b[0m         \u001b[39mFutureWarning\u001b[39;00m,\n\u001b[1;32m    329\u001b[0m         stacklevel\u001b[39m=\u001b[39mfind_stack_level(),\n\u001b[1;32m    330\u001b[0m     )\n\u001b[0;32m--> 331\u001b[0m \u001b[39mreturn\u001b[39;00m func(\u001b[39m*\u001b[39;49margs, \u001b[39m*\u001b[39;49m\u001b[39m*\u001b[39;49mkwargs)\n",
      "File \u001b[0;32m/Library/Frameworks/Python.framework/Versions/3.11/lib/python3.11/site-packages/pandas/core/reshape/concat.py:368\u001b[0m, in \u001b[0;36mconcat\u001b[0;34m(objs, axis, join, ignore_index, keys, levels, names, verify_integrity, sort, copy)\u001b[0m\n\u001b[1;32m    146\u001b[0m \u001b[39m@deprecate_nonkeyword_arguments\u001b[39m(version\u001b[39m=\u001b[39m\u001b[39mNone\u001b[39;00m, allowed_args\u001b[39m=\u001b[39m[\u001b[39m\"\u001b[39m\u001b[39mobjs\u001b[39m\u001b[39m\"\u001b[39m])\n\u001b[1;32m    147\u001b[0m \u001b[39mdef\u001b[39;00m \u001b[39mconcat\u001b[39m(\n\u001b[1;32m    148\u001b[0m     objs: Iterable[NDFrame] \u001b[39m|\u001b[39m Mapping[HashableT, NDFrame],\n\u001b[0;32m   (...)\u001b[0m\n\u001b[1;32m    157\u001b[0m     copy: \u001b[39mbool\u001b[39m \u001b[39m=\u001b[39m \u001b[39mTrue\u001b[39;00m,\n\u001b[1;32m    158\u001b[0m ) \u001b[39m-\u001b[39m\u001b[39m>\u001b[39m DataFrame \u001b[39m|\u001b[39m Series:\n\u001b[1;32m    159\u001b[0m \u001b[39m    \u001b[39m\u001b[39m\"\"\"\u001b[39;00m\n\u001b[1;32m    160\u001b[0m \u001b[39m    Concatenate pandas objects along a particular axis.\u001b[39;00m\n\u001b[1;32m    161\u001b[0m \n\u001b[0;32m   (...)\u001b[0m\n\u001b[1;32m    366\u001b[0m \u001b[39m    1   3   4\u001b[39;00m\n\u001b[1;32m    367\u001b[0m \u001b[39m    \"\"\"\u001b[39;00m\n\u001b[0;32m--> 368\u001b[0m     op \u001b[39m=\u001b[39m _Concatenator(\n\u001b[1;32m    369\u001b[0m         objs,\n\u001b[1;32m    370\u001b[0m         axis\u001b[39m=\u001b[39;49maxis,\n\u001b[1;32m    371\u001b[0m         ignore_index\u001b[39m=\u001b[39;49mignore_index,\n\u001b[1;32m    372\u001b[0m         join\u001b[39m=\u001b[39;49mjoin,\n\u001b[1;32m    373\u001b[0m         keys\u001b[39m=\u001b[39;49mkeys,\n\u001b[1;32m    374\u001b[0m         levels\u001b[39m=\u001b[39;49mlevels,\n\u001b[1;32m    375\u001b[0m         names\u001b[39m=\u001b[39;49mnames,\n\u001b[1;32m    376\u001b[0m         verify_integrity\u001b[39m=\u001b[39;49mverify_integrity,\n\u001b[1;32m    377\u001b[0m         copy\u001b[39m=\u001b[39;49mcopy,\n\u001b[1;32m    378\u001b[0m         sort\u001b[39m=\u001b[39;49msort,\n\u001b[1;32m    379\u001b[0m     )\n\u001b[1;32m    381\u001b[0m     \u001b[39mreturn\u001b[39;00m op\u001b[39m.\u001b[39mget_result()\n",
      "File \u001b[0;32m/Library/Frameworks/Python.framework/Versions/3.11/lib/python3.11/site-packages/pandas/core/reshape/concat.py:458\u001b[0m, in \u001b[0;36m_Concatenator.__init__\u001b[0;34m(self, objs, axis, join, keys, levels, names, ignore_index, verify_integrity, copy, sort)\u001b[0m\n\u001b[1;32m    453\u001b[0m     \u001b[39mif\u001b[39;00m \u001b[39mnot\u001b[39;00m \u001b[39misinstance\u001b[39m(obj, (ABCSeries, ABCDataFrame)):\n\u001b[1;32m    454\u001b[0m         msg \u001b[39m=\u001b[39m (\n\u001b[1;32m    455\u001b[0m             \u001b[39mf\u001b[39m\u001b[39m\"\u001b[39m\u001b[39mcannot concatenate object of type \u001b[39m\u001b[39m'\u001b[39m\u001b[39m{\u001b[39;00m\u001b[39mtype\u001b[39m(obj)\u001b[39m}\u001b[39;00m\u001b[39m'\u001b[39m\u001b[39m; \u001b[39m\u001b[39m\"\u001b[39m\n\u001b[1;32m    456\u001b[0m             \u001b[39m\"\u001b[39m\u001b[39monly Series and DataFrame objs are valid\u001b[39m\u001b[39m\"\u001b[39m\n\u001b[1;32m    457\u001b[0m         )\n\u001b[0;32m--> 458\u001b[0m         \u001b[39mraise\u001b[39;00m \u001b[39mTypeError\u001b[39;00m(msg)\n\u001b[1;32m    460\u001b[0m     ndims\u001b[39m.\u001b[39madd(obj\u001b[39m.\u001b[39mndim)\n\u001b[1;32m    462\u001b[0m \u001b[39m# get the sample\u001b[39;00m\n\u001b[1;32m    463\u001b[0m \u001b[39m# want the highest ndim that we have, and must be non-empty\u001b[39;00m\n\u001b[1;32m    464\u001b[0m \u001b[39m# unless all objs are empty\u001b[39;00m\n",
      "\u001b[0;31mTypeError\u001b[0m: cannot concatenate object of type '<class 'float'>'; only Series and DataFrame objs are valid"
     ]
    }
   ],
   "source": [
    "pjme_train_prophet.append(49.299807)"
   ]
  },
  {
   "cell_type": "code",
   "execution_count": 255,
   "metadata": {},
   "outputs": [],
   "source": [
    "history_pr = pjme_train_prophet"
   ]
  },
  {
   "cell_type": "code",
   "execution_count": 256,
   "metadata": {},
   "outputs": [
    {
     "data": {
      "text/html": [
       "<div>\n",
       "<style scoped>\n",
       "    .dataframe tbody tr th:only-of-type {\n",
       "        vertical-align: middle;\n",
       "    }\n",
       "\n",
       "    .dataframe tbody tr th {\n",
       "        vertical-align: top;\n",
       "    }\n",
       "\n",
       "    .dataframe thead th {\n",
       "        text-align: right;\n",
       "    }\n",
       "</style>\n",
       "<table border=\"1\" class=\"dataframe\">\n",
       "  <thead>\n",
       "    <tr style=\"text-align: right;\">\n",
       "      <th></th>\n",
       "      <th>ds</th>\n",
       "      <th>y</th>\n",
       "    </tr>\n",
       "    <tr>\n",
       "      <th>date</th>\n",
       "      <th></th>\n",
       "      <th></th>\n",
       "    </tr>\n",
       "  </thead>\n",
       "  <tbody>\n",
       "    <tr>\n",
       "      <th>2020-09-14</th>\n",
       "      <td>2020-09-14</td>\n",
       "      <td>-37.519318</td>\n",
       "    </tr>\n",
       "    <tr>\n",
       "      <th>2020-09-28</th>\n",
       "      <td>2020-09-28</td>\n",
       "      <td>-28.690096</td>\n",
       "    </tr>\n",
       "    <tr>\n",
       "      <th>2020-10-12</th>\n",
       "      <td>2020-10-12</td>\n",
       "      <td>-29.688079</td>\n",
       "    </tr>\n",
       "    <tr>\n",
       "      <th>2020-10-19</th>\n",
       "      <td>2020-10-19</td>\n",
       "      <td>-25.630433</td>\n",
       "    </tr>\n",
       "    <tr>\n",
       "      <th>2020-10-26</th>\n",
       "      <td>2020-10-26</td>\n",
       "      <td>-29.073794</td>\n",
       "    </tr>\n",
       "    <tr>\n",
       "      <th>...</th>\n",
       "      <td>...</td>\n",
       "      <td>...</td>\n",
       "    </tr>\n",
       "    <tr>\n",
       "      <th>2023-06-26</th>\n",
       "      <td>2023-06-26</td>\n",
       "      <td>22.501691</td>\n",
       "    </tr>\n",
       "    <tr>\n",
       "      <th>2023-07-03</th>\n",
       "      <td>2023-07-03</td>\n",
       "      <td>18.514178</td>\n",
       "    </tr>\n",
       "    <tr>\n",
       "      <th>2023-07-10</th>\n",
       "      <td>2023-07-10</td>\n",
       "      <td>28.985554</td>\n",
       "    </tr>\n",
       "    <tr>\n",
       "      <th>2023-07-17</th>\n",
       "      <td>2023-07-17</td>\n",
       "      <td>16.847234</td>\n",
       "    </tr>\n",
       "    <tr>\n",
       "      <th>2023-07-24</th>\n",
       "      <td>2023-07-24</td>\n",
       "      <td>4.063304</td>\n",
       "    </tr>\n",
       "  </tbody>\n",
       "</table>\n",
       "<p>148 rows × 2 columns</p>\n",
       "</div>"
      ],
      "text/plain": [
       "                   ds          y\n",
       "date                            \n",
       "2020-09-14 2020-09-14 -37.519318\n",
       "2020-09-28 2020-09-28 -28.690096\n",
       "2020-10-12 2020-10-12 -29.688079\n",
       "2020-10-19 2020-10-19 -25.630433\n",
       "2020-10-26 2020-10-26 -29.073794\n",
       "...               ...        ...\n",
       "2023-06-26 2023-06-26  22.501691\n",
       "2023-07-03 2023-07-03  18.514178\n",
       "2023-07-10 2023-07-10  28.985554\n",
       "2023-07-17 2023-07-17  16.847234\n",
       "2023-07-24 2023-07-24   4.063304\n",
       "\n",
       "[148 rows x 2 columns]"
      ]
     },
     "execution_count": 256,
     "metadata": {},
     "output_type": "execute_result"
    }
   ],
   "source": [
    "history_pr"
   ]
  },
  {
   "cell_type": "code",
   "execution_count": 273,
   "metadata": {},
   "outputs": [
    {
     "data": {
      "text/plain": [
       "range(0, 6)"
      ]
     },
     "execution_count": 273,
     "metadata": {},
     "output_type": "execute_result"
    }
   ],
   "source": [
    "range(len(pjme_test_prophet))"
   ]
  },
  {
   "cell_type": "code",
   "execution_count": 275,
   "metadata": {},
   "outputs": [
    {
     "data": {
      "text/html": [
       "<div>\n",
       "<style scoped>\n",
       "    .dataframe tbody tr th:only-of-type {\n",
       "        vertical-align: middle;\n",
       "    }\n",
       "\n",
       "    .dataframe tbody tr th {\n",
       "        vertical-align: top;\n",
       "    }\n",
       "\n",
       "    .dataframe thead th {\n",
       "        text-align: right;\n",
       "    }\n",
       "</style>\n",
       "<table border=\"1\" class=\"dataframe\">\n",
       "  <thead>\n",
       "    <tr style=\"text-align: right;\">\n",
       "      <th></th>\n",
       "      <th>ds</th>\n",
       "      <th>y</th>\n",
       "    </tr>\n",
       "  </thead>\n",
       "  <tbody>\n",
       "    <tr>\n",
       "      <th>0</th>\n",
       "      <td>2020-09-14</td>\n",
       "      <td>-37.519318</td>\n",
       "    </tr>\n",
       "    <tr>\n",
       "      <th>1</th>\n",
       "      <td>2020-09-28</td>\n",
       "      <td>-28.690096</td>\n",
       "    </tr>\n",
       "    <tr>\n",
       "      <th>2</th>\n",
       "      <td>2020-10-12</td>\n",
       "      <td>-29.688079</td>\n",
       "    </tr>\n",
       "    <tr>\n",
       "      <th>3</th>\n",
       "      <td>2020-10-19</td>\n",
       "      <td>-25.630433</td>\n",
       "    </tr>\n",
       "    <tr>\n",
       "      <th>4</th>\n",
       "      <td>2020-10-26</td>\n",
       "      <td>-29.073794</td>\n",
       "    </tr>\n",
       "    <tr>\n",
       "      <th>...</th>\n",
       "      <td>...</td>\n",
       "      <td>...</td>\n",
       "    </tr>\n",
       "    <tr>\n",
       "      <th>144</th>\n",
       "      <td>2023-07-03</td>\n",
       "      <td>18.514178</td>\n",
       "    </tr>\n",
       "    <tr>\n",
       "      <th>145</th>\n",
       "      <td>2023-07-10</td>\n",
       "      <td>28.985554</td>\n",
       "    </tr>\n",
       "    <tr>\n",
       "      <th>146</th>\n",
       "      <td>2023-07-17</td>\n",
       "      <td>16.847234</td>\n",
       "    </tr>\n",
       "    <tr>\n",
       "      <th>147</th>\n",
       "      <td>2023-07-24</td>\n",
       "      <td>4.063304</td>\n",
       "    </tr>\n",
       "    <tr>\n",
       "      <th>148</th>\n",
       "      <td>2023-07-31</td>\n",
       "      <td>7.458214</td>\n",
       "    </tr>\n",
       "  </tbody>\n",
       "</table>\n",
       "<p>149 rows × 2 columns</p>\n",
       "</div>"
      ],
      "text/plain": [
       "            ds          y\n",
       "0   2020-09-14 -37.519318\n",
       "1   2020-09-28 -28.690096\n",
       "2   2020-10-12 -29.688079\n",
       "3   2020-10-19 -25.630433\n",
       "4   2020-10-26 -29.073794\n",
       "..         ...        ...\n",
       "144 2023-07-03  18.514178\n",
       "145 2023-07-10  28.985554\n",
       "146 2023-07-17  16.847234\n",
       "147 2023-07-24   4.063304\n",
       "148 2023-07-31   7.458214\n",
       "\n",
       "[149 rows x 2 columns]"
      ]
     },
     "execution_count": 275,
     "metadata": {},
     "output_type": "execute_result"
    }
   ],
   "source": [
    "test = pjme_train_prophet.append(pjme_test_prophet.iloc[[0]], ignore_index=True)\n",
    "test"
   ]
  },
  {
   "cell_type": "code",
   "execution_count": 276,
   "metadata": {},
   "outputs": [
    {
     "data": {
      "text/html": [
       "<div>\n",
       "<style scoped>\n",
       "    .dataframe tbody tr th:only-of-type {\n",
       "        vertical-align: middle;\n",
       "    }\n",
       "\n",
       "    .dataframe tbody tr th {\n",
       "        vertical-align: top;\n",
       "    }\n",
       "\n",
       "    .dataframe thead th {\n",
       "        text-align: right;\n",
       "    }\n",
       "</style>\n",
       "<table border=\"1\" class=\"dataframe\">\n",
       "  <thead>\n",
       "    <tr style=\"text-align: right;\">\n",
       "      <th></th>\n",
       "      <th>ds</th>\n",
       "      <th>y</th>\n",
       "    </tr>\n",
       "  </thead>\n",
       "  <tbody>\n",
       "    <tr>\n",
       "      <th>148</th>\n",
       "      <td>2023-07-31</td>\n",
       "      <td>7.458214</td>\n",
       "    </tr>\n",
       "  </tbody>\n",
       "</table>\n",
       "</div>"
      ],
      "text/plain": [
       "            ds         y\n",
       "148 2023-07-31  7.458214"
      ]
     },
     "execution_count": 276,
     "metadata": {},
     "output_type": "execute_result"
    }
   ],
   "source": [
    "test.iloc[[-1]]"
   ]
  },
  {
   "cell_type": "markdown",
   "metadata": {},
   "source": []
  },
  {
   "cell_type": "code",
   "execution_count": 284,
   "metadata": {},
   "outputs": [],
   "source": [
    "def pr_walk_forward(train,test):\n",
    "    predictions = list()\n",
    "    direction_accuracies = list() \n",
    "    forecast_diffs = []\n",
    "    actual_diffs = []\n",
    "    direction_accuracies = []\n",
    " \n",
    "    history_pr = train\n",
    "    for i in range(len(pjme_test_prophet)):\n",
    "        # split test row into input and output columns\n",
    "        # testX, testy = df_test[i, :-1], df_test[i, -1]\n",
    "        # fit model on history and make a prediction\n",
    "       \n",
    "        new_model = Prophet()\n",
    "        new_fit = new_model.fit(history_pr)\n",
    "        pjme_test_fcst = new_fit.predict(test.iloc[[i]])\n",
    "        # print('Prophet forecast')\n",
    "        # print(pjme_test_fcst['yhat'])\n",
    "        # store forecast in list of predictions\n",
    "        predictions.append(pjme_test_fcst['yhat'])\n",
    "        if i > 0:\n",
    "            forecast_diff = predictions[i] - predictions[i-1]\n",
    "            actual_diff = test['y'].iloc[i] - test['y'].iloc[i - 1]\n",
    "            direction_accuracy = int(np.sign(forecast_diff) == np.sign(actual_diff))\n",
    "            direction_accuracies.append(direction_accuracy)\n",
    "\n",
    "        \n",
    "        # print('Predictions')\n",
    "        # print(predictions)\n",
    "    # add actual observation to history for the next loop\n",
    "        new_row = test.iloc[[i]]\n",
    "        # print('New Row')\n",
    "        # print(new_row)\n",
    "        history_pr = history_pr.append(new_row, ignore_index=True)\n",
    "        # print('Appended training set')\n",
    "        # print(history_pr.iloc[[-1]])\n",
    "\n",
    "    MEA = mean_absolute_error(test['y'], predictions)\n",
    "    ME = np.mean(test['y'] - predictions)\n",
    "    RMSE = np.sqrt(mean_squared_error(test['y'], predictions))\n",
    "    overall_direction_accuracy = np.mean(direction_accuracies)\n",
    "\n",
    "    return MEA, ME, RMSE, overall_direction_accuracy\n"
   ]
  },
  {
   "cell_type": "code",
   "execution_count": 285,
   "metadata": {},
   "outputs": [
    {
     "name": "stderr",
     "output_type": "stream",
     "text": [
      "18:43:48 - cmdstanpy - INFO - Chain [1] start processing\n",
      "18:43:48 - cmdstanpy - INFO - Chain [1] done processing\n",
      "18:43:48 - cmdstanpy - INFO - Chain [1] start processing\n",
      "18:43:48 - cmdstanpy - INFO - Chain [1] done processing\n",
      "18:43:48 - cmdstanpy - INFO - Chain [1] start processing\n",
      "18:43:48 - cmdstanpy - INFO - Chain [1] done processing\n",
      "18:43:48 - cmdstanpy - INFO - Chain [1] start processing\n",
      "18:43:48 - cmdstanpy - INFO - Chain [1] done processing\n",
      "18:43:48 - cmdstanpy - INFO - Chain [1] start processing\n",
      "18:43:48 - cmdstanpy - INFO - Chain [1] done processing\n",
      "18:43:48 - cmdstanpy - INFO - Chain [1] start processing\n",
      "18:43:48 - cmdstanpy - INFO - Chain [1] done processing\n"
     ]
    },
    {
     "ename": "ValueError",
     "evalue": "Data must be 1-dimensional",
     "output_type": "error",
     "traceback": [
      "\u001b[0;31m---------------------------------------------------------------------------\u001b[0m",
      "\u001b[0;31mValueError\u001b[0m                                Traceback (most recent call last)",
      "Cell \u001b[0;32mIn[285], line 1\u001b[0m\n\u001b[0;32m----> 1\u001b[0m mae, me, rmse, y, yhat, direction_accuracy \u001b[39m=\u001b[39m pr_walk_forward(pjme_train_prophet, pjme_test_prophet)\n\u001b[1;32m      2\u001b[0m \u001b[39mprint\u001b[39m(\u001b[39m'\u001b[39m\u001b[39mMAE: \u001b[39m\u001b[39m%.3f\u001b[39;00m\u001b[39m'\u001b[39m \u001b[39m%\u001b[39m mae)\n\u001b[1;32m      3\u001b[0m \u001b[39mprint\u001b[39m(\u001b[39m'\u001b[39m\u001b[39mME: \u001b[39m\u001b[39m%.3f\u001b[39;00m\u001b[39m'\u001b[39m \u001b[39m%\u001b[39m me)\n",
      "Cell \u001b[0;32mIn[284], line 39\u001b[0m, in \u001b[0;36mpr_walk_forward\u001b[0;34m(train, test)\u001b[0m\n\u001b[1;32m     35\u001b[0m     \u001b[39m# print('Appended training set')\u001b[39;00m\n\u001b[1;32m     36\u001b[0m     \u001b[39m# print(history_pr.iloc[[-1]])\u001b[39;00m\n\u001b[1;32m     38\u001b[0m MEA \u001b[39m=\u001b[39m mean_absolute_error(test[\u001b[39m'\u001b[39m\u001b[39my\u001b[39m\u001b[39m'\u001b[39m], predictions)\n\u001b[0;32m---> 39\u001b[0m ME \u001b[39m=\u001b[39m np\u001b[39m.\u001b[39mmean(test[\u001b[39m'\u001b[39;49m\u001b[39my\u001b[39;49m\u001b[39m'\u001b[39;49m] \u001b[39m-\u001b[39;49m predictions)\n\u001b[1;32m     40\u001b[0m RMSE \u001b[39m=\u001b[39m np\u001b[39m.\u001b[39msqrt(mean_squared_error(test[\u001b[39m'\u001b[39m\u001b[39my\u001b[39m\u001b[39m'\u001b[39m], predictions))\n\u001b[1;32m     41\u001b[0m overall_direction_accuracy \u001b[39m=\u001b[39m np\u001b[39m.\u001b[39mmean(direction_accuracies)\n",
      "File \u001b[0;32m/Library/Frameworks/Python.framework/Versions/3.11/lib/python3.11/site-packages/pandas/core/ops/common.py:72\u001b[0m, in \u001b[0;36m_unpack_zerodim_and_defer.<locals>.new_method\u001b[0;34m(self, other)\u001b[0m\n\u001b[1;32m     68\u001b[0m             \u001b[39mreturn\u001b[39;00m \u001b[39mNotImplemented\u001b[39m\n\u001b[1;32m     70\u001b[0m other \u001b[39m=\u001b[39m item_from_zerodim(other)\n\u001b[0;32m---> 72\u001b[0m \u001b[39mreturn\u001b[39;00m method(\u001b[39mself\u001b[39;49m, other)\n",
      "File \u001b[0;32m/Library/Frameworks/Python.framework/Versions/3.11/lib/python3.11/site-packages/pandas/core/arraylike.py:110\u001b[0m, in \u001b[0;36mOpsMixin.__sub__\u001b[0;34m(self, other)\u001b[0m\n\u001b[1;32m    108\u001b[0m \u001b[39m@unpack_zerodim_and_defer\u001b[39m(\u001b[39m\"\u001b[39m\u001b[39m__sub__\u001b[39m\u001b[39m\"\u001b[39m)\n\u001b[1;32m    109\u001b[0m \u001b[39mdef\u001b[39;00m \u001b[39m__sub__\u001b[39m(\u001b[39mself\u001b[39m, other):\n\u001b[0;32m--> 110\u001b[0m     \u001b[39mreturn\u001b[39;00m \u001b[39mself\u001b[39;49m\u001b[39m.\u001b[39;49m_arith_method(other, operator\u001b[39m.\u001b[39;49msub)\n",
      "File \u001b[0;32m/Library/Frameworks/Python.framework/Versions/3.11/lib/python3.11/site-packages/pandas/core/series.py:6259\u001b[0m, in \u001b[0;36mSeries._arith_method\u001b[0;34m(self, other, op)\u001b[0m\n\u001b[1;32m   6257\u001b[0m \u001b[39mdef\u001b[39;00m \u001b[39m_arith_method\u001b[39m(\u001b[39mself\u001b[39m, other, op):\n\u001b[1;32m   6258\u001b[0m     \u001b[39mself\u001b[39m, other \u001b[39m=\u001b[39m ops\u001b[39m.\u001b[39malign_method_SERIES(\u001b[39mself\u001b[39m, other)\n\u001b[0;32m-> 6259\u001b[0m     \u001b[39mreturn\u001b[39;00m base\u001b[39m.\u001b[39;49mIndexOpsMixin\u001b[39m.\u001b[39;49m_arith_method(\u001b[39mself\u001b[39;49m, other, op)\n",
      "File \u001b[0;32m/Library/Frameworks/Python.framework/Versions/3.11/lib/python3.11/site-packages/pandas/core/base.py:1327\u001b[0m, in \u001b[0;36mIndexOpsMixin._arith_method\u001b[0;34m(self, other, op)\u001b[0m\n\u001b[1;32m   1324\u001b[0m \u001b[39mwith\u001b[39;00m np\u001b[39m.\u001b[39merrstate(\u001b[39mall\u001b[39m\u001b[39m=\u001b[39m\u001b[39m\"\u001b[39m\u001b[39mignore\u001b[39m\u001b[39m\"\u001b[39m):\n\u001b[1;32m   1325\u001b[0m     result \u001b[39m=\u001b[39m ops\u001b[39m.\u001b[39marithmetic_op(lvalues, rvalues, op)\n\u001b[0;32m-> 1327\u001b[0m \u001b[39mreturn\u001b[39;00m \u001b[39mself\u001b[39;49m\u001b[39m.\u001b[39;49m_construct_result(result, name\u001b[39m=\u001b[39;49mres_name)\n",
      "File \u001b[0;32m/Library/Frameworks/Python.framework/Versions/3.11/lib/python3.11/site-packages/pandas/core/series.py:3223\u001b[0m, in \u001b[0;36mSeries._construct_result\u001b[0;34m(self, result, name)\u001b[0m\n\u001b[1;32m   3219\u001b[0m     \u001b[39mreturn\u001b[39;00m (res1, res2)\n\u001b[1;32m   3221\u001b[0m \u001b[39m# We do not pass dtype to ensure that the Series constructor\u001b[39;00m\n\u001b[1;32m   3222\u001b[0m \u001b[39m#  does inference in the case where `result` has object-dtype.\u001b[39;00m\n\u001b[0;32m-> 3223\u001b[0m out \u001b[39m=\u001b[39m \u001b[39mself\u001b[39;49m\u001b[39m.\u001b[39;49m_constructor(result, index\u001b[39m=\u001b[39;49m\u001b[39mself\u001b[39;49m\u001b[39m.\u001b[39;49mindex)\n\u001b[1;32m   3224\u001b[0m out \u001b[39m=\u001b[39m out\u001b[39m.\u001b[39m__finalize__(\u001b[39mself\u001b[39m)\n\u001b[1;32m   3226\u001b[0m \u001b[39m# Set the result's name after __finalize__ is called because __finalize__\u001b[39;00m\n\u001b[1;32m   3227\u001b[0m \u001b[39m#  would set it back to self.name\u001b[39;00m\n",
      "File \u001b[0;32m/Library/Frameworks/Python.framework/Versions/3.11/lib/python3.11/site-packages/pandas/core/series.py:470\u001b[0m, in \u001b[0;36mSeries.__init__\u001b[0;34m(self, data, index, dtype, name, copy, fastpath)\u001b[0m\n\u001b[1;32m    468\u001b[0m         data \u001b[39m=\u001b[39m data\u001b[39m.\u001b[39mcopy()\n\u001b[1;32m    469\u001b[0m \u001b[39melse\u001b[39;00m:\n\u001b[0;32m--> 470\u001b[0m     data \u001b[39m=\u001b[39m sanitize_array(data, index, dtype, copy)\n\u001b[1;32m    472\u001b[0m     manager \u001b[39m=\u001b[39m get_option(\u001b[39m\"\u001b[39m\u001b[39mmode.data_manager\u001b[39m\u001b[39m\"\u001b[39m)\n\u001b[1;32m    473\u001b[0m     \u001b[39mif\u001b[39;00m manager \u001b[39m==\u001b[39m \u001b[39m\"\u001b[39m\u001b[39mblock\u001b[39m\u001b[39m\"\u001b[39m:\n",
      "File \u001b[0;32m/Library/Frameworks/Python.framework/Versions/3.11/lib/python3.11/site-packages/pandas/core/construction.py:647\u001b[0m, in \u001b[0;36msanitize_array\u001b[0;34m(data, index, dtype, copy, raise_cast_failure, allow_2d)\u001b[0m\n\u001b[1;32m    644\u001b[0m             subarr \u001b[39m=\u001b[39m cast(np\u001b[39m.\u001b[39mndarray, subarr)\n\u001b[1;32m    645\u001b[0m             subarr \u001b[39m=\u001b[39m maybe_infer_to_datetimelike(subarr)\n\u001b[0;32m--> 647\u001b[0m subarr \u001b[39m=\u001b[39m _sanitize_ndim(subarr, data, dtype, index, allow_2d\u001b[39m=\u001b[39;49mallow_2d)\n\u001b[1;32m    649\u001b[0m \u001b[39mif\u001b[39;00m \u001b[39misinstance\u001b[39m(subarr, np\u001b[39m.\u001b[39mndarray):\n\u001b[1;32m    650\u001b[0m     \u001b[39m# at this point we should have dtype be None or subarr.dtype == dtype\u001b[39;00m\n\u001b[1;32m    651\u001b[0m     dtype \u001b[39m=\u001b[39m cast(np\u001b[39m.\u001b[39mdtype, dtype)\n",
      "File \u001b[0;32m/Library/Frameworks/Python.framework/Versions/3.11/lib/python3.11/site-packages/pandas/core/construction.py:698\u001b[0m, in \u001b[0;36m_sanitize_ndim\u001b[0;34m(result, data, dtype, index, allow_2d)\u001b[0m\n\u001b[1;32m    696\u001b[0m     \u001b[39mif\u001b[39;00m allow_2d:\n\u001b[1;32m    697\u001b[0m         \u001b[39mreturn\u001b[39;00m result\n\u001b[0;32m--> 698\u001b[0m     \u001b[39mraise\u001b[39;00m \u001b[39mValueError\u001b[39;00m(\u001b[39m\"\u001b[39m\u001b[39mData must be 1-dimensional\u001b[39m\u001b[39m\"\u001b[39m)\n\u001b[1;32m    699\u001b[0m \u001b[39mif\u001b[39;00m is_object_dtype(dtype) \u001b[39mand\u001b[39;00m \u001b[39misinstance\u001b[39m(dtype, ExtensionDtype):\n\u001b[1;32m    700\u001b[0m     \u001b[39m# i.e. PandasDtype(\"O\")\u001b[39;00m\n\u001b[1;32m    702\u001b[0m     result \u001b[39m=\u001b[39m com\u001b[39m.\u001b[39masarray_tuplesafe(data, dtype\u001b[39m=\u001b[39mnp\u001b[39m.\u001b[39mdtype(\u001b[39m\"\u001b[39m\u001b[39mobject\u001b[39m\u001b[39m\"\u001b[39m))\n",
      "\u001b[0;31mValueError\u001b[0m: Data must be 1-dimensional"
     ]
    }
   ],
   "source": [
    "mae, me, rmse, y, yhat, direction_accuracy = pr_walk_forward(pjme_train_prophet, pjme_test_prophet)\n",
    "print('MAE: %.3f' % mae)\n",
    "print('ME: %.3f' % me)\n",
    "print('RMSE: %.3f' % rmse)\n",
    "print('Direction Accuracy: %.3f' % direction_accuracy)\n",
    "# plot expected vs preducted\n",
    "plt.plot(pjme_test_prophet['y'], label='Expected')\n",
    "plt.plot(predictions, label='Predicted')\n",
    "plt.legend()\n",
    "plt.show()"
   ]
  },
  {
   "cell_type": "code",
   "execution_count": 281,
   "metadata": {},
   "outputs": [
    {
     "data": {
      "text/plain": [
       "[0    25.069458\n",
       " Name: yhat, dtype: float64,\n",
       " 0    20.923304\n",
       " Name: yhat, dtype: float64,\n",
       " 0    22.912771\n",
       " Name: yhat, dtype: float64,\n",
       " 0    24.116972\n",
       " Name: yhat, dtype: float64,\n",
       " 0    21.111868\n",
       " Name: yhat, dtype: float64,\n",
       " 0    26.107623\n",
       " Name: yhat, dtype: float64]"
      ]
     },
     "execution_count": 281,
     "metadata": {},
     "output_type": "execute_result"
    }
   ],
   "source": [
    "predictions"
   ]
  },
  {
   "cell_type": "code",
   "execution_count": null,
   "metadata": {},
   "outputs": [],
   "source": [
    "\n",
    "    # store forecast in list of predictions\n",
    "    predictions.append(pjme_test_fcst[i])\n",
    "#     if i > 0:  # Direction accuracy is not applicable for the first prediction\n",
    "#             forecast_diff = pjme_test_fcst[i] - predictions[-2]\n",
    "#             actual_diff = testy - pjme_test_prophet[i - 1, -1]\n",
    "#             direction_accuracy = int(np.sign(forecast_diff) == np.sign(actual_diff))\n",
    "#             direction_accuracies.append(direction_accuracy)\n"
   ]
  },
  {
   "cell_type": "code",
   "execution_count": null,
   "metadata": {},
   "outputs": [],
   "source": [
    "\n",
    "    print('>expected=%.1f, predicted=%.1f' % (testy, yhat))\n",
    " # estimate prediction error\n",
    " error = mean_absolute_error(test[:, -1], predictions)\n",
    " me = np.mean(predictions - test[:, -1])  # Mean Error\n",
    " rmse = mean_squared_error(test[:, -1], predictions, squared=False)\n",
    " overall_direction_accuracy = np.mean(direction_accuracies)\n",
    "\n",
    " return error, me, rmse ,test[:, -1], predictions, overall_direction_accuracy "
   ]
  }
 ],
 "metadata": {
  "kernelspec": {
   "display_name": "Python 3",
   "language": "python",
   "name": "python3"
  },
  "language_info": {
   "codemirror_mode": {
    "name": "ipython",
    "version": 3
   },
   "file_extension": ".py",
   "mimetype": "text/x-python",
   "name": "python",
   "nbconvert_exporter": "python",
   "pygments_lexer": "ipython3",
   "version": "3.11.2"
  },
  "orig_nbformat": 4
 },
 "nbformat": 4,
 "nbformat_minor": 2
}
