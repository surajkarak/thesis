{
 "cells": [
  {
   "cell_type": "code",
   "execution_count": 20,
   "metadata": {},
   "outputs": [],
   "source": [
    "#Importing libraries\n",
    "import warnings\n",
    "warnings.simplefilter(action='ignore', category=FutureWarning)\n",
    "import numpy as np\n",
    "import pandas as pd\n",
    "from numpy import asarray\n",
    "\n",
    "\n",
    "import matplotlib.pyplot as plt\n",
    "import seaborn as sns\n",
    "import matplotlib.pyplot as plt\n",
    "import plotly.express as px\n",
    "import plotly.graph_objects as go\n",
    "from plotly.subplots import make_subplots\n",
    " "
   ]
  },
  {
   "cell_type": "code",
   "execution_count": 21,
   "metadata": {},
   "outputs": [
    {
     "name": "stdout",
     "output_type": "stream",
     "text": [
      "['ARIMA_static', 'ARIMA_walk_forward', 'DecisionTree_roll', 'DecisionTree_static', 'DecisionTree_wf', 'Prophet_static', 'Prophet_wf', 'RandomForest_roll', 'RandomForest_static', 'RandomForest_wf', 'XGB_roll', 'XGB_static', 'XGB_wf', '_', '_10', '_11', '_12', '_13', '_14', '_15', '_17', '_18', '_3', '_4', '_5', '_6', '_7', '_8', '_9', '__', '___', 'combined_df', 'df_cleaned', 'series_lines_by_character_df', 'series_lines_clean_df', 'series_lines_raw_df']\n"
     ]
    }
   ],
   "source": [
    "%store -r\n",
    "stored_variables = dir()\n",
    "dataframe_names = [var for var in stored_variables if isinstance(eval(var), pd.DataFrame)]\n",
    "print(dataframe_names)"
   ]
  },
  {
   "cell_type": "code",
   "execution_count": 22,
   "metadata": {},
   "outputs": [
    {
     "data": {
      "text/html": [
       "<div>\n",
       "<style scoped>\n",
       "    .dataframe tbody tr th:only-of-type {\n",
       "        vertical-align: middle;\n",
       "    }\n",
       "\n",
       "    .dataframe tbody tr th {\n",
       "        vertical-align: top;\n",
       "    }\n",
       "\n",
       "    .dataframe thead th {\n",
       "        text-align: right;\n",
       "    }\n",
       "</style>\n",
       "<table border=\"1\" class=\"dataframe\">\n",
       "  <thead>\n",
       "    <tr style=\"text-align: right;\">\n",
       "      <th></th>\n",
       "      <th>mae</th>\n",
       "      <th>me</th>\n",
       "      <th>rmse</th>\n",
       "      <th>direction_accuracy</th>\n",
       "      <th>Model</th>\n",
       "    </tr>\n",
       "  </thead>\n",
       "  <tbody>\n",
       "    <tr>\n",
       "      <th>0</th>\n",
       "      <td>10.89883</td>\n",
       "      <td>9.406799</td>\n",
       "      <td>12.497071</td>\n",
       "      <td>0.25</td>\n",
       "      <td>ARIMA_static</td>\n",
       "    </tr>\n",
       "  </tbody>\n",
       "</table>\n",
       "</div>"
      ],
      "text/plain": [
       "        mae        me       rmse  direction_accuracy         Model\n",
       "0  10.89883  9.406799  12.497071                0.25  ARIMA_static"
      ]
     },
     "execution_count": 22,
     "metadata": {},
     "output_type": "execute_result"
    }
   ],
   "source": [
    "ARIMA_static"
   ]
  },
  {
   "cell_type": "code",
   "execution_count": 23,
   "metadata": {},
   "outputs": [
    {
     "data": {
      "text/html": [
       "<div>\n",
       "<style scoped>\n",
       "    .dataframe tbody tr th:only-of-type {\n",
       "        vertical-align: middle;\n",
       "    }\n",
       "\n",
       "    .dataframe tbody tr th {\n",
       "        vertical-align: top;\n",
       "    }\n",
       "\n",
       "    .dataframe thead th {\n",
       "        text-align: right;\n",
       "    }\n",
       "</style>\n",
       "<table border=\"1\" class=\"dataframe\">\n",
       "  <thead>\n",
       "    <tr style=\"text-align: right;\">\n",
       "      <th></th>\n",
       "      <th>mae</th>\n",
       "      <th>me</th>\n",
       "      <th>rmse</th>\n",
       "      <th>direction_accuracy</th>\n",
       "      <th>Model</th>\n",
       "    </tr>\n",
       "  </thead>\n",
       "  <tbody>\n",
       "    <tr>\n",
       "      <th>0</th>\n",
       "      <td>7.887032</td>\n",
       "      <td>1.178725</td>\n",
       "      <td>8.993326</td>\n",
       "      <td>0.375</td>\n",
       "      <td>ARIMA_walk_forward</td>\n",
       "    </tr>\n",
       "  </tbody>\n",
       "</table>\n",
       "</div>"
      ],
      "text/plain": [
       "        mae        me      rmse  direction_accuracy               Model\n",
       "0  7.887032  1.178725  8.993326               0.375  ARIMA_walk_forward"
      ]
     },
     "execution_count": 23,
     "metadata": {},
     "output_type": "execute_result"
    }
   ],
   "source": [
    "ARIMA_walk_forward"
   ]
  },
  {
   "cell_type": "code",
   "execution_count": 24,
   "metadata": {},
   "outputs": [
    {
     "data": {
      "text/html": [
       "<div>\n",
       "<style scoped>\n",
       "    .dataframe tbody tr th:only-of-type {\n",
       "        vertical-align: middle;\n",
       "    }\n",
       "\n",
       "    .dataframe tbody tr th {\n",
       "        vertical-align: top;\n",
       "    }\n",
       "\n",
       "    .dataframe thead th {\n",
       "        text-align: right;\n",
       "    }\n",
       "</style>\n",
       "<table border=\"1\" class=\"dataframe\">\n",
       "  <thead>\n",
       "    <tr style=\"text-align: right;\">\n",
       "      <th></th>\n",
       "      <th>mae</th>\n",
       "      <th>me</th>\n",
       "      <th>rmse</th>\n",
       "      <th>direction_accuracy</th>\n",
       "      <th>Model</th>\n",
       "    </tr>\n",
       "  </thead>\n",
       "  <tbody>\n",
       "    <tr>\n",
       "      <th>0</th>\n",
       "      <td>10.617329</td>\n",
       "      <td>6.974694</td>\n",
       "      <td>11.533878</td>\n",
       "      <td>0.25</td>\n",
       "      <td>DecisionTree_static</td>\n",
       "    </tr>\n",
       "  </tbody>\n",
       "</table>\n",
       "</div>"
      ],
      "text/plain": [
       "         mae        me       rmse  direction_accuracy                Model\n",
       "0  10.617329  6.974694  11.533878                0.25  DecisionTree_static"
      ]
     },
     "execution_count": 24,
     "metadata": {},
     "output_type": "execute_result"
    }
   ],
   "source": [
    "DecisionTree_static"
   ]
  },
  {
   "cell_type": "code",
   "execution_count": 25,
   "metadata": {},
   "outputs": [
    {
     "data": {
      "text/html": [
       "<div>\n",
       "<style scoped>\n",
       "    .dataframe tbody tr th:only-of-type {\n",
       "        vertical-align: middle;\n",
       "    }\n",
       "\n",
       "    .dataframe tbody tr th {\n",
       "        vertical-align: top;\n",
       "    }\n",
       "\n",
       "    .dataframe thead th {\n",
       "        text-align: right;\n",
       "    }\n",
       "</style>\n",
       "<table border=\"1\" class=\"dataframe\">\n",
       "  <thead>\n",
       "    <tr style=\"text-align: right;\">\n",
       "      <th></th>\n",
       "      <th>mae</th>\n",
       "      <th>me</th>\n",
       "      <th>rmse</th>\n",
       "      <th>direction_accuracy</th>\n",
       "      <th>Model</th>\n",
       "    </tr>\n",
       "  </thead>\n",
       "  <tbody>\n",
       "    <tr>\n",
       "      <th>0</th>\n",
       "      <td>7.148119</td>\n",
       "      <td>3.527439</td>\n",
       "      <td>9.056628</td>\n",
       "      <td>0.375</td>\n",
       "      <td>DecisionTree_roll</td>\n",
       "    </tr>\n",
       "  </tbody>\n",
       "</table>\n",
       "</div>"
      ],
      "text/plain": [
       "        mae        me      rmse  direction_accuracy              Model\n",
       "0  7.148119  3.527439  9.056628               0.375  DecisionTree_roll"
      ]
     },
     "execution_count": 25,
     "metadata": {},
     "output_type": "execute_result"
    }
   ],
   "source": [
    "DecisionTree_roll"
   ]
  },
  {
   "cell_type": "code",
   "execution_count": 26,
   "metadata": {},
   "outputs": [
    {
     "data": {
      "text/html": [
       "<div>\n",
       "<style scoped>\n",
       "    .dataframe tbody tr th:only-of-type {\n",
       "        vertical-align: middle;\n",
       "    }\n",
       "\n",
       "    .dataframe tbody tr th {\n",
       "        vertical-align: top;\n",
       "    }\n",
       "\n",
       "    .dataframe thead th {\n",
       "        text-align: right;\n",
       "    }\n",
       "</style>\n",
       "<table border=\"1\" class=\"dataframe\">\n",
       "  <thead>\n",
       "    <tr style=\"text-align: right;\">\n",
       "      <th></th>\n",
       "      <th>mae</th>\n",
       "      <th>me</th>\n",
       "      <th>rmse</th>\n",
       "      <th>direction_accuracy</th>\n",
       "      <th>Model</th>\n",
       "    </tr>\n",
       "  </thead>\n",
       "  <tbody>\n",
       "    <tr>\n",
       "      <th>0</th>\n",
       "      <td>7.835223</td>\n",
       "      <td>1.155846</td>\n",
       "      <td>9.811467</td>\n",
       "      <td>0.6</td>\n",
       "      <td>DecisionTree_wf</td>\n",
       "    </tr>\n",
       "  </tbody>\n",
       "</table>\n",
       "</div>"
      ],
      "text/plain": [
       "        mae        me      rmse  direction_accuracy            Model\n",
       "0  7.835223  1.155846  9.811467                 0.6  DecisionTree_wf"
      ]
     },
     "execution_count": 26,
     "metadata": {},
     "output_type": "execute_result"
    }
   ],
   "source": [
    "DecisionTree_wf"
   ]
  },
  {
   "cell_type": "code",
   "execution_count": 27,
   "metadata": {},
   "outputs": [
    {
     "data": {
      "text/html": [
       "<div>\n",
       "<style scoped>\n",
       "    .dataframe tbody tr th:only-of-type {\n",
       "        vertical-align: middle;\n",
       "    }\n",
       "\n",
       "    .dataframe tbody tr th {\n",
       "        vertical-align: top;\n",
       "    }\n",
       "\n",
       "    .dataframe thead th {\n",
       "        text-align: right;\n",
       "    }\n",
       "</style>\n",
       "<table border=\"1\" class=\"dataframe\">\n",
       "  <thead>\n",
       "    <tr style=\"text-align: right;\">\n",
       "      <th></th>\n",
       "      <th>mae</th>\n",
       "      <th>me</th>\n",
       "      <th>rmse</th>\n",
       "      <th>direction_accuracy</th>\n",
       "      <th>Model</th>\n",
       "    </tr>\n",
       "  </thead>\n",
       "  <tbody>\n",
       "    <tr>\n",
       "      <th>0</th>\n",
       "      <td>9.543498</td>\n",
       "      <td>6.935595</td>\n",
       "      <td>10.814334</td>\n",
       "      <td>0.375</td>\n",
       "      <td>RandomForest_static</td>\n",
       "    </tr>\n",
       "  </tbody>\n",
       "</table>\n",
       "</div>"
      ],
      "text/plain": [
       "        mae        me       rmse  direction_accuracy                Model\n",
       "0  9.543498  6.935595  10.814334               0.375  RandomForest_static"
      ]
     },
     "execution_count": 27,
     "metadata": {},
     "output_type": "execute_result"
    }
   ],
   "source": [
    "RandomForest_static"
   ]
  },
  {
   "cell_type": "code",
   "execution_count": 28,
   "metadata": {},
   "outputs": [
    {
     "data": {
      "text/html": [
       "<div>\n",
       "<style scoped>\n",
       "    .dataframe tbody tr th:only-of-type {\n",
       "        vertical-align: middle;\n",
       "    }\n",
       "\n",
       "    .dataframe tbody tr th {\n",
       "        vertical-align: top;\n",
       "    }\n",
       "\n",
       "    .dataframe thead th {\n",
       "        text-align: right;\n",
       "    }\n",
       "</style>\n",
       "<table border=\"1\" class=\"dataframe\">\n",
       "  <thead>\n",
       "    <tr style=\"text-align: right;\">\n",
       "      <th></th>\n",
       "      <th>mae</th>\n",
       "      <th>me</th>\n",
       "      <th>rmse</th>\n",
       "      <th>direction_accuracy</th>\n",
       "      <th>Model</th>\n",
       "    </tr>\n",
       "  </thead>\n",
       "  <tbody>\n",
       "    <tr>\n",
       "      <th>0</th>\n",
       "      <td>6.893966</td>\n",
       "      <td>2.345931</td>\n",
       "      <td>8.555033</td>\n",
       "      <td>0.375</td>\n",
       "      <td>RandomForest_roll</td>\n",
       "    </tr>\n",
       "  </tbody>\n",
       "</table>\n",
       "</div>"
      ],
      "text/plain": [
       "        mae        me      rmse  direction_accuracy              Model\n",
       "0  6.893966  2.345931  8.555033               0.375  RandomForest_roll"
      ]
     },
     "execution_count": 28,
     "metadata": {},
     "output_type": "execute_result"
    }
   ],
   "source": [
    "RandomForest_roll"
   ]
  },
  {
   "cell_type": "code",
   "execution_count": 29,
   "metadata": {},
   "outputs": [
    {
     "data": {
      "text/html": [
       "<div>\n",
       "<style scoped>\n",
       "    .dataframe tbody tr th:only-of-type {\n",
       "        vertical-align: middle;\n",
       "    }\n",
       "\n",
       "    .dataframe tbody tr th {\n",
       "        vertical-align: top;\n",
       "    }\n",
       "\n",
       "    .dataframe thead th {\n",
       "        text-align: right;\n",
       "    }\n",
       "</style>\n",
       "<table border=\"1\" class=\"dataframe\">\n",
       "  <thead>\n",
       "    <tr style=\"text-align: right;\">\n",
       "      <th></th>\n",
       "      <th>mae</th>\n",
       "      <th>me</th>\n",
       "      <th>rmse</th>\n",
       "      <th>direction_accuracy</th>\n",
       "      <th>Model</th>\n",
       "    </tr>\n",
       "  </thead>\n",
       "  <tbody>\n",
       "    <tr>\n",
       "      <th>0</th>\n",
       "      <td>7.234147</td>\n",
       "      <td>2.525658</td>\n",
       "      <td>8.732761</td>\n",
       "      <td>0.5</td>\n",
       "      <td>RandomForest_wf</td>\n",
       "    </tr>\n",
       "  </tbody>\n",
       "</table>\n",
       "</div>"
      ],
      "text/plain": [
       "        mae        me      rmse  direction_accuracy            Model\n",
       "0  7.234147  2.525658  8.732761                 0.5  RandomForest_wf"
      ]
     },
     "execution_count": 29,
     "metadata": {},
     "output_type": "execute_result"
    }
   ],
   "source": [
    "RandomForest_wf"
   ]
  },
  {
   "cell_type": "code",
   "execution_count": 30,
   "metadata": {},
   "outputs": [
    {
     "data": {
      "text/html": [
       "<div>\n",
       "<style scoped>\n",
       "    .dataframe tbody tr th:only-of-type {\n",
       "        vertical-align: middle;\n",
       "    }\n",
       "\n",
       "    .dataframe tbody tr th {\n",
       "        vertical-align: top;\n",
       "    }\n",
       "\n",
       "    .dataframe thead th {\n",
       "        text-align: right;\n",
       "    }\n",
       "</style>\n",
       "<table border=\"1\" class=\"dataframe\">\n",
       "  <thead>\n",
       "    <tr style=\"text-align: right;\">\n",
       "      <th></th>\n",
       "      <th>mae</th>\n",
       "      <th>me</th>\n",
       "      <th>rmse</th>\n",
       "      <th>direction_accuracy</th>\n",
       "      <th>Model</th>\n",
       "    </tr>\n",
       "  </thead>\n",
       "  <tbody>\n",
       "    <tr>\n",
       "      <th>0</th>\n",
       "      <td>10.741105</td>\n",
       "      <td>7.736472</td>\n",
       "      <td>12.012174</td>\n",
       "      <td>0.375</td>\n",
       "      <td>XGB_static</td>\n",
       "    </tr>\n",
       "  </tbody>\n",
       "</table>\n",
       "</div>"
      ],
      "text/plain": [
       "         mae        me       rmse  direction_accuracy       Model\n",
       "0  10.741105  7.736472  12.012174               0.375  XGB_static"
      ]
     },
     "execution_count": 30,
     "metadata": {},
     "output_type": "execute_result"
    }
   ],
   "source": [
    "XGB_static"
   ]
  },
  {
   "cell_type": "code",
   "execution_count": 31,
   "metadata": {},
   "outputs": [
    {
     "data": {
      "text/html": [
       "<div>\n",
       "<style scoped>\n",
       "    .dataframe tbody tr th:only-of-type {\n",
       "        vertical-align: middle;\n",
       "    }\n",
       "\n",
       "    .dataframe tbody tr th {\n",
       "        vertical-align: top;\n",
       "    }\n",
       "\n",
       "    .dataframe thead th {\n",
       "        text-align: right;\n",
       "    }\n",
       "</style>\n",
       "<table border=\"1\" class=\"dataframe\">\n",
       "  <thead>\n",
       "    <tr style=\"text-align: right;\">\n",
       "      <th></th>\n",
       "      <th>mae</th>\n",
       "      <th>me</th>\n",
       "      <th>rmse</th>\n",
       "      <th>direction_accuracy</th>\n",
       "      <th>Model</th>\n",
       "    </tr>\n",
       "  </thead>\n",
       "  <tbody>\n",
       "    <tr>\n",
       "      <th>0</th>\n",
       "      <td>6.623338</td>\n",
       "      <td>1.548795</td>\n",
       "      <td>7.974943</td>\n",
       "      <td>0.5</td>\n",
       "      <td>XGB_roll</td>\n",
       "    </tr>\n",
       "  </tbody>\n",
       "</table>\n",
       "</div>"
      ],
      "text/plain": [
       "        mae        me      rmse  direction_accuracy     Model\n",
       "0  6.623338  1.548795  7.974943                 0.5  XGB_roll"
      ]
     },
     "execution_count": 31,
     "metadata": {},
     "output_type": "execute_result"
    }
   ],
   "source": [
    "XGB_roll"
   ]
  },
  {
   "cell_type": "code",
   "execution_count": 32,
   "metadata": {},
   "outputs": [
    {
     "data": {
      "text/html": [
       "<div>\n",
       "<style scoped>\n",
       "    .dataframe tbody tr th:only-of-type {\n",
       "        vertical-align: middle;\n",
       "    }\n",
       "\n",
       "    .dataframe tbody tr th {\n",
       "        vertical-align: top;\n",
       "    }\n",
       "\n",
       "    .dataframe thead th {\n",
       "        text-align: right;\n",
       "    }\n",
       "</style>\n",
       "<table border=\"1\" class=\"dataframe\">\n",
       "  <thead>\n",
       "    <tr style=\"text-align: right;\">\n",
       "      <th></th>\n",
       "      <th>mae</th>\n",
       "      <th>me</th>\n",
       "      <th>rmse</th>\n",
       "      <th>direction_accuracy</th>\n",
       "      <th>Model</th>\n",
       "    </tr>\n",
       "  </thead>\n",
       "  <tbody>\n",
       "    <tr>\n",
       "      <th>0</th>\n",
       "      <td>6.92263</td>\n",
       "      <td>2.32837</td>\n",
       "      <td>8.226339</td>\n",
       "      <td>0.5</td>\n",
       "      <td>XGB_wf</td>\n",
       "    </tr>\n",
       "  </tbody>\n",
       "</table>\n",
       "</div>"
      ],
      "text/plain": [
       "       mae       me      rmse  direction_accuracy   Model\n",
       "0  6.92263  2.32837  8.226339                 0.5  XGB_wf"
      ]
     },
     "execution_count": 32,
     "metadata": {},
     "output_type": "execute_result"
    }
   ],
   "source": [
    "XGB_wf"
   ]
  },
  {
   "cell_type": "code",
   "execution_count": 33,
   "metadata": {},
   "outputs": [
    {
     "data": {
      "text/html": [
       "<div>\n",
       "<style scoped>\n",
       "    .dataframe tbody tr th:only-of-type {\n",
       "        vertical-align: middle;\n",
       "    }\n",
       "\n",
       "    .dataframe tbody tr th {\n",
       "        vertical-align: top;\n",
       "    }\n",
       "\n",
       "    .dataframe thead th {\n",
       "        text-align: right;\n",
       "    }\n",
       "</style>\n",
       "<table border=\"1\" class=\"dataframe\">\n",
       "  <thead>\n",
       "    <tr style=\"text-align: right;\">\n",
       "      <th></th>\n",
       "      <th>mae</th>\n",
       "      <th>me</th>\n",
       "      <th>rmse</th>\n",
       "      <th>direction_accuracy</th>\n",
       "    </tr>\n",
       "  </thead>\n",
       "  <tbody>\n",
       "    <tr>\n",
       "      <th>0</th>\n",
       "      <td>8.468395</td>\n",
       "      <td>-8.00553</td>\n",
       "      <td>10.4144</td>\n",
       "      <td>0.5</td>\n",
       "    </tr>\n",
       "  </tbody>\n",
       "</table>\n",
       "</div>"
      ],
      "text/plain": [
       "        mae       me     rmse  direction_accuracy\n",
       "0  8.468395 -8.00553  10.4144                 0.5"
      ]
     },
     "execution_count": 33,
     "metadata": {},
     "output_type": "execute_result"
    }
   ],
   "source": [
    "Prophet_static"
   ]
  },
  {
   "cell_type": "code",
   "execution_count": 34,
   "metadata": {},
   "outputs": [
    {
     "data": {
      "text/html": [
       "<div>\n",
       "<style scoped>\n",
       "    .dataframe tbody tr th:only-of-type {\n",
       "        vertical-align: middle;\n",
       "    }\n",
       "\n",
       "    .dataframe tbody tr th {\n",
       "        vertical-align: top;\n",
       "    }\n",
       "\n",
       "    .dataframe thead th {\n",
       "        text-align: right;\n",
       "    }\n",
       "</style>\n",
       "<table border=\"1\" class=\"dataframe\">\n",
       "  <thead>\n",
       "    <tr style=\"text-align: right;\">\n",
       "      <th></th>\n",
       "      <th>mae</th>\n",
       "      <th>me</th>\n",
       "      <th>rmse</th>\n",
       "      <th>direction_accuracy</th>\n",
       "    </tr>\n",
       "  </thead>\n",
       "  <tbody>\n",
       "    <tr>\n",
       "      <th>0</th>\n",
       "      <td>6.264178</td>\n",
       "      <td>-4.487235</td>\n",
       "      <td>7.939459</td>\n",
       "      <td>0.5</td>\n",
       "    </tr>\n",
       "  </tbody>\n",
       "</table>\n",
       "</div>"
      ],
      "text/plain": [
       "        mae        me      rmse  direction_accuracy\n",
       "0  6.264178 -4.487235  7.939459                 0.5"
      ]
     },
     "execution_count": 34,
     "metadata": {},
     "output_type": "execute_result"
    }
   ],
   "source": [
    "Prophet_wf"
   ]
  },
  {
   "cell_type": "code",
   "execution_count": 35,
   "metadata": {},
   "outputs": [
    {
     "name": "stdout",
     "output_type": "stream",
     "text": [
      "         mae        me       rmse  direction_accuracy                Model\n",
      "0  10.898830  9.406799  12.497071               0.250         ARIMA_static\n",
      "0   7.887032  1.178725   8.993326               0.375   ARIMA_walk_forward\n",
      "0  10.617329  6.974694  11.533878               0.250  DecisionTree_static\n",
      "0   7.148119  3.527439   9.056628               0.375    DecisionTree_roll\n",
      "0   7.835223  1.155846   9.811467               0.600      DecisionTree_wf\n",
      "0   9.543498  6.935595  10.814334               0.375  RandomForest_static\n",
      "0   6.893966  2.345931   8.555033               0.375    RandomForest_roll\n",
      "0   7.234147  2.525658   8.732761               0.500      RandomForest_wf\n",
      "0  10.741105  7.736472  12.012174               0.375           XGB_static\n",
      "0   6.623338  1.548795   7.974943               0.500             XGB_roll\n",
      "0   6.922630  2.328370   8.226339               0.500               XGB_wf\n",
      "0   8.468395 -8.005530  10.414400               0.500       Prophet_static\n",
      "0   6.264178 -4.487235   7.939459               0.500           Prophet_wf\n"
     ]
    }
   ],
   "source": [
    "# Add a new column to each dataframe to store the dataframe name\n",
    "ARIMA_static['Model'] = 'ARIMA_static'\n",
    "ARIMA_walk_forward['Model'] = 'ARIMA_walk_forward'\n",
    "DecisionTree_static['Model'] = 'DecisionTree_static'\n",
    "DecisionTree_roll['Model'] = 'DecisionTree_roll'\n",
    "DecisionTree_wf['Model'] = 'DecisionTree_wf'\n",
    "RandomForest_static['Model'] = 'RandomForest_static'\n",
    "RandomForest_roll['Model'] = 'RandomForest_roll'\n",
    "RandomForest_wf['Model'] = 'RandomForest_wf'\n",
    "XGB_static['Model'] = 'XGB_static'\n",
    "XGB_roll['Model'] = 'XGB_roll'\n",
    "XGB_wf['Model'] = 'XGB_wf'\n",
    "Prophet_static['Model'] = 'Prophet_static'\n",
    "Prophet_wf['Model'] = 'Prophet_wf'\n",
    "\n",
    "# Concatenate the dataframes vertically\n",
    "combined_df = pd.concat([ARIMA_static, ARIMA_walk_forward, DecisionTree_static, DecisionTree_roll, DecisionTree_wf, \n",
    "                         RandomForest_static, RandomForest_roll, RandomForest_wf, XGB_static, XGB_roll, XGB_wf, \n",
    "                         Prophet_static, Prophet_wf])\n",
    "\n",
    "# Display the combined dataframe\n",
    "print(combined_df)"
   ]
  },
  {
   "cell_type": "code",
   "execution_count": 36,
   "metadata": {},
   "outputs": [
    {
     "data": {
      "text/html": [
       "<div>\n",
       "<style scoped>\n",
       "    .dataframe tbody tr th:only-of-type {\n",
       "        vertical-align: middle;\n",
       "    }\n",
       "\n",
       "    .dataframe tbody tr th {\n",
       "        vertical-align: top;\n",
       "    }\n",
       "\n",
       "    .dataframe thead th {\n",
       "        text-align: right;\n",
       "    }\n",
       "</style>\n",
       "<table border=\"1\" class=\"dataframe\">\n",
       "  <thead>\n",
       "    <tr style=\"text-align: right;\">\n",
       "      <th></th>\n",
       "      <th>mae</th>\n",
       "      <th>me</th>\n",
       "      <th>rmse</th>\n",
       "      <th>direction_accuracy</th>\n",
       "      <th>Model</th>\n",
       "    </tr>\n",
       "  </thead>\n",
       "  <tbody>\n",
       "    <tr>\n",
       "      <th>0</th>\n",
       "      <td>6.264178</td>\n",
       "      <td>-4.487235</td>\n",
       "      <td>7.939459</td>\n",
       "      <td>0.500</td>\n",
       "      <td>Prophet_wf</td>\n",
       "    </tr>\n",
       "    <tr>\n",
       "      <th>0</th>\n",
       "      <td>6.623338</td>\n",
       "      <td>1.548795</td>\n",
       "      <td>7.974943</td>\n",
       "      <td>0.500</td>\n",
       "      <td>XGB_roll</td>\n",
       "    </tr>\n",
       "    <tr>\n",
       "      <th>0</th>\n",
       "      <td>6.922630</td>\n",
       "      <td>2.328370</td>\n",
       "      <td>8.226339</td>\n",
       "      <td>0.500</td>\n",
       "      <td>XGB_wf</td>\n",
       "    </tr>\n",
       "    <tr>\n",
       "      <th>0</th>\n",
       "      <td>6.893966</td>\n",
       "      <td>2.345931</td>\n",
       "      <td>8.555033</td>\n",
       "      <td>0.375</td>\n",
       "      <td>RandomForest_roll</td>\n",
       "    </tr>\n",
       "    <tr>\n",
       "      <th>0</th>\n",
       "      <td>7.234147</td>\n",
       "      <td>2.525658</td>\n",
       "      <td>8.732761</td>\n",
       "      <td>0.500</td>\n",
       "      <td>RandomForest_wf</td>\n",
       "    </tr>\n",
       "    <tr>\n",
       "      <th>0</th>\n",
       "      <td>7.887032</td>\n",
       "      <td>1.178725</td>\n",
       "      <td>8.993326</td>\n",
       "      <td>0.375</td>\n",
       "      <td>ARIMA_walk_forward</td>\n",
       "    </tr>\n",
       "    <tr>\n",
       "      <th>0</th>\n",
       "      <td>7.148119</td>\n",
       "      <td>3.527439</td>\n",
       "      <td>9.056628</td>\n",
       "      <td>0.375</td>\n",
       "      <td>DecisionTree_roll</td>\n",
       "    </tr>\n",
       "    <tr>\n",
       "      <th>0</th>\n",
       "      <td>7.835223</td>\n",
       "      <td>1.155846</td>\n",
       "      <td>9.811467</td>\n",
       "      <td>0.600</td>\n",
       "      <td>DecisionTree_wf</td>\n",
       "    </tr>\n",
       "    <tr>\n",
       "      <th>0</th>\n",
       "      <td>8.468395</td>\n",
       "      <td>-8.005530</td>\n",
       "      <td>10.414400</td>\n",
       "      <td>0.500</td>\n",
       "      <td>Prophet_static</td>\n",
       "    </tr>\n",
       "    <tr>\n",
       "      <th>0</th>\n",
       "      <td>9.543498</td>\n",
       "      <td>6.935595</td>\n",
       "      <td>10.814334</td>\n",
       "      <td>0.375</td>\n",
       "      <td>RandomForest_static</td>\n",
       "    </tr>\n",
       "    <tr>\n",
       "      <th>0</th>\n",
       "      <td>10.617329</td>\n",
       "      <td>6.974694</td>\n",
       "      <td>11.533878</td>\n",
       "      <td>0.250</td>\n",
       "      <td>DecisionTree_static</td>\n",
       "    </tr>\n",
       "    <tr>\n",
       "      <th>0</th>\n",
       "      <td>10.741105</td>\n",
       "      <td>7.736472</td>\n",
       "      <td>12.012174</td>\n",
       "      <td>0.375</td>\n",
       "      <td>XGB_static</td>\n",
       "    </tr>\n",
       "    <tr>\n",
       "      <th>0</th>\n",
       "      <td>10.898830</td>\n",
       "      <td>9.406799</td>\n",
       "      <td>12.497071</td>\n",
       "      <td>0.250</td>\n",
       "      <td>ARIMA_static</td>\n",
       "    </tr>\n",
       "  </tbody>\n",
       "</table>\n",
       "</div>"
      ],
      "text/plain": [
       "         mae        me       rmse  direction_accuracy                Model\n",
       "0   6.264178 -4.487235   7.939459               0.500           Prophet_wf\n",
       "0   6.623338  1.548795   7.974943               0.500             XGB_roll\n",
       "0   6.922630  2.328370   8.226339               0.500               XGB_wf\n",
       "0   6.893966  2.345931   8.555033               0.375    RandomForest_roll\n",
       "0   7.234147  2.525658   8.732761               0.500      RandomForest_wf\n",
       "0   7.887032  1.178725   8.993326               0.375   ARIMA_walk_forward\n",
       "0   7.148119  3.527439   9.056628               0.375    DecisionTree_roll\n",
       "0   7.835223  1.155846   9.811467               0.600      DecisionTree_wf\n",
       "0   8.468395 -8.005530  10.414400               0.500       Prophet_static\n",
       "0   9.543498  6.935595  10.814334               0.375  RandomForest_static\n",
       "0  10.617329  6.974694  11.533878               0.250  DecisionTree_static\n",
       "0  10.741105  7.736472  12.012174               0.375           XGB_static\n",
       "0  10.898830  9.406799  12.497071               0.250         ARIMA_static"
      ]
     },
     "execution_count": 36,
     "metadata": {},
     "output_type": "execute_result"
    }
   ],
   "source": [
    "combined_df.sort_values(by='rmse')"
   ]
  },
  {
   "cell_type": "code",
   "execution_count": 37,
   "metadata": {},
   "outputs": [
    {
     "data": {
      "text/html": [
       "<div>\n",
       "<style scoped>\n",
       "    .dataframe tbody tr th:only-of-type {\n",
       "        vertical-align: middle;\n",
       "    }\n",
       "\n",
       "    .dataframe tbody tr th {\n",
       "        vertical-align: top;\n",
       "    }\n",
       "\n",
       "    .dataframe thead th {\n",
       "        text-align: right;\n",
       "    }\n",
       "</style>\n",
       "<table border=\"1\" class=\"dataframe\">\n",
       "  <thead>\n",
       "    <tr style=\"text-align: right;\">\n",
       "      <th></th>\n",
       "      <th>mae</th>\n",
       "      <th>me</th>\n",
       "      <th>rmse</th>\n",
       "      <th>direction_accuracy</th>\n",
       "      <th>Model</th>\n",
       "    </tr>\n",
       "  </thead>\n",
       "  <tbody>\n",
       "    <tr>\n",
       "      <th>0</th>\n",
       "      <td>7.835223</td>\n",
       "      <td>1.155846</td>\n",
       "      <td>9.811467</td>\n",
       "      <td>0.600</td>\n",
       "      <td>DecisionTree_wf</td>\n",
       "    </tr>\n",
       "    <tr>\n",
       "      <th>0</th>\n",
       "      <td>7.234147</td>\n",
       "      <td>2.525658</td>\n",
       "      <td>8.732761</td>\n",
       "      <td>0.500</td>\n",
       "      <td>RandomForest_wf</td>\n",
       "    </tr>\n",
       "    <tr>\n",
       "      <th>0</th>\n",
       "      <td>6.623338</td>\n",
       "      <td>1.548795</td>\n",
       "      <td>7.974943</td>\n",
       "      <td>0.500</td>\n",
       "      <td>XGB_roll</td>\n",
       "    </tr>\n",
       "    <tr>\n",
       "      <th>0</th>\n",
       "      <td>6.922630</td>\n",
       "      <td>2.328370</td>\n",
       "      <td>8.226339</td>\n",
       "      <td>0.500</td>\n",
       "      <td>XGB_wf</td>\n",
       "    </tr>\n",
       "    <tr>\n",
       "      <th>0</th>\n",
       "      <td>8.468395</td>\n",
       "      <td>-8.005530</td>\n",
       "      <td>10.414400</td>\n",
       "      <td>0.500</td>\n",
       "      <td>Prophet_static</td>\n",
       "    </tr>\n",
       "    <tr>\n",
       "      <th>0</th>\n",
       "      <td>6.264178</td>\n",
       "      <td>-4.487235</td>\n",
       "      <td>7.939459</td>\n",
       "      <td>0.500</td>\n",
       "      <td>Prophet_wf</td>\n",
       "    </tr>\n",
       "    <tr>\n",
       "      <th>0</th>\n",
       "      <td>7.887032</td>\n",
       "      <td>1.178725</td>\n",
       "      <td>8.993326</td>\n",
       "      <td>0.375</td>\n",
       "      <td>ARIMA_walk_forward</td>\n",
       "    </tr>\n",
       "    <tr>\n",
       "      <th>0</th>\n",
       "      <td>7.148119</td>\n",
       "      <td>3.527439</td>\n",
       "      <td>9.056628</td>\n",
       "      <td>0.375</td>\n",
       "      <td>DecisionTree_roll</td>\n",
       "    </tr>\n",
       "    <tr>\n",
       "      <th>0</th>\n",
       "      <td>9.543498</td>\n",
       "      <td>6.935595</td>\n",
       "      <td>10.814334</td>\n",
       "      <td>0.375</td>\n",
       "      <td>RandomForest_static</td>\n",
       "    </tr>\n",
       "    <tr>\n",
       "      <th>0</th>\n",
       "      <td>6.893966</td>\n",
       "      <td>2.345931</td>\n",
       "      <td>8.555033</td>\n",
       "      <td>0.375</td>\n",
       "      <td>RandomForest_roll</td>\n",
       "    </tr>\n",
       "    <tr>\n",
       "      <th>0</th>\n",
       "      <td>10.741105</td>\n",
       "      <td>7.736472</td>\n",
       "      <td>12.012174</td>\n",
       "      <td>0.375</td>\n",
       "      <td>XGB_static</td>\n",
       "    </tr>\n",
       "    <tr>\n",
       "      <th>0</th>\n",
       "      <td>10.898830</td>\n",
       "      <td>9.406799</td>\n",
       "      <td>12.497071</td>\n",
       "      <td>0.250</td>\n",
       "      <td>ARIMA_static</td>\n",
       "    </tr>\n",
       "    <tr>\n",
       "      <th>0</th>\n",
       "      <td>10.617329</td>\n",
       "      <td>6.974694</td>\n",
       "      <td>11.533878</td>\n",
       "      <td>0.250</td>\n",
       "      <td>DecisionTree_static</td>\n",
       "    </tr>\n",
       "  </tbody>\n",
       "</table>\n",
       "</div>"
      ],
      "text/plain": [
       "         mae        me       rmse  direction_accuracy                Model\n",
       "0   7.835223  1.155846   9.811467               0.600      DecisionTree_wf\n",
       "0   7.234147  2.525658   8.732761               0.500      RandomForest_wf\n",
       "0   6.623338  1.548795   7.974943               0.500             XGB_roll\n",
       "0   6.922630  2.328370   8.226339               0.500               XGB_wf\n",
       "0   8.468395 -8.005530  10.414400               0.500       Prophet_static\n",
       "0   6.264178 -4.487235   7.939459               0.500           Prophet_wf\n",
       "0   7.887032  1.178725   8.993326               0.375   ARIMA_walk_forward\n",
       "0   7.148119  3.527439   9.056628               0.375    DecisionTree_roll\n",
       "0   9.543498  6.935595  10.814334               0.375  RandomForest_static\n",
       "0   6.893966  2.345931   8.555033               0.375    RandomForest_roll\n",
       "0  10.741105  7.736472  12.012174               0.375           XGB_static\n",
       "0  10.898830  9.406799  12.497071               0.250         ARIMA_static\n",
       "0  10.617329  6.974694  11.533878               0.250  DecisionTree_static"
      ]
     },
     "execution_count": 37,
     "metadata": {},
     "output_type": "execute_result"
    }
   ],
   "source": [
    "combined_df.sort_values(by='direction_accuracy',ascending=False)"
   ]
  },
  {
   "cell_type": "code",
   "execution_count": 38,
   "metadata": {},
   "outputs": [
    {
     "data": {
      "image/png": "[encoded data removed]",
      "text/plain": [
       "<Figure size 1200x600 with 1 Axes>"
      ]
     },
     "metadata": {},
     "output_type": "display_data"
    },
    {
     "data": {
      "image/png": "[encoded data removed]",
      "text/plain": [
       "<Figure size 640x480 with 1 Axes>"
      ]
     },
     "metadata": {},
     "output_type": "display_data"
    },
    {
     "data": {
      "image/png": "[encoded data removed]",
      "text/plain": [
       "<Figure size 640x480 with 1 Axes>"
      ]
     },
     "metadata": {},
     "output_type": "display_data"
    },
    {
     "data": {
      "image/png": "[encoded data removed]",
      "text/plain": [
       "<Figure size 640x480 with 1 Axes>"
      ]
     },
     "metadata": {},
     "output_type": "display_data"
    }
   ],
   "source": [
    "import seaborn as sns\n",
    "import matplotlib.pyplot as plt\n",
    "\n",
    "# Set the style\n",
    "sns.set_style(\"whitegrid\")\n",
    "\n",
    "# Plot\n",
    "plt.figure(figsize=(12, 6))\n",
    "\n",
    "# Loop through each metric\n",
    "for metric in ['mae', 'me', 'rmse', 'direction_accuracy']:\n",
    "    # Plot the metric for each model\n",
    "    sns.barplot(data=combined_df, x=metric, y='Model')\n",
    "    plt.title(f'{metric} Across Models')\n",
    "    plt.xlabel(metric)\n",
    "    plt.ylabel('Model')\n",
    "    # plt.xticks(rotation=45)  # Rotate x-axis labels for better readability\n",
    "    plt.show()  # Show each plot separately\n",
    "\n",
    "\n"
   ]
  },
  {
   "cell_type": "markdown",
   "metadata": {},
   "source": [
    "Based on these results, we see that: \n",
    "\n",
    "- The errors MAE, ME and RMSE tends to be lowest for the static procedures (such as those with XGBoost, ARIMA and RandomForest)\n",
    "- Direction accuracy is highest for XGBoost with the static forecast but other decision tree-based models that use static, rolling and walk forward also seems to be useful.\n",
    "\n",
    "More analysis to follow..."
   ]
  }
 ],
 "metadata": {
  "kernelspec": {
   "display_name": "Python 3",
   "language": "python",
   "name": "python3"
  },
  "language_info": {
   "codemirror_mode": {
    "name": "ipython",
    "version": 3
   },
   "file_extension": ".py",
   "mimetype": "text/x-python",
   "name": "python",
   "nbconvert_exporter": "python",
   "pygments_lexer": "ipython3",
   "version": "3.11.2"
  }
 },
 "nbformat": 4,
 "nbformat_minor": 2
}
