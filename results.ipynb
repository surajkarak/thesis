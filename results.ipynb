{
 "cells": [
  {
   "cell_type": "code",
   "execution_count": 4,
   "metadata": {},
   "outputs": [],
   "source": [
    "#Importing libraries\n",
    "import warnings\n",
    "warnings.simplefilter(action='ignore', category=FutureWarning)\n",
    "import numpy as np\n",
    "import pandas as pd\n",
    "from numpy import asarray\n",
    "\n",
    "\n",
    "import matplotlib.pyplot as plt\n",
    "import seaborn as sns\n",
    "import matplotlib.pyplot as plt\n",
    "import plotly.express as px\n",
    "import plotly.graph_objects as go\n",
    "from plotly.subplots import make_subplots\n",
    " "
   ]
  },
  {
   "cell_type": "code",
   "execution_count": 5,
   "metadata": {},
   "outputs": [
    {
     "name": "stdout",
     "output_type": "stream",
     "text": [
      "['ARIMA_static', 'ARIMA_walk_forward', 'DecisionTree_roll', 'DecisionTree_static', 'DecisionTree_wf', 'Prophet_static', 'Prophet_wf', 'RandomForest_roll', 'RandomForest_static', 'RandomForest_wf', 'TS1', 'TS1_A1A2', 'TS1_A2', 'TS1_A2A3', 'XGB_roll', 'XGB_static', 'XGB_wf', 'dataset', 'df', 'df_cleaned', 'df_forecast', 'df_test', 'df_train', 'df_wPreis', 'ds', 'series_lines_by_character_df', 'series_lines_clean_df', 'series_lines_raw_df']\n"
     ]
    }
   ],
   "source": [
    "%store -r\n",
    "stored_variables = dir()\n",
    "dataframe_names = [var for var in stored_variables if isinstance(eval(var), pd.DataFrame)]\n",
    "print(dataframe_names)"
   ]
  },
  {
   "cell_type": "code",
   "execution_count": 6,
   "metadata": {},
   "outputs": [
    {
     "data": {
      "text/html": [
       "<div>\n",
       "<style scoped>\n",
       "    .dataframe tbody tr th:only-of-type {\n",
       "        vertical-align: middle;\n",
       "    }\n",
       "\n",
       "    .dataframe tbody tr th {\n",
       "        vertical-align: top;\n",
       "    }\n",
       "\n",
       "    .dataframe thead th {\n",
       "        text-align: right;\n",
       "    }\n",
       "</style>\n",
       "<table border=\"1\" class=\"dataframe\">\n",
       "  <thead>\n",
       "    <tr style=\"text-align: right;\">\n",
       "      <th></th>\n",
       "      <th>mae</th>\n",
       "      <th>me</th>\n",
       "      <th>rmse</th>\n",
       "      <th>direction_accuracy</th>\n",
       "    </tr>\n",
       "  </thead>\n",
       "  <tbody>\n",
       "    <tr>\n",
       "      <th>0</th>\n",
       "      <td>6.001718</td>\n",
       "      <td>0.529747</td>\n",
       "      <td>7.041768</td>\n",
       "      <td>0.6</td>\n",
       "    </tr>\n",
       "  </tbody>\n",
       "</table>\n",
       "</div>"
      ],
      "text/plain": [
       "        mae        me      rmse  direction_accuracy\n",
       "0  6.001718  0.529747  7.041768                 0.6"
      ]
     },
     "execution_count": 6,
     "metadata": {},
     "output_type": "execute_result"
    }
   ],
   "source": [
    "ARIMA_static"
   ]
  },
  {
   "cell_type": "code",
   "execution_count": 7,
   "metadata": {},
   "outputs": [
    {
     "data": {
      "text/html": [
       "<div>\n",
       "<style scoped>\n",
       "    .dataframe tbody tr th:only-of-type {\n",
       "        vertical-align: middle;\n",
       "    }\n",
       "\n",
       "    .dataframe tbody tr th {\n",
       "        vertical-align: top;\n",
       "    }\n",
       "\n",
       "    .dataframe thead th {\n",
       "        text-align: right;\n",
       "    }\n",
       "</style>\n",
       "<table border=\"1\" class=\"dataframe\">\n",
       "  <thead>\n",
       "    <tr style=\"text-align: right;\">\n",
       "      <th></th>\n",
       "      <th>mae</th>\n",
       "      <th>me</th>\n",
       "      <th>rmse</th>\n",
       "      <th>direction_accuracy</th>\n",
       "    </tr>\n",
       "  </thead>\n",
       "  <tbody>\n",
       "    <tr>\n",
       "      <th>0</th>\n",
       "      <td>8.096693</td>\n",
       "      <td>-0.622437</td>\n",
       "      <td>9.434213</td>\n",
       "      <td>0.4</td>\n",
       "    </tr>\n",
       "  </tbody>\n",
       "</table>\n",
       "</div>"
      ],
      "text/plain": [
       "        mae        me      rmse  direction_accuracy\n",
       "0  8.096693 -0.622437  9.434213                 0.4"
      ]
     },
     "execution_count": 7,
     "metadata": {},
     "output_type": "execute_result"
    }
   ],
   "source": [
    "ARIMA_walk_forward"
   ]
  },
  {
   "cell_type": "code",
   "execution_count": 8,
   "metadata": {},
   "outputs": [
    {
     "data": {
      "text/html": [
       "<div>\n",
       "<style scoped>\n",
       "    .dataframe tbody tr th:only-of-type {\n",
       "        vertical-align: middle;\n",
       "    }\n",
       "\n",
       "    .dataframe tbody tr th {\n",
       "        vertical-align: top;\n",
       "    }\n",
       "\n",
       "    .dataframe thead th {\n",
       "        text-align: right;\n",
       "    }\n",
       "</style>\n",
       "<table border=\"1\" class=\"dataframe\">\n",
       "  <thead>\n",
       "    <tr style=\"text-align: right;\">\n",
       "      <th></th>\n",
       "      <th>mae</th>\n",
       "      <th>me</th>\n",
       "      <th>rmse</th>\n",
       "      <th>direction_accuracy</th>\n",
       "    </tr>\n",
       "  </thead>\n",
       "  <tbody>\n",
       "    <tr>\n",
       "      <th>0</th>\n",
       "      <td>6.853749</td>\n",
       "      <td>-1.460209</td>\n",
       "      <td>8.211187</td>\n",
       "      <td>0.2</td>\n",
       "    </tr>\n",
       "  </tbody>\n",
       "</table>\n",
       "</div>"
      ],
      "text/plain": [
       "        mae        me      rmse  direction_accuracy\n",
       "0  6.853749 -1.460209  8.211187                 0.2"
      ]
     },
     "execution_count": 8,
     "metadata": {},
     "output_type": "execute_result"
    }
   ],
   "source": [
    "DecisionTree_static"
   ]
  },
  {
   "cell_type": "code",
   "execution_count": 9,
   "metadata": {},
   "outputs": [
    {
     "data": {
      "text/html": [
       "<div>\n",
       "<style scoped>\n",
       "    .dataframe tbody tr th:only-of-type {\n",
       "        vertical-align: middle;\n",
       "    }\n",
       "\n",
       "    .dataframe tbody tr th {\n",
       "        vertical-align: top;\n",
       "    }\n",
       "\n",
       "    .dataframe thead th {\n",
       "        text-align: right;\n",
       "    }\n",
       "</style>\n",
       "<table border=\"1\" class=\"dataframe\">\n",
       "  <thead>\n",
       "    <tr style=\"text-align: right;\">\n",
       "      <th></th>\n",
       "      <th>mae</th>\n",
       "      <th>me</th>\n",
       "      <th>rmse</th>\n",
       "      <th>direction_accuracy</th>\n",
       "    </tr>\n",
       "  </thead>\n",
       "  <tbody>\n",
       "    <tr>\n",
       "      <th>0</th>\n",
       "      <td>8.279632</td>\n",
       "      <td>2.79844</td>\n",
       "      <td>10.177761</td>\n",
       "      <td>0.4</td>\n",
       "    </tr>\n",
       "  </tbody>\n",
       "</table>\n",
       "</div>"
      ],
      "text/plain": [
       "        mae       me       rmse  direction_accuracy\n",
       "0  8.279632  2.79844  10.177761                 0.4"
      ]
     },
     "execution_count": 9,
     "metadata": {},
     "output_type": "execute_result"
    }
   ],
   "source": [
    "DecisionTree_roll"
   ]
  },
  {
   "cell_type": "code",
   "execution_count": 10,
   "metadata": {},
   "outputs": [
    {
     "data": {
      "text/html": [
       "<div>\n",
       "<style scoped>\n",
       "    .dataframe tbody tr th:only-of-type {\n",
       "        vertical-align: middle;\n",
       "    }\n",
       "\n",
       "    .dataframe tbody tr th {\n",
       "        vertical-align: top;\n",
       "    }\n",
       "\n",
       "    .dataframe thead th {\n",
       "        text-align: right;\n",
       "    }\n",
       "</style>\n",
       "<table border=\"1\" class=\"dataframe\">\n",
       "  <thead>\n",
       "    <tr style=\"text-align: right;\">\n",
       "      <th></th>\n",
       "      <th>mae</th>\n",
       "      <th>me</th>\n",
       "      <th>rmse</th>\n",
       "      <th>direction_accuracy</th>\n",
       "    </tr>\n",
       "  </thead>\n",
       "  <tbody>\n",
       "    <tr>\n",
       "      <th>0</th>\n",
       "      <td>7.835223</td>\n",
       "      <td>1.155846</td>\n",
       "      <td>9.811467</td>\n",
       "      <td>0.6</td>\n",
       "    </tr>\n",
       "  </tbody>\n",
       "</table>\n",
       "</div>"
      ],
      "text/plain": [
       "        mae        me      rmse  direction_accuracy\n",
       "0  7.835223  1.155846  9.811467                 0.6"
      ]
     },
     "execution_count": 10,
     "metadata": {},
     "output_type": "execute_result"
    }
   ],
   "source": [
    "DecisionTree_wf"
   ]
  },
  {
   "cell_type": "code",
   "execution_count": 11,
   "metadata": {},
   "outputs": [
    {
     "data": {
      "text/html": [
       "<div>\n",
       "<style scoped>\n",
       "    .dataframe tbody tr th:only-of-type {\n",
       "        vertical-align: middle;\n",
       "    }\n",
       "\n",
       "    .dataframe tbody tr th {\n",
       "        vertical-align: top;\n",
       "    }\n",
       "\n",
       "    .dataframe thead th {\n",
       "        text-align: right;\n",
       "    }\n",
       "</style>\n",
       "<table border=\"1\" class=\"dataframe\">\n",
       "  <thead>\n",
       "    <tr style=\"text-align: right;\">\n",
       "      <th></th>\n",
       "      <th>mae</th>\n",
       "      <th>me</th>\n",
       "      <th>rmse</th>\n",
       "      <th>direction_accuracy</th>\n",
       "    </tr>\n",
       "  </thead>\n",
       "  <tbody>\n",
       "    <tr>\n",
       "      <th>0</th>\n",
       "      <td>5.986011</td>\n",
       "      <td>0.718388</td>\n",
       "      <td>7.433007</td>\n",
       "      <td>0.6</td>\n",
       "    </tr>\n",
       "  </tbody>\n",
       "</table>\n",
       "</div>"
      ],
      "text/plain": [
       "        mae        me      rmse  direction_accuracy\n",
       "0  5.986011  0.718388  7.433007                 0.6"
      ]
     },
     "execution_count": 11,
     "metadata": {},
     "output_type": "execute_result"
    }
   ],
   "source": [
    "RandomForest_static"
   ]
  },
  {
   "cell_type": "code",
   "execution_count": 12,
   "metadata": {},
   "outputs": [
    {
     "data": {
      "text/html": [
       "<div>\n",
       "<style scoped>\n",
       "    .dataframe tbody tr th:only-of-type {\n",
       "        vertical-align: middle;\n",
       "    }\n",
       "\n",
       "    .dataframe tbody tr th {\n",
       "        vertical-align: top;\n",
       "    }\n",
       "\n",
       "    .dataframe thead th {\n",
       "        text-align: right;\n",
       "    }\n",
       "</style>\n",
       "<table border=\"1\" class=\"dataframe\">\n",
       "  <thead>\n",
       "    <tr style=\"text-align: right;\">\n",
       "      <th></th>\n",
       "      <th>mae</th>\n",
       "      <th>me</th>\n",
       "      <th>rmse</th>\n",
       "      <th>direction_accuracy</th>\n",
       "    </tr>\n",
       "  </thead>\n",
       "  <tbody>\n",
       "    <tr>\n",
       "      <th>0</th>\n",
       "      <td>6.58827</td>\n",
       "      <td>1.331207</td>\n",
       "      <td>8.613069</td>\n",
       "      <td>0.6</td>\n",
       "    </tr>\n",
       "  </tbody>\n",
       "</table>\n",
       "</div>"
      ],
      "text/plain": [
       "       mae        me      rmse  direction_accuracy\n",
       "0  6.58827  1.331207  8.613069                 0.6"
      ]
     },
     "execution_count": 12,
     "metadata": {},
     "output_type": "execute_result"
    }
   ],
   "source": [
    "RandomForest_roll"
   ]
  },
  {
   "cell_type": "code",
   "execution_count": 13,
   "metadata": {},
   "outputs": [
    {
     "data": {
      "text/html": [
       "<div>\n",
       "<style scoped>\n",
       "    .dataframe tbody tr th:only-of-type {\n",
       "        vertical-align: middle;\n",
       "    }\n",
       "\n",
       "    .dataframe tbody tr th {\n",
       "        vertical-align: top;\n",
       "    }\n",
       "\n",
       "    .dataframe thead th {\n",
       "        text-align: right;\n",
       "    }\n",
       "</style>\n",
       "<table border=\"1\" class=\"dataframe\">\n",
       "  <thead>\n",
       "    <tr style=\"text-align: right;\">\n",
       "      <th></th>\n",
       "      <th>mae</th>\n",
       "      <th>me</th>\n",
       "      <th>rmse</th>\n",
       "      <th>direction_accuracy</th>\n",
       "    </tr>\n",
       "  </thead>\n",
       "  <tbody>\n",
       "    <tr>\n",
       "      <th>0</th>\n",
       "      <td>7.165923</td>\n",
       "      <td>1.722831</td>\n",
       "      <td>8.955055</td>\n",
       "      <td>0.6</td>\n",
       "    </tr>\n",
       "  </tbody>\n",
       "</table>\n",
       "</div>"
      ],
      "text/plain": [
       "        mae        me      rmse  direction_accuracy\n",
       "0  7.165923  1.722831  8.955055                 0.6"
      ]
     },
     "execution_count": 13,
     "metadata": {},
     "output_type": "execute_result"
    }
   ],
   "source": [
    "RandomForest_wf"
   ]
  },
  {
   "cell_type": "code",
   "execution_count": 14,
   "metadata": {},
   "outputs": [
    {
     "data": {
      "text/html": [
       "<div>\n",
       "<style scoped>\n",
       "    .dataframe tbody tr th:only-of-type {\n",
       "        vertical-align: middle;\n",
       "    }\n",
       "\n",
       "    .dataframe tbody tr th {\n",
       "        vertical-align: top;\n",
       "    }\n",
       "\n",
       "    .dataframe thead th {\n",
       "        text-align: right;\n",
       "    }\n",
       "</style>\n",
       "<table border=\"1\" class=\"dataframe\">\n",
       "  <thead>\n",
       "    <tr style=\"text-align: right;\">\n",
       "      <th></th>\n",
       "      <th>mae</th>\n",
       "      <th>me</th>\n",
       "      <th>rmse</th>\n",
       "      <th>direction_accuracy</th>\n",
       "    </tr>\n",
       "  </thead>\n",
       "  <tbody>\n",
       "    <tr>\n",
       "      <th>0</th>\n",
       "      <td>5.661845</td>\n",
       "      <td>-0.011496</td>\n",
       "      <td>6.924746</td>\n",
       "      <td>0.8</td>\n",
       "    </tr>\n",
       "  </tbody>\n",
       "</table>\n",
       "</div>"
      ],
      "text/plain": [
       "        mae        me      rmse  direction_accuracy\n",
       "0  5.661845 -0.011496  6.924746                 0.8"
      ]
     },
     "execution_count": 14,
     "metadata": {},
     "output_type": "execute_result"
    }
   ],
   "source": [
    "XGB_static"
   ]
  },
  {
   "cell_type": "code",
   "execution_count": 15,
   "metadata": {},
   "outputs": [
    {
     "data": {
      "text/html": [
       "<div>\n",
       "<style scoped>\n",
       "    .dataframe tbody tr th:only-of-type {\n",
       "        vertical-align: middle;\n",
       "    }\n",
       "\n",
       "    .dataframe tbody tr th {\n",
       "        vertical-align: top;\n",
       "    }\n",
       "\n",
       "    .dataframe thead th {\n",
       "        text-align: right;\n",
       "    }\n",
       "</style>\n",
       "<table border=\"1\" class=\"dataframe\">\n",
       "  <thead>\n",
       "    <tr style=\"text-align: right;\">\n",
       "      <th></th>\n",
       "      <th>mae</th>\n",
       "      <th>me</th>\n",
       "      <th>rmse</th>\n",
       "      <th>direction_accuracy</th>\n",
       "    </tr>\n",
       "  </thead>\n",
       "  <tbody>\n",
       "    <tr>\n",
       "      <th>0</th>\n",
       "      <td>6.500999</td>\n",
       "      <td>1.180559</td>\n",
       "      <td>8.362858</td>\n",
       "      <td>0.6</td>\n",
       "    </tr>\n",
       "  </tbody>\n",
       "</table>\n",
       "</div>"
      ],
      "text/plain": [
       "        mae        me      rmse  direction_accuracy\n",
       "0  6.500999  1.180559  8.362858                 0.6"
      ]
     },
     "execution_count": 15,
     "metadata": {},
     "output_type": "execute_result"
    }
   ],
   "source": [
    "XGB_roll"
   ]
  },
  {
   "cell_type": "code",
   "execution_count": 16,
   "metadata": {},
   "outputs": [
    {
     "data": {
      "text/html": [
       "<div>\n",
       "<style scoped>\n",
       "    .dataframe tbody tr th:only-of-type {\n",
       "        vertical-align: middle;\n",
       "    }\n",
       "\n",
       "    .dataframe tbody tr th {\n",
       "        vertical-align: top;\n",
       "    }\n",
       "\n",
       "    .dataframe thead th {\n",
       "        text-align: right;\n",
       "    }\n",
       "</style>\n",
       "<table border=\"1\" class=\"dataframe\">\n",
       "  <thead>\n",
       "    <tr style=\"text-align: right;\">\n",
       "      <th></th>\n",
       "      <th>mae</th>\n",
       "      <th>me</th>\n",
       "      <th>rmse</th>\n",
       "      <th>direction_accuracy</th>\n",
       "    </tr>\n",
       "  </thead>\n",
       "  <tbody>\n",
       "    <tr>\n",
       "      <th>0</th>\n",
       "      <td>6.264596</td>\n",
       "      <td>1.654419</td>\n",
       "      <td>7.940568</td>\n",
       "      <td>0.6</td>\n",
       "    </tr>\n",
       "  </tbody>\n",
       "</table>\n",
       "</div>"
      ],
      "text/plain": [
       "        mae        me      rmse  direction_accuracy\n",
       "0  6.264596  1.654419  7.940568                 0.6"
      ]
     },
     "execution_count": 16,
     "metadata": {},
     "output_type": "execute_result"
    }
   ],
   "source": [
    "XGB_wf"
   ]
  },
  {
   "cell_type": "code",
   "execution_count": 17,
   "metadata": {},
   "outputs": [
    {
     "data": {
      "text/html": [
       "<div>\n",
       "<style scoped>\n",
       "    .dataframe tbody tr th:only-of-type {\n",
       "        vertical-align: middle;\n",
       "    }\n",
       "\n",
       "    .dataframe tbody tr th {\n",
       "        vertical-align: top;\n",
       "    }\n",
       "\n",
       "    .dataframe thead th {\n",
       "        text-align: right;\n",
       "    }\n",
       "</style>\n",
       "<table border=\"1\" class=\"dataframe\">\n",
       "  <thead>\n",
       "    <tr style=\"text-align: right;\">\n",
       "      <th></th>\n",
       "      <th>mae</th>\n",
       "      <th>me</th>\n",
       "      <th>rmse</th>\n",
       "      <th>direction_accuracy</th>\n",
       "    </tr>\n",
       "  </thead>\n",
       "  <tbody>\n",
       "    <tr>\n",
       "      <th>0</th>\n",
       "      <td>9.261666</td>\n",
       "      <td>-8.743701</td>\n",
       "      <td>11.414295</td>\n",
       "      <td>0.4</td>\n",
       "    </tr>\n",
       "  </tbody>\n",
       "</table>\n",
       "</div>"
      ],
      "text/plain": [
       "        mae        me       rmse  direction_accuracy\n",
       "0  9.261666 -8.743701  11.414295                 0.4"
      ]
     },
     "execution_count": 17,
     "metadata": {},
     "output_type": "execute_result"
    }
   ],
   "source": [
    "Prophet_static"
   ]
  },
  {
   "cell_type": "code",
   "execution_count": 18,
   "metadata": {},
   "outputs": [
    {
     "data": {
      "text/html": [
       "<div>\n",
       "<style scoped>\n",
       "    .dataframe tbody tr th:only-of-type {\n",
       "        vertical-align: middle;\n",
       "    }\n",
       "\n",
       "    .dataframe tbody tr th {\n",
       "        vertical-align: top;\n",
       "    }\n",
       "\n",
       "    .dataframe thead th {\n",
       "        text-align: right;\n",
       "    }\n",
       "</style>\n",
       "<table border=\"1\" class=\"dataframe\">\n",
       "  <thead>\n",
       "    <tr style=\"text-align: right;\">\n",
       "      <th></th>\n",
       "      <th>mae</th>\n",
       "      <th>me</th>\n",
       "      <th>rmse</th>\n",
       "      <th>direction_accuracy</th>\n",
       "    </tr>\n",
       "  </thead>\n",
       "  <tbody>\n",
       "    <tr>\n",
       "      <th>0</th>\n",
       "      <td>6.73186</td>\n",
       "      <td>-5.106923</td>\n",
       "      <td>8.70973</td>\n",
       "      <td>0.4</td>\n",
       "    </tr>\n",
       "  </tbody>\n",
       "</table>\n",
       "</div>"
      ],
      "text/plain": [
       "       mae        me     rmse  direction_accuracy\n",
       "0  6.73186 -5.106923  8.70973                 0.4"
      ]
     },
     "execution_count": 18,
     "metadata": {},
     "output_type": "execute_result"
    }
   ],
   "source": [
    "Prophet_wf"
   ]
  },
  {
   "cell_type": "code",
   "execution_count": 19,
   "metadata": {},
   "outputs": [
    {
     "name": "stdout",
     "output_type": "stream",
     "text": [
      "        mae        me       rmse  direction_accuracy                Model\n",
      "0  6.001718  0.529747   7.041768                 0.6         ARIMA_static\n",
      "0  8.096693 -0.622437   9.434213                 0.4   ARIMA_walk_forward\n",
      "0  6.853749 -1.460209   8.211187                 0.2  DecisionTree_static\n",
      "0  8.279632  2.798440  10.177761                 0.4    DecisionTree_roll\n",
      "0  7.835223  1.155846   9.811467                 0.6      DecisionTree_wf\n",
      "0  5.986011  0.718388   7.433007                 0.6  RandomForest_static\n",
      "0  6.588270  1.331207   8.613069                 0.6    RandomForest_roll\n",
      "0  7.165923  1.722831   8.955055                 0.6      RandomForest_wf\n",
      "0  5.661845 -0.011496   6.924746                 0.8           XGB_static\n",
      "0  6.500999  1.180559   8.362858                 0.6             XGB_roll\n",
      "0  6.264596  1.654419   7.940568                 0.6               XGB_wf\n",
      "0  9.261666 -8.743701  11.414295                 0.4       Prophet_static\n",
      "0  6.731860 -5.106923   8.709730                 0.4           Prophet_wf\n"
     ]
    }
   ],
   "source": [
    "# Add a new column to each dataframe to store the dataframe name\n",
    "ARIMA_static['Model'] = 'ARIMA_static'\n",
    "ARIMA_walk_forward['Model'] = 'ARIMA_walk_forward'\n",
    "DecisionTree_static['Model'] = 'DecisionTree_static'\n",
    "DecisionTree_roll['Model'] = 'DecisionTree_roll'\n",
    "DecisionTree_wf['Model'] = 'DecisionTree_wf'\n",
    "RandomForest_static['Model'] = 'RandomForest_static'\n",
    "RandomForest_roll['Model'] = 'RandomForest_roll'\n",
    "RandomForest_wf['Model'] = 'RandomForest_wf'\n",
    "XGB_static['Model'] = 'XGB_static'\n",
    "XGB_roll['Model'] = 'XGB_roll'\n",
    "XGB_wf['Model'] = 'XGB_wf'\n",
    "Prophet_static['Model'] = 'Prophet_static'\n",
    "Prophet_wf['Model'] = 'Prophet_wf'\n",
    "\n",
    "# Concatenate the dataframes vertically\n",
    "combined_df = pd.concat([ARIMA_static, ARIMA_walk_forward, DecisionTree_static, DecisionTree_roll, DecisionTree_wf, \n",
    "                         RandomForest_static, RandomForest_roll, RandomForest_wf, XGB_static, XGB_roll, XGB_wf, \n",
    "                         Prophet_static, Prophet_wf])\n",
    "\n",
    "# Display the combined dataframe\n",
    "print(combined_df)"
   ]
  },
  {
   "cell_type": "code",
   "execution_count": 20,
   "metadata": {},
   "outputs": [
    {
     "data": {
      "text/html": [
       "<div>\n",
       "<style scoped>\n",
       "    .dataframe tbody tr th:only-of-type {\n",
       "        vertical-align: middle;\n",
       "    }\n",
       "\n",
       "    .dataframe tbody tr th {\n",
       "        vertical-align: top;\n",
       "    }\n",
       "\n",
       "    .dataframe thead th {\n",
       "        text-align: right;\n",
       "    }\n",
       "</style>\n",
       "<table border=\"1\" class=\"dataframe\">\n",
       "  <thead>\n",
       "    <tr style=\"text-align: right;\">\n",
       "      <th></th>\n",
       "      <th>mae</th>\n",
       "      <th>me</th>\n",
       "      <th>rmse</th>\n",
       "      <th>direction_accuracy</th>\n",
       "      <th>Model</th>\n",
       "    </tr>\n",
       "  </thead>\n",
       "  <tbody>\n",
       "    <tr>\n",
       "      <th>0</th>\n",
       "      <td>5.661845</td>\n",
       "      <td>-0.011496</td>\n",
       "      <td>6.924746</td>\n",
       "      <td>0.8</td>\n",
       "      <td>XGB_static</td>\n",
       "    </tr>\n",
       "    <tr>\n",
       "      <th>0</th>\n",
       "      <td>6.001718</td>\n",
       "      <td>0.529747</td>\n",
       "      <td>7.041768</td>\n",
       "      <td>0.6</td>\n",
       "      <td>ARIMA_static</td>\n",
       "    </tr>\n",
       "    <tr>\n",
       "      <th>0</th>\n",
       "      <td>5.986011</td>\n",
       "      <td>0.718388</td>\n",
       "      <td>7.433007</td>\n",
       "      <td>0.6</td>\n",
       "      <td>RandomForest_static</td>\n",
       "    </tr>\n",
       "    <tr>\n",
       "      <th>0</th>\n",
       "      <td>6.264596</td>\n",
       "      <td>1.654419</td>\n",
       "      <td>7.940568</td>\n",
       "      <td>0.6</td>\n",
       "      <td>XGB_wf</td>\n",
       "    </tr>\n",
       "    <tr>\n",
       "      <th>0</th>\n",
       "      <td>6.853749</td>\n",
       "      <td>-1.460209</td>\n",
       "      <td>8.211187</td>\n",
       "      <td>0.2</td>\n",
       "      <td>DecisionTree_static</td>\n",
       "    </tr>\n",
       "    <tr>\n",
       "      <th>0</th>\n",
       "      <td>6.500999</td>\n",
       "      <td>1.180559</td>\n",
       "      <td>8.362858</td>\n",
       "      <td>0.6</td>\n",
       "      <td>XGB_roll</td>\n",
       "    </tr>\n",
       "    <tr>\n",
       "      <th>0</th>\n",
       "      <td>6.588270</td>\n",
       "      <td>1.331207</td>\n",
       "      <td>8.613069</td>\n",
       "      <td>0.6</td>\n",
       "      <td>RandomForest_roll</td>\n",
       "    </tr>\n",
       "    <tr>\n",
       "      <th>0</th>\n",
       "      <td>6.731860</td>\n",
       "      <td>-5.106923</td>\n",
       "      <td>8.709730</td>\n",
       "      <td>0.4</td>\n",
       "      <td>Prophet_wf</td>\n",
       "    </tr>\n",
       "    <tr>\n",
       "      <th>0</th>\n",
       "      <td>7.165923</td>\n",
       "      <td>1.722831</td>\n",
       "      <td>8.955055</td>\n",
       "      <td>0.6</td>\n",
       "      <td>RandomForest_wf</td>\n",
       "    </tr>\n",
       "    <tr>\n",
       "      <th>0</th>\n",
       "      <td>8.096693</td>\n",
       "      <td>-0.622437</td>\n",
       "      <td>9.434213</td>\n",
       "      <td>0.4</td>\n",
       "      <td>ARIMA_walk_forward</td>\n",
       "    </tr>\n",
       "    <tr>\n",
       "      <th>0</th>\n",
       "      <td>7.835223</td>\n",
       "      <td>1.155846</td>\n",
       "      <td>9.811467</td>\n",
       "      <td>0.6</td>\n",
       "      <td>DecisionTree_wf</td>\n",
       "    </tr>\n",
       "    <tr>\n",
       "      <th>0</th>\n",
       "      <td>8.279632</td>\n",
       "      <td>2.798440</td>\n",
       "      <td>10.177761</td>\n",
       "      <td>0.4</td>\n",
       "      <td>DecisionTree_roll</td>\n",
       "    </tr>\n",
       "    <tr>\n",
       "      <th>0</th>\n",
       "      <td>9.261666</td>\n",
       "      <td>-8.743701</td>\n",
       "      <td>11.414295</td>\n",
       "      <td>0.4</td>\n",
       "      <td>Prophet_static</td>\n",
       "    </tr>\n",
       "  </tbody>\n",
       "</table>\n",
       "</div>"
      ],
      "text/plain": [
       "        mae        me       rmse  direction_accuracy                Model\n",
       "0  5.661845 -0.011496   6.924746                 0.8           XGB_static\n",
       "0  6.001718  0.529747   7.041768                 0.6         ARIMA_static\n",
       "0  5.986011  0.718388   7.433007                 0.6  RandomForest_static\n",
       "0  6.264596  1.654419   7.940568                 0.6               XGB_wf\n",
       "0  6.853749 -1.460209   8.211187                 0.2  DecisionTree_static\n",
       "0  6.500999  1.180559   8.362858                 0.6             XGB_roll\n",
       "0  6.588270  1.331207   8.613069                 0.6    RandomForest_roll\n",
       "0  6.731860 -5.106923   8.709730                 0.4           Prophet_wf\n",
       "0  7.165923  1.722831   8.955055                 0.6      RandomForest_wf\n",
       "0  8.096693 -0.622437   9.434213                 0.4   ARIMA_walk_forward\n",
       "0  7.835223  1.155846   9.811467                 0.6      DecisionTree_wf\n",
       "0  8.279632  2.798440  10.177761                 0.4    DecisionTree_roll\n",
       "0  9.261666 -8.743701  11.414295                 0.4       Prophet_static"
      ]
     },
     "execution_count": 20,
     "metadata": {},
     "output_type": "execute_result"
    }
   ],
   "source": [
    "combined_df.sort_values(by='rmse')"
   ]
  },
  {
   "cell_type": "code",
   "execution_count": 28,
   "metadata": {},
   "outputs": [
    {
     "data": {
      "text/html": [
       "<div>\n",
       "<style scoped>\n",
       "    .dataframe tbody tr th:only-of-type {\n",
       "        vertical-align: middle;\n",
       "    }\n",
       "\n",
       "    .dataframe tbody tr th {\n",
       "        vertical-align: top;\n",
       "    }\n",
       "\n",
       "    .dataframe thead th {\n",
       "        text-align: right;\n",
       "    }\n",
       "</style>\n",
       "<table border=\"1\" class=\"dataframe\">\n",
       "  <thead>\n",
       "    <tr style=\"text-align: right;\">\n",
       "      <th></th>\n",
       "      <th>mae</th>\n",
       "      <th>me</th>\n",
       "      <th>rmse</th>\n",
       "      <th>direction_accuracy</th>\n",
       "      <th>Model</th>\n",
       "    </tr>\n",
       "  </thead>\n",
       "  <tbody>\n",
       "    <tr>\n",
       "      <th>8</th>\n",
       "      <td>5.661845</td>\n",
       "      <td>-0.011496</td>\n",
       "      <td>6.924746</td>\n",
       "      <td>0.8</td>\n",
       "      <td>XGB_static</td>\n",
       "    </tr>\n",
       "    <tr>\n",
       "      <th>0</th>\n",
       "      <td>6.001718</td>\n",
       "      <td>0.529747</td>\n",
       "      <td>7.041768</td>\n",
       "      <td>0.6</td>\n",
       "      <td>ARIMA_static</td>\n",
       "    </tr>\n",
       "    <tr>\n",
       "      <th>4</th>\n",
       "      <td>7.835223</td>\n",
       "      <td>1.155846</td>\n",
       "      <td>9.811467</td>\n",
       "      <td>0.6</td>\n",
       "      <td>DecisionTree_wf</td>\n",
       "    </tr>\n",
       "    <tr>\n",
       "      <th>5</th>\n",
       "      <td>5.986011</td>\n",
       "      <td>0.718388</td>\n",
       "      <td>7.433007</td>\n",
       "      <td>0.6</td>\n",
       "      <td>RandomForest_static</td>\n",
       "    </tr>\n",
       "    <tr>\n",
       "      <th>6</th>\n",
       "      <td>6.588270</td>\n",
       "      <td>1.331207</td>\n",
       "      <td>8.613069</td>\n",
       "      <td>0.6</td>\n",
       "      <td>RandomForest_roll</td>\n",
       "    </tr>\n",
       "    <tr>\n",
       "      <th>7</th>\n",
       "      <td>7.165923</td>\n",
       "      <td>1.722831</td>\n",
       "      <td>8.955055</td>\n",
       "      <td>0.6</td>\n",
       "      <td>RandomForest_wf</td>\n",
       "    </tr>\n",
       "    <tr>\n",
       "      <th>9</th>\n",
       "      <td>6.500999</td>\n",
       "      <td>1.180559</td>\n",
       "      <td>8.362858</td>\n",
       "      <td>0.6</td>\n",
       "      <td>XGB_roll</td>\n",
       "    </tr>\n",
       "    <tr>\n",
       "      <th>10</th>\n",
       "      <td>6.264596</td>\n",
       "      <td>1.654419</td>\n",
       "      <td>7.940568</td>\n",
       "      <td>0.6</td>\n",
       "      <td>XGB_wf</td>\n",
       "    </tr>\n",
       "    <tr>\n",
       "      <th>1</th>\n",
       "      <td>8.096693</td>\n",
       "      <td>-0.622437</td>\n",
       "      <td>9.434213</td>\n",
       "      <td>0.4</td>\n",
       "      <td>ARIMA_walk_forward</td>\n",
       "    </tr>\n",
       "    <tr>\n",
       "      <th>3</th>\n",
       "      <td>8.279632</td>\n",
       "      <td>2.798440</td>\n",
       "      <td>10.177761</td>\n",
       "      <td>0.4</td>\n",
       "      <td>DecisionTree_roll</td>\n",
       "    </tr>\n",
       "    <tr>\n",
       "      <th>11</th>\n",
       "      <td>9.261666</td>\n",
       "      <td>-8.743701</td>\n",
       "      <td>11.414295</td>\n",
       "      <td>0.4</td>\n",
       "      <td>Prophet_static</td>\n",
       "    </tr>\n",
       "    <tr>\n",
       "      <th>12</th>\n",
       "      <td>6.731860</td>\n",
       "      <td>-5.106923</td>\n",
       "      <td>8.709730</td>\n",
       "      <td>0.4</td>\n",
       "      <td>Prophet_wf</td>\n",
       "    </tr>\n",
       "    <tr>\n",
       "      <th>2</th>\n",
       "      <td>6.853749</td>\n",
       "      <td>-1.460209</td>\n",
       "      <td>8.211187</td>\n",
       "      <td>0.2</td>\n",
       "      <td>DecisionTree_static</td>\n",
       "    </tr>\n",
       "  </tbody>\n",
       "</table>\n",
       "</div>"
      ],
      "text/plain": [
       "         mae        me       rmse  direction_accuracy                Model\n",
       "8   5.661845 -0.011496   6.924746                 0.8           XGB_static\n",
       "0   6.001718  0.529747   7.041768                 0.6         ARIMA_static\n",
       "4   7.835223  1.155846   9.811467                 0.6      DecisionTree_wf\n",
       "5   5.986011  0.718388   7.433007                 0.6  RandomForest_static\n",
       "6   6.588270  1.331207   8.613069                 0.6    RandomForest_roll\n",
       "7   7.165923  1.722831   8.955055                 0.6      RandomForest_wf\n",
       "9   6.500999  1.180559   8.362858                 0.6             XGB_roll\n",
       "10  6.264596  1.654419   7.940568                 0.6               XGB_wf\n",
       "1   8.096693 -0.622437   9.434213                 0.4   ARIMA_walk_forward\n",
       "3   8.279632  2.798440  10.177761                 0.4    DecisionTree_roll\n",
       "11  9.261666 -8.743701  11.414295                 0.4       Prophet_static\n",
       "12  6.731860 -5.106923   8.709730                 0.4           Prophet_wf\n",
       "2   6.853749 -1.460209   8.211187                 0.2  DecisionTree_static"
      ]
     },
     "execution_count": 28,
     "metadata": {},
     "output_type": "execute_result"
    }
   ],
   "source": [
    "combined_df.sort_values(by='direction_accuracy',ascending=False)"
   ]
  },
  {
   "cell_type": "code",
   "execution_count": 23,
   "metadata": {},
   "outputs": [
    {
     "data": {
      "image/png": "[encoded data removed]",
      "text/plain": [
       "<Figure size 1200x600 with 1 Axes>"
      ]
     },
     "metadata": {},
     "output_type": "display_data"
    },
    {
     "data": {
      "image/png": "[encoded data removed]",
      "text/plain": [
       "<Figure size 640x480 with 1 Axes>"
      ]
     },
     "metadata": {},
     "output_type": "display_data"
    },
    {
     "data": {
      "image/png": "[encoded data removed]",
      "text/plain": [
       "<Figure size 640x480 with 1 Axes>"
      ]
     },
     "metadata": {},
     "output_type": "display_data"
    },
    {
     "data": {
      "image/png": "[encoded data removed]",
      "text/plain": [
       "<Figure size 640x480 with 1 Axes>"
      ]
     },
     "metadata": {},
     "output_type": "display_data"
    }
   ],
   "source": [
    "import seaborn as sns\n",
    "import matplotlib.pyplot as plt\n",
    "\n",
    "# Set the style\n",
    "sns.set_style(\"whitegrid\")\n",
    "\n",
    "# Plot\n",
    "plt.figure(figsize=(12, 6))\n",
    "\n",
    "# Loop through each metric\n",
    "for metric in ['mae', 'me', 'rmse', 'direction_accuracy']:\n",
    "    # Plot the metric for each model\n",
    "    sns.barplot(data=combined_df, x=metric, y='Model')\n",
    "    plt.title(f'{metric} Across Models')\n",
    "    plt.xlabel(metric)\n",
    "    plt.ylabel('Model')\n",
    "    # plt.xticks(rotation=45)  # Rotate x-axis labels for better readability\n",
    "    plt.show()  # Show each plot separately\n",
    "\n",
    "\n"
   ]
  },
  {
   "cell_type": "markdown",
   "metadata": {},
   "source": [
    "Based on these results, we see that: \n",
    "\n",
    "- The errors MAE, ME and RMSE tends to be lowest for the static procedures (such as those with XGBoost, ARIMA and RandomForest)\n",
    "- Direction accuracy is highest for XGBoost with the static forecast but other decision tree-based models that use static, rolling and walk forward also seems to be useful.\n",
    "\n",
    "More analysis to follow..."
   ]
  }
 ],
 "metadata": {
  "kernelspec": {
   "display_name": "Python 3",
   "language": "python",
   "name": "python3"
  },
  "language_info": {
   "codemirror_mode": {
    "name": "ipython",
    "version": 3
   },
   "file_extension": ".py",
   "mimetype": "text/x-python",
   "name": "python",
   "nbconvert_exporter": "python",
   "pygments_lexer": "ipython3",
   "version": "3.11.2"
  }
 },
 "nbformat": 4,
 "nbformat_minor": 2
}
