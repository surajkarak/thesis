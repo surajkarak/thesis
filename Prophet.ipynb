{
 "cells": [
  {
   "cell_type": "code",
   "execution_count": 1,
   "metadata": {},
   "outputs": [],
   "source": [
    "#Importing libraries\n",
    "import warnings\n",
    "warnings.simplefilter(action='ignore', category=FutureWarning)\n",
    "import numpy as np\n",
    "import pandas as pd\n",
    "from numpy import asarray\n",
    "from sklearn.metrics import mean_absolute_error\n",
    "import matplotlib.pyplot as plt\n",
    "import seaborn as sns\n",
    "import matplotlib.pyplot as plt\n",
    "import plotly.express as px\n",
    "import plotly.graph_objects as go\n",
    "from plotly.subplots import make_subplots\n",
    "import datetime\n",
    "from statsmodels.tsa.tsatools import lagmat\n",
    "from statsmodels.tsa.arima.model import ARIMA"
   ]
  },
  {
   "attachments": {},
   "cell_type": "markdown",
   "metadata": {},
   "source": [
    "# Data Import and Cleaning"
   ]
  },
  {
   "cell_type": "code",
   "execution_count": 2,
   "metadata": {},
   "outputs": [],
   "source": [
    "df = pd.read_excel(\"/Users/surajkwork/Documents/Thesis/thesis/df.xlsx\")"
   ]
  },
  {
   "attachments": {},
   "cell_type": "markdown",
   "metadata": {},
   "source": [
    "The date variable is not in datetime format so it has to be converted."
   ]
  },
  {
   "cell_type": "code",
   "execution_count": 3,
   "metadata": {},
   "outputs": [],
   "source": [
    "df['date']= pd.to_datetime(df['date'])\n",
    "df.index = df['date']\n",
    "df.sort_index(inplace=True)"
   ]
  },
  {
   "attachments": {},
   "cell_type": "markdown",
   "metadata": {},
   "source": [
    "Extracting one cluster from the dataset for analysis."
   ]
  },
  {
   "cell_type": "code",
   "execution_count": 4,
   "metadata": {},
   "outputs": [],
   "source": [
    "TS1 = df[(df['Plz'] == \"['25', '24']\")]"
   ]
  },
  {
   "attachments": {},
   "cell_type": "markdown",
   "metadata": {},
   "source": [
    "And from this cluster, extracting one category for analysis."
   ]
  },
  {
   "cell_type": "code",
   "execution_count": 5,
   "metadata": {},
   "outputs": [],
   "source": [
    "TS1_A2 = TS1[TS1['full'] == 'A2 -  geschreddert']"
   ]
  },
  {
   "cell_type": "code",
   "execution_count": 6,
   "metadata": {},
   "outputs": [],
   "source": [
    "TS1_A1A2 = TS1[TS1['full'] == 'A1 & A2 -  geschreddert']\n",
    "TS1_A2A3 = TS1[TS1['full'] == 'A2 & A3 -  geschreddert']"
   ]
  },
  {
   "cell_type": "code",
   "execution_count": 7,
   "metadata": {},
   "outputs": [],
   "source": [
    "datasets = [TS1_A2, TS1_A1A2, TS1_A2A3]"
   ]
  },
  {
   "attachments": {},
   "cell_type": "markdown",
   "metadata": {},
   "source": [
    "# Modelling - Train, test split"
   ]
  },
  {
   "cell_type": "code",
   "execution_count": 8,
   "metadata": {},
   "outputs": [],
   "source": [
    "nobs = 6\n",
    "df_train, df_test = TS1_A1A2[0:-nobs], TS1_A1A2[-nobs:]"
   ]
  },
  {
   "cell_type": "code",
   "execution_count": 9,
   "metadata": {},
   "outputs": [
    {
     "data": {
      "text/html": [
       "<div>\n",
       "<style scoped>\n",
       "    .dataframe tbody tr th:only-of-type {\n",
       "        vertical-align: middle;\n",
       "    }\n",
       "\n",
       "    .dataframe tbody tr th {\n",
       "        vertical-align: top;\n",
       "    }\n",
       "\n",
       "    .dataframe thead th {\n",
       "        text-align: right;\n",
       "    }\n",
       "</style>\n",
       "<table border=\"1\" class=\"dataframe\">\n",
       "  <thead>\n",
       "    <tr style=\"text-align: right;\">\n",
       "      <th></th>\n",
       "      <th>week</th>\n",
       "      <th>wPreis</th>\n",
       "      <th>Plz</th>\n",
       "      <th>full</th>\n",
       "      <th>date</th>\n",
       "    </tr>\n",
       "    <tr>\n",
       "      <th>date</th>\n",
       "      <th></th>\n",
       "      <th></th>\n",
       "      <th></th>\n",
       "      <th></th>\n",
       "      <th></th>\n",
       "    </tr>\n",
       "  </thead>\n",
       "  <tbody>\n",
       "    <tr>\n",
       "      <th>2020-09-14</th>\n",
       "      <td>2020-37</td>\n",
       "      <td>-37.519318</td>\n",
       "      <td>['25', '24']</td>\n",
       "      <td>A1 &amp; A2 -  geschreddert</td>\n",
       "      <td>2020-09-14</td>\n",
       "    </tr>\n",
       "    <tr>\n",
       "      <th>2020-09-28</th>\n",
       "      <td>2020-39</td>\n",
       "      <td>-28.690096</td>\n",
       "      <td>['25', '24']</td>\n",
       "      <td>A1 &amp; A2 -  geschreddert</td>\n",
       "      <td>2020-09-28</td>\n",
       "    </tr>\n",
       "    <tr>\n",
       "      <th>2020-10-12</th>\n",
       "      <td>2020-41</td>\n",
       "      <td>-29.688079</td>\n",
       "      <td>['25', '24']</td>\n",
       "      <td>A1 &amp; A2 -  geschreddert</td>\n",
       "      <td>2020-10-12</td>\n",
       "    </tr>\n",
       "    <tr>\n",
       "      <th>2020-10-19</th>\n",
       "      <td>2020-42</td>\n",
       "      <td>-25.630433</td>\n",
       "      <td>['25', '24']</td>\n",
       "      <td>A1 &amp; A2 -  geschreddert</td>\n",
       "      <td>2020-10-19</td>\n",
       "    </tr>\n",
       "    <tr>\n",
       "      <th>2020-10-26</th>\n",
       "      <td>2020-43</td>\n",
       "      <td>-29.073794</td>\n",
       "      <td>['25', '24']</td>\n",
       "      <td>A1 &amp; A2 -  geschreddert</td>\n",
       "      <td>2020-10-26</td>\n",
       "    </tr>\n",
       "    <tr>\n",
       "      <th>...</th>\n",
       "      <td>...</td>\n",
       "      <td>...</td>\n",
       "      <td>...</td>\n",
       "      <td>...</td>\n",
       "      <td>...</td>\n",
       "    </tr>\n",
       "    <tr>\n",
       "      <th>2023-06-26</th>\n",
       "      <td>2023-26</td>\n",
       "      <td>22.501691</td>\n",
       "      <td>['25', '24']</td>\n",
       "      <td>A1 &amp; A2 -  geschreddert</td>\n",
       "      <td>2023-06-26</td>\n",
       "    </tr>\n",
       "    <tr>\n",
       "      <th>2023-07-03</th>\n",
       "      <td>2023-27</td>\n",
       "      <td>18.514178</td>\n",
       "      <td>['25', '24']</td>\n",
       "      <td>A1 &amp; A2 -  geschreddert</td>\n",
       "      <td>2023-07-03</td>\n",
       "    </tr>\n",
       "    <tr>\n",
       "      <th>2023-07-10</th>\n",
       "      <td>2023-28</td>\n",
       "      <td>28.985554</td>\n",
       "      <td>['25', '24']</td>\n",
       "      <td>A1 &amp; A2 -  geschreddert</td>\n",
       "      <td>2023-07-10</td>\n",
       "    </tr>\n",
       "    <tr>\n",
       "      <th>2023-07-17</th>\n",
       "      <td>2023-29</td>\n",
       "      <td>16.847234</td>\n",
       "      <td>['25', '24']</td>\n",
       "      <td>A1 &amp; A2 -  geschreddert</td>\n",
       "      <td>2023-07-17</td>\n",
       "    </tr>\n",
       "    <tr>\n",
       "      <th>2023-07-24</th>\n",
       "      <td>2023-30</td>\n",
       "      <td>4.063304</td>\n",
       "      <td>['25', '24']</td>\n",
       "      <td>A1 &amp; A2 -  geschreddert</td>\n",
       "      <td>2023-07-24</td>\n",
       "    </tr>\n",
       "  </tbody>\n",
       "</table>\n",
       "<p>148 rows × 5 columns</p>\n",
       "</div>"
      ],
      "text/plain": [
       "               week     wPreis           Plz                     full  \\\n",
       "date                                                                    \n",
       "2020-09-14  2020-37 -37.519318  ['25', '24']  A1 & A2 -  geschreddert   \n",
       "2020-09-28  2020-39 -28.690096  ['25', '24']  A1 & A2 -  geschreddert   \n",
       "2020-10-12  2020-41 -29.688079  ['25', '24']  A1 & A2 -  geschreddert   \n",
       "2020-10-19  2020-42 -25.630433  ['25', '24']  A1 & A2 -  geschreddert   \n",
       "2020-10-26  2020-43 -29.073794  ['25', '24']  A1 & A2 -  geschreddert   \n",
       "...             ...        ...           ...                      ...   \n",
       "2023-06-26  2023-26  22.501691  ['25', '24']  A1 & A2 -  geschreddert   \n",
       "2023-07-03  2023-27  18.514178  ['25', '24']  A1 & A2 -  geschreddert   \n",
       "2023-07-10  2023-28  28.985554  ['25', '24']  A1 & A2 -  geschreddert   \n",
       "2023-07-17  2023-29  16.847234  ['25', '24']  A1 & A2 -  geschreddert   \n",
       "2023-07-24  2023-30   4.063304  ['25', '24']  A1 & A2 -  geschreddert   \n",
       "\n",
       "                 date  \n",
       "date                   \n",
       "2020-09-14 2020-09-14  \n",
       "2020-09-28 2020-09-28  \n",
       "2020-10-12 2020-10-12  \n",
       "2020-10-19 2020-10-19  \n",
       "2020-10-26 2020-10-26  \n",
       "...               ...  \n",
       "2023-06-26 2023-06-26  \n",
       "2023-07-03 2023-07-03  \n",
       "2023-07-10 2023-07-10  \n",
       "2023-07-17 2023-07-17  \n",
       "2023-07-24 2023-07-24  \n",
       "\n",
       "[148 rows x 5 columns]"
      ]
     },
     "execution_count": 9,
     "metadata": {},
     "output_type": "execute_result"
    }
   ],
   "source": [
    "df_train"
   ]
  },
  {
   "cell_type": "code",
   "execution_count": 10,
   "metadata": {},
   "outputs": [
    {
     "data": {
      "text/html": [
       "<div>\n",
       "<style scoped>\n",
       "    .dataframe tbody tr th:only-of-type {\n",
       "        vertical-align: middle;\n",
       "    }\n",
       "\n",
       "    .dataframe tbody tr th {\n",
       "        vertical-align: top;\n",
       "    }\n",
       "\n",
       "    .dataframe thead th {\n",
       "        text-align: right;\n",
       "    }\n",
       "</style>\n",
       "<table border=\"1\" class=\"dataframe\">\n",
       "  <thead>\n",
       "    <tr style=\"text-align: right;\">\n",
       "      <th></th>\n",
       "      <th>week</th>\n",
       "      <th>wPreis</th>\n",
       "      <th>Plz</th>\n",
       "      <th>full</th>\n",
       "      <th>date</th>\n",
       "    </tr>\n",
       "    <tr>\n",
       "      <th>date</th>\n",
       "      <th></th>\n",
       "      <th></th>\n",
       "      <th></th>\n",
       "      <th></th>\n",
       "      <th></th>\n",
       "    </tr>\n",
       "  </thead>\n",
       "  <tbody>\n",
       "    <tr>\n",
       "      <th>2023-07-31</th>\n",
       "      <td>2023-31</td>\n",
       "      <td>7.458214</td>\n",
       "      <td>['25', '24']</td>\n",
       "      <td>A1 &amp; A2 -  geschreddert</td>\n",
       "      <td>2023-07-31</td>\n",
       "    </tr>\n",
       "    <tr>\n",
       "      <th>2023-08-07</th>\n",
       "      <td>2023-32</td>\n",
       "      <td>7.832750</td>\n",
       "      <td>['25', '24']</td>\n",
       "      <td>A1 &amp; A2 -  geschreddert</td>\n",
       "      <td>2023-08-07</td>\n",
       "    </tr>\n",
       "    <tr>\n",
       "      <th>2023-08-14</th>\n",
       "      <td>2023-33</td>\n",
       "      <td>3.525113</td>\n",
       "      <td>['25', '24']</td>\n",
       "      <td>A1 &amp; A2 -  geschreddert</td>\n",
       "      <td>2023-08-14</td>\n",
       "    </tr>\n",
       "    <tr>\n",
       "      <th>2023-08-21</th>\n",
       "      <td>2023-34</td>\n",
       "      <td>3.896402</td>\n",
       "      <td>['25', '24']</td>\n",
       "      <td>A1 &amp; A2 -  geschreddert</td>\n",
       "      <td>2023-08-21</td>\n",
       "    </tr>\n",
       "    <tr>\n",
       "      <th>2023-08-28</th>\n",
       "      <td>2023-35</td>\n",
       "      <td>6.754483</td>\n",
       "      <td>['25', '24']</td>\n",
       "      <td>A1 &amp; A2 -  geschreddert</td>\n",
       "      <td>2023-08-28</td>\n",
       "    </tr>\n",
       "    <tr>\n",
       "      <th>2023-09-04</th>\n",
       "      <td>2023-36</td>\n",
       "      <td>2.053265</td>\n",
       "      <td>['25', '24']</td>\n",
       "      <td>A1 &amp; A2 -  geschreddert</td>\n",
       "      <td>2023-09-04</td>\n",
       "    </tr>\n",
       "  </tbody>\n",
       "</table>\n",
       "</div>"
      ],
      "text/plain": [
       "               week    wPreis           Plz                     full  \\\n",
       "date                                                                   \n",
       "2023-07-31  2023-31  7.458214  ['25', '24']  A1 & A2 -  geschreddert   \n",
       "2023-08-07  2023-32  7.832750  ['25', '24']  A1 & A2 -  geschreddert   \n",
       "2023-08-14  2023-33  3.525113  ['25', '24']  A1 & A2 -  geschreddert   \n",
       "2023-08-21  2023-34  3.896402  ['25', '24']  A1 & A2 -  geschreddert   \n",
       "2023-08-28  2023-35  6.754483  ['25', '24']  A1 & A2 -  geschreddert   \n",
       "2023-09-04  2023-36  2.053265  ['25', '24']  A1 & A2 -  geschreddert   \n",
       "\n",
       "                 date  \n",
       "date                   \n",
       "2023-07-31 2023-07-31  \n",
       "2023-08-07 2023-08-07  \n",
       "2023-08-14 2023-08-14  \n",
       "2023-08-21 2023-08-21  \n",
       "2023-08-28 2023-08-28  \n",
       "2023-09-04 2023-09-04  "
      ]
     },
     "execution_count": 10,
     "metadata": {},
     "output_type": "execute_result"
    }
   ],
   "source": [
    "df_test"
   ]
  },
  {
   "attachments": {},
   "cell_type": "markdown",
   "metadata": {},
   "source": [
    "## Prophet"
   ]
  },
  {
   "cell_type": "code",
   "execution_count": 11,
   "metadata": {},
   "outputs": [],
   "source": [
    "import prophet"
   ]
  },
  {
   "cell_type": "code",
   "execution_count": 12,
   "metadata": {},
   "outputs": [],
   "source": [
    "from prophet import Prophet"
   ]
  },
  {
   "attachments": {},
   "cell_type": "markdown",
   "metadata": {},
   "source": [
    "Prophet model expects the dataset to be named a specific way. We will rename our dataframe columns before feeding it into the model.\n",
    "- Datetime column named: ds\n",
    "- target : y"
   ]
  },
  {
   "cell_type": "code",
   "execution_count": 13,
   "metadata": {},
   "outputs": [],
   "source": [
    "#pjme_train_prophet = df_train.reset_index() \n",
    "pjme_train_prophet = df_train.rename(columns={'date':'ds',\n",
    "                     'wPreis':'y'})\n",
    "pjme_train_prophet = pjme_train_prophet[['ds', 'y']]"
   ]
  },
  {
   "cell_type": "code",
   "execution_count": 46,
   "metadata": {},
   "outputs": [
    {
     "data": {
      "text/plain": [
       "(148, 2)"
      ]
     },
     "execution_count": 46,
     "metadata": {},
     "output_type": "execute_result"
    }
   ],
   "source": [
    "pjme_train_prophet.shape"
   ]
  },
  {
   "cell_type": "code",
   "execution_count": 76,
   "metadata": {},
   "outputs": [],
   "source": [
    "model = Prophet()\n"
   ]
  },
  {
   "cell_type": "code",
   "execution_count": 77,
   "metadata": {},
   "outputs": [
    {
     "name": "stderr",
     "output_type": "stream",
     "text": [
      "13:26:48 - cmdstanpy - INFO - Chain [1] start processing\n",
      "13:26:48 - cmdstanpy - INFO - Chain [1] done processing\n"
     ]
    },
    {
     "data": {
      "text/plain": [
       "<prophet.forecaster.Prophet at 0x306ee0d90>"
      ]
     },
     "execution_count": 77,
     "metadata": {},
     "output_type": "execute_result"
    }
   ],
   "source": [
    "model.fit(pjme_train_prophet)"
   ]
  },
  {
   "cell_type": "code",
   "execution_count": 17,
   "metadata": {},
   "outputs": [],
   "source": [
    "#pjme_train_prophet = df_train.reset_index() \n",
    "pjme_test_prophet = df_test.rename(columns={'date':'ds',\n",
    "                     'wPreis':'y'})\n",
    "\n",
    "pjme_test_prophet = pjme_test_prophet[['ds', 'y']]"
   ]
  },
  {
   "cell_type": "code",
   "execution_count": 48,
   "metadata": {},
   "outputs": [
    {
     "data": {
      "text/plain": [
       "(6, 2)"
      ]
     },
     "execution_count": 48,
     "metadata": {},
     "output_type": "execute_result"
    }
   ],
   "source": [
    "pjme_test_prophet.shape"
   ]
  },
  {
   "attachments": {},
   "cell_type": "markdown",
   "metadata": {},
   "source": [
    "Prophet does a static prediction by default. \n",
    "There does not seem to be an option to do a rolling window as the model simply outputs the predictions for the number of steps specified after taking in a set input.\n",
    "\n",
    "So that leaves only walk-forward validation as the only option to compare.\n",
    "In this, we can train the prophet model to predict just one step ahead and retrain at every step using the appended new observation. "
   ]
  },
  {
   "cell_type": "code",
   "execution_count": 78,
   "metadata": {},
   "outputs": [],
   "source": [
    "future = model.make_future_dataframe(periods=6, freq='W-MON')\n"
   ]
  },
  {
   "cell_type": "code",
   "execution_count": 79,
   "metadata": {},
   "outputs": [
    {
     "data": {
      "text/html": [
       "<div>\n",
       "<style scoped>\n",
       "    .dataframe tbody tr th:only-of-type {\n",
       "        vertical-align: middle;\n",
       "    }\n",
       "\n",
       "    .dataframe tbody tr th {\n",
       "        vertical-align: top;\n",
       "    }\n",
       "\n",
       "    .dataframe thead th {\n",
       "        text-align: right;\n",
       "    }\n",
       "</style>\n",
       "<table border=\"1\" class=\"dataframe\">\n",
       "  <thead>\n",
       "    <tr style=\"text-align: right;\">\n",
       "      <th></th>\n",
       "      <th>ds</th>\n",
       "    </tr>\n",
       "  </thead>\n",
       "  <tbody>\n",
       "    <tr>\n",
       "      <th>0</th>\n",
       "      <td>2020-09-14</td>\n",
       "    </tr>\n",
       "    <tr>\n",
       "      <th>1</th>\n",
       "      <td>2020-09-28</td>\n",
       "    </tr>\n",
       "    <tr>\n",
       "      <th>2</th>\n",
       "      <td>2020-10-12</td>\n",
       "    </tr>\n",
       "    <tr>\n",
       "      <th>3</th>\n",
       "      <td>2020-10-19</td>\n",
       "    </tr>\n",
       "    <tr>\n",
       "      <th>4</th>\n",
       "      <td>2020-10-26</td>\n",
       "    </tr>\n",
       "    <tr>\n",
       "      <th>...</th>\n",
       "      <td>...</td>\n",
       "    </tr>\n",
       "    <tr>\n",
       "      <th>148</th>\n",
       "      <td>2023-08-07</td>\n",
       "    </tr>\n",
       "    <tr>\n",
       "      <th>149</th>\n",
       "      <td>2023-08-14</td>\n",
       "    </tr>\n",
       "    <tr>\n",
       "      <th>150</th>\n",
       "      <td>2023-08-21</td>\n",
       "    </tr>\n",
       "    <tr>\n",
       "      <th>151</th>\n",
       "      <td>2023-08-28</td>\n",
       "    </tr>\n",
       "    <tr>\n",
       "      <th>152</th>\n",
       "      <td>2023-09-04</td>\n",
       "    </tr>\n",
       "  </tbody>\n",
       "</table>\n",
       "<p>153 rows × 1 columns</p>\n",
       "</div>"
      ],
      "text/plain": [
       "            ds\n",
       "0   2020-09-14\n",
       "1   2020-09-28\n",
       "2   2020-10-12\n",
       "3   2020-10-19\n",
       "4   2020-10-26\n",
       "..         ...\n",
       "148 2023-08-07\n",
       "149 2023-08-14\n",
       "150 2023-08-21\n",
       "151 2023-08-28\n",
       "152 2023-09-04\n",
       "\n",
       "[153 rows x 1 columns]"
      ]
     },
     "execution_count": 79,
     "metadata": {},
     "output_type": "execute_result"
    }
   ],
   "source": [
    "future"
   ]
  },
  {
   "cell_type": "code",
   "execution_count": 56,
   "metadata": {},
   "outputs": [
    {
     "data": {
      "text/plain": [
       "(154, 1)"
      ]
     },
     "execution_count": 56,
     "metadata": {},
     "output_type": "execute_result"
    }
   ],
   "source": [
    "future.shape"
   ]
  },
  {
   "cell_type": "code",
   "execution_count": 57,
   "metadata": {},
   "outputs": [
    {
     "data": {
      "text/html": [
       "<div>\n",
       "<style scoped>\n",
       "    .dataframe tbody tr th:only-of-type {\n",
       "        vertical-align: middle;\n",
       "    }\n",
       "\n",
       "    .dataframe tbody tr th {\n",
       "        vertical-align: top;\n",
       "    }\n",
       "\n",
       "    .dataframe thead th {\n",
       "        text-align: right;\n",
       "    }\n",
       "</style>\n",
       "<table border=\"1\" class=\"dataframe\">\n",
       "  <thead>\n",
       "    <tr style=\"text-align: right;\">\n",
       "      <th></th>\n",
       "      <th>ds</th>\n",
       "      <th>trend</th>\n",
       "      <th>yhat_lower</th>\n",
       "      <th>yhat_upper</th>\n",
       "      <th>trend_lower</th>\n",
       "      <th>trend_upper</th>\n",
       "      <th>additive_terms</th>\n",
       "      <th>additive_terms_lower</th>\n",
       "      <th>additive_terms_upper</th>\n",
       "      <th>yearly</th>\n",
       "      <th>yearly_lower</th>\n",
       "      <th>yearly_upper</th>\n",
       "      <th>multiplicative_terms</th>\n",
       "      <th>multiplicative_terms_lower</th>\n",
       "      <th>multiplicative_terms_upper</th>\n",
       "      <th>yhat</th>\n",
       "    </tr>\n",
       "  </thead>\n",
       "  <tbody>\n",
       "    <tr>\n",
       "      <th>0</th>\n",
       "      <td>2020-09-14</td>\n",
       "      <td>-43.407511</td>\n",
       "      <td>-54.852918</td>\n",
       "      <td>-23.144772</td>\n",
       "      <td>-43.407511</td>\n",
       "      <td>-43.407511</td>\n",
       "      <td>4.500807</td>\n",
       "      <td>4.500807</td>\n",
       "      <td>4.500807</td>\n",
       "      <td>4.500807</td>\n",
       "      <td>4.500807</td>\n",
       "      <td>4.500807</td>\n",
       "      <td>0.0</td>\n",
       "      <td>0.0</td>\n",
       "      <td>0.0</td>\n",
       "      <td>-38.906704</td>\n",
       "    </tr>\n",
       "    <tr>\n",
       "      <th>1</th>\n",
       "      <td>2020-09-28</td>\n",
       "      <td>-41.998320</td>\n",
       "      <td>-53.517017</td>\n",
       "      <td>-20.663914</td>\n",
       "      <td>-41.998320</td>\n",
       "      <td>-41.998320</td>\n",
       "      <td>5.388606</td>\n",
       "      <td>5.388606</td>\n",
       "      <td>5.388606</td>\n",
       "      <td>5.388606</td>\n",
       "      <td>5.388606</td>\n",
       "      <td>5.388606</td>\n",
       "      <td>0.0</td>\n",
       "      <td>0.0</td>\n",
       "      <td>0.0</td>\n",
       "      <td>-36.609714</td>\n",
       "    </tr>\n",
       "    <tr>\n",
       "      <th>2</th>\n",
       "      <td>2020-10-12</td>\n",
       "      <td>-40.589129</td>\n",
       "      <td>-50.430226</td>\n",
       "      <td>-18.916438</td>\n",
       "      <td>-40.589129</td>\n",
       "      <td>-40.589129</td>\n",
       "      <td>5.701258</td>\n",
       "      <td>5.701258</td>\n",
       "      <td>5.701258</td>\n",
       "      <td>5.701258</td>\n",
       "      <td>5.701258</td>\n",
       "      <td>5.701258</td>\n",
       "      <td>0.0</td>\n",
       "      <td>0.0</td>\n",
       "      <td>0.0</td>\n",
       "      <td>-34.887871</td>\n",
       "    </tr>\n",
       "    <tr>\n",
       "      <th>3</th>\n",
       "      <td>2020-10-19</td>\n",
       "      <td>-39.884534</td>\n",
       "      <td>-50.367936</td>\n",
       "      <td>-18.115432</td>\n",
       "      <td>-39.884534</td>\n",
       "      <td>-39.884534</td>\n",
       "      <td>5.689639</td>\n",
       "      <td>5.689639</td>\n",
       "      <td>5.689639</td>\n",
       "      <td>5.689639</td>\n",
       "      <td>5.689639</td>\n",
       "      <td>5.689639</td>\n",
       "      <td>0.0</td>\n",
       "      <td>0.0</td>\n",
       "      <td>0.0</td>\n",
       "      <td>-34.194895</td>\n",
       "    </tr>\n",
       "    <tr>\n",
       "      <th>4</th>\n",
       "      <td>2020-10-26</td>\n",
       "      <td>-39.179938</td>\n",
       "      <td>-48.833887</td>\n",
       "      <td>-16.484003</td>\n",
       "      <td>-39.179938</td>\n",
       "      <td>-39.179938</td>\n",
       "      <td>5.959221</td>\n",
       "      <td>5.959221</td>\n",
       "      <td>5.959221</td>\n",
       "      <td>5.959221</td>\n",
       "      <td>5.959221</td>\n",
       "      <td>5.959221</td>\n",
       "      <td>0.0</td>\n",
       "      <td>0.0</td>\n",
       "      <td>0.0</td>\n",
       "      <td>-33.220717</td>\n",
       "    </tr>\n",
       "    <tr>\n",
       "      <th>...</th>\n",
       "      <td>...</td>\n",
       "      <td>...</td>\n",
       "      <td>...</td>\n",
       "      <td>...</td>\n",
       "      <td>...</td>\n",
       "      <td>...</td>\n",
       "      <td>...</td>\n",
       "      <td>...</td>\n",
       "      <td>...</td>\n",
       "      <td>...</td>\n",
       "      <td>...</td>\n",
       "      <td>...</td>\n",
       "      <td>...</td>\n",
       "      <td>...</td>\n",
       "      <td>...</td>\n",
       "      <td>...</td>\n",
       "    </tr>\n",
       "    <tr>\n",
       "      <th>149</th>\n",
       "      <td>2023-08-14</td>\n",
       "      <td>58.217884</td>\n",
       "      <td>41.407912</td>\n",
       "      <td>72.271171</td>\n",
       "      <td>58.212634</td>\n",
       "      <td>58.222520</td>\n",
       "      <td>-1.755968</td>\n",
       "      <td>-1.755968</td>\n",
       "      <td>-1.755968</td>\n",
       "      <td>-1.755968</td>\n",
       "      <td>-1.755968</td>\n",
       "      <td>-1.755968</td>\n",
       "      <td>0.0</td>\n",
       "      <td>0.0</td>\n",
       "      <td>0.0</td>\n",
       "      <td>56.461917</td>\n",
       "    </tr>\n",
       "    <tr>\n",
       "      <th>150</th>\n",
       "      <td>2023-08-21</td>\n",
       "      <td>58.803941</td>\n",
       "      <td>43.764267</td>\n",
       "      <td>74.088138</td>\n",
       "      <td>58.793533</td>\n",
       "      <td>58.813145</td>\n",
       "      <td>-0.152457</td>\n",
       "      <td>-0.152457</td>\n",
       "      <td>-0.152457</td>\n",
       "      <td>-0.152457</td>\n",
       "      <td>-0.152457</td>\n",
       "      <td>-0.152457</td>\n",
       "      <td>0.0</td>\n",
       "      <td>0.0</td>\n",
       "      <td>0.0</td>\n",
       "      <td>58.651484</td>\n",
       "    </tr>\n",
       "    <tr>\n",
       "      <th>151</th>\n",
       "      <td>2023-08-28</td>\n",
       "      <td>59.389997</td>\n",
       "      <td>44.420752</td>\n",
       "      <td>75.829365</td>\n",
       "      <td>59.374024</td>\n",
       "      <td>59.404949</td>\n",
       "      <td>1.240705</td>\n",
       "      <td>1.240705</td>\n",
       "      <td>1.240705</td>\n",
       "      <td>1.240705</td>\n",
       "      <td>1.240705</td>\n",
       "      <td>1.240705</td>\n",
       "      <td>0.0</td>\n",
       "      <td>0.0</td>\n",
       "      <td>0.0</td>\n",
       "      <td>60.630702</td>\n",
       "    </tr>\n",
       "    <tr>\n",
       "      <th>152</th>\n",
       "      <td>2023-09-04</td>\n",
       "      <td>59.976053</td>\n",
       "      <td>45.962517</td>\n",
       "      <td>78.449723</td>\n",
       "      <td>59.954289</td>\n",
       "      <td>59.995946</td>\n",
       "      <td>2.720408</td>\n",
       "      <td>2.720408</td>\n",
       "      <td>2.720408</td>\n",
       "      <td>2.720408</td>\n",
       "      <td>2.720408</td>\n",
       "      <td>2.720408</td>\n",
       "      <td>0.0</td>\n",
       "      <td>0.0</td>\n",
       "      <td>0.0</td>\n",
       "      <td>62.696461</td>\n",
       "    </tr>\n",
       "    <tr>\n",
       "      <th>153</th>\n",
       "      <td>2023-09-11</td>\n",
       "      <td>60.562110</td>\n",
       "      <td>50.071818</td>\n",
       "      <td>81.364358</td>\n",
       "      <td>60.534451</td>\n",
       "      <td>60.587855</td>\n",
       "      <td>4.007316</td>\n",
       "      <td>4.007316</td>\n",
       "      <td>4.007316</td>\n",
       "      <td>4.007316</td>\n",
       "      <td>4.007316</td>\n",
       "      <td>4.007316</td>\n",
       "      <td>0.0</td>\n",
       "      <td>0.0</td>\n",
       "      <td>0.0</td>\n",
       "      <td>64.569426</td>\n",
       "    </tr>\n",
       "  </tbody>\n",
       "</table>\n",
       "<p>154 rows × 16 columns</p>\n",
       "</div>"
      ],
      "text/plain": [
       "            ds      trend  yhat_lower  yhat_upper  trend_lower  trend_upper  \\\n",
       "0   2020-09-14 -43.407511  -54.852918  -23.144772   -43.407511   -43.407511   \n",
       "1   2020-09-28 -41.998320  -53.517017  -20.663914   -41.998320   -41.998320   \n",
       "2   2020-10-12 -40.589129  -50.430226  -18.916438   -40.589129   -40.589129   \n",
       "3   2020-10-19 -39.884534  -50.367936  -18.115432   -39.884534   -39.884534   \n",
       "4   2020-10-26 -39.179938  -48.833887  -16.484003   -39.179938   -39.179938   \n",
       "..         ...        ...         ...         ...          ...          ...   \n",
       "149 2023-08-14  58.217884   41.407912   72.271171    58.212634    58.222520   \n",
       "150 2023-08-21  58.803941   43.764267   74.088138    58.793533    58.813145   \n",
       "151 2023-08-28  59.389997   44.420752   75.829365    59.374024    59.404949   \n",
       "152 2023-09-04  59.976053   45.962517   78.449723    59.954289    59.995946   \n",
       "153 2023-09-11  60.562110   50.071818   81.364358    60.534451    60.587855   \n",
       "\n",
       "     additive_terms  additive_terms_lower  additive_terms_upper    yearly  \\\n",
       "0          4.500807              4.500807              4.500807  4.500807   \n",
       "1          5.388606              5.388606              5.388606  5.388606   \n",
       "2          5.701258              5.701258              5.701258  5.701258   \n",
       "3          5.689639              5.689639              5.689639  5.689639   \n",
       "4          5.959221              5.959221              5.959221  5.959221   \n",
       "..              ...                   ...                   ...       ...   \n",
       "149       -1.755968             -1.755968             -1.755968 -1.755968   \n",
       "150       -0.152457             -0.152457             -0.152457 -0.152457   \n",
       "151        1.240705              1.240705              1.240705  1.240705   \n",
       "152        2.720408              2.720408              2.720408  2.720408   \n",
       "153        4.007316              4.007316              4.007316  4.007316   \n",
       "\n",
       "     yearly_lower  yearly_upper  multiplicative_terms  \\\n",
       "0        4.500807      4.500807                   0.0   \n",
       "1        5.388606      5.388606                   0.0   \n",
       "2        5.701258      5.701258                   0.0   \n",
       "3        5.689639      5.689639                   0.0   \n",
       "4        5.959221      5.959221                   0.0   \n",
       "..            ...           ...                   ...   \n",
       "149     -1.755968     -1.755968                   0.0   \n",
       "150     -0.152457     -0.152457                   0.0   \n",
       "151      1.240705      1.240705                   0.0   \n",
       "152      2.720408      2.720408                   0.0   \n",
       "153      4.007316      4.007316                   0.0   \n",
       "\n",
       "     multiplicative_terms_lower  multiplicative_terms_upper       yhat  \n",
       "0                           0.0                         0.0 -38.906704  \n",
       "1                           0.0                         0.0 -36.609714  \n",
       "2                           0.0                         0.0 -34.887871  \n",
       "3                           0.0                         0.0 -34.194895  \n",
       "4                           0.0                         0.0 -33.220717  \n",
       "..                          ...                         ...        ...  \n",
       "149                         0.0                         0.0  56.461917  \n",
       "150                         0.0                         0.0  58.651484  \n",
       "151                         0.0                         0.0  60.630702  \n",
       "152                         0.0                         0.0  62.696461  \n",
       "153                         0.0                         0.0  64.569426  \n",
       "\n",
       "[154 rows x 16 columns]"
      ]
     },
     "execution_count": 57,
     "metadata": {},
     "output_type": "execute_result"
    }
   ],
   "source": [
    "pjme_test_fcst_future = model.predict(future)\n",
    "pjme_test_fcst_future"
   ]
  },
  {
   "cell_type": "code",
   "execution_count": 58,
   "metadata": {},
   "outputs": [
    {
     "data": {
      "text/plain": [
       "(154, 16)"
      ]
     },
     "execution_count": 58,
     "metadata": {},
     "output_type": "execute_result"
    }
   ],
   "source": [
    "pjme_test_fcst_future.shape"
   ]
  },
  {
   "cell_type": "code",
   "execution_count": 59,
   "metadata": {},
   "outputs": [
    {
     "data": {
      "text/plain": [
       "148    53.379034\n",
       "149    56.461917\n",
       "150    58.651484\n",
       "151    60.630702\n",
       "152    62.696461\n",
       "153    64.569426\n",
       "Name: yhat, dtype: float64"
      ]
     },
     "execution_count": 59,
     "metadata": {},
     "output_type": "execute_result"
    }
   ],
   "source": [
    "future_yhat = pjme_test_fcst_future['yhat'].iloc[-6:]\n",
    "future_yhat"
   ]
  },
  {
   "cell_type": "code",
   "execution_count": 60,
   "metadata": {},
   "outputs": [
    {
     "data": {
      "image/png": "[encoded data removed]",
      "text/plain": [
       "<Figure size 1000x500 with 1 Axes>"
      ]
     },
     "metadata": {},
     "output_type": "display_data"
    }
   ],
   "source": [
    "fig, ax = plt.subplots(figsize=(10, 5))\n",
    "fig = model.plot(pjme_test_fcst_future, ax=ax)\n",
    "ax.set_title('Prophet Forecast')\n",
    "plt.show()"
   ]
  },
  {
   "cell_type": "code",
   "execution_count": 61,
   "metadata": {},
   "outputs": [],
   "source": [
    "def forecast_accuracy(forecast, actual):\n",
    "      me = np.mean(forecast - actual)             # ME\n",
    "      rmse = np.mean((forecast - actual)**2)**.5  # RMSE\n",
    "      # Direction accuracy\n",
    "      forecast_diff = np.diff(forecast)\n",
    "      actual_diff = np.diff(actual)\n",
    "      direction_accuracy = np.mean(np.sign(forecast_diff) == np.sign(actual_diff))\n",
    "    \n",
    "      return {'me': me, 'rmse': rmse, 'direction_accuracy': direction_accuracy}\n"
   ]
  },
  {
   "cell_type": "code",
   "execution_count": 62,
   "metadata": {},
   "outputs": [
    {
     "name": "stdout",
     "output_type": "stream",
     "text": [
      "Prophet Forecast Accuracy of: wPreis\n",
      "me     :  54.1448\n",
      "rmse   :  54.4197\n",
      "direction_accuracy :  0.6\n"
     ]
    }
   ],
   "source": [
    "def adjust(val, length= 6): return str(val).ljust(length) # length\n",
    "print('Prophet Forecast Accuracy of: wPreis')\n",
    "accuracy_prod = forecast_accuracy(pjme_test_fcst_future['yhat'].iloc[-6:].values, df_test['wPreis'])\n",
    "for k, v in accuracy_prod.items():\n",
    "    print(adjust(k), ': ', round(v,4))"
   ]
  },
  {
   "cell_type": "code",
   "execution_count": 27,
   "metadata": {},
   "outputs": [
    {
     "data": {
      "text/plain": [
       "date\n",
       "2023-07-31    7.458214\n",
       "2023-08-07    7.832750\n",
       "2023-08-14    3.525113\n",
       "2023-08-21    3.896402\n",
       "2023-08-28    6.754483\n",
       "2023-09-04    2.053265\n",
       "Name: wPreis, dtype: float64"
      ]
     },
     "execution_count": 27,
     "metadata": {},
     "output_type": "execute_result"
    }
   ],
   "source": [
    "df_test['wPreis']"
   ]
  },
  {
   "cell_type": "code",
   "execution_count": 28,
   "metadata": {},
   "outputs": [
    {
     "data": {
      "text/plain": [
       "147    49.299807\n",
       "148    53.379034\n",
       "149    56.461917\n",
       "150    58.651484\n",
       "151    60.630702\n",
       "152    62.696461\n",
       "Name: yhat, dtype: float64"
      ]
     },
     "execution_count": 28,
     "metadata": {},
     "output_type": "execute_result"
    }
   ],
   "source": [
    "pjme_test_fcst_future['yhat'].iloc[-6:]"
   ]
  },
  {
   "cell_type": "code",
   "execution_count": 63,
   "metadata": {},
   "outputs": [],
   "source": [
    "future_yhat.index = df_test.index\n"
   ]
  },
  {
   "cell_type": "code",
   "execution_count": 64,
   "metadata": {},
   "outputs": [
    {
     "data": {
      "image/png": "[encoded data removed]",
      "text/plain": [
       "<Figure size 640x480 with 1 Axes>"
      ]
     },
     "metadata": {},
     "output_type": "display_data"
    }
   ],
   "source": [
    "# plot expected vs preducted\n",
    "plt.plot(df_test['wPreis'], label='Expected')\n",
    "plt.plot(future_yhat, label='Predicted')\n",
    "plt.legend()\n",
    "plt.show()"
   ]
  },
  {
   "attachments": {},
   "cell_type": "markdown",
   "metadata": {},
   "source": [
    "## Walk-forward validation"
   ]
  },
  {
   "cell_type": "code",
   "execution_count": 65,
   "metadata": {},
   "outputs": [
    {
     "data": {
      "text/plain": [
       "6"
      ]
     },
     "execution_count": 65,
     "metadata": {},
     "output_type": "execute_result"
    }
   ],
   "source": [
    "len(pjme_test_prophet)"
   ]
  },
  {
   "cell_type": "code",
   "execution_count": 66,
   "metadata": {},
   "outputs": [
    {
     "data": {
      "text/html": [
       "<div>\n",
       "<style scoped>\n",
       "    .dataframe tbody tr th:only-of-type {\n",
       "        vertical-align: middle;\n",
       "    }\n",
       "\n",
       "    .dataframe tbody tr th {\n",
       "        vertical-align: top;\n",
       "    }\n",
       "\n",
       "    .dataframe thead th {\n",
       "        text-align: right;\n",
       "    }\n",
       "</style>\n",
       "<table border=\"1\" class=\"dataframe\">\n",
       "  <thead>\n",
       "    <tr style=\"text-align: right;\">\n",
       "      <th></th>\n",
       "      <th>ds</th>\n",
       "      <th>y</th>\n",
       "    </tr>\n",
       "    <tr>\n",
       "      <th>date</th>\n",
       "      <th></th>\n",
       "      <th></th>\n",
       "    </tr>\n",
       "  </thead>\n",
       "  <tbody>\n",
       "    <tr>\n",
       "      <th>2020-09-14</th>\n",
       "      <td>2020-09-14</td>\n",
       "      <td>-37.519318</td>\n",
       "    </tr>\n",
       "    <tr>\n",
       "      <th>2020-09-28</th>\n",
       "      <td>2020-09-28</td>\n",
       "      <td>-28.690096</td>\n",
       "    </tr>\n",
       "    <tr>\n",
       "      <th>2020-10-12</th>\n",
       "      <td>2020-10-12</td>\n",
       "      <td>-29.688079</td>\n",
       "    </tr>\n",
       "    <tr>\n",
       "      <th>2020-10-19</th>\n",
       "      <td>2020-10-19</td>\n",
       "      <td>-25.630433</td>\n",
       "    </tr>\n",
       "    <tr>\n",
       "      <th>2020-10-26</th>\n",
       "      <td>2020-10-26</td>\n",
       "      <td>-29.073794</td>\n",
       "    </tr>\n",
       "    <tr>\n",
       "      <th>...</th>\n",
       "      <td>...</td>\n",
       "      <td>...</td>\n",
       "    </tr>\n",
       "    <tr>\n",
       "      <th>2023-06-26</th>\n",
       "      <td>2023-06-26</td>\n",
       "      <td>22.501691</td>\n",
       "    </tr>\n",
       "    <tr>\n",
       "      <th>2023-07-03</th>\n",
       "      <td>2023-07-03</td>\n",
       "      <td>18.514178</td>\n",
       "    </tr>\n",
       "    <tr>\n",
       "      <th>2023-07-10</th>\n",
       "      <td>2023-07-10</td>\n",
       "      <td>28.985554</td>\n",
       "    </tr>\n",
       "    <tr>\n",
       "      <th>2023-07-17</th>\n",
       "      <td>2023-07-17</td>\n",
       "      <td>16.847234</td>\n",
       "    </tr>\n",
       "    <tr>\n",
       "      <th>2023-07-24</th>\n",
       "      <td>2023-07-24</td>\n",
       "      <td>4.063304</td>\n",
       "    </tr>\n",
       "  </tbody>\n",
       "</table>\n",
       "<p>148 rows × 2 columns</p>\n",
       "</div>"
      ],
      "text/plain": [
       "                   ds          y\n",
       "date                            \n",
       "2020-09-14 2020-09-14 -37.519318\n",
       "2020-09-28 2020-09-28 -28.690096\n",
       "2020-10-12 2020-10-12 -29.688079\n",
       "2020-10-19 2020-10-19 -25.630433\n",
       "2020-10-26 2020-10-26 -29.073794\n",
       "...               ...        ...\n",
       "2023-06-26 2023-06-26  22.501691\n",
       "2023-07-03 2023-07-03  18.514178\n",
       "2023-07-10 2023-07-10  28.985554\n",
       "2023-07-17 2023-07-17  16.847234\n",
       "2023-07-24 2023-07-24   4.063304\n",
       "\n",
       "[148 rows x 2 columns]"
      ]
     },
     "execution_count": 66,
     "metadata": {},
     "output_type": "execute_result"
    }
   ],
   "source": [
    "pjme_train_prophet"
   ]
  },
  {
   "cell_type": "code",
   "execution_count": 35,
   "metadata": {},
   "outputs": [
    {
     "data": {
      "text/html": [
       "<div>\n",
       "<style scoped>\n",
       "    .dataframe tbody tr th:only-of-type {\n",
       "        vertical-align: middle;\n",
       "    }\n",
       "\n",
       "    .dataframe tbody tr th {\n",
       "        vertical-align: top;\n",
       "    }\n",
       "\n",
       "    .dataframe thead th {\n",
       "        text-align: right;\n",
       "    }\n",
       "</style>\n",
       "<table border=\"1\" class=\"dataframe\">\n",
       "  <thead>\n",
       "    <tr style=\"text-align: right;\">\n",
       "      <th></th>\n",
       "      <th>ds</th>\n",
       "      <th>y</th>\n",
       "    </tr>\n",
       "    <tr>\n",
       "      <th>date</th>\n",
       "      <th></th>\n",
       "      <th></th>\n",
       "    </tr>\n",
       "  </thead>\n",
       "  <tbody>\n",
       "    <tr>\n",
       "      <th>2023-07-31</th>\n",
       "      <td>2023-07-31</td>\n",
       "      <td>7.458214</td>\n",
       "    </tr>\n",
       "    <tr>\n",
       "      <th>2023-08-07</th>\n",
       "      <td>2023-08-07</td>\n",
       "      <td>7.832750</td>\n",
       "    </tr>\n",
       "    <tr>\n",
       "      <th>2023-08-14</th>\n",
       "      <td>2023-08-14</td>\n",
       "      <td>3.525113</td>\n",
       "    </tr>\n",
       "    <tr>\n",
       "      <th>2023-08-21</th>\n",
       "      <td>2023-08-21</td>\n",
       "      <td>3.896402</td>\n",
       "    </tr>\n",
       "    <tr>\n",
       "      <th>2023-08-28</th>\n",
       "      <td>2023-08-28</td>\n",
       "      <td>6.754483</td>\n",
       "    </tr>\n",
       "    <tr>\n",
       "      <th>2023-09-04</th>\n",
       "      <td>2023-09-04</td>\n",
       "      <td>2.053265</td>\n",
       "    </tr>\n",
       "  </tbody>\n",
       "</table>\n",
       "</div>"
      ],
      "text/plain": [
       "                   ds         y\n",
       "date                           \n",
       "2023-07-31 2023-07-31  7.458214\n",
       "2023-08-07 2023-08-07  7.832750\n",
       "2023-08-14 2023-08-14  3.525113\n",
       "2023-08-21 2023-08-21  3.896402\n",
       "2023-08-28 2023-08-28  6.754483\n",
       "2023-09-04 2023-09-04  2.053265"
      ]
     },
     "execution_count": 35,
     "metadata": {},
     "output_type": "execute_result"
    }
   ],
   "source": [
    "pjme_test_prophet"
   ]
  },
  {
   "cell_type": "code",
   "execution_count": 67,
   "metadata": {},
   "outputs": [],
   "source": [
    "predictions = {}"
   ]
  },
  {
   "cell_type": "code",
   "execution_count": null,
   "metadata": {},
   "outputs": [],
   "source": []
  },
  {
   "cell_type": "code",
   "execution_count": 73,
   "metadata": {},
   "outputs": [
    {
     "name": "stderr",
     "output_type": "stream",
     "text": [
      "13:25:37 - cmdstanpy - INFO - Chain [1] start processing\n",
      "13:25:37 - cmdstanpy - INFO - Chain [1] done processing\n",
      "13:25:37 - cmdstanpy - INFO - Chain [1] start processing\n",
      "13:25:37 - cmdstanpy - INFO - Chain [1] done processing\n",
      "13:25:37 - cmdstanpy - INFO - Chain [1] start processing\n",
      "13:25:37 - cmdstanpy - INFO - Chain [1] done processing\n",
      "13:25:37 - cmdstanpy - INFO - Chain [1] start processing\n",
      "13:25:37 - cmdstanpy - INFO - Chain [1] done processing\n",
      "13:25:38 - cmdstanpy - INFO - Chain [1] start processing\n",
      "13:25:38 - cmdstanpy - INFO - Chain [1] done processing\n"
     ]
    },
    {
     "name": "stdout",
     "output_type": "stream",
     "text": [
      "147    49.299807\n",
      "Name: yhat, dtype: float64\n",
      "148    45.757538\n",
      "Name: yhat, dtype: float64\n",
      "149    45.584571\n",
      "Name: yhat, dtype: float64\n",
      "150    39.603361\n",
      "Name: yhat, dtype: float64\n"
     ]
    },
    {
     "name": "stderr",
     "output_type": "stream",
     "text": [
      "13:25:38 - cmdstanpy - INFO - Chain [1] start processing\n",
      "13:25:38 - cmdstanpy - INFO - Chain [1] done processing\n"
     ]
    },
    {
     "name": "stdout",
     "output_type": "stream",
     "text": [
      "151    37.172494\n",
      "Name: yhat, dtype: float64\n",
      "152    44.092295\n",
      "Name: yhat, dtype: float64\n"
     ]
    }
   ],
   "source": [
    "input = pjme_train_prophet\n",
    "for t in range(0,len(pjme_test_prophet)):\n",
    "    model = Prophet()\n",
    "    model.fit(input)\n",
    "    future = model.make_future_dataframe(periods=1, freq='W-MON')\n",
    "    pred_step = model.predict(future)\n",
    "    print(pred_step.iloc[-1:]['yhat'])\n",
    "    predictions = pred_step[-1:]['yhat']\n",
    "    new_obs = pjme_test_prophet.iloc[t]\n",
    "    input = input.append(new_obs, ignore_index=True)\n"
   ]
  },
  {
   "cell_type": "code",
   "execution_count": 70,
   "metadata": {},
   "outputs": [
    {
     "data": {
      "text/html": [
       "<div>\n",
       "<style scoped>\n",
       "    .dataframe tbody tr th:only-of-type {\n",
       "        vertical-align: middle;\n",
       "    }\n",
       "\n",
       "    .dataframe tbody tr th {\n",
       "        vertical-align: top;\n",
       "    }\n",
       "\n",
       "    .dataframe thead th {\n",
       "        text-align: right;\n",
       "    }\n",
       "</style>\n",
       "<table border=\"1\" class=\"dataframe\">\n",
       "  <thead>\n",
       "    <tr style=\"text-align: right;\">\n",
       "      <th></th>\n",
       "      <th>ds</th>\n",
       "      <th>trend</th>\n",
       "      <th>yhat_lower</th>\n",
       "      <th>yhat_upper</th>\n",
       "      <th>trend_lower</th>\n",
       "      <th>trend_upper</th>\n",
       "      <th>additive_terms</th>\n",
       "      <th>additive_terms_lower</th>\n",
       "      <th>additive_terms_upper</th>\n",
       "      <th>yearly</th>\n",
       "      <th>yearly_lower</th>\n",
       "      <th>yearly_upper</th>\n",
       "      <th>multiplicative_terms</th>\n",
       "      <th>multiplicative_terms_lower</th>\n",
       "      <th>multiplicative_terms_upper</th>\n",
       "      <th>yhat</th>\n",
       "    </tr>\n",
       "  </thead>\n",
       "  <tbody>\n",
       "    <tr>\n",
       "      <th>0</th>\n",
       "      <td>2020-09-14</td>\n",
       "      <td>-46.236301</td>\n",
       "      <td>-55.889758</td>\n",
       "      <td>-25.306599</td>\n",
       "      <td>-46.236301</td>\n",
       "      <td>-46.236301</td>\n",
       "      <td>4.862986</td>\n",
       "      <td>4.862986</td>\n",
       "      <td>4.862986</td>\n",
       "      <td>4.862986</td>\n",
       "      <td>4.862986</td>\n",
       "      <td>4.862986</td>\n",
       "      <td>0.0</td>\n",
       "      <td>0.0</td>\n",
       "      <td>0.0</td>\n",
       "      <td>-41.373315</td>\n",
       "    </tr>\n",
       "    <tr>\n",
       "      <th>1</th>\n",
       "      <td>2020-09-28</td>\n",
       "      <td>-44.721030</td>\n",
       "      <td>-55.256859</td>\n",
       "      <td>-23.878932</td>\n",
       "      <td>-44.721030</td>\n",
       "      <td>-44.721030</td>\n",
       "      <td>5.329993</td>\n",
       "      <td>5.329993</td>\n",
       "      <td>5.329993</td>\n",
       "      <td>5.329993</td>\n",
       "      <td>5.329993</td>\n",
       "      <td>5.329993</td>\n",
       "      <td>0.0</td>\n",
       "      <td>0.0</td>\n",
       "      <td>0.0</td>\n",
       "      <td>-39.391038</td>\n",
       "    </tr>\n",
       "    <tr>\n",
       "      <th>2</th>\n",
       "      <td>2020-10-12</td>\n",
       "      <td>-43.205759</td>\n",
       "      <td>-51.771308</td>\n",
       "      <td>-22.633751</td>\n",
       "      <td>-43.205759</td>\n",
       "      <td>-43.205759</td>\n",
       "      <td>5.617522</td>\n",
       "      <td>5.617522</td>\n",
       "      <td>5.617522</td>\n",
       "      <td>5.617522</td>\n",
       "      <td>5.617522</td>\n",
       "      <td>5.617522</td>\n",
       "      <td>0.0</td>\n",
       "      <td>0.0</td>\n",
       "      <td>0.0</td>\n",
       "      <td>-37.588237</td>\n",
       "    </tr>\n",
       "    <tr>\n",
       "      <th>3</th>\n",
       "      <td>2020-10-19</td>\n",
       "      <td>-42.448124</td>\n",
       "      <td>-51.343310</td>\n",
       "      <td>-21.268325</td>\n",
       "      <td>-42.448124</td>\n",
       "      <td>-42.448124</td>\n",
       "      <td>6.083340</td>\n",
       "      <td>6.083340</td>\n",
       "      <td>6.083340</td>\n",
       "      <td>6.083340</td>\n",
       "      <td>6.083340</td>\n",
       "      <td>6.083340</td>\n",
       "      <td>0.0</td>\n",
       "      <td>0.0</td>\n",
       "      <td>0.0</td>\n",
       "      <td>-36.364784</td>\n",
       "    </tr>\n",
       "    <tr>\n",
       "      <th>4</th>\n",
       "      <td>2020-10-26</td>\n",
       "      <td>-41.690489</td>\n",
       "      <td>-49.977459</td>\n",
       "      <td>-20.098147</td>\n",
       "      <td>-41.690489</td>\n",
       "      <td>-41.690489</td>\n",
       "      <td>6.511988</td>\n",
       "      <td>6.511988</td>\n",
       "      <td>6.511988</td>\n",
       "      <td>6.511988</td>\n",
       "      <td>6.511988</td>\n",
       "      <td>6.511988</td>\n",
       "      <td>0.0</td>\n",
       "      <td>0.0</td>\n",
       "      <td>0.0</td>\n",
       "      <td>-35.178501</td>\n",
       "    </tr>\n",
       "    <tr>\n",
       "      <th>...</th>\n",
       "      <td>...</td>\n",
       "      <td>...</td>\n",
       "      <td>...</td>\n",
       "      <td>...</td>\n",
       "      <td>...</td>\n",
       "      <td>...</td>\n",
       "      <td>...</td>\n",
       "      <td>...</td>\n",
       "      <td>...</td>\n",
       "      <td>...</td>\n",
       "      <td>...</td>\n",
       "      <td>...</td>\n",
       "      <td>...</td>\n",
       "      <td>...</td>\n",
       "      <td>...</td>\n",
       "      <td>...</td>\n",
       "    </tr>\n",
       "    <tr>\n",
       "      <th>149</th>\n",
       "      <td>2023-08-14</td>\n",
       "      <td>45.359201</td>\n",
       "      <td>12.652219</td>\n",
       "      <td>44.070335</td>\n",
       "      <td>45.359201</td>\n",
       "      <td>45.359201</td>\n",
       "      <td>-17.699570</td>\n",
       "      <td>-17.699570</td>\n",
       "      <td>-17.699570</td>\n",
       "      <td>-17.699570</td>\n",
       "      <td>-17.699570</td>\n",
       "      <td>-17.699570</td>\n",
       "      <td>0.0</td>\n",
       "      <td>0.0</td>\n",
       "      <td>0.0</td>\n",
       "      <td>27.659631</td>\n",
       "    </tr>\n",
       "    <tr>\n",
       "      <th>150</th>\n",
       "      <td>2023-08-21</td>\n",
       "      <td>45.600728</td>\n",
       "      <td>14.543225</td>\n",
       "      <td>44.932544</td>\n",
       "      <td>45.600728</td>\n",
       "      <td>45.600728</td>\n",
       "      <td>-15.169869</td>\n",
       "      <td>-15.169869</td>\n",
       "      <td>-15.169869</td>\n",
       "      <td>-15.169869</td>\n",
       "      <td>-15.169869</td>\n",
       "      <td>-15.169869</td>\n",
       "      <td>0.0</td>\n",
       "      <td>0.0</td>\n",
       "      <td>0.0</td>\n",
       "      <td>30.430859</td>\n",
       "    </tr>\n",
       "    <tr>\n",
       "      <th>151</th>\n",
       "      <td>2023-08-28</td>\n",
       "      <td>45.842254</td>\n",
       "      <td>20.677175</td>\n",
       "      <td>52.132908</td>\n",
       "      <td>45.842254</td>\n",
       "      <td>45.842254</td>\n",
       "      <td>-9.135853</td>\n",
       "      <td>-9.135853</td>\n",
       "      <td>-9.135853</td>\n",
       "      <td>-9.135853</td>\n",
       "      <td>-9.135853</td>\n",
       "      <td>-9.135853</td>\n",
       "      <td>0.0</td>\n",
       "      <td>0.0</td>\n",
       "      <td>0.0</td>\n",
       "      <td>36.706402</td>\n",
       "    </tr>\n",
       "    <tr>\n",
       "      <th>152</th>\n",
       "      <td>2023-09-04</td>\n",
       "      <td>46.083781</td>\n",
       "      <td>27.994291</td>\n",
       "      <td>59.464941</td>\n",
       "      <td>46.083781</td>\n",
       "      <td>46.083781</td>\n",
       "      <td>-1.991486</td>\n",
       "      <td>-1.991486</td>\n",
       "      <td>-1.991486</td>\n",
       "      <td>-1.991486</td>\n",
       "      <td>-1.991486</td>\n",
       "      <td>-1.991486</td>\n",
       "      <td>0.0</td>\n",
       "      <td>0.0</td>\n",
       "      <td>0.0</td>\n",
       "      <td>44.092295</td>\n",
       "    </tr>\n",
       "    <tr>\n",
       "      <th>153</th>\n",
       "      <td>2023-09-11</td>\n",
       "      <td>46.325308</td>\n",
       "      <td>34.956246</td>\n",
       "      <td>64.610361</td>\n",
       "      <td>46.317482</td>\n",
       "      <td>46.331672</td>\n",
       "      <td>3.317212</td>\n",
       "      <td>3.317212</td>\n",
       "      <td>3.317212</td>\n",
       "      <td>3.317212</td>\n",
       "      <td>3.317212</td>\n",
       "      <td>3.317212</td>\n",
       "      <td>0.0</td>\n",
       "      <td>0.0</td>\n",
       "      <td>0.0</td>\n",
       "      <td>49.642519</td>\n",
       "    </tr>\n",
       "  </tbody>\n",
       "</table>\n",
       "<p>154 rows × 16 columns</p>\n",
       "</div>"
      ],
      "text/plain": [
       "            ds      trend  yhat_lower  yhat_upper  trend_lower  trend_upper  \\\n",
       "0   2020-09-14 -46.236301  -55.889758  -25.306599   -46.236301   -46.236301   \n",
       "1   2020-09-28 -44.721030  -55.256859  -23.878932   -44.721030   -44.721030   \n",
       "2   2020-10-12 -43.205759  -51.771308  -22.633751   -43.205759   -43.205759   \n",
       "3   2020-10-19 -42.448124  -51.343310  -21.268325   -42.448124   -42.448124   \n",
       "4   2020-10-26 -41.690489  -49.977459  -20.098147   -41.690489   -41.690489   \n",
       "..         ...        ...         ...         ...          ...          ...   \n",
       "149 2023-08-14  45.359201   12.652219   44.070335    45.359201    45.359201   \n",
       "150 2023-08-21  45.600728   14.543225   44.932544    45.600728    45.600728   \n",
       "151 2023-08-28  45.842254   20.677175   52.132908    45.842254    45.842254   \n",
       "152 2023-09-04  46.083781   27.994291   59.464941    46.083781    46.083781   \n",
       "153 2023-09-11  46.325308   34.956246   64.610361    46.317482    46.331672   \n",
       "\n",
       "     additive_terms  additive_terms_lower  additive_terms_upper     yearly  \\\n",
       "0          4.862986              4.862986              4.862986   4.862986   \n",
       "1          5.329993              5.329993              5.329993   5.329993   \n",
       "2          5.617522              5.617522              5.617522   5.617522   \n",
       "3          6.083340              6.083340              6.083340   6.083340   \n",
       "4          6.511988              6.511988              6.511988   6.511988   \n",
       "..              ...                   ...                   ...        ...   \n",
       "149      -17.699570            -17.699570            -17.699570 -17.699570   \n",
       "150      -15.169869            -15.169869            -15.169869 -15.169869   \n",
       "151       -9.135853             -9.135853             -9.135853  -9.135853   \n",
       "152       -1.991486             -1.991486             -1.991486  -1.991486   \n",
       "153        3.317212              3.317212              3.317212   3.317212   \n",
       "\n",
       "     yearly_lower  yearly_upper  multiplicative_terms  \\\n",
       "0        4.862986      4.862986                   0.0   \n",
       "1        5.329993      5.329993                   0.0   \n",
       "2        5.617522      5.617522                   0.0   \n",
       "3        6.083340      6.083340                   0.0   \n",
       "4        6.511988      6.511988                   0.0   \n",
       "..            ...           ...                   ...   \n",
       "149    -17.699570    -17.699570                   0.0   \n",
       "150    -15.169869    -15.169869                   0.0   \n",
       "151     -9.135853     -9.135853                   0.0   \n",
       "152     -1.991486     -1.991486                   0.0   \n",
       "153      3.317212      3.317212                   0.0   \n",
       "\n",
       "     multiplicative_terms_lower  multiplicative_terms_upper       yhat  \n",
       "0                           0.0                         0.0 -41.373315  \n",
       "1                           0.0                         0.0 -39.391038  \n",
       "2                           0.0                         0.0 -37.588237  \n",
       "3                           0.0                         0.0 -36.364784  \n",
       "4                           0.0                         0.0 -35.178501  \n",
       "..                          ...                         ...        ...  \n",
       "149                         0.0                         0.0  27.659631  \n",
       "150                         0.0                         0.0  30.430859  \n",
       "151                         0.0                         0.0  36.706402  \n",
       "152                         0.0                         0.0  44.092295  \n",
       "153                         0.0                         0.0  49.642519  \n",
       "\n",
       "[154 rows x 16 columns]"
      ]
     },
     "execution_count": 70,
     "metadata": {},
     "output_type": "execute_result"
    }
   ],
   "source": [
    "pred_step"
   ]
  }
 ],
 "metadata": {
  "kernelspec": {
   "display_name": "Python 3",
   "language": "python",
   "name": "python3"
  },
  "language_info": {
   "codemirror_mode": {
    "name": "ipython",
    "version": 3
   },
   "file_extension": ".py",
   "mimetype": "text/x-python",
   "name": "python",
   "nbconvert_exporter": "python",
   "pygments_lexer": "ipython3",
   "version": "3.11.2"
  },
  "orig_nbformat": 4
 },
 "nbformat": 4,
 "nbformat_minor": 2
}
