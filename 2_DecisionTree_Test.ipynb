{
 "cells": [
  {
   "cell_type": "code",
   "execution_count": 1,
   "metadata": {},
   "outputs": [],
   "source": [
    "#Importing libraries\n",
    "import warnings\n",
    "warnings.simplefilter(action='ignore', category=FutureWarning)\n",
    "import numpy as np\n",
    "import pandas as pd\n",
    "from pandas import concat\n",
    "from numpy import asarray\n",
    "from sklearn.metrics import mean_absolute_error\n",
    "from sklearn.metrics import mean_squared_error\n",
    "import matplotlib.pyplot as plt\n",
    "import seaborn as sns\n",
    "import matplotlib.pyplot as plt\n",
    "import plotly.express as px\n",
    "import plotly.graph_objects as go\n",
    "from plotly.subplots import make_subplots\n",
    "import datetime\n",
    "from statsmodels.tsa.tsatools import lagmat\n",
    "from statsmodels.tsa.arima.model import ARIMA"
   ]
  },
  {
   "attachments": {},
   "cell_type": "markdown",
   "metadata": {},
   "source": [
    "# Data Import and Cleaning"
   ]
  },
  {
   "cell_type": "code",
   "execution_count": 2,
   "metadata": {},
   "outputs": [],
   "source": [
    "%store -r df_cleaned"
   ]
  },
  {
   "cell_type": "code",
   "execution_count": 3,
   "metadata": {},
   "outputs": [],
   "source": [
    "df = df_cleaned "
   ]
  },
  {
   "cell_type": "code",
   "execution_count": 4,
   "metadata": {},
   "outputs": [],
   "source": [
    "TS1 = df[(df['Plz'] == \"['25', '24']\")]\n",
    "TS1_A2 = TS1[TS1['full'] == 'A2 -  geschreddert']\n",
    "TS1_A1A2 = TS1[TS1['full'] == 'A1 & A2 -  geschreddert']\n",
    "TS1_A2A3 = TS1[TS1['full'] == 'A2 & A3 -  geschreddert']"
   ]
  },
  {
   "cell_type": "code",
   "execution_count": 5,
   "metadata": {},
   "outputs": [],
   "source": [
    "nobs = 6\n",
    "df_train, df_test = TS1_A1A2[0:-nobs], TS1_A1A2[-nobs:]"
   ]
  },
  {
   "attachments": {},
   "cell_type": "markdown",
   "metadata": {},
   "source": [
    "## Decision Tree"
   ]
  },
  {
   "cell_type": "markdown",
   "metadata": {},
   "source": [
    "### Walk-forward"
   ]
  },
  {
   "cell_type": "code",
   "execution_count": 6,
   "metadata": {},
   "outputs": [],
   "source": [
    "# transform a time series dataset into a supervised learning dataset\n",
    "def series_to_supervised(data, n_in=1, n_out=1, dropnan=True):\n",
    " n_vars = 1 if type(data) is list else data.shape[1]\n",
    " df = pd.DataFrame(data)\n",
    " cols = list()\n",
    " # input sequence (t-n, ... t-1)\n",
    " for i in range(n_in, 0, -1):\n",
    "    cols.append(df.shift(i))\n",
    " # forecast sequence (t, t+1, ... t+n)\n",
    " for i in range(0, n_out):\n",
    "    cols.append(df.shift(-i))\n",
    "    # put it all together\n",
    "    agg = concat(cols, axis=1)\n",
    "# drop rows with NaN values\n",
    " if dropnan:\n",
    "    agg.dropna(inplace=True)\n",
    " return agg.values"
   ]
  },
  {
   "cell_type": "code",
   "execution_count": 7,
   "metadata": {},
   "outputs": [],
   "source": [
    "X = TS1_A1A2[\"wPreis\"].values.reshape(-1, 1)\n",
    "dt_data = series_to_supervised(X, n_in=4)"
   ]
  },
  {
   "cell_type": "code",
   "execution_count": 8,
   "metadata": {},
   "outputs": [],
   "source": [
    "# split a univariate dataset into train/test sets\n",
    "def train_test_split(data, n_test):\n",
    " return data[:-n_test, :], data[-n_test:, :]"
   ]
  },
  {
   "cell_type": "code",
   "execution_count": 9,
   "metadata": {},
   "outputs": [],
   "source": [
    "from sklearn.tree import DecisionTreeRegressor\n"
   ]
  },
  {
   "cell_type": "code",
   "execution_count": 10,
   "metadata": {},
   "outputs": [],
   "source": [
    "# walk-forward validation for univariate data\n",
    "def dt_walk_forward_validation(data, n_test):\n",
    " predictions = list()\n",
    " direction_accuracies = list() \n",
    " # split dataset\n",
    " train, test = train_test_split(data, n_test)\n",
    " # seed history with training dataset\n",
    " history = [x for x in train]\n",
    " # step over each time-step in the test set\n",
    " for i in range(len(test)):\n",
    "    # split test row into input and output columns\n",
    "    testX, testy = test[i, :-1], test[i, -1]\n",
    "    # fit model on history and make a prediction\n",
    "    yhat = decision_tree_forecast(history, testX)\n",
    "    # store forecast in list of predictions\n",
    "    predictions.append(yhat)\n",
    "    if i > 0:  # Direction accuracy is not applicable for the first prediction\n",
    "            forecast_diff = yhat - predictions[-2]\n",
    "            actual_diff = testy - test[i - 1, -1]\n",
    "            direction_accuracy = int(np.sign(forecast_diff) == np.sign(actual_diff))\n",
    "            direction_accuracies.append(direction_accuracy)\n",
    "    # add actual observation to history for the next loop\n",
    "    history.append(test[i])\n",
    "    # summarize progress\n",
    "    # print('>expected=%.1f, predicted=%.1f' % (testy, yhat))\n",
    " # estimate prediction error\n",
    " mae = mean_absolute_error(test[:, -1], predictions)\n",
    " me = np.mean(predictions - test[:, -1])  # Mean Error\n",
    " rmse = mean_squared_error(test[:, -1], predictions, squared=False)\n",
    " overall_direction_accuracy = np.mean(direction_accuracies)\n",
    "\n",
    " return {'mae':mae, 'me': me, 'rmse': rmse, 'expected':test[:, -1], 'predictions': predictions, 'direction_accuracy': overall_direction_accuracy}\n",
    "\n",
    "# return error, me, rmse ,test[:, -1], predictions, overall_direction_accuracy "
   ]
  },
  {
   "cell_type": "code",
   "execution_count": 11,
   "metadata": {},
   "outputs": [],
   "source": [
    "# fit an random forest model and make a one step prediction\n",
    "def decision_tree_forecast(train, testX):\n",
    " # transform list into array\n",
    " train = asarray(train)\n",
    " # split into input and output columns\n",
    " trainX, trainy = train[:, :-1], train[:, -1]\n",
    " # fit model\n",
    " model = DecisionTreeRegressor(random_state=42)\n",
    " model.fit(trainX, trainy)\n",
    " # make a one-step prediction\n",
    " yhat = model.predict([testX])\n",
    " #print(yhat)\n",
    " return yhat[0]"
   ]
  },
  {
   "cell_type": "code",
   "execution_count": 12,
   "metadata": {},
   "outputs": [
    {
     "name": "stdout",
     "output_type": "stream",
     "text": [
      "Decision Tree Walk-forward forecast Accuracy of: wPreis\n"
     ]
    }
   ],
   "source": [
    "def adjust(val, length= 6): return str(val).ljust(length) # length\n",
    "print('Decision Tree Walk-forward forecast Accuracy of: wPreis')\n",
    "wf_accuracy_prod = dt_walk_forward_validation(dt_data, 6)\n",
    "# for k, v in wf_accuracy_prod.items():\n",
    "#     print(adjust(k), ': ', round(v,4))"
   ]
  },
  {
   "cell_type": "code",
   "execution_count": 13,
   "metadata": {},
   "outputs": [
    {
     "name": "stdout",
     "output_type": "stream",
     "text": [
      "MAE: 7.835\n",
      "ME: 1.156\n",
      "RMSE: 9.811\n",
      "Direction Accuracy: 0.600\n"
     ]
    },
    {
     "data": {
      "image/png": "[encoded data removed]",
      "text/plain": [
       "<Figure size 640x480 with 1 Axes>"
      ]
     },
     "metadata": {},
     "output_type": "display_data"
    }
   ],
   "source": [
    "mae = wf_accuracy_prod['mae']\n",
    "me = wf_accuracy_prod['me']\n",
    "rmse = wf_accuracy_prod['rmse']\n",
    "expected = wf_accuracy_prod['expected']\n",
    "predictions = wf_accuracy_prod['predictions']\n",
    "direction_accuracy = wf_accuracy_prod['direction_accuracy']\n",
    "\n",
    "# evaluate\n",
    "# mae, me, rmse, y, yhat, direction_accuracy = dt_walk_forward_validation(dt_data, 6)\n",
    "print('MAE: %.3f' % mae)\n",
    "print('ME: %.3f' % me)\n",
    "print('RMSE: %.3f' % rmse)\n",
    "print('Direction Accuracy: %.3f' % direction_accuracy)\n",
    "# plot expected vs preducted\n",
    "plt.plot(expected, label='Expected')\n",
    "plt.plot(predictions, label='Predicted')\n",
    "plt.legend()\n",
    "plt.show()"
   ]
  },
  {
   "cell_type": "code",
   "execution_count": 14,
   "metadata": {},
   "outputs": [
    {
     "data": {
      "text/html": [
       "<div>\n",
       "<style scoped>\n",
       "    .dataframe tbody tr th:only-of-type {\n",
       "        vertical-align: middle;\n",
       "    }\n",
       "\n",
       "    .dataframe tbody tr th {\n",
       "        vertical-align: top;\n",
       "    }\n",
       "\n",
       "    .dataframe thead th {\n",
       "        text-align: right;\n",
       "    }\n",
       "</style>\n",
       "<table border=\"1\" class=\"dataframe\">\n",
       "  <thead>\n",
       "    <tr style=\"text-align: right;\">\n",
       "      <th></th>\n",
       "      <th>mae</th>\n",
       "      <th>me</th>\n",
       "      <th>rmse</th>\n",
       "      <th>direction_accuracy</th>\n",
       "    </tr>\n",
       "  </thead>\n",
       "  <tbody>\n",
       "    <tr>\n",
       "      <th>0</th>\n",
       "      <td>7.835223</td>\n",
       "      <td>1.155846</td>\n",
       "      <td>9.811467</td>\n",
       "      <td>0.6</td>\n",
       "    </tr>\n",
       "  </tbody>\n",
       "</table>\n",
       "</div>"
      ],
      "text/plain": [
       "        mae        me      rmse  direction_accuracy\n",
       "0  7.835223  1.155846  9.811467                 0.6"
      ]
     },
     "execution_count": 14,
     "metadata": {},
     "output_type": "execute_result"
    }
   ],
   "source": [
    "results = {\n",
    "    'mae': [mae],\n",
    "    'me': [me],\n",
    "    'rmse': [rmse],\n",
    "    'direction_accuracy': [direction_accuracy]\n",
    "}\n",
    "\n",
    "# Convert the dictionary into a DataFrame\n",
    "DecisionTree_wf = pd.DataFrame(results)\n",
    "DecisionTree_wf"
   ]
  },
  {
   "cell_type": "code",
   "execution_count": 15,
   "metadata": {},
   "outputs": [
    {
     "name": "stdout",
     "output_type": "stream",
     "text": [
      "Stored 'DecisionTree_wf' (DataFrame)\n"
     ]
    }
   ],
   "source": [
    "%store DecisionTree_wf\n"
   ]
  },
  {
   "cell_type": "markdown",
   "metadata": {},
   "source": [
    "### Rolling forecast for Decision Tree\n",
    "\n",
    "Since this method uses 4 lagged values as input for predicting the next step, we are exposing the test data set in every iteration. So essentially this is a forecast with a window of \"input\" moving along the test set, predicting one step at a time, but having been trained on the original training set only once."
   ]
  },
  {
   "cell_type": "code",
   "execution_count": 16,
   "metadata": {},
   "outputs": [],
   "source": [
    "train, test = train_test_split(dt_data, 6)\n",
    "train = asarray(train)\n",
    "trainX, trainy = train[:, :-1], train[:, -1]\n"
   ]
  },
  {
   "cell_type": "code",
   "execution_count": 17,
   "metadata": {},
   "outputs": [
    {
     "data": {
      "text/html": [
       "<style>#sk-container-id-1 {color: black;background-color: white;}#sk-container-id-1 pre{padding: 0;}#sk-container-id-1 div.sk-toggleable {background-color: white;}#sk-container-id-1 label.sk-toggleable__label {cursor: pointer;display: block;width: 100%;margin-bottom: 0;padding: 0.3em;box-sizing: border-box;text-align: center;}#sk-container-id-1 label.sk-toggleable__label-arrow:before {content: \"▸\";float: left;margin-right: 0.25em;color: #696969;}#sk-container-id-1 label.sk-toggleable__label-arrow:hover:before {color: black;}#sk-container-id-1 div.sk-estimator:hover label.sk-toggleable__label-arrow:before {color: black;}#sk-container-id-1 div.sk-toggleable__content {max-height: 0;max-width: 0;overflow: hidden;text-align: left;background-color: #f0f8ff;}#sk-container-id-1 div.sk-toggleable__content pre {margin: 0.2em;color: black;border-radius: 0.25em;background-color: #f0f8ff;}#sk-container-id-1 input.sk-toggleable__control:checked~div.sk-toggleable__content {max-height: 200px;max-width: 100%;overflow: auto;}#sk-container-id-1 input.sk-toggleable__control:checked~label.sk-toggleable__label-arrow:before {content: \"▾\";}#sk-container-id-1 div.sk-estimator input.sk-toggleable__control:checked~label.sk-toggleable__label {background-color: #d4ebff;}#sk-container-id-1 div.sk-label input.sk-toggleable__control:checked~label.sk-toggleable__label {background-color: #d4ebff;}#sk-container-id-1 input.sk-hidden--visually {border: 0;clip: rect(1px 1px 1px 1px);clip: rect(1px, 1px, 1px, 1px);height: 1px;margin: -1px;overflow: hidden;padding: 0;position: absolute;width: 1px;}#sk-container-id-1 div.sk-estimator {font-family: monospace;background-color: #f0f8ff;border: 1px dotted black;border-radius: 0.25em;box-sizing: border-box;margin-bottom: 0.5em;}#sk-container-id-1 div.sk-estimator:hover {background-color: #d4ebff;}#sk-container-id-1 div.sk-parallel-item::after {content: \"\";width: 100%;border-bottom: 1px solid gray;flex-grow: 1;}#sk-container-id-1 div.sk-label:hover label.sk-toggleable__label {background-color: #d4ebff;}#sk-container-id-1 div.sk-serial::before {content: \"\";position: absolute;border-left: 1px solid gray;box-sizing: border-box;top: 0;bottom: 0;left: 50%;z-index: 0;}#sk-container-id-1 div.sk-serial {display: flex;flex-direction: column;align-items: center;background-color: white;padding-right: 0.2em;padding-left: 0.2em;position: relative;}#sk-container-id-1 div.sk-item {position: relative;z-index: 1;}#sk-container-id-1 div.sk-parallel {display: flex;align-items: stretch;justify-content: center;background-color: white;position: relative;}#sk-container-id-1 div.sk-item::before, #sk-container-id-1 div.sk-parallel-item::before {content: \"\";position: absolute;border-left: 1px solid gray;box-sizing: border-box;top: 0;bottom: 0;left: 50%;z-index: -1;}#sk-container-id-1 div.sk-parallel-item {display: flex;flex-direction: column;z-index: 1;position: relative;background-color: white;}#sk-container-id-1 div.sk-parallel-item:first-child::after {align-self: flex-end;width: 50%;}#sk-container-id-1 div.sk-parallel-item:last-child::after {align-self: flex-start;width: 50%;}#sk-container-id-1 div.sk-parallel-item:only-child::after {width: 0;}#sk-container-id-1 div.sk-dashed-wrapped {border: 1px dashed gray;margin: 0 0.4em 0.5em 0.4em;box-sizing: border-box;padding-bottom: 0.4em;background-color: white;}#sk-container-id-1 div.sk-label label {font-family: monospace;font-weight: bold;display: inline-block;line-height: 1.2em;}#sk-container-id-1 div.sk-label-container {text-align: center;}#sk-container-id-1 div.sk-container {/* jupyter's `normalize.less` sets `[hidden] { display: none; }` but bootstrap.min.css set `[hidden] { display: none !important; }` so we also need the `!important` here to be able to override the default hidden behavior on the sphinx rendered scikit-learn.org. See: https://github.com/scikit-learn/scikit-learn/issues/21755 */display: inline-block !important;position: relative;}#sk-container-id-1 div.sk-text-repr-fallback {display: none;}</style><div id=\"sk-container-id-1\" class=\"sk-top-container\"><div class=\"sk-text-repr-fallback\"><pre>DecisionTreeRegressor(max_depth=3, random_state=42)</pre><b>In a Jupyter environment, please rerun this cell to show the HTML representation or trust the notebook. <br />On GitHub, the HTML representation is unable to render, please try loading this page with nbviewer.org.</b></div><div class=\"sk-container\" hidden><div class=\"sk-item\"><div class=\"sk-estimator sk-toggleable\"><input class=\"sk-toggleable__control sk-hidden--visually\" id=\"sk-estimator-id-1\" type=\"checkbox\" checked><label for=\"sk-estimator-id-1\" class=\"sk-toggleable__label sk-toggleable__label-arrow\">DecisionTreeRegressor</label><div class=\"sk-toggleable__content\"><pre>DecisionTreeRegressor(max_depth=3, random_state=42)</pre></div></div></div></div></div>"
      ],
      "text/plain": [
       "DecisionTreeRegressor(max_depth=3, random_state=42)"
      ]
     },
     "execution_count": 17,
     "metadata": {},
     "output_type": "execute_result"
    }
   ],
   "source": [
    "model_dt_rolling = DecisionTreeRegressor(random_state=42, max_depth = 3)\n",
    "model_dt_rolling.fit(trainX, trainy)"
   ]
  },
  {
   "cell_type": "code",
   "execution_count": 18,
   "metadata": {},
   "outputs": [],
   "source": [
    "predictions = list()\n",
    "direction_accuracies = list() "
   ]
  },
  {
   "cell_type": "code",
   "execution_count": 19,
   "metadata": {},
   "outputs": [
    {
     "name": "stdout",
     "output_type": "stream",
     "text": [
      "[array([19.08385688, 22.15590367, 14.05657364,  5.70419682])]\n",
      ">expected=21.8, predicted=9.5\n",
      "[array([22.15590367, 14.05657364,  5.70419682, 21.77178067])]\n",
      ">expected=5.4, predicted=22.9\n",
      "[array([14.05657364,  5.70419682, 21.77178067,  5.37221127])]\n",
      ">expected=-2.3, predicted=9.5\n",
      "[array([ 5.70419682, 21.77178067,  5.37221127, -2.29737704])]\n",
      ">expected=1.8, predicted=-0.8\n",
      "[array([21.77178067,  5.37221127, -2.29737704,  1.8152799 ])]\n",
      ">expected=5.5, predicted=9.5\n",
      "[array([ 5.37221127, -2.29737704,  1.8152799 ,  5.51596431])]\n",
      ">expected=11.0, predicted=9.5\n"
     ]
    }
   ],
   "source": [
    "for i in range(len(test)):\n",
    "    # split test row into input and output columns\n",
    "    testX, testy = test[i, :-1], test[i, -1]\n",
    "    # ONLY MAKE ONE-STEP PREDICTIONS BASED ON MODEL TRAINED ONCE \n",
    "    print([testX])\n",
    "    yhat = model_dt_rolling.predict([testX])\n",
    "    # store forecast in list of predictions\n",
    "    predictions.append(yhat[0])\n",
    "    if i > 0:  # Direction accuracy is not applicable for the first prediction\n",
    "            forecast_diff = yhat - predictions[-2]\n",
    "            actual_diff = testy - test[i - 1, -1]\n",
    "            direction_accuracy = int(np.sign(forecast_diff) == np.sign(actual_diff))\n",
    "            direction_accuracies.append(direction_accuracy)\n",
    "    # summarize progress\n",
    "    print('>expected=%.1f, predicted=%.1f' % (testy, yhat))\n"
   ]
  },
  {
   "cell_type": "code",
   "execution_count": 20,
   "metadata": {},
   "outputs": [
    {
     "data": {
      "text/plain": [
       "array([19.08385688, 22.15590367, 14.05657364,  5.70419682])"
      ]
     },
     "execution_count": 20,
     "metadata": {},
     "output_type": "execute_result"
    }
   ],
   "source": [
    "test[0, :-1]"
   ]
  },
  {
   "cell_type": "code",
   "execution_count": 21,
   "metadata": {},
   "outputs": [
    {
     "data": {
      "text/plain": [
       "array([9.46715256])"
      ]
     },
     "execution_count": 21,
     "metadata": {},
     "output_type": "execute_result"
    }
   ],
   "source": [
    "model_dt_rolling.predict([test[0, :-1]])"
   ]
  },
  {
   "cell_type": "code",
   "execution_count": 22,
   "metadata": {},
   "outputs": [
    {
     "data": {
      "text/plain": [
       "[array([22.15590367, 14.05657364,  5.70419682, 21.77178067])]"
      ]
     },
     "execution_count": 22,
     "metadata": {},
     "output_type": "execute_result"
    }
   ],
   "source": [
    "[test[1, :-1]]"
   ]
  },
  {
   "cell_type": "code",
   "execution_count": 23,
   "metadata": {},
   "outputs": [
    {
     "data": {
      "text/plain": [
       "array([22.89070885])"
      ]
     },
     "execution_count": 23,
     "metadata": {},
     "output_type": "execute_result"
    }
   ],
   "source": [
    "model_dt_rolling.predict([test[1, :-1]])"
   ]
  },
  {
   "cell_type": "code",
   "execution_count": 24,
   "metadata": {},
   "outputs": [
    {
     "data": {
      "text/plain": [
       "[array([14.05657364,  5.70419682, 21.77178067,  5.37221127])]"
      ]
     },
     "execution_count": 24,
     "metadata": {},
     "output_type": "execute_result"
    }
   ],
   "source": [
    "[test[2, :-1]]"
   ]
  },
  {
   "cell_type": "code",
   "execution_count": 25,
   "metadata": {},
   "outputs": [
    {
     "data": {
      "text/plain": [
       "array([9.46715256])"
      ]
     },
     "execution_count": 25,
     "metadata": {},
     "output_type": "execute_result"
    }
   ],
   "source": [
    "model_dt_rolling.predict([test[2, :-1]])"
   ]
  },
  {
   "cell_type": "code",
   "execution_count": 26,
   "metadata": {},
   "outputs": [
    {
     "name": "stdout",
     "output_type": "stream",
     "text": [
      "[19.08385688 22.15590367 14.05657364  5.70419682]\n",
      "[22.15590367 14.05657364  5.70419682 21.77178067]\n",
      "[14.05657364  5.70419682 21.77178067  5.37221127]\n",
      "[ 5.70419682 21.77178067  5.37221127 -2.29737704]\n",
      "[21.77178067  5.37221127 -2.29737704  1.8152799 ]\n",
      "[ 5.37221127 -2.29737704  1.8152799   5.51596431]\n"
     ]
    }
   ],
   "source": [
    "for i in range(len(test)):\n",
    "    print(test[i, :-1])"
   ]
  },
  {
   "cell_type": "code",
   "execution_count": 27,
   "metadata": {},
   "outputs": [
    {
     "data": {
      "text/plain": [
       "array([[19.08385688, 22.15590367, 14.05657364,  5.70419682, 21.77178067],\n",
       "       [22.15590367, 14.05657364,  5.70419682, 21.77178067,  5.37221127],\n",
       "       [14.05657364,  5.70419682, 21.77178067,  5.37221127, -2.29737704],\n",
       "       [ 5.70419682, 21.77178067,  5.37221127, -2.29737704,  1.8152799 ],\n",
       "       [21.77178067,  5.37221127, -2.29737704,  1.8152799 ,  5.51596431],\n",
       "       [ 5.37221127, -2.29737704,  1.8152799 ,  5.51596431, 10.97189655]])"
      ]
     },
     "execution_count": 27,
     "metadata": {},
     "output_type": "execute_result"
    }
   ],
   "source": [
    "test"
   ]
  },
  {
   "cell_type": "code",
   "execution_count": 28,
   "metadata": {},
   "outputs": [
    {
     "data": {
      "text/plain": [
       "[9.467152555774701,\n",
       " 22.890708848225458,\n",
       " 9.467152555774701,\n",
       " -0.8189239997617042,\n",
       " 9.467152555774701,\n",
       " 9.467152555774701]"
      ]
     },
     "execution_count": 28,
     "metadata": {},
     "output_type": "execute_result"
    }
   ],
   "source": [
    "predictions"
   ]
  },
  {
   "cell_type": "code",
   "execution_count": 29,
   "metadata": {},
   "outputs": [
    {
     "data": {
      "text/plain": [
       "array([21.77178067,  5.37221127, -2.29737704,  1.8152799 ,  5.51596431,\n",
       "       10.97189655])"
      ]
     },
     "execution_count": 29,
     "metadata": {},
     "output_type": "execute_result"
    }
   ],
   "source": [
    "test[:, -1]"
   ]
  },
  {
   "cell_type": "code",
   "execution_count": 30,
   "metadata": {},
   "outputs": [
    {
     "name": "stdout",
     "output_type": "stream",
     "text": [
      "MAE: 8.280\n",
      "ME: 2.798\n",
      "RMSE: 10.178\n",
      "Direction Accuracy: 0.400\n"
     ]
    },
    {
     "data": {
      "image/png": "[encoded data removed]",
      "text/plain": [
       "<Figure size 640x480 with 1 Axes>"
      ]
     },
     "metadata": {},
     "output_type": "display_data"
    }
   ],
   "source": [
    "mae = mean_absolute_error(test[:, -1], predictions)\n",
    "me = np.mean(predictions - test[:, -1])  # Mean Error\n",
    "rmse = mean_squared_error(test[:, -1], predictions, squared=False)\n",
    "overall_direction_accuracy = np.mean(direction_accuracies)\n",
    "\n",
    "print('MAE: %.3f' % mae)\n",
    "print('ME: %.3f' % me)\n",
    "print('RMSE: %.3f' % rmse)\n",
    "print('Direction Accuracy: %.3f' % overall_direction_accuracy)\n",
    "# plot expected vs preducted\n",
    "plt.plot(test[:, -1], label='Expected')\n",
    "plt.plot(predictions, label='Predicted')\n",
    "plt.legend()\n",
    "plt.show()"
   ]
  },
  {
   "cell_type": "code",
   "execution_count": 31,
   "metadata": {},
   "outputs": [
    {
     "data": {
      "text/html": [
       "<div>\n",
       "<style scoped>\n",
       "    .dataframe tbody tr th:only-of-type {\n",
       "        vertical-align: middle;\n",
       "    }\n",
       "\n",
       "    .dataframe tbody tr th {\n",
       "        vertical-align: top;\n",
       "    }\n",
       "\n",
       "    .dataframe thead th {\n",
       "        text-align: right;\n",
       "    }\n",
       "</style>\n",
       "<table border=\"1\" class=\"dataframe\">\n",
       "  <thead>\n",
       "    <tr style=\"text-align: right;\">\n",
       "      <th></th>\n",
       "      <th>mae</th>\n",
       "      <th>me</th>\n",
       "      <th>rmse</th>\n",
       "      <th>direction_accuracy</th>\n",
       "    </tr>\n",
       "  </thead>\n",
       "  <tbody>\n",
       "    <tr>\n",
       "      <th>0</th>\n",
       "      <td>8.279632</td>\n",
       "      <td>2.79844</td>\n",
       "      <td>10.177761</td>\n",
       "      <td>0.4</td>\n",
       "    </tr>\n",
       "  </tbody>\n",
       "</table>\n",
       "</div>"
      ],
      "text/plain": [
       "        mae       me       rmse  direction_accuracy\n",
       "0  8.279632  2.79844  10.177761                 0.4"
      ]
     },
     "execution_count": 31,
     "metadata": {},
     "output_type": "execute_result"
    }
   ],
   "source": [
    "roll_results = {\n",
    "    'mae': [mae],\n",
    "    'me': [me],\n",
    "    'rmse': [rmse],\n",
    "    'direction_accuracy': [overall_direction_accuracy]\n",
    "}\n",
    "\n",
    "# Convert the dictionary into a DataFrame\n",
    "DecisionTree_roll = pd.DataFrame(roll_results)\n",
    "DecisionTree_roll"
   ]
  },
  {
   "cell_type": "code",
   "execution_count": 32,
   "metadata": {},
   "outputs": [
    {
     "name": "stdout",
     "output_type": "stream",
     "text": [
      "Stored 'DecisionTree_roll' (DataFrame)\n"
     ]
    }
   ],
   "source": [
    "%store DecisionTree_roll"
   ]
  },
  {
   "cell_type": "code",
   "execution_count": null,
   "metadata": {},
   "outputs": [],
   "source": []
  },
  {
   "cell_type": "code",
   "execution_count": null,
   "metadata": {},
   "outputs": [],
   "source": []
  },
  {
   "cell_type": "markdown",
   "metadata": {},
   "source": [
    "## Static (Multi-step) Forecast\n",
    "\n",
    "Since the above methods use the 4-week lagged values as inputs, it is not possible to use the same method to do static (multi-step) forecasting. For this, we will need to train the model on the original training dataset, not expose it to the test data set and ask it to predict for 6 steps ahead. \n",
    "\n",
    "This can be achieved using the ForecasterAutoreg class from the SKforecast package. This class turns any regressor compatible with the scikit-learn API into a recursive autoregressive (multi-step) forecaster."
   ]
  },
  {
   "cell_type": "code",
   "execution_count": 33,
   "metadata": {},
   "outputs": [],
   "source": [
    "from skforecast.ForecasterAutoreg import ForecasterAutoreg"
   ]
  },
  {
   "cell_type": "code",
   "execution_count": 34,
   "metadata": {},
   "outputs": [],
   "source": [
    "# Define the forecaster\n",
    "forecaster = ForecasterAutoreg(\n",
    "    # Add the sklearn regressor and lags\n",
    "    regressor = DecisionTreeRegressor(random_state = 123),\n",
    "    lags = 4\n",
    ")"
   ]
  },
  {
   "cell_type": "code",
   "execution_count": 35,
   "metadata": {},
   "outputs": [],
   "source": [
    "y_train = df_train['wPreis']\n",
    "\n",
    "# Check if y_train is a pandas Series\n",
    "# print(isinstance(y_train, pd.Series))  # Should print True"
   ]
  },
  {
   "cell_type": "code",
   "execution_count": 36,
   "metadata": {},
   "outputs": [
    {
     "name": "stderr",
     "output_type": "stream",
     "text": [
      "/Library/Frameworks/Python.framework/Versions/3.11/lib/python3.11/site-packages/skforecast/utils/utils.py:805: UserWarning: `y` has DatetimeIndex index but no frequency. Index is overwritten with a RangeIndex of step 1.\n",
      "  warnings.warn(\n",
      "/Library/Frameworks/Python.framework/Versions/3.11/lib/python3.11/site-packages/skforecast/utils/utils.py:805: UserWarning: `y` has DatetimeIndex index but no frequency. Index is overwritten with a RangeIndex of step 1.\n",
      "  warnings.warn(\n"
     ]
    }
   ],
   "source": [
    "# Now you can pass y_train to forecaster.fit()\n",
    "forecaster.fit(y=y_train)"
   ]
  },
  {
   "cell_type": "code",
   "execution_count": 37,
   "metadata": {},
   "outputs": [
    {
     "name": "stderr",
     "output_type": "stream",
     "text": [
      "/Library/Frameworks/Python.framework/Versions/3.11/lib/python3.11/site-packages/skforecast/utils/utils.py:867: UserWarning: `last_window` has DatetimeIndex index but no frequency. Index is overwritten with a RangeIndex of step 1.\n",
      "  warnings.warn(\n"
     ]
    }
   ],
   "source": [
    "# Predict the test period\n",
    "predicted_test = forecaster.predict(steps = len(df_test))"
   ]
  },
  {
   "cell_type": "code",
   "execution_count": 38,
   "metadata": {},
   "outputs": [
    {
     "data": {
      "text/plain": [
       "4    8.543595\n",
       "5    3.564921\n",
       "6    9.247801\n",
       "7    6.450720\n",
       "8    3.912658\n",
       "9    2.668804\n",
       "Name: pred, dtype: float64"
      ]
     },
     "execution_count": 38,
     "metadata": {},
     "output_type": "execute_result"
    }
   ],
   "source": [
    "predicted_test"
   ]
  },
  {
   "cell_type": "code",
   "execution_count": 39,
   "metadata": {},
   "outputs": [],
   "source": [
    "def forecast_accuracy(forecast, actual):\n",
    "      mae = mean_absolute_error(actual, forecast) # MAE\n",
    "      me = np.mean(forecast - actual)             # ME\n",
    "      rmse = np.mean((forecast - actual)**2)**.5  # RMSE\n",
    "      # Direction accuracy\n",
    "      forecast_diff = np.diff(forecast)\n",
    "      actual_diff = np.diff(actual)\n",
    "      direction_accuracy = np.mean(np.sign(forecast_diff) == np.sign(actual_diff))\n",
    "    \n",
    "      return {'mae': mae, 'me': me, 'rmse': rmse, 'direction_accuracy': direction_accuracy}\n"
   ]
  },
  {
   "cell_type": "code",
   "execution_count": 40,
   "metadata": {},
   "outputs": [],
   "source": [
    "predicted_test.index = df_test.index\n"
   ]
  },
  {
   "cell_type": "code",
   "execution_count": 41,
   "metadata": {},
   "outputs": [
    {
     "name": "stdout",
     "output_type": "stream",
     "text": [
      "Decision Tree Static Forecast Accuracy of: wPreis\n",
      "mae    :  6.8537\n",
      "me     :  -1.4602\n",
      "rmse   :  8.2112\n",
      "direction_accuracy :  0.2\n"
     ]
    },
    {
     "data": {
      "image/png": "[encoded data removed]",
      "text/plain": [
       "<Figure size 640x480 with 1 Axes>"
      ]
     },
     "metadata": {},
     "output_type": "display_data"
    }
   ],
   "source": [
    "def adjust(val, length= 6): return str(val).ljust(length) # length\n",
    "print('Decision Tree Static Forecast Accuracy of: wPreis')\n",
    "stat_accuracy_prod = forecast_accuracy(predicted_test, df_test['wPreis'])\n",
    "for k, v in stat_accuracy_prod.items():\n",
    "    print(adjust(k), ': ', round(v,4))\n",
    "\n",
    "\n",
    "# plot expected vs preducted\n",
    "plt.plot(df_test['wPreis'], label='Expected')\n",
    "plt.plot(predicted_test, label='Predicted')\n",
    "plt.legend()\n",
    "plt.show()"
   ]
  },
  {
   "cell_type": "code",
   "execution_count": 42,
   "metadata": {},
   "outputs": [
    {
     "data": {
      "text/html": [
       "<div>\n",
       "<style scoped>\n",
       "    .dataframe tbody tr th:only-of-type {\n",
       "        vertical-align: middle;\n",
       "    }\n",
       "\n",
       "    .dataframe tbody tr th {\n",
       "        vertical-align: top;\n",
       "    }\n",
       "\n",
       "    .dataframe thead th {\n",
       "        text-align: right;\n",
       "    }\n",
       "</style>\n",
       "<table border=\"1\" class=\"dataframe\">\n",
       "  <thead>\n",
       "    <tr style=\"text-align: right;\">\n",
       "      <th></th>\n",
       "      <th>mae</th>\n",
       "      <th>me</th>\n",
       "      <th>rmse</th>\n",
       "      <th>direction_accuracy</th>\n",
       "    </tr>\n",
       "  </thead>\n",
       "  <tbody>\n",
       "    <tr>\n",
       "      <th>0</th>\n",
       "      <td>6.853749</td>\n",
       "      <td>-1.460209</td>\n",
       "      <td>8.211187</td>\n",
       "      <td>0.2</td>\n",
       "    </tr>\n",
       "  </tbody>\n",
       "</table>\n",
       "</div>"
      ],
      "text/plain": [
       "        mae        me      rmse  direction_accuracy\n",
       "0  6.853749 -1.460209  8.211187                 0.2"
      ]
     },
     "execution_count": 42,
     "metadata": {},
     "output_type": "execute_result"
    }
   ],
   "source": [
    "DecisionTree_static = pd.DataFrame([stat_accuracy_prod])\n",
    "DecisionTree_static\n",
    "\n"
   ]
  },
  {
   "cell_type": "code",
   "execution_count": 43,
   "metadata": {},
   "outputs": [
    {
     "name": "stdout",
     "output_type": "stream",
     "text": [
      "Stored 'DecisionTree_static' (DataFrame)\n"
     ]
    }
   ],
   "source": [
    "%store DecisionTree_static"
   ]
  },
  {
   "cell_type": "code",
   "execution_count": null,
   "metadata": {},
   "outputs": [],
   "source": []
  },
  {
   "cell_type": "code",
   "execution_count": null,
   "metadata": {},
   "outputs": [],
   "source": []
  },
  {
   "cell_type": "markdown",
   "metadata": {},
   "source": [
    "## Walk-forward validation"
   ]
  },
  {
   "cell_type": "markdown",
   "metadata": {},
   "source": [
    "Now we try the Walk-forward validation using the ForecasterAutoreg to check the results against the standard method"
   ]
  },
  {
   "cell_type": "code",
   "execution_count": 44,
   "metadata": {},
   "outputs": [],
   "source": [
    "history = y_train "
   ]
  },
  {
   "cell_type": "code",
   "execution_count": 45,
   "metadata": {},
   "outputs": [
    {
     "name": "stderr",
     "output_type": "stream",
     "text": [
      "/Library/Frameworks/Python.framework/Versions/3.11/lib/python3.11/site-packages/skforecast/utils/utils.py:805: UserWarning: `y` has DatetimeIndex index but no frequency. Index is overwritten with a RangeIndex of step 1.\n",
      "  warnings.warn(\n",
      "/Library/Frameworks/Python.framework/Versions/3.11/lib/python3.11/site-packages/skforecast/utils/utils.py:805: UserWarning: `y` has DatetimeIndex index but no frequency. Index is overwritten with a RangeIndex of step 1.\n",
      "  warnings.warn(\n",
      "/Library/Frameworks/Python.framework/Versions/3.11/lib/python3.11/site-packages/skforecast/utils/utils.py:867: UserWarning: `last_window` has DatetimeIndex index but no frequency. Index is overwritten with a RangeIndex of step 1.\n",
      "  warnings.warn(\n"
     ]
    }
   ],
   "source": [
    "predictions = list()\n",
    "for t in range(len(df_test)): # 6 times reiterate\n",
    "    forecaster.fit(y=history)\n",
    "    output = forecaster.predict(steps = 1)\n",
    "    predictions.append(output)\n",
    "    obs = df_test['wPreis'][t]\n",
    "    obs_series = pd.Series(obs)\n",
    "    history = history.append(obs_series, ignore_index=True)\n"
   ]
  },
  {
   "cell_type": "code",
   "execution_count": 46,
   "metadata": {},
   "outputs": [
    {
     "data": {
      "text/plain": [
       "[4    8.543595\n",
       " Name: pred, dtype: float64,\n",
       " 182    19.057581\n",
       " Name: pred, dtype: float64,\n",
       " 183    4.063304\n",
       " Name: pred, dtype: float64,\n",
       " 184   -0.307413\n",
       " Name: pred, dtype: float64,\n",
       " 185    21.771781\n",
       " Name: pred, dtype: float64,\n",
       " 186    10.848469\n",
       " Name: pred, dtype: float64]"
      ]
     },
     "execution_count": 46,
     "metadata": {},
     "output_type": "execute_result"
    }
   ],
   "source": [
    "predictions "
   ]
  },
  {
   "cell_type": "code",
   "execution_count": 47,
   "metadata": {},
   "outputs": [
    {
     "data": {
      "text/plain": [
       "date\n",
       "2024-03-18     8.543595\n",
       "2024-03-25    19.057581\n",
       "2024-04-01     4.063304\n",
       "2024-04-08    -0.307413\n",
       "2024-04-15    21.771781\n",
       "2024-04-22    10.848469\n",
       "Name: pred, dtype: float64"
      ]
     },
     "execution_count": 47,
     "metadata": {},
     "output_type": "execute_result"
    }
   ],
   "source": [
    "predictions_series = pd.concat(predictions, ignore_index=True)\n",
    "predictions_series.index = df_test.index\n",
    "predictions_series"
   ]
  },
  {
   "cell_type": "code",
   "execution_count": 48,
   "metadata": {},
   "outputs": [
    {
     "name": "stdout",
     "output_type": "stream",
     "text": [
      "Decision Tree Walk-forward Forecast Accuracy of: wPreis\n",
      "mae    :  8.6294\n",
      "me     :  3.4713\n",
      "rmse   :  10.5791\n",
      "direction_accuracy :  0.4\n"
     ]
    }
   ],
   "source": [
    "def adjust(val, length= 6): return str(val).ljust(length) # length\n",
    "print('Decision Tree Walk-forward Forecast Accuracy of: wPreis')\n",
    "accuracy_prod = forecast_accuracy(predictions_series, df_test['wPreis'])\n",
    "for k, v in accuracy_prod.items():\n",
    "    print(adjust(k), ': ', round(v,4))"
   ]
  },
  {
   "cell_type": "code",
   "execution_count": 49,
   "metadata": {},
   "outputs": [
    {
     "data": {
      "image/png": "[encoded data removed]",
      "text/plain": [
       "<Figure size 640x480 with 1 Axes>"
      ]
     },
     "metadata": {},
     "output_type": "display_data"
    }
   ],
   "source": [
    "# plot expected vs preducted\n",
    "plt.plot(df_test['wPreis'], label='Expected')\n",
    "plt.plot(predictions_series, label='Predicted')\n",
    "plt.legend()\n",
    "plt.show()"
   ]
  },
  {
   "cell_type": "markdown",
   "metadata": {},
   "source": [
    "This was walk-forward validation"
   ]
  },
  {
   "attachments": {},
   "cell_type": "markdown",
   "metadata": {},
   "source": [
    "## All other clusters and categories "
   ]
  },
  {
   "cell_type": "code",
   "execution_count": 50,
   "metadata": {},
   "outputs": [],
   "source": [
    "def static_forecast(data):\n",
    "    category = data['full'].unique()\n",
    "    cluster = data['Plz'].unique()\n",
    "    splitratio = 0.05\n",
    "    nobs = round(len(data)*splitratio)\n",
    "\n",
    "    df_train, df_test = data[0:-nobs], data[-nobs:]\n",
    "\n",
    "\n",
    "    # Define the forecaster\n",
    "    forecaster = ForecasterAutoreg(\n",
    "    # Add the sklearn regressor and lags\n",
    "    regressor = DecisionTreeRegressor(random_state = 123),\n",
    "    lags = 4\n",
    "    )\n",
    "\n",
    "    y_train = df_train['wPreis']\n",
    "    forecaster.fit(y=y_train)\n",
    "    predicted_test = forecaster.predict(steps = len(df_test))\n",
    "    predicted_test.index = df_test.index\n",
    "\n",
    "    print(f'Decision Tree Static Forecast Accuracy of: wPreis in {cluster} for {category}')\n",
    "    stat_accuracy_prod = forecast_accuracy(predicted_test, df_test['wPreis'])\n",
    "    for k, v in stat_accuracy_prod.items():\n",
    "        print(adjust(k), ': ', round(v,4))\n",
    "\n",
    "\n",
    "\n",
    "\n"
   ]
  },
  {
   "cell_type": "code",
   "execution_count": 51,
   "metadata": {},
   "outputs": [],
   "source": [
    "def rolling_forecast(data):\n",
    "    category = data['full'].unique()\n",
    "    cluster = data['Plz'].unique()\n",
    "    splitratio = 0.05\n",
    "    nobs = round(len(data)*splitratio)\n",
    "\n",
    "    X = data[\"wPreis\"].values.reshape(-1, 1)\n",
    "\n",
    "    dt_data = series_to_supervised(X, n_in=4)\n",
    "\n",
    "\n",
    "    train, test = train_test_split(dt_data, 6)\n",
    "    train = asarray(train)\n",
    "    trainX, trainy = train[:, :-1], train[:, -1]\n",
    "\n",
    "\n",
    "    model_dt_rolling = DecisionTreeRegressor(random_state=42, max_depth = 3)\n",
    "    model_dt_rolling.fit(trainX, trainy)\n",
    "\n",
    "    predictions = list()\n",
    "    direction_accuracies = list()   \n",
    "\n",
    "    for i in range(len(test)):\n",
    "        # split test row into input and output columns\n",
    "        testX, testy = test[i, :-1], test[i, -1]\n",
    "        # ONLY MAKE ONE-STEP PREDICTIONS BASED ON MODEL TRAINED ONCE \n",
    "        # print([testX])\n",
    "        yhat = model_dt_rolling.predict([testX])\n",
    "        # store forecast in list of predictions\n",
    "        predictions.append(yhat[0])\n",
    "        if i > 0:  # Direction accuracy is not applicable for the first prediction\n",
    "                forecast_diff = yhat - predictions[-2]\n",
    "                actual_diff = testy - test[i - 1, -1]\n",
    "                direction_accuracy = int(np.sign(forecast_diff) == np.sign(actual_diff))\n",
    "                direction_accuracies.append(direction_accuracy)\n",
    "        # summarize progress\n",
    "        # print('>expected=%.1f, predicted=%.1f' % (testy, yhat))\n",
    "\n",
    "\n",
    "    mae = mean_absolute_error(test[:, -1], predictions)\n",
    "    me = np.mean(predictions - test[:, -1])  # Mean Error\n",
    "    rmse = mean_squared_error(test[:, -1], predictions, squared=False)\n",
    "    overall_direction_accuracy = np.mean(direction_accuracies)\n",
    "\n",
    "    print(f'Decision Tree Rolling forecast Accuracy of: wPreis in {cluster} for {category}')\n",
    "    print('MAE: %.3f' % mae)\n",
    "    print('ME: %.3f' % me)\n",
    "    print('RMSE: %.3f' % rmse)\n",
    "    print('Direction Accuracy: %.3f' % overall_direction_accuracy)"
   ]
  },
  {
   "cell_type": "code",
   "execution_count": 52,
   "metadata": {},
   "outputs": [],
   "source": [
    "def wf_forecast(data):\n",
    "    category = data['full'].unique()\n",
    "    cluster = data['Plz'].unique()\n",
    "    splitratio = 0.05\n",
    "    nobs = round(len(data)*splitratio)\n",
    "\n",
    "    X = data[\"wPreis\"].values.reshape(-1, 1)\n",
    "\n",
    "    dt_data = series_to_supervised(X, n_in=4)\n",
    "\n",
    "    print(f'Decision Tree Walk-forward forecast Accuracy of: wPreis in {cluster} for {category}')\n",
    "    wf_accuracy_prod = dt_walk_forward_validation(dt_data, nobs)\n",
    "    mae = wf_accuracy_prod['mae']\n",
    "    me = wf_accuracy_prod['me']\n",
    "    rmse = wf_accuracy_prod['rmse']\n",
    "    expected = wf_accuracy_prod['expected']\n",
    "    predictions = wf_accuracy_prod['predictions']\n",
    "    direction_accuracy = wf_accuracy_prod['direction_accuracy']\n",
    "    print('MAE: %.3f' % mae)\n",
    "    print('ME: %.3f' % me)\n",
    "    print('RMSE: %.3f' % rmse)\n",
    "    print('Direction Accuracy: %.3f' % direction_accuracy)\n"
   ]
  },
  {
   "cell_type": "code",
   "execution_count": 53,
   "metadata": {},
   "outputs": [],
   "source": [
    "clusters = df['Plz'].unique() \n",
    "datasets = []\n",
    "for cluster in clusters:\n",
    "    ds = df[(df['Plz'] == cluster)]\n",
    "    categories = ds['full'].unique()\n",
    "    for category in categories:\n",
    "        datasets.append(ds[ds['full'] == category])"
   ]
  },
  {
   "cell_type": "code",
   "execution_count": 54,
   "metadata": {},
   "outputs": [],
   "source": [
    "import warnings\n",
    "\n",
    "# Filter out the specific warning\n",
    "warnings.filterwarnings('ignore', message=\"A date index has been provided, but it has no associated frequency information\")"
   ]
  },
  {
   "cell_type": "code",
   "execution_count": 55,
   "metadata": {},
   "outputs": [
    {
     "name": "stderr",
     "output_type": "stream",
     "text": [
      "/Library/Frameworks/Python.framework/Versions/3.11/lib/python3.11/site-packages/skforecast/utils/utils.py:805: UserWarning: `y` has DatetimeIndex index but no frequency. Index is overwritten with a RangeIndex of step 1.\n",
      "  warnings.warn(\n",
      "/Library/Frameworks/Python.framework/Versions/3.11/lib/python3.11/site-packages/skforecast/utils/utils.py:805: UserWarning: `y` has DatetimeIndex index but no frequency. Index is overwritten with a RangeIndex of step 1.\n",
      "  warnings.warn(\n",
      "/Library/Frameworks/Python.framework/Versions/3.11/lib/python3.11/site-packages/skforecast/utils/utils.py:867: UserWarning: `last_window` has DatetimeIndex index but no frequency. Index is overwritten with a RangeIndex of step 1.\n",
      "  warnings.warn(\n",
      "/Library/Frameworks/Python.framework/Versions/3.11/lib/python3.11/site-packages/skforecast/utils/utils.py:805: UserWarning: `y` has DatetimeIndex index but no frequency. Index is overwritten with a RangeIndex of step 1.\n",
      "  warnings.warn(\n",
      "/Library/Frameworks/Python.framework/Versions/3.11/lib/python3.11/site-packages/skforecast/utils/utils.py:805: UserWarning: `y` has DatetimeIndex index but no frequency. Index is overwritten with a RangeIndex of step 1.\n",
      "  warnings.warn(\n",
      "/Library/Frameworks/Python.framework/Versions/3.11/lib/python3.11/site-packages/skforecast/utils/utils.py:867: UserWarning: `last_window` has DatetimeIndex index but no frequency. Index is overwritten with a RangeIndex of step 1.\n",
      "  warnings.warn(\n"
     ]
    },
    {
     "name": "stdout",
     "output_type": "stream",
     "text": [
      "Decision Tree Static Forecast Accuracy of: wPreis in [\"['25', '24']\"] for ['A2 -  geschreddert']\n",
      "mae    :  14.5852\n",
      "me     :  12.801\n",
      "rmse   :  16.8216\n",
      "direction_accuracy :  0.125\n",
      "Decision Tree Rolling forecast Accuracy of: wPreis in [\"['25', '24']\"] for ['A2 -  geschreddert']\n",
      "MAE: 10.349\n",
      "ME: 7.547\n",
      "RMSE: 11.770\n",
      "Direction Accuracy: 0.200\n",
      "Decision Tree Walk-forward forecast Accuracy of: wPreis in [\"['25', '24']\"] for ['A2 -  geschreddert']\n",
      "MAE: 8.953\n",
      "ME: 6.383\n",
      "RMSE: 11.378\n",
      "Direction Accuracy: 0.500\n",
      "Decision Tree Static Forecast Accuracy of: wPreis in [\"['25', '24']\"] for ['A1 & A2 -  geschreddert']\n",
      "mae    :  10.6173\n",
      "me     :  6.9747\n",
      "rmse   :  11.5339\n",
      "direction_accuracy :  0.25\n",
      "Decision Tree Rolling forecast Accuracy of: wPreis in [\"['25', '24']\"] for ['A1 & A2 -  geschreddert']\n",
      "MAE: 8.280\n",
      "ME: 2.798\n",
      "RMSE: 10.178\n",
      "Direction Accuracy: 0.400\n",
      "Decision Tree Walk-forward forecast Accuracy of: wPreis in [\"['25', '24']\"] for ['A1 & A2 -  geschreddert']\n",
      "MAE: 6.921\n",
      "ME: 1.779\n",
      "RMSE: 8.684\n",
      "Direction Accuracy: 0.625\n",
      "Decision Tree Static Forecast Accuracy of: wPreis in [\"['25', '24']\"] for ['A2 & A3 -  geschreddert']\n",
      "mae    :  17.4428\n",
      "me     :  16.6945\n",
      "rmse   :  21.0898\n",
      "direction_accuracy :  0.5\n",
      "Decision Tree Rolling forecast Accuracy of: wPreis in [\"['25', '24']\"] for ['A2 & A3 -  geschreddert']\n",
      "MAE: 7.073\n",
      "ME: 5.725\n",
      "RMSE: 8.571\n",
      "Direction Accuracy: 0.000\n",
      "Decision Tree Walk-forward forecast Accuracy of: wPreis in [\"['25', '24']\"] for ['A2 & A3 -  geschreddert']\n",
      "MAE: 7.531\n",
      "ME: 3.879\n",
      "RMSE: 9.307\n",
      "Direction Accuracy: 0.250\n",
      "Decision Tree Static Forecast Accuracy of: wPreis in [\"['80', '81', '82', '83', '84', '85', '93', '94']\"] for ['A3 -  geschreddert']\n",
      "mae    :  5.7896\n",
      "me     :  -5.7896\n",
      "rmse   :  6.2563\n",
      "direction_accuracy :  0.5\n",
      "Decision Tree Rolling forecast Accuracy of: wPreis in [\"['80', '81', '82', '83', '84', '85', '93', '94']\"] for ['A3 -  geschreddert']\n",
      "MAE: 6.002\n",
      "ME: -3.213\n",
      "RMSE: 6.364\n",
      "Direction Accuracy: 0.200\n",
      "Decision Tree Walk-forward forecast Accuracy of: wPreis in [\"['80', '81', '82', '83', '84', '85', '93', '94']\"] for ['A3 -  geschreddert']\n",
      "MAE: 2.271\n",
      "ME: -1.961\n",
      "RMSE: 2.794\n",
      "Direction Accuracy: 0.500\n",
      "Decision Tree Static Forecast Accuracy of: wPreis in [\"['80', '81', '82', '83', '84', '85', '93', '94']\"] for ['A1 & A2 -  geschreddert']\n",
      "mae    :  3.4228\n",
      "me     :  2.4687\n",
      "rmse   :  5.0873\n",
      "direction_accuracy :  0.4286\n",
      "Decision Tree Rolling forecast Accuracy of: wPreis in [\"['80', '81', '82', '83', '84', '85', '93', '94']\"] for ['A1 & A2 -  geschreddert']\n",
      "MAE: 4.898\n",
      "ME: 4.587\n",
      "RMSE: 6.584\n",
      "Direction Accuracy: 0.000\n",
      "Decision Tree Walk-forward forecast Accuracy of: wPreis in [\"['80', '81', '82', '83', '84', '85', '93', '94']\"] for ['A1 & A2 -  geschreddert']\n",
      "MAE: 2.788\n",
      "ME: 1.094\n",
      "RMSE: 5.350\n",
      "Direction Accuracy: 0.429\n",
      "Decision Tree Static Forecast Accuracy of: wPreis in [\"['80', '81', '82', '83', '84', '85', '93', '94']\"] for ['A2 & A3 -  geschreddert']\n",
      "mae    :  3.3459\n",
      "me     :  -2.0696\n",
      "rmse   :  4.4118\n",
      "direction_accuracy :  0.25\n",
      "Decision Tree Rolling forecast Accuracy of: wPreis in [\"['80', '81', '82', '83', '84', '85', '93', '94']\"] for ['A2 & A3 -  geschreddert']\n",
      "MAE: 4.919\n",
      "ME: -3.455\n",
      "RMSE: 5.433\n",
      "Direction Accuracy: 0.200\n",
      "Decision Tree Walk-forward forecast Accuracy of: wPreis in [\"['80', '81', '82', '83', '84', '85', '93', '94']\"] for ['A2 & A3 -  geschreddert']\n"
     ]
    },
    {
     "name": "stderr",
     "output_type": "stream",
     "text": [
      "/Library/Frameworks/Python.framework/Versions/3.11/lib/python3.11/site-packages/skforecast/utils/utils.py:805: UserWarning: `y` has DatetimeIndex index but no frequency. Index is overwritten with a RangeIndex of step 1.\n",
      "  warnings.warn(\n",
      "/Library/Frameworks/Python.framework/Versions/3.11/lib/python3.11/site-packages/skforecast/utils/utils.py:805: UserWarning: `y` has DatetimeIndex index but no frequency. Index is overwritten with a RangeIndex of step 1.\n",
      "  warnings.warn(\n",
      "/Library/Frameworks/Python.framework/Versions/3.11/lib/python3.11/site-packages/skforecast/utils/utils.py:867: UserWarning: `last_window` has DatetimeIndex index but no frequency. Index is overwritten with a RangeIndex of step 1.\n",
      "  warnings.warn(\n",
      "/Library/Frameworks/Python.framework/Versions/3.11/lib/python3.11/site-packages/skforecast/utils/utils.py:805: UserWarning: `y` has DatetimeIndex index but no frequency. Index is overwritten with a RangeIndex of step 1.\n",
      "  warnings.warn(\n",
      "/Library/Frameworks/Python.framework/Versions/3.11/lib/python3.11/site-packages/skforecast/utils/utils.py:805: UserWarning: `y` has DatetimeIndex index but no frequency. Index is overwritten with a RangeIndex of step 1.\n",
      "  warnings.warn(\n",
      "/Library/Frameworks/Python.framework/Versions/3.11/lib/python3.11/site-packages/skforecast/utils/utils.py:867: UserWarning: `last_window` has DatetimeIndex index but no frequency. Index is overwritten with a RangeIndex of step 1.\n",
      "  warnings.warn(\n",
      "/Library/Frameworks/Python.framework/Versions/3.11/lib/python3.11/site-packages/skforecast/utils/utils.py:805: UserWarning: `y` has DatetimeIndex index but no frequency. Index is overwritten with a RangeIndex of step 1.\n",
      "  warnings.warn(\n",
      "/Library/Frameworks/Python.framework/Versions/3.11/lib/python3.11/site-packages/skforecast/utils/utils.py:805: UserWarning: `y` has DatetimeIndex index but no frequency. Index is overwritten with a RangeIndex of step 1.\n",
      "  warnings.warn(\n",
      "/Library/Frameworks/Python.framework/Versions/3.11/lib/python3.11/site-packages/skforecast/utils/utils.py:867: UserWarning: `last_window` has DatetimeIndex index but no frequency. Index is overwritten with a RangeIndex of step 1.\n",
      "  warnings.warn(\n",
      "/Library/Frameworks/Python.framework/Versions/3.11/lib/python3.11/site-packages/skforecast/utils/utils.py:805: UserWarning: `y` has DatetimeIndex index but no frequency. Index is overwritten with a RangeIndex of step 1.\n",
      "  warnings.warn(\n",
      "/Library/Frameworks/Python.framework/Versions/3.11/lib/python3.11/site-packages/skforecast/utils/utils.py:805: UserWarning: `y` has DatetimeIndex index but no frequency. Index is overwritten with a RangeIndex of step 1.\n",
      "  warnings.warn(\n",
      "/Library/Frameworks/Python.framework/Versions/3.11/lib/python3.11/site-packages/skforecast/utils/utils.py:867: UserWarning: `last_window` has DatetimeIndex index but no frequency. Index is overwritten with a RangeIndex of step 1.\n",
      "  warnings.warn(\n",
      "/Library/Frameworks/Python.framework/Versions/3.11/lib/python3.11/site-packages/skforecast/utils/utils.py:805: UserWarning: `y` has DatetimeIndex index but no frequency. Index is overwritten with a RangeIndex of step 1.\n",
      "  warnings.warn(\n",
      "/Library/Frameworks/Python.framework/Versions/3.11/lib/python3.11/site-packages/skforecast/utils/utils.py:805: UserWarning: `y` has DatetimeIndex index but no frequency. Index is overwritten with a RangeIndex of step 1.\n",
      "  warnings.warn(\n",
      "/Library/Frameworks/Python.framework/Versions/3.11/lib/python3.11/site-packages/skforecast/utils/utils.py:867: UserWarning: `last_window` has DatetimeIndex index but no frequency. Index is overwritten with a RangeIndex of step 1.\n",
      "  warnings.warn(\n",
      "/Library/Frameworks/Python.framework/Versions/3.11/lib/python3.11/site-packages/skforecast/utils/utils.py:805: UserWarning: `y` has DatetimeIndex index but no frequency. Index is overwritten with a RangeIndex of step 1.\n",
      "  warnings.warn(\n",
      "/Library/Frameworks/Python.framework/Versions/3.11/lib/python3.11/site-packages/skforecast/utils/utils.py:805: UserWarning: `y` has DatetimeIndex index but no frequency. Index is overwritten with a RangeIndex of step 1.\n",
      "  warnings.warn(\n",
      "/Library/Frameworks/Python.framework/Versions/3.11/lib/python3.11/site-packages/skforecast/utils/utils.py:867: UserWarning: `last_window` has DatetimeIndex index but no frequency. Index is overwritten with a RangeIndex of step 1.\n",
      "  warnings.warn(\n",
      "/Library/Frameworks/Python.framework/Versions/3.11/lib/python3.11/site-packages/skforecast/utils/utils.py:805: UserWarning: `y` has DatetimeIndex index but no frequency. Index is overwritten with a RangeIndex of step 1.\n",
      "  warnings.warn(\n",
      "/Library/Frameworks/Python.framework/Versions/3.11/lib/python3.11/site-packages/skforecast/utils/utils.py:805: UserWarning: `y` has DatetimeIndex index but no frequency. Index is overwritten with a RangeIndex of step 1.\n",
      "  warnings.warn(\n",
      "/Library/Frameworks/Python.framework/Versions/3.11/lib/python3.11/site-packages/skforecast/utils/utils.py:867: UserWarning: `last_window` has DatetimeIndex index but no frequency. Index is overwritten with a RangeIndex of step 1.\n",
      "  warnings.warn(\n",
      "/Library/Frameworks/Python.framework/Versions/3.11/lib/python3.11/site-packages/skforecast/utils/utils.py:805: UserWarning: `y` has DatetimeIndex index but no frequency. Index is overwritten with a RangeIndex of step 1.\n",
      "  warnings.warn(\n",
      "/Library/Frameworks/Python.framework/Versions/3.11/lib/python3.11/site-packages/skforecast/utils/utils.py:805: UserWarning: `y` has DatetimeIndex index but no frequency. Index is overwritten with a RangeIndex of step 1.\n",
      "  warnings.warn(\n",
      "/Library/Frameworks/Python.framework/Versions/3.11/lib/python3.11/site-packages/skforecast/utils/utils.py:867: UserWarning: `last_window` has DatetimeIndex index but no frequency. Index is overwritten with a RangeIndex of step 1.\n",
      "  warnings.warn(\n",
      "/Library/Frameworks/Python.framework/Versions/3.11/lib/python3.11/site-packages/skforecast/utils/utils.py:805: UserWarning: `y` has DatetimeIndex index but no frequency. Index is overwritten with a RangeIndex of step 1.\n",
      "  warnings.warn(\n",
      "/Library/Frameworks/Python.framework/Versions/3.11/lib/python3.11/site-packages/skforecast/utils/utils.py:805: UserWarning: `y` has DatetimeIndex index but no frequency. Index is overwritten with a RangeIndex of step 1.\n",
      "  warnings.warn(\n",
      "/Library/Frameworks/Python.framework/Versions/3.11/lib/python3.11/site-packages/skforecast/utils/utils.py:867: UserWarning: `last_window` has DatetimeIndex index but no frequency. Index is overwritten with a RangeIndex of step 1.\n",
      "  warnings.warn(\n",
      "/Library/Frameworks/Python.framework/Versions/3.11/lib/python3.11/site-packages/skforecast/utils/utils.py:805: UserWarning: `y` has DatetimeIndex index but no frequency. Index is overwritten with a RangeIndex of step 1.\n",
      "  warnings.warn(\n",
      "/Library/Frameworks/Python.framework/Versions/3.11/lib/python3.11/site-packages/skforecast/utils/utils.py:805: UserWarning: `y` has DatetimeIndex index but no frequency. Index is overwritten with a RangeIndex of step 1.\n",
      "  warnings.warn(\n",
      "/Library/Frameworks/Python.framework/Versions/3.11/lib/python3.11/site-packages/skforecast/utils/utils.py:867: UserWarning: `last_window` has DatetimeIndex index but no frequency. Index is overwritten with a RangeIndex of step 1.\n",
      "  warnings.warn(\n",
      "/Library/Frameworks/Python.framework/Versions/3.11/lib/python3.11/site-packages/skforecast/utils/utils.py:805: UserWarning: `y` has DatetimeIndex index but no frequency. Index is overwritten with a RangeIndex of step 1.\n",
      "  warnings.warn(\n",
      "/Library/Frameworks/Python.framework/Versions/3.11/lib/python3.11/site-packages/skforecast/utils/utils.py:805: UserWarning: `y` has DatetimeIndex index but no frequency. Index is overwritten with a RangeIndex of step 1.\n",
      "  warnings.warn(\n",
      "/Library/Frameworks/Python.framework/Versions/3.11/lib/python3.11/site-packages/skforecast/utils/utils.py:867: UserWarning: `last_window` has DatetimeIndex index but no frequency. Index is overwritten with a RangeIndex of step 1.\n",
      "  warnings.warn(\n",
      "/Library/Frameworks/Python.framework/Versions/3.11/lib/python3.11/site-packages/skforecast/utils/utils.py:805: UserWarning: `y` has DatetimeIndex index but no frequency. Index is overwritten with a RangeIndex of step 1.\n",
      "  warnings.warn(\n",
      "/Library/Frameworks/Python.framework/Versions/3.11/lib/python3.11/site-packages/skforecast/utils/utils.py:805: UserWarning: `y` has DatetimeIndex index but no frequency. Index is overwritten with a RangeIndex of step 1.\n",
      "  warnings.warn(\n",
      "/Library/Frameworks/Python.framework/Versions/3.11/lib/python3.11/site-packages/skforecast/utils/utils.py:867: UserWarning: `last_window` has DatetimeIndex index but no frequency. Index is overwritten with a RangeIndex of step 1.\n",
      "  warnings.warn(\n",
      "/Library/Frameworks/Python.framework/Versions/3.11/lib/python3.11/site-packages/skforecast/utils/utils.py:805: UserWarning: `y` has DatetimeIndex index but no frequency. Index is overwritten with a RangeIndex of step 1.\n",
      "  warnings.warn(\n",
      "/Library/Frameworks/Python.framework/Versions/3.11/lib/python3.11/site-packages/skforecast/utils/utils.py:805: UserWarning: `y` has DatetimeIndex index but no frequency. Index is overwritten with a RangeIndex of step 1.\n",
      "  warnings.warn(\n",
      "/Library/Frameworks/Python.framework/Versions/3.11/lib/python3.11/site-packages/skforecast/utils/utils.py:867: UserWarning: `last_window` has DatetimeIndex index but no frequency. Index is overwritten with a RangeIndex of step 1.\n",
      "  warnings.warn(\n",
      "/Library/Frameworks/Python.framework/Versions/3.11/lib/python3.11/site-packages/skforecast/utils/utils.py:805: UserWarning: `y` has DatetimeIndex index but no frequency. Index is overwritten with a RangeIndex of step 1.\n",
      "  warnings.warn(\n",
      "/Library/Frameworks/Python.framework/Versions/3.11/lib/python3.11/site-packages/skforecast/utils/utils.py:805: UserWarning: `y` has DatetimeIndex index but no frequency. Index is overwritten with a RangeIndex of step 1.\n",
      "  warnings.warn(\n",
      "/Library/Frameworks/Python.framework/Versions/3.11/lib/python3.11/site-packages/skforecast/utils/utils.py:867: UserWarning: `last_window` has DatetimeIndex index but no frequency. Index is overwritten with a RangeIndex of step 1.\n",
      "  warnings.warn(\n",
      "/Library/Frameworks/Python.framework/Versions/3.11/lib/python3.11/site-packages/skforecast/utils/utils.py:805: UserWarning: `y` has DatetimeIndex index but no frequency. Index is overwritten with a RangeIndex of step 1.\n",
      "  warnings.warn(\n",
      "/Library/Frameworks/Python.framework/Versions/3.11/lib/python3.11/site-packages/skforecast/utils/utils.py:805: UserWarning: `y` has DatetimeIndex index but no frequency. Index is overwritten with a RangeIndex of step 1.\n",
      "  warnings.warn(\n",
      "/Library/Frameworks/Python.framework/Versions/3.11/lib/python3.11/site-packages/skforecast/utils/utils.py:867: UserWarning: `last_window` has DatetimeIndex index but no frequency. Index is overwritten with a RangeIndex of step 1.\n",
      "  warnings.warn(\n",
      "/Library/Frameworks/Python.framework/Versions/3.11/lib/python3.11/site-packages/skforecast/utils/utils.py:805: UserWarning: `y` has DatetimeIndex index but no frequency. Index is overwritten with a RangeIndex of step 1.\n",
      "  warnings.warn(\n",
      "/Library/Frameworks/Python.framework/Versions/3.11/lib/python3.11/site-packages/skforecast/utils/utils.py:805: UserWarning: `y` has DatetimeIndex index but no frequency. Index is overwritten with a RangeIndex of step 1.\n",
      "  warnings.warn(\n",
      "/Library/Frameworks/Python.framework/Versions/3.11/lib/python3.11/site-packages/skforecast/utils/utils.py:867: UserWarning: `last_window` has DatetimeIndex index but no frequency. Index is overwritten with a RangeIndex of step 1.\n",
      "  warnings.warn(\n",
      "/Library/Frameworks/Python.framework/Versions/3.11/lib/python3.11/site-packages/skforecast/utils/utils.py:805: UserWarning: `y` has DatetimeIndex index but no frequency. Index is overwritten with a RangeIndex of step 1.\n",
      "  warnings.warn(\n",
      "/Library/Frameworks/Python.framework/Versions/3.11/lib/python3.11/site-packages/skforecast/utils/utils.py:805: UserWarning: `y` has DatetimeIndex index but no frequency. Index is overwritten with a RangeIndex of step 1.\n",
      "  warnings.warn(\n",
      "/Library/Frameworks/Python.framework/Versions/3.11/lib/python3.11/site-packages/skforecast/utils/utils.py:867: UserWarning: `last_window` has DatetimeIndex index but no frequency. Index is overwritten with a RangeIndex of step 1.\n",
      "  warnings.warn(\n",
      "/Library/Frameworks/Python.framework/Versions/3.11/lib/python3.11/site-packages/skforecast/utils/utils.py:805: UserWarning: `y` has DatetimeIndex index but no frequency. Index is overwritten with a RangeIndex of step 1.\n",
      "  warnings.warn(\n",
      "/Library/Frameworks/Python.framework/Versions/3.11/lib/python3.11/site-packages/skforecast/utils/utils.py:805: UserWarning: `y` has DatetimeIndex index but no frequency. Index is overwritten with a RangeIndex of step 1.\n",
      "  warnings.warn(\n",
      "/Library/Frameworks/Python.framework/Versions/3.11/lib/python3.11/site-packages/skforecast/utils/utils.py:867: UserWarning: `last_window` has DatetimeIndex index but no frequency. Index is overwritten with a RangeIndex of step 1.\n",
      "  warnings.warn(\n",
      "/Library/Frameworks/Python.framework/Versions/3.11/lib/python3.11/site-packages/skforecast/utils/utils.py:805: UserWarning: `y` has DatetimeIndex index but no frequency. Index is overwritten with a RangeIndex of step 1.\n",
      "  warnings.warn(\n",
      "/Library/Frameworks/Python.framework/Versions/3.11/lib/python3.11/site-packages/skforecast/utils/utils.py:805: UserWarning: `y` has DatetimeIndex index but no frequency. Index is overwritten with a RangeIndex of step 1.\n",
      "  warnings.warn(\n",
      "/Library/Frameworks/Python.framework/Versions/3.11/lib/python3.11/site-packages/skforecast/utils/utils.py:867: UserWarning: `last_window` has DatetimeIndex index but no frequency. Index is overwritten with a RangeIndex of step 1.\n",
      "  warnings.warn(\n",
      "/Library/Frameworks/Python.framework/Versions/3.11/lib/python3.11/site-packages/skforecast/utils/utils.py:805: UserWarning: `y` has DatetimeIndex index but no frequency. Index is overwritten with a RangeIndex of step 1.\n",
      "  warnings.warn(\n",
      "/Library/Frameworks/Python.framework/Versions/3.11/lib/python3.11/site-packages/skforecast/utils/utils.py:805: UserWarning: `y` has DatetimeIndex index but no frequency. Index is overwritten with a RangeIndex of step 1.\n",
      "  warnings.warn(\n",
      "/Library/Frameworks/Python.framework/Versions/3.11/lib/python3.11/site-packages/skforecast/utils/utils.py:867: UserWarning: `last_window` has DatetimeIndex index but no frequency. Index is overwritten with a RangeIndex of step 1.\n",
      "  warnings.warn(\n",
      "/Library/Frameworks/Python.framework/Versions/3.11/lib/python3.11/site-packages/skforecast/utils/utils.py:805: UserWarning: `y` has DatetimeIndex index but no frequency. Index is overwritten with a RangeIndex of step 1.\n",
      "  warnings.warn(\n",
      "/Library/Frameworks/Python.framework/Versions/3.11/lib/python3.11/site-packages/skforecast/utils/utils.py:805: UserWarning: `y` has DatetimeIndex index but no frequency. Index is overwritten with a RangeIndex of step 1.\n",
      "  warnings.warn(\n",
      "/Library/Frameworks/Python.framework/Versions/3.11/lib/python3.11/site-packages/skforecast/utils/utils.py:867: UserWarning: `last_window` has DatetimeIndex index but no frequency. Index is overwritten with a RangeIndex of step 1.\n",
      "  warnings.warn(\n",
      "/Library/Frameworks/Python.framework/Versions/3.11/lib/python3.11/site-packages/skforecast/utils/utils.py:805: UserWarning: `y` has DatetimeIndex index but no frequency. Index is overwritten with a RangeIndex of step 1.\n",
      "  warnings.warn(\n",
      "/Library/Frameworks/Python.framework/Versions/3.11/lib/python3.11/site-packages/skforecast/utils/utils.py:805: UserWarning: `y` has DatetimeIndex index but no frequency. Index is overwritten with a RangeIndex of step 1.\n",
      "  warnings.warn(\n",
      "/Library/Frameworks/Python.framework/Versions/3.11/lib/python3.11/site-packages/skforecast/utils/utils.py:867: UserWarning: `last_window` has DatetimeIndex index but no frequency. Index is overwritten with a RangeIndex of step 1.\n",
      "  warnings.warn(\n",
      "/Library/Frameworks/Python.framework/Versions/3.11/lib/python3.11/site-packages/skforecast/utils/utils.py:805: UserWarning: `y` has DatetimeIndex index but no frequency. Index is overwritten with a RangeIndex of step 1.\n",
      "  warnings.warn(\n",
      "/Library/Frameworks/Python.framework/Versions/3.11/lib/python3.11/site-packages/skforecast/utils/utils.py:805: UserWarning: `y` has DatetimeIndex index but no frequency. Index is overwritten with a RangeIndex of step 1.\n",
      "  warnings.warn(\n",
      "/Library/Frameworks/Python.framework/Versions/3.11/lib/python3.11/site-packages/skforecast/utils/utils.py:867: UserWarning: `last_window` has DatetimeIndex index but no frequency. Index is overwritten with a RangeIndex of step 1.\n",
      "  warnings.warn(\n",
      "/Library/Frameworks/Python.framework/Versions/3.11/lib/python3.11/site-packages/skforecast/utils/utils.py:805: UserWarning: `y` has DatetimeIndex index but no frequency. Index is overwritten with a RangeIndex of step 1.\n",
      "  warnings.warn(\n",
      "/Library/Frameworks/Python.framework/Versions/3.11/lib/python3.11/site-packages/skforecast/utils/utils.py:805: UserWarning: `y` has DatetimeIndex index but no frequency. Index is overwritten with a RangeIndex of step 1.\n",
      "  warnings.warn(\n",
      "/Library/Frameworks/Python.framework/Versions/3.11/lib/python3.11/site-packages/skforecast/utils/utils.py:867: UserWarning: `last_window` has DatetimeIndex index but no frequency. Index is overwritten with a RangeIndex of step 1.\n",
      "  warnings.warn(\n",
      "/Library/Frameworks/Python.framework/Versions/3.11/lib/python3.11/site-packages/skforecast/utils/utils.py:805: UserWarning: `y` has DatetimeIndex index but no frequency. Index is overwritten with a RangeIndex of step 1.\n",
      "  warnings.warn(\n",
      "/Library/Frameworks/Python.framework/Versions/3.11/lib/python3.11/site-packages/skforecast/utils/utils.py:805: UserWarning: `y` has DatetimeIndex index but no frequency. Index is overwritten with a RangeIndex of step 1.\n",
      "  warnings.warn(\n",
      "/Library/Frameworks/Python.framework/Versions/3.11/lib/python3.11/site-packages/skforecast/utils/utils.py:867: UserWarning: `last_window` has DatetimeIndex index but no frequency. Index is overwritten with a RangeIndex of step 1.\n",
      "  warnings.warn(\n",
      "/Library/Frameworks/Python.framework/Versions/3.11/lib/python3.11/site-packages/skforecast/utils/utils.py:805: UserWarning: `y` has DatetimeIndex index but no frequency. Index is overwritten with a RangeIndex of step 1.\n",
      "  warnings.warn(\n",
      "/Library/Frameworks/Python.framework/Versions/3.11/lib/python3.11/site-packages/skforecast/utils/utils.py:805: UserWarning: `y` has DatetimeIndex index but no frequency. Index is overwritten with a RangeIndex of step 1.\n",
      "  warnings.warn(\n",
      "/Library/Frameworks/Python.framework/Versions/3.11/lib/python3.11/site-packages/skforecast/utils/utils.py:867: UserWarning: `last_window` has DatetimeIndex index but no frequency. Index is overwritten with a RangeIndex of step 1.\n",
      "  warnings.warn(\n",
      "/Library/Frameworks/Python.framework/Versions/3.11/lib/python3.11/site-packages/skforecast/utils/utils.py:805: UserWarning: `y` has DatetimeIndex index but no frequency. Index is overwritten with a RangeIndex of step 1.\n",
      "  warnings.warn(\n",
      "/Library/Frameworks/Python.framework/Versions/3.11/lib/python3.11/site-packages/skforecast/utils/utils.py:805: UserWarning: `y` has DatetimeIndex index but no frequency. Index is overwritten with a RangeIndex of step 1.\n",
      "  warnings.warn(\n",
      "/Library/Frameworks/Python.framework/Versions/3.11/lib/python3.11/site-packages/skforecast/utils/utils.py:867: UserWarning: `last_window` has DatetimeIndex index but no frequency. Index is overwritten with a RangeIndex of step 1.\n",
      "  warnings.warn(\n"
     ]
    },
    {
     "name": "stdout",
     "output_type": "stream",
     "text": [
      "MAE: 3.513\n",
      "ME: -1.704\n",
      "RMSE: 4.387\n",
      "Direction Accuracy: 0.625\n",
      "Decision Tree Static Forecast Accuracy of: wPreis in [\"['70', '71', '73', '74', '75', '76']\"] for ['A2 & A3 -  geschreddert']\n",
      "mae    :  6.6567\n",
      "me     :  -5.5195\n",
      "rmse   :  9.1155\n",
      "direction_accuracy :  0.7143\n",
      "Decision Tree Rolling forecast Accuracy of: wPreis in [\"['70', '71', '73', '74', '75', '76']\"] for ['A2 & A3 -  geschreddert']\n",
      "MAE: 4.325\n",
      "ME: 2.895\n",
      "RMSE: 4.507\n",
      "Direction Accuracy: 0.000\n",
      "Decision Tree Walk-forward forecast Accuracy of: wPreis in [\"['70', '71', '73', '74', '75', '76']\"] for ['A2 & A3 -  geschreddert']\n",
      "MAE: 7.734\n",
      "ME: 3.254\n",
      "RMSE: 8.839\n",
      "Direction Accuracy: 0.857\n",
      "Decision Tree Static Forecast Accuracy of: wPreis in [\"['50', '51', '52', '53']\"] for ['A2 & A3 -  geschreddert']\n",
      "mae    :  3.3426\n",
      "me     :  -1.991\n",
      "rmse   :  4.2557\n",
      "direction_accuracy :  0.25\n",
      "Decision Tree Rolling forecast Accuracy of: wPreis in [\"['50', '51', '52', '53']\"] for ['A2 & A3 -  geschreddert']\n",
      "MAE: 2.883\n",
      "ME: 2.540\n",
      "RMSE: 3.339\n",
      "Direction Accuracy: 0.000\n",
      "Decision Tree Walk-forward forecast Accuracy of: wPreis in [\"['50', '51', '52', '53']\"] for ['A2 & A3 -  geschreddert']\n",
      "MAE: 2.307\n",
      "ME: 0.089\n",
      "RMSE: 2.684\n",
      "Direction Accuracy: 0.625\n",
      "Decision Tree Static Forecast Accuracy of: wPreis in [\"['50', '51', '52', '53']\"] for ['A3 -  geschreddert']\n",
      "mae    :  2.6528\n",
      "me     :  -0.0418\n",
      "rmse   :  3.0179\n",
      "direction_accuracy :  0.375\n",
      "Decision Tree Rolling forecast Accuracy of: wPreis in [\"['50', '51', '52', '53']\"] for ['A3 -  geschreddert']\n",
      "MAE: 3.789\n",
      "ME: 3.456\n",
      "RMSE: 4.360\n",
      "Direction Accuracy: 0.000\n",
      "Decision Tree Walk-forward forecast Accuracy of: wPreis in [\"['50', '51', '52', '53']\"] for ['A3 -  geschreddert']\n",
      "MAE: 4.254\n",
      "ME: 1.852\n",
      "RMSE: 5.786\n",
      "Direction Accuracy: 0.125\n",
      "Decision Tree Static Forecast Accuracy of: wPreis in [\"['40', '41', '42', '44', '45', '46', '47']\"] for ['A2 & A3 -  ungeschreddert']\n",
      "mae    :  3.4318\n",
      "me     :  1.5166\n",
      "rmse   :  3.9788\n",
      "direction_accuracy :  0.125\n",
      "Decision Tree Rolling forecast Accuracy of: wPreis in [\"['40', '41', '42', '44', '45', '46', '47']\"] for ['A2 & A3 -  ungeschreddert']\n",
      "MAE: 2.070\n",
      "ME: 1.538\n",
      "RMSE: 2.299\n",
      "Direction Accuracy: 0.000\n",
      "Decision Tree Walk-forward forecast Accuracy of: wPreis in [\"['40', '41', '42', '44', '45', '46', '47']\"] for ['A2 & A3 -  ungeschreddert']\n",
      "MAE: 2.592\n",
      "ME: 1.460\n",
      "RMSE: 3.115\n",
      "Direction Accuracy: 0.500\n",
      "Decision Tree Static Forecast Accuracy of: wPreis in [\"['40', '41', '42', '44', '45', '46', '47']\"] for ['A1 & A2 -  ungeschreddert']\n",
      "mae    :  7.1063\n",
      "me     :  4.9301\n",
      "rmse   :  7.9857\n",
      "direction_accuracy :  0.2857\n",
      "Decision Tree Rolling forecast Accuracy of: wPreis in [\"['40', '41', '42', '44', '45', '46', '47']\"] for ['A1 & A2 -  ungeschreddert']\n",
      "MAE: 6.087\n",
      "ME: 0.098\n",
      "RMSE: 7.019\n",
      "Direction Accuracy: 0.000\n",
      "Decision Tree Walk-forward forecast Accuracy of: wPreis in [\"['40', '41', '42', '44', '45', '46', '47']\"] for ['A1 & A2 -  ungeschreddert']\n",
      "MAE: 5.891\n",
      "ME: -0.994\n",
      "RMSE: 7.734\n",
      "Direction Accuracy: 0.286\n",
      "Decision Tree Static Forecast Accuracy of: wPreis in [\"['40', '41', '42', '44', '45', '46', '47']\"] for ['A2 & A3 -  geschreddert']\n",
      "mae    :  11.2051\n",
      "me     :  11.2051\n",
      "rmse   :  12.4934\n",
      "direction_accuracy :  0.875\n",
      "Decision Tree Rolling forecast Accuracy of: wPreis in [\"['40', '41', '42', '44', '45', '46', '47']\"] for ['A2 & A3 -  geschreddert']\n",
      "MAE: 4.495\n",
      "ME: 2.209\n",
      "RMSE: 5.007\n",
      "Direction Accuracy: 0.000\n",
      "Decision Tree Walk-forward forecast Accuracy of: wPreis in [\"['40', '41', '42', '44', '45', '46', '47']\"] for ['A2 & A3 -  geschreddert']\n",
      "MAE: 3.313\n",
      "ME: 0.891\n",
      "RMSE: 4.182\n",
      "Direction Accuracy: 0.750\n",
      "Decision Tree Static Forecast Accuracy of: wPreis in [\"['40', '41', '42', '44', '45', '46', '47']\"] for ['A3 -  geschreddert']\n",
      "mae    :  3.8016\n",
      "me     :  1.2268\n",
      "rmse   :  4.3339\n",
      "direction_accuracy :  0.75\n",
      "Decision Tree Rolling forecast Accuracy of: wPreis in [\"['40', '41', '42', '44', '45', '46', '47']\"] for ['A3 -  geschreddert']\n",
      "MAE: 3.862\n",
      "ME: 3.035\n",
      "RMSE: 4.728\n",
      "Direction Accuracy: 0.000\n",
      "Decision Tree Walk-forward forecast Accuracy of: wPreis in [\"['40', '41', '42', '44', '45', '46', '47']\"] for ['A3 -  geschreddert']\n",
      "MAE: 2.774\n",
      "ME: -0.169\n",
      "RMSE: 3.276\n",
      "Direction Accuracy: 0.750\n",
      "Decision Tree Static Forecast Accuracy of: wPreis in [\"['40', '41', '42', '44', '45', '46', '47']\"] for ['A1 & A2 -  geschreddert']\n",
      "mae    :  5.6484\n",
      "me     :  -2.8355\n",
      "rmse   :  6.3477\n",
      "direction_accuracy :  0.75\n",
      "Decision Tree Rolling forecast Accuracy of: wPreis in [\"['40', '41', '42', '44', '45', '46', '47']\"] for ['A1 & A2 -  geschreddert']\n",
      "MAE: 6.342\n",
      "ME: 1.597\n",
      "RMSE: 8.345\n",
      "Direction Accuracy: 0.000\n",
      "Decision Tree Walk-forward forecast Accuracy of: wPreis in [\"['40', '41', '42', '44', '45', '46', '47']\"] for ['A1 & A2 -  geschreddert']\n",
      "MAE: 5.164\n",
      "ME: -1.237\n",
      "RMSE: 7.026\n",
      "Direction Accuracy: 0.375\n",
      "Decision Tree Static Forecast Accuracy of: wPreis in [\"['40', '41', '42', '44', '45', '46', '47']\"] for ['A2 -  geschreddert']\n",
      "mae    :  8.3545\n",
      "me     :  -3.0121\n",
      "rmse   :  9.2305\n",
      "direction_accuracy :  0.4286\n",
      "Decision Tree Rolling forecast Accuracy of: wPreis in [\"['40', '41', '42', '44', '45', '46', '47']\"] for ['A2 -  geschreddert']\n",
      "MAE: 5.686\n",
      "ME: 0.599\n",
      "RMSE: 6.754\n",
      "Direction Accuracy: 0.400\n",
      "Decision Tree Walk-forward forecast Accuracy of: wPreis in [\"['40', '41', '42', '44', '45', '46', '47']\"] for ['A2 -  geschreddert']\n",
      "MAE: 6.296\n",
      "ME: -1.334\n",
      "RMSE: 6.998\n",
      "Direction Accuracy: 0.571\n",
      "Decision Tree Static Forecast Accuracy of: wPreis in [\"['26', '27', '28']\"] for ['A2 -  geschreddert']\n",
      "mae    :  4.0726\n",
      "me     :  2.4894\n",
      "rmse   :  6.2007\n",
      "direction_accuracy :  0.5\n",
      "Decision Tree Rolling forecast Accuracy of: wPreis in [\"['26', '27', '28']\"] for ['A2 -  geschreddert']\n",
      "MAE: 4.302\n",
      "ME: 0.285\n",
      "RMSE: 4.713\n",
      "Direction Accuracy: 0.000\n",
      "Decision Tree Walk-forward forecast Accuracy of: wPreis in [\"['26', '27', '28']\"] for ['A2 -  geschreddert']\n",
      "MAE: 5.092\n",
      "ME: 0.009\n",
      "RMSE: 6.808\n",
      "Direction Accuracy: 0.500\n",
      "Decision Tree Static Forecast Accuracy of: wPreis in [\"['26', '27', '28']\"] for ['A3 -  geschreddert']\n",
      "mae    :  4.0024\n",
      "me     :  2.5091\n",
      "rmse   :  4.4585\n",
      "direction_accuracy :  0.25\n",
      "Decision Tree Rolling forecast Accuracy of: wPreis in [\"['26', '27', '28']\"] for ['A3 -  geschreddert']\n",
      "MAE: 6.720\n",
      "ME: 6.720\n",
      "RMSE: 7.402\n",
      "Direction Accuracy: 0.200\n",
      "Decision Tree Walk-forward forecast Accuracy of: wPreis in [\"['26', '27', '28']\"] for ['A3 -  geschreddert']\n",
      "MAE: 3.855\n",
      "ME: 1.865\n",
      "RMSE: 4.757\n",
      "Direction Accuracy: 0.000\n",
      "Decision Tree Static Forecast Accuracy of: wPreis in [\"['26', '27', '28']\"] for ['A1 & A2 -  geschreddert']\n",
      "mae    :  9.0\n",
      "me     :  7.4507\n",
      "rmse   :  14.4452\n",
      "direction_accuracy :  0.7143\n",
      "Decision Tree Rolling forecast Accuracy of: wPreis in [\"['26', '27', '28']\"] for ['A1 & A2 -  geschreddert']\n",
      "MAE: 6.954\n",
      "ME: 0.525\n",
      "RMSE: 8.941\n",
      "Direction Accuracy: 0.200\n",
      "Decision Tree Walk-forward forecast Accuracy of: wPreis in [\"['26', '27', '28']\"] for ['A1 & A2 -  geschreddert']\n",
      "MAE: 6.687\n",
      "ME: -2.272\n",
      "RMSE: 9.252\n",
      "Direction Accuracy: 0.286\n",
      "Decision Tree Static Forecast Accuracy of: wPreis in [\"['26', '27', '28']\"] for ['A2 & A3 -  geschreddert']\n",
      "mae    :  3.7042\n",
      "me     :  -3.6832\n",
      "rmse   :  4.5396\n",
      "direction_accuracy :  0.0\n",
      "Decision Tree Rolling forecast Accuracy of: wPreis in [\"['26', '27', '28']\"] for ['A2 & A3 -  geschreddert']\n",
      "MAE: 5.084\n",
      "ME: 0.818\n",
      "RMSE: 6.010\n",
      "Direction Accuracy: 0.200\n",
      "Decision Tree Walk-forward forecast Accuracy of: wPreis in [\"['26', '27', '28']\"] for ['A2 & A3 -  geschreddert']\n",
      "MAE: 3.333\n",
      "ME: -0.728\n",
      "RMSE: 4.992\n",
      "Direction Accuracy: 0.500\n",
      "Decision Tree Static Forecast Accuracy of: wPreis in [\"['48', '49']\"] for ['A2 & A3 -  ungeschreddert']\n",
      "mae    :  3.3688\n",
      "me     :  -2.6321\n",
      "rmse   :  4.6111\n",
      "direction_accuracy :  0.2857\n",
      "Decision Tree Rolling forecast Accuracy of: wPreis in [\"['48', '49']\"] for ['A2 & A3 -  ungeschreddert']\n",
      "MAE: 4.296\n",
      "ME: -4.296\n",
      "RMSE: 4.559\n",
      "Direction Accuracy: 0.000\n",
      "Decision Tree Walk-forward forecast Accuracy of: wPreis in [\"['48', '49']\"] for ['A2 & A3 -  ungeschreddert']\n",
      "MAE: 3.048\n",
      "ME: -0.056\n",
      "RMSE: 4.332\n",
      "Direction Accuracy: 0.571\n",
      "Decision Tree Static Forecast Accuracy of: wPreis in [\"['48', '49']\"] for ['A3 -  ungeschreddert']\n",
      "mae    :  5.3046\n",
      "me     :  -5.1383\n",
      "rmse   :  6.7764\n",
      "direction_accuracy :  0.7143\n",
      "Decision Tree Rolling forecast Accuracy of: wPreis in [\"['48', '49']\"] for ['A3 -  ungeschreddert']\n",
      "MAE: 4.902\n",
      "ME: -4.902\n",
      "RMSE: 5.129\n",
      "Direction Accuracy: 0.000\n",
      "Decision Tree Walk-forward forecast Accuracy of: wPreis in [\"['48', '49']\"] for ['A3 -  ungeschreddert']\n",
      "MAE: 4.250\n",
      "ME: -0.684\n",
      "RMSE: 5.558\n",
      "Direction Accuracy: 0.429\n",
      "Decision Tree Static Forecast Accuracy of: wPreis in [\"['48', '49']\"] for ['A2 & A3 -  geschreddert']\n",
      "mae    :  6.5501\n",
      "me     :  3.3828\n",
      "rmse   :  7.2874\n",
      "direction_accuracy :  0.75\n",
      "Decision Tree Rolling forecast Accuracy of: wPreis in [\"['48', '49']\"] for ['A2 & A3 -  geschreddert']\n",
      "MAE: 14.020\n",
      "ME: -0.524\n",
      "RMSE: 15.364\n",
      "Direction Accuracy: 0.000\n",
      "Decision Tree Walk-forward forecast Accuracy of: wPreis in [\"['48', '49']\"] for ['A2 & A3 -  geschreddert']\n",
      "MAE: 13.507\n",
      "ME: 1.802\n",
      "RMSE: 15.224\n",
      "Direction Accuracy: 0.250\n",
      "Decision Tree Static Forecast Accuracy of: wPreis in [\"['48', '49']\"] for ['A1 & A2 -  geschreddert']\n",
      "mae    :  7.8906\n",
      "me     :  -1.0646\n",
      "rmse   :  9.3931\n",
      "direction_accuracy :  0.5\n",
      "Decision Tree Rolling forecast Accuracy of: wPreis in [\"['48', '49']\"] for ['A1 & A2 -  geschreddert']\n",
      "MAE: 5.180\n",
      "ME: -0.872\n",
      "RMSE: 6.662\n",
      "Direction Accuracy: 0.000\n",
      "Decision Tree Walk-forward forecast Accuracy of: wPreis in [\"['48', '49']\"] for ['A1 & A2 -  geschreddert']\n",
      "MAE: 7.298\n",
      "ME: 1.061\n",
      "RMSE: 10.857\n",
      "Direction Accuracy: 0.667\n",
      "Decision Tree Static Forecast Accuracy of: wPreis in [\"['48', '49']\"] for ['A3 -  geschreddert']\n",
      "mae    :  12.1836\n",
      "me     :  -0.6752\n",
      "rmse   :  12.7758\n",
      "direction_accuracy :  0.375\n",
      "Decision Tree Rolling forecast Accuracy of: wPreis in [\"['48', '49']\"] for ['A3 -  geschreddert']\n",
      "MAE: 12.268\n",
      "ME: 2.263\n",
      "RMSE: 13.571\n",
      "Direction Accuracy: 0.200\n",
      "Decision Tree Walk-forward forecast Accuracy of: wPreis in [\"['48', '49']\"] for ['A3 -  geschreddert']\n",
      "MAE: 11.739\n",
      "ME: 1.172\n",
      "RMSE: 12.706\n",
      "Direction Accuracy: 0.500\n",
      "Decision Tree Static Forecast Accuracy of: wPreis in [\"['20', '21', '22', '23']\"] for ['A2 -  geschreddert']\n",
      "mae    :  2.8662\n",
      "me     :  -1.9915\n",
      "rmse   :  3.3075\n",
      "direction_accuracy :  0.75\n",
      "Decision Tree Rolling forecast Accuracy of: wPreis in [\"['20', '21', '22', '23']\"] for ['A2 -  geschreddert']\n",
      "MAE: 2.864\n",
      "ME: 1.998\n",
      "RMSE: 3.144\n",
      "Direction Accuracy: 0.000\n",
      "Decision Tree Walk-forward forecast Accuracy of: wPreis in [\"['20', '21', '22', '23']\"] for ['A2 -  geschreddert']\n",
      "MAE: 4.397\n",
      "ME: 1.345\n",
      "RMSE: 5.321\n",
      "Direction Accuracy: 0.375\n",
      "Decision Tree Static Forecast Accuracy of: wPreis in [\"['20', '21', '22', '23']\"] for ['A1 & A2 -  geschreddert']\n",
      "mae    :  5.5114\n",
      "me     :  -4.6653\n",
      "rmse   :  6.2591\n",
      "direction_accuracy :  0.75\n",
      "Decision Tree Rolling forecast Accuracy of: wPreis in [\"['20', '21', '22', '23']\"] for ['A1 & A2 -  geschreddert']\n",
      "MAE: 5.088\n",
      "ME: 4.012\n",
      "RMSE: 5.932\n",
      "Direction Accuracy: 0.200\n",
      "Decision Tree Walk-forward forecast Accuracy of: wPreis in [\"['20', '21', '22', '23']\"] for ['A1 & A2 -  geschreddert']\n",
      "MAE: 3.295\n",
      "ME: -0.267\n",
      "RMSE: 3.985\n",
      "Direction Accuracy: 0.500\n",
      "Decision Tree Static Forecast Accuracy of: wPreis in [\"['20', '21', '22', '23']\"] for ['A2 & A3 -  geschreddert']\n",
      "mae    :  6.2407\n",
      "me     :  -6.2407\n",
      "rmse   :  6.6465\n",
      "direction_accuracy :  0.375\n",
      "Decision Tree Rolling forecast Accuracy of: wPreis in [\"['20', '21', '22', '23']\"] for ['A2 & A3 -  geschreddert']\n",
      "MAE: 2.635\n",
      "ME: 1.655\n",
      "RMSE: 2.938\n",
      "Direction Accuracy: 0.000\n",
      "Decision Tree Walk-forward forecast Accuracy of: wPreis in [\"['20', '21', '22', '23']\"] for ['A2 & A3 -  geschreddert']\n",
      "MAE: 2.980\n",
      "ME: -1.234\n",
      "RMSE: 3.904\n",
      "Direction Accuracy: 0.500\n",
      "Decision Tree Static Forecast Accuracy of: wPreis in [\"['10', '11', '12', '13', '14', '15', '16']\"] for ['A2 & A3 -  geschreddert']\n",
      "mae    :  21.3869\n",
      "me     :  21.047\n",
      "rmse   :  28.8412\n",
      "direction_accuracy :  0.2857\n",
      "Decision Tree Rolling forecast Accuracy of: wPreis in [\"['10', '11', '12', '13', '14', '15', '16']\"] for ['A2 & A3 -  geschreddert']\n",
      "MAE: 17.097\n",
      "ME: 13.798\n",
      "RMSE: 19.103\n",
      "Direction Accuracy: 0.000\n",
      "Decision Tree Walk-forward forecast Accuracy of: wPreis in [\"['10', '11', '12', '13', '14', '15', '16']\"] for ['A2 & A3 -  geschreddert']\n",
      "MAE: 13.291\n",
      "ME: 12.951\n",
      "RMSE: 17.480\n",
      "Direction Accuracy: 0.143\n",
      "Decision Tree Static Forecast Accuracy of: wPreis in [\"['10', '11', '12', '13', '14', '15', '16']\"] for ['A1 & A2 -  geschreddert']\n",
      "mae    :  15.4098\n",
      "me     :  12.6861\n",
      "rmse   :  18.5825\n",
      "direction_accuracy :  0.375\n",
      "Decision Tree Rolling forecast Accuracy of: wPreis in [\"['10', '11', '12', '13', '14', '15', '16']\"] for ['A1 & A2 -  geschreddert']\n",
      "MAE: 9.800\n",
      "ME: 9.800\n",
      "RMSE: 12.409\n",
      "Direction Accuracy: 0.000\n",
      "Decision Tree Walk-forward forecast Accuracy of: wPreis in [\"['10', '11', '12', '13', '14', '15', '16']\"] for ['A1 & A2 -  geschreddert']\n",
      "MAE: 9.100\n",
      "ME: 5.127\n",
      "RMSE: 12.058\n",
      "Direction Accuracy: 0.250\n"
     ]
    },
    {
     "name": "stderr",
     "output_type": "stream",
     "text": [
      "/Library/Frameworks/Python.framework/Versions/3.11/lib/python3.11/site-packages/skforecast/utils/utils.py:805: UserWarning: `y` has DatetimeIndex index but no frequency. Index is overwritten with a RangeIndex of step 1.\n",
      "  warnings.warn(\n",
      "/Library/Frameworks/Python.framework/Versions/3.11/lib/python3.11/site-packages/skforecast/utils/utils.py:805: UserWarning: `y` has DatetimeIndex index but no frequency. Index is overwritten with a RangeIndex of step 1.\n",
      "  warnings.warn(\n",
      "/Library/Frameworks/Python.framework/Versions/3.11/lib/python3.11/site-packages/skforecast/utils/utils.py:867: UserWarning: `last_window` has DatetimeIndex index but no frequency. Index is overwritten with a RangeIndex of step 1.\n",
      "  warnings.warn(\n",
      "/Library/Frameworks/Python.framework/Versions/3.11/lib/python3.11/site-packages/skforecast/utils/utils.py:805: UserWarning: `y` has DatetimeIndex index but no frequency. Index is overwritten with a RangeIndex of step 1.\n",
      "  warnings.warn(\n",
      "/Library/Frameworks/Python.framework/Versions/3.11/lib/python3.11/site-packages/skforecast/utils/utils.py:805: UserWarning: `y` has DatetimeIndex index but no frequency. Index is overwritten with a RangeIndex of step 1.\n",
      "  warnings.warn(\n",
      "/Library/Frameworks/Python.framework/Versions/3.11/lib/python3.11/site-packages/skforecast/utils/utils.py:867: UserWarning: `last_window` has DatetimeIndex index but no frequency. Index is overwritten with a RangeIndex of step 1.\n",
      "  warnings.warn(\n",
      "/Library/Frameworks/Python.framework/Versions/3.11/lib/python3.11/site-packages/skforecast/utils/utils.py:805: UserWarning: `y` has DatetimeIndex index but no frequency. Index is overwritten with a RangeIndex of step 1.\n",
      "  warnings.warn(\n"
     ]
    },
    {
     "name": "stdout",
     "output_type": "stream",
     "text": [
      "Decision Tree Static Forecast Accuracy of: wPreis in [\"['10', '11', '12', '13', '14', '15', '16']\"] for ['A2 -  geschreddert']\n",
      "mae    :  10.1319\n",
      "me     :  6.7405\n",
      "rmse   :  11.8655\n",
      "direction_accuracy :  0.4286\n",
      "Decision Tree Rolling forecast Accuracy of: wPreis in [\"['10', '11', '12', '13', '14', '15', '16']\"] for ['A2 -  geschreddert']\n",
      "MAE: 13.178\n",
      "ME: 11.772\n",
      "RMSE: 15.172\n",
      "Direction Accuracy: 0.000\n",
      "Decision Tree Walk-forward forecast Accuracy of: wPreis in [\"['10', '11', '12', '13', '14', '15', '16']\"] for ['A2 -  geschreddert']\n",
      "MAE: 7.647\n",
      "ME: 4.027\n",
      "RMSE: 11.585\n",
      "Direction Accuracy: 0.571\n",
      "Decision Tree Static Forecast Accuracy of: wPreis in [\"['29', '30', '31', '38', '39']\"] for ['A2 & A3 -  geschreddert']\n",
      "mae    :  5.5431\n",
      "me     :  -1.1921\n",
      "rmse   :  6.8831\n",
      "direction_accuracy :  0.25\n",
      "Decision Tree Rolling forecast Accuracy of: wPreis in [\"['29', '30', '31', '38', '39']\"] for ['A2 & A3 -  geschreddert']\n",
      "MAE: 5.422\n",
      "ME: 4.858\n",
      "RMSE: 7.085\n",
      "Direction Accuracy: 0.000\n",
      "Decision Tree Walk-forward forecast Accuracy of: wPreis in [\"['29', '30', '31', '38', '39']\"] for ['A2 & A3 -  geschreddert']\n",
      "MAE: 5.436\n",
      "ME: 3.494\n",
      "RMSE: 6.223\n",
      "Direction Accuracy: 0.500\n",
      "Decision Tree Static Forecast Accuracy of: wPreis in [\"['29', '30', '31', '38', '39']\"] for ['A1 & A2 -  geschreddert']\n",
      "mae    :  5.5165\n",
      "me     :  4.0829\n",
      "rmse   :  6.84\n",
      "direction_accuracy :  1.0\n",
      "Decision Tree Rolling forecast Accuracy of: wPreis in [\"['29', '30', '31', '38', '39']\"] for ['A1 & A2 -  geschreddert']\n",
      "MAE: 6.674\n",
      "ME: 3.585\n",
      "RMSE: 8.084\n",
      "Direction Accuracy: 0.000\n",
      "Decision Tree Walk-forward forecast Accuracy of: wPreis in [\"['29', '30', '31', '38', '39']\"] for ['A1 & A2 -  geschreddert']\n",
      "MAE: 8.527\n",
      "ME: -0.718\n",
      "RMSE: 11.097\n",
      "Direction Accuracy: 0.125\n",
      "Decision Tree Static Forecast Accuracy of: wPreis in [\"['29', '30', '31', '38', '39']\"] for ['A2 -  geschreddert']\n",
      "mae    :  10.4981\n",
      "me     :  5.8671\n",
      "rmse   :  12.7944\n",
      "direction_accuracy :  0.375\n",
      "Decision Tree Rolling forecast Accuracy of: wPreis in [\"['29', '30', '31', '38', '39']\"] for ['A2 -  geschreddert']\n",
      "MAE: 6.069\n",
      "ME: 0.587\n",
      "RMSE: 7.297\n",
      "Direction Accuracy: 0.000\n",
      "Decision Tree Walk-forward forecast Accuracy of: wPreis in [\"['29', '30', '31', '38', '39']\"] for ['A2 -  geschreddert']\n",
      "MAE: 6.111\n",
      "ME: 0.767\n",
      "RMSE: 7.586\n",
      "Direction Accuracy: 0.375\n"
     ]
    },
    {
     "name": "stderr",
     "output_type": "stream",
     "text": [
      "/Library/Frameworks/Python.framework/Versions/3.11/lib/python3.11/site-packages/skforecast/utils/utils.py:805: UserWarning: `y` has DatetimeIndex index but no frequency. Index is overwritten with a RangeIndex of step 1.\n",
      "  warnings.warn(\n",
      "/Library/Frameworks/Python.framework/Versions/3.11/lib/python3.11/site-packages/skforecast/utils/utils.py:867: UserWarning: `last_window` has DatetimeIndex index but no frequency. Index is overwritten with a RangeIndex of step 1.\n",
      "  warnings.warn(\n",
      "/Library/Frameworks/Python.framework/Versions/3.11/lib/python3.11/site-packages/skforecast/utils/utils.py:805: UserWarning: `y` has DatetimeIndex index but no frequency. Index is overwritten with a RangeIndex of step 1.\n",
      "  warnings.warn(\n",
      "/Library/Frameworks/Python.framework/Versions/3.11/lib/python3.11/site-packages/skforecast/utils/utils.py:805: UserWarning: `y` has DatetimeIndex index but no frequency. Index is overwritten with a RangeIndex of step 1.\n",
      "  warnings.warn(\n",
      "/Library/Frameworks/Python.framework/Versions/3.11/lib/python3.11/site-packages/skforecast/utils/utils.py:867: UserWarning: `last_window` has DatetimeIndex index but no frequency. Index is overwritten with a RangeIndex of step 1.\n",
      "  warnings.warn(\n"
     ]
    }
   ],
   "source": [
    "# datasets = [TS1_A2, TS1_A1A2, TS1_A2A3]\n",
    "# Loop through each category\n",
    "for dataset in datasets:\n",
    "    static_forecast(dataset)\n",
    "    rolling_forecast(dataset)\n",
    "    wf_forecast(dataset)\n"
   ]
  }
 ],
 "metadata": {
  "kernelspec": {
   "display_name": "Python 3",
   "language": "python",
   "name": "python3"
  },
  "language_info": {
   "codemirror_mode": {
    "name": "ipython",
    "version": 3
   },
   "file_extension": ".py",
   "mimetype": "text/x-python",
   "name": "python",
   "nbconvert_exporter": "python",
   "pygments_lexer": "ipython3",
   "version": "3.11.2"
  },
  "orig_nbformat": 4
 },
 "nbformat": 4,
 "nbformat_minor": 2
}
